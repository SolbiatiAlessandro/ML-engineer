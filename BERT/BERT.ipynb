{
 "cells": [
  {
   "cell_type": "code",
   "execution_count": 1,
   "id": "1f5c225d-637d-42bb-b4a9-098bd27cb486",
   "metadata": {
    "tags": []
   },
   "outputs": [
    {
     "name": "stdout",
     "output_type": "stream",
     "text": [
      "--2025-02-22 04:09:17--  https://raw.githubusercontent.com/karpathy/char-rnn/master/data/tinyshakespeare/input.txt\n",
      "Resolving raw.githubusercontent.com (raw.githubusercontent.com)... 185.199.109.133, 185.199.111.133, 185.199.108.133, ...\n",
      "Connecting to raw.githubusercontent.com (raw.githubusercontent.com)|185.199.109.133|:443... connected.\n",
      "HTTP request sent, awaiting response... 200 OK\n",
      "Length: 1115394 (1.1M) [text/plain]\n",
      "Saving to: ‘input.txt’\n",
      "\n",
      "input.txt           100%[===================>]   1.06M  --.-KB/s    in 0.007s  \n",
      "\n",
      "2025-02-22 04:09:17 (146 MB/s) - ‘input.txt’ saved [1115394/1115394]\n",
      "\n"
     ]
    }
   ],
   "source": [
    "!wget https://raw.githubusercontent.com/karpathy/char-rnn/master/data/tinyshakespeare/input.txt"
   ]
  },
  {
   "cell_type": "code",
   "execution_count": 1,
   "id": "bf443f0c-36e2-4ec0-b591-897d434a881e",
   "metadata": {
    "tags": []
   },
   "outputs": [],
   "source": [
    "%load_ext autoreload\n",
    "%autoreload 2\n",
    "\n",
    "import sys\n",
    "import os\n",
    "\n",
    "# Assuming your notebook's working directory is set such that ../llm-tokenizer is reachable:\n",
    "tokenizer_dir = os.path.abspath(os.path.join(os.getcwd(), '../llm-tokenizer'))\n",
    "if tokenizer_dir not in sys.path:\n",
    "    sys.path.insert(0, tokenizer_dir)\n",
    "\n",
    "import BPETokenizer  # Now you should be able to import it"
   ]
  },
  {
   "cell_type": "code",
   "execution_count": 6,
   "id": "22820cf2-f6be-4a2b-84cb-d7dc0cd42490",
   "metadata": {
    "tags": []
   },
   "outputs": [
    {
     "name": "stdout",
     "output_type": "stream",
     "text": [
      "Current device index: 0\n",
      "Running on GPU: NVIDIA RTX A6000\n",
      "GPU properties:\n",
      "  - Compute Capability: 8.6\n",
      "  - Total Memory: 47.54 GB\n",
      "  - Multiprocessor Count: 84\n",
      "  - Max Threads per Multiprocessor: 1536\n"
     ]
    }
   ],
   "source": [
    "import torch\n",
    "import torch.nn.functional as F\n",
    "from random import random\n",
    "\n",
    "device = 'cuda' if torch.cuda.is_available else 'cpu'\n",
    "\n",
    "if torch.cuda.is_available():\n",
    "    current_device = torch.cuda.current_device()\n",
    "    device_name = torch.cuda.get_device_name(current_device)\n",
    "    device_props = torch.cuda.get_device_properties(current_device)\n",
    "    memory_summary = torch.cuda.memory_summary(device=current_device, abbreviated=True)\n",
    "    \n",
    "    print(\"Current device index:\", current_device)\n",
    "    print(\"Running on GPU:\", device_name)\n",
    "    print(\"GPU properties:\")\n",
    "    print(\"  - Compute Capability:\", f\"{device_props.major}.{device_props.minor}\")\n",
    "    print(\"  - Total Memory:\", f\"{device_props.total_memory / (1024**3):.2f} GB\")\n",
    "    print(\"  - Multiprocessor Count:\", device_props.multi_processor_count)\n",
    "    print(\"  - Max Threads per Multiprocessor:\", device_props.max_threads_per_multi_processor)\n",
    "else:\n",
    "    print(\"CUDA is not available, running on CPU.\")"
   ]
  },
  {
   "cell_type": "markdown",
   "id": "dacea303-4d3d-429d-b2ab-bf2debdb5218",
   "metadata": {},
   "source": [
    "# Pretraining Data - GPT Data Loader"
   ]
  },
  {
   "cell_type": "code",
   "execution_count": 7,
   "id": "f9b04823-54d4-47dd-a2f3-fc99240d0f9a",
   "metadata": {
    "tags": []
   },
   "outputs": [],
   "source": [
    "class DataLoader:\n",
    "    \"\"\"next token prediction DataLoader used for GPT like models\"\"\"\n",
    "    def __init__(self, config):\n",
    "        \n",
    "        self.config = config\n",
    "\n",
    "        with open('input.txt', 'r') as f:\n",
    "            text = f.read()\n",
    "        len(text)\n",
    "\n",
    "        self.tokenizer = BPETokenizer.Tokenizer(text, encoding_vocab_size=2000, raw_tokens=False)\n",
    "        self.tokenizer.load_from_file()\n",
    "        encoded_dataset = self.tokenizer.encode(text, raw_tokens=False)\n",
    "        print(f\"max vocabulary size={max(encoded_dataset)}, compression ratio={len(encoded_dataset) / len(text)}\")\n",
    "        split = int(len(encoded_dataset) * 0.80)\n",
    "        self.train_data =  torch.tensor(encoded_dataset[:split])\n",
    "        self.val_data = torch.tensor(encoded_dataset[split+config.block_size:])\n",
    "        print(f\"train_data.shape={self.train_data.shape}, val_data.shape={self.val_data.shape}\")\n",
    "        \n",
    "        self.train_data_ix = 0\n",
    "        self.val_data_ix = 0\n",
    "        self.batch_step = self.config.batch_size * self.config.block_size \n",
    "        \n",
    "    def next_batch(self, mode=\"train\", device=device):\n",
    "        \"\"\" mode=[\"train\", \"eval\"] \"\"\"\n",
    "        if mode == \"train\":\n",
    "            x, y = self._next_batch_train()\n",
    "        else:\n",
    "            x, y = self._next_batch_eval()\n",
    "        if device:\n",
    "            return x.to(device), y.to(device)\n",
    "        return x, y\n",
    "    \n",
    "    def _next_batch_train(self):\n",
    "        \n",
    "        data = self.train_data\n",
    "        ix = int(random() * (len(data) - 2*self.batch_step))\n",
    "        \n",
    "        buf = data[ix:ix+self.batch_step + 1]     \n",
    "        x = buf[:-1].view(self.config.batch_size, self.config.block_size)\n",
    "        y = buf[1:].view(self.config.batch_size, self.config.block_size)\n",
    "        \n",
    "        self.train_data_ix += self.batch_step \n",
    "        if self.train_data_ix + self.batch_step + 1 > len(self.train_data):\n",
    "            self.train_data_ix = 0\n",
    "        \n",
    "        return x, y\n",
    "    \n",
    "    def _next_batch_eval(self):\n",
    "        \n",
    "        data = self.train_data\n",
    "        ix = int(random() * (len(data) - 2*self.batch_step))\n",
    "        \n",
    "        buf = data[ix:ix+self.batch_step + 1]     \n",
    "        x = buf[:-1].view(self.config.batch_size, self.config.block_size)\n",
    "        y = buf[1:].view(self.config.batch_size, self.config.block_size)\n",
    "        \n",
    "        self.val_data_ix += self.batch_step \n",
    "        if self.val_data_ix + self.batch_step + 1 > len(self.val_data):\n",
    "            self.val_data_ix = 0\n",
    "        \n",
    "        return x, y"
   ]
  },
  {
   "cell_type": "code",
   "execution_count": 8,
   "id": "72adc4f3-2640-4a05-9969-079806cbcb12",
   "metadata": {
    "tags": []
   },
   "outputs": [],
   "source": [
    "from dataclasses import dataclass\n",
    "\n",
    "@dataclass\n",
    "class BERTConfig:\n",
    "    BERT_batch_size = 6\n",
    "    batch_size = BERT_batch_size * 2\n",
    "    block_size = 5\n",
    "    \n",
    "config = BERTConfig"
   ]
  },
  {
   "cell_type": "code",
   "execution_count": 9,
   "id": "83c2b8ed-11e0-485e-9bcc-b28bcd8a0471",
   "metadata": {
    "tags": []
   },
   "outputs": [
    {
     "name": "stdout",
     "output_type": "stream",
     "text": [
      "max vocabulary size=2213, compression ratio=0.4458684554516162\n",
      "train_data.shape=torch.Size([397855]), val_data.shape=torch.Size([99459])\n"
     ]
    }
   ],
   "source": [
    "data_loader = DataLoader(config)\n",
    "x, y = data_loader.next_batch(device=None)"
   ]
  },
  {
   "cell_type": "code",
   "execution_count": 10,
   "id": "79332896-fd09-4b61-999b-932d87e2beb6",
   "metadata": {
    "tags": []
   },
   "outputs": [
    {
     "data": {
      "text/plain": [
       "(torch.Size([12, 5]), torch.Size([12, 5]))"
      ]
     },
     "execution_count": 10,
     "metadata": {},
     "output_type": "execute_result"
    }
   ],
   "source": [
    "x.shape, y.shape"
   ]
  },
  {
   "cell_type": "markdown",
   "id": "c0436274-8a8b-4ff6-bb04-061f1d89e734",
   "metadata": {},
   "source": [
    "# Pretraining Data - BERT Data Loader"
   ]
  },
  {
   "cell_type": "code",
   "execution_count": 156,
   "id": "364c0fdd-5ba2-4b1b-a4c6-8b727c14a2d0",
   "metadata": {
    "tags": []
   },
   "outputs": [],
   "source": [
    "class BERTDataLoader(DataLoader):\n",
    "    \"\"\"data loader for BERT-like MLM + NSP loss\"\"\"\n",
    "    def __init__(self, config):\n",
    "        super().__init__(config)\n",
    "        self.max_vocab_size = max(self.tokenizer.encoding_map.values())\n",
    "        self.CLS =self.max_vocab_size + 1\n",
    "        self.SEP = self.CLS + 1\n",
    "        self.MASK = self.SEP + 1\n",
    "        print(f\"new tokens: {self.max_vocab_size}, {self.CLS}, {self.SEP}, {self.MASK}\")\n",
    "        \n",
    "    def next_batch(self, device=device, test=False, mode=\"train\"):\n",
    "        \"\"\"return x, y for Masked Language Model (MLM), MLM loss mask, y for Next Sentence Prediction\"\"\"\n",
    "        _x, _ = super().next_batch(device=None, mode=mode)\n",
    "        x, y_MLM, ix_MLM, y_NSP = [], [], [], []\n",
    "        assert len(_x) % 2 == 0, \"BERTDataLoader batch size should be % 2 == 0\"\n",
    "        for ix in range(int(len(_x) / 2)): \n",
    "            x0 = _x[ix].clone()\n",
    "            if random() < 0.5:\n",
    "                x1 = _x[ix+1].clone()\n",
    "                y_NSP.append(torch.tensor(1))\n",
    "            else:\n",
    "                __x, _ = super().next_batch(device=None)\n",
    "                x1 = __x[0].clone()\n",
    "                y_NSP.append(torch.tensor(0))\n",
    "            y_MLM.append(self._make_input(x0, x1))\n",
    "            x0, ix0 = self._mask(x0)\n",
    "            x1, ix1 = self._mask(x1)\n",
    "            x.append(self._make_input(x0, x1))\n",
    "            ix_MLM.append(torch.cat([\n",
    "                torch.tensor([0]), \n",
    "                ix0,\n",
    "                torch.tensor([0]), \n",
    "                ix1,\n",
    "                torch.tensor([0])\n",
    "                ]))\n",
    "            \n",
    "        if test:\n",
    "            for i, xx in enumerate(x):\n",
    "                if y_NSP[i] == 1:\n",
    "                    a, b = y_MLM[i][1:1+BERTConfig.block_size], _x[i]\n",
    "                    assert (a == b).all(), (a, b)\n",
    "                    a, b = y_MLM[i][1+BERTConfig.block_size+1:1+2*BERTConfig.block_size+1], _x[i+1]\n",
    "                    assert (a == b).all(), (a, b)\n",
    "                    print(f\"{i} TEST PASSED same sentence\")\n",
    "                    \n",
    "        # turn indexes of MLM into a average loss mask\n",
    "        ix_MLM = torch.stack(ix_MLM).to(device)\n",
    "        ix_MLM = (ix_MLM / ix_MLM.sum()).nan_to_num(0.0)\n",
    "            \n",
    "        return (\n",
    "            torch.stack(x).to(device), \n",
    "            torch.stack(y_MLM).to(device), \n",
    "            ix_MLM, \n",
    "            torch.stack(y_NSP).to(device)\n",
    "        )\n",
    "    \n",
    "    def _make_input(self, x0, x1):\n",
    "        return torch.cat([\n",
    "            torch.tensor([self.CLS]), \n",
    "            x0,\n",
    "            torch.tensor([self.SEP]), \n",
    "            x1,\n",
    "            torch.tensor([self.SEP])\n",
    "        ])\n",
    "    \n",
    "    def _mask(self, x):\n",
    "        ix = []\n",
    "        for i, v in enumerate(x):\n",
    "            if random() < 0.15:\n",
    "                ix.append(torch.tensor(1))\n",
    "                r2 = random()\n",
    "                if r2 < 0.80:\n",
    "                    x[i] = self.MASK\n",
    "                elif 0.80 <= r2 < 0.90:\n",
    "                    x[i] = int(random() * (self.max_vocab_size - 100))\n",
    "            else: ix.append(torch.tensor(0))\n",
    "        return x, torch.tensor(ix)"
   ]
  },
  {
   "cell_type": "code",
   "execution_count": 157,
   "id": "c2612558-9301-434e-baf6-f32721af4ad0",
   "metadata": {
    "tags": []
   },
   "outputs": [
    {
     "name": "stdout",
     "output_type": "stream",
     "text": [
      "max vocabulary size=2213, compression ratio=0.4458684554516162\n",
      "train_data.shape=torch.Size([397855]), val_data.shape=torch.Size([99459])\n",
      "new tokens: 2215, 2216, 2217, 2218\n"
     ]
    }
   ],
   "source": [
    "data_loader = BERTDataLoader(config)"
   ]
  },
  {
   "cell_type": "code",
   "execution_count": 102,
   "id": "0dc9bfc4-e0b5-45ef-921b-cfba202dd917",
   "metadata": {
    "tags": []
   },
   "outputs": [
    {
     "name": "stdout",
     "output_type": "stream",
     "text": [
      "0 TEST PASSED same sentence\n",
      "2 TEST PASSED same sentence\n",
      "4 TEST PASSED same sentence\n",
      "5 TEST PASSED same sentence\n"
     ]
    }
   ],
   "source": [
    "x, y_MLM, loss_mask_MLM, y_NSP = data_loader.next_batch(device=device, test=True)"
   ]
  },
  {
   "cell_type": "markdown",
   "id": "327ba935-4a40-4601-a06e-7018ba095b6c",
   "metadata": {},
   "source": [
    "# Model"
   ]
  },
  {
   "cell_type": "code",
   "execution_count": 49,
   "id": "604c92b2-feb4-4e41-b0ed-8b4e3deb7bbd",
   "metadata": {
    "tags": []
   },
   "outputs": [],
   "source": [
    "from dataclasses import dataclass\n",
    "\n",
    "@dataclass\n",
    "class BERTConfig:\n",
    "    # model is going to be (BERT_batch_size, input_size, embedding_size or hidden_layer_size)\n",
    "    BERT_batch_size = 6\n",
    "    batch_size = BERT_batch_size * 2\n",
    "    block_size = 5\n",
    "    embedding_size = 64\n",
    "    vocab_size = 2220 # new tokens: 2215, 2216, 2217, 2218 from dataloader\n",
    "    input_size = 2 * block_size + 3\n",
    "    hidden_layer_size = 256\n",
    "    attention_heads = 8\n",
    "    attention_size = embedding_size // attention_heads\n",
    "    \n",
    "config = BERTConfig"
   ]
  },
  {
   "cell_type": "code",
   "execution_count": 50,
   "id": "c1279ca3-c9c7-4b04-aa14-1ccb259f929c",
   "metadata": {
    "tags": []
   },
   "outputs": [],
   "source": [
    "import torch\n",
    "import torch.nn as nn\n",
    "import torch.nn.functional as F"
   ]
  },
  {
   "cell_type": "code",
   "execution_count": 51,
   "id": "4d142907-07e2-4e41-a3a3-bcf771d38e42",
   "metadata": {
    "tags": []
   },
   "outputs": [],
   "source": [
    "def _get_x1_x2(x, config):\n",
    "    return x[:, 1:1+config.block_size], x[:, 1+config.block_size+1:-1]\n",
    "\n",
    "class InputRepresentation(nn.Module):\n",
    "    def __init__(self, config):\n",
    "        super().__init__()\n",
    "        self.token_embeddings = nn.Embedding(config.vocab_size, config.embedding_size)\n",
    "        self.segment_embeddings = nn.Embedding(2, config.embedding_size)\n",
    "        self.position_embeddings = nn.Embedding(config.input_size + 1, config.embedding_size)\n",
    "        self.register_buffer('segment_index', \n",
    "                             torch.tensor(sum([\n",
    "                                 [0] * (config.block_size + 1), \n",
    "                                 [0], \n",
    "                                 [1] * (config.block_size + 1)], [])))\n",
    "        self.register_buffer('position_index', \n",
    "                             torch.arange(config.input_size))\n",
    "    \n",
    "    def forward(self, x):\n",
    "        token_embeddings = self.token_embeddings(x)\n",
    "        segment_embeddings = self.segment_embeddings(self.segment_index)\n",
    "        position_embeddings = self.position_embeddings(self.position_index)\n",
    "        x = position_embeddings + token_embeddings + segment_embeddings\n",
    "        return x"
   ]
  },
  {
   "cell_type": "code",
   "execution_count": 52,
   "id": "27f3ddb7-0848-45df-bdc3-701e80eeb1bd",
   "metadata": {
    "tags": []
   },
   "outputs": [
    {
     "data": {
      "text/plain": [
       "InputRepresentation(\n",
       "  (token_embeddings): Embedding(2220, 64)\n",
       "  (segment_embeddings): Embedding(2, 64)\n",
       "  (position_embeddings): Embedding(14, 64)\n",
       ")"
      ]
     },
     "execution_count": 52,
     "metadata": {},
     "output_type": "execute_result"
    }
   ],
   "source": [
    "input_embeddings = InputRepresentation(config)\n",
    "input_embeddings.to(device)"
   ]
  },
  {
   "cell_type": "code",
   "execution_count": 140,
   "id": "cd16b2bb-163b-4fbb-8af1-f04e14c738b4",
   "metadata": {
    "tags": []
   },
   "outputs": [],
   "source": [
    "class SelfAttention(nn.Module):\n",
    "    def __init__(self, config):\n",
    "        super().__init__()\n",
    "        self.key = nn.Linear(config.embedding_size, config.attention_size)\n",
    "        self.query = nn.Linear(config.embedding_size, config.attention_size)\n",
    "        self.value = nn.Linear(config.embedding_size, config.attention_size)\n",
    "        \n",
    "    def forward(self, x):\n",
    "        key = self.key(x)\n",
    "        query = self.query(x)\n",
    "        attention = F.softmax(key @ query.transpose(1, 2), dim=2)\n",
    "        value = self.value(x)\n",
    "        return attention @ value\n",
    "    \n",
    "class MultiHeadAttention(nn.Module):\n",
    "    def __init__(self, config):\n",
    "        super().__init__()\n",
    "        self.heads = nn.ModuleList([SelfAttention(config) for _ in range(config.attention_heads)])\n",
    "        self.linear = nn.Linear(config.embedding_size, config.embedding_size)\n",
    "        \n",
    "    def forward(self, x):\n",
    "        heads = []\n",
    "        for head in self.heads:\n",
    "            heads.append(head(x))\n",
    "        x = torch.cat(heads, dim=2)\n",
    "        x = self.linear(x)\n",
    "        return x"
   ]
  },
  {
   "cell_type": "code",
   "execution_count": 54,
   "id": "54575c62-8958-47cc-82c4-0252caa16be5",
   "metadata": {
    "tags": []
   },
   "outputs": [
    {
     "data": {
      "text/plain": [
       "MultiHeadAttention(\n",
       "  (heads): ModuleList(\n",
       "    (0-7): 8 x SelfAttention(\n",
       "      (key): Linear(in_features=64, out_features=8, bias=True)\n",
       "      (query): Linear(in_features=64, out_features=8, bias=True)\n",
       "      (value): Linear(in_features=64, out_features=8, bias=True)\n",
       "    )\n",
       "  )\n",
       "  (linear): Linear(in_features=64, out_features=64, bias=True)\n",
       ")"
      ]
     },
     "execution_count": 54,
     "metadata": {},
     "output_type": "execute_result"
    }
   ],
   "source": [
    "attention = SelfAttention(config)\n",
    "attention.to(device)\n",
    "\n",
    "attention = MultiHeadAttention(config)\n",
    "attention.to(device)\n"
   ]
  },
  {
   "cell_type": "code",
   "execution_count": 136,
   "id": "d9c67cff-8e77-4d29-98ed-613dfd9739b2",
   "metadata": {
    "tags": []
   },
   "outputs": [],
   "source": [
    "class BERT(nn.Module):\n",
    "    def __init__(self, config):\n",
    "        super().__init__()\n",
    "        self.input_representation = InputRepresentation(config)\n",
    "        self.multi_head_attention = MultiHeadAttention(config)\n",
    "        \n",
    "        self.MLM_output = nn.Linear(config.embedding_size, config.vocab_size)\n",
    "        self.NSP_output = nn.Linear(config.embedding_size, 1)\n",
    "        \n",
    "    def forward(self, x, y_NSP=None, y_MLM=None, loss_mask_MLM=None):\n",
    "        \"\"\"return (pred_NSP, logits_MSM, loss_NSP, loss_MLM)\"\"\"\n",
    "        x = self.input_representation(x)\n",
    "        x = self.multi_head_attention(x)\n",
    "        \n",
    "        pred_NSP = F.sigmoid(self.NSP_output(x[:, 0, :]))\n",
    "        logits_MSM = self.MLM_output(x)\n",
    "        \n",
    "        loss_NSP, loss_MLM = None, None\n",
    "        if y_NSP is not None:\n",
    "            loss_NSP = F.binary_cross_entropy(pred_NSP.view(-1), y_NSP.to(torch.float))\n",
    "            \n",
    "        if y_MLM is not None and loss_mask_MLM is not None:\n",
    "            loss_MLM = F.cross_entropy(\n",
    "                logits_MSM.reshape(config.BERT_batch_size * config.input_size, -1), \n",
    "                y_MLM.reshape(-1),\n",
    "                reduction='none')\n",
    "            loss_MLM = (loss_MLM * loss_mask_MLM.view(-1)).sum()\n",
    "        \n",
    "        \n",
    "        return pred_NSP, logits_MSM, loss_NSP, loss_MLM"
   ]
  },
  {
   "cell_type": "markdown",
   "id": "e43a067f-4b44-4c4e-ab22-0d32e61e25ce",
   "metadata": {},
   "source": [
    "# Pretraining"
   ]
  },
  {
   "cell_type": "code",
   "execution_count": 148,
   "id": "9a8653db-988f-46dc-b385-38a375063a2a",
   "metadata": {
    "tags": []
   },
   "outputs": [],
   "source": [
    "from dataclasses import dataclass\n",
    "\n",
    "@dataclass\n",
    "class BERTConfig:\n",
    "    # model is going to be (BERT_batch_size, input_size, embedding_size or hidden_layer_size)\n",
    "    BERT_batch_size = 6\n",
    "    batch_size = BERT_batch_size * 2\n",
    "    block_size = 5\n",
    "    embedding_size = 64\n",
    "    vocab_size = 2220 # new tokens: 2215, 2216, 2217, 2218 from dataloader\n",
    "    input_size = 2 * block_size + 3\n",
    "    hidden_layer_size = 256\n",
    "    attention_heads = 8\n",
    "    attention_size = embedding_size // attention_heads\n",
    "    train_epochs = 10000\n",
    "    val_epochs = 50\n",
    "    val_interval = 300\n",
    "    \n",
    "config = BERTConfig"
   ]
  },
  {
   "cell_type": "code",
   "execution_count": 143,
   "id": "623a03dd-0569-4157-a5b9-c15d2a39031f",
   "metadata": {
    "tags": []
   },
   "outputs": [
    {
     "name": "stdout",
     "output_type": "stream",
     "text": [
      "304109\n"
     ]
    },
    {
     "data": {
      "text/plain": [
       "BERT(\n",
       "  (input_representation): InputRepresentation(\n",
       "    (token_embeddings): Embedding(2220, 64)\n",
       "    (segment_embeddings): Embedding(2, 64)\n",
       "    (position_embeddings): Embedding(14, 64)\n",
       "  )\n",
       "  (multi_head_attention): MultiHeadAttention(\n",
       "    (heads): ModuleList(\n",
       "      (0-7): 8 x SelfAttention(\n",
       "        (key): Linear(in_features=64, out_features=8, bias=True)\n",
       "        (query): Linear(in_features=64, out_features=8, bias=True)\n",
       "        (value): Linear(in_features=64, out_features=8, bias=True)\n",
       "      )\n",
       "    )\n",
       "    (linear): Linear(in_features=64, out_features=64, bias=True)\n",
       "  )\n",
       "  (MLM_output): Linear(in_features=64, out_features=2220, bias=True)\n",
       "  (NSP_output): Linear(in_features=64, out_features=1, bias=True)\n",
       ")"
      ]
     },
     "execution_count": 143,
     "metadata": {},
     "output_type": "execute_result"
    }
   ],
   "source": []
  },
  {
   "cell_type": "code",
   "execution_count": 144,
   "id": "ac000766-5d18-4f31-aaaa-ae89db79b99c",
   "metadata": {
    "tags": []
   },
   "outputs": [
    {
     "name": "stdout",
     "output_type": "stream",
     "text": [
      "Sat Feb 22 10:12:30 2025       \n",
      "+-----------------------------------------------------------------------------+\n",
      "| NVIDIA-SMI 525.116.04   Driver Version: 525.116.04   CUDA Version: 12.0     |\n",
      "|-------------------------------+----------------------+----------------------+\n",
      "| GPU  Name        Persistence-M| Bus-Id        Disp.A | Volatile Uncorr. ECC |\n",
      "| Fan  Temp  Perf  Pwr:Usage/Cap|         Memory-Usage | GPU-Util  Compute M. |\n",
      "|                               |                      |               MIG M. |\n",
      "|===============================+======================+======================|\n",
      "|   0  NVIDIA RTX A6000    Off  | 00000000:00:05.0 Off |                  Off |\n",
      "| 30%   53C    P2    78W / 300W |   1287MiB / 49140MiB |      0%      Default |\n",
      "|                               |                      |                  N/A |\n",
      "+-------------------------------+----------------------+----------------------+\n",
      "                                                                               \n",
      "+-----------------------------------------------------------------------------+\n",
      "| Processes:                                                                  |\n",
      "|  GPU   GI   CI        PID   Type   Process name                  GPU Memory |\n",
      "|        ID   ID                                                   Usage      |\n",
      "|=============================================================================|\n",
      "+-----------------------------------------------------------------------------+\n"
     ]
    }
   ],
   "source": [
    "!nvidia-smi"
   ]
  },
  {
   "cell_type": "code",
   "execution_count": 206,
   "id": "4c8c216a-1419-4eec-80aa-7dc0d8b0d3bf",
   "metadata": {
    "tags": []
   },
   "outputs": [],
   "source": [
    "class LossLogs:\n",
    "    def __init__(self, name, scale=1):\n",
    "        self.train_x, self.val_x = [], []\n",
    "        self.train_loss, self.val_loss = [], []\n",
    "        self.val_loss_bags = {}\n",
    "        self.name = name\n",
    "        self.scale = scale\n",
    "    \n",
    "    def log_train(self, ix, loss):\n",
    "        self.train_x.append(ix)\n",
    "        self.train_loss.append(loss)\n",
    "        \n",
    "    def log_val(self, train_ix, val_ix, loss):\n",
    "        if train_ix in self.val_loss_bags.keys():\n",
    "            self.val_loss_bags[train_ix].append(loss)\n",
    "        else:\n",
    "            self.val_loss_bags[train_ix] = [loss]\n",
    "        \n",
    "    def get_val_loss(self, train_ix):\n",
    "        self.val_x.append(train_ix)\n",
    "        val_loss = sum(self.val_loss_bags[train_ix]) / len(self.val_loss_bags[train_ix])\n",
    "        self.val_loss.append(val_loss)\n",
    "        return val_loss\n",
    "    \n",
    "    def train_loss_series(self, aggr=100):\n",
    "        ixs, xs, aggcum = [], [], 0\n",
    "        for ix in range(len(self.train_x)):\n",
    "            aggcum += self.train_loss[ix]\n",
    "            if (ix + 1) % aggr == 0:\n",
    "                xs.append((aggcum/aggr)*self.scale)\n",
    "                aggcum = 0\n",
    "                ixs.append(ix)\n",
    "        return ixs, xs\n",
    "    \n",
    "    def val_loss_series(self):\n",
    "        return self.val_x, [self.scale * x for x in self.val_loss]\n",
    "            \n",
    "        \n",
    "\n",
    "MLMloss = LossLogs(\"MLM\", scale=0.1)\n",
    "NSPloss = LossLogs(\"NSP\")"
   ]
  },
  {
   "cell_type": "code",
   "execution_count": 207,
   "id": "597a09a1-bef1-47f6-88de-bc2166922e48",
   "metadata": {
    "tags": []
   },
   "outputs": [
    {
     "name": "stdout",
     "output_type": "stream",
     "text": [
      "304109\n"
     ]
    },
    {
     "data": {
      "text/plain": [
       "BERT(\n",
       "  (input_representation): InputRepresentation(\n",
       "    (token_embeddings): Embedding(2220, 64)\n",
       "    (segment_embeddings): Embedding(2, 64)\n",
       "    (position_embeddings): Embedding(14, 64)\n",
       "  )\n",
       "  (multi_head_attention): MultiHeadAttention(\n",
       "    (heads): ModuleList(\n",
       "      (0-7): 8 x SelfAttention(\n",
       "        (key): Linear(in_features=64, out_features=8, bias=True)\n",
       "        (query): Linear(in_features=64, out_features=8, bias=True)\n",
       "        (value): Linear(in_features=64, out_features=8, bias=True)\n",
       "      )\n",
       "    )\n",
       "    (linear): Linear(in_features=64, out_features=64, bias=True)\n",
       "  )\n",
       "  (MLM_output): Linear(in_features=64, out_features=2220, bias=True)\n",
       "  (NSP_output): Linear(in_features=64, out_features=1, bias=True)\n",
       ")"
      ]
     },
     "execution_count": 207,
     "metadata": {},
     "output_type": "execute_result"
    }
   ],
   "source": [
    "model = BERT(config)\n",
    "optimizer = torch.optim.AdamW(model.parameters(), lr=0.001)\n",
    "print(sum(p.numel() for p in model.parameters()))\n",
    "model.to(device)"
   ]
  },
  {
   "cell_type": "code",
   "execution_count": 208,
   "id": "d5f605f3-ef71-4707-b444-52f99b98f9ea",
   "metadata": {},
   "outputs": [
    {
     "name": "stdout",
     "output_type": "stream",
     "text": [
      "[0/10000][MLM losses: train=7.735,val=7.762][NSP losses: train=0.702,val=0.698]\n",
      "[300/10000][MLM losses: train=6.203,val=6.246][NSP losses: train=0.730,val=0.692]\n",
      "[600/10000][MLM losses: train=5.546,val=6.179][NSP losses: train=0.799,val=0.710]\n",
      "[900/10000][MLM losses: train=5.548,val=6.151][NSP losses: train=0.720,val=0.698]\n",
      "[1200/10000][MLM losses: train=5.324,val=5.988][NSP losses: train=0.722,val=0.692]\n",
      "[1500/10000][MLM losses: train=6.277,val=6.185][NSP losses: train=0.642,val=0.690]\n",
      "[1800/10000][MLM losses: train=5.744,val=5.969][NSP losses: train=0.720,val=0.701]\n",
      "[2100/10000][MLM losses: train=5.713,val=5.927][NSP losses: train=0.685,val=0.697]\n",
      "[2400/10000][MLM losses: train=5.560,val=6.016][NSP losses: train=0.717,val=0.696]\n",
      "[2700/10000][MLM losses: train=6.580,val=5.939][NSP losses: train=0.691,val=0.698]\n",
      "[3000/10000][MLM losses: train=6.500,val=5.826][NSP losses: train=0.705,val=0.695]\n",
      "[3300/10000][MLM losses: train=5.269,val=5.785][NSP losses: train=0.667,val=0.692]\n",
      "[3600/10000][MLM losses: train=6.240,val=5.896][NSP losses: train=0.689,val=0.696]\n",
      "[3900/10000][MLM losses: train=6.664,val=5.870][NSP losses: train=0.694,val=0.689]\n",
      "[4200/10000][MLM losses: train=6.169,val=5.782][NSP losses: train=0.721,val=0.696]\n",
      "[4500/10000][MLM losses: train=6.047,val=5.977][NSP losses: train=0.708,val=0.690]\n"
     ]
    },
    {
     "ename": "KeyboardInterrupt",
     "evalue": "",
     "output_type": "error",
     "traceback": [
      "\u001b[0;31m---------------------------------------------------------------------------\u001b[0m",
      "\u001b[0;31mKeyboardInterrupt\u001b[0m                         Traceback (most recent call last)",
      "Cell \u001b[0;32mIn[208], line 9\u001b[0m\n\u001b[1;32m      7\u001b[0m loss \u001b[38;5;241m=\u001b[39m loss_NSP \u001b[38;5;241m+\u001b[39m loss_MLM\n\u001b[1;32m      8\u001b[0m loss\u001b[38;5;241m.\u001b[39mbackward()\n\u001b[0;32m----> 9\u001b[0m \u001b[43moptimizer\u001b[49m\u001b[38;5;241;43m.\u001b[39;49m\u001b[43mstep\u001b[49m\u001b[43m(\u001b[49m\u001b[43m)\u001b[49m\n\u001b[1;32m     10\u001b[0m MLMloss\u001b[38;5;241m.\u001b[39mlog_train(train_epoch, loss_MLM\u001b[38;5;241m.\u001b[39mitem())\n\u001b[1;32m     11\u001b[0m NSPloss\u001b[38;5;241m.\u001b[39mlog_train(train_epoch, loss_NSP\u001b[38;5;241m.\u001b[39mitem())\n",
      "File \u001b[0;32m/usr/local/lib/python3.11/dist-packages/torch/optim/optimizer.py:373\u001b[0m, in \u001b[0;36mOptimizer.profile_hook_step.<locals>.wrapper\u001b[0;34m(*args, **kwargs)\u001b[0m\n\u001b[1;32m    368\u001b[0m         \u001b[38;5;28;01melse\u001b[39;00m:\n\u001b[1;32m    369\u001b[0m             \u001b[38;5;28;01mraise\u001b[39;00m \u001b[38;5;167;01mRuntimeError\u001b[39;00m(\n\u001b[1;32m    370\u001b[0m                 \u001b[38;5;124mf\u001b[39m\u001b[38;5;124m\"\u001b[39m\u001b[38;5;132;01m{\u001b[39;00mfunc\u001b[38;5;132;01m}\u001b[39;00m\u001b[38;5;124m must return None or a tuple of (new_args, new_kwargs), but got \u001b[39m\u001b[38;5;132;01m{\u001b[39;00mresult\u001b[38;5;132;01m}\u001b[39;00m\u001b[38;5;124m.\u001b[39m\u001b[38;5;124m\"\u001b[39m\n\u001b[1;32m    371\u001b[0m             )\n\u001b[0;32m--> 373\u001b[0m out \u001b[38;5;241m=\u001b[39m \u001b[43mfunc\u001b[49m\u001b[43m(\u001b[49m\u001b[38;5;241;43m*\u001b[39;49m\u001b[43margs\u001b[49m\u001b[43m,\u001b[49m\u001b[43m \u001b[49m\u001b[38;5;241;43m*\u001b[39;49m\u001b[38;5;241;43m*\u001b[39;49m\u001b[43mkwargs\u001b[49m\u001b[43m)\u001b[49m\n\u001b[1;32m    374\u001b[0m \u001b[38;5;28mself\u001b[39m\u001b[38;5;241m.\u001b[39m_optimizer_step_code()\n\u001b[1;32m    376\u001b[0m \u001b[38;5;66;03m# call optimizer step post hooks\u001b[39;00m\n",
      "File \u001b[0;32m/usr/local/lib/python3.11/dist-packages/torch/optim/optimizer.py:76\u001b[0m, in \u001b[0;36m_use_grad_for_differentiable.<locals>._use_grad\u001b[0;34m(self, *args, **kwargs)\u001b[0m\n\u001b[1;32m     74\u001b[0m     torch\u001b[38;5;241m.\u001b[39mset_grad_enabled(\u001b[38;5;28mself\u001b[39m\u001b[38;5;241m.\u001b[39mdefaults[\u001b[38;5;124m'\u001b[39m\u001b[38;5;124mdifferentiable\u001b[39m\u001b[38;5;124m'\u001b[39m])\n\u001b[1;32m     75\u001b[0m     torch\u001b[38;5;241m.\u001b[39m_dynamo\u001b[38;5;241m.\u001b[39mgraph_break()\n\u001b[0;32m---> 76\u001b[0m     ret \u001b[38;5;241m=\u001b[39m \u001b[43mfunc\u001b[49m\u001b[43m(\u001b[49m\u001b[38;5;28;43mself\u001b[39;49m\u001b[43m,\u001b[49m\u001b[43m \u001b[49m\u001b[38;5;241;43m*\u001b[39;49m\u001b[43margs\u001b[49m\u001b[43m,\u001b[49m\u001b[43m \u001b[49m\u001b[38;5;241;43m*\u001b[39;49m\u001b[38;5;241;43m*\u001b[39;49m\u001b[43mkwargs\u001b[49m\u001b[43m)\u001b[49m\n\u001b[1;32m     77\u001b[0m \u001b[38;5;28;01mfinally\u001b[39;00m:\n\u001b[1;32m     78\u001b[0m     torch\u001b[38;5;241m.\u001b[39m_dynamo\u001b[38;5;241m.\u001b[39mgraph_break()\n",
      "File \u001b[0;32m/usr/local/lib/python3.11/dist-packages/torch/optim/adamw.py:184\u001b[0m, in \u001b[0;36mAdamW.step\u001b[0;34m(self, closure)\u001b[0m\n\u001b[1;32m    171\u001b[0m     beta1, beta2 \u001b[38;5;241m=\u001b[39m group[\u001b[38;5;124m\"\u001b[39m\u001b[38;5;124mbetas\u001b[39m\u001b[38;5;124m\"\u001b[39m]\n\u001b[1;32m    173\u001b[0m     \u001b[38;5;28mself\u001b[39m\u001b[38;5;241m.\u001b[39m_init_group(\n\u001b[1;32m    174\u001b[0m         group,\n\u001b[1;32m    175\u001b[0m         params_with_grad,\n\u001b[0;32m   (...)\u001b[0m\n\u001b[1;32m    181\u001b[0m         state_steps,\n\u001b[1;32m    182\u001b[0m     )\n\u001b[0;32m--> 184\u001b[0m     \u001b[43madamw\u001b[49m\u001b[43m(\u001b[49m\n\u001b[1;32m    185\u001b[0m \u001b[43m        \u001b[49m\u001b[43mparams_with_grad\u001b[49m\u001b[43m,\u001b[49m\n\u001b[1;32m    186\u001b[0m \u001b[43m        \u001b[49m\u001b[43mgrads\u001b[49m\u001b[43m,\u001b[49m\n\u001b[1;32m    187\u001b[0m \u001b[43m        \u001b[49m\u001b[43mexp_avgs\u001b[49m\u001b[43m,\u001b[49m\n\u001b[1;32m    188\u001b[0m \u001b[43m        \u001b[49m\u001b[43mexp_avg_sqs\u001b[49m\u001b[43m,\u001b[49m\n\u001b[1;32m    189\u001b[0m \u001b[43m        \u001b[49m\u001b[43mmax_exp_avg_sqs\u001b[49m\u001b[43m,\u001b[49m\n\u001b[1;32m    190\u001b[0m \u001b[43m        \u001b[49m\u001b[43mstate_steps\u001b[49m\u001b[43m,\u001b[49m\n\u001b[1;32m    191\u001b[0m \u001b[43m        \u001b[49m\u001b[43mamsgrad\u001b[49m\u001b[38;5;241;43m=\u001b[39;49m\u001b[43mamsgrad\u001b[49m\u001b[43m,\u001b[49m\n\u001b[1;32m    192\u001b[0m \u001b[43m        \u001b[49m\u001b[43mbeta1\u001b[49m\u001b[38;5;241;43m=\u001b[39;49m\u001b[43mbeta1\u001b[49m\u001b[43m,\u001b[49m\n\u001b[1;32m    193\u001b[0m \u001b[43m        \u001b[49m\u001b[43mbeta2\u001b[49m\u001b[38;5;241;43m=\u001b[39;49m\u001b[43mbeta2\u001b[49m\u001b[43m,\u001b[49m\n\u001b[1;32m    194\u001b[0m \u001b[43m        \u001b[49m\u001b[43mlr\u001b[49m\u001b[38;5;241;43m=\u001b[39;49m\u001b[43mgroup\u001b[49m\u001b[43m[\u001b[49m\u001b[38;5;124;43m\"\u001b[39;49m\u001b[38;5;124;43mlr\u001b[39;49m\u001b[38;5;124;43m\"\u001b[39;49m\u001b[43m]\u001b[49m\u001b[43m,\u001b[49m\n\u001b[1;32m    195\u001b[0m \u001b[43m        \u001b[49m\u001b[43mweight_decay\u001b[49m\u001b[38;5;241;43m=\u001b[39;49m\u001b[43mgroup\u001b[49m\u001b[43m[\u001b[49m\u001b[38;5;124;43m\"\u001b[39;49m\u001b[38;5;124;43mweight_decay\u001b[39;49m\u001b[38;5;124;43m\"\u001b[39;49m\u001b[43m]\u001b[49m\u001b[43m,\u001b[49m\n\u001b[1;32m    196\u001b[0m \u001b[43m        \u001b[49m\u001b[43meps\u001b[49m\u001b[38;5;241;43m=\u001b[39;49m\u001b[43mgroup\u001b[49m\u001b[43m[\u001b[49m\u001b[38;5;124;43m\"\u001b[39;49m\u001b[38;5;124;43meps\u001b[39;49m\u001b[38;5;124;43m\"\u001b[39;49m\u001b[43m]\u001b[49m\u001b[43m,\u001b[49m\n\u001b[1;32m    197\u001b[0m \u001b[43m        \u001b[49m\u001b[43mmaximize\u001b[49m\u001b[38;5;241;43m=\u001b[39;49m\u001b[43mgroup\u001b[49m\u001b[43m[\u001b[49m\u001b[38;5;124;43m\"\u001b[39;49m\u001b[38;5;124;43mmaximize\u001b[39;49m\u001b[38;5;124;43m\"\u001b[39;49m\u001b[43m]\u001b[49m\u001b[43m,\u001b[49m\n\u001b[1;32m    198\u001b[0m \u001b[43m        \u001b[49m\u001b[43mforeach\u001b[49m\u001b[38;5;241;43m=\u001b[39;49m\u001b[43mgroup\u001b[49m\u001b[43m[\u001b[49m\u001b[38;5;124;43m\"\u001b[39;49m\u001b[38;5;124;43mforeach\u001b[39;49m\u001b[38;5;124;43m\"\u001b[39;49m\u001b[43m]\u001b[49m\u001b[43m,\u001b[49m\n\u001b[1;32m    199\u001b[0m \u001b[43m        \u001b[49m\u001b[43mcapturable\u001b[49m\u001b[38;5;241;43m=\u001b[39;49m\u001b[43mgroup\u001b[49m\u001b[43m[\u001b[49m\u001b[38;5;124;43m\"\u001b[39;49m\u001b[38;5;124;43mcapturable\u001b[39;49m\u001b[38;5;124;43m\"\u001b[39;49m\u001b[43m]\u001b[49m\u001b[43m,\u001b[49m\n\u001b[1;32m    200\u001b[0m \u001b[43m        \u001b[49m\u001b[43mdifferentiable\u001b[49m\u001b[38;5;241;43m=\u001b[39;49m\u001b[43mgroup\u001b[49m\u001b[43m[\u001b[49m\u001b[38;5;124;43m\"\u001b[39;49m\u001b[38;5;124;43mdifferentiable\u001b[39;49m\u001b[38;5;124;43m\"\u001b[39;49m\u001b[43m]\u001b[49m\u001b[43m,\u001b[49m\n\u001b[1;32m    201\u001b[0m \u001b[43m        \u001b[49m\u001b[43mfused\u001b[49m\u001b[38;5;241;43m=\u001b[39;49m\u001b[43mgroup\u001b[49m\u001b[43m[\u001b[49m\u001b[38;5;124;43m\"\u001b[39;49m\u001b[38;5;124;43mfused\u001b[39;49m\u001b[38;5;124;43m\"\u001b[39;49m\u001b[43m]\u001b[49m\u001b[43m,\u001b[49m\n\u001b[1;32m    202\u001b[0m \u001b[43m        \u001b[49m\u001b[43mgrad_scale\u001b[49m\u001b[38;5;241;43m=\u001b[39;49m\u001b[38;5;28;43mgetattr\u001b[39;49m\u001b[43m(\u001b[49m\u001b[38;5;28;43mself\u001b[39;49m\u001b[43m,\u001b[49m\u001b[43m \u001b[49m\u001b[38;5;124;43m\"\u001b[39;49m\u001b[38;5;124;43mgrad_scale\u001b[39;49m\u001b[38;5;124;43m\"\u001b[39;49m\u001b[43m,\u001b[49m\u001b[43m \u001b[49m\u001b[38;5;28;43;01mNone\u001b[39;49;00m\u001b[43m)\u001b[49m\u001b[43m,\u001b[49m\n\u001b[1;32m    203\u001b[0m \u001b[43m        \u001b[49m\u001b[43mfound_inf\u001b[49m\u001b[38;5;241;43m=\u001b[39;49m\u001b[38;5;28;43mgetattr\u001b[39;49m\u001b[43m(\u001b[49m\u001b[38;5;28;43mself\u001b[39;49m\u001b[43m,\u001b[49m\u001b[43m \u001b[49m\u001b[38;5;124;43m\"\u001b[39;49m\u001b[38;5;124;43mfound_inf\u001b[39;49m\u001b[38;5;124;43m\"\u001b[39;49m\u001b[43m,\u001b[49m\u001b[43m \u001b[49m\u001b[38;5;28;43;01mNone\u001b[39;49;00m\u001b[43m)\u001b[49m\u001b[43m,\u001b[49m\n\u001b[1;32m    204\u001b[0m \u001b[43m    \u001b[49m\u001b[43m)\u001b[49m\n\u001b[1;32m    206\u001b[0m \u001b[38;5;28;01mreturn\u001b[39;00m loss\n",
      "File \u001b[0;32m/usr/local/lib/python3.11/dist-packages/torch/optim/adamw.py:335\u001b[0m, in \u001b[0;36madamw\u001b[0;34m(params, grads, exp_avgs, exp_avg_sqs, max_exp_avg_sqs, state_steps, foreach, capturable, differentiable, fused, grad_scale, found_inf, amsgrad, beta1, beta2, lr, weight_decay, eps, maximize)\u001b[0m\n\u001b[1;32m    332\u001b[0m \u001b[38;5;28;01melse\u001b[39;00m:\n\u001b[1;32m    333\u001b[0m     func \u001b[38;5;241m=\u001b[39m _single_tensor_adamw\n\u001b[0;32m--> 335\u001b[0m \u001b[43mfunc\u001b[49m\u001b[43m(\u001b[49m\n\u001b[1;32m    336\u001b[0m \u001b[43m    \u001b[49m\u001b[43mparams\u001b[49m\u001b[43m,\u001b[49m\n\u001b[1;32m    337\u001b[0m \u001b[43m    \u001b[49m\u001b[43mgrads\u001b[49m\u001b[43m,\u001b[49m\n\u001b[1;32m    338\u001b[0m \u001b[43m    \u001b[49m\u001b[43mexp_avgs\u001b[49m\u001b[43m,\u001b[49m\n\u001b[1;32m    339\u001b[0m \u001b[43m    \u001b[49m\u001b[43mexp_avg_sqs\u001b[49m\u001b[43m,\u001b[49m\n\u001b[1;32m    340\u001b[0m \u001b[43m    \u001b[49m\u001b[43mmax_exp_avg_sqs\u001b[49m\u001b[43m,\u001b[49m\n\u001b[1;32m    341\u001b[0m \u001b[43m    \u001b[49m\u001b[43mstate_steps\u001b[49m\u001b[43m,\u001b[49m\n\u001b[1;32m    342\u001b[0m \u001b[43m    \u001b[49m\u001b[43mamsgrad\u001b[49m\u001b[38;5;241;43m=\u001b[39;49m\u001b[43mamsgrad\u001b[49m\u001b[43m,\u001b[49m\n\u001b[1;32m    343\u001b[0m \u001b[43m    \u001b[49m\u001b[43mbeta1\u001b[49m\u001b[38;5;241;43m=\u001b[39;49m\u001b[43mbeta1\u001b[49m\u001b[43m,\u001b[49m\n\u001b[1;32m    344\u001b[0m \u001b[43m    \u001b[49m\u001b[43mbeta2\u001b[49m\u001b[38;5;241;43m=\u001b[39;49m\u001b[43mbeta2\u001b[49m\u001b[43m,\u001b[49m\n\u001b[1;32m    345\u001b[0m \u001b[43m    \u001b[49m\u001b[43mlr\u001b[49m\u001b[38;5;241;43m=\u001b[39;49m\u001b[43mlr\u001b[49m\u001b[43m,\u001b[49m\n\u001b[1;32m    346\u001b[0m \u001b[43m    \u001b[49m\u001b[43mweight_decay\u001b[49m\u001b[38;5;241;43m=\u001b[39;49m\u001b[43mweight_decay\u001b[49m\u001b[43m,\u001b[49m\n\u001b[1;32m    347\u001b[0m \u001b[43m    \u001b[49m\u001b[43meps\u001b[49m\u001b[38;5;241;43m=\u001b[39;49m\u001b[43meps\u001b[49m\u001b[43m,\u001b[49m\n\u001b[1;32m    348\u001b[0m \u001b[43m    \u001b[49m\u001b[43mmaximize\u001b[49m\u001b[38;5;241;43m=\u001b[39;49m\u001b[43mmaximize\u001b[49m\u001b[43m,\u001b[49m\n\u001b[1;32m    349\u001b[0m \u001b[43m    \u001b[49m\u001b[43mcapturable\u001b[49m\u001b[38;5;241;43m=\u001b[39;49m\u001b[43mcapturable\u001b[49m\u001b[43m,\u001b[49m\n\u001b[1;32m    350\u001b[0m \u001b[43m    \u001b[49m\u001b[43mdifferentiable\u001b[49m\u001b[38;5;241;43m=\u001b[39;49m\u001b[43mdifferentiable\u001b[49m\u001b[43m,\u001b[49m\n\u001b[1;32m    351\u001b[0m \u001b[43m    \u001b[49m\u001b[43mgrad_scale\u001b[49m\u001b[38;5;241;43m=\u001b[39;49m\u001b[43mgrad_scale\u001b[49m\u001b[43m,\u001b[49m\n\u001b[1;32m    352\u001b[0m \u001b[43m    \u001b[49m\u001b[43mfound_inf\u001b[49m\u001b[38;5;241;43m=\u001b[39;49m\u001b[43mfound_inf\u001b[49m\u001b[43m,\u001b[49m\n\u001b[1;32m    353\u001b[0m \u001b[43m\u001b[49m\u001b[43m)\u001b[49m\n",
      "File \u001b[0;32m/usr/local/lib/python3.11/dist-packages/torch/optim/adamw.py:586\u001b[0m, in \u001b[0;36m_multi_tensor_adamw\u001b[0;34m(params, grads, exp_avgs, exp_avg_sqs, max_exp_avg_sqs, state_steps, grad_scale, found_inf, amsgrad, beta1, beta2, lr, weight_decay, eps, maximize, capturable, differentiable)\u001b[0m\n\u001b[1;32m    584\u001b[0m \u001b[38;5;28;01melse\u001b[39;00m:\n\u001b[1;32m    585\u001b[0m     bias_correction1 \u001b[38;5;241m=\u001b[39m [\u001b[38;5;241m1\u001b[39m \u001b[38;5;241m-\u001b[39m beta1 \u001b[38;5;241m*\u001b[39m\u001b[38;5;241m*\u001b[39m _get_value(step) \u001b[38;5;28;01mfor\u001b[39;00m step \u001b[38;5;129;01min\u001b[39;00m device_state_steps]\n\u001b[0;32m--> 586\u001b[0m     bias_correction2 \u001b[38;5;241m=\u001b[39m \u001b[43m[\u001b[49m\u001b[38;5;241;43m1\u001b[39;49m\u001b[43m \u001b[49m\u001b[38;5;241;43m-\u001b[39;49m\u001b[43m \u001b[49m\u001b[43mbeta2\u001b[49m\u001b[43m \u001b[49m\u001b[38;5;241;43m*\u001b[39;49m\u001b[38;5;241;43m*\u001b[39;49m\u001b[43m \u001b[49m\u001b[43m_get_value\u001b[49m\u001b[43m(\u001b[49m\u001b[43mstep\u001b[49m\u001b[43m)\u001b[49m\u001b[43m \u001b[49m\u001b[38;5;28;43;01mfor\u001b[39;49;00m\u001b[43m \u001b[49m\u001b[43mstep\u001b[49m\u001b[43m \u001b[49m\u001b[38;5;129;43;01min\u001b[39;49;00m\u001b[43m \u001b[49m\u001b[43mdevice_state_steps\u001b[49m\u001b[43m]\u001b[49m\n\u001b[1;32m    588\u001b[0m     step_size \u001b[38;5;241m=\u001b[39m _stack_if_compiling([(lr \u001b[38;5;241m/\u001b[39m bc) \u001b[38;5;241m*\u001b[39m \u001b[38;5;241m-\u001b[39m\u001b[38;5;241m1\u001b[39m \u001b[38;5;28;01mfor\u001b[39;00m bc \u001b[38;5;129;01min\u001b[39;00m bias_correction1])\n\u001b[1;32m    590\u001b[0m     bias_correction2_sqrt \u001b[38;5;241m=\u001b[39m [_dispatch_sqrt(bc) \u001b[38;5;28;01mfor\u001b[39;00m bc \u001b[38;5;129;01min\u001b[39;00m bias_correction2]\n",
      "File \u001b[0;32m/usr/local/lib/python3.11/dist-packages/torch/optim/adamw.py:586\u001b[0m, in \u001b[0;36m<listcomp>\u001b[0;34m(.0)\u001b[0m\n\u001b[1;32m    584\u001b[0m \u001b[38;5;28;01melse\u001b[39;00m:\n\u001b[1;32m    585\u001b[0m     bias_correction1 \u001b[38;5;241m=\u001b[39m [\u001b[38;5;241m1\u001b[39m \u001b[38;5;241m-\u001b[39m beta1 \u001b[38;5;241m*\u001b[39m\u001b[38;5;241m*\u001b[39m _get_value(step) \u001b[38;5;28;01mfor\u001b[39;00m step \u001b[38;5;129;01min\u001b[39;00m device_state_steps]\n\u001b[0;32m--> 586\u001b[0m     bias_correction2 \u001b[38;5;241m=\u001b[39m [\u001b[38;5;241m1\u001b[39m \u001b[38;5;241m-\u001b[39m beta2 \u001b[38;5;241m*\u001b[39m\u001b[38;5;241m*\u001b[39m \u001b[43m_get_value\u001b[49m\u001b[43m(\u001b[49m\u001b[43mstep\u001b[49m\u001b[43m)\u001b[49m \u001b[38;5;28;01mfor\u001b[39;00m step \u001b[38;5;129;01min\u001b[39;00m device_state_steps]\n\u001b[1;32m    588\u001b[0m     step_size \u001b[38;5;241m=\u001b[39m _stack_if_compiling([(lr \u001b[38;5;241m/\u001b[39m bc) \u001b[38;5;241m*\u001b[39m \u001b[38;5;241m-\u001b[39m\u001b[38;5;241m1\u001b[39m \u001b[38;5;28;01mfor\u001b[39;00m bc \u001b[38;5;129;01min\u001b[39;00m bias_correction1])\n\u001b[1;32m    590\u001b[0m     bias_correction2_sqrt \u001b[38;5;241m=\u001b[39m [_dispatch_sqrt(bc) \u001b[38;5;28;01mfor\u001b[39;00m bc \u001b[38;5;129;01min\u001b[39;00m bias_correction2]\n",
      "File \u001b[0;32m/usr/local/lib/python3.11/dist-packages/torch/optim/optimizer.py:84\u001b[0m, in \u001b[0;36m_get_value\u001b[0;34m(x)\u001b[0m\n\u001b[1;32m     81\u001b[0m     functools\u001b[38;5;241m.\u001b[39mupdate_wrapper(_use_grad, func)\n\u001b[1;32m     82\u001b[0m     \u001b[38;5;28;01mreturn\u001b[39;00m _use_grad\n\u001b[0;32m---> 84\u001b[0m \u001b[38;5;28;01mdef\u001b[39;00m \u001b[38;5;21m_get_value\u001b[39m(x):\n\u001b[1;32m     85\u001b[0m     \u001b[38;5;66;03m# item is significantly faster than a cpu tensor in eager mode\u001b[39;00m\n\u001b[1;32m     86\u001b[0m     \u001b[38;5;28;01mif\u001b[39;00m \u001b[38;5;129;01mnot\u001b[39;00m torch\u001b[38;5;241m.\u001b[39mjit\u001b[38;5;241m.\u001b[39mis_scripting() \u001b[38;5;129;01mand\u001b[39;00m is_compiling():\n\u001b[1;32m     87\u001b[0m         \u001b[38;5;28;01mreturn\u001b[39;00m x\n",
      "\u001b[0;31mKeyboardInterrupt\u001b[0m: "
     ]
    }
   ],
   "source": [
    "for train_epoch in range(config.train_epochs):\n",
    "    \n",
    "    optimizer.zero_grad()\n",
    "    \n",
    "    x, y_MLM, loss_mask_MLM, y_NSP = data_loader.next_batch(device=device)\n",
    "    pred_NSP, logits_MSM, loss_NSP, loss_MLM = model(x, y_NSP=y_NSP, y_MLM=y_MLM, loss_mask_MLM=loss_mask_MLM)\n",
    "    loss = loss_NSP + loss_MLM\n",
    "    loss.backward()\n",
    "    optimizer.step()\n",
    "    MLMloss.log_train(train_epoch, loss_MLM.item())\n",
    "    NSPloss.log_train(train_epoch, loss_NSP.item())\n",
    "    \n",
    "    if train_epoch % config.val_interval == 0:\n",
    "        \n",
    "        with torch.no_grad():\n",
    "            model.eval()\n",
    "            for val_epoch in range(config.val_epochs):\n",
    "                x, y_MLM, loss_mask_MLM, y_NSP = data_loader.next_batch(device=device, mode=\"eval\")\n",
    "                pred_NSP, logits_MSM, loss_NSP, loss_MLM = model(x, y_NSP=y_NSP, y_MLM=y_MLM, loss_mask_MLM=loss_mask_MLM)\n",
    "                MLMloss.log_val(train_epoch, val_epoch, loss_MLM.item())\n",
    "                NSPloss.log_val(train_epoch, val_epoch, loss_NSP.item())\n",
    "            model.train()\n",
    "        \n",
    "        \n",
    "        log_string = f\"[{train_epoch}/{config.train_epochs}]\"\n",
    "        log_string += f\"[MLM losses: train={loss_MLM.item():.3f},val={MLMloss.get_val_loss(train_epoch):.3f}]\"\n",
    "        log_string += f\"[NSP losses: train={loss_NSP.item():.3f},val={NSPloss.get_val_loss(train_epoch):.3f}]\"\n",
    "        print(log_string)\n",
    "    \n",
    "# 1 attention only [4500/10000][MLM losses: train=6.047,val=5.977][NSP losses: train=0.708,val=0.690]"
   ]
  },
  {
   "cell_type": "code",
   "execution_count": 209,
   "id": "77035940-cd66-46b1-9687-21331fe8526b",
   "metadata": {
    "tags": []
   },
   "outputs": [
    {
     "data": {
      "image/png": "[encoded data removed]",
      "text/plain": [
       "<Figure size 640x480 with 1 Axes>"
      ]
     },
     "metadata": {},
     "output_type": "display_data"
    }
   ],
   "source": [
    "from matplotlib import pyplot as plt\n",
    "\n",
    "plt.plot(*MLMloss.train_loss_series(), label=\"MLM train\")\n",
    "plt.plot(*MLMloss.val_loss_series(), label=\"MLM val\")\n",
    "plt.plot(*NSPloss.train_loss_series(), label=\"NSP train\")\n",
    "plt.plot(*NSPloss.val_loss_series(), label=\"NSP val\")\n",
    "plt.legend()\n",
    "plt.show()"
   ]
  },
  {
   "cell_type": "code",
   "execution_count": 118,
   "id": "31497646-6c95-4f06-a16c-d3f137403afa",
   "metadata": {
    "tags": []
   },
   "outputs": [],
   "source": []
  },
  {
   "cell_type": "code",
   "execution_count": 119,
   "id": "82f17cf8-540b-48ce-a7cf-9b6ba4e30a91",
   "metadata": {
    "tags": []
   },
   "outputs": [
    {
     "data": {
      "text/plain": [
       "(tensor(8.4182, device='cuda:0', grad_fn=<SumBackward0>),\n",
       " tensor(0.6389, device='cuda:0', grad_fn=<BinaryCrossEntropyBackward0>))"
      ]
     },
     "execution_count": 119,
     "metadata": {},
     "output_type": "execute_result"
    }
   ],
   "source": []
  },
  {
   "cell_type": "code",
   "execution_count": null,
   "id": "bd72f8f1-a7a1-4998-b15c-45dd826ca067",
   "metadata": {},
   "outputs": [],
   "source": []
  }
 ],
 "metadata": {
  "kernelspec": {
   "display_name": "Python 3 (ipykernel)",
   "language": "python",
   "name": "python3"
  },
  "language_info": {
   "codemirror_mode": {
    "name": "ipython",
    "version": 3
   },
   "file_extension": ".py",
   "mimetype": "text/x-python",
   "name": "python",
   "nbconvert_exporter": "python",
   "pygments_lexer": "ipython3",
   "version": "3.11.7"
  }
 },
 "nbformat": 4,
 "nbformat_minor": 5
}
