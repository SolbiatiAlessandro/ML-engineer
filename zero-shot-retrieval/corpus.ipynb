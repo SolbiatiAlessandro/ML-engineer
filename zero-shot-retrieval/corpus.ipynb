{
 "cells": [
  {
   "cell_type": "code",
   "execution_count": 1,
   "id": "512cb44e",
   "metadata": {
    "_cell_guid": "b1076dfc-b9ad-4769-8c92-a6c4dae69d19",
    "_uuid": "8f2839f25d086af736a60e9eeb907d3b93b6e0e5",
    "execution": {
     "iopub.execute_input": "2025-02-11T05:01:57.137221Z",
     "iopub.status.busy": "2025-02-11T05:01:57.136841Z",
     "iopub.status.idle": "2025-02-11T05:01:58.126944Z",
     "shell.execute_reply": "2025-02-11T05:01:58.125602Z"
    },
    "papermill": {
     "duration": 0.999106,
     "end_time": "2025-02-11T05:01:58.128821",
     "exception": false,
     "start_time": "2025-02-11T05:01:57.129715",
     "status": "completed"
    },
    "tags": []
   },
   "outputs": [
    {
     "name": "stdout",
     "output_type": "stream",
     "text": [
      "/kaggle/input/vmware-zero-shot-information-retrieval/sample_submission.csv\n",
      "/kaggle/input/vmware-zero-shot-information-retrieval/vmware_ir_content.csv\n",
      "/kaggle/input/vmware-zero-shot-information-retrieval/test.csv\n"
     ]
    }
   ],
   "source": [
    "# This Python 3 environment comes with many helpful analytics libraries installed\n",
    "# It is defined by the kaggle/python Docker image: https://github.com/kaggle/docker-python\n",
    "# For example, here's several helpful packages to load\n",
    "\n",
    "import numpy as np # linear algebra\n",
    "import pandas as pd # data processing, CSV file I/O (e.g. pd.read_csv)\n",
    "\n",
    "# Input data files are available in the read-only \"../input/\" directory\n",
    "# For example, running this (by clicking run or pressing Shift+Enter) will list all files under the input directory\n",
    "\n",
    "import os\n",
    "for dirname, _, filenames in os.walk('/kaggle/input'):\n",
    "    for filename in filenames:\n",
    "        print(os.path.join(dirname, filename))\n",
    "\n",
    "# You can write up to 20GB to the current directory (/kaggle/working/) that gets preserved as output when you create a version using \"Save & Run All\" \n",
    "# You can also write temporary files to /kaggle/temp/, but they won't be saved outside of the current session"
   ]
  },
  {
   "cell_type": "markdown",
   "id": "09e11049",
   "metadata": {
    "execution": {
     "iopub.execute_input": "2025-02-11T01:14:53.821095Z",
     "iopub.status.busy": "2025-02-11T01:14:53.820782Z",
     "iopub.status.idle": "2025-02-11T01:14:53.824440Z",
     "shell.execute_reply": "2025-02-11T01:14:53.823436Z",
     "shell.execute_reply.started": "2025-02-11T01:14:53.821075Z"
    },
    "papermill": {
     "duration": 0.004993,
     "end_time": "2025-02-11T05:01:58.139462",
     "exception": false,
     "start_time": "2025-02-11T05:01:58.134469",
     "status": "completed"
    },
    "tags": []
   },
   "source": [
    "# Documents EDA"
   ]
  },
  {
   "cell_type": "code",
   "execution_count": 2,
   "id": "8d0dcfa0",
   "metadata": {
    "execution": {
     "iopub.execute_input": "2025-02-11T05:01:58.151512Z",
     "iopub.status.busy": "2025-02-11T05:01:58.150721Z",
     "iopub.status.idle": "2025-02-11T05:02:20.618400Z",
     "shell.execute_reply": "2025-02-11T05:02:20.617303Z"
    },
    "papermill": {
     "duration": 22.475757,
     "end_time": "2025-02-11T05:02:20.620381",
     "exception": false,
     "start_time": "2025-02-11T05:01:58.144624",
     "status": "completed"
    },
    "tags": []
   },
   "outputs": [],
   "source": [
    "import pandas as pd\n",
    "content = pd.read_csv(\"/kaggle/input/vmware-zero-shot-information-retrieval/vmware_ir_content.csv\")"
   ]
  },
  {
   "cell_type": "code",
   "execution_count": 3,
   "id": "f981456a",
   "metadata": {
    "execution": {
     "iopub.execute_input": "2025-02-11T05:02:20.632135Z",
     "iopub.status.busy": "2025-02-11T05:02:20.631755Z",
     "iopub.status.idle": "2025-02-11T05:02:20.671128Z",
     "shell.execute_reply": "2025-02-11T05:02:20.670081Z"
    },
    "papermill": {
     "duration": 0.047025,
     "end_time": "2025-02-11T05:02:20.672805",
     "exception": false,
     "start_time": "2025-02-11T05:02:20.625780",
     "status": "completed"
    },
    "tags": []
   },
   "outputs": [
    {
     "data": {
      "text/plain": [
       "document_group\n",
       "docs        258642\n",
       "blog         31396\n",
       "kb           28113\n",
       "cb            3217\n",
       "vmw-com       1003\n",
       "sdw            664\n",
       "tz             503\n",
       "tanzu          243\n",
       "glossary       182\n",
       "Name: count, dtype: int64"
      ]
     },
     "execution_count": 3,
     "metadata": {},
     "output_type": "execute_result"
    }
   ],
   "source": [
    "content.document_group.value_counts()"
   ]
  },
  {
   "cell_type": "code",
   "execution_count": 4,
   "id": "906e79d2",
   "metadata": {
    "execution": {
     "iopub.execute_input": "2025-02-11T05:02:20.684875Z",
     "iopub.status.busy": "2025-02-11T05:02:20.684455Z",
     "iopub.status.idle": "2025-02-11T05:02:20.762731Z",
     "shell.execute_reply": "2025-02-11T05:02:20.761415Z"
    },
    "papermill": {
     "duration": 0.086153,
     "end_time": "2025-02-11T05:02:20.764491",
     "exception": false,
     "start_time": "2025-02-11T05:02:20.678338",
     "status": "completed"
    },
    "tags": []
   },
   "outputs": [
    {
     "name": "stdout",
     "output_type": "stream",
     "text": [
      "document_group docs\n",
      "f_name en-2021-VMware-Cloud-Director-8-10-com-vmware-vcloud-admin-doc_810-GUID-4E95CAD9-3FF6-45D6-A85F-34937918D5D9-html.txt\n",
      "raw_text Add organizations to the virtual data center template access list to allow those organizations to instantiate virtual data centers from the template.\n",
      "Procedure\n",
      "Select an organization from the Available Organizations list and click Add to add the organization to the virtual data center template access list. \n",
      "Repeat this step to add multiple organizations to the access list.\n",
      "Select an organization from the Selected Organizations list and click Remove to remove the organization from the virtual data center access list. \n",
      "Repeat this step to remove multiple organizations from the access list.\n",
      "Click Next.\n",
      "raw_meta {'type': 'task', 'subject': 'vmware, cloudcomputing, datacenterefficiency, multi-tenancy, privatecloud, publiccloud', 'title': 'Configure the Access List', 'abstract': '', 'description': 'Add organizations to the virtual data center template access list to allow those organizations to instantiate virtual data centers from the template.', 'keywords': 'VDC templates, organizations, VDC templates, access', 'guid': 'GUID-4E95CAD9-3FF6-45D6-A85F-34937918D5D9', 'format': 'HTML5', 'language': 'en', 'last-modified': '31/05/2019 06:02:30', 'author': 'rebekah', 'product': 'VMware Cloud Director 8.10', 'machine-translated': 'no'}\n"
     ]
    }
   ],
   "source": [
    "for k,v in content[content.document_group == 'docs'].iloc[0].to_dict().items():\n",
    "    print(k,v)\n"
   ]
  },
  {
   "cell_type": "code",
   "execution_count": 5,
   "id": "7a05c6d1",
   "metadata": {
    "execution": {
     "iopub.execute_input": "2025-02-11T05:02:20.776527Z",
     "iopub.status.busy": "2025-02-11T05:02:20.776139Z",
     "iopub.status.idle": "2025-02-11T05:02:20.995984Z",
     "shell.execute_reply": "2025-02-11T05:02:20.994805Z"
    },
    "papermill": {
     "duration": 0.22771,
     "end_time": "2025-02-11T05:02:20.997659",
     "exception": false,
     "start_time": "2025-02-11T05:02:20.769949",
     "status": "completed"
    },
    "tags": []
   },
   "outputs": [
    {
     "name": "stderr",
     "output_type": "stream",
     "text": [
      "<ipython-input-5-7dbf9ee2de69>:1: UserWarning: Boolean Series key will be reindexed to match DataFrame index.\n",
      "  l = list(content[content.document_group == 'docs'][content['raw_text'].notna()]['raw_text'])\n"
     ]
    }
   ],
   "source": [
    "l = list(content[content.document_group == 'docs'][content['raw_text'].notna()]['raw_text'])"
   ]
  },
  {
   "cell_type": "code",
   "execution_count": 6,
   "id": "62cf6e9e",
   "metadata": {
    "execution": {
     "iopub.execute_input": "2025-02-11T05:02:21.010073Z",
     "iopub.status.busy": "2025-02-11T05:02:21.009711Z",
     "iopub.status.idle": "2025-02-11T05:02:21.156697Z",
     "shell.execute_reply": "2025-02-11T05:02:21.155581Z"
    },
    "papermill": {
     "duration": 0.155234,
     "end_time": "2025-02-11T05:02:21.158577",
     "exception": false,
     "start_time": "2025-02-11T05:02:21.003343",
     "status": "completed"
    },
    "tags": []
   },
   "outputs": [
    {
     "data": {
      "text/plain": [
       "(2070.55026491886, 109022, 3)"
      ]
     },
     "execution_count": 6,
     "metadata": {},
     "output_type": "execute_result"
    }
   ],
   "source": [
    "lengths = sorted(list(map(len, l)))[:-100]\n",
    "sum(lengths)/len(l), max(lengths), min(lengths)"
   ]
  },
  {
   "cell_type": "code",
   "execution_count": 7,
   "id": "f22a21c8",
   "metadata": {
    "execution": {
     "iopub.execute_input": "2025-02-11T05:02:21.171088Z",
     "iopub.status.busy": "2025-02-11T05:02:21.170713Z",
     "iopub.status.idle": "2025-02-11T05:02:22.254868Z",
     "shell.execute_reply": "2025-02-11T05:02:22.253645Z"
    },
    "papermill": {
     "duration": 1.092328,
     "end_time": "2025-02-11T05:02:22.256517",
     "exception": false,
     "start_time": "2025-02-11T05:02:21.164189",
     "status": "completed"
    },
    "tags": []
   },
   "outputs": [
    {
     "data": {
      "image/png": "[encoded data removed]",
      "text/plain": [
       "<Figure size 640x480 with 1 Axes>"
      ]
     },
     "metadata": {},
     "output_type": "display_data"
    }
   ],
   "source": [
    "import matplotlib.pyplot as plt\n",
    "plt.hist(lengths[:-1000])\n",
    "plt.title(\"histogram of number of documents with given length\")\n",
    "plt.xlabel(\"document length\")\n",
    "plt.ylabel(\"# of documents\")\n",
    "plt.show()"
   ]
  },
  {
   "cell_type": "code",
   "execution_count": 8,
   "id": "f9280f58",
   "metadata": {
    "execution": {
     "iopub.execute_input": "2025-02-11T05:02:22.270263Z",
     "iopub.status.busy": "2025-02-11T05:02:22.269906Z",
     "iopub.status.idle": "2025-02-11T05:02:22.308021Z",
     "shell.execute_reply": "2025-02-11T05:02:22.306767Z"
    },
    "papermill": {
     "duration": 0.04727,
     "end_time": "2025-02-11T05:02:22.310029",
     "exception": false,
     "start_time": "2025-02-11T05:02:22.262759",
     "status": "completed"
    },
    "tags": []
   },
   "outputs": [
    {
     "name": "stdout",
     "output_type": "stream",
     "text": [
      "document_group blog\n",
      "f_name https---blogs.vmware.com-networkvirtualization-2021-05-it-should-be-easy-to-upgrade-your-load-balancer-and-it-can-be.html-easylb3-.txt\n",
      "raw_text EasyLB3 | Network and Security Virtualization\n",
      "Please activate some Widgets.\n",
      "Networking & Security Technology\n",
      "Networking and Security Solutions\n",
      "Intrinsic Security Solutions\n",
      "Network Security\n",
      "Network Automation\n",
      "Multi-cloud Networking\n",
      "Container Networking\n",
      "Company Information\n",
      "Leadership\n",
      "Careers at VMware\n",
      "Acquisitions\n",
      "Office Locations\n",
      "Contact VMware\n",
      "Investor Relations\n",
      "VMware Foundation\n",
      "Why Choose VMware?\n",
      "News & Events\n",
      "Newsroom\n",
      "Articles\n",
      "Events\n",
      "Awards\n",
      "Media Resource Center\n",
      "Media & Contacts\n",
      "Community\n",
      "NSX Tech Zone\n",
      "VMware NSX on YouTube\n",
      "VMware NSX on Twitter\n",
      "VMware NSX on Facebook\n",
      "VMware Blogs\n",
      "Community Terms of Use\n",
      "Developer Center\n",
      "© 2021 VMware, Inc\n",
      "Contact Us\n",
      "Terms of Use\n",
      "Privacy\n",
      "Accessibility\n",
      "Site Index\n",
      "Trademarks\n",
      "Help\n",
      "Feedback\n",
      "Twitter\n",
      "Facebook\n",
      "LinkedIn\n",
      "YouTube\n",
      "RSS\n",
      "Cookie Settings\n",
      "raw_meta {'microsites-utag': 'https://tags.tiqcdn.com/utag/vmware/microsites-privacy/prod/utag.js', 'onetrust-data-domain': 'b9242434-9feb-47be-a894-3a9e658fdd50', 'viewport': 'width=device-width, initial-scale=1.0, maximum-scale=1.0, user-scalable=no', 'titleTag': 'EasyLB3 | Network and Security Virtualization', 'robots': 'max-snippet:-1, max-image-preview:large, max-video-preview:-1', 'twitter:card': 'summary_large_image', 'twitter:title': 'EasyLB3 | Network and Security Virtualization', 'twitter:site': '@vmwarensx', 'twitter:image': 'https://blogs.vmware.com/networkvirtualization/files/2021/05/EasyLB3.png', 'twitter:creator': '@vmwarensx'}\n"
     ]
    }
   ],
   "source": [
    "for k,v in content[content.document_group == 'blog'].iloc[100].to_dict().items():\n",
    "    print(k,v)\n"
   ]
  },
  {
   "cell_type": "code",
   "execution_count": 9,
   "id": "083f1470",
   "metadata": {
    "execution": {
     "iopub.execute_input": "2025-02-11T05:02:22.323947Z",
     "iopub.status.busy": "2025-02-11T05:02:22.323604Z",
     "iopub.status.idle": "2025-02-11T05:02:22.413185Z",
     "shell.execute_reply": "2025-02-11T05:02:22.412081Z"
    },
    "papermill": {
     "duration": 0.0984,
     "end_time": "2025-02-11T05:02:22.414887",
     "exception": false,
     "start_time": "2025-02-11T05:02:22.316487",
     "status": "completed"
    },
    "tags": []
   },
   "outputs": [
    {
     "name": "stderr",
     "output_type": "stream",
     "text": [
      "<ipython-input-9-ee80dbc2a401>:1: UserWarning: Boolean Series key will be reindexed to match DataFrame index.\n",
      "  l = list(content[content.document_group == 'blog'][content['raw_text'].notna()]['raw_text'])\n"
     ]
    }
   ],
   "source": [
    "l = list(content[content.document_group == 'blog'][content['raw_text'].notna()]['raw_text'])"
   ]
  },
  {
   "cell_type": "code",
   "execution_count": 10,
   "id": "4fd8de59",
   "metadata": {
    "execution": {
     "iopub.execute_input": "2025-02-11T05:02:22.429033Z",
     "iopub.status.busy": "2025-02-11T05:02:22.428681Z",
     "iopub.status.idle": "2025-02-11T05:02:22.455400Z",
     "shell.execute_reply": "2025-02-11T05:02:22.454490Z"
    },
    "papermill": {
     "duration": 0.035714,
     "end_time": "2025-02-11T05:02:22.456971",
     "exception": false,
     "start_time": "2025-02-11T05:02:22.421257",
     "status": "completed"
    },
    "tags": []
   },
   "outputs": [
    {
     "data": {
      "text/plain": [
       "(3532.3751114791694, 106315, 33)"
      ]
     },
     "execution_count": 10,
     "metadata": {},
     "output_type": "execute_result"
    }
   ],
   "source": [
    "lengths = sorted(list(map(len, l)))\n",
    "sum(lengths)/len(l), max(lengths), min(lengths)"
   ]
  },
  {
   "cell_type": "code",
   "execution_count": 11,
   "id": "9631b3ee",
   "metadata": {
    "execution": {
     "iopub.execute_input": "2025-02-11T05:02:22.471055Z",
     "iopub.status.busy": "2025-02-11T05:02:22.470704Z",
     "iopub.status.idle": "2025-02-11T05:02:22.773938Z",
     "shell.execute_reply": "2025-02-11T05:02:22.772610Z"
    },
    "papermill": {
     "duration": 0.312442,
     "end_time": "2025-02-11T05:02:22.775867",
     "exception": false,
     "start_time": "2025-02-11T05:02:22.463425",
     "status": "completed"
    },
    "tags": []
   },
   "outputs": [
    {
     "data": {
      "image/png": "[encoded data removed]",
      "text/plain": [
       "<Figure size 640x480 with 1 Axes>"
      ]
     },
     "metadata": {},
     "output_type": "display_data"
    }
   ],
   "source": [
    "import matplotlib.pyplot as plt\n",
    "plt.hist(lengths[:-1000])\n",
    "plt.title(\"histogram of number of documents with given length\")\n",
    "plt.xlabel(\"document length\")\n",
    "plt.ylabel(\"# of documents\")\n",
    "plt.show()"
   ]
  },
  {
   "cell_type": "markdown",
   "id": "94652b0d",
   "metadata": {
    "papermill": {
     "duration": 0.006766,
     "end_time": "2025-02-11T05:02:22.789768",
     "exception": false,
     "start_time": "2025-02-11T05:02:22.783002",
     "status": "completed"
    },
    "tags": []
   },
   "source": [
    "# Queries EDA"
   ]
  },
  {
   "cell_type": "code",
   "execution_count": 12,
   "id": "f602ee16",
   "metadata": {
    "execution": {
     "iopub.execute_input": "2025-02-11T05:02:22.804793Z",
     "iopub.status.busy": "2025-02-11T05:02:22.804359Z",
     "iopub.status.idle": "2025-02-11T05:02:22.818056Z",
     "shell.execute_reply": "2025-02-11T05:02:22.817114Z"
    },
    "papermill": {
     "duration": 0.023363,
     "end_time": "2025-02-11T05:02:22.819902",
     "exception": false,
     "start_time": "2025-02-11T05:02:22.796539",
     "status": "completed"
    },
    "tags": []
   },
   "outputs": [],
   "source": [
    "import pandas as pd\n",
    "queries = pd.read_csv(\"/kaggle/input/vmware-zero-shot-information-retrieval/test.csv\")"
   ]
  },
  {
   "cell_type": "code",
   "execution_count": 13,
   "id": "89e85c1b",
   "metadata": {
    "execution": {
     "iopub.execute_input": "2025-02-11T05:02:22.835442Z",
     "iopub.status.busy": "2025-02-11T05:02:22.835068Z",
     "iopub.status.idle": "2025-02-11T05:02:22.841636Z",
     "shell.execute_reply": "2025-02-11T05:02:22.840638Z"
    },
    "papermill": {
     "duration": 0.016285,
     "end_time": "2025-02-11T05:02:22.843395",
     "exception": false,
     "start_time": "2025-02-11T05:02:22.827110",
     "status": "completed"
    },
    "tags": []
   },
   "outputs": [
    {
     "data": {
      "text/plain": [
       "2351"
      ]
     },
     "execution_count": 13,
     "metadata": {},
     "output_type": "execute_result"
    }
   ],
   "source": [
    "queries = list(queries['Query'])\n",
    "len(queries)"
   ]
  },
  {
   "cell_type": "code",
   "execution_count": 14,
   "id": "fdfbaa13",
   "metadata": {
    "execution": {
     "iopub.execute_input": "2025-02-11T05:02:22.858921Z",
     "iopub.status.busy": "2025-02-11T05:02:22.858528Z",
     "iopub.status.idle": "2025-02-11T05:02:22.862629Z",
     "shell.execute_reply": "2025-02-11T05:02:22.861620Z"
    },
    "papermill": {
     "duration": 0.013543,
     "end_time": "2025-02-11T05:02:22.864220",
     "exception": false,
     "start_time": "2025-02-11T05:02:22.850677",
     "status": "completed"
    },
    "tags": []
   },
   "outputs": [],
   "source": [
    "from random import random\n"
   ]
  },
  {
   "cell_type": "code",
   "execution_count": 15,
   "id": "4a0ab85b",
   "metadata": {
    "execution": {
     "iopub.execute_input": "2025-02-11T05:02:22.880323Z",
     "iopub.status.busy": "2025-02-11T05:02:22.879960Z",
     "iopub.status.idle": "2025-02-11T05:02:22.887199Z",
     "shell.execute_reply": "2025-02-11T05:02:22.885580Z"
    },
    "papermill": {
     "duration": 0.01781,
     "end_time": "2025-02-11T05:02:22.889126",
     "exception": false,
     "start_time": "2025-02-11T05:02:22.871316",
     "status": "completed"
    },
    "tags": []
   },
   "outputs": [
    {
     "name": "stdout",
     "output_type": "stream",
     "text": [
      "how to ping using mac\n",
      "why vm is slow\n",
      "how to install vmware tools centos\n",
      "what is application security in cyber security\n",
      "what does vmware do\n",
      "how to enable hyperthreading\n",
      "why tanzu\n",
      "how to backup vmware image\n",
      "how to check elasticsearch is running\n",
      "what vmware\n",
      "how to change keyboard language in vmware console\n",
      "hypervisor what is\n",
      "how to access dcui from vsphere client\n",
      "what do the workspace one productivity components include\n",
      "how many cores should i give my vm\n",
      "how to generate a bearer token\n",
      "how to create a distributed switch in vsphere 6.7\n",
      "how to add nfs datastore to esxi 6.7\n",
      "how to minimize vmware horizon client\n",
      "what does vmware tools do\n"
     ]
    }
   ],
   "source": [
    "for _ in range(20):\n",
    "    print(queries[int(random() * len(queries))])\n",
    "    "
   ]
  },
  {
   "cell_type": "code",
   "execution_count": 16,
   "id": "49f9467e",
   "metadata": {
    "execution": {
     "iopub.execute_input": "2025-02-11T05:02:22.905211Z",
     "iopub.status.busy": "2025-02-11T05:02:22.904848Z",
     "iopub.status.idle": "2025-02-11T05:02:22.909713Z",
     "shell.execute_reply": "2025-02-11T05:02:22.908683Z"
    },
    "papermill": {
     "duration": 0.014718,
     "end_time": "2025-02-11T05:02:22.911371",
     "exception": false,
     "start_time": "2025-02-11T05:02:22.896653",
     "status": "completed"
    },
    "tags": []
   },
   "outputs": [],
   "source": [
    "\n",
    "fqueries = filter(lambda text: ('how to' not in text) and ('what is' not in text), queries)\n",
    "how_to = filter(lambda text: 'how to' in text, queries)\n",
    "what_is = filter(lambda text: 'what is' in text, queries)"
   ]
  },
  {
   "cell_type": "code",
   "execution_count": 17,
   "id": "7818f544",
   "metadata": {
    "execution": {
     "iopub.execute_input": "2025-02-11T05:02:22.927115Z",
     "iopub.status.busy": "2025-02-11T05:02:22.926776Z",
     "iopub.status.idle": "2025-02-11T05:02:22.931545Z",
     "shell.execute_reply": "2025-02-11T05:02:22.930656Z"
    },
    "papermill": {
     "duration": 0.014457,
     "end_time": "2025-02-11T05:02:22.933128",
     "exception": false,
     "start_time": "2025-02-11T05:02:22.918671",
     "status": "completed"
    },
    "tags": []
   },
   "outputs": [],
   "source": [
    "def stats(fqueries):\n",
    "    fqueries = list(fqueries)\n",
    "    print(len(fqueries), len(fqueries)/len(queries))\n",
    "    for _ in range(20):\n",
    "        print(fqueries[int(random() * len(fqueries) - 1)])\n",
    "    \n"
   ]
  },
  {
   "cell_type": "code",
   "execution_count": 18,
   "id": "42777b1c",
   "metadata": {
    "execution": {
     "iopub.execute_input": "2025-02-11T05:02:22.948784Z",
     "iopub.status.busy": "2025-02-11T05:02:22.948346Z",
     "iopub.status.idle": "2025-02-11T05:02:22.957145Z",
     "shell.execute_reply": "2025-02-11T05:02:22.954607Z"
    },
    "papermill": {
     "duration": 0.018706,
     "end_time": "2025-02-11T05:02:22.958961",
     "exception": false,
     "start_time": "2025-02-11T05:02:22.940255",
     "status": "completed"
    },
    "tags": []
   },
   "outputs": [
    {
     "name": "stdout",
     "output_type": "stream",
     "text": [
      "396 0.1684389621437686\n",
      "what technology will allow containers in different physical servers to communicate?\n",
      "netstat check if port is open\n",
      "where vmware files are stored\n",
      "[400] an error occurred while sending an authentication request to the vcenter single sign-on server - an error occurred when processing metadata during vcenter single sign-on setup: the service provider validation failed. verify that the server url is correct and is in fqdn format, or that the hostname is a trusted service provider alias.\n",
      "the vmware tools power-on script did not run successfully in this virtual machine. if you have configured a custom power-on script in this virtual machine, make sure that it contains no errors. you can also submit a support request to report this issue.\n",
      "pci passthrough devices cannot be added when nested hardware-assisted virtualization is enabled.\n",
      "vmware redo log\n",
      "error caused by file /vmfs/volumes/ when migrating\n",
      "how vm works\n",
      "what does virtualization do on pc\n",
      "what are two requirements needed to enable a 4 vcpu virtual machine with fault tolerance\n",
      "some virtual machine operations are unavailable when pci/pcie passthrough devices are present. you cannot suspend, migrate with vmotion, or take or restore snapshots of such virtual machines.\n",
      "where does vmware store virtual machines mac\n",
      "how does esxi work\n",
      "how cloud computing provides scalability\n",
      "what are the types of hypervisiors\n",
      "how vsphere replication works\n",
      "what does it mean to virtualize a server\n",
      "why virtualization is needed\n",
      "pci passthrough devices cannot be added when nested hardware-assisted virtualization is enabled\n"
     ]
    }
   ],
   "source": [
    "stats(fqueries)"
   ]
  },
  {
   "cell_type": "code",
   "execution_count": 19,
   "id": "7a059a8a",
   "metadata": {
    "execution": {
     "iopub.execute_input": "2025-02-11T05:02:22.974579Z",
     "iopub.status.busy": "2025-02-11T05:02:22.974197Z",
     "iopub.status.idle": "2025-02-11T05:02:22.982518Z",
     "shell.execute_reply": "2025-02-11T05:02:22.981068Z"
    },
    "papermill": {
     "duration": 0.017944,
     "end_time": "2025-02-11T05:02:22.984125",
     "exception": false,
     "start_time": "2025-02-11T05:02:22.966181",
     "status": "completed"
    },
    "tags": []
   },
   "outputs": [
    {
     "name": "stdout",
     "output_type": "stream",
     "text": [
      "1371 0.5831561037856231\n",
      "how to take screenshot in vmware horizon client\n",
      "how to uninstall intelligent hub on samsung\n",
      "how to mount vmware tools in linux\n",
      "how to install vmware on windows 7\n",
      "how to install windows 10 on vmware fusion 12\n",
      "how to install ssl certificate vmware esxi\n",
      "how to secure a virtual machine\n",
      "how to move a vm from one host to another\n",
      "how to check if iis is running\n",
      "how to change vcenter root password\n",
      "how to access vmware web client\n",
      "how to close vmware\n",
      "how to upgrade vmware horizon\n",
      "how to deploy vm from ova file\n",
      "how to transfer vm from one esxi to another\n",
      "how to run vmdk file in vmware\n",
      "how to change vmware ip address\n",
      "how to reset vcenter root password\n",
      "how to use vsphere\n",
      "how to enable vsan\n"
     ]
    }
   ],
   "source": [
    "stats(how_to)"
   ]
  },
  {
   "cell_type": "code",
   "execution_count": 20,
   "id": "0f289599",
   "metadata": {
    "execution": {
     "iopub.execute_input": "2025-02-11T05:02:22.999770Z",
     "iopub.status.busy": "2025-02-11T05:02:22.999385Z",
     "iopub.status.idle": "2025-02-11T05:02:23.007588Z",
     "shell.execute_reply": "2025-02-11T05:02:23.006723Z"
    },
    "papermill": {
     "duration": 0.018137,
     "end_time": "2025-02-11T05:02:23.009519",
     "exception": false,
     "start_time": "2025-02-11T05:02:22.991382",
     "status": "completed"
    },
    "tags": []
   },
   "outputs": [
    {
     "name": "stdout",
     "output_type": "stream",
     "text": [
      "585 0.24883028498511273\n",
      "what is multipathing in vmware\n",
      "what is vdi and how it works\n",
      "what is infrastructure security in cyber security\n",
      "what is cloud infrastructure\n",
      "what is vmotion in vmware how to configure it\n",
      "what is vdi stand for\n",
      "what is server virtualization?\n",
      "what is com.samsung.sdm.sdmviewer\n",
      "what is a vmware snapshot\n",
      "what is the role of hypervisor in cloud computing\n",
      "what is the function of a hypervisor in a cloud solution\n",
      "what is vmware vsphere hypervisor\n",
      "vmware what is it\n",
      "what is sddc\n",
      "what is server virtualization?\n",
      "what is container management\n",
      "what is kubernetes deployment\n",
      "what is application security and why is it important\n",
      "what is vcenter?\n",
      "what is disaster recovery?\n"
     ]
    }
   ],
   "source": [
    "stats(what_is)"
   ]
  },
  {
   "cell_type": "code",
   "execution_count": 21,
   "id": "c44c60b6",
   "metadata": {
    "execution": {
     "iopub.execute_input": "2025-02-11T05:02:23.025708Z",
     "iopub.status.busy": "2025-02-11T05:02:23.025329Z",
     "iopub.status.idle": "2025-02-11T05:02:23.065589Z",
     "shell.execute_reply": "2025-02-11T05:02:23.064523Z"
    },
    "papermill": {
     "duration": 0.050704,
     "end_time": "2025-02-11T05:02:23.067810",
     "exception": false,
     "start_time": "2025-02-11T05:02:23.017106",
     "status": "completed"
    },
    "tags": []
   },
   "outputs": [],
   "source": [
    "sample_submission = pd.read_csv(\"/kaggle/input/vmware-zero-shot-information-retrieval/sample_submission.csv\")"
   ]
  },
  {
   "cell_type": "code",
   "execution_count": 22,
   "id": "18c9aad1",
   "metadata": {
    "execution": {
     "iopub.execute_input": "2025-02-11T05:02:23.084068Z",
     "iopub.status.busy": "2025-02-11T05:02:23.083740Z",
     "iopub.status.idle": "2025-02-11T05:02:23.091914Z",
     "shell.execute_reply": "2025-02-11T05:02:23.090766Z"
    },
    "papermill": {
     "duration": 0.018489,
     "end_time": "2025-02-11T05:02:23.093891",
     "exception": false,
     "start_time": "2025-02-11T05:02:23.075402",
     "status": "completed"
    },
    "tags": []
   },
   "outputs": [
    {
     "data": {
      "text/plain": [
       "['en-2021-VMware-Tanzu-Kubernetes-Grid-1-3-vmware-tanzu-kubernetes-grid-13-GUID-extensions-logging-fluentbit-html.txt',\n",
       " 'en-2021-VMware-Workstation-Pro-16-0-com-vmware-ws-using-doc-GUID-273D2B95-BC22-46D9-BE9A-3986AA8473B9-html.txt',\n",
       " 'en-2021-VMware-Smart-Assurance-10-1-0-ncm-installation-guide-10-1-0-GUID-00DC8FF3-ECFA-4365-8854-EE3103415303-html.txt',\n",
       " 'https---blogs.vmware.com-hol-2020-08-raffle-winner-spotlight-wc.txt',\n",
       " 'https---blogs.vmware.com-networkvirtualization-promo-.txt',\n",
       " 'en-2021-VMware-vSphere-6-0-com-vmware-vsphere-security-doc-GUID-B8D60389-AF95-4368-8AB2-D282CBE0C4A9-html.txt',\n",
       " '910.txt',\n",
       " 'en-2021-vCloud-Director-8-20-com-vmware-vcloud-admin-doc-GUID-FB7CD735-3C84-4BD1-AFBC-170DADECEDCF-html.txt',\n",
       " 'en-2021-vRealize-Orchestrator-7-5-com-vmware-vrealize-orchestrator-using-client-doc-GUID8820BF0A-ABE7-4783-8383-7FBA90D08E7A-html.txt',\n",
       " 'https---blogs.vmware.com-careers-2019-05-vmware-hiring-manager-leon-de-werker-senior-regional-director-benelux.txt']"
      ]
     },
     "execution_count": 22,
     "metadata": {},
     "output_type": "execute_result"
    }
   ],
   "source": [
    "list(sample_submission['DocumentId'])[:10]"
   ]
  },
  {
   "cell_type": "code",
   "execution_count": null,
   "id": "9e82d8f9",
   "metadata": {
    "papermill": {
     "duration": 0.007529,
     "end_time": "2025-02-11T05:02:23.108955",
     "exception": false,
     "start_time": "2025-02-11T05:02:23.101426",
     "status": "completed"
    },
    "tags": []
   },
   "outputs": [],
   "source": []
  }
 ],
 "metadata": {
  "kaggle": {
   "accelerator": "none",
   "dataSources": [
    {
     "databundleVersionId": 3515347,
     "sourceId": 35704,
     "sourceType": "competition"
    }
   ],
   "dockerImageVersionId": 30886,
   "isGpuEnabled": false,
   "isInternetEnabled": true,
   "language": "python",
   "sourceType": "notebook"
  },
  "kernelspec": {
   "display_name": "Python 3",
   "language": "python",
   "name": "python3"
  },
  "language_info": {
   "codemirror_mode": {
    "name": "ipython",
    "version": 3
   },
   "file_extension": ".py",
   "mimetype": "text/x-python",
   "name": "python",
   "nbconvert_exporter": "python",
   "pygments_lexer": "ipython3",
   "version": "3.10.12"
  },
  "papermill": {
   "default_parameters": {},
   "duration": 29.54663,
   "end_time": "2025-02-11T05:02:23.836874",
   "environment_variables": {},
   "exception": null,
   "input_path": "__notebook__.ipynb",
   "output_path": "__notebook__.ipynb",
   "parameters": {},
   "start_time": "2025-02-11T05:01:54.290244",
   "version": "2.6.0"
  }
 },
 "nbformat": 4,
 "nbformat_minor": 5
}
