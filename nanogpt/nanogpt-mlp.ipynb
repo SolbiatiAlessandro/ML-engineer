{
  "cells": [
    {
      "cell_type": "markdown",
      "id": "a7be8940-c155-49a3-930c-32733ec1add6",
      "metadata": {
        "id": "a7be8940-c155-49a3-930c-32733ec1add6"
      },
      "source": [
        "# Shakespeare dataset"
      ]
    },
    {
      "cell_type": "code",
      "execution_count": 3,
      "id": "864d7435-8ecf-4511-8d7e-f5236d0d12fa",
      "metadata": {
        "colab": {
          "base_uri": "https://localhost:8080/"
        },
        "id": "864d7435-8ecf-4511-8d7e-f5236d0d12fa",
        "outputId": "b9b16e5f-49c3-4b31-aab0-d00e5ae5b8e1"
      },
      "outputs": [
        {
          "output_type": "stream",
          "name": "stdout",
          "text": [
            "--2025-02-01 09:42:20--  https://raw.githubusercontent.com/karpathy/char-rnn/master/data/tinyshakespeare/input.txt\n",
            "Resolving raw.githubusercontent.com (raw.githubusercontent.com)... 185.199.108.133, 185.199.109.133, 185.199.110.133, ...\n",
            "Connecting to raw.githubusercontent.com (raw.githubusercontent.com)|185.199.108.133|:443... connected.\n",
            "HTTP request sent, awaiting response... 200 OK\n",
            "Length: 1115394 (1.1M) [text/plain]\n",
            "Saving to: ‘input.txt’\n",
            "\n",
            "\rinput.txt             0%[                    ]       0  --.-KB/s               \rinput.txt           100%[===================>]   1.06M  --.-KB/s    in 0.04s   \n",
            "\n",
            "2025-02-01 09:42:20 (24.5 MB/s) - ‘input.txt’ saved [1115394/1115394]\n",
            "\n"
          ]
        }
      ],
      "source": [
        "!wget https://raw.githubusercontent.com/karpathy/char-rnn/master/data/tinyshakespeare/input.txt"
      ]
    },
    {
      "cell_type": "code",
      "execution_count": 4,
      "id": "45f09b2a-8b73-4355-b10b-7e0b776ebeb0",
      "metadata": {
        "id": "45f09b2a-8b73-4355-b10b-7e0b776ebeb0"
      },
      "outputs": [],
      "source": [
        "# read it in to inspect it\n",
        "with open('input.txt', 'r', encoding='utf-8') as f:\n",
        "    text = f.read()"
      ]
    },
    {
      "cell_type": "code",
      "execution_count": 5,
      "id": "526da89e-afe5-4262-9923-f1c5d4f5bcc8",
      "metadata": {
        "colab": {
          "base_uri": "https://localhost:8080/",
          "height": 35
        },
        "id": "526da89e-afe5-4262-9923-f1c5d4f5bcc8",
        "outputId": "f0c9cd7e-cf54-469b-dde5-3b74238a6b4f"
      },
      "outputs": [
        {
          "output_type": "execute_result",
          "data": {
            "text/plain": [
              "'First Citizen:\\nBefore we proceed any further, hear me speak.\\n\\nAll:\\nSpeak, speak.\\n\\nFirst Citizen:\\nYou'"
            ],
            "application/vnd.google.colaboratory.intrinsic+json": {
              "type": "string"
            }
          },
          "metadata": {},
          "execution_count": 5
        }
      ],
      "source": [
        "text[:100]"
      ]
    },
    {
      "cell_type": "code",
      "execution_count": 10,
      "id": "857ff1ca-d212-461e-ba93-67f48fbb22e8",
      "metadata": {
        "colab": {
          "base_uri": "https://localhost:8080/"
        },
        "id": "857ff1ca-d212-461e-ba93-67f48fbb22e8",
        "outputId": "33aa4299-9bec-4b1d-d512-307f55c28780"
      },
      "outputs": [
        {
          "output_type": "execute_result",
          "data": {
            "text/plain": [
              "1115394"
            ]
          },
          "metadata": {},
          "execution_count": 10
        }
      ],
      "source": [
        "len(text)"
      ]
    },
    {
      "cell_type": "code",
      "execution_count": 6,
      "id": "e6cc8b97-5aed-4eb1-8145-27d4fe178d0d",
      "metadata": {
        "id": "e6cc8b97-5aed-4eb1-8145-27d4fe178d0d"
      },
      "outputs": [],
      "source": [
        "characters = set()\n",
        "for c in text:\n",
        "    characters.add(c)"
      ]
    },
    {
      "cell_type": "code",
      "execution_count": 12,
      "id": "a98b3b5d-93ba-447d-ac02-f7b2617e63ad",
      "metadata": {
        "colab": {
          "base_uri": "https://localhost:8080/"
        },
        "id": "a98b3b5d-93ba-447d-ac02-f7b2617e63ad",
        "outputId": "f425a94f-77fe-4823-b3e8-8ead2afd3b46"
      },
      "outputs": [
        {
          "output_type": "execute_result",
          "data": {
            "text/plain": [
              "65"
            ]
          },
          "metadata": {},
          "execution_count": 12
        }
      ],
      "source": [
        "len(characters)"
      ]
    },
    {
      "cell_type": "code",
      "execution_count": 7,
      "id": "fa5e7545-aa82-4110-8c69-15eed560f1b6",
      "metadata": {
        "id": "fa5e7545-aa82-4110-8c69-15eed560f1b6"
      },
      "outputs": [],
      "source": [
        "int_to_characters = {i: c for i, c in enumerate(characters)}\n",
        "characters_to_int = {c: i for i, c in enumerate(characters)}"
      ]
    },
    {
      "cell_type": "code",
      "execution_count": 8,
      "id": "05f0d127-4258-498f-89e6-cf4841332a6f",
      "metadata": {
        "colab": {
          "base_uri": "https://localhost:8080/"
        },
        "id": "05f0d127-4258-498f-89e6-cf4841332a6f",
        "outputId": "f7e93da7-197e-42c8-a220-cca047318752"
      },
      "outputs": [
        {
          "output_type": "execute_result",
          "data": {
            "text/plain": [
              "[7, 49, 44, 44, 57, 26, 35, 57, 13, 44, 40]"
            ]
          },
          "metadata": {},
          "execution_count": 8
        }
      ],
      "source": [
        "[characters_to_int[c] for c in \"hello world\"]"
      ]
    },
    {
      "cell_type": "code",
      "execution_count": 146,
      "id": "5d91462f-7b1f-46e3-a184-8672658ee119",
      "metadata": {
        "id": "5d91462f-7b1f-46e3-a184-8672658ee119"
      },
      "outputs": [],
      "source": [
        "CONTEXT_WINDOW = 20"
      ]
    },
    {
      "cell_type": "code",
      "execution_count": 147,
      "id": "ad7ea824-be25-4273-8999-770b96c0e756",
      "metadata": {
        "id": "ad7ea824-be25-4273-8999-770b96c0e756"
      },
      "outputs": [],
      "source": [
        "X, y = [], []"
      ]
    },
    {
      "cell_type": "code",
      "execution_count": 148,
      "id": "a103cee0-62e8-42fe-8949-1c80f8bf96fe",
      "metadata": {
        "id": "a103cee0-62e8-42fe-8949-1c80f8bf96fe"
      },
      "outputs": [],
      "source": [
        "k = 0\n",
        "for k in range(len(text) - 70):\n",
        "    xx = text[k:k+CONTEXT_WINDOW]\n",
        "    yy = text[k+CONTEXT_WINDOW]\n",
        "\n",
        "    X.append([characters_to_int[c] for c in xx])\n",
        "    y.append(characters_to_int[yy])"
      ]
    },
    {
      "cell_type": "code",
      "execution_count": 149,
      "id": "b423e7a7-17ef-4946-b694-0535fadd66b1",
      "metadata": {
        "id": "b423e7a7-17ef-4946-b694-0535fadd66b1"
      },
      "outputs": [],
      "source": [
        "X_train, X_test, y_train, y_test = [], [], [], []\n",
        "import random\n",
        "\n",
        "for i in range(len(X)):\n",
        "    if random.random() < 0.01:\n",
        "        X_test.append(X[i])\n",
        "        y_test.append(y[i])\n",
        "    else:\n",
        "        X_train.append(X[i])\n",
        "        y_train.append(y[i])\n",
        ""
      ]
    },
    {
      "cell_type": "code",
      "execution_count": 150,
      "id": "fe69b3df-2b4d-4d3e-a8ba-5a0fec912624",
      "metadata": {
        "colab": {
          "base_uri": "https://localhost:8080/"
        },
        "id": "fe69b3df-2b4d-4d3e-a8ba-5a0fec912624",
        "outputId": "84e97569-42bc-4b4a-c89d-80c0d9bc045e"
      },
      "outputs": [
        {
          "output_type": "execute_result",
          "data": {
            "text/plain": [
              "(1104122,\n",
              " 20,\n",
              " [23, 59, 13, 64, 0, 26, 63, 59, 0, 59, 54, 49, 28, 36, 12, 5, 49, 3, 57, 13],\n",
              " 1104122,\n",
              " 49)"
            ]
          },
          "metadata": {},
          "execution_count": 150
        }
      ],
      "source": [
        "len(X_train), len(X_train[0]), X_train[0], len(y_train), y_train[0]"
      ]
    },
    {
      "cell_type": "markdown",
      "id": "ac91ed3d-59ea-4f0f-b571-fa047e66325c",
      "metadata": {
        "id": "ac91ed3d-59ea-4f0f-b571-fa047e66325c"
      },
      "source": [
        "# MLP model"
      ]
    },
    {
      "cell_type": "markdown",
      "id": "b30e81c1-3fe5-4452-9f0e-edb0152be681",
      "metadata": {
        "id": "b30e81c1-3fe5-4452-9f0e-edb0152be681"
      },
      "source": [
        "multi label classification supervised task with 65 labels"
      ]
    },
    {
      "cell_type": "code",
      "execution_count": null,
      "id": "ed9b5239-38b8-4ba6-aeec-bc8e668f7f40",
      "metadata": {
        "id": "ed9b5239-38b8-4ba6-aeec-bc8e668f7f40"
      },
      "outputs": [],
      "source": [
        "# https://pytorch.org/tutorials/beginner/basics/quickstart_tutorial.html"
      ]
    },
    {
      "cell_type": "code",
      "execution_count": null,
      "id": "9047b7b0-f12f-4eab-8aa6-1d2500c732fe",
      "metadata": {
        "id": "9047b7b0-f12f-4eab-8aa6-1d2500c732fe",
        "outputId": "ecb83c59-8d09-4b9d-ad75-faeac56ca32a"
      },
      "outputs": [
        {
          "name": "stdout",
          "output_type": "stream",
          "text": [
            "Collecting torchvision\n",
            "  Downloading torchvision-0.21.0-cp310-cp310-macosx_11_0_arm64.whl (1.8 MB)\n",
            "\u001b[2K     \u001b[90m━━━━━━━━━━━━━━━━━━━━━━━━━━━━━━━━━━━━━━━━\u001b[0m \u001b[32m1.8/1.8 MB\u001b[0m \u001b[31m17.6 MB/s\u001b[0m eta \u001b[36m0:00:00\u001b[0ma \u001b[36m0:00:01\u001b[0m\n",
            "Collecting numpy\n",
            "  Downloading numpy-2.2.2-cp310-cp310-macosx_14_0_arm64.whl (5.4 MB)\n",
            "\u001b[2K     \u001b[90m━━━━━━━━━━━━━━━━━━━━━━━━━━━━━━━━━━━━━━━━\u001b[0m \u001b[32m5.4/5.4 MB\u001b[0m \u001b[31m58.8 MB/s\u001b[0m eta \u001b[36m0:00:00\u001b[0m00:01\u001b[0m00:01\u001b[0m\n",
            "\u001b[?25hRequirement already satisfied: torch==2.6.0 in /Users/lessandro/Interview/virtualenv/lib/python3.10/site-packages (from torchvision) (2.6.0)\n",
            "Collecting pillow!=8.3.*,>=5.3.0\n",
            "  Downloading pillow-11.1.0-cp310-cp310-macosx_11_0_arm64.whl (3.1 MB)\n",
            "\u001b[2K     \u001b[90m━━━━━━━━━━━━━━━━━━━━━━━━━━━━━━━━━━━━━━━━\u001b[0m \u001b[32m3.1/3.1 MB\u001b[0m \u001b[31m58.7 MB/s\u001b[0m eta \u001b[36m0:00:00\u001b[0ma \u001b[36m0:00:01\u001b[0m\n",
            "Requirement already satisfied: networkx in /Users/lessandro/Interview/virtualenv/lib/python3.10/site-packages (from torch==2.6.0->torchvision) (3.4.2)\n",
            "Requirement already satisfied: typing-extensions>=4.10.0 in /Users/lessandro/Interview/virtualenv/lib/python3.10/site-packages (from torch==2.6.0->torchvision) (4.12.2)\n",
            "Requirement already satisfied: filelock in /Users/lessandro/Interview/virtualenv/lib/python3.10/site-packages (from torch==2.6.0->torchvision) (3.17.0)\n",
            "Requirement already satisfied: sympy==1.13.1 in /Users/lessandro/Interview/virtualenv/lib/python3.10/site-packages (from torch==2.6.0->torchvision) (1.13.1)\n",
            "Requirement already satisfied: fsspec in /Users/lessandro/Interview/virtualenv/lib/python3.10/site-packages (from torch==2.6.0->torchvision) (2024.12.0)\n",
            "Requirement already satisfied: jinja2 in /Users/lessandro/Interview/virtualenv/lib/python3.10/site-packages (from torch==2.6.0->torchvision) (3.1.5)\n",
            "Requirement already satisfied: mpmath<1.4,>=1.1.0 in /Users/lessandro/Interview/virtualenv/lib/python3.10/site-packages (from sympy==1.13.1->torch==2.6.0->torchvision) (1.3.0)\n",
            "Requirement already satisfied: MarkupSafe>=2.0 in /Users/lessandro/Interview/virtualenv/lib/python3.10/site-packages (from jinja2->torch==2.6.0->torchvision) (3.0.2)\n",
            "Installing collected packages: pillow, numpy, torchvision\n",
            "Successfully installed numpy-2.2.2 pillow-11.1.0 torchvision-0.21.0\n",
            "\n",
            "\u001b[1m[\u001b[0m\u001b[34;49mnotice\u001b[0m\u001b[1;39;49m]\u001b[0m\u001b[39;49m A new release of pip available: \u001b[0m\u001b[31;49m22.3.1\u001b[0m\u001b[39;49m -> \u001b[0m\u001b[32;49m25.0\u001b[0m\n",
            "\u001b[1m[\u001b[0m\u001b[34;49mnotice\u001b[0m\u001b[1;39;49m]\u001b[0m\u001b[39;49m To update, run: \u001b[0m\u001b[32;49mpip install --upgrade pip\u001b[0m\n"
          ]
        }
      ],
      "source": [
        "! pip install torchvision"
      ]
    },
    {
      "cell_type": "code",
      "execution_count": 14,
      "id": "fb7dea66-2841-4f7b-ac71-e87fdfd8dcad",
      "metadata": {
        "id": "fb7dea66-2841-4f7b-ac71-e87fdfd8dcad"
      },
      "outputs": [],
      "source": [
        "import torch"
      ]
    },
    {
      "cell_type": "code",
      "execution_count": 151,
      "id": "4555a286-70f3-48ba-9746-4c95e3e2074f",
      "metadata": {
        "colab": {
          "base_uri": "https://localhost:8080/"
        },
        "id": "4555a286-70f3-48ba-9746-4c95e3e2074f",
        "outputId": "432a9e19-fa52-43c2-8cda-d0ef10fa73af"
      },
      "outputs": [
        {
          "output_type": "stream",
          "name": "stdout",
          "text": [
            "Batch 1:\n",
            "Features:\n",
            " tensor([[ 3., 14., 12.,  ..., 64., 34., 59.],\n",
            "        [51., 26., 42.,  ..., 57., 17., 44.],\n",
            "        [10., 26.,  0.,  ...,  0.,  7., 59.],\n",
            "        ...,\n",
            "        [59., 28., 55.,  ...,  7., 49., 26.],\n",
            "        [57., 57., 28.,  ...,  7., 26., 40.],\n",
            "        [57., 17., 44.,  ..., 49., 49., 26.]])\n",
            "Labels:\n",
            " tensor([13, 40, 28, 49, 60,  7, 37, 49, 26, 59, 24, 13, 49, 40, 57, 57,  6,  3,\n",
            "         0, 26,  6, 12, 18, 41, 49,  7, 64, 26, 57,  0, 49, 28, 31,  6,  8, 35,\n",
            "        18, 13,  8, 35,  0, 14, 49, 57, 42, 26,  0, 35, 26, 35, 51, 57, 26, 57,\n",
            "        26,  7, 14, 28, 26, 27, 55,  3,  0,  0, 57, 64,  6,  0, 49, 11, 20, 40,\n",
            "        40, 12, 64,  7, 26,  0, 13,  6, 35, 57, 34, 26, 14, 26, 49, 13, 64,  7,\n",
            "        11, 26, 59, 12, 34, 26, 26,  0,  6, 36, 26, 59,  9, 26, 49, 57, 42, 59,\n",
            "        29,  3, 34, 64, 19, 49, 26, 26, 49, 64, 59,  7, 49, 26, 26, 28, 35, 26,\n",
            "        13, 49, 26, 44, 64, 57,  7, 59,  7, 26, 27, 49,  3,  6, 35, 36, 59, 56,\n",
            "        59, 49, 34, 40, 59,  0, 17, 28,  6, 59, 42, 57, 17, 57, 13, 49, 35, 10,\n",
            "        57, 40, 37,  6, 51, 57, 26, 44,  9,  0, 17, 64, 62, 14, 59, 49, 49, 56,\n",
            "        49, 26, 26, 12, 28, 13, 35, 49, 44, 50,  7, 13, 50, 57,  6, 28, 57, 26,\n",
            "        26, 44, 59,  0, 47, 26, 12, 26,  0, 17, 10, 36,  7, 49, 16, 34, 40, 13,\n",
            "        57, 59, 13,  1, 14, 49, 18, 57, 13, 49, 64, 17, 57, 44, 57, 49, 28, 26,\n",
            "        59, 56, 26,  0, 26,  7, 12, 26, 12, 59,  5, 26, 26, 19, 10,  6, 23, 26,\n",
            "         3, 40, 31, 26, 49, 26, 49,  0, 30, 10, 43, 10,  7, 49, 55, 44, 12, 57,\n",
            "        26, 13,  7, 26, 47,  6, 57,  8, 10,  6, 26, 42, 13, 35, 64,  3, 28, 40,\n",
            "        44, 55, 10, 10,  7,  0, 26, 64, 16, 26, 57, 14, 12, 49, 26,  0, 28,  0,\n",
            "        26, 34, 59, 13, 26, 26, 40, 61,  7, 26, 56,  6, 20, 49,  7,  3,  6,  6,\n",
            "         7, 40, 41,  6, 49, 28, 13,  0,  7,  7, 28, 36,  3, 35, 28, 26,  8, 13,\n",
            "        14, 26, 50,  6, 26, 44,  6, 49, 26, 28, 49, 49, 11, 63, 12,  7, 14, 49,\n",
            "        26, 57,  0, 26, 28, 19, 57, 55, 13, 26, 12, 26,  9,  7,  0, 26, 64, 55,\n",
            "        12, 11, 59, 19, 49, 17, 12, 59, 49,  7, 57,  9, 59, 64, 26, 26, 49,  0,\n",
            "        14,  1, 64, 26, 26, 36, 57, 13, 64, 26, 13, 59, 49, 57, 13,  6, 64, 14,\n",
            "        49,  8, 40, 28, 41, 50, 12, 57, 59,  7, 10, 49,  7, 44, 35,  7,  7, 28,\n",
            "        26, 12,  6, 57, 49, 20, 26, 26, 28, 58, 35,  3, 40,  7, 26, 59,  7, 57,\n",
            "        49, 63, 44, 12, 12, 41, 50, 63,  6, 14, 26, 49, 59, 59, 26, 26, 13, 44,\n",
            "        49, 57, 49, 26, 13, 20,  0, 58,  0, 12, 57, 49, 26, 26, 40,  6, 36, 44,\n",
            "        43, 41, 26, 50, 64,  6, 57, 44, 64,  7, 13, 49, 64, 55, 38, 56, 49, 26,\n",
            "        17, 64, 28, 42, 19, 64, 49,  0])\n"
          ]
        }
      ],
      "source": [
        "import torch\n",
        "from torch.utils.data import Dataset, DataLoader\n",
        "\n",
        "# Custom Dataset class\n",
        "class SimpleDataset(Dataset):\n",
        "    def __init__(self, x_data, y_data):\n",
        "        # Convert to tensors\n",
        "        self.x_data = torch.tensor(x_data, dtype=torch.float32)\n",
        "        self.y_data = torch.tensor(y_data, dtype=torch.long)\n",
        "\n",
        "    def __len__(self):\n",
        "        return len(self.x_data)\n",
        "\n",
        "    def __getitem__(self, idx):\n",
        "        return self.x_data[idx], self.y_data[idx]\n",
        "\n",
        "# Create dataset and DataLoader\n",
        "train_dataloader = DataLoader(SimpleDataset(X_train, y_train), batch_size=512, shuffle=True, num_workers=2, pin_memory=True)\n",
        "test_dataloader = DataLoader(SimpleDataset(X_test, y_test), batch_size=512, shuffle=True, num_workers=2, pin_memory=True)\n",
        "\n",
        "# Iterate over the DataLoader\n",
        "for batch_idx, (features, labels) in enumerate(train_dataloader):\n",
        "    print(f\"Batch {batch_idx + 1}:\")\n",
        "    print(\"Features:\\n\", features)\n",
        "    print(\"Labels:\\n\", labels)\n",
        "    break  # Just to show the first batch for demonstration\n"
      ]
    },
    {
      "cell_type": "code",
      "execution_count": 105,
      "id": "5a7e0acc-414c-415e-843c-21feb052e6fa",
      "metadata": {
        "colab": {
          "base_uri": "https://localhost:8080/"
        },
        "id": "5a7e0acc-414c-415e-843c-21feb052e6fa",
        "outputId": "50d25d7c-0450-4e25-d9eb-b3bac2cd4122"
      },
      "outputs": [
        {
          "output_type": "stream",
          "name": "stdout",
          "text": [
            "Shape of X [N, C, H, W]: torch.Size([512, 64])\n",
            "Shape of y: torch.Size([512]) torch.int64\n"
          ]
        }
      ],
      "source": [
        "for X, y in test_dataloader:\n",
        "    print(f\"Shape of X [N, C, H, W]: {X.shape}\")\n",
        "    print(f\"Shape of y: {y.shape} {y.dtype}\")\n",
        "    break"
      ]
    },
    {
      "cell_type": "code",
      "execution_count": 106,
      "id": "08b2bff1-4c3d-4511-9309-13517c3f649d",
      "metadata": {
        "colab": {
          "base_uri": "https://localhost:8080/"
        },
        "id": "08b2bff1-4c3d-4511-9309-13517c3f649d",
        "outputId": "32df84c5-10f5-42e9-c88f-3de36ae3d512"
      },
      "outputs": [
        {
          "output_type": "stream",
          "name": "stdout",
          "text": [
            "Shape of X [N, C, H, W]: torch.Size([512, 64])\n",
            "Shape of y: torch.Size([512]) torch.int64\n"
          ]
        }
      ],
      "source": [
        "for X, y in train_dataloader:\n",
        "    print(f\"Shape of X [N, C, H, W]: {X.shape}\")\n",
        "    print(f\"Shape of y: {y.shape} {y.dtype}\")\n",
        "    break"
      ]
    },
    {
      "cell_type": "code",
      "source": [
        "import torch\n",
        "\n",
        "if torch.cuda.is_available():\n",
        "    device_index = torch.cuda.current_device()\n",
        "    device_name = torch.cuda.get_device_name(device_index)\n",
        "    capability = torch.cuda.get_device_capability(device_index)\n",
        "    memory = torch.cuda.get_device_properties(device_index).total_memory / 1e9  # Convert to GB\n",
        "\n",
        "    print(f\"Device Index: {device_index}\")\n",
        "    print(f\"Device Name: {device_name}\")\n",
        "    print(f\"Compute Capability: {capability[0]}.{capability[1]}\")\n",
        "    print(f\"Total Memory: {memory:.2f} GB\")\n",
        "else:\n",
        "    print(\"CUDA device not available.\")"
      ],
      "metadata": {
        "colab": {
          "base_uri": "https://localhost:8080/"
        },
        "id": "_KwStFfxdMtj",
        "outputId": "4c6e0be6-fcd0-494a-97d0-58dd43b3ca48"
      },
      "id": "_KwStFfxdMtj",
      "execution_count": 18,
      "outputs": [
        {
          "output_type": "stream",
          "name": "stdout",
          "text": [
            "Device Index: 0\n",
            "Device Name: Tesla T4\n",
            "Compute Capability: 7.5\n",
            "Total Memory: 15.83 GB\n"
          ]
        }
      ]
    },
    {
      "cell_type": "code",
      "source": [
        "print(f\"Device being used: {torch.cuda.get_device_name(0) if torch.cuda.is_available() else 'CPU'}\")\n"
      ],
      "metadata": {
        "colab": {
          "base_uri": "https://localhost:8080/"
        },
        "id": "j6akIAYSe-d5",
        "outputId": "36940ff1-ae88-4a52-be1f-ab2f56203d88"
      },
      "id": "j6akIAYSe-d5",
      "execution_count": 19,
      "outputs": [
        {
          "output_type": "stream",
          "name": "stdout",
          "text": [
            "Device being used: Tesla T4\n"
          ]
        }
      ]
    },
    {
      "cell_type": "code",
      "execution_count": 164,
      "id": "9e646d6a-5abd-4556-b8a5-3fa46b3d52f4",
      "metadata": {
        "colab": {
          "base_uri": "https://localhost:8080/"
        },
        "id": "9e646d6a-5abd-4556-b8a5-3fa46b3d52f4",
        "outputId": "a22f2c98-af1a-4625-c34d-46cdf8a45bed"
      },
      "outputs": [
        {
          "output_type": "stream",
          "name": "stdout",
          "text": [
            "Using device: Tesla T4\n",
            "Using cuda device\n",
            "NeuralNetwork(\n",
            "  (linear_relu_stack): Sequential(\n",
            "    (0): Linear(in_features=20, out_features=2048, bias=True)\n",
            "    (1): ReLU()\n",
            "    (2): Linear(in_features=2048, out_features=2048, bias=True)\n",
            "    (3): ReLU()\n",
            "    (4): Linear(in_features=2048, out_features=2048, bias=True)\n",
            "    (5): ReLU()\n",
            "    (6): Linear(in_features=2048, out_features=65, bias=True)\n",
            "  )\n",
            ")\n"
          ]
        }
      ],
      "source": [
        "device = torch.device(\"cuda\" if torch.cuda.is_available() else \"cpu\")\n",
        "\n",
        "# Print the device name\n",
        "print(f\"Using device: {torch.cuda.get_device_name(0) if torch.cuda.is_available() else 'CPU'}\")\n",
        "\n",
        "print(f\"Using {device} device\")\n",
        "\n",
        "torch.manual_seed(15)\n",
        "if torch.cuda.is_available():\n",
        "    torch.cuda.manual_seed_all(15)\n",
        "\n",
        "import torch.nn as nn\n",
        "\n",
        "# Define model\n",
        "class NeuralNetwork(nn.Module):\n",
        "    def __init__(self):\n",
        "        super().__init__()\n",
        "        self.linear_relu_stack = nn.Sequential(\n",
        "            nn.Linear(20, 2048),\n",
        "            nn.ReLU(),\n",
        "            nn.Linear(2048, 2048),\n",
        "            nn.ReLU(),\n",
        "            nn.Linear(2048, 2048),\n",
        "            nn.ReLU(),\n",
        "            nn.Linear(2048, 65)\n",
        "        )\n",
        "\n",
        "    def forward(self, x):\n",
        "        logits = self.linear_relu_stack(x)\n",
        "        return logits\n",
        "import torch.nn.init as init\n",
        "\n",
        "def init_weights_normal(m):\n",
        "    if isinstance(m, nn.Linear):\n",
        "        init.normal_(m.weight, mean=0.0, std=0.01)\n",
        "        if m.bias is not None:\n",
        "            init.constant_(m.bias, 0)\n",
        "\n",
        "model = NeuralNetwork().to(device)\n",
        "model.apply(init_weights_normal)  # or init_weights_uniform\n",
        "print(model)"
      ]
    },
    {
      "cell_type": "code",
      "source": [],
      "metadata": {
        "id": "hPH5IyMCpIfC"
      },
      "id": "hPH5IyMCpIfC",
      "execution_count": null,
      "outputs": []
    },
    {
      "cell_type": "code",
      "execution_count": 167,
      "id": "d1457770-ec6c-48f2-bdc6-ab86c82a13a0",
      "metadata": {
        "id": "d1457770-ec6c-48f2-bdc6-ab86c82a13a0"
      },
      "outputs": [],
      "source": [
        "loss_fn = nn.CrossEntropyLoss()\n",
        "optimizer = torch.optim.SGD(model.parameters(), lr=0.9)"
      ]
    },
    {
      "cell_type": "code",
      "source": [],
      "metadata": {
        "id": "TFGCgd48pJ8l"
      },
      "id": "TFGCgd48pJ8l",
      "execution_count": null,
      "outputs": []
    },
    {
      "cell_type": "code",
      "execution_count": 162,
      "id": "4498f025-7a12-49a0-ba2b-0610e62dedb5",
      "metadata": {
        "colab": {
          "base_uri": "https://localhost:8080/"
        },
        "id": "4498f025-7a12-49a0-ba2b-0610e62dedb5",
        "outputId": "2b27a318-e94d-4be6-c99d-233c86194285"
      },
      "outputs": [
        {
          "output_type": "stream",
          "name": "stdout",
          "text": [
            "torch.Size([512, 20]) torch.Size([512])\n",
            "him, I said 'twas pi\n",
            "t\n"
          ]
        }
      ],
      "source": [
        "b, xx_y = next(enumerate(train_dataloader))\n",
        "print(xx_y[0].shape, xx_y[1].shape)\n",
        "print(\"\".join([int_to_characters[int(i)] for i in xx_y[0][0]]))\n",
        "print(\"\".join([int_to_characters[int(xx_y[1][0])]]))"
      ]
    },
    {
      "cell_type": "code",
      "source": [
        "def quick_test(dataloader, model, loss_fn, num_batches_to_test=2):\n",
        "    model.eval()\n",
        "    test_loss, correct, total_samples = 0, 0, 0\n",
        "    with torch.no_grad():\n",
        "        for batch_idx, (X, y) in enumerate(dataloader):\n",
        "            if batch_idx >= num_batches_to_test:\n",
        "                break\n",
        "            X, y = X.to(device), y.to(device)\n",
        "            pred = model(X)\n",
        "            loss = loss_fn(pred, y).item()\n",
        "            test_loss += loss\n",
        "            correct += (pred.argmax(1) == y).type(torch.float).sum().item()\n",
        "            total_samples += len(X)\n",
        "    avg_loss = test_loss / num_batches_to_test\n",
        "    accuracy = correct / total_samples\n",
        "    print(f\"Quick Test: Accuracy: {accuracy*100:>0.1f}%, Avg loss: {avg_loss:>8f}\")\n",
        "\n",
        "# Use quick_test instead of test to run only a couple of batches.\n",
        "quick_test(test_dataloader, model, loss_fn, num_batches_to_test=2)\n"
      ],
      "metadata": {
        "colab": {
          "base_uri": "https://localhost:8080/"
        },
        "id": "u53zDo16mdqt",
        "outputId": "4e04c6de-183f-4889-cf9a-4f2ab2737283"
      },
      "id": "u53zDo16mdqt",
      "execution_count": 165,
      "outputs": [
        {
          "output_type": "stream",
          "name": "stdout",
          "text": [
            "Quick Test: Accuracy: 0.3%, Avg loss: 4.183925\n"
          ]
        }
      ]
    },
    {
      "cell_type": "code",
      "execution_count": 132,
      "id": "ad39787a-9f7b-44e1-80ec-aa4ae57b9c04",
      "metadata": {
        "id": "ad39787a-9f7b-44e1-80ec-aa4ae57b9c04"
      },
      "outputs": [],
      "source": [
        "def train(dataloader, model, loss_fn, optimizer):\n",
        "    size = len(dataloader.dataset)\n",
        "    model.train()\n",
        "    for batch, (X, y) in enumerate(dataloader):\n",
        "        X, y = X.to(device), y.to(device)\n",
        "\n",
        "        # Compute prediction error\n",
        "        pred = model(X)\n",
        "        loss = loss_fn(pred, y)\n",
        "\n",
        "        # Backpropagation\n",
        "        loss.backward()\n",
        "        optimizer.step()\n",
        "        optimizer.zero_grad()\n",
        "\n",
        "        if batch % 100 == 0:\n",
        "            loss, current = loss.item(), (batch + 1) * len(X)\n",
        "            train_losses.append(loss)\n",
        "            print(f\"loss: {loss:>7f}  [{current:>5d}/{size:>5d}]\")"
      ]
    },
    {
      "cell_type": "code",
      "execution_count": 133,
      "id": "730dc562-3047-437b-8426-5b98ccd2317e",
      "metadata": {
        "id": "730dc562-3047-437b-8426-5b98ccd2317e"
      },
      "outputs": [],
      "source": [
        "def test(dataloader, model, loss_fn):\n",
        "    size = len(dataloader.dataset)\n",
        "    num_batches = len(dataloader)\n",
        "    model.eval()\n",
        "    test_loss, correct = 0, 0\n",
        "    with torch.no_grad():\n",
        "        for X, y in dataloader:\n",
        "            X, y = X.to(device), y.to(device)\n",
        "            pred = model(X)\n",
        "            _test_loss = loss_fn(pred, y).item()\n",
        "            test_losses.append(_test_loss)\n",
        "            test_loss += _test_loss\n",
        "            correct += (pred.argmax(1) == y).type(torch.float).sum().item()\n",
        "    test_loss /= num_batches\n",
        "    correct /= size\n",
        "    print(f\"Test Error: \\n Accuracy: {(100*correct):>0.1f}%, Avg loss: {test_loss:>8f} \\n\")"
      ]
    },
    {
      "cell_type": "code",
      "execution_count": 168,
      "id": "4c349906-a69e-4520-b94e-9d34fe9f6e7e",
      "metadata": {
        "colab": {
          "base_uri": "https://localhost:8080/",
          "height": 478
        },
        "id": "4c349906-a69e-4520-b94e-9d34fe9f6e7e",
        "outputId": "57b1917b-762e-4a30-cb06-41e9493a01fb"
      },
      "outputs": [
        {
          "output_type": "stream",
          "name": "stdout",
          "text": [
            "Epoch 1\n",
            "-------------------------------\n",
            "loss: 4.183852  [  512/1104122]\n",
            "loss:     nan  [51712/1104122]\n",
            "loss:     nan  [102912/1104122]\n",
            "loss:     nan  [154112/1104122]\n",
            "loss:     nan  [205312/1104122]\n"
          ]
        },
        {
          "output_type": "error",
          "ename": "KeyboardInterrupt",
          "evalue": "",
          "traceback": [
            "\u001b[0;31m---------------------------------------------------------------------------\u001b[0m",
            "\u001b[0;31mKeyboardInterrupt\u001b[0m                         Traceback (most recent call last)",
            "\u001b[0;32m<ipython-input-168-f9acc7ab0881>\u001b[0m in \u001b[0;36m<cell line: 0>\u001b[0;34m()\u001b[0m\n\u001b[1;32m      3\u001b[0m \u001b[0;32mfor\u001b[0m \u001b[0mt\u001b[0m \u001b[0;32min\u001b[0m \u001b[0mrange\u001b[0m\u001b[0;34m(\u001b[0m\u001b[0mepochs\u001b[0m\u001b[0;34m)\u001b[0m\u001b[0;34m:\u001b[0m\u001b[0;34m\u001b[0m\u001b[0;34m\u001b[0m\u001b[0m\n\u001b[1;32m      4\u001b[0m     \u001b[0mprint\u001b[0m\u001b[0;34m(\u001b[0m\u001b[0;34mf\"Epoch {t+1}\\n-------------------------------\"\u001b[0m\u001b[0;34m)\u001b[0m\u001b[0;34m\u001b[0m\u001b[0;34m\u001b[0m\u001b[0m\n\u001b[0;32m----> 5\u001b[0;31m     \u001b[0mtrain\u001b[0m\u001b[0;34m(\u001b[0m\u001b[0mtrain_dataloader\u001b[0m\u001b[0;34m,\u001b[0m \u001b[0mmodel\u001b[0m\u001b[0;34m,\u001b[0m \u001b[0mloss_fn\u001b[0m\u001b[0;34m,\u001b[0m \u001b[0moptimizer\u001b[0m\u001b[0;34m)\u001b[0m\u001b[0;34m\u001b[0m\u001b[0;34m\u001b[0m\u001b[0m\n\u001b[0m\u001b[1;32m      6\u001b[0m     \u001b[0mtest\u001b[0m\u001b[0;34m(\u001b[0m\u001b[0mtest_dataloader\u001b[0m\u001b[0;34m,\u001b[0m \u001b[0mmodel\u001b[0m\u001b[0;34m,\u001b[0m \u001b[0mloss_fn\u001b[0m\u001b[0;34m)\u001b[0m\u001b[0;34m\u001b[0m\u001b[0;34m\u001b[0m\u001b[0m\n\u001b[1;32m      7\u001b[0m \u001b[0mprint\u001b[0m\u001b[0;34m(\u001b[0m\u001b[0;34m\"Done!\"\u001b[0m\u001b[0;34m)\u001b[0m\u001b[0;34m\u001b[0m\u001b[0;34m\u001b[0m\u001b[0m\n",
            "\u001b[0;32m<ipython-input-132-2cafa472cf40>\u001b[0m in \u001b[0;36mtrain\u001b[0;34m(dataloader, model, loss_fn, optimizer)\u001b[0m\n\u001b[1;32m     12\u001b[0m         \u001b[0mloss\u001b[0m\u001b[0;34m.\u001b[0m\u001b[0mbackward\u001b[0m\u001b[0;34m(\u001b[0m\u001b[0;34m)\u001b[0m\u001b[0;34m\u001b[0m\u001b[0;34m\u001b[0m\u001b[0m\n\u001b[1;32m     13\u001b[0m         \u001b[0moptimizer\u001b[0m\u001b[0;34m.\u001b[0m\u001b[0mstep\u001b[0m\u001b[0;34m(\u001b[0m\u001b[0;34m)\u001b[0m\u001b[0;34m\u001b[0m\u001b[0;34m\u001b[0m\u001b[0m\n\u001b[0;32m---> 14\u001b[0;31m         \u001b[0moptimizer\u001b[0m\u001b[0;34m.\u001b[0m\u001b[0mzero_grad\u001b[0m\u001b[0;34m(\u001b[0m\u001b[0;34m)\u001b[0m\u001b[0;34m\u001b[0m\u001b[0;34m\u001b[0m\u001b[0m\n\u001b[0m\u001b[1;32m     15\u001b[0m \u001b[0;34m\u001b[0m\u001b[0m\n\u001b[1;32m     16\u001b[0m         \u001b[0;32mif\u001b[0m \u001b[0mbatch\u001b[0m \u001b[0;34m%\u001b[0m \u001b[0;36m100\u001b[0m \u001b[0;34m==\u001b[0m \u001b[0;36m0\u001b[0m\u001b[0;34m:\u001b[0m\u001b[0;34m\u001b[0m\u001b[0;34m\u001b[0m\u001b[0m\n",
            "\u001b[0;32m/usr/local/lib/python3.11/dist-packages/torch/_compile.py\u001b[0m in \u001b[0;36minner\u001b[0;34m(*args, **kwargs)\u001b[0m\n\u001b[1;32m     30\u001b[0m                 \u001b[0mfn\u001b[0m\u001b[0;34m.\u001b[0m\u001b[0m__dynamo_disable\u001b[0m \u001b[0;34m=\u001b[0m \u001b[0mdisable_fn\u001b[0m\u001b[0;34m\u001b[0m\u001b[0;34m\u001b[0m\u001b[0m\n\u001b[1;32m     31\u001b[0m \u001b[0;34m\u001b[0m\u001b[0m\n\u001b[0;32m---> 32\u001b[0;31m             \u001b[0;32mreturn\u001b[0m \u001b[0mdisable_fn\u001b[0m\u001b[0;34m(\u001b[0m\u001b[0;34m*\u001b[0m\u001b[0margs\u001b[0m\u001b[0;34m,\u001b[0m \u001b[0;34m**\u001b[0m\u001b[0mkwargs\u001b[0m\u001b[0;34m)\u001b[0m\u001b[0;34m\u001b[0m\u001b[0;34m\u001b[0m\u001b[0m\n\u001b[0m\u001b[1;32m     33\u001b[0m \u001b[0;34m\u001b[0m\u001b[0m\n\u001b[1;32m     34\u001b[0m         \u001b[0;32mreturn\u001b[0m \u001b[0minner\u001b[0m\u001b[0;34m\u001b[0m\u001b[0;34m\u001b[0m\u001b[0m\n",
            "\u001b[0;32m/usr/local/lib/python3.11/dist-packages/torch/_dynamo/eval_frame.py\u001b[0m in \u001b[0;36m_fn\u001b[0;34m(*args, **kwargs)\u001b[0m\n\u001b[1;32m    628\u001b[0m         \u001b[0;34m@\u001b[0m\u001b[0mfunctools\u001b[0m\u001b[0;34m.\u001b[0m\u001b[0mwraps\u001b[0m\u001b[0;34m(\u001b[0m\u001b[0mfn\u001b[0m\u001b[0;34m)\u001b[0m\u001b[0;34m\u001b[0m\u001b[0;34m\u001b[0m\u001b[0m\n\u001b[1;32m    629\u001b[0m         \u001b[0;32mdef\u001b[0m \u001b[0m_fn\u001b[0m\u001b[0;34m(\u001b[0m\u001b[0;34m*\u001b[0m\u001b[0margs\u001b[0m\u001b[0;34m,\u001b[0m \u001b[0;34m**\u001b[0m\u001b[0mkwargs\u001b[0m\u001b[0;34m)\u001b[0m\u001b[0;34m:\u001b[0m\u001b[0;34m\u001b[0m\u001b[0;34m\u001b[0m\u001b[0m\n\u001b[0;32m--> 630\u001b[0;31m             \u001b[0mprior\u001b[0m \u001b[0;34m=\u001b[0m \u001b[0m_maybe_set_eval_frame\u001b[0m\u001b[0;34m(\u001b[0m\u001b[0mcallback\u001b[0m\u001b[0;34m)\u001b[0m\u001b[0;34m\u001b[0m\u001b[0;34m\u001b[0m\u001b[0m\n\u001b[0m\u001b[1;32m    631\u001b[0m             \u001b[0;32mtry\u001b[0m\u001b[0;34m:\u001b[0m\u001b[0;34m\u001b[0m\u001b[0;34m\u001b[0m\u001b[0m\n\u001b[1;32m    632\u001b[0m                 \u001b[0;32mreturn\u001b[0m \u001b[0mfn\u001b[0m\u001b[0;34m(\u001b[0m\u001b[0;34m*\u001b[0m\u001b[0margs\u001b[0m\u001b[0;34m,\u001b[0m \u001b[0;34m**\u001b[0m\u001b[0mkwargs\u001b[0m\u001b[0;34m)\u001b[0m\u001b[0;34m\u001b[0m\u001b[0;34m\u001b[0m\u001b[0m\n",
            "\u001b[0;32m/usr/local/lib/python3.11/dist-packages/torch/_dynamo/eval_frame.py\u001b[0m in \u001b[0;36m_maybe_set_eval_frame\u001b[0;34m(callback)\u001b[0m\n\u001b[1;32m    104\u001b[0m     \u001b[0;32mfrom\u001b[0m \u001b[0mtorch\u001b[0m\u001b[0;34m.\u001b[0m\u001b[0m_C\u001b[0m\u001b[0;34m.\u001b[0m\u001b[0m_dynamo\u001b[0m\u001b[0;34m.\u001b[0m\u001b[0meval_frame\u001b[0m \u001b[0;32mimport\u001b[0m \u001b[0mset_eval_frame\u001b[0m\u001b[0;34m\u001b[0m\u001b[0;34m\u001b[0m\u001b[0m\n\u001b[1;32m    105\u001b[0m \u001b[0;34m\u001b[0m\u001b[0m\n\u001b[0;32m--> 106\u001b[0;31m     \u001b[0;32mif\u001b[0m \u001b[0;32mnot\u001b[0m \u001b[0mjustknobs_check\u001b[0m\u001b[0;34m(\u001b[0m\u001b[0;34m\"pytorch/compiler:enable_compiler_set_eval_frame\"\u001b[0m\u001b[0;34m)\u001b[0m\u001b[0;34m:\u001b[0m\u001b[0;34m\u001b[0m\u001b[0;34m\u001b[0m\u001b[0m\n\u001b[0m\u001b[1;32m    107\u001b[0m         torch._dynamo.utils.warn_once(\n\u001b[1;32m    108\u001b[0m             \u001b[0;34m\"Dynamo disabled by Justknob: enable_compiler_set_eval_frame, skipping set_eval_frame\"\u001b[0m\u001b[0;34m\u001b[0m\u001b[0;34m\u001b[0m\u001b[0m\n",
            "\u001b[0;32m/usr/local/lib/python3.11/dist-packages/torch/_utils_internal.py\u001b[0m in \u001b[0;36mjustknobs_check\u001b[0;34m(name)\u001b[0m\n\u001b[1;32m    269\u001b[0m \u001b[0;34m\u001b[0m\u001b[0m\n\u001b[1;32m    270\u001b[0m \u001b[0;34m\u001b[0m\u001b[0m\n\u001b[0;32m--> 271\u001b[0;31m \u001b[0;32mdef\u001b[0m \u001b[0mjustknobs_check\u001b[0m\u001b[0;34m(\u001b[0m\u001b[0mname\u001b[0m\u001b[0;34m:\u001b[0m \u001b[0mstr\u001b[0m\u001b[0;34m)\u001b[0m \u001b[0;34m->\u001b[0m \u001b[0mbool\u001b[0m\u001b[0;34m:\u001b[0m\u001b[0;34m\u001b[0m\u001b[0;34m\u001b[0m\u001b[0m\n\u001b[0m\u001b[1;32m    272\u001b[0m     \"\"\"\n\u001b[1;32m    273\u001b[0m     \u001b[0mThis\u001b[0m \u001b[0mfunction\u001b[0m \u001b[0mcan\u001b[0m \u001b[0mbe\u001b[0m \u001b[0mused\u001b[0m \u001b[0mto\u001b[0m \u001b[0mkillswitch\u001b[0m \u001b[0mfunctionality\u001b[0m \u001b[0;32min\u001b[0m \u001b[0mFB\u001b[0m \u001b[0mprod\u001b[0m\u001b[0;34m,\u001b[0m\u001b[0;34m\u001b[0m\u001b[0;34m\u001b[0m\u001b[0m\n",
            "\u001b[0;31mKeyboardInterrupt\u001b[0m: "
          ]
        }
      ],
      "source": [
        "epochs = 2\n",
        "train_losses, test_losses = [], []\n",
        "for t in range(epochs):\n",
        "    print(f\"Epoch {t+1}\\n-------------------------------\")\n",
        "    train(train_dataloader, model, loss_fn, optimizer)\n",
        "    test(test_dataloader, model, loss_fn)\n",
        "print(\"Done!\")"
      ]
    },
    {
      "cell_type": "code",
      "source": [],
      "metadata": {
        "id": "ddmgmOeCqQ9z"
      },
      "id": "ddmgmOeCqQ9z",
      "execution_count": 147,
      "outputs": []
    },
    {
      "cell_type": "code",
      "execution_count": 64,
      "id": "9b2bb8cd-7528-40f2-b043-5bbde1e653d0",
      "metadata": {
        "id": "9b2bb8cd-7528-40f2-b043-5bbde1e653d0"
      },
      "outputs": [],
      "source": [
        "def moving_average(data, window_size=3):\n",
        "    return [sum(data[i:i+window_size]) / window_size for i in range(len(data) - window_size + 1)]\n",
        "\n",
        "# Smooth the losses\n",
        "smoothed_train_losses = moving_average(train_losses, window_size=4)\n",
        "smoothed_test_losses = moving_average(test_losses, window_size=4)\n"
      ]
    },
    {
      "cell_type": "code",
      "source": [],
      "metadata": {
        "id": "BXDLb3JWpySh"
      },
      "id": "BXDLb3JWpySh",
      "execution_count": null,
      "outputs": []
    },
    {
      "cell_type": "code",
      "source": [],
      "metadata": {
        "id": "iDh7LuuhozeC"
      },
      "id": "iDh7LuuhozeC",
      "execution_count": null,
      "outputs": []
    },
    {
      "cell_type": "code",
      "source": [],
      "metadata": {
        "id": "qknF5dNolrxF"
      },
      "id": "qknF5dNolrxF",
      "execution_count": null,
      "outputs": []
    },
    {
      "cell_type": "code",
      "execution_count": 65,
      "id": "5b8b6518-cef9-4576-acc8-90ebc3931ed1",
      "metadata": {
        "colab": {
          "base_uri": "https://localhost:8080/",
          "height": 487
        },
        "id": "5b8b6518-cef9-4576-acc8-90ebc3931ed1",
        "outputId": "bda4cbe5-5d82-49f9-c40b-3035a79ae1d9"
      },
      "outputs": [
        {
          "output_type": "display_data",
          "data": {
            "text/plain": [
              "<Figure size 800x500 with 1 Axes>"
            ],
            "image/png": "[encoded data removed]"
          },
          "metadata": {}
        }
      ],
      "source": [
        "import matplotlib.pyplot as plt\n",
        "\n",
        "plt.figure(figsize=(8, 5))\n",
        "plt.plot(smoothed_train_losses, label=\"Training Loss\", marker='o')\n",
        "plt.plot(smoothed_test_losses, label=\"Training Loss\", marker='o')\n",
        "#plt.plot(train_losses, label=\"Training Loss\", marker='o')\n",
        "#plt.plot(test_losses, label=\"Test Loss\", marker='o')\n",
        "plt.xlabel(\"Epochs\")\n",
        "plt.ylabel(\"Loss\")\n",
        "plt.title(\"Training and Test Loss Over Epochs\")\n",
        "plt.legend()\n",
        "plt.show()"
      ]
    },
    {
      "cell_type": "code",
      "source": [
        "# Define your checkpoint dictionary\n",
        "checkpoint = {\n",
        "    'epoch': 10,                           # current epoch number\n",
        "    'model_state_dict': model.state_dict(),   # model parameters\n",
        "    'optimizer_state_dict': optimizer.state_dict(),  # optimizer parameters\n",
        "    'loss': 2.190298,                             # latest loss value (optional)\n",
        "    # You can add any additional info you want here\n",
        "}\n",
        "\n",
        "# Save the checkpoint to a file\n",
        "torch.save(checkpoint, 'model_checkpoint_1.pth')\n",
        "print(\"Checkpoint saved!\")"
      ],
      "metadata": {
        "colab": {
          "base_uri": "https://localhost:8080/"
        },
        "id": "M4dcUrcSpy1_",
        "outputId": "4eeac525-3d2b-4d4f-8d61-ae00f5f90989"
      },
      "id": "M4dcUrcSpy1_",
      "execution_count": 140,
      "outputs": [
        {
          "output_type": "stream",
          "name": "stdout",
          "text": [
            "Checkpoint saved!\n"
          ]
        }
      ]
    },
    {
      "cell_type": "code",
      "source": [
        "# Define your checkpoint dictionary\n",
        "start_checkpoint = {\n",
        "    'epoch': 10,                           # current epoch number\n",
        "    'model_state_dict': model.state_dict(),   # model parameters\n",
        "    'optimizer_state_dict': optimizer.state_dict(),  # optimizer parameters\n",
        "    'loss': 4.195235,                             # latest loss value (optional)\n",
        "    # You can add any additional info you want here\n",
        "}\n",
        "\n",
        "# Save the checkpoint to a file\n",
        "torch.save(start_checkpoint, 'model_checkpoint_1.pth')\n",
        "print(\"Checkpoint saved!\")"
      ],
      "metadata": {
        "colab": {
          "base_uri": "https://localhost:8080/",
          "height": 211
        },
        "id": "2VwkjOfto0Me",
        "outputId": "f79cba17-3327-423f-a5d2-ae7ea82e783f"
      },
      "id": "2VwkjOfto0Me",
      "execution_count": 2,
      "outputs": [
        {
          "output_type": "error",
          "ename": "NameError",
          "evalue": "name 'model' is not defined",
          "traceback": [
            "\u001b[0;31m---------------------------------------------------------------------------\u001b[0m",
            "\u001b[0;31mNameError\u001b[0m                                 Traceback (most recent call last)",
            "\u001b[0;32m<ipython-input-2-badc5ad4f4d4>\u001b[0m in \u001b[0;36m<cell line: 0>\u001b[0;34m()\u001b[0m\n\u001b[1;32m      2\u001b[0m start_checkpoint = {\n\u001b[1;32m      3\u001b[0m     \u001b[0;34m'epoch'\u001b[0m\u001b[0;34m:\u001b[0m \u001b[0;36m10\u001b[0m\u001b[0;34m,\u001b[0m                           \u001b[0;31m# current epoch number\u001b[0m\u001b[0;34m\u001b[0m\u001b[0;34m\u001b[0m\u001b[0m\n\u001b[0;32m----> 4\u001b[0;31m     \u001b[0;34m'model_state_dict'\u001b[0m\u001b[0;34m:\u001b[0m \u001b[0mmodel\u001b[0m\u001b[0;34m.\u001b[0m\u001b[0mstate_dict\u001b[0m\u001b[0;34m(\u001b[0m\u001b[0;34m)\u001b[0m\u001b[0;34m,\u001b[0m   \u001b[0;31m# model parameters\u001b[0m\u001b[0;34m\u001b[0m\u001b[0;34m\u001b[0m\u001b[0m\n\u001b[0m\u001b[1;32m      5\u001b[0m     \u001b[0;34m'optimizer_state_dict'\u001b[0m\u001b[0;34m:\u001b[0m \u001b[0moptimizer\u001b[0m\u001b[0;34m.\u001b[0m\u001b[0mstate_dict\u001b[0m\u001b[0;34m(\u001b[0m\u001b[0;34m)\u001b[0m\u001b[0;34m,\u001b[0m  \u001b[0;31m# optimizer parameters\u001b[0m\u001b[0;34m\u001b[0m\u001b[0;34m\u001b[0m\u001b[0m\n\u001b[1;32m      6\u001b[0m     \u001b[0;34m'loss'\u001b[0m\u001b[0;34m:\u001b[0m \u001b[0;36m4.195235\u001b[0m\u001b[0;34m,\u001b[0m                             \u001b[0;31m# latest loss value (optional)\u001b[0m\u001b[0;34m\u001b[0m\u001b[0;34m\u001b[0m\u001b[0m\n",
            "\u001b[0;31mNameError\u001b[0m: name 'model' is not defined"
          ]
        }
      ]
    },
    {
      "cell_type": "code",
      "source": [
        "# Instantiate the model and move it to the device\n",
        "model = NeuralNetwork().to(device)\n",
        "\n",
        "# Load the checkpoint\n",
        "checkpoint = torch.load('model_checkpoint_1.pth', map_location=device)\n",
        "\n",
        "# Load the saved state_dict into your model\n",
        "model.load_state_dict(checkpoint['model_state_dict'])\n",
        "\n",
        "# Set the model to evaluation mode (important for inference!)\n",
        "model.eval()"
      ],
      "metadata": {
        "id": "__LUJYmKlsqk"
      },
      "id": "__LUJYmKlsqk",
      "execution_count": null,
      "outputs": []
    },
    {
      "cell_type": "code",
      "source": [
        "import torch\n",
        "\n",
        "# Number of classes (assuming 65 output classes)\n",
        "num_classes = 65\n",
        "\n",
        "# Dictionaries to keep track of correct predictions and total samples per class\n",
        "per_class_correct = {i: 0 for i in range(num_classes)}\n",
        "per_class_total = {i: 0 for i in range(num_classes)}\n",
        "\n",
        "# Make sure the model is in evaluation mode\n",
        "model.eval()\n",
        "with torch.no_grad():\n",
        "    # Loop over the test DataLoader\n",
        "    for X, y in test_dataloader:\n",
        "        # Move data to the device (GPU or CPU)\n",
        "        X, y = X.to(device), y.to(device)\n",
        "\n",
        "        # Get model outputs (logits)\n",
        "        outputs = model(X)\n",
        "\n",
        "        # Get predicted classes\n",
        "        preds = outputs.argmax(dim=1)\n",
        "\n",
        "        # For each class, update correct and total counts\n",
        "        for cls in range(num_classes):\n",
        "            # Create a mask for samples belonging to the current class\n",
        "            mask = (y == cls)\n",
        "            per_class_total[cls] += mask.sum().item()\n",
        "            if mask.sum().item() > 0:  # Only update if there are samples for this class\n",
        "                per_class_correct[cls] += (preds[mask] == y[mask]).sum().item()\n",
        "\n",
        "# Calculate accuracy per class\n",
        "accuracy_per_class = {}\n",
        "for cls in range(num_classes):\n",
        "    if per_class_total[cls] > 0:\n",
        "        accuracy_per_class[cls] = per_class_correct[cls] / per_class_total[cls]\n",
        "    else:\n",
        "        accuracy_per_class[cls] = None  # No samples for this class\n",
        "\n",
        "# Display the per-class accuracy\n",
        "for cls, acc in accuracy_per_class.items():\n",
        "    if acc is not None:\n",
        "        print(f\"Class {cls}: Accuracy = {acc*100:.2f}%\")\n",
        "    else:\n",
        "        print(f\"Class {cls}: No samples available.\")\n"
      ],
      "metadata": {
        "colab": {
          "base_uri": "https://localhost:8080/"
        },
        "id": "0GYbbALHkaB6",
        "outputId": "4ef3b3af-610b-4fad-fe97-1ae22033bdab"
      },
      "id": "0GYbbALHkaB6",
      "execution_count": 66,
      "outputs": [
        {
          "output_type": "stream",
          "name": "stdout",
          "text": [
            "Class 0: Accuracy = 55.17%\n",
            "Class 1: Accuracy = 0.00%\n",
            "Class 2: Accuracy = 73.33%\n",
            "Class 3: Accuracy = 17.39%\n",
            "Class 4: Accuracy = 0.00%\n",
            "Class 5: Accuracy = 12.00%\n",
            "Class 6: Accuracy = 24.76%\n",
            "Class 7: Accuracy = 51.82%\n",
            "Class 8: Accuracy = 61.02%\n",
            "Class 9: Accuracy = 26.83%\n",
            "Class 10: Accuracy = 12.50%\n",
            "Class 11: Accuracy = 37.27%\n",
            "Class 12: Accuracy = 52.82%\n",
            "Class 13: Accuracy = 45.70%\n",
            "Class 14: Accuracy = 11.46%\n",
            "Class 15: Accuracy = 57.14%\n",
            "Class 16: Accuracy = 54.35%\n",
            "Class 17: Accuracy = 30.69%\n",
            "Class 18: Accuracy = 0.00%\n",
            "Class 19: Accuracy = 0.00%\n",
            "Class 20: Accuracy = 37.33%\n",
            "Class 21: Accuracy = 0.00%\n",
            "Class 22: Accuracy = 100.00%\n",
            "Class 23: Accuracy = 37.50%\n",
            "Class 24: Accuracy = 68.42%\n",
            "Class 25: No samples available.\n",
            "Class 26: Accuracy = 80.48%\n",
            "Class 27: Accuracy = 0.00%\n",
            "Class 28: Accuracy = 43.98%\n",
            "Class 29: Accuracy = 0.00%\n",
            "Class 30: Accuracy = 53.85%\n",
            "Class 31: Accuracy = 1.54%\n",
            "Class 32: Accuracy = 38.78%\n",
            "Class 33: Accuracy = 38.24%\n",
            "Class 34: Accuracy = 12.90%\n",
            "Class 35: Accuracy = 14.14%\n",
            "Class 36: Accuracy = 59.79%\n",
            "Class 37: Accuracy = 7.14%\n",
            "Class 38: Accuracy = 0.00%\n",
            "Class 39: Accuracy = 100.00%\n",
            "Class 40: Accuracy = 50.15%\n",
            "Class 41: Accuracy = 40.54%\n",
            "Class 42: Accuracy = 11.03%\n",
            "Class 43: Accuracy = 26.92%\n",
            "Class 44: Accuracy = 35.49%\n",
            "Class 45: Accuracy = 71.15%\n",
            "Class 46: Accuracy = 0.00%\n",
            "Class 47: Accuracy = 60.78%\n",
            "Class 48: No samples available.\n",
            "Class 49: Accuracy = 55.53%\n",
            "Class 50: Accuracy = 18.71%\n",
            "Class 51: Accuracy = 17.29%\n",
            "Class 52: Accuracy = 0.00%\n",
            "Class 53: Accuracy = 42.50%\n",
            "Class 54: Accuracy = 66.67%\n",
            "Class 55: Accuracy = 36.64%\n",
            "Class 56: Accuracy = 36.62%\n",
            "Class 57: Accuracy = 38.36%\n",
            "Class 58: Accuracy = 46.67%\n",
            "Class 59: Accuracy = 20.68%\n",
            "Class 60: Accuracy = 42.31%\n",
            "Class 61: Accuracy = 8.33%\n",
            "Class 62: Accuracy = 0.00%\n",
            "Class 63: Accuracy = 67.65%\n",
            "Class 64: Accuracy = 30.79%\n"
          ]
        }
      ]
    },
    {
      "cell_type": "code",
      "source": [
        "accuracy_dict = {}\n",
        "for idx, acc in accuracy_per_class.items():\n",
        "    char = int_to_characters[idx]\n",
        "    accuracy_dict[char] = acc * 100 if acc else 0  # convert to percentage"
      ],
      "metadata": {
        "id": "iYBsa5DCuttw"
      },
      "id": "iYBsa5DCuttw",
      "execution_count": 67,
      "outputs": []
    },
    {
      "cell_type": "code",
      "source": [
        "import pandas as pd\n",
        "df = pd.DataFrame(list(accuracy_dict.items()), columns=['Character', 'Accuracy'])\n",
        "# Sort the DataFrame alphabetically by character\n",
        "df = df.sort_values('Character')"
      ],
      "metadata": {
        "id": "mpeWCe9hvYI0"
      },
      "id": "mpeWCe9hvYI0",
      "execution_count": 68,
      "outputs": []
    },
    {
      "cell_type": "code",
      "source": [
        "epoch_1_df = df.copy()"
      ],
      "metadata": {
        "id": "aOpjmMvt6acb"
      },
      "id": "aOpjmMvt6acb",
      "execution_count": 45,
      "outputs": []
    },
    {
      "cell_type": "code",
      "source": [
        "epoch_5_df = df.copy()"
      ],
      "metadata": {
        "id": "4p9x1qeO7bwa"
      },
      "id": "4p9x1qeO7bwa",
      "execution_count": 53,
      "outputs": []
    },
    {
      "cell_type": "code",
      "source": [
        "plt.figure(figsize=(12, 6))\n",
        "plt.bar(df['Character'], df['Accuracy'], color='skyblue')\n",
        "plt.xlabel('Character')\n",
        "plt.ylabel('Accuracy (%)')\n",
        "plt.title('Per-Character Accuracy (Sorted Alphabetically)')\n",
        "plt.ylim(0, 100)  # Assuming accuracy is between 0% and 100%\n",
        "plt.grid(axis='y', linestyle='--', alpha=0.7)\n",
        "plt.show()"
      ],
      "metadata": {
        "colab": {
          "base_uri": "https://localhost:8080/",
          "height": 580
        },
        "id": "27noAzKsveKE",
        "outputId": "df6a902d-6fc9-4ade-a1f5-6cd56b17dff2"
      },
      "id": "27noAzKsveKE",
      "execution_count": 69,
      "outputs": [
        {
          "output_type": "display_data",
          "data": {
            "text/plain": [
              "<Figure size 1200x600 with 1 Axes>"
            ],
            "image/png": "[encoded data removed]"
          },
          "metadata": {}
        }
      ]
    },
    {
      "cell_type": "code",
      "execution_count": 96,
      "id": "75ea0f8d-498d-43cb-bee7-747af692a4bd",
      "metadata": {
        "colab": {
          "base_uri": "https://localhost:8080/"
        },
        "id": "75ea0f8d-498d-43cb-bee7-747af692a4bd",
        "outputId": "9a01c96a-d6a5-4769-8d50-d58553f01ce0"
      },
      "outputs": [
        {
          "output_type": "stream",
          "name": "stdout",
          "text": [
            "We are acc\n"
          ]
        }
      ],
      "source": [
        "running_text = text[479:489]\n",
        "print(running_text)"
      ]
    },
    {
      "cell_type": "code",
      "source": [
        "for k in range(100):\n",
        "  print(running_text)\n",
        "  input_text = running_text[-10:]\n",
        "  input_indices = [characters_to_int[c] for c in input_text]\n",
        "  input_tensor = torch.tensor(input_indices, dtype=torch.float32, device=device)\n",
        "  input_tensor = input_tensor.unsqueeze(0)\n",
        "\n",
        "  # Put the model in evaluation mode and disable gradient computation\n",
        "  model.eval()\n",
        "  with torch.no_grad():\n",
        "    # Get the output logits from the model\n",
        "    output_logits = model(input_tensor)\n",
        "\n",
        "  # Get the index of the predicted character (assuming your model outputs logits for 65 classes)\n",
        "  predicted_index = output_logits.argmax(dim=1).item()\n",
        "\n",
        "  # Map the predicted index back to a character\n",
        "  predicted_char = int_to_characters[predicted_index]\n",
        "  running_text += predicted_char\n",
        ""
      ],
      "metadata": {
        "colab": {
          "base_uri": "https://localhost:8080/"
        },
        "id": "jLhju50891dS",
        "outputId": "7fc8d386-fdce-4084-c544-044a00f5ad9a"
      },
      "id": "jLhju50891dS",
      "execution_count": 97,
      "outputs": [
        {
          "output_type": "stream",
          "name": "stdout",
          "text": [
            "We are acc\n",
            "We are acc \n",
            "We are acc  \n",
            "We are acc  o\n",
            "We are acc  on\n",
            "We are acc  on \n",
            "We are acc  on t\n",
            "We are acc  on th\n",
            "We are acc  on the\n",
            "We are acc  on the \n",
            "We are acc  on the m\n",
            "We are acc  on the mi\n",
            "We are acc  on the min\n",
            "We are acc  on the mind\n",
            "We are acc  on the mind,\n",
            "We are acc  on the mind, \n",
            "We are acc  on the mind, t\n",
            "We are acc  on the mind, th\n",
            "We are acc  on the mind, tha\n",
            "We are acc  on the mind, that\n",
            "We are acc  on the mind, that \n",
            "We are acc  on the mind, that w\n",
            "We are acc  on the mind, that w \n",
            "We are acc  on the mind, that w r\n",
            "We are acc  on the mind, that w rh\n",
            "We are acc  on the mind, that w rho\n",
            "We are acc  on the mind, that w rhos\n",
            "We are acc  on the mind, that w rhose\n",
            "We are acc  on the mind, that w rhosed\n",
            "We are acc  on the mind, that w rhosedf\n",
            "We are acc  on the mind, that w rhosedf \n",
            "We are acc  on the mind, that w rhosedf a\n",
            "We are acc  on the mind, that w rhosedf an\n",
            "We are acc  on the mind, that w rhosedf and\n",
            "We are acc  on the mind, that w rhosedf and \n",
            "We are acc  on the mind, that w rhosedf and t\n",
            "We are acc  on the mind, that w rhosedf and th\n",
            "We are acc  on the mind, that w rhosedf and the\n",
            "We are acc  on the mind, that w rhosedf and the \n",
            "We are acc  on the mind, that w rhosedf and the h\n",
            "We are acc  on the mind, that w rhosedf and the ha\n",
            "We are acc  on the mind, that w rhosedf and the han\n",
            "We are acc  on the mind, that w rhosedf and the hand\n",
            "We are acc  on the mind, that w rhosedf and the hands\n",
            "We are acc  on the mind, that w rhosedf and the hands \n",
            "We are acc  on the mind, that w rhosedf and the hands t\n",
            "We are acc  on the mind, that w rhosedf and the hands th\n",
            "We are acc  on the mind, that w rhosedf and the hands tha\n",
            "We are acc  on the mind, that w rhosedf and the hands that\n",
            "We are acc  on the mind, that w rhosedf and the hands that \n",
            "We are acc  on the mind, that w rhosedf and the hands that w\n",
            "We are acc  on the mind, that w rhosedf and the hands that we\n",
            "We are acc  on the mind, that w rhosedf and the hands that we \n",
            "We are acc  on the mind, that w rhosedf and the hands that we h\n",
            "We are acc  on the mind, that w rhosedf and the hands that we ha\n",
            "We are acc  on the mind, that w rhosedf and the hands that we hav\n",
            "We are acc  on the mind, that w rhosedf and the hands that we have\n",
            "We are acc  on the mind, that w rhosedf and the hands that we have \n",
            "We are acc  on the mind, that w rhosedf and the hands that we have t\n",
            "We are acc  on the mind, that w rhosedf and the hands that we have th\n",
            "We are acc  on the mind, that w rhosedf and the hands that we have the\n",
            "We are acc  on the mind, that w rhosedf and the hands that we have the \n",
            "We are acc  on the mind, that w rhosedf and the hands that we have the p\n",
            "We are acc  on the mind, that w rhosedf and the hands that we have the pa\n",
            "We are acc  on the mind, that w rhosedf and the hands that we have the par\n",
            "We are acc  on the mind, that w rhosedf and the hands that we have the para\n",
            "We are acc  on the mind, that w rhosedf and the hands that we have the paras\n",
            "We are acc  on the mind, that w rhosedf and the hands that we have the parasn\n",
            "We are acc  on the mind, that w rhosedf and the hands that we have the parasnt\n",
            "We are acc  on the mind, that w rhosedf and the hands that we have the parasnth\n",
            "We are acc  on the mind, that w rhosedf and the hands that we have the parasnthk\n",
            "We are acc  on the mind, that w rhosedf and the hands that we have the parasnthke\n",
            "We are acc  on the mind, that w rhosedf and the hands that we have the parasnthke \n",
            "We are acc  on the mind, that w rhosedf and the hands that we have the parasnthke t\n",
            "We are acc  on the mind, that w rhosedf and the hands that we have the parasnthke th\n",
            "We are acc  on the mind, that w rhosedf and the hands that we have the parasnthke the\n",
            "We are acc  on the mind, that w rhosedf and the hands that we have the parasnthke the \n",
            "We are acc  on the mind, that w rhosedf and the hands that we have the parasnthke the m\n",
            "We are acc  on the mind, that w rhosedf and the hands that we have the parasnthke the ma\n",
            "We are acc  on the mind, that w rhosedf and the hands that we have the parasnthke the mar\n",
            "We are acc  on the mind, that w rhosedf and the hands that we have the parasnthke the marr\n",
            "We are acc  on the mind, that w rhosedf and the hands that we have the parasnthke the marri\n",
            "We are acc  on the mind, that w rhosedf and the hands that we have the parasnthke the marrie\n",
            "We are acc  on the mind, that w rhosedf and the hands that we have the parasnthke the married\n",
            "We are acc  on the mind, that w rhosedf and the hands that we have the parasnthke the married \n",
            "We are acc  on the mind, that w rhosedf and the hands that we have the parasnthke the married t\n",
            "We are acc  on the mind, that w rhosedf and the hands that we have the parasnthke the married th\n",
            "We are acc  on the mind, that w rhosedf and the hands that we have the parasnthke the married the\n",
            "We are acc  on the mind, that w rhosedf and the hands that we have the parasnthke the married the \n",
            "We are acc  on the mind, that w rhosedf and the hands that we have the parasnthke the married the m\n",
            "We are acc  on the mind, that w rhosedf and the hands that we have the parasnthke the married the ma\n",
            "We are acc  on the mind, that w rhosedf and the hands that we have the parasnthke the married the mar\n",
            "We are acc  on the mind, that w rhosedf and the hands that we have the parasnthke the married the marr\n",
            "We are acc  on the mind, that w rhosedf and the hands that we have the parasnthke the married the marri\n",
            "We are acc  on the mind, that w rhosedf and the hands that we have the parasnthke the married the marrie\n",
            "We are acc  on the mind, that w rhosedf and the hands that we have the parasnthke the married the married\n",
            "We are acc  on the mind, that w rhosedf and the hands that we have the parasnthke the married the married \n",
            "We are acc  on the mind, that w rhosedf and the hands that we have the parasnthke the married the married t\n",
            "We are acc  on the mind, that w rhosedf and the hands that we have the parasnthke the married the married th\n",
            "We are acc  on the mind, that w rhosedf and the hands that we have the parasnthke the married the married the\n"
          ]
        }
      ]
    },
    {
      "cell_type": "code",
      "execution_count": 77,
      "id": "68ca2533-87f9-4da7-b65c-8129ee8a2a0a",
      "metadata": {
        "id": "68ca2533-87f9-4da7-b65c-8129ee8a2a0a"
      },
      "outputs": [],
      "source": []
    },
    {
      "cell_type": "code",
      "source": [],
      "metadata": {
        "id": "RnNqjomC9Hk4"
      },
      "id": "RnNqjomC9Hk4",
      "execution_count": 78,
      "outputs": []
    },
    {
      "cell_type": "code",
      "source": [
        "predicted_char"
      ],
      "metadata": {
        "colab": {
          "base_uri": "https://localhost:8080/",
          "height": 35
        },
        "id": "fQsTxX8D9S7L",
        "outputId": "2926f672-63b3-4f3b-f7df-ea112a90ee0d"
      },
      "id": "fQsTxX8D9S7L",
      "execution_count": 79,
      "outputs": [
        {
          "output_type": "execute_result",
          "data": {
            "text/plain": [
              "'z'"
            ],
            "application/vnd.google.colaboratory.intrinsic+json": {
              "type": "string"
            }
          },
          "metadata": {},
          "execution_count": 79
        }
      ]
    }
  ],
  "metadata": {
    "kernelspec": {
      "display_name": "Python 3",
      "name": "python3"
    },
    "language_info": {
      "codemirror_mode": {
        "name": "ipython",
        "version": 3
      },
      "file_extension": ".py",
      "mimetype": "text/x-python",
      "name": "python",
      "nbconvert_exporter": "python",
      "pygments_lexer": "ipython3",
      "version": "3.10.9"
    },
    "colab": {
      "provenance": [],
      "gpuType": "T4"
    },
    "accelerator": "GPU"
  },
  "nbformat": 4,
  "nbformat_minor": 5
}