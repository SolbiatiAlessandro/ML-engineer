{
 "cells": [
  {
   "cell_type": "markdown",
   "id": "a7be8940-c155-49a3-930c-32733ec1add6",
   "metadata": {},
   "source": [
    "# Shakespeare dataset"
   ]
  },
  {
   "cell_type": "code",
   "execution_count": 1,
   "id": "864d7435-8ecf-4511-8d7e-f5236d0d12fa",
   "metadata": {},
   "outputs": [
    {
     "name": "stdout",
     "output_type": "stream",
     "text": [
      "--2025-01-31 22:28:06--  https://raw.githubusercontent.com/karpathy/char-rnn/master/data/tinyshakespeare/input.txt\n",
      "2606:50c0:8001::154, 2606:50c0:8003::154, 2606:50c0:8002::154, ... \n",
      "Connecting to raw.githubusercontent.com (raw.githubusercontent.com)|2606:50c0:8001::154|:443... connected.\n",
      "HTTP request sent, awaiting response... 200 OK\n",
      "Length: 1115394 (1.1M) [text/plain]\n",
      "Saving to: ‘input.txt’\n",
      "\n",
      "input.txt           100%[===================>]   1.06M  --.-KB/s    in 0.07s   \n",
      "\n",
      "2025-01-31 22:28:06 (14.6 MB/s) - ‘input.txt’ saved [1115394/1115394]\n",
      "\n"
     ]
    }
   ],
   "source": [
    "!wget https://raw.githubusercontent.com/karpathy/char-rnn/master/data/tinyshakespeare/input.txt"
   ]
  },
  {
   "cell_type": "code",
   "execution_count": 2,
   "id": "45f09b2a-8b73-4355-b10b-7e0b776ebeb0",
   "metadata": {},
   "outputs": [],
   "source": [
    "# read it in to inspect it\n",
    "with open('input.txt', 'r', encoding='utf-8') as f:\n",
    "    text = f.read()"
   ]
  },
  {
   "cell_type": "code",
   "execution_count": 3,
   "id": "526da89e-afe5-4262-9923-f1c5d4f5bcc8",
   "metadata": {},
   "outputs": [
    {
     "data": {
      "text/plain": [
       "'First Citizen:\\nBefore we proceed any further, hear me speak.\\n\\nAll:\\nSpeak, speak.\\n\\nFirst Citizen:\\nYou'"
      ]
     },
     "execution_count": 3,
     "metadata": {},
     "output_type": "execute_result"
    }
   ],
   "source": [
    "text[:100]"
   ]
  },
  {
   "cell_type": "code",
   "execution_count": 5,
   "id": "857ff1ca-d212-461e-ba93-67f48fbb22e8",
   "metadata": {},
   "outputs": [
    {
     "data": {
      "text/plain": [
       "1115394"
      ]
     },
     "execution_count": 5,
     "metadata": {},
     "output_type": "execute_result"
    }
   ],
   "source": [
    "len(text)"
   ]
  },
  {
   "cell_type": "code",
   "execution_count": 6,
   "id": "e6cc8b97-5aed-4eb1-8145-27d4fe178d0d",
   "metadata": {},
   "outputs": [],
   "source": [
    "characters = set()\n",
    "for c in text:\n",
    "    characters.add(c)"
   ]
  },
  {
   "cell_type": "code",
   "execution_count": 43,
   "id": "a98b3b5d-93ba-447d-ac02-f7b2617e63ad",
   "metadata": {},
   "outputs": [
    {
     "data": {
      "text/plain": [
       "65"
      ]
     },
     "execution_count": 43,
     "metadata": {},
     "output_type": "execute_result"
    }
   ],
   "source": [
    "len(characters)"
   ]
  },
  {
   "cell_type": "code",
   "execution_count": 18,
   "id": "fa5e7545-aa82-4110-8c69-15eed560f1b6",
   "metadata": {},
   "outputs": [],
   "source": [
    "int_to_characters = {i: c for i, c in enumerate(characters)}\n",
    "characters_to_int = {c: i for i, c in enumerate(characters)}"
   ]
  },
  {
   "cell_type": "code",
   "execution_count": 19,
   "id": "05f0d127-4258-498f-89e6-cf4841332a6f",
   "metadata": {},
   "outputs": [
    {
     "data": {
      "text/plain": [
       "[35, 55, 7, 7, 41, 25, 63, 41, 24, 7, 51]"
      ]
     },
     "execution_count": 19,
     "metadata": {},
     "output_type": "execute_result"
    }
   ],
   "source": [
    "[characters_to_int[c] for c in \"hello world\"]"
   ]
  },
  {
   "cell_type": "code",
   "execution_count": 29,
   "id": "5d91462f-7b1f-46e3-a184-8672658ee119",
   "metadata": {},
   "outputs": [],
   "source": [
    "CONTEXT_WINDOW = 32"
   ]
  },
  {
   "cell_type": "code",
   "execution_count": 135,
   "id": "ad7ea824-be25-4273-8999-770b96c0e756",
   "metadata": {},
   "outputs": [],
   "source": [
    "X, y = [], []"
   ]
  },
  {
   "cell_type": "code",
   "execution_count": 136,
   "id": "a103cee0-62e8-42fe-8949-1c80f8bf96fe",
   "metadata": {},
   "outputs": [],
   "source": [
    "k = 0\n",
    "for k in range(len(text) - 50):\n",
    "    xx = text[k:k+CONTEXT_WINDOW]\n",
    "    yy = text[k+CONTEXT_WINDOW]\n",
    "    \n",
    "    X.append([characters_to_int[c] for c in xx])\n",
    "    y.append(characters_to_int[yy])"
   ]
  },
  {
   "cell_type": "code",
   "execution_count": 137,
   "id": "b423e7a7-17ef-4946-b694-0535fadd66b1",
   "metadata": {},
   "outputs": [],
   "source": [
    "X_train, X_test, y_train, y_test = [], [], [], []\n",
    "import random\n",
    "\n",
    "for i in range(len(X)):\n",
    "    if random.random() < 0.01:\n",
    "        X_test.append(X[i])\n",
    "        y_test.append(y[i])\n",
    "    else:\n",
    "        X_train.append(X[i])\n",
    "        y_train.append(y[i])\n",
    "        "
   ]
  },
  {
   "cell_type": "code",
   "execution_count": 138,
   "id": "fe69b3df-2b4d-4d3e-a8ba-5a0fec912624",
   "metadata": {},
   "outputs": [
    {
     "data": {
      "text/plain": [
       "(1104186,\n",
       " 32,\n",
       " [49,\n",
       "  18,\n",
       "  24,\n",
       "  34,\n",
       "  20,\n",
       "  25,\n",
       "  47,\n",
       "  18,\n",
       "  20,\n",
       "  18,\n",
       "  50,\n",
       "  55,\n",
       "  58,\n",
       "  62,\n",
       "  31,\n",
       "  48,\n",
       "  55,\n",
       "  4,\n",
       "  41,\n",
       "  24,\n",
       "  55,\n",
       "  25,\n",
       "  63,\n",
       "  55,\n",
       "  25,\n",
       "  44,\n",
       "  24,\n",
       "  41,\n",
       "  10,\n",
       "  55,\n",
       "  55,\n",
       "  51],\n",
       " 1104186,\n",
       " 25)"
      ]
     },
     "execution_count": 138,
     "metadata": {},
     "output_type": "execute_result"
    }
   ],
   "source": [
    "len(X_train), len(X_train[0]), X_train[0], len(y_train), y_train[0]"
   ]
  },
  {
   "cell_type": "markdown",
   "id": "ac91ed3d-59ea-4f0f-b571-fa047e66325c",
   "metadata": {},
   "source": [
    "# MLP model"
   ]
  },
  {
   "cell_type": "markdown",
   "id": "b30e81c1-3fe5-4452-9f0e-edb0152be681",
   "metadata": {},
   "source": [
    "multi label classification supervised task with 65 labels"
   ]
  },
  {
   "cell_type": "code",
   "execution_count": null,
   "id": "ed9b5239-38b8-4ba6-aeec-bc8e668f7f40",
   "metadata": {},
   "outputs": [],
   "source": [
    "# https://pytorch.org/tutorials/beginner/basics/quickstart_tutorial.html"
   ]
  },
  {
   "cell_type": "code",
   "execution_count": 23,
   "id": "9047b7b0-f12f-4eab-8aa6-1d2500c732fe",
   "metadata": {},
   "outputs": [
    {
     "name": "stdout",
     "output_type": "stream",
     "text": [
      "Collecting torchvision\n",
      "  Downloading torchvision-0.21.0-cp310-cp310-macosx_11_0_arm64.whl (1.8 MB)\n",
      "\u001b[2K     \u001b[90m━━━━━━━━━━━━━━━━━━━━━━━━━━━━━━━━━━━━━━━━\u001b[0m \u001b[32m1.8/1.8 MB\u001b[0m \u001b[31m17.6 MB/s\u001b[0m eta \u001b[36m0:00:00\u001b[0ma \u001b[36m0:00:01\u001b[0m\n",
      "Collecting numpy\n",
      "  Downloading numpy-2.2.2-cp310-cp310-macosx_14_0_arm64.whl (5.4 MB)\n",
      "\u001b[2K     \u001b[90m━━━━━━━━━━━━━━━━━━━━━━━━━━━━━━━━━━━━━━━━\u001b[0m \u001b[32m5.4/5.4 MB\u001b[0m \u001b[31m58.8 MB/s\u001b[0m eta \u001b[36m0:00:00\u001b[0m00:01\u001b[0m00:01\u001b[0m\n",
      "\u001b[?25hRequirement already satisfied: torch==2.6.0 in /Users/lessandro/Interview/virtualenv/lib/python3.10/site-packages (from torchvision) (2.6.0)\n",
      "Collecting pillow!=8.3.*,>=5.3.0\n",
      "  Downloading pillow-11.1.0-cp310-cp310-macosx_11_0_arm64.whl (3.1 MB)\n",
      "\u001b[2K     \u001b[90m━━━━━━━━━━━━━━━━━━━━━━━━━━━━━━━━━━━━━━━━\u001b[0m \u001b[32m3.1/3.1 MB\u001b[0m \u001b[31m58.7 MB/s\u001b[0m eta \u001b[36m0:00:00\u001b[0ma \u001b[36m0:00:01\u001b[0m\n",
      "Requirement already satisfied: networkx in /Users/lessandro/Interview/virtualenv/lib/python3.10/site-packages (from torch==2.6.0->torchvision) (3.4.2)\n",
      "Requirement already satisfied: typing-extensions>=4.10.0 in /Users/lessandro/Interview/virtualenv/lib/python3.10/site-packages (from torch==2.6.0->torchvision) (4.12.2)\n",
      "Requirement already satisfied: filelock in /Users/lessandro/Interview/virtualenv/lib/python3.10/site-packages (from torch==2.6.0->torchvision) (3.17.0)\n",
      "Requirement already satisfied: sympy==1.13.1 in /Users/lessandro/Interview/virtualenv/lib/python3.10/site-packages (from torch==2.6.0->torchvision) (1.13.1)\n",
      "Requirement already satisfied: fsspec in /Users/lessandro/Interview/virtualenv/lib/python3.10/site-packages (from torch==2.6.0->torchvision) (2024.12.0)\n",
      "Requirement already satisfied: jinja2 in /Users/lessandro/Interview/virtualenv/lib/python3.10/site-packages (from torch==2.6.0->torchvision) (3.1.5)\n",
      "Requirement already satisfied: mpmath<1.4,>=1.1.0 in /Users/lessandro/Interview/virtualenv/lib/python3.10/site-packages (from sympy==1.13.1->torch==2.6.0->torchvision) (1.3.0)\n",
      "Requirement already satisfied: MarkupSafe>=2.0 in /Users/lessandro/Interview/virtualenv/lib/python3.10/site-packages (from jinja2->torch==2.6.0->torchvision) (3.0.2)\n",
      "Installing collected packages: pillow, numpy, torchvision\n",
      "Successfully installed numpy-2.2.2 pillow-11.1.0 torchvision-0.21.0\n",
      "\n",
      "\u001b[1m[\u001b[0m\u001b[34;49mnotice\u001b[0m\u001b[1;39;49m]\u001b[0m\u001b[39;49m A new release of pip available: \u001b[0m\u001b[31;49m22.3.1\u001b[0m\u001b[39;49m -> \u001b[0m\u001b[32;49m25.0\u001b[0m\n",
      "\u001b[1m[\u001b[0m\u001b[34;49mnotice\u001b[0m\u001b[1;39;49m]\u001b[0m\u001b[39;49m To update, run: \u001b[0m\u001b[32;49mpip install --upgrade pip\u001b[0m\n"
     ]
    }
   ],
   "source": [
    "! pip install torchvision"
   ]
  },
  {
   "cell_type": "code",
   "execution_count": 21,
   "id": "fb7dea66-2841-4f7b-ac71-e87fdfd8dcad",
   "metadata": {},
   "outputs": [
    {
     "name": "stderr",
     "output_type": "stream",
     "text": [
      "/Users/lessandro/Interview/virtualenv/lib/python3.10/site-packages/torch/_subclasses/functional_tensor.py:275: UserWarning: Failed to initialize NumPy: No module named 'numpy' (Triggered internally at /Users/runner/work/pytorch/pytorch/pytorch/torch/csrc/utils/tensor_numpy.cpp:81.)\n",
      "  cpu = _conversion_method_template(device=torch.device(\"cpu\"))\n"
     ]
    }
   ],
   "source": [
    "import torch"
   ]
  },
  {
   "cell_type": "code",
   "execution_count": 139,
   "id": "4555a286-70f3-48ba-9746-4c95e3e2074f",
   "metadata": {},
   "outputs": [
    {
     "name": "stdout",
     "output_type": "stream",
     "text": [
      "Batch 1:\n",
      "Features:\n",
      " tensor([[58., 25., 13.,  ..., 27., 39., 24.],\n",
      "        [24., 39.,  1.,  ..., 14.,  3., 62.],\n",
      "        [41., 41., 51.,  ..., 15., 25.,  2.],\n",
      "        ...,\n",
      "        [35., 55., 25.,  ..., 33., 55., 34.],\n",
      "        [39., 20., 35.,  ..., 55., 34., 25.],\n",
      "        [41., 59., 25.,  ..., 55., 34., 20.]])\n",
      "Labels:\n",
      " tensor([18.,  5., 39., 55., 39., 18., 25., 55., 26., 25., 59., 33., 13., 51.,\n",
      "        51., 59., 18., 18., 15., 24.,  7.,  1., 20., 18.,  1., 28., 25., 25.,\n",
      "        26., 20., 39., 63., 11., 25., 25., 51., 27., 55., 55., 25., 24., 55.,\n",
      "        55., 34., 24., 25., 25., 55., 25., 25., 20., 20., 56., 25., 11., 24.,\n",
      "        25., 25., 58., 25., 55., 25., 33., 59.])\n"
     ]
    }
   ],
   "source": [
    "import torch\n",
    "from torch.utils.data import Dataset, DataLoader\n",
    "\n",
    "# Custom Dataset class\n",
    "class SimpleDataset(Dataset):\n",
    "    def __init__(self, x_data, y_data):\n",
    "        # Convert to tensors\n",
    "        self.x_data = torch.tensor(x_data, dtype=torch.float32)\n",
    "        self.y_data = torch.tensor(y_data, dtype=torch.float32)\n",
    "\n",
    "    def __len__(self):\n",
    "        return len(self.x_data)\n",
    "\n",
    "    def __getitem__(self, idx):\n",
    "        return self.x_data[idx], self.y_data[idx]\n",
    "\n",
    "# Create dataset and DataLoader\n",
    "train_dataloader = DataLoader(SimpleDataset(X_train, y_train), batch_size=64, shuffle=True)\n",
    "test_dataloader = DataLoader(SimpleDataset(X_test, y_test), batch_size=64, shuffle=True)\n",
    "\n",
    "# Iterate over the DataLoader\n",
    "for batch_idx, (features, labels) in enumerate(data_loader):\n",
    "    print(f\"Batch {batch_idx + 1}:\")\n",
    "    print(\"Features:\\n\", features)\n",
    "    print(\"Labels:\\n\", labels)\n",
    "    break  # Just to show the first batch for demonstration\n"
   ]
  },
  {
   "cell_type": "code",
   "execution_count": 140,
   "id": "5a7e0acc-414c-415e-843c-21feb052e6fa",
   "metadata": {},
   "outputs": [
    {
     "name": "stdout",
     "output_type": "stream",
     "text": [
      "Shape of X [N, C, H, W]: torch.Size([64, 32])\n",
      "Shape of y: torch.Size([64]) torch.float32\n"
     ]
    }
   ],
   "source": [
    "for X, y in test_dataloader:\n",
    "    print(f\"Shape of X [N, C, H, W]: {X.shape}\")\n",
    "    print(f\"Shape of y: {y.shape} {y.dtype}\")\n",
    "    break"
   ]
  },
  {
   "cell_type": "code",
   "execution_count": 141,
   "id": "08b2bff1-4c3d-4511-9309-13517c3f649d",
   "metadata": {},
   "outputs": [
    {
     "name": "stdout",
     "output_type": "stream",
     "text": [
      "Shape of X [N, C, H, W]: torch.Size([64, 32])\n",
      "Shape of y: torch.Size([64]) torch.float32\n"
     ]
    }
   ],
   "source": [
    "for X, y in train_dataloader:\n",
    "    print(f\"Shape of X [N, C, H, W]: {X.shape}\")\n",
    "    print(f\"Shape of y: {y.shape} {y.dtype}\")\n",
    "    break"
   ]
  },
  {
   "cell_type": "code",
   "execution_count": 163,
   "id": "9e646d6a-5abd-4556-b8a5-3fa46b3d52f4",
   "metadata": {},
   "outputs": [
    {
     "name": "stdout",
     "output_type": "stream",
     "text": [
      "Using mps device\n",
      "NeuralNetwork(\n",
      "  (linear_relu_stack): Sequential(\n",
      "    (0): Linear(in_features=32, out_features=512, bias=True)\n",
      "    (1): ReLU()\n",
      "    (2): Linear(in_features=512, out_features=512, bias=True)\n",
      "    (3): ReLU()\n",
      "    (4): Linear(in_features=512, out_features=65, bias=True)\n",
      "  )\n",
      ")\n"
     ]
    }
   ],
   "source": [
    "device = torch.accelerator.current_accelerator().type if torch.accelerator.is_available() else \"cpu\"\n",
    "print(f\"Using {device} device\")\n",
    "\n",
    "# Define model\n",
    "class NeuralNetwork(nn.Module):\n",
    "    def __init__(self):\n",
    "        super().__init__()\n",
    "        self.linear_relu_stack = nn.Sequential(\n",
    "            nn.Linear(32, 512),\n",
    "            nn.ReLU(),\n",
    "            nn.Linear(512, 512),\n",
    "            nn.ReLU(),\n",
    "            nn.Linear(512, 65)\n",
    "        )\n",
    "\n",
    "    def forward(self, x):\n",
    "        logits = self.linear_relu_stack(x)\n",
    "        return logits\n",
    "\n",
    "model = NeuralNetwork().to(device)\n",
    "print(model)"
   ]
  },
  {
   "cell_type": "code",
   "execution_count": 152,
   "id": "d1457770-ec6c-48f2-bdc6-ab86c82a13a0",
   "metadata": {},
   "outputs": [],
   "source": [
    "loss_fn = nn.CrossEntropyLoss()\n",
    "optimizer = torch.optim.SGD(model.parameters(), lr=1e-3)"
   ]
  },
  {
   "cell_type": "code",
   "execution_count": 149,
   "id": "4498f025-7a12-49a0-ba2b-0610e62dedb5",
   "metadata": {},
   "outputs": [
    {
     "name": "stdout",
     "output_type": "stream",
     "text": [
      "torch.Size([64, 32]) torch.Size([64])\n",
      "uchio, how speed you with my dau\n",
      "g\n"
     ]
    }
   ],
   "source": [
    "b, xx_y = next(enumerate(train_dataloader))\n",
    "print(xx_y[0].shape, xx_y[1].shape)\n",
    "print(\"\".join([int_to_characters[int(i)] for i in xx_y[0][0]]))\n",
    "print(\"\".join([int_to_characters[int(xx_y[1][0])]]))"
   ]
  },
  {
   "cell_type": "code",
   "execution_count": 131,
   "id": "4860370f-57e8-4825-b2a7-57caf8a62f69",
   "metadata": {},
   "outputs": [
    {
     "data": {
      "text/plain": [
       "(torch.Size([64, 32]), torch.Size([64]))"
      ]
     },
     "execution_count": 131,
     "metadata": {},
     "output_type": "execute_result"
    }
   ],
   "source": []
  },
  {
   "cell_type": "code",
   "execution_count": 127,
   "id": "98291af1-d110-4ec8-8323-3aaa224c9aca",
   "metadata": {},
   "outputs": [
    {
     "data": {
      "text/plain": [
       "' of our shining star;\\nBut none c'"
      ]
     },
     "execution_count": 127,
     "metadata": {},
     "output_type": "execute_result"
    }
   ],
   "source": []
  },
  {
   "cell_type": "code",
   "execution_count": 155,
   "id": "a7a1a9a9-6577-4449-89f3-99b00d8c6708",
   "metadata": {},
   "outputs": [],
   "source": []
  },
  {
   "cell_type": "code",
   "execution_count": 157,
   "id": "ad39787a-9f7b-44e1-80ec-aa4ae57b9c04",
   "metadata": {},
   "outputs": [],
   "source": [
    "def train(dataloader, model, loss_fn, optimizer):\n",
    "    size = len(dataloader.dataset)\n",
    "    model.train()\n",
    "    for batch, (X, y) in enumerate(dataloader):\n",
    "        X, y = X.to(device), y.to(device)\n",
    "\n",
    "        # Compute prediction error\n",
    "        pred = model(X)\n",
    "        loss = loss_fn(pred, y)\n",
    "\n",
    "        # Backpropagation\n",
    "        loss.backward()\n",
    "        optimizer.step()\n",
    "        optimizer.zero_grad()\n",
    "\n",
    "        if batch % 100 == 0:\n",
    "            loss, current = loss.item(), (batch + 1) * len(X)\n",
    "            train_losses.append(loss)\n",
    "            print(f\"loss: {loss:>7f}  [{current:>5d}/{size:>5d}]\")"
   ]
  },
  {
   "cell_type": "code",
   "execution_count": 158,
   "id": "730dc562-3047-437b-8426-5b98ccd2317e",
   "metadata": {},
   "outputs": [],
   "source": [
    "def test(dataloader, model, loss_fn):\n",
    "    size = len(dataloader.dataset)\n",
    "    num_batches = len(dataloader)\n",
    "    model.eval()\n",
    "    test_loss, correct = 0, 0\n",
    "    with torch.no_grad():\n",
    "        for X, y in dataloader:\n",
    "            X, y = X.to(device), y.to(device)\n",
    "            pred = model(X)\n",
    "            _test_loss = loss_fn(pred, y).item()\n",
    "            test_losses.append(_test_loss)\n",
    "            test_loss += _test_loss\n",
    "            correct += (pred.argmax(1) == y).type(torch.float).sum().item()\n",
    "    test_loss /= num_batches\n",
    "    correct /= size\n",
    "    print(f\"Test Error: \\n Accuracy: {(100*correct):>0.1f}%, Avg loss: {test_loss:>8f} \\n\")"
   ]
  },
  {
   "cell_type": "code",
   "execution_count": 164,
   "id": "4c349906-a69e-4520-b94e-9d34fe9f6e7e",
   "metadata": {},
   "outputs": [
    {
     "name": "stdout",
     "output_type": "stream",
     "text": [
      "Epoch 1\n",
      "-------------------------------\n",
      "loss: 6.167248  [   64/1104186]\n",
      "loss: 7.456604  [ 6464/1104186]\n",
      "loss: 6.376162  [12864/1104186]\n",
      "loss: 7.035008  [19264/1104186]\n",
      "loss: 7.604018  [25664/1104186]\n",
      "loss: 8.276933  [32064/1104186]\n",
      "loss: 6.397669  [38464/1104186]\n",
      "loss: 6.478691  [44864/1104186]\n",
      "loss: 6.422756  [51264/1104186]\n",
      "loss: 6.904959  [57664/1104186]\n",
      "loss: 6.469102  [64064/1104186]\n",
      "loss: 6.308880  [70464/1104186]\n",
      "loss: 7.074214  [76864/1104186]\n",
      "loss: 6.422814  [83264/1104186]\n",
      "loss: 7.196824  [89664/1104186]\n",
      "loss: 6.806736  [96064/1104186]\n",
      "loss: 6.022195  [102464/1104186]\n",
      "loss: 7.318507  [108864/1104186]\n",
      "loss: 6.694197  [115264/1104186]\n",
      "loss: 6.529153  [121664/1104186]\n",
      "loss: 7.137928  [128064/1104186]\n",
      "loss: 6.328780  [134464/1104186]\n",
      "loss: 7.420036  [140864/1104186]\n",
      "loss: 6.980636  [147264/1104186]\n",
      "loss: 6.564913  [153664/1104186]\n",
      "loss: 6.256464  [160064/1104186]\n",
      "loss: 6.509995  [166464/1104186]\n",
      "loss: 7.580016  [172864/1104186]\n",
      "loss: 6.593575  [179264/1104186]\n",
      "loss: 6.044116  [185664/1104186]\n",
      "loss: 7.328397  [192064/1104186]\n",
      "loss: 6.895224  [198464/1104186]\n",
      "loss: 6.422594  [204864/1104186]\n",
      "loss: 6.949848  [211264/1104186]\n",
      "loss: 7.078048  [217664/1104186]\n",
      "loss: 6.825130  [224064/1104186]\n",
      "loss: 6.302617  [230464/1104186]\n",
      "loss: 6.929081  [236864/1104186]\n",
      "loss: 6.586472  [243264/1104186]\n",
      "loss: 6.916011  [249664/1104186]\n",
      "loss: 7.118810  [256064/1104186]\n",
      "loss: 6.261371  [262464/1104186]\n",
      "loss: 7.464839  [268864/1104186]\n",
      "loss: 6.486129  [275264/1104186]\n",
      "loss: 7.011709  [281664/1104186]\n",
      "loss: 7.051820  [288064/1104186]\n",
      "loss: 6.562583  [294464/1104186]\n",
      "loss: 6.776638  [300864/1104186]\n",
      "loss: 7.133297  [307264/1104186]\n",
      "loss: 7.212033  [313664/1104186]\n",
      "loss: 6.874445  [320064/1104186]\n",
      "loss: 7.241368  [326464/1104186]\n",
      "loss: 6.674170  [332864/1104186]\n",
      "loss: 6.459813  [339264/1104186]\n",
      "loss: 7.073850  [345664/1104186]\n",
      "loss: 7.023817  [352064/1104186]\n",
      "loss: 6.569081  [358464/1104186]\n",
      "loss: 7.580504  [364864/1104186]\n",
      "loss: 6.593861  [371264/1104186]\n",
      "loss: 6.771736  [377664/1104186]\n",
      "loss: 6.390263  [384064/1104186]\n",
      "loss: 7.430560  [390464/1104186]\n",
      "loss: 6.820933  [396864/1104186]\n",
      "loss: 7.220280  [403264/1104186]\n",
      "loss: 6.219724  [409664/1104186]\n",
      "loss: 6.893963  [416064/1104186]\n",
      "loss: 6.867901  [422464/1104186]\n",
      "loss: 7.380530  [428864/1104186]\n",
      "loss: 6.495742  [435264/1104186]\n",
      "loss: 5.961314  [441664/1104186]\n",
      "loss: 6.979808  [448064/1104186]\n",
      "loss: 7.637178  [454464/1104186]\n",
      "loss: 6.910908  [460864/1104186]\n",
      "loss: 7.382702  [467264/1104186]\n",
      "loss: 6.224069  [473664/1104186]\n",
      "loss: 6.429019  [480064/1104186]\n",
      "loss: 6.806343  [486464/1104186]\n",
      "loss: 6.582332  [492864/1104186]\n",
      "loss: 6.565152  [499264/1104186]\n",
      "loss: 6.092706  [505664/1104186]\n",
      "loss: 6.882010  [512064/1104186]\n",
      "loss: 6.216551  [518464/1104186]\n",
      "loss: 6.750428  [524864/1104186]\n",
      "loss: 5.471266  [531264/1104186]\n",
      "loss: 7.610810  [537664/1104186]\n",
      "loss: 7.028249  [544064/1104186]\n",
      "loss: 6.820005  [550464/1104186]\n",
      "loss: 6.604188  [556864/1104186]\n",
      "loss: 7.108219  [563264/1104186]\n",
      "loss: 7.234435  [569664/1104186]\n",
      "loss: 8.063713  [576064/1104186]\n",
      "loss: 6.476125  [582464/1104186]\n",
      "loss: 7.282728  [588864/1104186]\n",
      "loss: 6.987418  [595264/1104186]\n",
      "loss: 7.743006  [601664/1104186]\n",
      "loss: 6.821904  [608064/1104186]\n",
      "loss: 6.116959  [614464/1104186]\n",
      "loss: 6.969788  [620864/1104186]\n",
      "loss: 6.846482  [627264/1104186]\n",
      "loss: 6.629506  [633664/1104186]\n",
      "loss: 6.683536  [640064/1104186]\n",
      "loss: 7.124879  [646464/1104186]\n",
      "loss: 7.056356  [652864/1104186]\n",
      "loss: 6.995513  [659264/1104186]\n",
      "loss: 7.121092  [665664/1104186]\n",
      "loss: 7.260023  [672064/1104186]\n",
      "loss: 6.525421  [678464/1104186]\n",
      "loss: 6.813569  [684864/1104186]\n",
      "loss: 7.625901  [691264/1104186]\n",
      "loss: 7.464181  [697664/1104186]\n",
      "loss: 6.181374  [704064/1104186]\n",
      "loss: 7.480175  [710464/1104186]\n",
      "loss: 7.004023  [716864/1104186]\n",
      "loss: 7.307283  [723264/1104186]\n",
      "loss: 7.049482  [729664/1104186]\n",
      "loss: 6.470307  [736064/1104186]\n",
      "loss: 7.254964  [742464/1104186]\n",
      "loss: 7.113939  [748864/1104186]\n",
      "loss: 7.013165  [755264/1104186]\n",
      "loss: 6.578086  [761664/1104186]\n",
      "loss: 6.867950  [768064/1104186]\n",
      "loss: 7.380165  [774464/1104186]\n",
      "loss: 6.989232  [780864/1104186]\n",
      "loss: 6.315375  [787264/1104186]\n",
      "loss: 7.471325  [793664/1104186]\n",
      "loss: 6.579302  [800064/1104186]\n",
      "loss: 6.456963  [806464/1104186]\n",
      "loss: 6.980162  [812864/1104186]\n",
      "loss: 6.815566  [819264/1104186]\n",
      "loss: 7.050261  [825664/1104186]\n",
      "loss: 6.740802  [832064/1104186]\n",
      "loss: 6.815325  [838464/1104186]\n",
      "loss: 6.932225  [844864/1104186]\n",
      "loss: 7.061724  [851264/1104186]\n",
      "loss: 6.299884  [857664/1104186]\n",
      "loss: 6.640789  [864064/1104186]\n",
      "loss: 6.505100  [870464/1104186]\n",
      "loss: 6.846448  [876864/1104186]\n",
      "loss: 7.624829  [883264/1104186]\n",
      "loss: 7.520596  [889664/1104186]\n",
      "loss: 7.612077  [896064/1104186]\n",
      "loss: 6.003383  [902464/1104186]\n",
      "loss: 7.273042  [908864/1104186]\n",
      "loss: 7.016850  [915264/1104186]\n",
      "loss: 6.956363  [921664/1104186]\n",
      "loss: 7.026398  [928064/1104186]\n",
      "loss: 7.011433  [934464/1104186]\n",
      "loss: 7.677933  [940864/1104186]\n",
      "loss: 7.422278  [947264/1104186]\n",
      "loss: 7.052859  [953664/1104186]\n",
      "loss: 6.674084  [960064/1104186]\n",
      "loss: 6.326797  [966464/1104186]\n",
      "loss: 6.365913  [972864/1104186]\n",
      "loss: 6.504104  [979264/1104186]\n",
      "loss: 6.892089  [985664/1104186]\n",
      "loss: 7.224848  [992064/1104186]\n",
      "loss: 6.684926  [998464/1104186]\n",
      "loss: 6.501381  [1004864/1104186]\n",
      "loss: 7.175343  [1011264/1104186]\n",
      "loss: 6.871748  [1017664/1104186]\n",
      "loss: 6.331066  [1024064/1104186]\n",
      "loss: 6.537220  [1030464/1104186]\n",
      "loss: 6.936318  [1036864/1104186]\n",
      "loss: 6.747052  [1043264/1104186]\n",
      "loss: 6.701783  [1049664/1104186]\n",
      "loss: 7.282123  [1056064/1104186]\n",
      "loss: 6.918592  [1062464/1104186]\n",
      "loss: 6.763682  [1068864/1104186]\n",
      "loss: 7.017880  [1075264/1104186]\n",
      "loss: 7.141765  [1081664/1104186]\n",
      "loss: 6.752095  [1088064/1104186]\n",
      "loss: 7.982773  [1094464/1104186]\n",
      "loss: 6.889316  [1100864/1104186]\n",
      "Test Error: \n",
      " Accuracy: 6.2%, Avg loss: 6.846193 \n",
      "\n",
      "Epoch 2\n",
      "-------------------------------\n",
      "loss: 7.409709  [   64/1104186]\n",
      "loss: 6.622959  [ 6464/1104186]\n",
      "loss: 6.957686  [12864/1104186]\n",
      "loss: 6.696834  [19264/1104186]\n",
      "loss: 6.866523  [25664/1104186]\n",
      "loss: 7.577003  [32064/1104186]\n",
      "loss: 6.348228  [38464/1104186]\n",
      "loss: 6.145554  [44864/1104186]\n",
      "loss: 6.024796  [51264/1104186]\n",
      "loss: 7.097394  [57664/1104186]\n",
      "loss: 6.317767  [64064/1104186]\n",
      "loss: 6.227707  [70464/1104186]\n",
      "loss: 6.694089  [76864/1104186]\n",
      "loss: 6.668815  [83264/1104186]\n",
      "loss: 6.040012  [89664/1104186]\n",
      "loss: 6.947841  [96064/1104186]\n",
      "loss: 6.912113  [102464/1104186]\n",
      "loss: 7.338036  [108864/1104186]\n",
      "loss: 6.357766  [115264/1104186]\n",
      "loss: 7.134567  [121664/1104186]\n",
      "loss: 7.674540  [128064/1104186]\n",
      "loss: 6.964074  [134464/1104186]\n",
      "loss: 6.328884  [140864/1104186]\n",
      "loss: 6.493467  [147264/1104186]\n",
      "loss: 6.464599  [153664/1104186]\n",
      "loss: 6.615035  [160064/1104186]\n",
      "loss: 6.741478  [166464/1104186]\n",
      "loss: 7.603822  [172864/1104186]\n",
      "loss: 6.088395  [179264/1104186]\n",
      "loss: 7.391225  [185664/1104186]\n",
      "loss: 7.366160  [192064/1104186]\n",
      "loss: 6.530276  [198464/1104186]\n",
      "loss: 7.381780  [204864/1104186]\n",
      "loss: 6.704751  [211264/1104186]\n",
      "loss: 6.938143  [217664/1104186]\n",
      "loss: 6.663345  [224064/1104186]\n",
      "loss: 6.434554  [230464/1104186]\n",
      "loss: 6.868148  [236864/1104186]\n",
      "loss: 6.268138  [243264/1104186]\n",
      "loss: 6.782953  [249664/1104186]\n",
      "loss: 7.405939  [256064/1104186]\n",
      "loss: 7.029230  [262464/1104186]\n",
      "loss: 6.649887  [268864/1104186]\n",
      "loss: 6.585705  [275264/1104186]\n",
      "loss: 6.597034  [281664/1104186]\n",
      "loss: 6.443515  [288064/1104186]\n",
      "loss: 7.169332  [294464/1104186]\n",
      "loss: 7.520256  [300864/1104186]\n",
      "loss: 5.826905  [307264/1104186]\n",
      "loss: 6.895529  [313664/1104186]\n",
      "loss: 7.343107  [320064/1104186]\n",
      "loss: 6.946116  [326464/1104186]\n",
      "loss: 6.393140  [332864/1104186]\n",
      "loss: 6.714357  [339264/1104186]\n",
      "loss: 6.215645  [345664/1104186]\n",
      "loss: 6.391631  [352064/1104186]\n",
      "loss: 7.099098  [358464/1104186]\n",
      "loss: 6.649401  [364864/1104186]\n",
      "loss: 7.204964  [371264/1104186]\n",
      "loss: 6.192046  [377664/1104186]\n",
      "loss: 6.927235  [384064/1104186]\n",
      "loss: 6.888154  [390464/1104186]\n",
      "loss: 6.736724  [396864/1104186]\n",
      "loss: 6.338352  [403264/1104186]\n",
      "loss: 6.044790  [409664/1104186]\n",
      "loss: 7.006111  [416064/1104186]\n",
      "loss: 6.257041  [422464/1104186]\n",
      "loss: 6.696820  [428864/1104186]\n",
      "loss: 6.644326  [435264/1104186]\n",
      "loss: 6.952628  [441664/1104186]\n",
      "loss: 6.440893  [448064/1104186]\n",
      "loss: 5.911124  [454464/1104186]\n",
      "loss: 7.399604  [460864/1104186]\n",
      "loss: 7.756585  [467264/1104186]\n",
      "loss: 7.012186  [473664/1104186]\n",
      "loss: 6.960409  [480064/1104186]\n",
      "loss: 6.710887  [486464/1104186]\n",
      "loss: 7.312595  [492864/1104186]\n",
      "loss: 7.406099  [499264/1104186]\n",
      "loss: 6.849721  [505664/1104186]\n",
      "loss: 7.034491  [512064/1104186]\n",
      "loss: 6.438789  [518464/1104186]\n",
      "loss: 7.080185  [524864/1104186]\n",
      "loss: 7.145525  [531264/1104186]\n",
      "loss: 6.723961  [537664/1104186]\n",
      "loss: 6.419446  [544064/1104186]\n",
      "loss: 7.921669  [550464/1104186]\n",
      "loss: 5.752027  [556864/1104186]\n",
      "loss: 6.331677  [563264/1104186]\n",
      "loss: 7.129337  [569664/1104186]\n",
      "loss: 6.055654  [576064/1104186]\n",
      "loss: 6.303558  [582464/1104186]\n",
      "loss: 6.672348  [588864/1104186]\n",
      "loss: 6.915963  [595264/1104186]\n",
      "loss: 6.662075  [601664/1104186]\n",
      "loss: 7.400281  [608064/1104186]\n",
      "loss: 6.937630  [614464/1104186]\n",
      "loss: 6.733753  [620864/1104186]\n",
      "loss: 7.070502  [627264/1104186]\n",
      "loss: 7.639297  [633664/1104186]\n",
      "loss: 7.013031  [640064/1104186]\n",
      "loss: 6.691545  [646464/1104186]\n",
      "loss: 6.909436  [652864/1104186]\n",
      "loss: 6.502786  [659264/1104186]\n",
      "loss: 7.925445  [665664/1104186]\n",
      "loss: 7.019604  [672064/1104186]\n",
      "loss: 6.499012  [678464/1104186]\n",
      "loss: 6.937354  [684864/1104186]\n",
      "loss: 6.463863  [691264/1104186]\n",
      "loss: 7.173478  [697664/1104186]\n",
      "loss: 6.867399  [704064/1104186]\n",
      "loss: 6.940911  [710464/1104186]\n",
      "loss: 6.783436  [716864/1104186]\n",
      "loss: 7.448688  [723264/1104186]\n",
      "loss: 6.922796  [729664/1104186]\n",
      "loss: 6.192152  [736064/1104186]\n",
      "loss: 6.633634  [742464/1104186]\n",
      "loss: 7.697599  [748864/1104186]\n",
      "loss: 6.706805  [755264/1104186]\n",
      "loss: 7.670684  [761664/1104186]\n",
      "loss: 6.834827  [768064/1104186]\n",
      "loss: 6.380690  [774464/1104186]\n",
      "loss: 7.384624  [780864/1104186]\n",
      "loss: 6.587527  [787264/1104186]\n",
      "loss: 7.214155  [793664/1104186]\n",
      "loss: 7.098290  [800064/1104186]\n",
      "loss: 7.667843  [806464/1104186]\n",
      "loss: 8.006380  [812864/1104186]\n",
      "loss: 6.796204  [819264/1104186]\n",
      "loss: 6.287616  [825664/1104186]\n",
      "loss: 7.111968  [832064/1104186]\n",
      "loss: 7.109473  [838464/1104186]\n",
      "loss: 6.236655  [844864/1104186]\n",
      "loss: 7.165772  [851264/1104186]\n",
      "loss: 6.837463  [857664/1104186]\n",
      "loss: 6.149584  [864064/1104186]\n",
      "loss: 6.672128  [870464/1104186]\n",
      "loss: 7.176069  [876864/1104186]\n",
      "loss: 7.649462  [883264/1104186]\n",
      "loss: 7.674672  [889664/1104186]\n",
      "loss: 6.488052  [896064/1104186]\n",
      "loss: 6.590801  [902464/1104186]\n",
      "loss: 7.330095  [908864/1104186]\n",
      "loss: 6.551453  [915264/1104186]\n",
      "loss: 6.766604  [921664/1104186]\n",
      "loss: 6.785439  [928064/1104186]\n",
      "loss: 7.032674  [934464/1104186]\n",
      "loss: 7.631703  [940864/1104186]\n",
      "loss: 6.501168  [947264/1104186]\n",
      "loss: 6.559812  [953664/1104186]\n",
      "loss: 6.402431  [960064/1104186]\n",
      "loss: 6.791333  [966464/1104186]\n",
      "loss: 6.862211  [972864/1104186]\n",
      "loss: 7.458412  [979264/1104186]\n",
      "loss: 7.112367  [985664/1104186]\n",
      "loss: 7.633781  [992064/1104186]\n",
      "loss: 6.705778  [998464/1104186]\n",
      "loss: 6.924898  [1004864/1104186]\n",
      "loss: 7.363107  [1011264/1104186]\n",
      "loss: 7.057448  [1017664/1104186]\n",
      "loss: 6.752520  [1024064/1104186]\n",
      "loss: 6.884023  [1030464/1104186]\n",
      "loss: 7.250926  [1036864/1104186]\n",
      "loss: 6.680404  [1043264/1104186]\n",
      "loss: 6.904688  [1049664/1104186]\n",
      "loss: 7.603180  [1056064/1104186]\n",
      "loss: 6.369660  [1062464/1104186]\n",
      "loss: 6.533487  [1068864/1104186]\n",
      "loss: 7.208158  [1075264/1104186]\n",
      "loss: 6.801292  [1081664/1104186]\n",
      "loss: 7.162123  [1088064/1104186]\n",
      "loss: 7.499434  [1094464/1104186]\n",
      "loss: 6.755095  [1100864/1104186]\n",
      "Test Error: \n",
      " Accuracy: 6.2%, Avg loss: 6.841326 \n",
      "\n",
      "Done!\n"
     ]
    }
   ],
   "source": [
    "epochs = 2\n",
    "train_losses, test_losses = [], []\n",
    "for t in range(epochs):\n",
    "    print(f\"Epoch {t+1}\\n-------------------------------\")\n",
    "    train(train_dataloader, model, loss_fn, optimizer)\n",
    "    test(test_dataloader, model, loss_fn)\n",
    "print(\"Done!\")"
   ]
  },
  {
   "cell_type": "code",
   "execution_count": 170,
   "id": "9b2bb8cd-7528-40f2-b043-5bbde1e653d0",
   "metadata": {},
   "outputs": [],
   "source": [
    "def moving_average(data, window_size=3):\n",
    "    return [sum(data[i:i+window_size]) / window_size for i in range(len(data) - window_size + 1)]\n",
    "\n",
    "# Smooth the losses\n",
    "smoothed_train_losses = moving_average(train_losses, window_size=50)\n",
    "smoothed_test_losses = moving_average(test_losses, window_size=50)\n"
   ]
  },
  {
   "cell_type": "code",
   "execution_count": 174,
   "id": "5b8b6518-cef9-4576-acc8-90ebc3931ed1",
   "metadata": {},
   "outputs": [
    {
     "data": {
      "image/png": "[encoded data removed]",
      "text/plain": [
       "<Figure size 800x500 with 1 Axes>"
      ]
     },
     "metadata": {},
     "output_type": "display_data"
    }
   ],
   "source": [
    "import matplotlib.pyplot as plt\n",
    "\n",
    "plt.figure(figsize=(8, 5))\n",
    "plt.plot(smoothed_train_losses, label=\"Training Loss\", marker='o')\n",
    "plt.plot(smoothed_test_losses, label=\"Training Loss\", marker='o')\n",
    "#plt.plot(train_losses, label=\"Training Loss\", marker='o')\n",
    "#plt.plot(test_losses, label=\"Test Loss\", marker='o')\n",
    "plt.xlabel(\"Epochs\")\n",
    "plt.ylabel(\"Loss\")\n",
    "plt.title(\"Training and Test Loss Over Epochs\")\n",
    "plt.legend()\n",
    "plt.show()"
   ]
  },
  {
   "cell_type": "code",
   "execution_count": 167,
   "id": "75ea0f8d-498d-43cb-bee7-747af692a4bd",
   "metadata": {},
   "outputs": [
    {
     "name": "stdout",
     "output_type": "stream",
     "text": [
      "Collecting matplotlib\n",
      "  Downloading matplotlib-3.10.0-cp310-cp310-macosx_11_0_arm64.whl (8.0 MB)\n",
      "\u001b[2K     \u001b[90m━━━━━━━━━━━━━━━━━━━━━━━━━━━━━━━━━━━━━━━━\u001b[0m \u001b[32m8.0/8.0 MB\u001b[0m \u001b[31m44.0 MB/s\u001b[0m eta \u001b[36m0:00:00\u001b[0ma \u001b[36m0:00:01\u001b[0m\n",
      "\u001b[?25hRequirement already satisfied: numpy>=1.23 in /Users/lessandro/Interview/virtualenv/lib/python3.10/site-packages (from matplotlib) (2.2.2)\n",
      "Collecting kiwisolver>=1.3.1\n",
      "  Downloading kiwisolver-1.4.8-cp310-cp310-macosx_11_0_arm64.whl (65 kB)\n",
      "\u001b[2K     \u001b[90m━━━━━━━━━━━━━━━━━━━━━━━━━━━━━━━━━━━━━━━━\u001b[0m \u001b[32m65.4/65.4 kB\u001b[0m \u001b[31m7.3 MB/s\u001b[0m eta \u001b[36m0:00:00\u001b[0m\n",
      "\u001b[?25hRequirement already satisfied: python-dateutil>=2.7 in /Users/lessandro/Interview/virtualenv/lib/python3.10/site-packages (from matplotlib) (2.9.0.post0)\n",
      "Collecting fonttools>=4.22.0\n",
      "  Downloading fonttools-4.55.8-cp310-cp310-macosx_10_9_universal2.whl (2.8 MB)\n",
      "\u001b[2K     \u001b[90m━━━━━━━━━━━━━━━━━━━━━━━━━━━━━━━━━━━━━━━━\u001b[0m \u001b[32m2.8/2.8 MB\u001b[0m \u001b[31m61.7 MB/s\u001b[0m eta \u001b[36m0:00:00\u001b[0m00:01\u001b[0m\n",
      "\u001b[?25hRequirement already satisfied: packaging>=20.0 in /Users/lessandro/Interview/virtualenv/lib/python3.10/site-packages (from matplotlib) (24.2)\n",
      "Collecting contourpy>=1.0.1\n",
      "  Downloading contourpy-1.3.1-cp310-cp310-macosx_11_0_arm64.whl (253 kB)\n",
      "\u001b[2K     \u001b[90m━━━━━━━━━━━━━━━━━━━━━━━━━━━━━━━━━━━━━━\u001b[0m \u001b[32m253.3/253.3 kB\u001b[0m \u001b[31m23.0 MB/s\u001b[0m eta \u001b[36m0:00:00\u001b[0m\n",
      "Requirement already satisfied: pillow>=8 in /Users/lessandro/Interview/virtualenv/lib/python3.10/site-packages (from matplotlib) (11.1.0)\n",
      "Collecting pyparsing>=2.3.1\n",
      "  Downloading pyparsing-3.2.1-py3-none-any.whl (107 kB)\n",
      "\u001b[2K     \u001b[90m━━━━━━━━━━━━━━━━━━━━━━━━━━━━━━━━━━━━━━\u001b[0m \u001b[32m107.7/107.7 kB\u001b[0m \u001b[31m10.4 MB/s\u001b[0m eta \u001b[36m0:00:00\u001b[0m\n",
      "\u001b[?25hCollecting cycler>=0.10\n",
      "  Downloading cycler-0.12.1-py3-none-any.whl (8.3 kB)\n",
      "Requirement already satisfied: six>=1.5 in /Users/lessandro/Interview/virtualenv/lib/python3.10/site-packages (from python-dateutil>=2.7->matplotlib) (1.17.0)\n",
      "Installing collected packages: pyparsing, kiwisolver, fonttools, cycler, contourpy, matplotlib\n",
      "Successfully installed contourpy-1.3.1 cycler-0.12.1 fonttools-4.55.8 kiwisolver-1.4.8 matplotlib-3.10.0 pyparsing-3.2.1\n",
      "\n",
      "\u001b[1m[\u001b[0m\u001b[34;49mnotice\u001b[0m\u001b[1;39;49m]\u001b[0m\u001b[39;49m A new release of pip available: \u001b[0m\u001b[31;49m22.3.1\u001b[0m\u001b[39;49m -> \u001b[0m\u001b[32;49m25.0\u001b[0m\n",
      "\u001b[1m[\u001b[0m\u001b[34;49mnotice\u001b[0m\u001b[1;39;49m]\u001b[0m\u001b[39;49m To update, run: \u001b[0m\u001b[32;49mpip install --upgrade pip\u001b[0m\n"
     ]
    }
   ],
   "source": [
    "!pip install matplotlib"
   ]
  },
  {
   "cell_type": "code",
   "execution_count": null,
   "id": "68ca2533-87f9-4da7-b65c-8129ee8a2a0a",
   "metadata": {},
   "outputs": [],
   "source": []
  }
 ],
 "metadata": {
  "kernelspec": {
   "display_name": "Python 3 (ipykernel)",
   "language": "python",
   "name": "python3"
  },
  "language_info": {
   "codemirror_mode": {
    "name": "ipython",
    "version": 3
   },
   "file_extension": ".py",
   "mimetype": "text/x-python",
   "name": "python",
   "nbconvert_exporter": "python",
   "pygments_lexer": "ipython3",
   "version": "3.10.9"
  }
 },
 "nbformat": 4,
 "nbformat_minor": 5
}
