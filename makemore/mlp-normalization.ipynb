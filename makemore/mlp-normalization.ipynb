{
 "cells": [
  {
   "cell_type": "markdown",
   "id": "5be5ecc9-168a-42a8-a329-1227d43b015a",
   "metadata": {
    "execution": {
     "iopub.execute_input": "2025-02-06T07:05:31.719275Z",
     "iopub.status.busy": "2025-02-06T07:05:31.718926Z",
     "iopub.status.idle": "2025-02-06T07:05:31.727254Z",
     "shell.execute_reply": "2025-02-06T07:05:31.726033Z",
     "shell.execute_reply.started": "2025-02-06T07:05:31.719275Z"
    }
   },
   "source": [
    "# MLP with normalization techniques"
   ]
  },
  {
   "cell_type": "markdown",
   "id": "31068ba7-41f9-4c07-a1b1-491b50a8aaff",
   "metadata": {},
   "source": [
    "best run\n",
    "\n",
    "block_size_5__embedding_size_20__hidden_layer_size_400__batch_size_128__learning_rates_A_0.35__learning_rates_B_0.05__epochs_200000____hyperparam_search \n",
    " **eval_loss: 2.0323**, train_loss: 1.8617,  train_time: 383.77s"
   ]
  },
  {
   "cell_type": "markdown",
   "id": "fc2b0973-2d64-497a-a690-23afd0825c37",
   "metadata": {},
   "source": [
    "## Data Preprocessing "
   ]
  },
  {
   "cell_type": "code",
   "execution_count": 1,
   "id": "c9e9dfe8-19aa-4898-8738-a4fcb0a39f80",
   "metadata": {
    "execution": {
     "iopub.execute_input": "2025-02-09T03:54:55.286792Z",
     "iopub.status.busy": "2025-02-09T03:54:55.286464Z",
     "iopub.status.idle": "2025-02-09T03:54:55.326107Z",
     "shell.execute_reply": "2025-02-09T03:54:55.325216Z",
     "shell.execute_reply.started": "2025-02-09T03:54:55.286766Z"
    }
   },
   "outputs": [
    {
     "name": "stdout",
     "output_type": "stream",
     "text": [
      "{'a': 1, 'b': 2, 'c': 3, 'd': 4, 'e': 5, 'f': 6, 'g': 7, 'h': 8, 'i': 9, 'j': 10, 'k': 11, 'l': 12, 'm': 13, 'n': 14, 'o': 15, 'p': 16, 'q': 17, 'r': 18, 's': 19, 't': 20, 'u': 21, 'v': 22, 'w': 23, 'x': 24, 'y': 25, 'z': 26, '.': 0} {1: 'a', 2: 'b', 3: 'c', 4: 'd', 5: 'e', 6: 'f', 7: 'g', 8: 'h', 9: 'i', 10: 'j', 11: 'k', 12: 'l', 13: 'm', 14: 'n', 15: 'o', 16: 'p', 17: 'q', 18: 'r', 19: 's', 20: 't', 21: 'u', 22: 'v', 23: 'w', 24: 'x', 25: 'y', 26: 'z', 0: '.'}\n"
     ]
    }
   ],
   "source": [
    "words = open('names.txt', 'r').read().splitlines()\n",
    "\n",
    "chars = sorted(list(set(''.join(words))))\n",
    "stoi = {s: i+1 for i, s in enumerate(chars)}\n",
    "stoi['.'] = 0\n",
    "\n",
    "itos = {i: s for s, i in stoi.items()}\n",
    "print(stoi, itos)"
   ]
  },
  {
   "cell_type": "code",
   "execution_count": 2,
   "id": "18de80a1-5ea8-438d-8760-60918e85397c",
   "metadata": {
    "execution": {
     "iopub.execute_input": "2025-02-09T03:54:56.567646Z",
     "iopub.status.busy": "2025-02-09T03:54:56.566626Z",
     "iopub.status.idle": "2025-02-09T03:55:00.487264Z",
     "shell.execute_reply": "2025-02-09T03:55:00.486134Z",
     "shell.execute_reply.started": "2025-02-09T03:54:56.567606Z"
    }
   },
   "outputs": [
    {
     "name": "stdout",
     "output_type": "stream",
     "text": [
      "Using device: cuda\n",
      "Number of CUDA devices: 1\n",
      "Current device ID: 0\n",
      "Device name: Quadro P5000\n",
      "Device properties: _CudaDeviceProperties(name='Quadro P5000', major=6, minor=1, total_memory=16272MB, multi_processor_count=20)\n",
      "Memory allocated: 0\n",
      "Memory reserved: 0\n"
     ]
    }
   ],
   "source": [
    "import torch\n",
    "\n",
    "# 1. Define a device variable. If a GPU is available, use it.\n",
    "device = torch.device(\"cuda\" if torch.cuda.is_available() else \"cpu\")\n",
    "print(f\"Using device: {device}\")\n",
    "\n",
    "import torch\n",
    "\n",
    "# Check if CUDA is available\n",
    "if torch.cuda.is_available():\n",
    "    # Get the number of available CUDA devices\n",
    "    num_devices = torch.cuda.device_count()\n",
    "    print(\"Number of CUDA devices:\", num_devices)\n",
    "\n",
    "    # Get information about the current device\n",
    "    current_device_id = torch.cuda.current_device()\n",
    "    print(\"Current device ID:\", current_device_id)\n",
    "\n",
    "    # Get the name of the current device\n",
    "    device_name = torch.cuda.get_device_name(current_device_id)\n",
    "    print(\"Device name:\", device_name)\n",
    "\n",
    "    # Get detailed device properties\n",
    "    device_props = torch.cuda.get_device_properties(current_device_id)\n",
    "    print(\"Device properties:\", device_props)\n",
    "\n",
    "    # Get memory information\n",
    "    memory_allocated = torch.cuda.memory_allocated(current_device_id)\n",
    "    memory_reserved = torch.cuda.memory_reserved(current_device_id)\n",
    "    print(\"Memory allocated:\", memory_allocated)\n",
    "    print(\"Memory reserved:\", memory_reserved)\n",
    "else:\n",
    "    print(\"CUDA is not available.\")"
   ]
  },
  {
   "cell_type": "markdown",
   "id": "eec04287-3927-499a-b695-768ec0fddd8c",
   "metadata": {
    "execution": {
     "iopub.execute_input": "2025-02-08T07:13:42.721041Z",
     "iopub.status.busy": "2025-02-08T07:13:42.720413Z",
     "iopub.status.idle": "2025-02-08T07:13:42.725055Z",
     "shell.execute_reply": "2025-02-08T07:13:42.723754Z",
     "shell.execute_reply.started": "2025-02-08T07:13:42.721014Z"
    }
   },
   "source": [
    "## Hyperparameters"
   ]
  },
  {
   "cell_type": "code",
   "execution_count": 6,
   "id": "149a211a-ea69-40da-a367-b08c3eb04b79",
   "metadata": {
    "execution": {
     "iopub.execute_input": "2025-02-09T03:56:23.988540Z",
     "iopub.status.busy": "2025-02-09T03:56:23.988217Z",
     "iopub.status.idle": "2025-02-09T03:56:23.992791Z",
     "shell.execute_reply": "2025-02-09T03:56:23.991794Z",
     "shell.execute_reply.started": "2025-02-09T03:56:23.988516Z"
    }
   },
   "outputs": [],
   "source": [
    "runs = {}"
   ]
  },
  {
   "cell_type": "code",
   "execution_count": 21,
   "id": "a053c199-cab5-4d29-9290-d25060b2f03a",
   "metadata": {
    "execution": {
     "iopub.execute_input": "2025-02-09T04:25:09.689900Z",
     "iopub.status.busy": "2025-02-09T04:25:09.689107Z",
     "iopub.status.idle": "2025-02-09T04:25:09.712529Z",
     "shell.execute_reply": "2025-02-09T04:25:09.711870Z",
     "shell.execute_reply.started": "2025-02-09T04:25:09.689859Z"
    }
   },
   "outputs": [
    {
     "name": "stdout",
     "output_type": "stream",
     "text": [
      "block_size_5__embedding_size_20__hidden_layer_size_400__batch_size_128__learning_rates_A_0.35__learning_rates_B_0.05__epochs_100000____hyperparam_search \n",
      " eval_loss: 2.0400, train_loss: 1.9188,  train_time: 184.27s\n",
      "block_size_5__embedding_size_20__hidden_layer_size_400__batch_size_128__learning_rates_A_0.35__learning_rates_B_0.05__epochs_200000____hyperparam_search \n",
      " eval_loss: 2.0323, train_loss: 1.8617,  train_time: 383.77s\n",
      "block_size_5__embedding_size_5__hidden_layer_size_400__batch_size_128__learning_rates_A_0.4__learning_rates_B_0.1__epochs_100000____hyperparam_search \n",
      " eval_loss: 2.1260, train_loss: 2.0872,  train_time: 180.67s\n",
      "block_size_5__embedding_size_20__hidden_layer_size_100__batch_size_64__learning_rates_A_0.1__learning_rates_B_0.005__epochs_100000____hyperparam_search \n",
      " eval_loss: 2.0913, train_loss: 2.0298,  train_time: 184.43s\n"
     ]
    }
   ],
   "source": [
    "for i, v in runs.items():\n",
    "    print(f\"{i} \\n eval_loss: {v['eval_loss'].item():.4f}, train_loss: {v['train_loss'].item():.4f},  train_time: {v['time']:.2f}s\")\n",
    "\n",
    "# > previous best result from parameter tuning\n",
    "# block_size_5__embedding_size_10__hidden_layer_size_200__batch_size_128__learning_rates_A_0.15__learning_rates_B_0.01__epochs_100000___A \n",
    "# eval_loss: 2.1952, train_loss: 2.1631,  train_time: 165.22s\n",
    "    \n",
    "# > scaling W2 so the logits are not too big \n",
    "# block_size_3__embedding_size_10__hidden_layer_size_200__batch_size_32__learning_rates_A_0.1__learning_rates_B_0.02__epochs_100000____W1_scaling_factor \n",
    "# eval_loss: 2.1599, train_loss: 2.1056,  train_time: 124.18s\n",
    "    \n",
    "# > making sure tanh doesn't oversaturate by scaling down Q1\n",
    "# block_size_3__embedding_size_10__hidden_layer_size_200__batch_size_32__learning_rates_A_0.1__learning_rates_B_0.02__epochs_100000___A \n",
    "# eval_loss: 2.1393, train_loss: 2.0990,  train_time: 124.12s\n",
    "\n",
    "# > kaimin activation\n",
    "# block_size_3__embedding_size_10__hidden_layer_size_200__batch_size_32__learning_rates_A_0.1__learning_rates_B_0.02__epochs_100000____kaiming \n",
    "# eval_loss: 2.1258, train_loss: 2.0680,  train_time: 118.84s\n",
    "\n",
    "# > batch norm\n",
    "# tes_A_0.1__learning_rates_B_0.02__epochs_100000____batch_norm_2 \n",
    "# eval_loss: 2.1641, train_loss: 2.1409,  train_time: 196.01s\n",
    "\n",
    "# > removed batch norm, best run so far\n",
    "# block_size_3__embedding_size_10__hidden_layer_size_200__batch_size_32__learning_rates_A_0.1__learning_rates_B_0.02__epochs_300000____removed_batchnorm \n",
    "# eval_loss: 2.1177, train_loss: 2.0359,  train_time: 359.38s\n",
    "\n",
    "\n",
    "# > hyperparam search - small batch small model small learning rate\n",
    "#'block_size_5__embedding_size_20__hidden_layer_size_100__batch_size_64__learning_rates_A_0.1__learning_rates_B_0.05__epochs_15000'],\n",
    "# [2.184032678604126,\n",
    "#  2.176513910293579,\n",
    "\n",
    "# > hyperparam serach - big batch big model big learning rate\n",
    "#  'block_size_5__embedding_size_5__hidden_layer_size_400__batch_size_512__learning_rates_A_0.3__learning_rates_B_0.05__epochs_15000'],\n",
    "# [2.191435217857361,\n",
    "#  2.1800073385238647,\n",
    "\n",
    "# > big batch big model big learning rate\n",
    "# block_size_5__embedding_size_20__hidden_layer_size_400__batch_size_128__learning_rates_A_0.35__learning_rates_B_0.05__epochs_100000____hyperparam_search \n",
    "# eval_loss: 2.0400, train_loss: 1.9188,  train_time: 184.27s"
   ]
  },
  {
   "cell_type": "code",
   "execution_count": null,
   "id": "597ee8ab-a70e-4b0c-b227-6e188aaa42c9",
   "metadata": {
    "execution": {
     "iopub.status.busy": "2025-02-09T03:55:05.341610Z",
     "iopub.status.idle": "2025-02-09T03:55:05.341899Z",
     "shell.execute_reply": "2025-02-09T03:55:05.341777Z",
     "shell.execute_reply.started": "2025-02-09T03:55:05.341761Z"
    }
   },
   "outputs": [],
   "source": [
    "# hyperparameter search\n",
    "import itertools\n",
    "candidate_embedding_sizes = [5, 20, 30]\n",
    "candidate_hidden_layer_sizes = [100, 200, 400]\n",
    "candidate_batch_sizes = [32 *2, 32 * 8, 32 * 16]  # e.g., 128 and 256\n",
    "candidate_learning_rates_A = [0.1, 0.2, 0.3]\n",
    "candidate_learning_rates_B = [0.01, 0.02, 0.05]\n",
    "block_sizes = [2, 3, 4, 5]\n",
    "\n",
    "# To remember the configuration used for each run, we store a copy in a dictionary.\n",
    "configs = {}\n",
    "\n",
    "# Use itertools.product to iterate over all combinations.\n",
    "for embedding, hidden, batch, lrA, lrB, block_size in itertools.product(\n",
    "        candidate_embedding_sizes,\n",
    "        candidate_hidden_layer_sizes,\n",
    "        candidate_batch_sizes,\n",
    "        candidate_learning_rates_A,\n",
    "        candidate_learning_rates_B, block_sizes):\n",
    "\n",
    "    # Update the global hyperparams for this configuration.\n",
    "    hyperparams['block_size'] = block_size  # fixed as you requested\n",
    "    hyperparams['embedding_size'] = embedding\n",
    "    hyperparams['hidden_layer_size'] = hidden\n",
    "    hyperparams['batch_size'] = batch\n",
    "    hyperparams['learning_rates_A'] = lrA\n",
    "    hyperparams['learning_rates_B'] = lrB\n",
    "    hyperparams['epochs'] = 15000  # short run: 100k epochs\n",
    "\n",
    "    # Get the run name (which encodes the hyperparameter settings)\n",
    "    run_name = hyperparams_to_run_name()\n",
    "    \n",
    "    print(f\"HYPERPARAMETERS SEARCH, START {run_name}\")\n",
    "    \n",
    "     # Run two independent runs for this configuration.\n",
    "    for run_idx in range(2):\n",
    "        # Insert a run index into hyperparams so that run name becomes unique.\n",
    "        hyperparams['run_idx'] = run_idx\n",
    "        # The run name will now include the run_idx value.\n",
    "        run_name = hyperparams_to_run_name()\n",
    "        run()  # This call should update the global \"runs\" dictionary with key run_name.\n",
    "        \n",
    "     # Clean up: remove run_idx from hyperparams for the next configuration.\n",
    "    if 'run_idx' in hyperparams:\n",
    "        del hyperparams['run_idx']\n",
    " # ----------------------------------------------------------\n",
    "# Aggregate results: group the two runs for each configuration and average their eval_loss.\n",
    "aggregated_results = {}\n",
    "for run_name, result in runs.items():\n",
    "    if \"eval_loss\" not in result:\n",
    "        print(f\"Warning: run {run_name} has no 'eval_loss' value.\")\n",
    "        continue\n",
    "    # The base name is the part before the \"__run_idx_\" substring.\n",
    "    base_name = run_name.split(\"__run_idx_\")[0]\n",
    "    aggregated_results.setdefault(base_name, []).append(result['eval_loss'])\n",
    "\n",
    "avg_results = []\n",
    "for base_name, losses in aggregated_results.items():\n",
    "    avg_loss = sum(losses) / len(losses)\n",
    "    avg_results.append((avg_loss, base_name))\n",
    "\n",
    "# Sort by average loss (lower is better) and select the top 5.\n",
    "avg_results.sort(key=lambda x: x[0])\n",
    "top5 = avg_results[:5]\n",
    "\n",
    "print(\"\\nTop 5 configurations based on average eval_loss:\")\n",
    "for avg_loss, base_name in top5:\n",
    "    print(f\"  Base Run: {base_name}  -> Average Loss: {avg_loss:.4f}\")\n",
    "\n",
    "# ----------------------------------------------------------\n",
    "# Phase 3: Re-run the Top 5 Configurations for longer training.\n",
    "for avg_loss, base_name in top5:\n",
    "    # Retrieve the saved base configuration.\n",
    "    config = configs[base_name].copy()\n",
    "    # Set a longer training duration.\n",
    "    config['epochs'] = 500000\n",
    "\n",
    "    # Update the global hyperparams with this configuration.\n",
    "    hyperparams.update(config)\n",
    "\n",
    "    # Compute a new run name for the long run.\n",
    "    long_run_name = ''.join([f\"{k}_{v}__\" for k, v in hyperparams.items()]) + RUN_NAME + \"_long_run\"\n",
    "    print(f\"\\nRe-running top configuration for long training: {long_run_name}\")\n",
    "\n",
    "    run()  # This long run should store its results in runs[long_run_name]\n",
    "    print(f\"Completed long run: {long_run_name}\")"
   ]
  },
  {
   "cell_type": "code",
   "execution_count": null,
   "id": "864117e5-6d4f-48c2-b586-85b3a487b37f",
   "metadata": {},
   "outputs": [],
   "source": [
    "runs"
   ]
  },
  {
   "cell_type": "code",
   "execution_count": 26,
   "id": "a9606447-980b-4be8-8d8b-54c2cb404ad7",
   "metadata": {
    "execution": {
     "iopub.execute_input": "2025-02-08T21:56:32.340373Z",
     "iopub.status.busy": "2025-02-08T21:56:32.339786Z",
     "iopub.status.idle": "2025-02-08T21:56:32.347337Z",
     "shell.execute_reply": "2025-02-08T21:56:32.346620Z",
     "shell.execute_reply.started": "2025-02-08T21:56:32.340348Z"
    }
   },
   "outputs": [
    {
     "name": "stdout",
     "output_type": "stream",
     "text": [
      "\n",
      "Top 5 configurations based on average eval_loss:\n",
      "  Base Run: block_size_3__embedding_size_5__hidden_layer_size_100__batch_size_64__learning_rates_A_0.1__learning_rates_B_0.01__epochs_15000____removed_batchnorm  -> Average Loss: 2.3319\n",
      "  Base Run: block_size_2__embedding_size_5__hidden_layer_size_100__batch_size_64__learning_rates_A_0.1__learning_rates_B_0.01__epochs_15000  -> Average Loss: 2.3914\n",
      "  Base Run: block_size_2__embedding_size_5__hidden_layer_size_100__batch_size_64__learning_rates_A_0.1__learning_rates_B_0.01__epochs_15000____removed_batchnorm  -> Average Loss: 2.3966\n"
     ]
    }
   ],
   "source": [
    "# Aggregate results: group the two runs for each configuration and average their eval_loss.\n",
    "aggregated_results = {}\n",
    "for run_name, result in runs.items():\n",
    "    if \"eval_loss\" not in result:\n",
    "        print(f\"Warning: run {run_name} has no 'eval_loss' value.\")\n",
    "        continue\n",
    "    # The base name is the part before the \"__run_idx_\" substring.\n",
    "    base_name = run_name.split(\"__run_idx_\")[0]\n",
    "    aggregated_results.setdefault(base_name, []).append(result['eval_loss'])\n",
    "\n",
    "avg_results = []\n",
    "for base_name, losses in aggregated_results.items():\n",
    "    avg_loss = sum(losses) / len(losses)\n",
    "    avg_results.append((avg_loss, base_name))\n",
    "\n",
    "# Sort by average loss (lower is better) and select the top 5.\n",
    "avg_results.sort(key=lambda x: x[0])\n",
    "top5 = avg_results[:5]\n",
    "\n",
    "print(\"\\nTop 5 configurations based on average eval_loss:\")\n",
    "for avg_loss, base_name in top5:\n",
    "    print(f\"  Base Run: {base_name}  -> Average Loss: {avg_loss:.4f}\")"
   ]
  },
  {
   "cell_type": "code",
   "execution_count": 24,
   "id": "21befd72-7849-4d3e-8a15-1b1de104baea",
   "metadata": {
    "execution": {
     "iopub.execute_input": "2025-02-08T21:50:55.564281Z",
     "iopub.status.busy": "2025-02-08T21:50:55.563589Z",
     "iopub.status.idle": "2025-02-08T21:50:55.570538Z",
     "shell.execute_reply": "2025-02-08T21:50:55.569201Z",
     "shell.execute_reply.started": "2025-02-08T21:50:55.564257Z"
    }
   },
   "outputs": [
    {
     "name": "stdout",
     "output_type": "stream",
     "text": [
      "\n",
      "Top 5 configurations based on loss:\n",
      "  Run: block_size_3__embedding_size_5__hidden_layer_size_100__batch_size_64__learning_rates_A_0.1__learning_rates_B_0.01__epochs_15000____removed_batchnorm  -> Loss: 2.3319\n",
      "  Run: block_size_2__embedding_size_5__hidden_layer_size_100__batch_size_64__learning_rates_A_0.1__learning_rates_B_0.01__epochs_15000____removed_batchnorm  -> Loss: 2.3966\n"
     ]
    }
   ],
   "source": [
    "results = []\n",
    "for run_name, result in runs.items():\n",
    "    # If no loss is reported, skip this run.\n",
    "    if \"eval_loss\" not in result:\n",
    "        print(f\"Warning: run {run_name} has no 'loss' value.\")\n",
    "        continue\n",
    "    results.append((result['eval_loss'], run_name))\n",
    "\n",
    "# Sort the results by loss (ascending: lower loss is better)\n",
    "results.sort(key=lambda x: x[0])\n",
    "top5 = results[:5]\n",
    "\n",
    "print(\"\\nTop 5 configurations based on loss:\")\n",
    "for loss, run_name in top5:\n",
    "    print(f\"  Run: {run_name}  -> Loss: {loss:.4f}\")"
   ]
  },
  {
   "cell_type": "code",
   "execution_count": 19,
   "id": "de673c18-0077-41b0-b078-4f6fe71ff3c1",
   "metadata": {
    "execution": {
     "iopub.execute_input": "2025-02-09T04:21:26.774505Z",
     "iopub.status.busy": "2025-02-09T04:21:26.774110Z",
     "iopub.status.idle": "2025-02-09T04:21:26.797302Z",
     "shell.execute_reply": "2025-02-09T04:21:26.796293Z",
     "shell.execute_reply.started": "2025-02-09T04:21:26.774469Z"
    }
   },
   "outputs": [],
   "source": [
    "RUN_NAME = \"__hyperparam_search\"\n",
    "hyperparams = {\n",
    "'block_size': 5,\n",
    "'embedding_size': 20,\n",
    "'hidden_layer_size': 100,\n",
    "'batch_size': 32*2,\n",
    "'learning_rates_A': 0.10,\n",
    "'learning_rates_B': 0.005,\n",
    "'epochs': 100000\n",
    "}\n",
    "\n",
    "\n",
    "def hyperparams_to_run_name():\n",
    "    if RUN_NAME == \"\": return \"last_run_(not_logged)\"\n",
    "    return ''.join([f\"{k}_{v}__\" for k, v in hyperparams.items()]) + RUN_NAME\n",
    "\n",
    "hyperparams_to_run_name()\n",
    "\n",
    "\n",
    "## Training Data\n",
    "\n",
    "\n",
    "\n",
    "def run():\n",
    "    \"\"\"\n",
    "    e2e runs with values in hyperparams\n",
    "    save params in runs[run_name]\n",
    "    \"\"\"\n",
    "    print(f\"starting run: {hyperparams_to_run_name()}\")\n",
    "    \n",
    "    block_size = hyperparams['block_size']\n",
    "    embedding_size = hyperparams['embedding_size']\n",
    "    epochs = hyperparams['epochs']\n",
    "    learning_rates = [0, 0]\n",
    "    learning_rates[0] = hyperparams['learning_rates_A']\n",
    "    learning_rates[1] = hyperparams['learning_rates_B']\n",
    "    hidden_layer_size = hyperparams['hidden_layer_size']\n",
    "    batch_size = hyperparams['batch_size']\n",
    "    \n",
    "    \n",
    "    import torch\n",
    "\n",
    "\n",
    "\n",
    "    def build_dataset(words):\n",
    "        X, Y = [], []\n",
    "        for w in words:\n",
    "            context = [0] * block_size\n",
    "            for ch in w + '.':\n",
    "                ix = stoi[ch]\n",
    "                X.append(context)\n",
    "                Y.append(ix)\n",
    "                #print(context, ix)\n",
    "                #print(''.join(itos[i] for i in context), '->', itos[ix])\n",
    "                context = context[1:] + [ix]\n",
    "\n",
    "        X = torch.tensor(X, device=device)\n",
    "        Y = torch.tensor(Y, device=device)\n",
    "        return X, Y\n",
    "\n",
    "    import random\n",
    "    random.seed(42)\n",
    "    random.shuffle(words)\n",
    "    n1 = int(0.8*len(words))\n",
    "    n2 = int(0.9*len(words))\n",
    "\n",
    "    Xtr, Ytr = build_dataset(words[:n1])\n",
    "    Xval, Yval = build_dataset(words[n1:n2])\n",
    "    Xte, Yte = build_dataset(words[n2:])\n",
    "\n",
    "\n",
    "\n",
    "    ## Model\n",
    "\n",
    "    ### Initialization\n",
    "\n",
    "    # iniitalization at the beginnning should be\n",
    "    import torch\n",
    "    -torch.log(torch.tensor([1/27])) \n",
    "    # this would be loss for uniform distribution for 27 classes\n",
    "\n",
    "    logits = torch.zeros(8, dtype=torch.float)\n",
    "    logits = torch.tensor([2,10,5,3,30,-10,2,3], dtype=torch.float)\n",
    "    logits = torch.randn(8) * 10\n",
    "    # if the numebers are high unlikely you will be guessing the right bucket\n",
    "    # we want to set logits to be close to uniform distributioun, for instance all equal, \n",
    "    # to get loss that's ckloser to uniform distribution loss\n",
    "    #print(logits)\n",
    "    probs = torch.softmax(logits, dim=0)\n",
    "    -torch.log(probs[2])\n",
    "\n",
    "    # if we oversaturate the tanh there is going to be dead neurons (weight > 0.99)\n",
    "    # in the whole forward pass they will never get activated\n",
    "\n",
    "    # you want to have unit gaussian over the net\n",
    "    # if you multiply to gaussian the variance increase\n",
    "\n",
    "    # https://arxiv.org/abs/1502.01852\n",
    "    # Delving Deep into Rectifiers: Surpassing Human-Level Performance on ImageNet Classification\n",
    "\n",
    "    # batch norm + layer norm + residual network + adam optimizer\n",
    "    # make it so initialization less important\n",
    "\n",
    "\n",
    "    C = torch.randn((27, embedding_size), device=device)\n",
    "    W1_multiplier = (5/3) / ((embedding_size * block_size) ** 0.5)\n",
    "    W1 = torch.randn((embedding_size * block_size, hidden_layer_size), device=device) * W1_multiplier\n",
    "    b1 = torch.randn(hidden_layer_size, device=device) * 0\n",
    "    W2 = torch.randn((hidden_layer_size, 27), device=device) * 0.1\n",
    "    b2 = torch.randn(27, device=device) * 0 \n",
    "    bn_bias = torch.zeros((1, hidden_layer_size), device=device)\n",
    "    bn_gain = torch.zeros((1, hidden_layer_size), device=device)\n",
    "    bn_running_mean = torch.zeros((1, hidden_layer_size), device=device)\n",
    "    bn_running_std = torch.zeros((1, hidden_layer_size), device=device)\n",
    "\n",
    "    parameters = [C, W1, b1, W2, b2]\n",
    "    parameters += [ bn_bias, bn_gain]\n",
    "\n",
    "    for p in parameters:\n",
    "      p.requires_grad = True\n",
    "\n",
    "    #print(sum(p.nelement() for p in parameters))\n",
    "\n",
    "    lri = []\n",
    "    lossi = []\n",
    "    lossepochs = []\n",
    "\n",
    "    #logits = h @ W2 + b2\n",
    "    #counts = logits.exp()\n",
    "    #prob = counts / counts.sum(1, keepdims=True)\n",
    "\n",
    "    #loss = -prob[torch.arange(32), Y].log().mean() \n",
    "    # here the mean means we take the mean of all the losses\n",
    "    # of all individual training examples\n",
    "\n",
    "    #loss == F.cross_entropy(logits, Y)\n",
    "\n",
    "    #lre = torch.linspace(-3, 0, 1000)\n",
    "    #lrs = 10**lre`b\n",
    "    #lrs.shape\n",
    "\n",
    "    W1.std(), W2.std()\n",
    "\n",
    "    ## Training\n",
    "\n",
    "    \"\"\"\n",
    "    ix = torch.randint(0, Xtr.shape[0], (batch_size,), device=device)\n",
    "    print(ix.shape)\n",
    "    print(Xtr.shape)\n",
    "    x = Xtr[ix]\n",
    "    print(x.shape)\n",
    "    print(C.shape)\n",
    "    print(C[x].shape)\n",
    "    emb = C[x]\n",
    "    emb.view(-1,  block_size * embedding_size).shape\n",
    "    \"\"\"\n",
    "\n",
    "    # preact_h.shape, preact_h.mean(), preact_h.std()\n",
    "\n",
    "    # batch normalization, we take the hidden state, \n",
    "    # and for each element in the hidden state we normalize it across the batch\n",
    "    # preact_h.mean(0, keepdim=True).shape, preact_h.std(0, keepdim=True).shape\n",
    "\n",
    "    # and then we add bias and scale (one per hidden layer parameter) so that nn can retain information after \n",
    "    # normalizing\n",
    "\n",
    "    # issue with batch norm is that it couples different examples, \n",
    "    # because it acts as a regularizer, non deterministic over single example \n",
    "\n",
    "    import torch.nn.functional as F\n",
    "\n",
    "\n",
    "\n",
    "    import time\n",
    "    start_time = time.time()\n",
    "\n",
    "    for epoch in range(epochs):\n",
    "\n",
    "        if epoch % 10000 == 0:\n",
    "            print(epoch)\n",
    "\n",
    "        learning_rate = learning_rates[0] if epoch < int(epochs/2) else learning_rates[1]\n",
    "\n",
    "        #minibatch \n",
    "        ix = torch.randint(0, Xtr.shape[0], (batch_size,), device=device)\n",
    "\n",
    "        # forward pass|\n",
    "        emb = C[Xtr[ix]]\n",
    "\n",
    "        preact_h = emb.view(-1, block_size * embedding_size) @ W1 + b1\n",
    "\n",
    "        # batch norm\n",
    "        preact_h_mean = preact_h.mean(0, keepdim=True)\n",
    "        preact_h_std = preact_h.std(0, keepdim=True)\n",
    "        preact_h = (preact_h - preact_h_mean) / preact_h_std\n",
    "        preact_h = preact_h * bn_gain + bn_bias \n",
    "\n",
    "        with torch.no_grad():\n",
    "            bn_running_mean = 0.99 * bn_running_mean + 0.01 * preact_h_mean\n",
    "            bn_running_std = 0.99 * bn_running_std + 0.01 * preact_h_std\n",
    "\n",
    "        h = torch.tanh(preact_h)\n",
    "        logits = h @ W2 + b2\n",
    "        loss = F.cross_entropy(logits, Ytr[ix])\n",
    "        #print(loss.item())\n",
    "\n",
    "        # backward\n",
    "        for p in parameters:\n",
    "            p.grad = None\n",
    "        loss.backward()\n",
    "        for p in parameters:\n",
    "            p.data -= learning_rate * p.grad\n",
    "\n",
    "        if epoch % 50 == 0:\n",
    "            #lri.append(lre[i].item\n",
    "            lossi.append(loss.item())\n",
    "            lossepochs.append(epoch)\n",
    "\n",
    "    end_time = time.time()\n",
    "\n",
    "\n",
    "    print(\"train() COMPLETED\")\n",
    "\n",
    "\n",
    "    bn_running_std\n",
    "\n",
    "    @torch.no_grad()\n",
    "    def eval():\n",
    "        # forward pass\n",
    "\n",
    "        def inference(X, Y):\n",
    "            emb = C[X]\n",
    "            preact_h = emb.view(-1, block_size * embedding_size) @ W1 + b1\n",
    "\n",
    "            # batch norm\n",
    "            preact_h = (preact_h - bn_running_mean) / bn_running_std\n",
    "            preact_h = preact_h * bn_gain + bn_bias \n",
    "\n",
    "            h = torch.tanh(preact_h)\n",
    "            logits = h @ W2 + b2\n",
    "            loss = F.cross_entropy(logits, Y)\n",
    "            return loss\n",
    "\n",
    "        eval_loss = inference(Xval, Yval)\n",
    "        print(eval_loss.item())\n",
    "\n",
    "        train_loss = inference(Xtr, Ytr)\n",
    "        print(train_loss.item())\n",
    "\n",
    "\n",
    "        run_name = hyperparams_to_run_name()\n",
    "        runs[run_name] = {'eval_loss': eval_loss, 'train_loss': train_loss, 'lossi': lossi, 'lossepochs': lossepochs, 'time': end_time - start_time }\n",
    "\n",
    "    eval()\n",
    "    \n"
   ]
  },
  {
   "cell_type": "code",
   "execution_count": 14,
   "id": "b2c1a3b7-04b9-46ef-95be-cfee4c894c4b",
   "metadata": {
    "execution": {
     "iopub.execute_input": "2025-02-09T04:14:32.094538Z",
     "iopub.status.busy": "2025-02-09T04:14:32.093771Z",
     "iopub.status.idle": "2025-02-09T04:14:32.443143Z",
     "shell.execute_reply": "2025-02-09T04:14:32.442539Z",
     "shell.execute_reply.started": "2025-02-09T04:14:32.094511Z"
    }
   },
   "outputs": [
    {
     "data": {
      "image/png": "[encoded data removed]",
      "text/plain": [
       "<Figure size 1000x600 with 1 Axes>"
      ]
     },
     "metadata": {},
     "output_type": "display_data"
    }
   ],
   "source": [
    "\n",
    "import matplotlib.pyplot as plt\n",
    "import numpy as np\n",
    "\n",
    "\n",
    "losses, loss_epochs = runs['block_size_5__embedding_size_20__hidden_layer_size_400__batch_size_128__learning_rates_A_0.35__learning_rates_B_0.05__epochs_200000____hyperparam_search']['lossi'], runs['block_size_5__embedding_size_20__hidden_layer_size_400__batch_size_128__learning_rates_A_0.35__learning_rates_B_0.05__epochs_200000____hyperparam_search']['lossepochs']\n",
    "\n",
    "# Compute and Plot Moving Average of Loss\n",
    "window_size = 100  # Adjust as needed\n",
    "\n",
    "# Ensure we don't compute beyond available data\n",
    "moving_avg = [sum(losses[i:i+window_size]) / window_size \n",
    "              for i in range(len(losses) - window_size + 1)]\n",
    "\n",
    "# Adjust loss_epochs to match the correct indices\n",
    "aligned_loss_epochs = [l + len(moving_avg) for l in loss_epochs[:len(moving_avg)]]\n",
    "\n",
    "plt.figure(figsize=(10, 6))\n",
    "plt.plot(loss_epochs, losses, label='Raw Loss', color='blue', alpha=0.3)\n",
    "plt.plot(aligned_loss_epochs, moving_avg, label='Moving Average', color='red', linewidth=2)\n",
    "plt.xlabel('Epochs')\n",
    "plt.ylabel('Loss')\n",
    "plt.title('Loss and Moving Average During Training')\n",
    "plt.legend()\n",
    "plt.show()"
   ]
  },
  {
   "cell_type": "code",
   "execution_count": 20,
   "id": "367ef130-f59d-4948-950b-6f1ac7780a29",
   "metadata": {
    "execution": {
     "iopub.execute_input": "2025-02-09T04:21:31.094943Z",
     "iopub.status.busy": "2025-02-09T04:21:31.094307Z",
     "iopub.status.idle": "2025-02-09T04:24:36.310887Z",
     "shell.execute_reply": "2025-02-09T04:24:36.310283Z",
     "shell.execute_reply.started": "2025-02-09T04:21:31.094920Z"
    }
   },
   "outputs": [
    {
     "name": "stdout",
     "output_type": "stream",
     "text": [
      "starting run: block_size_5__embedding_size_20__hidden_layer_size_100__batch_size_64__learning_rates_A_0.1__learning_rates_B_0.005__epochs_100000____hyperparam_search\n",
      "0\n",
      "10000\n",
      "20000\n",
      "30000\n",
      "40000\n",
      "50000\n",
      "60000\n",
      "70000\n",
      "80000\n",
      "90000\n",
      "train() COMPLETED\n",
      "2.0913026332855225\n",
      "2.029752492904663\n"
     ]
    }
   ],
   "source": [
    "run()"
   ]
  },
  {
   "cell_type": "code",
   "execution_count": 101,
   "id": "9ab309bc-99e4-40d4-8621-251ebb50aafe",
   "metadata": {
    "execution": {
     "iopub.execute_input": "2025-02-08T18:50:39.546358Z",
     "iopub.status.busy": "2025-02-08T18:50:39.544906Z",
     "iopub.status.idle": "2025-02-08T18:50:39.724063Z",
     "shell.execute_reply": "2025-02-08T18:50:39.723187Z",
     "shell.execute_reply.started": "2025-02-08T18:50:39.546358Z"
    }
   },
   "outputs": [
    {
     "data": {
      "text/plain": [
       "(array([2., 4., 3., 6., 1., 1., 4., 3., 1., 2.]),\n",
       " array([-1.44288194, -1.16160679, -0.88033164, -0.59905654, -0.31778139,\n",
       "        -0.03650624,  0.2447689 ,  0.52604407,  0.80731916,  1.08859432,\n",
       "         1.36986947]),\n",
       " <BarContainer object of 10 artists>)"
      ]
     },
     "execution_count": 101,
     "metadata": {},
     "output_type": "execute_result"
    },
    {
     "data": {
      "image/png": "[encoded data removed]",
      "text/plain": [
       "<Figure size 640x480 with 1 Axes>"
      ]
     },
     "metadata": {},
     "output_type": "display_data"
    }
   ],
   "source": [
    "plt.hist(logits[0].cpu().detach().numpy())"
   ]
  },
  {
   "cell_type": "code",
   "execution_count": 96,
   "id": "bbf795f9-6d2b-41e9-bcd0-cfb0977db4fd",
   "metadata": {
    "execution": {
     "iopub.execute_input": "2025-02-08T18:49:50.507810Z",
     "iopub.status.busy": "2025-02-08T18:49:50.506874Z",
     "iopub.status.idle": "2025-02-08T18:49:50.513463Z",
     "shell.execute_reply": "2025-02-08T18:49:50.512085Z",
     "shell.execute_reply.started": "2025-02-08T18:49:50.507810Z"
    }
   },
   "outputs": [
    {
     "data": {
      "text/plain": [
       "torch.Size([32, 200])"
      ]
     },
     "execution_count": 96,
     "metadata": {},
     "output_type": "execute_result"
    }
   ],
   "source": [
    "h.shape"
   ]
  },
  {
   "cell_type": "code",
   "execution_count": 153,
   "id": "cf57305c-c6fe-4a83-b48d-fa06d0f64b60",
   "metadata": {
    "execution": {
     "iopub.execute_input": "2025-02-08T19:33:24.384729Z",
     "iopub.status.busy": "2025-02-08T19:33:24.384234Z",
     "iopub.status.idle": "2025-02-08T19:33:24.668590Z",
     "shell.execute_reply": "2025-02-08T19:33:24.667533Z",
     "shell.execute_reply.started": "2025-02-08T19:33:24.384729Z"
    }
   },
   "outputs": [
    {
     "data": {
      "text/plain": [
       "(array([856., 338., 218., 159., 139., 148.,  98., 117.,  68.,  85.,  91.,\n",
       "         83.,  77.,  87.,  57.,  60.,  77.,  71.,  62.,  55.,  84.,  68.,\n",
       "         47.,  58.,  74.,  62.,  75.,  55.,  48.,  59.,  83.,  61.,  77.,\n",
       "         59.,  66.,  57.,  76.,  97.,  81., 101.,  78., 117.,  93., 120.,\n",
       "        121., 126., 144., 240., 305., 722.]),\n",
       " array([-9.99994159e-01, -9.59994936e-01, -9.19995713e-01, -8.79996490e-01,\n",
       "        -8.39997268e-01, -7.99998045e-01, -7.59998822e-01, -7.19999599e-01,\n",
       "        -6.80000377e-01, -6.40001154e-01, -6.00001931e-01, -5.60002708e-01,\n",
       "        -5.20003486e-01, -4.80004263e-01, -4.40005040e-01, -4.00005817e-01,\n",
       "        -3.60006595e-01, -3.20007372e-01, -2.80008149e-01, -2.40008926e-01,\n",
       "        -2.00009704e-01, -1.60010481e-01, -1.20011258e-01, -8.00120354e-02,\n",
       "        -4.00128126e-02, -1.35898590e-05,  3.99856329e-02,  7.99848557e-02,\n",
       "         1.19984078e-01,  1.59983301e-01,  1.99982524e-01,  2.39981747e-01,\n",
       "         2.79980969e-01,  3.19980192e-01,  3.59979415e-01,  3.99978638e-01,\n",
       "         4.39977860e-01,  4.79977083e-01,  5.19976306e-01,  5.59975529e-01,\n",
       "         5.99974751e-01,  6.39973974e-01,  6.79973197e-01,  7.19972420e-01,\n",
       "         7.59971642e-01,  7.99970865e-01,  8.39970088e-01,  8.79969311e-01,\n",
       "         9.19968534e-01,  9.59967756e-01,  9.99966979e-01]),\n",
       " <BarContainer object of 50 artists>)"
      ]
     },
     "execution_count": 153,
     "metadata": {},
     "output_type": "execute_result"
    },
    {
     "data": {
      "image/png": "[encoded data removed]",
      "text/plain": [
       "<Figure size 640x480 with 1 Axes>"
      ]
     },
     "metadata": {},
     "output_type": "display_data"
    }
   ],
   "source": [
    "# saturation of the tanh\n",
    "# need to make sure what gets in the tanh is between -1 and 1, otherwsie\n",
    "# the delts between 10 and 100 in tanh won't be different\n",
    "plt.hist(h.view(-1).tolist(), 50)"
   ]
  },
  {
   "cell_type": "code",
   "execution_count": 152,
   "id": "0729def1-5617-4ca0-a002-4c3441d8ad09",
   "metadata": {
    "execution": {
     "iopub.execute_input": "2025-02-08T19:33:15.249499Z",
     "iopub.status.busy": "2025-02-08T19:33:15.249499Z",
     "iopub.status.idle": "2025-02-08T19:33:15.260671Z",
     "shell.execute_reply": "2025-02-08T19:33:15.259635Z",
     "shell.execute_reply.started": "2025-02-08T19:33:15.249499Z"
    }
   },
   "outputs": [
    {
     "data": {
      "text/plain": [
       "(tensor(1.6745, device='cuda:0', grad_fn=<StdBackward0>),\n",
       " tensor(0.3009, device='cuda:0', grad_fn=<StdBackward0>),\n",
       " tensor(0.0202, device='cuda:0', grad_fn=<StdBackward0>),\n",
       " tensor(0.7589, device='cuda:0', grad_fn=<StdBackward0>))"
      ]
     },
     "execution_count": 152,
     "metadata": {},
     "output_type": "execute_result"
    }
   ],
   "source": [
    "preact_h.std(), W1.std(), b1.std(), h.std()"
   ]
  },
  {
   "cell_type": "code",
   "execution_count": 148,
   "id": "4fc579e6-9838-4678-bfbc-0053c4f31411",
   "metadata": {
    "execution": {
     "iopub.execute_input": "2025-02-08T19:32:33.221093Z",
     "iopub.status.busy": "2025-02-08T19:32:33.220692Z",
     "iopub.status.idle": "2025-02-08T19:32:33.475526Z",
     "shell.execute_reply": "2025-02-08T19:32:33.474673Z",
     "shell.execute_reply.started": "2025-02-08T19:32:33.221093Z"
    }
   },
   "outputs": [
    {
     "data": {
      "text/plain": [
       "(array([  4.,   0.,   0.,   1.,   2.,   3.,   7.,  15.,  13.,  25.,  32.,\n",
       "         48.,  48.,  75.,  87., 100., 130., 157., 201., 206., 252., 259.,\n",
       "        291., 312., 343., 351., 389., 357., 340., 360., 334., 256., 240.,\n",
       "        241., 196., 172., 144., 110.,  79.,  67.,  42.,  39.,  26.,  12.,\n",
       "         16.,   5.,   6.,   3.,   2.,   2.]),\n",
       " array([-6.36965036, -6.13213553, -5.8946207 , -5.65710588, -5.41959105,\n",
       "        -5.18207622, -4.94456139, -4.70704656, -4.46953173, -4.2320169 ,\n",
       "        -3.99450207, -3.75698724, -3.51947241, -3.28195758, -3.04444275,\n",
       "        -2.80692792, -2.56941309, -2.33189826, -2.09438343, -1.8568686 ,\n",
       "        -1.61935377, -1.38183894, -1.14432411, -0.90680928, -0.66929445,\n",
       "        -0.43177962, -0.19426479,  0.04325004,  0.28076487,  0.5182797 ,\n",
       "         0.75579453,  0.99330935,  1.23082418,  1.46833901,  1.70585384,\n",
       "         1.94336867,  2.1808835 ,  2.41839833,  2.65591316,  2.89342799,\n",
       "         3.13094282,  3.36845765,  3.60597248,  3.84348731,  4.08100214,\n",
       "         4.31851697,  4.5560318 ,  4.79354663,  5.03106146,  5.26857629,\n",
       "         5.50609112]),\n",
       " <BarContainer object of 50 artists>)"
      ]
     },
     "execution_count": 148,
     "metadata": {},
     "output_type": "execute_result"
    },
    {
     "data": {
      "image/png": "[encoded data removed]",
      "text/plain": [
       "<Figure size 640x480 with 1 Axes>"
      ]
     },
     "metadata": {},
     "output_type": "display_data"
    }
   ],
   "source": [
    "plt.hist(preact_h.view(-1).tolist(), 50)"
   ]
  },
  {
   "cell_type": "code",
   "execution_count": 79,
   "id": "67950fcd-8c1a-4e6b-8cbb-04d57e419233",
   "metadata": {
    "execution": {
     "iopub.execute_input": "2025-02-08T18:44:50.120865Z",
     "iopub.status.busy": "2025-02-08T18:44:50.120541Z",
     "iopub.status.idle": "2025-02-08T18:44:50.260101Z",
     "shell.execute_reply": "2025-02-08T18:44:50.259285Z",
     "shell.execute_reply.started": "2025-02-08T18:44:50.120840Z"
    }
   },
   "outputs": [
    {
     "data": {
      "text/plain": [
       "torch.Size([182441, 200])"
      ]
     },
     "execution_count": 79,
     "metadata": {},
     "output_type": "execute_result"
    }
   ],
   "source": [
    "h.abs().cpu().shape"
   ]
  },
  {
   "cell_type": "code",
   "execution_count": 120,
   "id": "7502c7c0-068c-41a7-a642-f7959d2f7cc7",
   "metadata": {
    "execution": {
     "iopub.execute_input": "2025-02-08T18:55:13.160678Z",
     "iopub.status.busy": "2025-02-08T18:55:13.159874Z",
     "iopub.status.idle": "2025-02-08T18:55:13.426768Z",
     "shell.execute_reply": "2025-02-08T18:55:13.424055Z",
     "shell.execute_reply.started": "2025-02-08T18:55:13.160646Z"
    }
   },
   "outputs": [
    {
     "data": {
      "text/plain": [
       "<matplotlib.image.AxesImage at 0x7f800ef0fc50>"
      ]
     },
     "execution_count": 120,
     "metadata": {},
     "output_type": "execute_result"
    },
    {
     "data": {
      "image/png": "[encoded data removed]",
      "text/plain": [
       "<Figure size 2000x1000 with 1 Axes>"
      ]
     },
     "metadata": {},
     "output_type": "display_data"
    }
   ],
   "source": [
    "plt.figure(figsize=(20,10))\n",
    "plt.imshow(h.abs().cpu() > 0.99, cmap='gray', interpolation='nearest')\n",
    "\n",
    "# dead neurons"
   ]
  },
  {
   "cell_type": "markdown",
   "id": "9c7058d6-8355-4229-92d2-a8e5288e8131",
   "metadata": {},
   "source": [
    "## Inference"
   ]
  },
  {
   "cell_type": "code",
   "execution_count": 22,
   "id": "dd243177-9d76-4284-bac0-5db095351d79",
   "metadata": {
    "execution": {
     "iopub.execute_input": "2025-02-09T04:26:22.085946Z",
     "iopub.status.busy": "2025-02-09T04:26:22.084943Z",
     "iopub.status.idle": "2025-02-09T04:26:22.134070Z",
     "shell.execute_reply": "2025-02-09T04:26:22.132758Z",
     "shell.execute_reply.started": "2025-02-09T04:26:22.085921Z"
    }
   },
   "outputs": [
    {
     "ename": "NameError",
     "evalue": "name 'C' is not defined",
     "output_type": "error",
     "traceback": [
      "\u001b[0;31m---------------------------------------------------------------------------\u001b[0m",
      "\u001b[0;31mNameError\u001b[0m                                 Traceback (most recent call last)",
      "Cell \u001b[0;32mIn[22], line 17\u001b[0m\n\u001b[1;32m     14\u001b[0m     \u001b[38;5;28mprint\u001b[39m(\u001b[38;5;124m'\u001b[39m\u001b[38;5;124m'\u001b[39m\u001b[38;5;241m.\u001b[39mjoin(sentence))\n\u001b[1;32m     16\u001b[0m \u001b[38;5;28;01mfor\u001b[39;00m _ \u001b[38;5;129;01min\u001b[39;00m \u001b[38;5;28mrange\u001b[39m(\u001b[38;5;241m50\u001b[39m):\n\u001b[0;32m---> 17\u001b[0m     \u001b[43minference\u001b[49m\u001b[43m(\u001b[49m\u001b[43m)\u001b[49m\n",
      "File \u001b[0;32m/usr/local/lib/python3.11/dist-packages/torch/utils/_contextlib.py:115\u001b[0m, in \u001b[0;36mcontext_decorator.<locals>.decorate_context\u001b[0;34m(*args, **kwargs)\u001b[0m\n\u001b[1;32m    112\u001b[0m \u001b[38;5;129m@functools\u001b[39m\u001b[38;5;241m.\u001b[39mwraps(func)\n\u001b[1;32m    113\u001b[0m \u001b[38;5;28;01mdef\u001b[39;00m \u001b[38;5;21mdecorate_context\u001b[39m(\u001b[38;5;241m*\u001b[39margs, \u001b[38;5;241m*\u001b[39m\u001b[38;5;241m*\u001b[39mkwargs):\n\u001b[1;32m    114\u001b[0m     \u001b[38;5;28;01mwith\u001b[39;00m ctx_factory():\n\u001b[0;32m--> 115\u001b[0m         \u001b[38;5;28;01mreturn\u001b[39;00m \u001b[43mfunc\u001b[49m\u001b[43m(\u001b[49m\u001b[38;5;241;43m*\u001b[39;49m\u001b[43margs\u001b[49m\u001b[43m,\u001b[49m\u001b[43m \u001b[49m\u001b[38;5;241;43m*\u001b[39;49m\u001b[38;5;241;43m*\u001b[39;49m\u001b[43mkwargs\u001b[49m\u001b[43m)\u001b[49m\n",
      "Cell \u001b[0;32mIn[22], line 7\u001b[0m, in \u001b[0;36minference\u001b[0;34m()\u001b[0m\n\u001b[1;32m      5\u001b[0m context_ixs \u001b[38;5;241m=\u001b[39m [stoi[x] \u001b[38;5;28;01mfor\u001b[39;00m x \u001b[38;5;129;01min\u001b[39;00m sentence[\u001b[38;5;241m-\u001b[39m\u001b[38;5;241m3\u001b[39m:]]\n\u001b[1;32m      6\u001b[0m x_inference \u001b[38;5;241m=\u001b[39m torch\u001b[38;5;241m.\u001b[39mtensor(context_ixs, dtype\u001b[38;5;241m=\u001b[39mtorch\u001b[38;5;241m.\u001b[39mint)\n\u001b[0;32m----> 7\u001b[0m emb \u001b[38;5;241m=\u001b[39m \u001b[43mC\u001b[49m[x_inference]\n\u001b[1;32m      8\u001b[0m final_layer \u001b[38;5;241m=\u001b[39m torch\u001b[38;5;241m.\u001b[39mtanh(emb\u001b[38;5;241m.\u001b[39mview(\u001b[38;5;241m1\u001b[39m, block_size \u001b[38;5;241m*\u001b[39m embedding_size) \u001b[38;5;241m@\u001b[39m W1 \u001b[38;5;241m+\u001b[39m b1) \u001b[38;5;241m@\u001b[39m W2 \u001b[38;5;241m+\u001b[39m b2\n\u001b[1;32m      9\u001b[0m probabilities \u001b[38;5;241m=\u001b[39m torch\u001b[38;5;241m.\u001b[39mexp(final_layer) \u001b[38;5;241m/\u001b[39m torch\u001b[38;5;241m.\u001b[39msum(torch\u001b[38;5;241m.\u001b[39mexp(final_layer), axis\u001b[38;5;241m=\u001b[39m\u001b[38;5;241m1\u001b[39m, keepdim\u001b[38;5;241m=\u001b[39m\u001b[38;5;28;01mTrue\u001b[39;00m)\n",
      "\u001b[0;31mNameError\u001b[0m: name 'C' is not defined"
     ]
    }
   ],
   "source": [
    "@torch.no_grad()\n",
    "def inference():\n",
    "    sentence, end_token = [\".\", \".\", \".\"], False\n",
    "    while not end_token:\n",
    "        context_ixs = [stoi[x] for x in sentence[-3:]]\n",
    "        x_inference = torch.tensor(context_ixs, dtype=torch.int)\n",
    "        emb = C[x_inference]\n",
    "        final_layer = torch.tanh(emb.view(1, block_size * embedding_size) @ W1 + b1) @ W2 + b2\n",
    "        probabilities = torch.exp(final_layer) / torch.sum(torch.exp(final_layer), axis=1, keepdim=True)\n",
    "        next_letter = itos[torch.multinomial(probabilities, num_samples=1).item()]\n",
    "        sentence.append(next_letter)\n",
    "        if next_letter == '.':\n",
    "            end_token = True\n",
    "    print(''.join(sentence))\n",
    "\n",
    "for _ in range(50):\n",
    "    inference()"
   ]
  },
  {
   "cell_type": "markdown",
   "id": "6e4b67c6-a0e6-49a5-842f-0087106af157",
   "metadata": {},
   "source": [
    "# Model"
   ]
  },
  {
   "cell_type": "code",
   "execution_count": null,
   "id": "3eb85546-f285-4763-91e3-96683dfff52f",
   "metadata": {},
   "outputs": [],
   "source": [
    "  C = torch.randn((27, embedding_size), device=device)\n",
    "    W1_multiplier = (5/3) / ((embedding_size * block_size) ** 0.5)\n",
    "    W1 = torch.randn((embedding_size * block_size, hidden_layer_size), device=device) * W1_multiplier\n",
    "    b1 = torch.randn(hidden_layer_size, device=device) * 0\n",
    "    W2 = torch.randn((hidden_layer_size, 27), device=device) * 0.1\n",
    "    b2 = torch.randn(27, device=device) * 0 \n",
    "    bn_bias = torch.zeros((1, hidden_layer_size), device=device)\n",
    "    bn_gain = torch.zeros((1, hidden_layer_size), device=device)\n",
    "    bn_running_mean = torch.zeros((1, hidden_layer_size), device=device)\n",
    "    bn_running_std = torch.zeros((1, hidden_layer_size), device=device)\n",
    "\n",
    "    parameters = [C, W1, b1, W2, b2]\n",
    "    parameters += [ bn_bias, bn_gain]\n",
    "\n",
    "    for p in parameters:\n",
    "      p.requires_grad = True\n",
    "\n",
    "    #print(sum(p.nelement() for p in parameters))\n",
    "\n",
    "    lri = []\n",
    "    lossi = []\n",
    "    lossepochs = []\n",
    "\n",
    "    #logits = h @ W2 + b2\n",
    "    #counts = logits.exp()\n",
    "    #prob = counts / counts.sum(1, keepdims=True)\n",
    "\n",
    "    #loss = -prob[torch.arange(32), Y].log().mean() \n",
    "    # here the mean means we take the mean of all the losses\n",
    "    # of all individual training examples\n",
    "\n",
    "    #loss == F.cross_entropy(logits, Y)\n",
    "\n",
    "    #lre = torch.linspace(-3, 0, 1000)\n",
    "    #lrs = 10**lre`b\n",
    "    #lrs.shape\n",
    "\n",
    "    W1.std(), W2.std()\n",
    "\n",
    "    ## Training\n",
    "\n",
    "    \"\"\"\n",
    "    ix = torch.randint(0, Xtr.shape[0], (batch_size,), device=device)\n",
    "    print(ix.shape)\n",
    "    print(Xtr.shape)\n",
    "    x = Xtr[ix]\n",
    "    print(x.shape)\n",
    "    print(C.shape)\n",
    "    print(C[x].shape)\n",
    "    emb = C[x]\n",
    "    emb.view(-1,  block_size * embedding_size).shape\n",
    "    \"\"\"\n",
    "\n",
    "    # preact_h.shape, preact_h.mean(), preact_h.std()\n",
    "\n",
    "    # batch normalization, we take the hidden state, \n",
    "    # and for each element in the hidden state we normalize it across the batch\n",
    "    # preact_h.mean(0, keepdim=True).shape, preact_h.std(0, keepdim=True).shape\n",
    "\n",
    "    # and then we add bias and scale (one per hidden layer parameter) so that nn can retain information after \n",
    "    # normalizing\n",
    "\n",
    "    # issue with batch norm is that it couples different examples, \n",
    "    # because it acts as a regularizer, non deterministic over single example \n",
    "\n",
    "    import torch.nn.functional as F\n",
    "\n",
    "\n",
    "\n",
    "    import time\n",
    "    start_time = time.time()\n",
    "\n",
    "    for epoch in range(epochs):\n",
    "\n",
    "        if epoch % 10000 == 0:\n",
    "            print(epoch)\n",
    "\n",
    "        learning_rate = learning_rates[0] if epoch < int(epochs/2) else learning_rates[1]\n",
    "\n",
    "        #minibatch \n",
    "        ix = torch.randint(0, Xtr.shape[0], (batch_size,), device=device)\n",
    "\n",
    "        # forward pass|\n",
    "        emb = C[Xtr[ix]]\n",
    "\n",
    "        preact_h = emb.view(-1, block_size * embedding_size) @ W1 + b1\n",
    "\n",
    "        # batch norm\n",
    "        preact_h_mean = preact_h.mean(0, keepdim=True)\n",
    "        preact_h_std = preact_h.std(0, keepdim=True)\n",
    "        preact_h = (preact_h - preact_h_mean) / preact_h_std\n",
    "        preact_h = preact_h * bn_gain + bn_bias \n",
    "\n",
    "        with torch.no_grad():\n",
    "            bn_running_mean = 0.99 * bn_running_mean + 0.01 * preact_h_mean\n",
    "            bn_running_std = 0.99 * bn_running_std + 0.01 * preact_h_std\n",
    "\n",
    "        h = torch.tanh(preact_h)\n",
    "        logits = h @ W2 + b2\n",
    "        loss = F.cross_entropy(logits, Ytr[ix])\n",
    "        #print(loss.item())\n",
    "\n",
    "        # backward\n",
    "        for p in parameters:\n",
    "            p.grad = None\n",
    "        loss.backward()\n",
    "        for p in parameters:\n",
    "            p.data -= learning_rate * p.grad\n",
    "\n",
    "        if epoch % 50 == 0:\n",
    "            #lri.append(lre[i].item\n",
    "            lossi.append(loss.item())\n",
    "            lossepochs.append(epoch)\n",
    "\n",
    "    end_time = time.time()\n"
   ]
  },
  {
   "cell_type": "markdown",
   "id": "f085493e-54c4-4f6f-9b56-76973d2ca027",
   "metadata": {},
   "source": [
    "# Appendix"
   ]
  },
  {
   "cell_type": "code",
   "execution_count": 40,
   "id": "eded3e7e-012a-4365-94c2-e1edc8b8f507",
   "metadata": {
    "execution": {
     "iopub.execute_input": "2025-02-06T07:21:02.507677Z",
     "iopub.status.busy": "2025-02-06T07:21:02.507460Z",
     "iopub.status.idle": "2025-02-06T07:21:02.514793Z",
     "shell.execute_reply": "2025-02-06T07:21:02.513457Z",
     "shell.execute_reply.started": "2025-02-06T07:21:02.507648Z"
    }
   },
   "outputs": [
    {
     "data": {
      "text/plain": [
       "torch.Size([32, 6])"
      ]
     },
     "execution_count": 40,
     "metadata": {},
     "output_type": "execute_result"
    }
   ],
   "source": [
    "torch.cat([emb[:, i, :] for i in range(block_size)], 1).shape"
   ]
  },
  {
   "cell_type": "code",
   "execution_count": 43,
   "id": "4defcd79-42a7-448b-85e4-b9ef5e39439d",
   "metadata": {
    "execution": {
     "iopub.execute_input": "2025-02-06T07:21:55.775863Z",
     "iopub.status.busy": "2025-02-06T07:21:55.775309Z",
     "iopub.status.idle": "2025-02-06T07:21:55.790806Z",
     "shell.execute_reply": "2025-02-06T07:21:55.789668Z",
     "shell.execute_reply.started": "2025-02-06T07:21:55.775863Z"
    }
   },
   "outputs": [
    {
     "data": {
      "text/plain": [
       "tensor([[-0.1152, -1.1897, -0.1152, -1.1897, -0.1152, -1.1897],\n",
       "        [-0.1152, -1.1897, -0.1152, -1.1897,  0.2716,  1.0055],\n",
       "        [-0.1152, -1.1897,  0.2716,  1.0055, -0.7203, -0.5304],\n",
       "        [ 0.2716,  1.0055, -0.7203, -0.5304, -0.7203, -0.5304],\n",
       "        [-0.7203, -0.5304, -0.7203, -0.5304,  0.2930,  0.3207],\n",
       "        [-0.1152, -1.1897, -0.1152, -1.1897, -0.1152, -1.1897],\n",
       "        [-0.1152, -1.1897, -0.1152, -1.1897,  1.3084,  0.0505],\n",
       "        [-0.1152, -1.1897,  1.3084,  0.0505, -0.7158,  0.4897],\n",
       "        [ 1.3084,  0.0505, -0.7158,  0.4897, -1.0853,  2.4026],\n",
       "        [-0.7158,  0.4897, -1.0853,  2.4026,  0.0674, -0.0325],\n",
       "        [-1.0853,  2.4026,  0.0674, -0.0325, -1.0853,  2.4026],\n",
       "        [ 0.0674, -0.0325, -1.0853,  2.4026,  0.2930,  0.3207],\n",
       "        [-0.1152, -1.1897, -0.1152, -1.1897, -0.1152, -1.1897],\n",
       "        [-0.1152, -1.1897, -0.1152, -1.1897,  0.2930,  0.3207],\n",
       "        [-0.1152, -1.1897,  0.2930,  0.3207,  0.0674, -0.0325],\n",
       "        [ 0.2930,  0.3207,  0.0674, -0.0325,  0.2930,  0.3207],\n",
       "        [-0.1152, -1.1897, -0.1152, -1.1897, -0.1152, -1.1897],\n",
       "        [-0.1152, -1.1897, -0.1152, -1.1897, -1.0853,  2.4026],\n",
       "        [-0.1152, -1.1897, -1.0853,  2.4026, -1.2528,  0.7178],\n",
       "        [-1.0853,  2.4026, -1.2528,  0.7178,  0.2930,  0.3207],\n",
       "        [-1.2528,  0.7178,  0.2930,  0.3207,  0.6927,  0.4057],\n",
       "        [ 0.2930,  0.3207,  0.6927,  0.4057,  0.2716,  1.0055],\n",
       "        [ 0.6927,  0.4057,  0.2716,  1.0055, -0.7158,  0.4897],\n",
       "        [ 0.2716,  1.0055, -0.7158,  0.4897, -0.7158,  0.4897],\n",
       "        [-0.7158,  0.4897, -0.7158,  0.4897,  0.2930,  0.3207],\n",
       "        [-0.1152, -1.1897, -0.1152, -1.1897, -0.1152, -1.1897],\n",
       "        [-0.1152, -1.1897, -0.1152, -1.1897, -1.2528,  0.7178],\n",
       "        [-0.1152, -1.1897, -1.2528,  0.7178,  1.3084,  0.0505],\n",
       "        [-1.2528,  0.7178,  1.3084,  0.0505,  2.0937, -0.9837],\n",
       "        [ 1.3084,  0.0505,  2.0937, -0.9837, -0.3415,  0.4138],\n",
       "        [ 2.0937, -0.9837, -0.3415,  0.4138, -1.0853,  2.4026],\n",
       "        [-0.3415,  0.4138, -1.0853,  2.4026,  0.2930,  0.3207]])"
      ]
     },
     "execution_count": 43,
     "metadata": {},
     "output_type": "execute_result"
    }
   ],
   "source": [
    "torch.cat(torch.unbind(emb, 1), 1)"
   ]
  },
  {
   "cell_type": "code",
   "execution_count": 48,
   "id": "75ff4400-1830-4f7b-b83f-14cdff53a1c6",
   "metadata": {
    "execution": {
     "iopub.execute_input": "2025-02-06T07:22:58.282409Z",
     "iopub.status.busy": "2025-02-06T07:22:58.281334Z",
     "iopub.status.idle": "2025-02-06T07:22:58.287060Z",
     "shell.execute_reply": "2025-02-06T07:22:58.286795Z",
     "shell.execute_reply.started": "2025-02-06T07:22:58.282409Z"
    }
   },
   "outputs": [
    {
     "data": {
      "text/plain": [
       "torch.Size([18])"
      ]
     },
     "execution_count": 48,
     "metadata": {},
     "output_type": "execute_result"
    }
   ],
   "source": [
    "a = torch.arange(18)\n",
    "a.shape"
   ]
  },
  {
   "cell_type": "code",
   "execution_count": 49,
   "id": "bf5bc92e-39d0-47c6-99aa-67049750f164",
   "metadata": {
    "execution": {
     "iopub.execute_input": "2025-02-06T07:22:59.694450Z",
     "iopub.status.busy": "2025-02-06T07:22:59.693589Z",
     "iopub.status.idle": "2025-02-06T07:22:59.699531Z",
     "shell.execute_reply": "2025-02-06T07:22:59.698767Z",
     "shell.execute_reply.started": "2025-02-06T07:22:59.694426Z"
    }
   },
   "outputs": [
    {
     "data": {
      "text/plain": [
       "tensor([[ 0,  1,  2,  3,  4,  5,  6,  7,  8],\n",
       "        [ 9, 10, 11, 12, 13, 14, 15, 16, 17]])"
      ]
     },
     "execution_count": 49,
     "metadata": {},
     "output_type": "execute_result"
    }
   ],
   "source": [
    "a.view(2, 9)"
   ]
  },
  {
   "cell_type": "code",
   "execution_count": 52,
   "id": "eaedb89c-46f7-47e7-a50c-c86d21c585dc",
   "metadata": {
    "execution": {
     "iopub.execute_input": "2025-02-06T07:23:38.265202Z",
     "iopub.status.busy": "2025-02-06T07:23:38.264523Z",
     "iopub.status.idle": "2025-02-06T07:23:38.273767Z",
     "shell.execute_reply": "2025-02-06T07:23:38.272267Z",
     "shell.execute_reply.started": "2025-02-06T07:23:38.265160Z"
    }
   },
   "outputs": [
    {
     "data": {
      "text/plain": [
       " 0\n",
       " 1\n",
       " 2\n",
       " 3\n",
       " 4\n",
       " 5\n",
       " 6\n",
       " 7\n",
       " 8\n",
       " 9\n",
       " 10\n",
       " 11\n",
       " 12\n",
       " 13\n",
       " 14\n",
       " 15\n",
       " 16\n",
       " 17\n",
       "[torch.storage.TypedStorage(dtype=torch.int64, device=cpu) of size 18]"
      ]
     },
     "execution_count": 52,
     "metadata": {},
     "output_type": "execute_result"
    }
   ],
   "source": [
    "a.storage()"
   ]
  },
  {
   "cell_type": "code",
   "execution_count": 55,
   "id": "c572d7ee-cf58-4cff-9558-80b9403fd7d7",
   "metadata": {
    "execution": {
     "iopub.execute_input": "2025-02-06T07:25:09.366425Z",
     "iopub.status.busy": "2025-02-06T07:25:09.365529Z",
     "iopub.status.idle": "2025-02-06T07:25:09.373004Z",
     "shell.execute_reply": "2025-02-06T07:25:09.372250Z",
     "shell.execute_reply.started": "2025-02-06T07:25:09.366402Z"
    }
   },
   "outputs": [
    {
     "data": {
      "text/plain": [
       "tensor([[True, True, True, True, True, True],\n",
       "        [True, True, True, True, True, True],\n",
       "        [True, True, True, True, True, True],\n",
       "        [True, True, True, True, True, True],\n",
       "        [True, True, True, True, True, True],\n",
       "        [True, True, True, True, True, True],\n",
       "        [True, True, True, True, True, True],\n",
       "        [True, True, True, True, True, True],\n",
       "        [True, True, True, True, True, True],\n",
       "        [True, True, True, True, True, True],\n",
       "        [True, True, True, True, True, True],\n",
       "        [True, True, True, True, True, True],\n",
       "        [True, True, True, True, True, True],\n",
       "        [True, True, True, True, True, True],\n",
       "        [True, True, True, True, True, True],\n",
       "        [True, True, True, True, True, True],\n",
       "        [True, True, True, True, True, True],\n",
       "        [True, True, True, True, True, True],\n",
       "        [True, True, True, True, True, True],\n",
       "        [True, True, True, True, True, True],\n",
       "        [True, True, True, True, True, True],\n",
       "        [True, True, True, True, True, True],\n",
       "        [True, True, True, True, True, True],\n",
       "        [True, True, True, True, True, True],\n",
       "        [True, True, True, True, True, True],\n",
       "        [True, True, True, True, True, True],\n",
       "        [True, True, True, True, True, True],\n",
       "        [True, True, True, True, True, True],\n",
       "        [True, True, True, True, True, True],\n",
       "        [True, True, True, True, True, True],\n",
       "        [True, True, True, True, True, True],\n",
       "        [True, True, True, True, True, True]])"
      ]
     },
     "execution_count": 55,
     "metadata": {},
     "output_type": "execute_result"
    }
   ],
   "source": [
    "emb.view(32, 6) == torch.cat(torch.unbind(emb, 1), 1)"
   ]
  },
  {
   "cell_type": "code",
   "execution_count": null,
   "id": "919fdd52-9f64-4776-9a47-83fbd7edbea9",
   "metadata": {},
   "outputs": [],
   "source": []
  },
  {
   "cell_type": "code",
   "execution_count": null,
   "id": "09008ee1-c57d-4312-9047-6adb355b9685",
   "metadata": {},
   "outputs": [],
   "source": []
  },
  {
   "cell_type": "code",
   "execution_count": null,
   "id": "14f711d2-f85d-4a6f-b0af-b40f5e230dce",
   "metadata": {},
   "outputs": [],
   "source": []
  },
  {
   "cell_type": "code",
   "execution_count": null,
   "id": "f293e299-238f-45fd-8146-f6602a5a00e8",
   "metadata": {},
   "outputs": [],
   "source": []
  },
  {
   "cell_type": "code",
   "execution_count": null,
   "id": "126e9c77-148d-415e-b96d-4299d165b696",
   "metadata": {},
   "outputs": [],
   "source": []
  },
  {
   "cell_type": "code",
   "execution_count": null,
   "id": "823c44a2-423e-40fa-be5e-8beacbe44924",
   "metadata": {},
   "outputs": [],
   "source": []
  },
  {
   "cell_type": "code",
   "execution_count": null,
   "id": "3b0fc745-5e3f-4cff-8c80-e536026aa495",
   "metadata": {},
   "outputs": [],
   "source": []
  }
 ],
 "metadata": {
  "kernelspec": {
   "display_name": "Python 3 (ipykernel)",
   "language": "python",
   "name": "python3"
  },
  "language_info": {
   "codemirror_mode": {
    "name": "ipython",
    "version": 3
   },
   "file_extension": ".py",
   "mimetype": "text/x-python",
   "name": "python",
   "nbconvert_exporter": "python",
   "pygments_lexer": "ipython3",
   "version": "3.11.7"
  }
 },
 "nbformat": 4,
 "nbformat_minor": 5
}
