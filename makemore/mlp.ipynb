{
 "cells": [
  {
   "cell_type": "markdown",
   "id": "5be5ecc9-168a-42a8-a329-1227d43b015a",
   "metadata": {
    "execution": {
     "iopub.execute_input": "2025-02-06T07:05:31.719275Z",
     "iopub.status.busy": "2025-02-06T07:05:31.718926Z",
     "iopub.status.idle": "2025-02-06T07:05:31.727254Z",
     "shell.execute_reply": "2025-02-06T07:05:31.726033Z",
     "shell.execute_reply.started": "2025-02-06T07:05:31.719275Z"
    }
   },
   "source": [
    "## Implementing \"A Neural Probablistic Language Model\" by Bengio et al. 2003"
   ]
  },
  {
   "cell_type": "code",
   "execution_count": 331,
   "id": "c9e9dfe8-19aa-4898-8738-a4fcb0a39f80",
   "metadata": {
    "execution": {
     "iopub.execute_input": "2025-02-06T10:54:14.947715Z",
     "iopub.status.busy": "2025-02-06T10:54:14.946554Z",
     "iopub.status.idle": "2025-02-06T10:54:14.964437Z",
     "shell.execute_reply": "2025-02-06T10:54:14.962209Z",
     "shell.execute_reply.started": "2025-02-06T10:54:14.947668Z"
    }
   },
   "outputs": [
    {
     "name": "stdout",
     "output_type": "stream",
     "text": [
      "{'a': 1, 'b': 2, 'c': 3, 'd': 4, 'e': 5, 'f': 6, 'g': 7, 'h': 8, 'i': 9, 'j': 10, 'k': 11, 'l': 12, 'm': 13, 'n': 14, 'o': 15, 'p': 16, 'q': 17, 'r': 18, 's': 19, 't': 20, 'u': 21, 'v': 22, 'w': 23, 'x': 24, 'y': 25, 'z': 26, '.': 0} {1: 'a', 2: 'b', 3: 'c', 4: 'd', 5: 'e', 6: 'f', 7: 'g', 8: 'h', 9: 'i', 10: 'j', 11: 'k', 12: 'l', 13: 'm', 14: 'n', 15: 'o', 16: 'p', 17: 'q', 18: 'r', 19: 's', 20: 't', 21: 'u', 22: 'v', 23: 'w', 24: 'x', 25: 'y', 26: 'z', 0: '.'}\n"
     ]
    }
   ],
   "source": [
    "words = open('names.txt', 'r').read().splitlines()\n",
    "\n",
    "chars = sorted(list(set(''.join(words))))\n",
    "stoi = {s: i+1 for i, s in enumerate(chars)}\n",
    "stoi['.'] = 0\n",
    "\n",
    "itos = {i: s for s, i in stoi.items()}\n",
    "print(stoi, itos)"
   ]
  },
  {
   "cell_type": "code",
   "execution_count": 332,
   "id": "18de80a1-5ea8-438d-8760-60918e85397c",
   "metadata": {
    "execution": {
     "iopub.execute_input": "2025-02-06T10:54:41.951423Z",
     "iopub.status.busy": "2025-02-06T10:54:41.950913Z",
     "iopub.status.idle": "2025-02-06T10:54:41.960890Z",
     "shell.execute_reply": "2025-02-06T10:54:41.958712Z",
     "shell.execute_reply.started": "2025-02-06T10:54:41.951423Z"
    }
   },
   "outputs": [
    {
     "name": "stdout",
     "output_type": "stream",
     "text": [
      "Using device: cuda\n",
      "Number of CUDA devices: 1\n",
      "Current device ID: 0\n",
      "Device name: Quadro P5000\n",
      "Device properties: _CudaDeviceProperties(name='Quadro P5000', major=6, minor=1, total_memory=16272MB, multi_processor_count=20)\n",
      "Memory allocated: 51699712\n",
      "Memory reserved: 400556032\n"
     ]
    }
   ],
   "source": [
    "# 1. Define a device variable. If a GPU is available, use it.\n",
    "device = torch.device(\"cuda\" if torch.cuda.is_available() else \"cpu\")\n",
    "print(f\"Using device: {device}\")\n",
    "\n",
    "import torch\n",
    "\n",
    "# Check if CUDA is available\n",
    "if torch.cuda.is_available():\n",
    "    # Get the number of available CUDA devices\n",
    "    num_devices = torch.cuda.device_count()\n",
    "    print(\"Number of CUDA devices:\", num_devices)\n",
    "\n",
    "    # Get information about the current device\n",
    "    current_device_id = torch.cuda.current_device()\n",
    "    print(\"Current device ID:\", current_device_id)\n",
    "\n",
    "    # Get the name of the current device\n",
    "    device_name = torch.cuda.get_device_name(current_device_id)\n",
    "    print(\"Device name:\", device_name)\n",
    "\n",
    "    # Get detailed device properties\n",
    "    device_props = torch.cuda.get_device_properties(current_device_id)\n",
    "    print(\"Device properties:\", device_props)\n",
    "\n",
    "    # Get memory information\n",
    "    memory_allocated = torch.cuda.memory_allocated(current_device_id)\n",
    "    memory_reserved = torch.cuda.memory_reserved(current_device_id)\n",
    "    print(\"Memory allocated:\", memory_allocated)\n",
    "    print(\"Memory reserved:\", memory_reserved)\n",
    "else:\n",
    "    print(\"CUDA is not available.\")"
   ]
  },
  {
   "cell_type": "code",
   "execution_count": 443,
   "id": "184dbfee-3a26-4d10-8fbf-64fc78eea54d",
   "metadata": {
    "execution": {
     "iopub.execute_input": "2025-02-06T11:44:56.050968Z",
     "iopub.status.busy": "2025-02-06T11:44:56.050801Z",
     "iopub.status.idle": "2025-02-06T11:44:56.056890Z",
     "shell.execute_reply": "2025-02-06T11:44:56.056190Z",
     "shell.execute_reply.started": "2025-02-06T11:44:56.050942Z"
    }
   },
   "outputs": [
    {
     "data": {
      "text/plain": [
       "4"
      ]
     },
     "execution_count": 443,
     "metadata": {},
     "output_type": "execute_result"
    }
   ],
   "source": [
    "2+2"
   ]
  },
  {
   "cell_type": "markdown",
   "id": "72e9012e-e304-4811-9fb2-a34eb35d7eb3",
   "metadata": {},
   "source": [
    "# Training"
   ]
  },
  {
   "cell_type": "code",
   "execution_count": 414,
   "id": "149a211a-ea69-40da-a367-b08c3eb04b79",
   "metadata": {
    "execution": {
     "iopub.execute_input": "2025-02-06T11:30:54.508309Z",
     "iopub.status.busy": "2025-02-06T11:30:54.507455Z",
     "iopub.status.idle": "2025-02-06T11:30:54.514765Z",
     "shell.execute_reply": "2025-02-06T11:30:54.513096Z",
     "shell.execute_reply.started": "2025-02-06T11:30:54.508214Z"
    }
   },
   "outputs": [],
   "source": [
    "runs = {}"
   ]
  },
  {
   "cell_type": "code",
   "execution_count": 476,
   "id": "a053c199-cab5-4d29-9290-d25060b2f03a",
   "metadata": {
    "execution": {
     "iopub.execute_input": "2025-02-06T12:09:43.118224Z",
     "iopub.status.busy": "2025-02-06T12:09:43.117852Z",
     "iopub.status.idle": "2025-02-06T12:09:43.152370Z",
     "shell.execute_reply": "2025-02-06T12:09:43.151028Z",
     "shell.execute_reply.started": "2025-02-06T12:09:43.118187Z"
    }
   },
   "outputs": [
    {
     "name": "stdout",
     "output_type": "stream",
     "text": [
      "block_size_3__embedding_size_10__hidden_layer_size_200__batch_size_32__learning_rates_A_0.1__learning_rates_B_0.02__epochs_20000__ \n",
      " eval_loss: 2.3624, train_loss: 2.3345,  train_time: 31.57s\n",
      "block_size_3__embedding_size_10__hidden_layer_size_200__batch_size_32__learning_rates_A_0.1__learning_rates_B_0.02__epochs_20000___B \n",
      " eval_loss: 2.3272, train_loss: 2.3124,  train_time: 31.56s\n",
      "block_size_3__embedding_size_10__hidden_layer_size_200__batch_size_128__learning_rates_A_0.1__learning_rates_B_0.02__epochs_20000___A \n",
      " eval_loss: 2.2764, train_loss: 2.2624,  train_time: 24.79s\n",
      "block_size_3__embedding_size_10__hidden_layer_size_200__batch_size_128__learning_rates_A_0.1__learning_rates_B_0.02__epochs_20000___B \n",
      " eval_loss: 2.3136, train_loss: 2.2895,  train_time: 35.64s\n",
      "block_size_3__embedding_size_10__hidden_layer_size_200__batch_size_256__learning_rates_A_0.1__learning_rates_B_0.02__epochs_20000___A \n",
      " eval_loss: 2.2839, train_loss: 2.2709,  train_time: 25.73s\n",
      "block_size_3__embedding_size_10__hidden_layer_size_200__batch_size_256__learning_rates_A_0.1__learning_rates_B_0.02__epochs_20000___B \n",
      " eval_loss: 2.3126, train_loss: 2.2863,  train_time: 28.95s\n",
      "block_size_3__embedding_size_10__hidden_layer_size_200__batch_size_128__learning_rates_A_0.15__learning_rates_B_0.01__epochs_50000___A \n",
      " eval_loss: 2.2292, train_loss: 2.2076,  train_time: 74.61s\n",
      "block_size_3__embedding_size_20__hidden_layer_size_400__batch_size_128__learning_rates_A_0.1__learning_rates_B_0.02__epochs_20000___A \n",
      " eval_loss: 2.6331, train_loss: 2.4086,  train_time: 32.60s\n",
      "block_size_3__embedding_size_20__hidden_layer_size_400__batch_size_128__learning_rates_A_0.15__learning_rates_B_0.01__epochs_50000___A \n",
      " eval_loss: 2.2616, train_loss: 2.0738,  train_time: 78.12s\n",
      "block_size_3__embedding_size_10__hidden_layer_size_200__batch_size_128__learning_rates_A_0.2__learning_rates_B_0.005__epochs_50000___A \n",
      " eval_loss: 2.1980, train_loss: 2.1650,  train_time: 77.61s\n",
      "block_size_5__embedding_size_10__hidden_layer_size_200__batch_size_128__learning_rates_A_0.01__learning_rates_B_0.02__epochs_2000___A \n",
      " eval_loss: 6.0659, train_loss: 6.0721,  train_time: 2.98s\n",
      "block_size_5__embedding_size_10__hidden_layer_size_400__batch_size_128__learning_rates_A_0.1__learning_rates_B_0.02__epochs_20000___A \n",
      " eval_loss: 2.2752, train_loss: 2.2718,  train_time: 32.22s\n",
      "block_size_5__embedding_size_12__hidden_layer_size_400__batch_size_256__learning_rates_A_0.2__learning_rates_B_0.005__epochs_20000___A \n",
      " eval_loss: 2.2811, train_loss: 2.2655,  train_time: 31.75s\n",
      "block_size_5__embedding_size_5__hidden_layer_size_400__batch_size_256__learning_rates_A_0.2__learning_rates_B_0.005__epochs_20000___A \n",
      " eval_loss: 2.2937, train_loss: 2.2608,  train_time: 32.78s\n",
      "block_size_5__embedding_size_15__hidden_layer_size_200__batch_size_256__learning_rates_A_0.2__learning_rates_B_0.005__epochs_20000___A \n",
      " eval_loss: 2.3068, train_loss: 2.2876,  train_time: 38.50s\n",
      "block_size_5__embedding_size_10__hidden_layer_size_200__batch_size_128__learning_rates_A_0.15__learning_rates_B_0.01__epochs_100000___A \n",
      " eval_loss: 2.1952, train_loss: 2.1631,  train_time: 165.22s\n",
      "block_size_3__embedding_size_10__hidden_layer_size_200__batch_size_32__learning_rates_A_0.1__learning_rates_B_0.02__epochs_100000___A \n",
      " eval_loss: 2.2242, train_loss: 2.1736,  train_time: 140.86s\n"
     ]
    }
   ],
   "source": [
    "for i, v in runs.items():\n",
    "    print(f\"{i} \\n eval_loss: {v['eval_loss'].item():.4f}, train_loss: {v['train_loss'].item():.4f},  train_time: {v['time']:.2f}s\")\n",
    "    \n",
    "# 50k -> 1m\n",
    "# 10k -> 10s"
   ]
  },
  {
   "cell_type": "code",
   "execution_count": 474,
   "id": "1c94002a-6596-4c80-b369-8d20fd62be6a",
   "metadata": {
    "execution": {
     "iopub.execute_input": "2025-02-06T12:03:45.562789Z",
     "iopub.status.busy": "2025-02-06T12:03:45.561461Z",
     "iopub.status.idle": "2025-02-06T12:03:45.570516Z",
     "shell.execute_reply": "2025-02-06T12:03:45.568706Z",
     "shell.execute_reply.started": "2025-02-06T12:03:45.562705Z"
    }
   },
   "outputs": [
    {
     "data": {
      "text/plain": [
       "'block_size_3__embedding_size_10__hidden_layer_size_200__batch_size_32__learning_rates_A_0.1__learning_rates_B_0.02__epochs_100000___A'"
      ]
     },
     "execution_count": 474,
     "metadata": {},
     "output_type": "execute_result"
    }
   ],
   "source": [
    "\n",
    "hyperparams = {\n",
    "'block_size': 3,\n",
    "'embedding_size': 10,\n",
    "'hidden_layer_size': 200,\n",
    "'batch_size': 32,\n",
    "'learning_rates_A': 0.10,\n",
    "'learning_rates_B': 0.02,\n",
    "'epochs': 100000\n",
    "}\n",
    "\n",
    "\n",
    "def hyperparams_to_run_name():\n",
    "    return ''.join([f\"{k}_{v}__\" for k, v in hyperparams.items()]) + \"_A\"\n",
    "\n",
    "hyperparams_to_run_name()"
   ]
  },
  {
   "cell_type": "code",
   "execution_count": 475,
   "id": "4f2a5ee3-913f-4fd7-a3e3-ce2d1da64bee",
   "metadata": {
    "execution": {
     "iopub.execute_input": "2025-02-06T12:03:48.071418Z",
     "iopub.status.busy": "2025-02-06T12:03:48.070781Z",
     "iopub.status.idle": "2025-02-06T12:06:09.999648Z",
     "shell.execute_reply": "2025-02-06T12:06:09.998341Z",
     "shell.execute_reply.started": "2025-02-06T12:03:48.071418Z"
    }
   },
   "outputs": [
    {
     "name": "stdout",
     "output_type": "stream",
     "text": [
      "11897\n",
      "2.224229097366333\n",
      "2.173616647720337\n"
     ]
    },
    {
     "data": {
      "image/png": "[encoded data removed]",
      "text/plain": [
       "<Figure size 1000x600 with 1 Axes>"
      ]
     },
     "metadata": {},
     "output_type": "display_data"
    }
   ],
   "source": [
    "import torch\n",
    "\n",
    "block_size = hyperparams['block_size']\n",
    "embedding_size = hyperparams['embedding_size']\n",
    "epochs = hyperparams['epochs']\n",
    "learning_rates[0] = hyperparams['learning_rates_A']\n",
    "learning_rates[1] = hyperparams['learning_rates_B']\n",
    "hidden_layer_size = hyperparams['hidden_layer_size']\n",
    "batch_size = hyperparams['batch_size']\n",
    "\n",
    "def build_dataset(words):\n",
    "    X, Y = [], []\n",
    "    for w in words:\n",
    "        context = [0] * block_size\n",
    "        for ch in w + '.':\n",
    "            ix = stoi[ch]\n",
    "            X.append(context)\n",
    "            Y.append(ix)\n",
    "            #print(context, ix)\n",
    "            #print(''.join(itos[i] for i in context), '->', itos[ix])\n",
    "            context = context[1:] + [ix]\n",
    "\n",
    "    X = torch.tensor(X, device=device)\n",
    "    Y = torch.tensor(Y, device=device)\n",
    "    return X, Y\n",
    "\n",
    "import random\n",
    "random.seed(42)\n",
    "random.shuffle(words)\n",
    "n1 = int(0.8*len(words))\n",
    "n2 = int(0.9*len(words))\n",
    "\n",
    "Xtr, Ytr = build_dataset(words[:n1])\n",
    "Xval, Yval = build_dataset(words[n1:n2])\n",
    "Xte, Yte = build_dataset(words[n2:])\n",
    "\n",
    "C = torch.randn((27, embedding_size), device=device)\n",
    "W1 = torch.randn((embedding_size * block_size, hidden_layer_size), device=device)\n",
    "b1 = torch.randn(hidden_layer_size, device=device)\n",
    "W2 = torch.randn((hidden_layer_size, 27), device=device)\n",
    "b2 = torch.randn(27, device=device)\n",
    "\n",
    "parameters = [C, W1, b1, W2, b2]\n",
    "\n",
    "for p in parameters:\n",
    "  p.requires_grad = True\n",
    "\n",
    "print(sum(p.nelement() for p in parameters))\n",
    "\n",
    "lri = []\n",
    "lossi = []\n",
    "lossepochs = []\n",
    "\n",
    "#logits = h @ W2 + b2\n",
    "#counts = logits.exp()\n",
    "#prob = counts / counts.sum(1, keepdims=True)\n",
    "\n",
    "#loss = -prob[torch.arange(32), Y].log().mean() \n",
    "# here the mean means we take the mean of all the losses\n",
    "# of all individual training examples\n",
    "\n",
    "#loss == F.cross_entropy(logits, Y)\n",
    "\n",
    "#lre = torch.linspace(-3, 0, 1000)\n",
    "#lrs = 10**lre\n",
    "#lrs.shape\n",
    "\n",
    "def train(learning_rate, epoch):\n",
    "    #minibatch \n",
    "    ix = torch.randint(0, Xtr.shape[0], (batch_size,), device=device)\n",
    "    \n",
    "    # forward pass|\n",
    "    emb = C[Xtr[ix]]\n",
    "    h = torch.tanh(emb.view(-1, block_size * embedding_size) @ W1 + b1)\n",
    "    logits = h @ W2 + b2\n",
    "    loss = F.cross_entropy(logits, Ytr[ix])\n",
    "    #print(loss.item())\n",
    "\n",
    "    # backward\n",
    "    for p in parameters:\n",
    "        p.grad = None\n",
    "    loss.backward()\n",
    "    for p in parameters:\n",
    "        p.data -= learning_rate * p.grad\n",
    "        \n",
    "    if epoch % 50 == 0:\n",
    "        #lri.append(lre[i].item\n",
    "        lossi.append(loss.item())\n",
    "        lossepochs.append(epoch)\n",
    "\n",
    "import time\n",
    "start_time = time.time()\n",
    "\n",
    "for i in range(int(epochs/2)):\n",
    "    train(learning_rates[0], i)\n",
    "for i in range(int(epochs/2)):\n",
    "    train(learning_rates[1], int(epochs/2)+i)\n",
    "    \n",
    "\n",
    "emb = C[Xval]\n",
    "h = torch.tanh(emb.view(-1, block_size * embedding_size) @ W1 + b1)\n",
    "logits = h @ W2 + b2\n",
    "eval_loss = F.cross_entropy(logits, Yval)\n",
    "print(eval_loss.item())\n",
    "\n",
    "emb = C[Xtr]\n",
    "h = torch.tanh(emb.view(-1, block_size * embedding_size) @ W1 + b1)\n",
    "logits = h @ W2 + b2\n",
    "train_loss = F.cross_entropy(logits, Ytr)\n",
    "print(train_loss.item())\n",
    "\n",
    "end_time = time.time()\n",
    "\n",
    "run_name = hyperparams_to_run_name()\n",
    "runs[run_name] = {'eval_loss': eval_loss, 'train_loss': train_loss, 'lossi': lossi, 'lossepochs': lossepochs, 'time': end_time - start_time }\n",
    "\n",
    "import matplotlib.pyplot as plt\n",
    "\n",
    "# Optionally, set the figure size for better visibility.\n",
    "plt.figure(figsize=(10, 6))\n",
    "\n",
    "# Plot the loss values versus epochs.\n",
    "plt.plot(lossepochs, lossi, linestyle='-', color='blue', label='Training Loss')\n",
    "\n",
    "# Add labels to the axes.\n",
    "plt.xlabel(\"Epochs\")\n",
    "plt.ylabel(\"Loss\")\n",
    "\n",
    "# Add a title to the plot.\n",
    "plt.title(\"Training Loss over Epochs\")\n",
    "\n",
    "# Add a grid for easier visualization of the values.\n",
    "plt.grid(True)\n",
    "\n",
    "# Add a legend to explain the plot elements.\n",
    "plt.legend()\n",
    "\n",
    "# Display the plot.\n",
    "plt.show()\n"
   ]
  },
  {
   "cell_type": "code",
   "execution_count": 478,
   "id": "e37ad429-1086-4c4d-870c-0933a8bb4080",
   "metadata": {
    "execution": {
     "iopub.execute_input": "2025-02-06T12:10:56.186794Z",
     "iopub.status.busy": "2025-02-06T12:10:56.186156Z",
     "iopub.status.idle": "2025-02-06T12:10:56.212125Z",
     "shell.execute_reply": "2025-02-06T12:10:56.210564Z",
     "shell.execute_reply.started": "2025-02-06T12:10:56.186794Z"
    }
   },
   "outputs": [
    {
     "name": "stdout",
     "output_type": "stream",
     "text": [
      "2.230264663696289\n"
     ]
    }
   ],
   "source": [
    "emb = C[Xte]\n",
    "h = torch.tanh(emb.view(-1, block_size * embedding_size) @ W1 + b1)\n",
    "logits = h @ W2 + b2\n",
    "train_loss = F.cross_entropy(logits, Yte)\n",
    "print(train_loss.item())"
   ]
  },
  {
   "cell_type": "code",
   "execution_count": 390,
   "id": "d44088d3-de7d-4608-b3da-633affd3c659",
   "metadata": {
    "execution": {
     "iopub.execute_input": "2025-02-06T11:20:54.164908Z",
     "iopub.status.busy": "2025-02-06T11:20:54.164151Z",
     "iopub.status.idle": "2025-02-06T11:20:54.176451Z",
     "shell.execute_reply": "2025-02-06T11:20:54.174829Z",
     "shell.execute_reply.started": "2025-02-06T11:20:54.164865Z"
    }
   },
   "outputs": [
    {
     "name": "stdout",
     "output_type": "stream",
     "text": [
      "11897\n"
     ]
    }
   ],
   "source": []
  },
  {
   "cell_type": "code",
   "execution_count": 391,
   "id": "e1b46024-8142-44a9-b649-5d230b40735d",
   "metadata": {
    "execution": {
     "iopub.execute_input": "2025-02-06T11:20:55.375131Z",
     "iopub.status.busy": "2025-02-06T11:20:55.374791Z",
     "iopub.status.idle": "2025-02-06T11:21:06.710822Z",
     "shell.execute_reply": "2025-02-06T11:21:06.709273Z",
     "shell.execute_reply.started": "2025-02-06T11:20:55.375075Z"
    }
   },
   "outputs": [
    {
     "name": "stdout",
     "output_type": "stream",
     "text": [
      "2.5625126361846924\n",
      "2.535710334777832\n"
     ]
    }
   ],
   "source": []
  },
  {
   "cell_type": "code",
   "execution_count": 364,
   "id": "6acfb50c-c2c7-4e26-a2cb-fd7dc88cd0c3",
   "metadata": {
    "execution": {
     "iopub.execute_input": "2025-02-06T11:08:47.021824Z",
     "iopub.status.busy": "2025-02-06T11:08:47.021029Z",
     "iopub.status.idle": "2025-02-06T11:08:47.251736Z",
     "shell.execute_reply": "2025-02-06T11:08:47.250161Z",
     "shell.execute_reply.started": "2025-02-06T11:08:47.021775Z"
    }
   },
   "outputs": [
    {
     "data": {
      "image/png": "[encoded data removed]",
      "text/plain": [
       "<Figure size 1000x600 with 1 Axes>"
      ]
     },
     "metadata": {},
     "output_type": "display_data"
    }
   ],
   "source": []
  },
  {
   "cell_type": "code",
   "execution_count": 292,
   "id": "16d26868-00c7-465b-98df-596e4144a289",
   "metadata": {
    "execution": {
     "iopub.execute_input": "2025-02-06T08:50:15.964753Z",
     "iopub.status.busy": "2025-02-06T08:50:15.963915Z",
     "iopub.status.idle": "2025-02-06T08:50:16.266940Z",
     "shell.execute_reply": "2025-02-06T08:50:16.265436Z",
     "shell.execute_reply.started": "2025-02-06T08:50:15.964712Z"
    }
   },
   "outputs": [
    {
     "data": {
      "image/png": "[encoded data removed]",
      "text/plain": [
       "<Figure size 800x800 with 1 Axes>"
      ]
     },
     "metadata": {},
     "output_type": "display_data"
    }
   ],
   "source": [
    "plt.figure(figsize=(8,8))\n",
    "plt.scatter(C[:, 0].data, C[:, 1].data, s=200)\n",
    "for i in range(C.shape[0]):\n",
    "    plt.text(C[i, 0].item(), C[i, 1].item(), itos[i])\n",
    "plt.grid('minor')"
   ]
  },
  {
   "cell_type": "code",
   "execution_count": 77,
   "id": "9b0dfb15-0157-41eb-855c-afc88bc52f16",
   "metadata": {
    "execution": {
     "iopub.execute_input": "2025-02-06T07:31:09.923413Z",
     "iopub.status.busy": "2025-02-06T07:31:09.922297Z",
     "iopub.status.idle": "2025-02-06T07:31:09.928759Z",
     "shell.execute_reply": "2025-02-06T07:31:09.927859Z",
     "shell.execute_reply.started": "2025-02-06T07:31:09.923369Z"
    }
   },
   "outputs": [],
   "source": []
  },
  {
   "cell_type": "code",
   "execution_count": null,
   "id": "c7a816ef-4db7-4c7b-89fc-97738a05e278",
   "metadata": {},
   "outputs": [],
   "source": []
  },
  {
   "cell_type": "code",
   "execution_count": null,
   "id": "f3dd4a06-10cf-4885-b3b7-2d042ddff52f",
   "metadata": {},
   "outputs": [],
   "source": []
  },
  {
   "cell_type": "code",
   "execution_count": null,
   "id": "a218a8b4-e29a-445a-a5e4-1f65d9bb43df",
   "metadata": {},
   "outputs": [],
   "source": []
  },
  {
   "cell_type": "code",
   "execution_count": null,
   "id": "f7157261-6d7a-43d0-9ee3-a12726e9190b",
   "metadata": {},
   "outputs": [],
   "source": []
  },
  {
   "cell_type": "code",
   "execution_count": null,
   "id": "130c08ce-e187-4600-9b42-356043fb7447",
   "metadata": {},
   "outputs": [],
   "source": []
  },
  {
   "cell_type": "code",
   "execution_count": null,
   "id": "6b68f5f2-e26a-4c5a-9297-9a144ede7540",
   "metadata": {},
   "outputs": [],
   "source": []
  },
  {
   "cell_type": "code",
   "execution_count": null,
   "id": "966aa972-ebf1-4d27-a70a-91d2f4379bd8",
   "metadata": {},
   "outputs": [],
   "source": []
  },
  {
   "cell_type": "code",
   "execution_count": null,
   "id": "6c097274-b045-4608-9b71-f7127ec6d4e5",
   "metadata": {},
   "outputs": [],
   "source": []
  },
  {
   "cell_type": "markdown",
   "id": "f085493e-54c4-4f6f-9b56-76973d2ca027",
   "metadata": {},
   "source": [
    "# Appendix"
   ]
  },
  {
   "cell_type": "code",
   "execution_count": 40,
   "id": "eded3e7e-012a-4365-94c2-e1edc8b8f507",
   "metadata": {
    "execution": {
     "iopub.execute_input": "2025-02-06T07:21:02.507677Z",
     "iopub.status.busy": "2025-02-06T07:21:02.507460Z",
     "iopub.status.idle": "2025-02-06T07:21:02.514793Z",
     "shell.execute_reply": "2025-02-06T07:21:02.513457Z",
     "shell.execute_reply.started": "2025-02-06T07:21:02.507648Z"
    }
   },
   "outputs": [
    {
     "data": {
      "text/plain": [
       "torch.Size([32, 6])"
      ]
     },
     "execution_count": 40,
     "metadata": {},
     "output_type": "execute_result"
    }
   ],
   "source": [
    "torch.cat([emb[:, i, :] for i in range(block_size)], 1).shape"
   ]
  },
  {
   "cell_type": "code",
   "execution_count": 43,
   "id": "4defcd79-42a7-448b-85e4-b9ef5e39439d",
   "metadata": {
    "execution": {
     "iopub.execute_input": "2025-02-06T07:21:55.775863Z",
     "iopub.status.busy": "2025-02-06T07:21:55.775309Z",
     "iopub.status.idle": "2025-02-06T07:21:55.790806Z",
     "shell.execute_reply": "2025-02-06T07:21:55.789668Z",
     "shell.execute_reply.started": "2025-02-06T07:21:55.775863Z"
    }
   },
   "outputs": [
    {
     "data": {
      "text/plain": [
       "tensor([[-0.1152, -1.1897, -0.1152, -1.1897, -0.1152, -1.1897],\n",
       "        [-0.1152, -1.1897, -0.1152, -1.1897,  0.2716,  1.0055],\n",
       "        [-0.1152, -1.1897,  0.2716,  1.0055, -0.7203, -0.5304],\n",
       "        [ 0.2716,  1.0055, -0.7203, -0.5304, -0.7203, -0.5304],\n",
       "        [-0.7203, -0.5304, -0.7203, -0.5304,  0.2930,  0.3207],\n",
       "        [-0.1152, -1.1897, -0.1152, -1.1897, -0.1152, -1.1897],\n",
       "        [-0.1152, -1.1897, -0.1152, -1.1897,  1.3084,  0.0505],\n",
       "        [-0.1152, -1.1897,  1.3084,  0.0505, -0.7158,  0.4897],\n",
       "        [ 1.3084,  0.0505, -0.7158,  0.4897, -1.0853,  2.4026],\n",
       "        [-0.7158,  0.4897, -1.0853,  2.4026,  0.0674, -0.0325],\n",
       "        [-1.0853,  2.4026,  0.0674, -0.0325, -1.0853,  2.4026],\n",
       "        [ 0.0674, -0.0325, -1.0853,  2.4026,  0.2930,  0.3207],\n",
       "        [-0.1152, -1.1897, -0.1152, -1.1897, -0.1152, -1.1897],\n",
       "        [-0.1152, -1.1897, -0.1152, -1.1897,  0.2930,  0.3207],\n",
       "        [-0.1152, -1.1897,  0.2930,  0.3207,  0.0674, -0.0325],\n",
       "        [ 0.2930,  0.3207,  0.0674, -0.0325,  0.2930,  0.3207],\n",
       "        [-0.1152, -1.1897, -0.1152, -1.1897, -0.1152, -1.1897],\n",
       "        [-0.1152, -1.1897, -0.1152, -1.1897, -1.0853,  2.4026],\n",
       "        [-0.1152, -1.1897, -1.0853,  2.4026, -1.2528,  0.7178],\n",
       "        [-1.0853,  2.4026, -1.2528,  0.7178,  0.2930,  0.3207],\n",
       "        [-1.2528,  0.7178,  0.2930,  0.3207,  0.6927,  0.4057],\n",
       "        [ 0.2930,  0.3207,  0.6927,  0.4057,  0.2716,  1.0055],\n",
       "        [ 0.6927,  0.4057,  0.2716,  1.0055, -0.7158,  0.4897],\n",
       "        [ 0.2716,  1.0055, -0.7158,  0.4897, -0.7158,  0.4897],\n",
       "        [-0.7158,  0.4897, -0.7158,  0.4897,  0.2930,  0.3207],\n",
       "        [-0.1152, -1.1897, -0.1152, -1.1897, -0.1152, -1.1897],\n",
       "        [-0.1152, -1.1897, -0.1152, -1.1897, -1.2528,  0.7178],\n",
       "        [-0.1152, -1.1897, -1.2528,  0.7178,  1.3084,  0.0505],\n",
       "        [-1.2528,  0.7178,  1.3084,  0.0505,  2.0937, -0.9837],\n",
       "        [ 1.3084,  0.0505,  2.0937, -0.9837, -0.3415,  0.4138],\n",
       "        [ 2.0937, -0.9837, -0.3415,  0.4138, -1.0853,  2.4026],\n",
       "        [-0.3415,  0.4138, -1.0853,  2.4026,  0.2930,  0.3207]])"
      ]
     },
     "execution_count": 43,
     "metadata": {},
     "output_type": "execute_result"
    }
   ],
   "source": [
    "torch.cat(torch.unbind(emb, 1), 1)"
   ]
  },
  {
   "cell_type": "code",
   "execution_count": 48,
   "id": "75ff4400-1830-4f7b-b83f-14cdff53a1c6",
   "metadata": {
    "execution": {
     "iopub.execute_input": "2025-02-06T07:22:58.282409Z",
     "iopub.status.busy": "2025-02-06T07:22:58.281334Z",
     "iopub.status.idle": "2025-02-06T07:22:58.287060Z",
     "shell.execute_reply": "2025-02-06T07:22:58.286795Z",
     "shell.execute_reply.started": "2025-02-06T07:22:58.282409Z"
    }
   },
   "outputs": [
    {
     "data": {
      "text/plain": [
       "torch.Size([18])"
      ]
     },
     "execution_count": 48,
     "metadata": {},
     "output_type": "execute_result"
    }
   ],
   "source": [
    "a = torch.arange(18)\n",
    "a.shape"
   ]
  },
  {
   "cell_type": "code",
   "execution_count": 49,
   "id": "bf5bc92e-39d0-47c6-99aa-67049750f164",
   "metadata": {
    "execution": {
     "iopub.execute_input": "2025-02-06T07:22:59.694450Z",
     "iopub.status.busy": "2025-02-06T07:22:59.693589Z",
     "iopub.status.idle": "2025-02-06T07:22:59.699531Z",
     "shell.execute_reply": "2025-02-06T07:22:59.698767Z",
     "shell.execute_reply.started": "2025-02-06T07:22:59.694426Z"
    }
   },
   "outputs": [
    {
     "data": {
      "text/plain": [
       "tensor([[ 0,  1,  2,  3,  4,  5,  6,  7,  8],\n",
       "        [ 9, 10, 11, 12, 13, 14, 15, 16, 17]])"
      ]
     },
     "execution_count": 49,
     "metadata": {},
     "output_type": "execute_result"
    }
   ],
   "source": [
    "a.view(2, 9)"
   ]
  },
  {
   "cell_type": "code",
   "execution_count": 52,
   "id": "eaedb89c-46f7-47e7-a50c-c86d21c585dc",
   "metadata": {
    "execution": {
     "iopub.execute_input": "2025-02-06T07:23:38.265202Z",
     "iopub.status.busy": "2025-02-06T07:23:38.264523Z",
     "iopub.status.idle": "2025-02-06T07:23:38.273767Z",
     "shell.execute_reply": "2025-02-06T07:23:38.272267Z",
     "shell.execute_reply.started": "2025-02-06T07:23:38.265160Z"
    }
   },
   "outputs": [
    {
     "data": {
      "text/plain": [
       " 0\n",
       " 1\n",
       " 2\n",
       " 3\n",
       " 4\n",
       " 5\n",
       " 6\n",
       " 7\n",
       " 8\n",
       " 9\n",
       " 10\n",
       " 11\n",
       " 12\n",
       " 13\n",
       " 14\n",
       " 15\n",
       " 16\n",
       " 17\n",
       "[torch.storage.TypedStorage(dtype=torch.int64, device=cpu) of size 18]"
      ]
     },
     "execution_count": 52,
     "metadata": {},
     "output_type": "execute_result"
    }
   ],
   "source": [
    "a.storage()"
   ]
  },
  {
   "cell_type": "code",
   "execution_count": 55,
   "id": "c572d7ee-cf58-4cff-9558-80b9403fd7d7",
   "metadata": {
    "execution": {
     "iopub.execute_input": "2025-02-06T07:25:09.366425Z",
     "iopub.status.busy": "2025-02-06T07:25:09.365529Z",
     "iopub.status.idle": "2025-02-06T07:25:09.373004Z",
     "shell.execute_reply": "2025-02-06T07:25:09.372250Z",
     "shell.execute_reply.started": "2025-02-06T07:25:09.366402Z"
    }
   },
   "outputs": [
    {
     "data": {
      "text/plain": [
       "tensor([[True, True, True, True, True, True],\n",
       "        [True, True, True, True, True, True],\n",
       "        [True, True, True, True, True, True],\n",
       "        [True, True, True, True, True, True],\n",
       "        [True, True, True, True, True, True],\n",
       "        [True, True, True, True, True, True],\n",
       "        [True, True, True, True, True, True],\n",
       "        [True, True, True, True, True, True],\n",
       "        [True, True, True, True, True, True],\n",
       "        [True, True, True, True, True, True],\n",
       "        [True, True, True, True, True, True],\n",
       "        [True, True, True, True, True, True],\n",
       "        [True, True, True, True, True, True],\n",
       "        [True, True, True, True, True, True],\n",
       "        [True, True, True, True, True, True],\n",
       "        [True, True, True, True, True, True],\n",
       "        [True, True, True, True, True, True],\n",
       "        [True, True, True, True, True, True],\n",
       "        [True, True, True, True, True, True],\n",
       "        [True, True, True, True, True, True],\n",
       "        [True, True, True, True, True, True],\n",
       "        [True, True, True, True, True, True],\n",
       "        [True, True, True, True, True, True],\n",
       "        [True, True, True, True, True, True],\n",
       "        [True, True, True, True, True, True],\n",
       "        [True, True, True, True, True, True],\n",
       "        [True, True, True, True, True, True],\n",
       "        [True, True, True, True, True, True],\n",
       "        [True, True, True, True, True, True],\n",
       "        [True, True, True, True, True, True],\n",
       "        [True, True, True, True, True, True],\n",
       "        [True, True, True, True, True, True]])"
      ]
     },
     "execution_count": 55,
     "metadata": {},
     "output_type": "execute_result"
    }
   ],
   "source": [
    "emb.view(32, 6) == torch.cat(torch.unbind(emb, 1), 1)"
   ]
  },
  {
   "cell_type": "code",
   "execution_count": null,
   "id": "919fdd52-9f64-4776-9a47-83fbd7edbea9",
   "metadata": {},
   "outputs": [],
   "source": []
  },
  {
   "cell_type": "code",
   "execution_count": null,
   "id": "09008ee1-c57d-4312-9047-6adb355b9685",
   "metadata": {},
   "outputs": [],
   "source": []
  },
  {
   "cell_type": "code",
   "execution_count": null,
   "id": "14f711d2-f85d-4a6f-b0af-b40f5e230dce",
   "metadata": {},
   "outputs": [],
   "source": []
  },
  {
   "cell_type": "code",
   "execution_count": null,
   "id": "f293e299-238f-45fd-8146-f6602a5a00e8",
   "metadata": {},
   "outputs": [],
   "source": []
  },
  {
   "cell_type": "code",
   "execution_count": null,
   "id": "126e9c77-148d-415e-b96d-4299d165b696",
   "metadata": {},
   "outputs": [],
   "source": []
  },
  {
   "cell_type": "code",
   "execution_count": null,
   "id": "823c44a2-423e-40fa-be5e-8beacbe44924",
   "metadata": {},
   "outputs": [],
   "source": []
  },
  {
   "cell_type": "code",
   "execution_count": null,
   "id": "3b0fc745-5e3f-4cff-8c80-e536026aa495",
   "metadata": {},
   "outputs": [],
   "source": []
  }
 ],
 "metadata": {
  "kernelspec": {
   "display_name": "Python 3 (ipykernel)",
   "language": "python",
   "name": "python3"
  },
  "language_info": {
   "codemirror_mode": {
    "name": "ipython",
    "version": 3
   },
   "file_extension": ".py",
   "mimetype": "text/x-python",
   "name": "python",
   "nbconvert_exporter": "python",
   "pygments_lexer": "ipython3",
   "version": "3.11.7"
  }
 },
 "nbformat": 4,
 "nbformat_minor": 5
}
