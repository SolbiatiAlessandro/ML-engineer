{
 "cells": [
  {
   "cell_type": "code",
   "execution_count": null,
   "metadata": {},
   "outputs": [],
   "source": [
    "# https://karpathy.medium.com/yes-you-should-understand-backprop-e2f06eab496b"
   ]
  },
  {
   "cell_type": "markdown",
   "metadata": {
    "id": "rToK0Tku8PPn"
   },
   "source": [
    "## makemore: becoming a backprop ninja"
   ]
  },
  {
   "cell_type": "code",
   "execution_count": 1,
   "metadata": {
    "id": "8sFElPqq8PPp",
    "tags": []
   },
   "outputs": [],
   "source": [
    "# there no change change in the first several cells from last lecture"
   ]
  },
  {
   "cell_type": "code",
   "execution_count": 2,
   "metadata": {
    "execution": {
     "iopub.execute_input": "2025-02-16T18:17:39.978334Z",
     "iopub.status.busy": "2025-02-16T18:17:39.977973Z",
     "iopub.status.idle": "2025-02-16T18:17:47.064198Z",
     "shell.execute_reply": "2025-02-16T18:17:47.052784Z",
     "shell.execute_reply.started": "2025-02-16T18:17:39.978308Z"
    },
    "id": "ChBbac4y8PPq",
    "tags": []
   },
   "outputs": [],
   "source": [
    "import torch\n",
    "import torch.nn.functional as F\n",
    "import matplotlib.pyplot as plt # for making figures\n",
    "%matplotlib inline"
   ]
  },
  {
   "cell_type": "code",
   "execution_count": 5,
   "metadata": {
    "id": "x6GhEWW18aCS",
    "tags": []
   },
   "outputs": [],
   "source": [
    "# # download the names.txt file from github\n",
    "# !wget https://raw.githubusercontent.com/karpathy/makemore/master/names.txt"
   ]
  },
  {
   "cell_type": "code",
   "execution_count": 3,
   "metadata": {
    "execution": {
     "iopub.execute_input": "2025-02-16T18:17:47.068254Z",
     "iopub.status.busy": "2025-02-16T18:17:47.067895Z",
     "iopub.status.idle": "2025-02-16T18:17:47.108171Z",
     "shell.execute_reply": "2025-02-16T18:17:47.107558Z",
     "shell.execute_reply.started": "2025-02-16T18:17:47.068233Z"
    },
    "id": "klmu3ZG08PPr",
    "tags": []
   },
   "outputs": [
    {
     "name": "stdout",
     "output_type": "stream",
     "text": [
      "32033\n",
      "15\n",
      "['emma', 'olivia', 'ava', 'isabella', 'sophia', 'charlotte', 'mia', 'amelia']\n"
     ]
    }
   ],
   "source": [
    "# read in all the words\n",
    "words = open('names.txt', 'r').read().splitlines()\n",
    "print(len(words))\n",
    "print(max(len(w) for w in words))\n",
    "print(words[:8])"
   ]
  },
  {
   "cell_type": "code",
   "execution_count": 4,
   "metadata": {
    "execution": {
     "iopub.execute_input": "2025-02-16T18:17:47.109317Z",
     "iopub.status.busy": "2025-02-16T18:17:47.108970Z",
     "iopub.status.idle": "2025-02-16T18:17:47.116400Z",
     "shell.execute_reply": "2025-02-16T18:17:47.115716Z",
     "shell.execute_reply.started": "2025-02-16T18:17:47.109295Z"
    },
    "id": "BCQomLE_8PPs",
    "tags": []
   },
   "outputs": [
    {
     "name": "stdout",
     "output_type": "stream",
     "text": [
      "{1: 'a', 2: 'b', 3: 'c', 4: 'd', 5: 'e', 6: 'f', 7: 'g', 8: 'h', 9: 'i', 10: 'j', 11: 'k', 12: 'l', 13: 'm', 14: 'n', 15: 'o', 16: 'p', 17: 'q', 18: 'r', 19: 's', 20: 't', 21: 'u', 22: 'v', 23: 'w', 24: 'x', 25: 'y', 26: 'z', 0: '.'}\n",
      "27\n"
     ]
    }
   ],
   "source": [
    "# build the vocabulary of characters and mappings to/from integers\n",
    "chars = sorted(list(set(''.join(words))))\n",
    "stoi = {s:i+1 for i,s in enumerate(chars)}\n",
    "stoi['.'] = 0\n",
    "itos = {i:s for s,i in stoi.items()}\n",
    "vocab_size = len(itos)\n",
    "print(itos)\n",
    "print(vocab_size)"
   ]
  },
  {
   "cell_type": "code",
   "execution_count": 5,
   "metadata": {
    "execution": {
     "iopub.execute_input": "2025-02-16T18:17:47.117988Z",
     "iopub.status.busy": "2025-02-16T18:17:47.117704Z",
     "iopub.status.idle": "2025-02-16T18:17:48.499888Z",
     "shell.execute_reply": "2025-02-16T18:17:48.498894Z",
     "shell.execute_reply.started": "2025-02-16T18:17:47.117968Z"
    },
    "id": "V_zt2QHr8PPs",
    "tags": []
   },
   "outputs": [
    {
     "name": "stdout",
     "output_type": "stream",
     "text": [
      "torch.Size([182625, 3]) torch.Size([182625])\n",
      "torch.Size([22655, 3]) torch.Size([22655])\n",
      "torch.Size([22866, 3]) torch.Size([22866])\n"
     ]
    }
   ],
   "source": [
    "# build the dataset\n",
    "block_size = 3 # context length: how many characters do we take to predict the next one?\n",
    "\n",
    "def build_dataset(words):\n",
    "  X, Y = [], []\n",
    "\n",
    "  for w in words:\n",
    "    context = [0] * block_size\n",
    "    for ch in w + '.':\n",
    "      ix = stoi[ch]\n",
    "      X.append(context)\n",
    "      Y.append(ix)\n",
    "      context = context[1:] + [ix] # crop and append\n",
    "\n",
    "  X = torch.tensor(X)\n",
    "  Y = torch.tensor(Y)\n",
    "  print(X.shape, Y.shape)\n",
    "  return X, Y\n",
    "\n",
    "import random\n",
    "random.seed(42)\n",
    "random.shuffle(words)\n",
    "n1 = int(0.8*len(words))\n",
    "n2 = int(0.9*len(words))\n",
    "\n",
    "Xtr,  Ytr  = build_dataset(words[:n1])     # 80%\n",
    "Xdev, Ydev = build_dataset(words[n1:n2])   # 10%\n",
    "Xte,  Yte  = build_dataset(words[n2:])     # 10%"
   ]
  },
  {
   "cell_type": "code",
   "execution_count": 6,
   "metadata": {
    "execution": {
     "iopub.execute_input": "2025-02-16T18:17:48.510210Z",
     "iopub.status.busy": "2025-02-16T18:17:48.507039Z",
     "iopub.status.idle": "2025-02-16T18:17:48.516671Z",
     "shell.execute_reply": "2025-02-16T18:17:48.515726Z",
     "shell.execute_reply.started": "2025-02-16T18:17:48.510162Z"
    },
    "id": "eg20-vsg8PPt",
    "tags": []
   },
   "outputs": [],
   "source": [
    "# ok biolerplate done, now we get to the action:"
   ]
  },
  {
   "cell_type": "code",
   "execution_count": 7,
   "metadata": {
    "execution": {
     "iopub.execute_input": "2025-02-16T18:17:52.155438Z",
     "iopub.status.busy": "2025-02-16T18:17:52.154843Z",
     "iopub.status.idle": "2025-02-16T18:17:52.160442Z",
     "shell.execute_reply": "2025-02-16T18:17:52.159420Z",
     "shell.execute_reply.started": "2025-02-16T18:17:52.155410Z"
    },
    "id": "MJPU8HT08PPu",
    "tags": []
   },
   "outputs": [],
   "source": [
    "# utility function we will use later when comparing manual gradients to PyTorch gradients\n",
    "def cmp(s, dt, t):\n",
    "  ex = torch.all(dt == t.grad).item()\n",
    "  app = torch.allclose(dt, t.grad)\n",
    "  maxdiff = (dt - t.grad).abs().max().item()\n",
    "  print(f'{s:15s} | exact: {str(ex):5s} | approximate: {str(app):5s} | maxdiff: {maxdiff}')"
   ]
  },
  {
   "cell_type": "code",
   "execution_count": 8,
   "metadata": {
    "execution": {
     "iopub.execute_input": "2025-02-16T18:17:52.932213Z",
     "iopub.status.busy": "2025-02-16T18:17:52.931247Z",
     "iopub.status.idle": "2025-02-16T18:17:52.982521Z",
     "shell.execute_reply": "2025-02-16T18:17:52.981639Z",
     "shell.execute_reply.started": "2025-02-16T18:17:52.932162Z"
    },
    "id": "ZlFLjQyT8PPu",
    "tags": []
   },
   "outputs": [
    {
     "name": "stdout",
     "output_type": "stream",
     "text": [
      "4137\n"
     ]
    }
   ],
   "source": [
    "n_embd = 10 # the dimensionality of the character embedding vectors\n",
    "n_hidden = 64 # the number of neurons in the hidden layer of the MLP\n",
    "\n",
    "g = torch.Generator().manual_seed(2147483647) # for reproducibility\n",
    "C  = torch.randn((vocab_size, n_embd),            generator=g)\n",
    "# Layer 1\n",
    "W1 = torch.randn((n_embd * block_size, n_hidden), generator=g) * (5/3)/((n_embd * block_size)**0.5)\n",
    "b1 = torch.randn(n_hidden,                        generator=g) * 0.1 # using b1 just for fun, it's useless because of BN\n",
    "# Layer 2\n",
    "W2 = torch.randn((n_hidden, vocab_size),          generator=g) * 0.1\n",
    "b2 = torch.randn(vocab_size,                      generator=g) * 0.1\n",
    "# BatchNorm parameters\n",
    "bngain = torch.randn((1, n_hidden))*0.1 + 1.0\n",
    "bnbias = torch.randn((1, n_hidden))*0.1\n",
    "\n",
    "# Note: I am initializating many of these parameters in non-standard ways\n",
    "# because sometimes initializating with e.g. all zeros could mask an incorrect\n",
    "# implementation of the backward pass.\n",
    "\n",
    "parameters = [C, W1, b1, W2, b2, bngain, bnbias]\n",
    "print(sum(p.nelement() for p in parameters)) # number of parameters in total\n",
    "for p in parameters:\n",
    "  p.requires_grad = True"
   ]
  },
  {
   "cell_type": "code",
   "execution_count": 9,
   "metadata": {
    "execution": {
     "iopub.execute_input": "2025-02-16T18:17:54.841184Z",
     "iopub.status.busy": "2025-02-16T18:17:54.840745Z",
     "iopub.status.idle": "2025-02-16T18:17:54.871131Z",
     "shell.execute_reply": "2025-02-16T18:17:54.868033Z",
     "shell.execute_reply.started": "2025-02-16T18:17:54.841159Z"
    },
    "id": "QY-y96Y48PPv",
    "tags": []
   },
   "outputs": [],
   "source": [
    "batch_size = 32\n",
    "n = batch_size # a shorter variable also, for convenience\n",
    "# construct a minibatch\n",
    "ix = torch.randint(0, Xtr.shape[0], (batch_size,), generator=g)\n",
    "Xb, Yb = Xtr[ix], Ytr[ix] # batch X,Y"
   ]
  },
  {
   "cell_type": "code",
   "execution_count": 10,
   "metadata": {
    "execution": {
     "iopub.execute_input": "2025-02-16T18:17:55.445146Z",
     "iopub.status.busy": "2025-02-16T18:17:55.444843Z",
     "iopub.status.idle": "2025-02-16T18:17:55.720463Z",
     "shell.execute_reply": "2025-02-16T18:17:55.719669Z",
     "shell.execute_reply.started": "2025-02-16T18:17:55.445123Z"
    },
    "id": "8ofj1s6d8PPv",
    "tags": []
   },
   "outputs": [
    {
     "data": {
      "text/plain": [
       "tensor(3.3499, grad_fn=<NegBackward0>)"
      ]
     },
     "execution_count": 10,
     "metadata": {},
     "output_type": "execute_result"
    }
   ],
   "source": [
    "# forward pass, \"chunkated\" into smaller steps that are possible to backward one at a time\n",
    "\n",
    "emb = C[Xb] # embed the characters into vectors\n",
    "embcat = emb.view(emb.shape[0], -1) # concatenate the vectors\n",
    "# Linear layer 1\n",
    "hprebn = embcat @ W1 + b1 # hidden layer pre-activation\n",
    "# BatchNorm layer\n",
    "bnmeani = 1/n*hprebn.sum(0, keepdim=True)\n",
    "bndiff = hprebn - bnmeani\n",
    "bndiff2 = bndiff**2\n",
    "bnvar = 1/(n-1)*(bndiff2).sum(0, keepdim=True) # note: Bessel's correction (dividing by n-1, not n)\n",
    "bnvar_inv = (bnvar + 1e-5)**-0.5\n",
    "bnraw = bndiff * bnvar_inv\n",
    "hpreact = bngain * bnraw + bnbias\n",
    "# Non-linearity\n",
    "h = torch.tanh(hpreact) # hidden layer\n",
    "# Linear layer 2\n",
    "logits = h @ W2 + b2 # output layer\n",
    "# cross entropy loss (same as F.cross_entropy(logits, Yb))\n",
    "logit_maxes = logits.max(1, keepdim=True).values\n",
    "norm_logits = logits - logit_maxes # subtract max for numerical stability\n",
    "counts = norm_logits.exp()\n",
    "counts_sum = counts.sum(1, keepdims=True)\n",
    "counts_sum_inv = counts_sum**-1 # if I use (1.0 / counts_sum) instead then I can't get backprop to be bit exact...\n",
    "probs = counts * counts_sum_inv\n",
    "logprobs = probs.log()\n",
    "loss = -logprobs[range(n), Yb].mean()\n",
    "\n",
    "# PyTorch backward pass\n",
    "for p in parameters:\n",
    "  p.grad = None\n",
    "for t in [logprobs, probs, counts, counts_sum, counts_sum_inv, # afaik there is no cleaner way\n",
    "          norm_logits, logit_maxes, logits, h, hpreact, bnraw,\n",
    "         bnvar_inv, bnvar, bndiff2, bndiff, hprebn, bnmeani,\n",
    "         embcat, emb]:\n",
    "  t.retain_grad()\n",
    "loss.backward()\n",
    "loss"
   ]
  },
  {
   "cell_type": "code",
   "execution_count": 11,
   "metadata": {
    "execution": {
     "iopub.execute_input": "2025-02-16T18:17:56.448320Z",
     "iopub.status.busy": "2025-02-16T18:17:56.444376Z",
     "iopub.status.idle": "2025-02-16T18:17:56.480494Z",
     "shell.execute_reply": "2025-02-16T18:17:56.479695Z",
     "shell.execute_reply.started": "2025-02-16T18:17:56.448285Z"
    },
    "tags": []
   },
   "outputs": [
    {
     "data": {
      "text/plain": [
       "(tensor([-2.6894, -2.3725, -4.0050, -2.9768, -3.9060, -2.5309, -3.7017, -3.3136,\n",
       "         -4.0629, -3.4794, -3.2057, -3.3701, -3.2507, -3.4750, -3.2826, -4.3320,\n",
       "         -4.7276, -3.8673, -4.2542, -2.9673, -3.0064, -3.9038, -3.6153, -2.6263,\n",
       "         -2.9584, -3.6138, -3.7983], grad_fn=<SelectBackward0>),\n",
       " tensor(8),\n",
       " tensor(-4.0629, grad_fn=<SelectBackward0>),\n",
       " tensor(-0.0312),\n",
       " -0.03125)"
      ]
     },
     "execution_count": 11,
     "metadata": {},
     "output_type": "execute_result"
    }
   ],
   "source": [
    "logprobs[0], Yb[0], logprobs[0][8], logprobs.grad[0][8], -1/n"
   ]
  },
  {
   "cell_type": "code",
   "execution_count": 12,
   "metadata": {
    "execution": {
     "iopub.execute_input": "2025-02-16T18:17:57.095034Z",
     "iopub.status.busy": "2025-02-16T18:17:57.089657Z",
     "iopub.status.idle": "2025-02-16T18:17:57.113559Z",
     "shell.execute_reply": "2025-02-16T18:17:57.112802Z",
     "shell.execute_reply.started": "2025-02-16T18:17:57.094991Z"
    },
    "tags": []
   },
   "outputs": [
    {
     "data": {
      "text/plain": [
       "torch.Size([32, 27])"
      ]
     },
     "execution_count": 12,
     "metadata": {},
     "output_type": "execute_result"
    }
   ],
   "source": [
    "dlogprobs = torch.zeros(logprobs.shape)\n",
    "dlogprobs.shape"
   ]
  },
  {
   "cell_type": "code",
   "execution_count": 13,
   "metadata": {
    "execution": {
     "iopub.execute_input": "2025-02-16T18:17:57.420420Z",
     "iopub.status.busy": "2025-02-16T18:17:57.418869Z",
     "iopub.status.idle": "2025-02-16T18:17:57.431491Z",
     "shell.execute_reply": "2025-02-16T18:17:57.430567Z",
     "shell.execute_reply.started": "2025-02-16T18:17:57.420368Z"
    },
    "tags": []
   },
   "outputs": [],
   "source": [
    "dlogprobs[range(n), Yb] = -1/n"
   ]
  },
  {
   "cell_type": "code",
   "execution_count": 14,
   "metadata": {
    "execution": {
     "iopub.execute_input": "2025-02-16T18:17:57.704238Z",
     "iopub.status.busy": "2025-02-16T18:17:57.703571Z",
     "iopub.status.idle": "2025-02-16T18:17:57.708156Z",
     "shell.execute_reply": "2025-02-16T18:17:57.707344Z",
     "shell.execute_reply.started": "2025-02-16T18:17:57.704208Z"
    },
    "tags": []
   },
   "outputs": [],
   "source": [
    "dprobs = dlogprobs * (1 / probs)"
   ]
  },
  {
   "cell_type": "code",
   "execution_count": 15,
   "metadata": {
    "execution": {
     "iopub.execute_input": "2025-02-16T18:17:57.943985Z",
     "iopub.status.busy": "2025-02-16T18:17:57.943671Z",
     "iopub.status.idle": "2025-02-16T18:17:57.949583Z",
     "shell.execute_reply": "2025-02-16T18:17:57.948910Z",
     "shell.execute_reply.started": "2025-02-16T18:17:57.943963Z"
    },
    "tags": []
   },
   "outputs": [
    {
     "data": {
      "text/plain": [
       "torch.Size([32, 1])"
      ]
     },
     "execution_count": 15,
     "metadata": {},
     "output_type": "execute_result"
    }
   ],
   "source": [
    "dcounts_sum_inv = dprobs * counts\n",
    "dcounts_sum_inv = dcounts_sum_inv[range(n), Yb].view(-1, 1)\n",
    "dcounts_sum_inv.shape"
   ]
  },
  {
   "cell_type": "code",
   "execution_count": 16,
   "metadata": {
    "execution": {
     "iopub.execute_input": "2025-02-16T18:17:58.190672Z",
     "iopub.status.busy": "2025-02-16T18:17:58.190339Z",
     "iopub.status.idle": "2025-02-16T18:17:58.196538Z",
     "shell.execute_reply": "2025-02-16T18:17:58.195982Z",
     "shell.execute_reply.started": "2025-02-16T18:17:58.190637Z"
    },
    "tags": []
   },
   "outputs": [
    {
     "data": {
      "text/plain": [
       "(torch.Size([32, 27]), torch.Size([32, 1]), torch.Size([32, 1]))"
      ]
     },
     "execution_count": 16,
     "metadata": {},
     "output_type": "execute_result"
    }
   ],
   "source": [
    "counts.shape, counts_sum_inv.shape, counts_sum_inv.grad.shape"
   ]
  },
  {
   "cell_type": "code",
   "execution_count": 17,
   "metadata": {
    "execution": {
     "iopub.execute_input": "2025-02-16T18:17:58.439759Z",
     "iopub.status.busy": "2025-02-16T18:17:58.439465Z",
     "iopub.status.idle": "2025-02-16T18:17:58.446674Z",
     "shell.execute_reply": "2025-02-16T18:17:58.446152Z",
     "shell.execute_reply.started": "2025-02-16T18:17:58.439737Z"
    },
    "tags": []
   },
   "outputs": [
    {
     "data": {
      "text/plain": [
       "(torch.Size([32, 1]), torch.Size([32, 1]))"
      ]
     },
     "execution_count": 17,
     "metadata": {},
     "output_type": "execute_result"
    }
   ],
   "source": [
    "dcounts_sum = -1 * counts_sum**-2 * dcounts_sum_inv\n",
    "dcounts_sum.shape, counts_sum.shape"
   ]
  },
  {
   "cell_type": "code",
   "execution_count": 18,
   "metadata": {
    "execution": {
     "iopub.execute_input": "2025-02-16T18:17:58.698308Z",
     "iopub.status.busy": "2025-02-16T18:17:58.697976Z",
     "iopub.status.idle": "2025-02-16T18:17:58.703569Z",
     "shell.execute_reply": "2025-02-16T18:17:58.703023Z",
     "shell.execute_reply.started": "2025-02-16T18:17:58.698267Z"
    },
    "tags": []
   },
   "outputs": [
    {
     "data": {
      "text/plain": [
       "(torch.Size([32, 27]), torch.Size([32, 27]))"
      ]
     },
     "execution_count": 18,
     "metadata": {},
     "output_type": "execute_result"
    }
   ],
   "source": [
    "dcounts = dprobs * counts_sum_inv\n",
    "dcounts += torch.ones_like(counts) * dcounts_sum\n",
    "dcounts.shape, counts.grad.shape"
   ]
  },
  {
   "cell_type": "code",
   "execution_count": 19,
   "metadata": {
    "execution": {
     "iopub.execute_input": "2025-02-16T18:17:58.970532Z",
     "iopub.status.busy": "2025-02-16T18:17:58.970004Z",
     "iopub.status.idle": "2025-02-16T18:17:58.976006Z",
     "shell.execute_reply": "2025-02-16T18:17:58.975477Z",
     "shell.execute_reply.started": "2025-02-16T18:17:58.970501Z"
    },
    "tags": []
   },
   "outputs": [
    {
     "data": {
      "text/plain": [
       "(torch.Size([32, 27]), torch.Size([32, 27]))"
      ]
     },
     "execution_count": 19,
     "metadata": {},
     "output_type": "execute_result"
    }
   ],
   "source": [
    "dnorm_logits = dcounts * norm_logits.exp()\n",
    "dnorm_logits.shape, norm_logits.grad.shape"
   ]
  },
  {
   "cell_type": "code",
   "execution_count": 20,
   "metadata": {
    "execution": {
     "iopub.execute_input": "2025-02-16T18:17:59.249823Z",
     "iopub.status.busy": "2025-02-16T18:17:59.249538Z",
     "iopub.status.idle": "2025-02-16T18:17:59.254538Z",
     "shell.execute_reply": "2025-02-16T18:17:59.253143Z",
     "shell.execute_reply.started": "2025-02-16T18:17:59.249800Z"
    },
    "tags": []
   },
   "outputs": [],
   "source": [
    "dlogits = dnorm_logits.clone() "
   ]
  },
  {
   "cell_type": "code",
   "execution_count": 21,
   "metadata": {
    "execution": {
     "iopub.execute_input": "2025-02-16T18:17:59.525935Z",
     "iopub.status.busy": "2025-02-16T18:17:59.525614Z",
     "iopub.status.idle": "2025-02-16T18:17:59.530847Z",
     "shell.execute_reply": "2025-02-16T18:17:59.530126Z",
     "shell.execute_reply.started": "2025-02-16T18:17:59.525901Z"
    },
    "tags": []
   },
   "outputs": [],
   "source": [
    "# norm_logits = logits - logit_maxes # subtract max for numerical stability\n",
    "dlogit_maxes = -1 * dnorm_logits\n",
    "dlogit_maxes.shape, logit_maxes.grad.shape\n",
    "dlogit_maxes = dlogit_maxes.sum(1, keepdim=True)"
   ]
  },
  {
   "cell_type": "code",
   "execution_count": 22,
   "metadata": {
    "execution": {
     "iopub.execute_input": "2025-02-16T18:17:59.830119Z",
     "iopub.status.busy": "2025-02-16T18:17:59.829738Z",
     "iopub.status.idle": "2025-02-16T18:17:59.835946Z",
     "shell.execute_reply": "2025-02-16T18:17:59.835400Z",
     "shell.execute_reply.started": "2025-02-16T18:17:59.830082Z"
    },
    "tags": []
   },
   "outputs": [
    {
     "data": {
      "text/plain": [
       "(torch.Size([64, 27]), torch.Size([32, 64]), torch.Size([30, 64]))"
      ]
     },
     "execution_count": 22,
     "metadata": {},
     "output_type": "execute_result"
    }
   ],
   "source": [
    "W2.shape, h.shape, W1.shape, "
   ]
  },
  {
   "cell_type": "code",
   "execution_count": 23,
   "metadata": {
    "execution": {
     "iopub.execute_input": "2025-02-16T18:18:00.141364Z",
     "iopub.status.busy": "2025-02-16T18:18:00.140988Z",
     "iopub.status.idle": "2025-02-16T18:18:00.153696Z",
     "shell.execute_reply": "2025-02-16T18:18:00.153137Z",
     "shell.execute_reply.started": "2025-02-16T18:18:00.141330Z"
    },
    "tags": []
   },
   "outputs": [],
   "source": [
    "dlogits += torch.nn.functional.one_hot(logits.max(1).indices, num_classes=logits.shape[1]) * dlogit_maxes"
   ]
  },
  {
   "cell_type": "code",
   "execution_count": 24,
   "metadata": {
    "execution": {
     "iopub.execute_input": "2025-02-16T18:18:00.514990Z",
     "iopub.status.busy": "2025-02-16T18:18:00.514669Z",
     "iopub.status.idle": "2025-02-16T18:18:00.525955Z",
     "shell.execute_reply": "2025-02-16T18:18:00.525256Z",
     "shell.execute_reply.started": "2025-02-16T18:18:00.514965Z"
    },
    "tags": []
   },
   "outputs": [
    {
     "data": {
      "text/plain": [
       "(torch.Size([32, 27]), torch.Size([64, 27]), torch.Size([27, 64]))"
      ]
     },
     "execution_count": 24,
     "metadata": {},
     "output_type": "execute_result"
    }
   ],
   "source": [
    "dlogits.shape, W2.shape, torch.transpose(W2, 0, 1).shape"
   ]
  },
  {
   "cell_type": "code",
   "execution_count": 25,
   "metadata": {
    "execution": {
     "iopub.execute_input": "2025-02-16T18:18:00.823392Z",
     "iopub.status.busy": "2025-02-16T18:18:00.822886Z",
     "iopub.status.idle": "2025-02-16T18:18:00.829127Z",
     "shell.execute_reply": "2025-02-16T18:18:00.827884Z",
     "shell.execute_reply.started": "2025-02-16T18:18:00.823260Z"
    },
    "tags": []
   },
   "outputs": [],
   "source": [
    "# logits = h @ W2 + b2 # output layer\n",
    "\n",
    "dh = dlogits @ torch.transpose(W2, 0, 1)"
   ]
  },
  {
   "cell_type": "code",
   "execution_count": 26,
   "metadata": {
    "execution": {
     "iopub.execute_input": "2025-02-16T18:18:01.114821Z",
     "iopub.status.busy": "2025-02-16T18:18:01.114511Z",
     "iopub.status.idle": "2025-02-16T18:18:01.119874Z",
     "shell.execute_reply": "2025-02-16T18:18:01.119070Z",
     "shell.execute_reply.started": "2025-02-16T18:18:01.114797Z"
    },
    "tags": []
   },
   "outputs": [
    {
     "data": {
      "text/plain": [
       "(torch.Size([32, 64]), torch.Size([32, 64]))"
      ]
     },
     "execution_count": 26,
     "metadata": {},
     "output_type": "execute_result"
    }
   ],
   "source": [
    "h.grad.shape, dh.shape"
   ]
  },
  {
   "cell_type": "code",
   "execution_count": 27,
   "metadata": {
    "execution": {
     "iopub.execute_input": "2025-02-16T18:18:01.445534Z",
     "iopub.status.busy": "2025-02-16T18:18:01.445249Z",
     "iopub.status.idle": "2025-02-16T18:18:01.450774Z",
     "shell.execute_reply": "2025-02-16T18:18:01.450191Z",
     "shell.execute_reply.started": "2025-02-16T18:18:01.445512Z"
    },
    "tags": []
   },
   "outputs": [
    {
     "data": {
      "text/plain": [
       "(torch.Size([64, 27]), torch.Size([64, 27]))"
      ]
     },
     "execution_count": 27,
     "metadata": {},
     "output_type": "execute_result"
    }
   ],
   "source": [
    "dW2 = h.T @ dlogits\n",
    "dW2.shape, W2.grad.shape"
   ]
  },
  {
   "cell_type": "code",
   "execution_count": 28,
   "metadata": {
    "execution": {
     "iopub.execute_input": "2025-02-16T18:18:01.759625Z",
     "iopub.status.busy": "2025-02-16T18:18:01.759329Z",
     "iopub.status.idle": "2025-02-16T18:18:01.764441Z",
     "shell.execute_reply": "2025-02-16T18:18:01.763881Z",
     "shell.execute_reply.started": "2025-02-16T18:18:01.759604Z"
    },
    "tags": []
   },
   "outputs": [
    {
     "data": {
      "text/plain": [
       "(torch.Size([32, 27]), torch.Size([27]))"
      ]
     },
     "execution_count": 28,
     "metadata": {},
     "output_type": "execute_result"
    }
   ],
   "source": [
    "dlogits.shape, b2.grad.shape"
   ]
  },
  {
   "cell_type": "code",
   "execution_count": 29,
   "metadata": {
    "execution": {
     "iopub.execute_input": "2025-02-16T18:18:02.092392Z",
     "iopub.status.busy": "2025-02-16T18:18:02.091748Z",
     "iopub.status.idle": "2025-02-16T18:18:02.100618Z",
     "shell.execute_reply": "2025-02-16T18:18:02.100029Z",
     "shell.execute_reply.started": "2025-02-16T18:18:02.092364Z"
    },
    "tags": []
   },
   "outputs": [],
   "source": [
    "db2 = dlogits.sum(0)"
   ]
  },
  {
   "cell_type": "code",
   "execution_count": 30,
   "metadata": {
    "execution": {
     "iopub.execute_input": "2025-02-16T18:18:02.481160Z",
     "iopub.status.busy": "2025-02-16T18:18:02.480888Z",
     "iopub.status.idle": "2025-02-16T18:18:02.493296Z",
     "shell.execute_reply": "2025-02-16T18:18:02.492768Z",
     "shell.execute_reply.started": "2025-02-16T18:18:02.481140Z"
    },
    "tags": []
   },
   "outputs": [
    {
     "data": {
      "text/plain": [
       "(torch.Size([32, 64]), torch.Size([32, 64]))"
      ]
     },
     "execution_count": 30,
     "metadata": {},
     "output_type": "execute_result"
    }
   ],
   "source": [
    "# h = torch.tanh(hpreact) # hidden layer\n",
    "dhpreact = dh *(1.0 - h ** 2)\n",
    "dhpreact.shape, hpreact.grad.shape"
   ]
  },
  {
   "cell_type": "code",
   "execution_count": 31,
   "metadata": {
    "execution": {
     "iopub.execute_input": "2025-02-16T18:18:02.776596Z",
     "iopub.status.busy": "2025-02-16T18:18:02.776065Z",
     "iopub.status.idle": "2025-02-16T18:18:02.785384Z",
     "shell.execute_reply": "2025-02-16T18:18:02.784841Z",
     "shell.execute_reply.started": "2025-02-16T18:18:02.776572Z"
    },
    "tags": []
   },
   "outputs": [
    {
     "data": {
      "text/plain": [
       "(torch.Size([1, 64]), torch.Size([1, 64]))"
      ]
     },
     "execution_count": 31,
     "metadata": {},
     "output_type": "execute_result"
    }
   ],
   "source": [
    "# hpreact = bngain * bnraw + bnbias\n",
    "dbngain = (dhpreact * bnraw).sum(0, keepdim=True)\n",
    "dbngain.shape, bngain.grad.shape"
   ]
  },
  {
   "cell_type": "code",
   "execution_count": 32,
   "metadata": {
    "execution": {
     "iopub.execute_input": "2025-02-16T18:18:03.122812Z",
     "iopub.status.busy": "2025-02-16T18:18:03.122368Z",
     "iopub.status.idle": "2025-02-16T18:18:03.155377Z",
     "shell.execute_reply": "2025-02-16T18:18:03.154596Z",
     "shell.execute_reply.started": "2025-02-16T18:18:03.122762Z"
    },
    "tags": []
   },
   "outputs": [
    {
     "data": {
      "text/plain": [
       "(torch.Size([1, 64]), torch.Size([1, 64]))"
      ]
     },
     "execution_count": 32,
     "metadata": {},
     "output_type": "execute_result"
    }
   ],
   "source": [
    "dbnbias = (dhpreact).sum(0, keepdim=True)\n",
    "dbnbias.shape, bnbias.grad.shape"
   ]
  },
  {
   "cell_type": "code",
   "execution_count": 33,
   "metadata": {
    "execution": {
     "iopub.execute_input": "2025-02-16T18:18:03.495798Z",
     "iopub.status.busy": "2025-02-16T18:18:03.495087Z",
     "iopub.status.idle": "2025-02-16T18:18:03.502234Z",
     "shell.execute_reply": "2025-02-16T18:18:03.501622Z",
     "shell.execute_reply.started": "2025-02-16T18:18:03.495765Z"
    },
    "tags": []
   },
   "outputs": [
    {
     "data": {
      "text/plain": [
       "(torch.Size([32, 64]), torch.Size([32, 64]))"
      ]
     },
     "execution_count": 33,
     "metadata": {},
     "output_type": "execute_result"
    }
   ],
   "source": [
    "dbnraw = dhpreact * bngain\n",
    "dbnraw.shape, bnraw.grad.shape"
   ]
  },
  {
   "cell_type": "code",
   "execution_count": 34,
   "metadata": {
    "execution": {
     "iopub.execute_input": "2025-02-16T18:18:03.828068Z",
     "iopub.status.busy": "2025-02-16T18:18:03.825512Z",
     "iopub.status.idle": "2025-02-16T18:18:03.834085Z",
     "shell.execute_reply": "2025-02-16T18:18:03.833473Z",
     "shell.execute_reply.started": "2025-02-16T18:18:03.828031Z"
    },
    "tags": []
   },
   "outputs": [
    {
     "name": "stdout",
     "output_type": "stream",
     "text": [
      "torch.Size([1, 64]) torch.Size([1, 64])\n"
     ]
    }
   ],
   "source": [
    "# bnraw = bndiff * bnvar_inv\n",
    "dbndiff = bnvar_inv * dbnraw\n",
    "#print(dbndiff.shape, bndiff.grad.shape)\n",
    "\n",
    "dbnvar_inv = (bndiff * dbnraw).sum(0, keepdim=True)\n",
    "print(dbnvar_inv.shape, bnvar_inv.grad.shape)"
   ]
  },
  {
   "cell_type": "code",
   "execution_count": 35,
   "metadata": {
    "execution": {
     "iopub.execute_input": "2025-02-16T18:18:04.178529Z",
     "iopub.status.busy": "2025-02-16T18:18:04.177793Z",
     "iopub.status.idle": "2025-02-16T18:18:04.182523Z",
     "shell.execute_reply": "2025-02-16T18:18:04.181697Z",
     "shell.execute_reply.started": "2025-02-16T18:18:04.178497Z"
    },
    "tags": []
   },
   "outputs": [],
   "source": [
    "# bnvar_inv = (bnvar + 1e-5)**-0.5\n",
    "dbnvar = dbnvar_inv * -0.5 * (bnvar + 1e-5)**-1.5"
   ]
  },
  {
   "cell_type": "code",
   "execution_count": 36,
   "metadata": {
    "execution": {
     "iopub.execute_input": "2025-02-16T18:18:04.647250Z",
     "iopub.status.busy": "2025-02-16T18:18:04.646969Z",
     "iopub.status.idle": "2025-02-16T18:18:04.653166Z",
     "shell.execute_reply": "2025-02-16T18:18:04.652663Z",
     "shell.execute_reply.started": "2025-02-16T18:18:04.647227Z"
    },
    "tags": []
   },
   "outputs": [
    {
     "data": {
      "text/plain": [
       "(torch.Size([32, 64]), torch.Size([32, 64]))"
      ]
     },
     "execution_count": 36,
     "metadata": {},
     "output_type": "execute_result"
    }
   ],
   "source": [
    "# bnvar = 1/(n-1)*(bndiff2).sum(0, keepdim=True) # note: Bessel's correction (dividing by n-1, not n)\n",
    "dbndiff2 = dbnvar * 1/(n-1) * torch.ones_like(bndiff2)\n",
    "dbndiff2.shape, bndiff2.grad.shape"
   ]
  },
  {
   "cell_type": "code",
   "execution_count": 37,
   "metadata": {
    "execution": {
     "iopub.execute_input": "2025-02-16T18:18:05.114052Z",
     "iopub.status.busy": "2025-02-16T18:18:05.113762Z",
     "iopub.status.idle": "2025-02-16T18:18:05.128543Z",
     "shell.execute_reply": "2025-02-16T18:18:05.128002Z",
     "shell.execute_reply.started": "2025-02-16T18:18:05.114030Z"
    },
    "tags": []
   },
   "outputs": [
    {
     "data": {
      "text/plain": [
       "(torch.Size([32, 64]), torch.Size([32, 64]))"
      ]
     },
     "execution_count": 37,
     "metadata": {},
     "output_type": "execute_result"
    }
   ],
   "source": [
    "# bndiff2 = bndiff**2\n",
    "dbndiff += 2 * bndiff * dbndiff2\n",
    "dbndiff.shape, bndiff.grad.shape"
   ]
  },
  {
   "cell_type": "code",
   "execution_count": 38,
   "metadata": {
    "execution": {
     "iopub.execute_input": "2025-02-16T18:18:05.565904Z",
     "iopub.status.busy": "2025-02-16T18:18:05.565495Z",
     "iopub.status.idle": "2025-02-16T18:18:05.575589Z",
     "shell.execute_reply": "2025-02-16T18:18:05.574994Z",
     "shell.execute_reply.started": "2025-02-16T18:18:05.565867Z"
    },
    "tags": []
   },
   "outputs": [
    {
     "data": {
      "text/plain": [
       "(torch.Size([1, 64]), torch.Size([1, 64]))"
      ]
     },
     "execution_count": 38,
     "metadata": {},
     "output_type": "execute_result"
    }
   ],
   "source": [
    "# bndiff = hprebn - bnmeani\n",
    "dbnmeani = (-1 * dbndiff).sum(0).view(1, -1)\n",
    "dbnmeani.shape, bnmeani.grad.shape"
   ]
  },
  {
   "cell_type": "code",
   "execution_count": 39,
   "metadata": {
    "execution": {
     "iopub.execute_input": "2025-02-16T18:18:06.010409Z",
     "iopub.status.busy": "2025-02-16T18:18:06.010136Z",
     "iopub.status.idle": "2025-02-16T18:18:06.036300Z",
     "shell.execute_reply": "2025-02-16T18:18:06.030234Z",
     "shell.execute_reply.started": "2025-02-16T18:18:06.010387Z"
    },
    "tags": []
   },
   "outputs": [
    {
     "data": {
      "text/plain": [
       "(torch.Size([32, 64]), torch.Size([32, 64]))"
      ]
     },
     "execution_count": 39,
     "metadata": {},
     "output_type": "execute_result"
    }
   ],
   "source": [
    "dhprebn = dbndiff\n",
    "dhprebn.shape, hprebn.grad.shape"
   ]
  },
  {
   "cell_type": "code",
   "execution_count": 40,
   "metadata": {
    "execution": {
     "iopub.execute_input": "2025-02-16T18:18:06.521962Z",
     "iopub.status.busy": "2025-02-16T18:18:06.521725Z",
     "iopub.status.idle": "2025-02-16T18:18:06.525805Z",
     "shell.execute_reply": "2025-02-16T18:18:06.524946Z",
     "shell.execute_reply.started": "2025-02-16T18:18:06.521943Z"
    },
    "tags": []
   },
   "outputs": [],
   "source": [
    "# bnmeani = 1/n*hprebn.sum(0, keepdim=True)\n",
    "dhprebn += 1/(n) * torch.ones_like(bndiff2) * dbnmeani"
   ]
  },
  {
   "cell_type": "code",
   "execution_count": 41,
   "metadata": {
    "execution": {
     "iopub.execute_input": "2025-02-16T18:18:07.545310Z",
     "iopub.status.busy": "2025-02-16T18:18:07.545067Z",
     "iopub.status.idle": "2025-02-16T18:18:07.555407Z",
     "shell.execute_reply": "2025-02-16T18:18:07.554930Z",
     "shell.execute_reply.started": "2025-02-16T18:18:07.545290Z"
    },
    "tags": []
   },
   "outputs": [
    {
     "name": "stdout",
     "output_type": "stream",
     "text": [
      "torch.Size([64, 30]) torch.Size([32, 64]) torch.Size([32, 30])\n"
     ]
    },
    {
     "data": {
      "text/plain": [
       "(torch.Size([32, 30]), torch.Size([32, 30]))"
      ]
     },
     "execution_count": 41,
     "metadata": {},
     "output_type": "execute_result"
    }
   ],
   "source": [
    "# hprebn = embcat @ W1 + b1 # hidden layer pre-activation\n",
    "print(W1.T.shape, dhprebn.shape, embcat.shape)\n",
    "dembcat = dhprebn @ W1.T\n",
    "dembcat.shape, embcat.grad.shape"
   ]
  },
  {
   "cell_type": "code",
   "execution_count": 42,
   "metadata": {
    "execution": {
     "iopub.execute_input": "2025-02-16T18:18:08.228186Z",
     "iopub.status.busy": "2025-02-16T18:18:08.227807Z",
     "iopub.status.idle": "2025-02-16T18:18:08.233268Z",
     "shell.execute_reply": "2025-02-16T18:18:08.232690Z",
     "shell.execute_reply.started": "2025-02-16T18:18:08.228160Z"
    },
    "tags": []
   },
   "outputs": [
    {
     "name": "stdout",
     "output_type": "stream",
     "text": [
      "torch.Size([30, 64]) torch.Size([32, 30]) torch.Size([32, 64])\n"
     ]
    }
   ],
   "source": [
    "# hprebn = embcat @ W1 + b1 # hidden layer pre-activation\n",
    "print(W1.shape, embcat.shape, dhprebn.shape)\n",
    "dW1 = embcat.T @ dhprebn"
   ]
  },
  {
   "cell_type": "code",
   "execution_count": 43,
   "metadata": {
    "execution": {
     "iopub.execute_input": "2025-02-16T18:18:08.707497Z",
     "iopub.status.busy": "2025-02-16T18:18:08.707026Z",
     "iopub.status.idle": "2025-02-16T18:18:08.840370Z",
     "shell.execute_reply": "2025-02-16T18:18:08.805606Z",
     "shell.execute_reply.started": "2025-02-16T18:18:08.707457Z"
    },
    "tags": []
   },
   "outputs": [
    {
     "data": {
      "text/plain": [
       "torch.Size([64])"
      ]
     },
     "execution_count": 43,
     "metadata": {},
     "output_type": "execute_result"
    }
   ],
   "source": [
    "db1 = dhprebn.sum(0)\n",
    "db1.shape"
   ]
  },
  {
   "cell_type": "code",
   "execution_count": 44,
   "metadata": {
    "execution": {
     "iopub.execute_input": "2025-02-16T18:18:09.138633Z",
     "iopub.status.busy": "2025-02-16T18:18:09.138346Z",
     "iopub.status.idle": "2025-02-16T18:18:09.142975Z",
     "shell.execute_reply": "2025-02-16T18:18:09.142431Z",
     "shell.execute_reply.started": "2025-02-16T18:18:09.138611Z"
    },
    "tags": []
   },
   "outputs": [
    {
     "data": {
      "text/plain": [
       "(torch.Size([32, 30]), torch.Size([32, 3, 10]))"
      ]
     },
     "execution_count": 44,
     "metadata": {},
     "output_type": "execute_result"
    }
   ],
   "source": [
    "dembcat.shape, emb.grad.shape"
   ]
  },
  {
   "cell_type": "code",
   "execution_count": 45,
   "metadata": {
    "execution": {
     "iopub.execute_input": "2025-02-16T18:18:09.569479Z",
     "iopub.status.busy": "2025-02-16T18:18:09.568915Z",
     "iopub.status.idle": "2025-02-16T18:18:09.573196Z",
     "shell.execute_reply": "2025-02-16T18:18:09.572337Z",
     "shell.execute_reply.started": "2025-02-16T18:18:09.569446Z"
    },
    "tags": []
   },
   "outputs": [],
   "source": [
    "demb = dembcat.view(-1, 3, 10)"
   ]
  },
  {
   "cell_type": "code",
   "execution_count": 46,
   "metadata": {
    "execution": {
     "iopub.execute_input": "2025-02-16T18:18:10.215348Z",
     "iopub.status.busy": "2025-02-16T18:18:10.213201Z",
     "iopub.status.idle": "2025-02-16T18:18:10.222801Z",
     "shell.execute_reply": "2025-02-16T18:18:10.222087Z",
     "shell.execute_reply.started": "2025-02-16T18:18:10.215304Z"
    },
    "tags": []
   },
   "outputs": [
    {
     "data": {
      "text/plain": [
       "torch.Size([32, 3, 10])"
      ]
     },
     "execution_count": 46,
     "metadata": {},
     "output_type": "execute_result"
    }
   ],
   "source": [
    "demb.shape"
   ]
  },
  {
   "cell_type": "code",
   "execution_count": 47,
   "metadata": {
    "execution": {
     "iopub.execute_input": "2025-02-16T18:18:10.702987Z",
     "iopub.status.busy": "2025-02-16T18:18:10.702641Z",
     "iopub.status.idle": "2025-02-16T18:18:10.717049Z",
     "shell.execute_reply": "2025-02-16T18:18:10.716347Z",
     "shell.execute_reply.started": "2025-02-16T18:18:10.702961Z"
    }
   },
   "outputs": [],
   "source": [
    "emb = C[Xb] # embed the characters into vectors\n"
   ]
  },
  {
   "cell_type": "code",
   "execution_count": 48,
   "metadata": {
    "execution": {
     "iopub.execute_input": "2025-02-16T18:18:11.426303Z",
     "iopub.status.busy": "2025-02-16T18:18:11.425986Z",
     "iopub.status.idle": "2025-02-16T18:18:11.461676Z",
     "shell.execute_reply": "2025-02-16T18:18:11.461047Z",
     "shell.execute_reply.started": "2025-02-16T18:18:11.426280Z"
    },
    "tags": []
   },
   "outputs": [],
   "source": [
    "dC = torch.zeros_like(C)\n",
    "for k in range(Xb.shape[0]):\n",
    "    for j in range(Xb.shape[1]):\n",
    "        ix = Xb[k, j]\n",
    "        dC[ix] += demb[k, j]"
   ]
  },
  {
   "cell_type": "code",
   "execution_count": 49,
   "metadata": {
    "execution": {
     "iopub.execute_input": "2025-02-16T18:18:13.578086Z",
     "iopub.status.busy": "2025-02-16T18:18:13.577570Z",
     "iopub.status.idle": "2025-02-16T18:18:13.687205Z",
     "shell.execute_reply": "2025-02-16T18:18:13.686018Z",
     "shell.execute_reply.started": "2025-02-16T18:18:13.578060Z"
    },
    "id": "mO-8aqxK8PPw",
    "tags": []
   },
   "outputs": [
    {
     "name": "stdout",
     "output_type": "stream",
     "text": [
      "logprobs        | exact: True  | approximate: True  | maxdiff: 0.0\n",
      "probs           | exact: True  | approximate: True  | maxdiff: 0.0\n",
      "counts_sum_inv  | exact: True  | approximate: True  | maxdiff: 0.0\n",
      "counts_sum      | exact: True  | approximate: True  | maxdiff: 0.0\n",
      "counts          | exact: True  | approximate: True  | maxdiff: 0.0\n",
      "norm_logits     | exact: True  | approximate: True  | maxdiff: 0.0\n",
      "logit_maxes     | exact: True  | approximate: True  | maxdiff: 0.0\n",
      "logits          | exact: True  | approximate: True  | maxdiff: 0.0\n",
      "h               | exact: True  | approximate: True  | maxdiff: 0.0\n",
      "W2              | exact: True  | approximate: True  | maxdiff: 0.0\n",
      "b2              | exact: True  | approximate: True  | maxdiff: 0.0\n",
      "hpreact         | exact: False | approximate: True  | maxdiff: 9.313225746154785e-10\n",
      "bngain          | exact: False | approximate: True  | maxdiff: 1.862645149230957e-09\n",
      "bnbias          | exact: False | approximate: True  | maxdiff: 3.725290298461914e-09\n",
      "bnraw           | exact: False | approximate: True  | maxdiff: 9.313225746154785e-10\n",
      "bnvar_inv       | exact: False | approximate: True  | maxdiff: 3.725290298461914e-09\n",
      "bnvar           | exact: False | approximate: True  | maxdiff: 9.313225746154785e-10\n",
      "bndiff2         | exact: False | approximate: True  | maxdiff: 2.9103830456733704e-11\n",
      "bndiff          | exact: False | approximate: False | maxdiff: 0.0010769241489470005\n",
      "bnmeani         | exact: False | approximate: True  | maxdiff: 3.725290298461914e-09\n",
      "hprebn          | exact: False | approximate: True  | maxdiff: 6.984919309616089e-10\n",
      "embcat          | exact: False | approximate: True  | maxdiff: 1.862645149230957e-09\n",
      "W1              | exact: False | approximate: True  | maxdiff: 4.6566128730773926e-09\n",
      "b1              | exact: False | approximate: True  | maxdiff: 3.259629011154175e-09\n"
     ]
    },
    {
     "name": "stderr",
     "output_type": "stream",
     "text": [
      "/tmp/ipykernel_59/2706152459.py:3: UserWarning: The .grad attribute of a Tensor that is not a leaf Tensor is being accessed. Its .grad attribute won't be populated during autograd.backward(). If you indeed want the .grad field to be populated for a non-leaf Tensor, use .retain_grad() on the non-leaf Tensor. If you access the non-leaf Tensor by mistake, make sure you access the leaf Tensor instead. See github.com/pytorch/pytorch/pull/30531 for more informations. (Triggered internally at aten/src/ATen/core/TensorBody.h:489.)\n",
      "  ex = torch.all(dt == t.grad).item()\n"
     ]
    },
    {
     "ename": "TypeError",
     "evalue": "all(): argument 'input' (position 1) must be Tensor, not bool",
     "output_type": "error",
     "traceback": [
      "\u001b[0;31m---------------------------------------------------------------------------\u001b[0m",
      "\u001b[0;31mTypeError\u001b[0m                                 Traceback (most recent call last)",
      "Cell \u001b[0;32mIn[49], line 33\u001b[0m\n\u001b[1;32m     31\u001b[0m cmp(\u001b[38;5;124m'\u001b[39m\u001b[38;5;124mW1\u001b[39m\u001b[38;5;124m'\u001b[39m, dW1, W1)\n\u001b[1;32m     32\u001b[0m cmp(\u001b[38;5;124m'\u001b[39m\u001b[38;5;124mb1\u001b[39m\u001b[38;5;124m'\u001b[39m, db1, b1)\n\u001b[0;32m---> 33\u001b[0m \u001b[43mcmp\u001b[49m\u001b[43m(\u001b[49m\u001b[38;5;124;43m'\u001b[39;49m\u001b[38;5;124;43memb\u001b[39;49m\u001b[38;5;124;43m'\u001b[39;49m\u001b[43m,\u001b[49m\u001b[43m \u001b[49m\u001b[43mdemb\u001b[49m\u001b[43m,\u001b[49m\u001b[43m \u001b[49m\u001b[43memb\u001b[49m\u001b[43m)\u001b[49m\n\u001b[1;32m     34\u001b[0m cmp(\u001b[38;5;124m'\u001b[39m\u001b[38;5;124mC\u001b[39m\u001b[38;5;124m'\u001b[39m, dC, C)\n",
      "Cell \u001b[0;32mIn[7], line 3\u001b[0m, in \u001b[0;36mcmp\u001b[0;34m(s, dt, t)\u001b[0m\n\u001b[1;32m      2\u001b[0m \u001b[38;5;28;01mdef\u001b[39;00m \u001b[38;5;21mcmp\u001b[39m(s, dt, t):\n\u001b[0;32m----> 3\u001b[0m   ex \u001b[38;5;241m=\u001b[39m \u001b[43mtorch\u001b[49m\u001b[38;5;241;43m.\u001b[39;49m\u001b[43mall\u001b[49m\u001b[43m(\u001b[49m\u001b[43mdt\u001b[49m\u001b[43m \u001b[49m\u001b[38;5;241;43m==\u001b[39;49m\u001b[43m \u001b[49m\u001b[43mt\u001b[49m\u001b[38;5;241;43m.\u001b[39;49m\u001b[43mgrad\u001b[49m\u001b[43m)\u001b[49m\u001b[38;5;241m.\u001b[39mitem()\n\u001b[1;32m      4\u001b[0m   app \u001b[38;5;241m=\u001b[39m torch\u001b[38;5;241m.\u001b[39mallclose(dt, t\u001b[38;5;241m.\u001b[39mgrad)\n\u001b[1;32m      5\u001b[0m   maxdiff \u001b[38;5;241m=\u001b[39m (dt \u001b[38;5;241m-\u001b[39m t\u001b[38;5;241m.\u001b[39mgrad)\u001b[38;5;241m.\u001b[39mabs()\u001b[38;5;241m.\u001b[39mmax()\u001b[38;5;241m.\u001b[39mitem()\n",
      "\u001b[0;31mTypeError\u001b[0m: all(): argument 'input' (position 1) must be Tensor, not bool"
     ]
    }
   ],
   "source": [
    "# Exercise 1: backprop through the whole thing manually,\n",
    "# backpropagating through exactly all of the variables\n",
    "# as they are defined in the forward pass above, one by one\n",
    "\n",
    "# -----------------\n",
    "# YOUR CODE HERE :)\n",
    "# -----------------\n",
    "\n",
    "cmp('logprobs', dlogprobs, logprobs)\n",
    "cmp('probs', dprobs, probs)\n",
    "cmp('counts_sum_inv', dcounts_sum_inv, counts_sum_inv)\n",
    "cmp('counts_sum', dcounts_sum, counts_sum)\n",
    "cmp('counts', dcounts, counts)\n",
    "cmp('norm_logits', dnorm_logits, norm_logits)\n",
    "cmp('logit_maxes', dlogit_maxes, logit_maxes)\n",
    "cmp('logits', dlogits, logits)\n",
    "cmp('h', dh, h)\n",
    "cmp('W2', dW2, W2)\n",
    "cmp('b2', db2, b2)\n",
    "cmp('hpreact', dhpreact, hpreact)\n",
    "cmp('bngain', dbngain, bngain)\n",
    "cmp('bnbias', dbnbias, bnbias)\n",
    "cmp('bnraw', dbnraw, bnraw)\n",
    "cmp('bnvar_inv', dbnvar_inv, bnvar_inv)\n",
    "cmp('bnvar', dbnvar, bnvar)\n",
    "cmp('bndiff2', dbndiff2, bndiff2)\n",
    "cmp('bndiff', dbndiff, bndiff)\n",
    "cmp('bnmeani', dbnmeani, bnmeani)\n",
    "cmp('hprebn', dhprebn, hprebn)\n",
    "cmp('embcat', dembcat, embcat)\n",
    "cmp('W1', dW1, W1)\n",
    "cmp('b1', db1, b1)\n",
    "cmp('emb', demb, emb)\n",
    "cmp('C', dC, C)"
   ]
  },
  {
   "cell_type": "code",
   "execution_count": 50,
   "metadata": {
    "id": "ebLtYji_8PPw"
   },
   "outputs": [
    {
     "name": "stdout",
     "output_type": "stream",
     "text": [
      "3.3499348163604736 diff: 0.0\n"
     ]
    }
   ],
   "source": [
    "# Exercise 2: backprop through cross_entropy but all in one go\n",
    "# to complete this challenge look at the mathematical expression of the loss,\n",
    "# take the derivative, simplify the expression, and just write it out\n",
    "\n",
    "# forward pass\n",
    "\n",
    "# before:\n",
    "# logit_maxes = logits.max(1, keepdim=True).values\n",
    "# norm_logits = logits - logit_maxes # subtract max for numerical stability\n",
    "# counts = norm_logits.exp()\n",
    "# counts_sum = counts.sum(1, keepdims=True)\n",
    "# counts_sum_inv = counts_sum**-1 # if I use (1.0 / counts_sum) instead then I can't get backprop to be bit exact...\n",
    "# probs = counts * counts_sum_inv\n",
    "# logprobs = probs.log()\n",
    "# loss = -logprobs[range(n), Yb].mean()\n",
    "\n",
    "# now:\n",
    "loss_fast = F.cross_entropy(logits, Yb)\n",
    "print(loss_fast.item(), 'diff:', (loss_fast - loss).item())"
   ]
  },
  {
   "cell_type": "code",
   "execution_count": 52,
   "metadata": {
    "tags": []
   },
   "outputs": [
    {
     "data": {
      "text/plain": [
       "torch.Size([32, 27])"
      ]
     },
     "execution_count": 52,
     "metadata": {},
     "output_type": "execute_result"
    }
   ],
   "source": [
    "logits.shape"
   ]
  },
  {
   "cell_type": "code",
   "execution_count": 53,
   "metadata": {
    "id": "-gCXbB4C8PPx"
   },
   "outputs": [
    {
     "name": "stdout",
     "output_type": "stream",
     "text": [
      "logits          | exact: False | approximate: True  | maxdiff: 6.28642737865448e-09\n"
     ]
    }
   ],
   "source": [
    "# backward pass\n",
    "\n",
    "# -----------------\n",
    "# YOUR CODE HERE :)\n",
    "dlogits = F.softmax(logits, 1)\n",
    "dlogits[range(n), Yb] -= 1\n",
    "dlogits /= n\n",
    "# -----------------\n",
    "\n",
    "cmp('logits', dlogits, logits) # I can only get approximate to be true, my maxdiff is 6e-9"
   ]
  },
  {
   "cell_type": "code",
   "execution_count": 55,
   "metadata": {
    "tags": []
   },
   "outputs": [
    {
     "data": {
      "text/plain": [
       "<matplotlib.image.AxesImage at 0x7f4ba9606010>"
      ]
     },
     "execution_count": 55,
     "metadata": {},
     "output_type": "execute_result"
    },
    {
     "data": {
      "image/png": "[encoded data removed]",
      "text/plain": [
       "<Figure size 640x480 with 1 Axes>"
      ]
     },
     "metadata": {},
     "output_type": "display_data"
    }
   ],
   "source": [
    "plt.imshow(dlogits.detach(), cmap='gray')"
   ]
  },
  {
   "cell_type": "code",
   "execution_count": 56,
   "metadata": {
    "id": "hd-MkhB68PPy",
    "tags": []
   },
   "outputs": [
    {
     "name": "stdout",
     "output_type": "stream",
     "text": [
      "max diff: tensor(4.7684e-07, grad_fn=<MaxBackward1>)\n"
     ]
    }
   ],
   "source": [
    "# Exercise 3: backprop through batchnorm but all in one go\n",
    "# to complete this challenge look at the mathematical expression of the output of batchnorm,\n",
    "# take the derivative w.r.t. its input, simplify the expression, and just write it out\n",
    "# BatchNorm paper: https://arxiv.org/abs/1502.03167\n",
    "\n",
    "# forward pass\n",
    "\n",
    "# before:\n",
    "# bnmeani = 1/n*hprebn.sum(0, keepdim=True)\n",
    "# bndiff = hprebn - bnmeani\n",
    "# bndiff2 = bndiff**2\n",
    "# bnvar = 1/(n-1)*(bndiff2).sum(0, keepdim=True) # note: Bessel's correction (dividing by n-1, not n)\n",
    "# bnvar_inv = (bnvar + 1e-5)**-0.5\n",
    "# bnraw = bndiff * bnvar_inv\n",
    "# hpreact = bngain * bnraw + bnbias\n",
    "\n",
    "# now:\n",
    "hpreact_fast = bngain * (hprebn - hprebn.mean(0, keepdim=True)) / torch.sqrt(hprebn.var(0, keepdim=True, unbiased=True) + 1e-5) + bnbias\n",
    "\n",
    "print('max diff:', (hpreact_fast - hpreact).abs().max())"
   ]
  },
  {
   "cell_type": "code",
   "execution_count": 57,
   "metadata": {
    "id": "POdeZSKT8PPy"
   },
   "outputs": [
    {
     "name": "stdout",
     "output_type": "stream",
     "text": [
      "hprebn          | exact: False | approximate: True  | maxdiff: 9.313225746154785e-10\n"
     ]
    }
   ],
   "source": [
    "# backward pass\n",
    "\n",
    "# before we had:\n",
    "# dbnraw = bngain * dhpreact\n",
    "# dbndiff = bnvar_inv * dbnraw\n",
    "# dbnvar_inv = (bndiff * dbnraw).sum(0, keepdim=True)\n",
    "# dbnvar = (-0.5*(bnvar + 1e-5)**-1.5) * dbnvar_inv\n",
    "# dbndiff2 = (1.0/(n-1))*torch.ones_like(bndiff2) * dbnvar\n",
    "# dbndiff += (2*bndiff) * dbndiff2\n",
    "# dhprebn = dbndiff.clone()\n",
    "# dbnmeani = (-dbndiff).sum(0)\n",
    "# dhprebn += 1.0/n * (torch.ones_like(hprebn) * dbnmeani)\n",
    "\n",
    "# calculate dhprebn given dhpreact (i.e. backprop through the batchnorm)\n",
    "# (you'll also need to use some of the variables from the forward pass up above)\n",
    "\n",
    "# -----------------\n",
    "# YOUR CODE HERE :)\n",
    "\n",
    "dhprebn = bngain*bnvar_inv/n * (n*dhpreact - dhpreact.sum(0) - n/(n-1)*bnraw*(dhpreact*bnraw).sum(0))\n",
    "# -----------------\n",
    "\n",
    "cmp('hprebn', dhprebn, hprebn) # I can only get approximate to be true, my maxdiff is 9e-10"
   ]
  },
  {
   "cell_type": "code",
   "execution_count": null,
   "metadata": {
    "id": "wPy8DhqB8PPz"
   },
   "outputs": [],
   "source": [
    "# Exercise 4: putting it all together!\n",
    "# Train the MLP neural net with your own backward pass\n",
    "\n",
    "# init\n",
    "n_embd = 10 # the dimensionality of the character embedding vectors\n",
    "n_hidden = 200 # the number of neurons in the hidden layer of the MLP\n",
    "\n",
    "g = torch.Generator().manual_seed(2147483647) # for reproducibility\n",
    "C  = torch.randn((vocab_size, n_embd),            generator=g)\n",
    "# Layer 1\n",
    "W1 = torch.randn((n_embd * block_size, n_hidden), generator=g) * (5/3)/((n_embd * block_size)**0.5)\n",
    "b1 = torch.randn(n_hidden,                        generator=g) * 0.1\n",
    "# Layer 2\n",
    "W2 = torch.randn((n_hidden, vocab_size),          generator=g) * 0.1\n",
    "b2 = torch.randn(vocab_size,                      generator=g) * 0.1\n",
    "# BatchNorm parameters\n",
    "bngain = torch.randn((1, n_hidden))*0.1 + 1.0\n",
    "bnbias = torch.randn((1, n_hidden))*0.1\n",
    "\n",
    "parameters = [C, W1, b1, W2, b2, bngain, bnbias]\n",
    "print(sum(p.nelement() for p in parameters)) # number of parameters in total\n",
    "for p in parameters:\n",
    "  p.requires_grad = True\n",
    "\n",
    "# same optimization as last time\n",
    "max_steps = 200000\n",
    "batch_size = 32\n",
    "n = batch_size # convenience\n",
    "lossi = []\n",
    "\n",
    "# use this context manager for efficiency once your backward pass is written (TODO)\n",
    "#with torch.no_grad():\n",
    "\n",
    "# kick off optimization\n",
    "for i in range(max_steps):\n",
    "\n",
    "  # minibatch construct\n",
    "  ix = torch.randint(0, Xtr.shape[0], (batch_size,), generator=g)\n",
    "  Xb, Yb = Xtr[ix], Ytr[ix] # batch X,Y\n",
    "\n",
    "  # forward pass\n",
    "  emb = C[Xb] # embed the characters into vectors\n",
    "  embcat = emb.view(emb.shape[0], -1) # concatenate the vectors\n",
    "  # Linear layer\n",
    "  hprebn = embcat @ W1 + b1 # hidden layer pre-activation\n",
    "  # BatchNorm layer\n",
    "  # -------------------------------------------------------------\n",
    "  bnmean = hprebn.mean(0, keepdim=True)\n",
    "  bnvar = hprebn.var(0, keepdim=True, unbiased=True)\n",
    "  bnvar_inv = (bnvar + 1e-5)**-0.5\n",
    "  bnraw = (hprebn - bnmean) * bnvar_inv\n",
    "  hpreact = bngain * bnraw + bnbias\n",
    "  # -------------------------------------------------------------\n",
    "  # Non-linearity\n",
    "  h = torch.tanh(hpreact) # hidden layer\n",
    "  logits = h @ W2 + b2 # output layer\n",
    "  loss = F.cross_entropy(logits, Yb) # loss function\n",
    "\n",
    "  # backward pass\n",
    "  for p in parameters:\n",
    "    p.grad = None\n",
    "  loss.backward() # use this for correctness comparisons, delete it later!\n",
    "\n",
    "  # manual backprop! #swole_doge_meme\n",
    "  # -----------------\n",
    "  # YOUR CODE HERE :)\n",
    "  dC, dW1, db1, dW2, db2, dbngain, dbnbias = None, None, None, None, None, None, None\n",
    "  grads = [dC, dW1, db1, dW2, db2, dbngain, dbnbias]\n",
    "  # -----------------\n",
    "\n",
    "  # update\n",
    "  lr = 0.1 if i < 100000 else 0.01 # step learning rate decay\n",
    "  for p, grad in zip(parameters, grads):\n",
    "    p.data += -lr * p.grad # old way of cheems doge (using PyTorch grad from .backward())\n",
    "    #p.data += -lr * grad # new way of swole doge TODO: enable\n",
    "\n",
    "  # track stats\n",
    "  if i % 10000 == 0: # print every once in a while\n",
    "    print(f'{i:7d}/{max_steps:7d}: {loss.item():.4f}')\n",
    "  lossi.append(loss.log10().item())\n",
    "\n",
    "  if i >= 100: # TODO: delete early breaking when you're ready to train the full net\n",
    "    break"
   ]
  },
  {
   "cell_type": "code",
   "execution_count": null,
   "metadata": {
    "id": "ZEpI0hMW8PPz"
   },
   "outputs": [],
   "source": [
    "# useful for checking your gradients\n",
    "# for p,g in zip(parameters, grads):\n",
    "#   cmp(str(tuple(p.shape)), g, p)"
   ]
  },
  {
   "cell_type": "code",
   "execution_count": null,
   "metadata": {
    "id": "KImLWNoh8PP0"
   },
   "outputs": [],
   "source": [
    "# calibrate the batch norm at the end of training\n",
    "\n",
    "with torch.no_grad():\n",
    "  # pass the training set through\n",
    "  emb = C[Xtr]\n",
    "  embcat = emb.view(emb.shape[0], -1)\n",
    "  hpreact = embcat @ W1 + b1\n",
    "  # measure the mean/std over the entire training set\n",
    "  bnmean = hpreact.mean(0, keepdim=True)\n",
    "  bnvar = hpreact.var(0, keepdim=True, unbiased=True)\n"
   ]
  },
  {
   "cell_type": "code",
   "execution_count": null,
   "metadata": {
    "id": "6aFnP_Zc8PP0"
   },
   "outputs": [],
   "source": [
    "# evaluate train and val loss\n",
    "\n",
    "@torch.no_grad() # this decorator disables gradient tracking\n",
    "def split_loss(split):\n",
    "  x,y = {\n",
    "    'train': (Xtr, Ytr),\n",
    "    'val': (Xdev, Ydev),\n",
    "    'test': (Xte, Yte),\n",
    "  }[split]\n",
    "  emb = C[x] # (N, block_size, n_embd)\n",
    "  embcat = emb.view(emb.shape[0], -1) # concat into (N, block_size * n_embd)\n",
    "  hpreact = embcat @ W1 + b1\n",
    "  hpreact = bngain * (hpreact - bnmean) * (bnvar + 1e-5)**-0.5 + bnbias\n",
    "  h = torch.tanh(hpreact) # (N, n_hidden)\n",
    "  logits = h @ W2 + b2 # (N, vocab_size)\n",
    "  loss = F.cross_entropy(logits, y)\n",
    "  print(split, loss.item())\n",
    "\n",
    "split_loss('train')\n",
    "split_loss('val')"
   ]
  },
  {
   "cell_type": "code",
   "execution_count": null,
   "metadata": {
    "id": "esWqmhyj8PP1"
   },
   "outputs": [],
   "source": [
    "# I achieved:\n",
    "# train 2.0718822479248047\n",
    "# val 2.1162495613098145"
   ]
  },
  {
   "cell_type": "code",
   "execution_count": null,
   "metadata": {
    "id": "xHeQNv3s8PP1"
   },
   "outputs": [],
   "source": [
    "# sample from the model\n",
    "g = torch.Generator().manual_seed(2147483647 + 10)\n",
    "\n",
    "for _ in range(20):\n",
    "\n",
    "    out = []\n",
    "    context = [0] * block_size # initialize with all ...\n",
    "    while True:\n",
    "      # forward pass\n",
    "      emb = C[torch.tensor([context])] # (1,block_size,d)\n",
    "      embcat = emb.view(emb.shape[0], -1) # concat into (N, block_size * n_embd)\n",
    "      hpreact = embcat @ W1 + b1\n",
    "      hpreact = bngain * (hpreact - bnmean) * (bnvar + 1e-5)**-0.5 + bnbias\n",
    "      h = torch.tanh(hpreact) # (N, n_hidden)\n",
    "      logits = h @ W2 + b2 # (N, vocab_size)\n",
    "      # sample\n",
    "      probs = F.softmax(logits, dim=1)\n",
    "      ix = torch.multinomial(probs, num_samples=1, generator=g).item()\n",
    "      context = context[1:] + [ix]\n",
    "      out.append(ix)\n",
    "      if ix == 0:\n",
    "        break\n",
    "\n",
    "    print(''.join(itos[i] for i in out))"
   ]
  }
 ],
 "metadata": {
  "colab": {
   "provenance": []
  },
  "kernelspec": {
   "display_name": "Python 3 (ipykernel)",
   "language": "python",
   "name": "python3"
  },
  "language_info": {
   "codemirror_mode": {
    "name": "ipython",
    "version": 3
   },
   "file_extension": ".py",
   "mimetype": "text/x-python",
   "name": "python",
   "nbconvert_exporter": "python",
   "pygments_lexer": "ipython3",
   "version": "3.11.7"
  }
 },
 "nbformat": 4,
 "nbformat_minor": 4
}
