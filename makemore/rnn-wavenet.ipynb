{
 "cells": [
  {
   "cell_type": "code",
   "execution_count": 1,
   "id": "4af1d047-ae27-417e-b13d-09e8c21a0a01",
   "metadata": {
    "tags": []
   },
   "outputs": [
    {
     "name": "stdout",
     "output_type": "stream",
     "text": [
      "Using device: cuda\n",
      "Number of CUDA devices: 1\n",
      "Current device ID: 0\n",
      "Device name: NVIDIA RTX A4000\n",
      "Device properties: _CudaDeviceProperties(name='NVIDIA RTX A4000', major=8, minor=6, total_memory=16108MB, multi_processor_count=48)\n",
      "Memory allocated: 0\n",
      "Memory reserved: 0\n"
     ]
    }
   ],
   "source": [
    "import torch\n",
    "\n",
    "# 1. Define a device variable. If a GPU is available, use it.\n",
    "device = torch.device(\"cuda\" if torch.cuda.is_available() else \"cpu\")\n",
    "print(f\"Using device: {device}\")\n",
    "\n",
    "import torch\n",
    "\n",
    "# Check if CUDA is available\n",
    "if torch.cuda.is_available():\n",
    "    # Get the number of available CUDA devices\n",
    "    num_devices = torch.cuda.device_count()\n",
    "    print(\"Number of CUDA devices:\", num_devices)\n",
    "\n",
    "    # Get information about the current device\n",
    "    current_device_id = torch.cuda.current_device()\n",
    "    print(\"Current device ID:\", current_device_id)\n",
    "\n",
    "    # Get the name of the current device\n",
    "    device_name = torch.cuda.get_device_name(current_device_id)\n",
    "    print(\"Device name:\", device_name)\n",
    "\n",
    "    # Get detailed device properties\n",
    "    device_props = torch.cuda.get_device_properties(current_device_id)\n",
    "    print(\"Device properties:\", device_props)\n",
    "\n",
    "    # Get memory information\n",
    "    memory_allocated = torch.cuda.memory_allocated(current_device_id)\n",
    "    memory_reserved = torch.cuda.memory_reserved(current_device_id)\n",
    "    print(\"Memory allocated:\", memory_allocated)\n",
    "    print(\"Memory reserved:\", memory_reserved)\n",
    "else:\n",
    "    print(\"CUDA is not available.\")"
   ]
  },
  {
   "cell_type": "code",
   "execution_count": 2,
   "id": "5f49ff06-76d3-4efd-9404-68f255a87337",
   "metadata": {
    "tags": []
   },
   "outputs": [
    {
     "name": "stdout",
     "output_type": "stream",
     "text": [
      "Mon Feb 17 01:35:16 2025       \n",
      "+-----------------------------------------------------------------------------+\n",
      "| NVIDIA-SMI 525.116.04   Driver Version: 525.116.04   CUDA Version: 12.0     |\n",
      "|-------------------------------+----------------------+----------------------+\n",
      "| GPU  Name        Persistence-M| Bus-Id        Disp.A | Volatile Uncorr. ECC |\n",
      "| Fan  Temp  Perf  Pwr:Usage/Cap|         Memory-Usage | GPU-Util  Compute M. |\n",
      "|                               |                      |               MIG M. |\n",
      "|===============================+======================+======================|\n",
      "|   0  NVIDIA RTX A4000    Off  | 00000000:00:05.0 Off |                  Off |\n",
      "| 51%   59C    P8    17W / 140W |      3MiB / 16376MiB |      0%      Default |\n",
      "|                               |                      |                  N/A |\n",
      "+-------------------------------+----------------------+----------------------+\n",
      "                                                                               \n",
      "+-----------------------------------------------------------------------------+\n",
      "| Processes:                                                                  |\n",
      "|  GPU   GI   CI        PID   Type   Process name                  GPU Memory |\n",
      "|        ID   ID                                                   Usage      |\n",
      "|=============================================================================|\n",
      "|  No running processes found                                                 |\n",
      "+-----------------------------------------------------------------------------+\n"
     ]
    }
   ],
   "source": [
    "!nvidia-smi"
   ]
  },
  {
   "cell_type": "code",
   "execution_count": 3,
   "id": "3edcde6c-7637-4f6b-94e2-3fdf9ab4d760",
   "metadata": {
    "tags": []
   },
   "outputs": [],
   "source": [
    "import torch"
   ]
  },
  {
   "cell_type": "code",
   "execution_count": 4,
   "id": "34c62727-b663-40db-8c37-5b07b017684b",
   "metadata": {
    "tags": []
   },
   "outputs": [],
   "source": [
    "# https://pytorch.org/docs/stable/nn.html\n",
    "\n",
    "\n",
    "class Linear:\n",
    "    # torch.nn.Linear(in_features, out_features, bias=True, device=None, dtype=None)[source]\n",
    "    # y = x * weight + bias\n",
    "    def __init__(self, fan_in, fan_out, bias=True, device=device):\n",
    "        self.weight = torch.randn((fan_in, fan_out), device=device) / fan_in**0.5\n",
    "        self.bias = torch.zeros(fan_out, device=device) if bias else None\n",
    "        \n",
    "    def __call__(self, x):\n",
    "        self.out = x @ self.weight\n",
    "        if self.bias is not None:\n",
    "            self.out += self.bias\n",
    "        return self.out\n",
    "    \n",
    "    def parameters(self):\n",
    "        return [self.weight] +( [] if self.bias is None else [self.bias] )\n",
    "        \n"
   ]
  },
  {
   "cell_type": "code",
   "execution_count": 5,
   "id": "61009c87-5152-4941-b8c4-ea9c17002ef8",
   "metadata": {
    "tags": []
   },
   "outputs": [],
   "source": [
    "class BatchNormId:\n",
    "    \n",
    "    def __init__(self, dim, eps=1e-5, momentum=0.1, device=device):\n",
    "        self.eps = eps\n",
    "        self.momentum = momentum\n",
    "        self.training = True # different behaviour whether you are training neural net or you are evaluating\n",
    "        \n",
    "        # params\n",
    "        self.gamma = torch.ones(dim, device=device)\n",
    "        self.beta = torch.zeros(dim, device=device)\n",
    "        \n",
    "        # buffers\n",
    "        self.running_mean = torch.zeros(dim, device=device)\n",
    "        self.running_var = torch.ones(dim, device=device)\n",
    "        \n",
    "    def __call__(self, x):\n",
    "        if self.training:\n",
    "            if x.ndim == 2:\n",
    "                dim = 0\n",
    "            if x.ndim == 3:\n",
    "                dim = (0,1)\n",
    "            xmean = x.mean(dim, keepdim=True)\n",
    "            xvar = x.var(dim, keepdim=True)\n",
    "        else:\n",
    "            xmean = self.running_mean\n",
    "            xvar = self.running_var\n",
    "        xhat = (x - xmean) / torch.sqrt(xvar + self.eps)\n",
    "        self.out = self.gamma * xhat + self.beta\n",
    "        if self.training:\n",
    "            with torch.no_grad(): # don't want pytorch to create computational graph for this\n",
    "                self.running_mean = (1 - self.momentum) * self.running_mean + self.momentum * xmean\n",
    "                self.running_var = (1 - self.momentum) * self.running_var + self.momentum * xvar\n",
    "        return self.out\n",
    "    \n",
    "    def parameters(self):\n",
    "        return [self.gamma, self.beta]\n",
    "    \n",
    "batchnorm1 = BatchNormId(100)\n",
    "batchnorm1 = BatchNormId(100, device=\"cuda\")"
   ]
  },
  {
   "cell_type": "code",
   "execution_count": 6,
   "id": "8bfad787-6f2d-4426-9699-bcb0842eb457",
   "metadata": {
    "tags": []
   },
   "outputs": [],
   "source": [
    "class Tanh:\n",
    "    def __call__(self, x):\n",
    "        self.out = torch.tanh(x)\n",
    "        return self.out\n",
    "    \n",
    "    def parameters(self):\n",
    "        return []"
   ]
  },
  {
   "cell_type": "code",
   "execution_count": 7,
   "id": "a92b0884-d9aa-4018-8a34-be3d37d1dfc1",
   "metadata": {
    "tags": []
   },
   "outputs": [],
   "source": [
    "class Embedding:\n",
    "    def __init__(self, num_embedding, embedding_dim):\n",
    "        # num_embedding=vocab_size, embedding_dim=embedding_size\n",
    "        self.weight = torch.randn((num_embedding, embedding_dim), device=device) \n",
    "        \n",
    "    def __call__(self, IX):\n",
    "        self.out = self.weight[IX]\n",
    "        return self.out\n",
    "    \n",
    "    def parameters(self):\n",
    "        return [self.weight]"
   ]
  },
  {
   "cell_type": "code",
   "execution_count": 8,
   "id": "075754cc-ef8b-4765-9b5d-4cd701d278eb",
   "metadata": {
    "tags": []
   },
   "outputs": [],
   "source": [
    "class FlattenConsecutive:\n",
    "    \n",
    "    def __init__(self, n):\n",
    "        # how many consecutive elemnts w want\n",
    "        self.n = n\n",
    "    \n",
    "    def __call__(self, x):\n",
    "        B, T, C = x.shape\n",
    "        x = x.view(B, T//self.n, C*self.n)\n",
    "        if x.shape[1] == 1:\n",
    "            x = x.squeeze(1)\n",
    "        self.out = x\n",
    "        return self.out\n",
    "    \n",
    "    def parameters(self):\n",
    "        return []"
   ]
  },
  {
   "cell_type": "code",
   "execution_count": 9,
   "id": "106702cc-48ac-4ae0-9ceb-4cb35f7bd5d0",
   "metadata": {
    "tags": []
   },
   "outputs": [],
   "source": [
    "class Sequential:\n",
    "    def __init__(self, layers):\n",
    "        self.layers = layers\n",
    "        \n",
    "    def __call__(self, x):\n",
    "        for layer in self.layers:\n",
    "            x = layer(x)\n",
    "        self.out = x\n",
    "        return self.out\n",
    "    \n",
    "    def parameters(self):\n",
    "        return [p for layer in self.layers for p in layer.parameters()]"
   ]
  },
  {
   "cell_type": "code",
   "execution_count": 10,
   "id": "e40fe313-3a41-4bdf-9aa5-5f234a49a37b",
   "metadata": {
    "tags": []
   },
   "outputs": [
    {
     "name": "stdout",
     "output_type": "stream",
     "text": [
      "{'a': 1, 'b': 2, 'c': 3, 'd': 4, 'e': 5, 'f': 6, 'g': 7, 'h': 8, 'i': 9, 'j': 10, 'k': 11, 'l': 12, 'm': 13, 'n': 14, 'o': 15, 'p': 16, 'q': 17, 'r': 18, 's': 19, 't': 20, 'u': 21, 'v': 22, 'w': 23, 'x': 24, 'y': 25, 'z': 26, '.': 0} {1: 'a', 2: 'b', 3: 'c', 4: 'd', 5: 'e', 6: 'f', 7: 'g', 8: 'h', 9: 'i', 10: 'j', 11: 'k', 12: 'l', 13: 'm', 14: 'n', 15: 'o', 16: 'p', 17: 'q', 18: 'r', 19: 's', 20: 't', 21: 'u', 22: 'v', 23: 'w', 24: 'x', 25: 'y', 26: 'z', 0: '.'}\n",
      "torch.Size([182625, 8]) torch.Size([182625])\n"
     ]
    }
   ],
   "source": [
    "hyperparams = {\n",
    "'block_size': 8,\n",
    "'embedding_size': 20,\n",
    "'hidden_layer_size': 250,\n",
    "'batch_size': 1024,\n",
    "'learning_rates_A': 0.20,\n",
    "'learning_rates_B': 0.01,\n",
    "'epochs': 200000\n",
    "}\n",
    "\n",
    "\n",
    "block_size = hyperparams['block_size']\n",
    "words = open('names.txt', 'r').read().splitlines()\n",
    "\n",
    "chars = sorted(list(set(''.join(words))))\n",
    "stoi = {s: i+1 for i, s in enumerate(chars)}\n",
    "stoi['.'] = 0\n",
    "\n",
    "itos = {i: s for s, i in stoi.items()}\n",
    "print(stoi, itos)\n",
    "\n",
    "vocab_size = len(itos.keys())\n",
    "\n",
    "def build_dataset(words):\n",
    "    X, Y = [], []\n",
    "    for w in words:\n",
    "        context = [0] * block_size\n",
    "        for ch in w + '.':\n",
    "            ix = stoi[ch]\n",
    "            X.append(context)\n",
    "            Y.append(ix)\n",
    "            #print(context, ix)\n",
    "            #print(''.join(itos[i] for i in context), '->', itos[ix])\n",
    "            context = context[1:] + [ix]\n",
    "\n",
    "    X = torch.tensor(X, device=device)\n",
    "    Y = torch.tensor(Y, device=device)\n",
    "    return X, Y\n",
    "\n",
    "import random\n",
    "random.seed(42)\n",
    "random.shuffle(words)\n",
    "n1 = int(0.8*len(words))\n",
    "n2 = int(0.9*len(words))\n",
    "\n",
    "Xtr, Ytr = build_dataset(words[:n1])\n",
    "Xval, Yval = build_dataset(words[n1:n2])\n",
    "Xte, Yte = build_dataset(words[n2:])\n",
    "\n",
    "print(Xtr.shape, Ytr.shape)\n",
    "X, Y = Xtr, Ytr"
   ]
  },
  {
   "cell_type": "code",
   "execution_count": 11,
   "id": "53cb5045-7362-4c0f-b94c-d207dca5da2c",
   "metadata": {
    "tags": []
   },
   "outputs": [
    {
     "name": "stdout",
     "output_type": "stream",
     "text": [
      "27\n"
     ]
    }
   ],
   "source": [
    "print(vocab_size)"
   ]
  },
  {
   "cell_type": "code",
   "execution_count": 22,
   "id": "b8030742-2a02-45fd-9221-e8f61edf0066",
   "metadata": {
    "tags": []
   },
   "outputs": [],
   "source": [
    "n_embed = hyperparams['embedding_size']\n",
    "n_hidden = hyperparams['hidden_layer_size']\n",
    "block_size = hyperparams['block_size']\n",
    "\n",
    "\n",
    "model = Sequential([\n",
    "    Embedding(vocab_size, n_embed), \n",
    "    FlattenConsecutive(2),  Linear(n_embed * 2, n_hidden, bias=False),  BatchNormId(n_hidden), Tanh(), \n",
    "    FlattenConsecutive(2),  Linear(n_hidden * 2, n_hidden, bias=False),  BatchNormId(n_hidden), Tanh(), \n",
    "    FlattenConsecutive(2),  Linear(n_hidden * 2, n_hidden, bias=False),  BatchNormId(n_hidden), Tanh(), \n",
    "    Linear(n_hidden, vocab_size) \n",
    "])"
   ]
  },
  {
   "cell_type": "code",
   "execution_count": 23,
   "id": "8d64f4eb-9459-4c32-9f3b-c9b1944454a6",
   "metadata": {
    "tags": []
   },
   "outputs": [
    {
     "name": "stdout",
     "output_type": "stream",
     "text": [
      "268817\n"
     ]
    }
   ],
   "source": [
    "with torch.no_grad():\n",
    "    model.layers[-1].weight *= 0.1\n",
    "    for layer in model.layers[:-1]:\n",
    "        if isinstance(layer, Linear):\n",
    "            layer.weight *= 5/3\n",
    "\n",
    "print(sum(p.nelement() for p in model.parameters()))\n",
    "for p in model.parameters():\n",
    "    p.requires_grad = True\n",
    "            "
   ]
  },
  {
   "cell_type": "code",
   "execution_count": 24,
   "id": "fa4d5c2e-6004-4d0e-a60d-18cb2c381388",
   "metadata": {
    "tags": []
   },
   "outputs": [
    {
     "data": {
      "text/plain": [
       "182625"
      ]
     },
     "execution_count": 24,
     "metadata": {},
     "output_type": "execute_result"
    }
   ],
   "source": [
    "Xtr.shape[0]"
   ]
  },
  {
   "cell_type": "code",
   "execution_count": 25,
   "id": "c2908167-6832-444a-8b37-eb29b63b120c",
   "metadata": {
    "tags": []
   },
   "outputs": [],
   "source": [
    "ix = torch.randint(0, Xtr.shape[0], (32,), device=device)\n",
    "x, y = Xtr[ix], Ytr[ix]\n",
    "logits = model(x)"
   ]
  },
  {
   "cell_type": "code",
   "execution_count": 26,
   "id": "0ed56788-77fe-4c9f-8928-1127beb87309",
   "metadata": {
    "tags": []
   },
   "outputs": [
    {
     "data": {
      "text/plain": [
       "torch.Size([32, 8, 20])"
      ]
     },
     "execution_count": 26,
     "metadata": {},
     "output_type": "execute_result"
    }
   ],
   "source": [
    "model.layers[0].out.shape"
   ]
  },
  {
   "cell_type": "code",
   "execution_count": 27,
   "id": "92c23635-1f96-47e2-8776-701d8311d233",
   "metadata": {
    "tags": []
   },
   "outputs": [
    {
     "name": "stdout",
     "output_type": "stream",
     "text": [
      "Embedding : (32, 8, 20)\n",
      "FlattenConsecutive : (32, 4, 40)\n",
      "Linear : (32, 4, 250)\n",
      "BatchNormId : (32, 4, 250)\n",
      "Tanh : (32, 4, 250)\n",
      "FlattenConsecutive : (32, 2, 500)\n",
      "Linear : (32, 2, 250)\n",
      "BatchNormId : (32, 2, 250)\n",
      "Tanh : (32, 2, 250)\n",
      "FlattenConsecutive : (32, 500)\n",
      "Linear : (32, 250)\n",
      "BatchNormId : (32, 250)\n",
      "Tanh : (32, 250)\n",
      "Linear : (32, 27)\n"
     ]
    }
   ],
   "source": [
    "for layer in model.layers:\n",
    "    print(layer.__class__.__name__, ':', tuple(layer.out.shape))"
   ]
  },
  {
   "cell_type": "code",
   "execution_count": 28,
   "id": "55e6aabd-ed7b-4586-9f20-171a3edccc8b",
   "metadata": {},
   "outputs": [
    {
     "data": {
      "text/plain": [
       "torch.Size([64])"
      ]
     },
     "execution_count": 28,
     "metadata": {},
     "output_type": "execute_result"
    }
   ],
   "source": [
    "torch.randn(32, 8, 64).mean((0,1), keepdim=True).squeeze().shape"
   ]
  },
  {
   "cell_type": "code",
   "execution_count": 29,
   "id": "5f0b3e8c-1866-4ace-8710-a9c4282f9253",
   "metadata": {
    "tags": []
   },
   "outputs": [
    {
     "name": "stdout",
     "output_type": "stream",
     "text": [
      "0/200000: train loss = 3.3, validation loss = 3.24\n",
      "1000/200000: train loss = 2.17, validation loss = 2.15\n",
      "2000/200000: train loss = 2.08, validation loss = 2.09\n",
      "3000/200000: train loss = 1.97, validation loss = 2.06\n",
      "4000/200000: train loss = 1.89, validation loss = 2.06\n",
      "5000/200000: train loss = 1.95, validation loss = 2.03\n",
      "6000/200000: train loss = 1.96, validation loss = 2.02\n",
      "7000/200000: train loss = 1.87, validation loss = 2.01\n",
      "8000/200000: train loss = 1.81, validation loss = 2.02\n",
      "9000/200000: train loss = 1.86, validation loss = 2.02\n",
      "10000/200000: train loss = 1.9, validation loss = 2.01\n",
      "11000/200000: train loss = 1.78, validation loss = 1.99\n",
      "12000/200000: train loss = 1.77, validation loss = 1.99\n"
     ]
    },
    {
     "ename": "KeyboardInterrupt",
     "evalue": "",
     "output_type": "error",
     "traceback": [
      "\u001b[0;31m---------------------------------------------------------------------------\u001b[0m",
      "\u001b[0;31mKeyboardInterrupt\u001b[0m                         Traceback (most recent call last)",
      "Cell \u001b[0;32mIn[29], line 14\u001b[0m\n\u001b[1;32m     10\u001b[0m     x, Y_batch \u001b[38;5;241m=\u001b[39m X[indexes], Y[indexes]\n\u001b[1;32m     11\u001b[0m \u001b[38;5;66;03m#    x = C[X_batch].view(-1, 30)\u001b[39;00m\n\u001b[1;32m     12\u001b[0m \n\u001b[1;32m     13\u001b[0m     \u001b[38;5;66;03m# forward pass\u001b[39;00m\n\u001b[0;32m---> 14\u001b[0m     logits \u001b[38;5;241m=\u001b[39m \u001b[43mmodel\u001b[49m\u001b[43m(\u001b[49m\u001b[43mx\u001b[49m\u001b[43m)\u001b[49m\n\u001b[1;32m     15\u001b[0m     loss \u001b[38;5;241m=\u001b[39m torch\u001b[38;5;241m.\u001b[39mnn\u001b[38;5;241m.\u001b[39mfunctional\u001b[38;5;241m.\u001b[39mcross_entropy(logits, Y_batch)\n\u001b[1;32m     18\u001b[0m     \u001b[38;5;66;03m# backward pass\u001b[39;00m\n",
      "Cell \u001b[0;32mIn[9], line 7\u001b[0m, in \u001b[0;36mSequential.__call__\u001b[0;34m(self, x)\u001b[0m\n\u001b[1;32m      5\u001b[0m \u001b[38;5;28;01mdef\u001b[39;00m \u001b[38;5;21m__call__\u001b[39m(\u001b[38;5;28mself\u001b[39m, x):\n\u001b[1;32m      6\u001b[0m     \u001b[38;5;28;01mfor\u001b[39;00m layer \u001b[38;5;129;01min\u001b[39;00m \u001b[38;5;28mself\u001b[39m\u001b[38;5;241m.\u001b[39mlayers:\n\u001b[0;32m----> 7\u001b[0m         x \u001b[38;5;241m=\u001b[39m \u001b[43mlayer\u001b[49m\u001b[43m(\u001b[49m\u001b[43mx\u001b[49m\u001b[43m)\u001b[49m\n\u001b[1;32m      8\u001b[0m     \u001b[38;5;28mself\u001b[39m\u001b[38;5;241m.\u001b[39mout \u001b[38;5;241m=\u001b[39m x\n\u001b[1;32m      9\u001b[0m     \u001b[38;5;28;01mreturn\u001b[39;00m \u001b[38;5;28mself\u001b[39m\u001b[38;5;241m.\u001b[39mout\n",
      "\u001b[0;31mKeyboardInterrupt\u001b[0m: "
     ]
    }
   ],
   "source": [
    "max_steps = hyperparams['epochs']\n",
    "batch_size = hyperparams['batch_size']\n",
    "lossi, vlossi = [], []\n",
    "\n",
    "for layer in model.layers:\n",
    "    layer.training = True\n",
    "    \n",
    "for i in range(max_steps):\n",
    "    indexes  = torch.randint(0, X.shape[0], (batch_size, ), device=device)\n",
    "    x, Y_batch = X[indexes], Y[indexes]\n",
    "#    x = C[X_batch].view(-1, 30)\n",
    "\n",
    "    # forward pass\n",
    "    logits = model(x)\n",
    "    loss = torch.nn.functional.cross_entropy(logits, Y_batch)\n",
    "\n",
    "    \n",
    "    # backward pass\n",
    "    for p in model.parameters():\n",
    "        p.grad = None\n",
    "    loss.backward()\n",
    "    \n",
    "    # update simple SGD\n",
    "    lr = 0.1 if i < 10000 else 0.01\n",
    "    with torch.no_grad():\n",
    "        for p in model.parameters():\n",
    "            p -= lr * p.grad\n",
    "    \n",
    "\n",
    "    lossi.append(loss.log10().item())\n",
    "    \n",
    "    if i % 1000 == 0:\n",
    "        \n",
    "        validation_loss = split_loss('val')\n",
    "        vlossi.append(validation_loss.log10().item())\n",
    "        print(f\"{i}/{max_steps}: train loss = {loss.item():.3}, validation loss = {validation_loss.item():.3}\")\n",
    "    "
   ]
  },
  {
   "cell_type": "code",
   "execution_count": 109,
   "id": "40b162ee-0824-4aa6-ab81-1f92c1701166",
   "metadata": {
    "tags": []
   },
   "outputs": [
    {
     "data": {
      "text/plain": [
       "tensor([12, 12,  2, 19,  0,  5, 15, 25, 15,  1, 20,  9,  0,  0,  5,  0, 21,  1,\n",
       "        13,  5,  0, 18, 15,  0,  0,  6,  9, 13, 12,  2,  0,  8],\n",
       "       device='cuda:0')"
      ]
     },
     "execution_count": 109,
     "metadata": {},
     "output_type": "execute_result"
    }
   ],
   "source": [
    "Y_batch"
   ]
  },
  {
   "cell_type": "code",
   "execution_count": 34,
   "id": "ae407b9f-b825-4f2a-91cd-48b16a90883a",
   "metadata": {
    "tags": []
   },
   "outputs": [
    {
     "data": {
      "text/plain": [
       "[<matplotlib.lines.Line2D at 0x7f39a2661e50>]"
      ]
     },
     "execution_count": 34,
     "metadata": {},
     "output_type": "execute_result"
    },
    {
     "data": {
      "image/png": "[encoded data removed]",
      "text/plain": [
       "<Figure size 640x480 with 1 Axes>"
      ]
     },
     "metadata": {},
     "output_type": "display_data"
    }
   ],
   "source": [
    "from matplotlib import pyplot as plt\n",
    "plt.plot(10 ** torch.tensor(lossi)[:12000].view(-1, 20).mean(1)[1:])"
   ]
  },
  {
   "cell_type": "code",
   "execution_count": 40,
   "id": "e428fe18-5453-46f7-8eab-02402c4b8050",
   "metadata": {
    "tags": []
   },
   "outputs": [
    {
     "data": {
      "text/plain": [
       "[<matplotlib.lines.Line2D at 0x7f39a23a3410>]"
      ]
     },
     "execution_count": 40,
     "metadata": {},
     "output_type": "execute_result"
    },
    {
     "data": {
      "image/png": "[encoded data removed]",
      "text/plain": [
       "<Figure size 640x480 with 1 Axes>"
      ]
     },
     "metadata": {},
     "output_type": "display_data"
    }
   ],
   "source": [
    "plt.plot(10**torch.tensor(vlossi))"
   ]
  },
  {
   "cell_type": "code",
   "execution_count": 36,
   "id": "bcd7fca0-948f-476a-bd8a-121fe904b4fa",
   "metadata": {
    "tags": []
   },
   "outputs": [],
   "source": [
    "import torch\n",
    "@torch.no_grad()\n",
    "def split_loss(split):\n",
    "    x,y = {\n",
    "        'train': (Xtr, Ytr),\n",
    "        'val': (Xval, Yval),\n",
    "        'test': (Xte, Yte)\n",
    "    }[split]\n",
    "    logits = model(x)\n",
    "    loss = torch.nn.functional.cross_entropy(logits,y)\n",
    "    return loss"
   ]
  },
  {
   "cell_type": "code",
   "execution_count": 37,
   "id": "7e708200-4b2a-4a1b-b792-566b5c90fe5d",
   "metadata": {
    "tags": []
   },
   "outputs": [
    {
     "name": "stdout",
     "output_type": "stream",
     "text": [
      "tensor(1.7624, device='cuda:0')\n",
      "tensor(1.9939, device='cuda:0')\n"
     ]
    }
   ],
   "source": [
    "print(split_loss('train'))\n",
    "print(split_loss('val'))"
   ]
  },
  {
   "cell_type": "code",
   "execution_count": 38,
   "id": "955f9498-70bb-4c5b-b732-8d493d0b142c",
   "metadata": {
    "tags": []
   },
   "outputs": [
    {
     "name": "stdout",
     "output_type": "stream",
     "text": [
      "xyaire.\n",
      "grick.\n",
      "dusto.\n",
      "jovee.\n",
      "caesirh.\n",
      "shenix.\n",
      "hawaton.\n",
      "areliz.\n",
      "kiers.\n",
      "layla.\n",
      "evamadel.\n",
      "oatie.\n",
      "samanyah.\n",
      "kobi.\n",
      "kyziree.\n",
      "laken.\n",
      "khara.\n",
      "arisley.\n",
      "jamoni.\n",
      "britt.\n"
     ]
    }
   ],
   "source": [
    "for layer in model.layers:\n",
    "    layer.training = False\n",
    "\n",
    "for _ in range(20):\n",
    "    out = []\n",
    "    context = [0] * block_size\n",
    "    while True:\n",
    "        logits = model(torch.tensor([context]))\n",
    "        probs = torch.nn.functional.softmax(logits, dim=1)\n",
    "        \n",
    "        ix = torch.multinomial(probs, num_samples=1).item()\n",
    "        \n",
    "        context = context[1:] + [ix]\n",
    "        out.append(ix)\n",
    "        if ix == 0:\n",
    "            break\n",
    "        \n",
    "    print(''.join(itos[i] for i in out))\n"
   ]
  },
  {
   "cell_type": "code",
   "execution_count": 175,
   "id": "31d47f52-f807-449f-9acf-8861cc89bda9",
   "metadata": {
    "tags": []
   },
   "outputs": [
    {
     "data": {
      "text/plain": [
       "torch.Size([32, 27])"
      ]
     },
     "execution_count": 175,
     "metadata": {},
     "output_type": "execute_result"
    }
   ],
   "source": [
    "logits.shape"
   ]
  },
  {
   "cell_type": "code",
   "execution_count": 173,
   "id": "bbe41820-0b2d-4c9e-92a6-d52fa0c1e433",
   "metadata": {
    "tags": []
   },
   "outputs": [
    {
     "data": {
      "text/plain": [
       "4"
      ]
     },
     "execution_count": 173,
     "metadata": {},
     "output_type": "execute_result"
    }
   ],
   "source": [
    "2+2"
   ]
  },
  {
   "cell_type": "code",
   "execution_count": 44,
   "id": "dd0aea0f-fc5a-4237-923c-892b925ba336",
   "metadata": {
    "tags": []
   },
   "outputs": [
    {
     "data": {
      "image/png": "[encoded data removed]",
      "text/plain": [
       "<Figure size 1000x600 with 1 Axes>"
      ]
     },
     "metadata": {},
     "output_type": "display_data"
    }
   ],
   "source": [
    "import matplotlib.pyplot as plt\n",
    "\n",
    "# Names of the models/architectures\n",
    "architectures = [\n",
    "    \"Random Guess\",\n",
    "    \"Bigram\",\n",
    "    \"MLP\",\n",
    "    \"MLP Tuned\",\n",
    "    \"MLP Norm\",\n",
    "    \"MLP Norm+Tuned\",\n",
    "    \"Wavenet\"\n",
    "]\n",
    "\n",
    "# Their corresponding eval cross-entropy losses\n",
    "losses = [3.29, 2.48, 2.36, 2.19, 2.11, 2.03, 1.99]\n",
    "\n",
    "# Create the bar chart\n",
    "plt.figure(figsize=(10, 6))\n",
    "bars = plt.bar(architectures, losses, color='skyblue')\n",
    "\n",
    "plt.xlabel(\"Architecture\")\n",
    "plt.ylabel(\"Eval Cross-Entropy Loss\")\n",
    "plt.title(\"Makemore: Eval Cross-Entropy Losses on words.txt\")\n",
    "plt.ylim(1.5, 3.5)\n",
    "\n",
    "# Optionally, annotate each bar with its loss value\n",
    "for bar, loss in zip(bars, losses):\n",
    "    yval = bar.get_height()\n",
    "    plt.text(bar.get_x() + bar.get_width() / 2, yval + 0.02, f'{loss:.2f}', \n",
    "             ha='center', va='bottom')\n",
    "\n",
    "plt.show()\n"
   ]
  },
  {
   "cell_type": "code",
   "execution_count": null,
   "id": "ee203b4e-b6dc-453f-95f6-67eac2352be4",
   "metadata": {},
   "outputs": [],
   "source": []
  }
 ],
 "metadata": {
  "kernelspec": {
   "display_name": "Python 3 (ipykernel)",
   "language": "python",
   "name": "python3"
  },
  "language_info": {
   "codemirror_mode": {
    "name": "ipython",
    "version": 3
   },
   "file_extension": ".py",
   "mimetype": "text/x-python",
   "name": "python",
   "nbconvert_exporter": "python",
   "pygments_lexer": "ipython3",
   "version": "3.11.7"
  }
 },
 "nbformat": 4,
 "nbformat_minor": 5
}
