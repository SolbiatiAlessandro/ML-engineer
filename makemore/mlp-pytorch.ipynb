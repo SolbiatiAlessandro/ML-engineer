{
 "cells": [
  {
   "cell_type": "code",
   "execution_count": 41,
   "id": "4af1d047-ae27-417e-b13d-09e8c21a0a01",
   "metadata": {
    "tags": []
   },
   "outputs": [
    {
     "name": "stdout",
     "output_type": "stream",
     "text": [
      "Using device: cuda\n",
      "Number of CUDA devices: 1\n",
      "Current device ID: 0\n",
      "Device name: Quadro P5000\n",
      "Device properties: _CudaDeviceProperties(name='Quadro P5000', major=6, minor=1, total_memory=16272MB, multi_processor_count=20)\n",
      "Memory allocated: 9728\n",
      "Memory reserved: 2097152\n"
     ]
    }
   ],
   "source": [
    "import torch\n",
    "\n",
    "# 1. Define a device variable. If a GPU is available, use it.\n",
    "device = torch.device(\"cuda\" if torch.cuda.is_available() else \"cpu\")\n",
    "print(f\"Using device: {device}\")\n",
    "\n",
    "import torch\n",
    "\n",
    "# Check if CUDA is available\n",
    "if torch.cuda.is_available():\n",
    "    # Get the number of available CUDA devices\n",
    "    num_devices = torch.cuda.device_count()\n",
    "    print(\"Number of CUDA devices:\", num_devices)\n",
    "\n",
    "    # Get information about the current device\n",
    "    current_device_id = torch.cuda.current_device()\n",
    "    print(\"Current device ID:\", current_device_id)\n",
    "\n",
    "    # Get the name of the current device\n",
    "    device_name = torch.cuda.get_device_name(current_device_id)\n",
    "    print(\"Device name:\", device_name)\n",
    "\n",
    "    # Get detailed device properties\n",
    "    device_props = torch.cuda.get_device_properties(current_device_id)\n",
    "    print(\"Device properties:\", device_props)\n",
    "\n",
    "    # Get memory information\n",
    "    memory_allocated = torch.cuda.memory_allocated(current_device_id)\n",
    "    memory_reserved = torch.cuda.memory_reserved(current_device_id)\n",
    "    print(\"Memory allocated:\", memory_allocated)\n",
    "    print(\"Memory reserved:\", memory_reserved)\n",
    "else:\n",
    "    print(\"CUDA is not available.\")"
   ]
  },
  {
   "cell_type": "code",
   "execution_count": 43,
   "id": "5f49ff06-76d3-4efd-9404-68f255a87337",
   "metadata": {
    "tags": []
   },
   "outputs": [
    {
     "name": "stdout",
     "output_type": "stream",
     "text": [
      "Sat Feb 15 20:48:19 2025       \n",
      "+-----------------------------------------------------------------------------+\n",
      "| NVIDIA-SMI 525.116.04   Driver Version: 525.116.04   CUDA Version: 12.0     |\n",
      "|-------------------------------+----------------------+----------------------+\n",
      "| GPU  Name        Persistence-M| Bus-Id        Disp.A | Volatile Uncorr. ECC |\n",
      "| Fan  Temp  Perf  Pwr:Usage/Cap|         Memory-Usage | GPU-Util  Compute M. |\n",
      "|                               |                      |               MIG M. |\n",
      "|===============================+======================+======================|\n",
      "|   0  Quadro P5000        Off  | 00000000:00:05.0 Off |                  Off |\n",
      "| 26%   38C    P0    36W / 180W |    142MiB / 16384MiB |      0%      Default |\n",
      "|                               |                      |                  N/A |\n",
      "+-------------------------------+----------------------+----------------------+\n",
      "                                                                               \n",
      "+-----------------------------------------------------------------------------+\n",
      "| Processes:                                                                  |\n",
      "|  GPU   GI   CI        PID   Type   Process name                  GPU Memory |\n",
      "|        ID   ID                                                   Usage      |\n",
      "|=============================================================================|\n",
      "+-----------------------------------------------------------------------------+\n",
      "WARNING: infoROM is corrupted at gpu 0000:00:05.0\n"
     ]
    }
   ],
   "source": [
    "!nvidia-smi"
   ]
  },
  {
   "cell_type": "code",
   "execution_count": 7,
   "id": "3edcde6c-7637-4f6b-94e2-3fdf9ab4d760",
   "metadata": {
    "execution": {
     "iopub.execute_input": "2025-02-15T19:48:59.175383Z",
     "iopub.status.busy": "2025-02-15T19:48:59.174909Z",
     "iopub.status.idle": "2025-02-15T19:49:02.114333Z",
     "shell.execute_reply": "2025-02-15T19:49:02.112348Z",
     "shell.execute_reply.started": "2025-02-15T19:48:59.175341Z"
    }
   },
   "outputs": [],
   "source": [
    "import torch"
   ]
  },
  {
   "cell_type": "code",
   "execution_count": 83,
   "id": "34c62727-b663-40db-8c37-5b07b017684b",
   "metadata": {
    "tags": []
   },
   "outputs": [],
   "source": [
    "# https://pytorch.org/docs/stable/nn.html\n",
    "\n",
    "\n",
    "class Linear:\n",
    "    # torch.nn.Linear(in_features, out_features, bias=True, device=None, dtype=None)[source]\n",
    "    # y = x * weight + bias\n",
    "    def __init__(self, fan_in, fan_out, bias=True, device=device):\n",
    "        self.weight = torch.randn((fan_in, fan_out), device=device) / fan_in**0.5\n",
    "        self.bias = torch.zeros(fan_out, device=device) if bias else None\n",
    "        \n",
    "    def __call__(self, x):\n",
    "        self.out = x @ self.weight\n",
    "        if self.bias:\n",
    "            self.out += self.bias\n",
    "        return self.out\n",
    "    \n",
    "    def parameters(self):\n",
    "        return [self.weight] +( [] if self.bias is None else [self.bias] )\n",
    "        \n",
    "    \n",
    "linear1 = Linear(20, 100)\n",
    "linear1 = Linear(20, 100, bias=True)\n",
    "linear1 = Linear(20, 100, bias=True, device=\"cuda\")"
   ]
  },
  {
   "cell_type": "code",
   "execution_count": 84,
   "id": "61009c87-5152-4941-b8c4-ea9c17002ef8",
   "metadata": {
    "tags": []
   },
   "outputs": [],
   "source": [
    "class BatchNormId:\n",
    "    \n",
    "    def __init__(self, dim, eps=1e-5, momentum=0.1, device=device):\n",
    "        self.eps = eps\n",
    "        self.momentum = momentum\n",
    "        self.training = True # different behaviour whether you are training neural net or you are evaluating\n",
    "        \n",
    "        # params\n",
    "        self.gamma = torch.ones(dim, device=device)\n",
    "        self.beta = torch.zeros(dim, device=device)\n",
    "        \n",
    "        # buffers\n",
    "        self.running_mean = torch.zeros(dim)\n",
    "        self.running_var = torch.ones(dim)\n",
    "        \n",
    "    def __call__(self, x):\n",
    "        if self.training:\n",
    "            xmean = x.mean(0, keepdim=True)\n",
    "            xvar = x.var(0, keepdim=True)\n",
    "        else:\n",
    "            xmean = self.running_mean\n",
    "            xvar = self.runnning_var\n",
    "        xhat = (x - xmean) / torch.sqrt(xvar + self.eps)\n",
    "        self.out = self.gamma * xhat + self.beta\n",
    "        if self.training:\n",
    "            with torch.no_grad(): # don't want pytorch to create computational graph for this\n",
    "                self.running_mean = (1 - self.momentum) * self.running_mean + self.momentum * xmean\n",
    "                self.running_var = (1 - self.momentum) * self.running_var + self.momentum * xvar\n",
    "        return self.out\n",
    "    \n",
    "    def parameters(self):\n",
    "        return [self.gamma, self.beta]\n",
    "    \n",
    "batchnorm1 = BatchNormId(100)\n",
    "batchnorm1 = BatchNormId(100, device=\"cuda\")"
   ]
  },
  {
   "cell_type": "code",
   "execution_count": 85,
   "id": "8bfad787-6f2d-4426-9699-bcb0842eb457",
   "metadata": {
    "tags": []
   },
   "outputs": [],
   "source": [
    "class Tanh:\n",
    "    def __call__(self, x):\n",
    "        self,out = torch.tanh(x)\n",
    "    def parameters(self):\n",
    "        return []"
   ]
  },
  {
   "cell_type": "code",
   "execution_count": 86,
   "id": "e40fe313-3a41-4bdf-9aa5-5f234a49a37b",
   "metadata": {
    "tags": []
   },
   "outputs": [
    {
     "name": "stdout",
     "output_type": "stream",
     "text": [
      "{'a': 1, 'b': 2, 'c': 3, 'd': 4, 'e': 5, 'f': 6, 'g': 7, 'h': 8, 'i': 9, 'j': 10, 'k': 11, 'l': 12, 'm': 13, 'n': 14, 'o': 15, 'p': 16, 'q': 17, 'r': 18, 's': 19, 't': 20, 'u': 21, 'v': 22, 'w': 23, 'x': 24, 'y': 25, 'z': 26, '.': 0} {1: 'a', 2: 'b', 3: 'c', 4: 'd', 5: 'e', 6: 'f', 7: 'g', 8: 'h', 9: 'i', 10: 'j', 11: 'k', 12: 'l', 13: 'm', 14: 'n', 15: 'o', 16: 'p', 17: 'q', 18: 'r', 19: 's', 20: 't', 21: 'u', 22: 'v', 23: 'w', 24: 'x', 25: 'y', 26: 'z', 0: '.'}\n"
     ]
    }
   ],
   "source": [
    "hyperparams = {\n",
    "'block_size': 3,\n",
    "'embedding_size': 10,\n",
    "'hidden_layer_size': 100,\n",
    "'batch_size': 32,\n",
    "'learning_rates_A': 0.10,\n",
    "'learning_rates_B': 0.005,\n",
    "'epochs': 200000\n",
    "}\n",
    "\n",
    "\n",
    "\n",
    "words = open('names.txt', 'r').read().splitlines()\n",
    "\n",
    "chars = sorted(list(set(''.join(words))))\n",
    "stoi = {s: i+1 for i, s in enumerate(chars)}\n",
    "stoi['.'] = 0\n",
    "\n",
    "itos = {i: s for s, i in stoi.items()}\n",
    "print(stoi, itos)\n",
    "\n",
    "vocab_size = len(itos.keys())"
   ]
  },
  {
   "cell_type": "code",
   "execution_count": 35,
   "id": "53cb5045-7362-4c0f-b94c-d207dca5da2c",
   "metadata": {
    "tags": []
   },
   "outputs": [
    {
     "name": "stdout",
     "output_type": "stream",
     "text": [
      "27\n"
     ]
    }
   ],
   "source": [
    "print(vocab_size)"
   ]
  },
  {
   "cell_type": "code",
   "execution_count": 87,
   "id": "b8030742-2a02-45fd-9221-e8f61edf0066",
   "metadata": {},
   "outputs": [],
   "source": [
    "n_embed = hyperparams['embedding_size']\n",
    "n_hidden = hyperparams['hidden_layer_size']\n",
    "block_size = hyperparams['block_size']\n",
    "\n",
    "C = torch.randn((vocab_size, n_embed), device=device) # C is the embedding lookup table\n",
    "layers = [ Linear(n_embed * block_size, n_hidden), Tanh(), \n",
    "            Linear(n_hidden, n_hidden), Tanh(), \n",
    "            Linear(n_hidden, n_hidden), Tanh(), \n",
    "            Linear(n_hidden, n_hidden), Tanh(), \n",
    "            Linear(n_hidden, n_hidden), Tanh(), \n",
    "            Linear(n_hidden, vocab_size) ]"
   ]
  },
  {
   "cell_type": "code",
   "execution_count": 37,
   "id": "8d64f4eb-9459-4c32-9f3b-c9b1944454a6",
   "metadata": {},
   "outputs": [
    {
     "name": "stdout",
     "output_type": "stream",
     "text": [
      "46497\n"
     ]
    }
   ],
   "source": [
    "with torch.no_grad():\n",
    "    layers[-1].weight *= 0.1\n",
    "    for layer in layers[:-1]:\n",
    "        if isinstance(layer, Linear):\n",
    "            layer.weight *= 5/3\n",
    "\n",
    "parameters = [C] + [p for layer in layers for p in layer.parameters()]\n",
    "print(sum(p.nelement() for p in parameters))\n",
    "for p in parameters:\n",
    "    p.requires_grad = True\n",
    "            "
   ]
  },
  {
   "cell_type": "code",
   "execution_count": 42,
   "id": "b10915b0-44af-48f9-a6e9-82be27f88ad1",
   "metadata": {},
   "outputs": [],
   "source": [
    "def build_dataset(words):\n",
    "    X, Y = [], []\n",
    "    for w in words:\n",
    "        context = [0] * block_size\n",
    "        for ch in w + '.':\n",
    "            ix = stoi[ch]\n",
    "            X.append(context)\n",
    "            Y.append(ix)\n",
    "            #print(context, ix)\n",
    "            #print(''.join(itos[i] for i in context), '->', itos[ix])\n",
    "            context = context[1:] + [ix]\n",
    "\n",
    "    X = torch.tensor(X, device=device)\n",
    "    Y = torch.tensor(Y, device=device)\n",
    "    return X, Y\n",
    "\n",
    "import random\n",
    "random.seed(42)\n",
    "random.shuffle(words)\n",
    "n1 = int(0.8*len(words))\n",
    "n2 = int(0.9*len(words))\n",
    "\n",
    "Xtr, Ytr = build_dataset(words[:n1])\n",
    "Xval, Yval = build_dataset(words[n1:n2])\n",
    "Xte, Yte = build_dataset(words[n2:])\n"
   ]
  },
  {
   "cell_type": "code",
   "execution_count": 55,
   "id": "1e27b974-5df3-4ca2-aad7-7e6ebbc7c311",
   "metadata": {
    "tags": []
   },
   "outputs": [
    {
     "name": "stdout",
     "output_type": "stream",
     "text": [
      "torch.Size([182580, 3]) torch.Size([182580])\n"
     ]
    }
   ],
   "source": [
    "print(Xtr.shape, Ytr.shape)\n",
    "X, Y = Xtr, Ytr"
   ]
  },
  {
   "cell_type": "code",
   "execution_count": 40,
   "id": "5f0b3e8c-1866-4ace-8710-a9c4282f9253",
   "metadata": {},
   "outputs": [
    {
     "name": "stdout",
     "output_type": "stream",
     "text": [
      "Using device: cuda\n",
      "Number of CUDA devices: 1\n",
      "Current device ID: 0\n",
      "Device name: Quadro P5000\n",
      "Device properties: _CudaDeviceProperties(name='Quadro P5000', major=6, minor=1, total_memory=16272MB, multi_processor_count=20)\n",
      "Memory allocated: 9728\n",
      "Memory reserved: 2097152\n"
     ]
    }
   ],
   "source": [
    "max_steps = hyperparams['epochs']\n",
    "batch_size = hyperparams['batch_size']\n",
    "lossi = []\n",
    "\n",
    "for i in range(max_steps):\n",
    "    indexes  = torch.randint(0, X.shape[0], (batch_size, ), device=device)\n",
    "    X_batch, Y_batch = X[indexes], Y[indexes]\n",
    "    \n",
    "    X_embed = C[X_batch]"
   ]
  },
  {
   "cell_type": "code",
   "execution_count": 79,
   "id": "0260c2d1-6432-4d81-bd9e-2c922b6153b7",
   "metadata": {
    "tags": []
   },
   "outputs": [],
   "source": [
    "indexes  = torch.randint(0, X.shape[0], (batch_size, ), device=device)\n",
    "X_batch, Y_batch = X[indexes], Y[indexes]"
   ]
  },
  {
   "cell_type": "code",
   "execution_count": 89,
   "id": "fca22ecb-1c0a-4621-9727-85310ab187a8",
   "metadata": {
    "tags": []
   },
   "outputs": [
    {
     "data": {
      "text/plain": [
       "torch.Size([64, 3, 10])"
      ]
     },
     "execution_count": 89,
     "metadata": {},
     "output_type": "execute_result"
    }
   ],
   "source": [
    "C[X_batch].shape"
   ]
  },
  {
   "cell_type": "code",
   "execution_count": 90,
   "id": "f287d5b9-ec4b-470b-a672-7779ac793345",
   "metadata": {},
   "outputs": [
    {
     "data": {
      "text/plain": [
       "torch.Size([64, 3])"
      ]
     },
     "execution_count": 90,
     "metadata": {},
     "output_type": "execute_result"
    }
   ],
   "source": [
    "X_batch.shape"
   ]
  },
  {
   "cell_type": "code",
   "execution_count": 92,
   "id": "49fc5c4f-a970-4889-9d0f-5076acf7822b",
   "metadata": {
    "tags": []
   },
   "outputs": [
    {
     "data": {
      "text/plain": [
       "torch.Size([64, 30])"
      ]
     },
     "execution_count": 92,
     "metadata": {},
     "output_type": "execute_result"
    }
   ],
   "source": [
    "C[X_batch].view(-1, 30).shape"
   ]
  },
  {
   "cell_type": "code",
   "execution_count": null,
   "id": "173d5d72-7dcb-45a5-8b0b-ec4a9360010f",
   "metadata": {},
   "outputs": [],
   "source": []
  }
 ],
 "metadata": {
  "kernelspec": {
   "display_name": "Python 3 (ipykernel)",
   "language": "python",
   "name": "python3"
  },
  "language_info": {
   "codemirror_mode": {
    "name": "ipython",
    "version": 3
   },
   "file_extension": ".py",
   "mimetype": "text/x-python",
   "name": "python",
   "nbconvert_exporter": "python",
   "pygments_lexer": "ipython3",
   "version": "3.11.7"
  }
 },
 "nbformat": 4,
 "nbformat_minor": 5
}
