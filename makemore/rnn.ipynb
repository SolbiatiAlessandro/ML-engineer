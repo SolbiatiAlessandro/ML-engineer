{
 "cells": [
  {
   "cell_type": "markdown",
   "id": "5be5ecc9-168a-42a8-a329-1227d43b015a",
   "metadata": {
    "execution": {
     "iopub.execute_input": "2025-02-06T07:05:31.719275Z",
     "iopub.status.busy": "2025-02-06T07:05:31.718926Z",
     "iopub.status.idle": "2025-02-06T07:05:31.727254Z",
     "shell.execute_reply": "2025-02-06T07:05:31.726033Z",
     "shell.execute_reply.started": "2025-02-06T07:05:31.719275Z"
    }
   },
   "source": [
    "# RNN implementation"
   ]
  },
  {
   "cell_type": "markdown",
   "id": "fc2b0973-2d64-497a-a690-23afd0825c37",
   "metadata": {},
   "source": [
    "## Data Preprocessing "
   ]
  },
  {
   "cell_type": "code",
   "execution_count": 3,
   "id": "c9e9dfe8-19aa-4898-8738-a4fcb0a39f80",
   "metadata": {
    "execution": {
     "iopub.execute_input": "2025-02-08T07:14:12.695006Z",
     "iopub.status.busy": "2025-02-08T07:14:12.694696Z",
     "iopub.status.idle": "2025-02-08T07:14:12.715835Z",
     "shell.execute_reply": "2025-02-08T07:14:12.714947Z",
     "shell.execute_reply.started": "2025-02-08T07:14:12.694979Z"
    }
   },
   "outputs": [
    {
     "name": "stdout",
     "output_type": "stream",
     "text": [
      "{'a': 1, 'b': 2, 'c': 3, 'd': 4, 'e': 5, 'f': 6, 'g': 7, 'h': 8, 'i': 9, 'j': 10, 'k': 11, 'l': 12, 'm': 13, 'n': 14, 'o': 15, 'p': 16, 'q': 17, 'r': 18, 's': 19, 't': 20, 'u': 21, 'v': 22, 'w': 23, 'x': 24, 'y': 25, 'z': 26, '.': 0} {1: 'a', 2: 'b', 3: 'c', 4: 'd', 5: 'e', 6: 'f', 7: 'g', 8: 'h', 9: 'i', 10: 'j', 11: 'k', 12: 'l', 13: 'm', 14: 'n', 15: 'o', 16: 'p', 17: 'q', 18: 'r', 19: 's', 20: 't', 21: 'u', 22: 'v', 23: 'w', 24: 'x', 25: 'y', 26: 'z', 0: '.'}\n"
     ]
    }
   ],
   "source": [
    "words = open('names.txt', 'r').read().splitlines()\n",
    "\n",
    "chars = sorted(list(set(''.join(words))))\n",
    "stoi = {s: i+1 for i, s in enumerate(chars)}\n",
    "stoi['.'] = 0\n",
    "\n",
    "itos = {i: s for s, i in stoi.items()}\n",
    "print(stoi, itos)"
   ]
  },
  {
   "cell_type": "code",
   "execution_count": 4,
   "id": "18de80a1-5ea8-438d-8760-60918e85397c",
   "metadata": {
    "execution": {
     "iopub.execute_input": "2025-02-08T07:14:13.922781Z",
     "iopub.status.busy": "2025-02-08T07:14:13.922424Z",
     "iopub.status.idle": "2025-02-08T07:14:16.083647Z",
     "shell.execute_reply": "2025-02-08T07:14:16.082743Z",
     "shell.execute_reply.started": "2025-02-08T07:14:13.922758Z"
    }
   },
   "outputs": [
    {
     "name": "stdout",
     "output_type": "stream",
     "text": [
      "Using device: cuda\n",
      "Number of CUDA devices: 1\n",
      "Current device ID: 0\n",
      "Device name: Quadro P5000\n",
      "Device properties: _CudaDeviceProperties(name='Quadro P5000', major=6, minor=1, total_memory=16272MB, multi_processor_count=20)\n",
      "Memory allocated: 0\n",
      "Memory reserved: 0\n"
     ]
    }
   ],
   "source": [
    "# 1. Define a device variable. If a GPU is available, use it.\n",
    "device = torch.device(\"cuda\" if torch.cuda.is_available() else \"cpu\")\n",
    "print(f\"Using device: {device}\")\n",
    "\n",
    "import torch\n",
    "\n",
    "# Check if CUDA is available\n",
    "if torch.cuda.is_available():\n",
    "    # Get the number of available CUDA devices\n",
    "    num_devices = torch.cuda.device_count()\n",
    "    print(\"Number of CUDA devices:\", num_devices)\n",
    "\n",
    "    # Get information about the current device\n",
    "    current_device_id = torch.cuda.current_device()\n",
    "    print(\"Current device ID:\", current_device_id)\n",
    "\n",
    "    # Get the name of the current device\n",
    "    device_name = torch.cuda.get_device_name(current_device_id)\n",
    "    print(\"Device name:\", device_name)\n",
    "\n",
    "    # Get detailed device properties\n",
    "    device_props = torch.cuda.get_device_properties(current_device_id)\n",
    "    print(\"Device properties:\", device_props)\n",
    "\n",
    "    # Get memory information\n",
    "    memory_allocated = torch.cuda.memory_allocated(current_device_id)\n",
    "    memory_reserved = torch.cuda.memory_reserved(current_device_id)\n",
    "    print(\"Memory allocated:\", memory_allocated)\n",
    "    print(\"Memory reserved:\", memory_reserved)\n",
    "else:\n",
    "    print(\"CUDA is not available.\")"
   ]
  },
  {
   "cell_type": "markdown",
   "id": "eec04287-3927-499a-b695-768ec0fddd8c",
   "metadata": {
    "execution": {
     "iopub.execute_input": "2025-02-08T07:13:42.721041Z",
     "iopub.status.busy": "2025-02-08T07:13:42.720413Z",
     "iopub.status.idle": "2025-02-08T07:13:42.725055Z",
     "shell.execute_reply": "2025-02-08T07:13:42.723754Z",
     "shell.execute_reply.started": "2025-02-08T07:13:42.721014Z"
    }
   },
   "source": [
    "## Hyperparameters"
   ]
  },
  {
   "cell_type": "code",
   "execution_count": 5,
   "id": "149a211a-ea69-40da-a367-b08c3eb04b79",
   "metadata": {
    "execution": {
     "iopub.execute_input": "2025-02-08T07:14:18.816429Z",
     "iopub.status.busy": "2025-02-08T07:14:18.816095Z",
     "iopub.status.idle": "2025-02-08T07:14:18.820560Z",
     "shell.execute_reply": "2025-02-08T07:14:18.819582Z",
     "shell.execute_reply.started": "2025-02-08T07:14:18.816404Z"
    }
   },
   "outputs": [],
   "source": [
    "runs = {}"
   ]
  },
  {
   "cell_type": "code",
   "execution_count": 132,
   "id": "a053c199-cab5-4d29-9290-d25060b2f03a",
   "metadata": {
    "execution": {
     "iopub.execute_input": "2025-02-08T09:01:54.295727Z",
     "iopub.status.busy": "2025-02-08T09:01:54.295022Z",
     "iopub.status.idle": "2025-02-08T09:01:54.301328Z",
     "shell.execute_reply": "2025-02-08T09:01:54.300533Z",
     "shell.execute_reply.started": "2025-02-08T09:01:54.295678Z"
    }
   },
   "outputs": [
    {
     "name": "stdout",
     "output_type": "stream",
     "text": [
      "block_size_3__embedding_size_10__hidden_layer_size_200__batch_size_32__learning_rates_A_0.1__learning_rates_B_0.02__epochs_10000___A \n",
      " eval_loss: 2.4212, train_loss: 2.4113,  train_time: 10.90s\n",
      "block_size_3__embedding_size_10__hidden_layer_size_200__batch_size_32__learning_rates_A_0.1__learning_rates_B_0.02__epochs_1___A \n",
      " eval_loss: 27.1962, train_loss: 27.1937,  train_time: 0.01s\n"
     ]
    }
   ],
   "source": [
    "for i, v in runs.items():\n",
    "    print(f\"{i} \\n eval_loss: {v['eval_loss'].item():.4f}, train_loss: {v['train_loss'].item():.4f},  train_time: {v['time']:.2f}s\")\n",
    "    \n",
    "# 50k -> 1m\n",
    "# 10k -> 10s"
   ]
  },
  {
   "cell_type": "code",
   "execution_count": 147,
   "id": "1c94002a-6596-4c80-b369-8d20fd62be6a",
   "metadata": {
    "execution": {
     "iopub.execute_input": "2025-02-08T09:04:27.828261Z",
     "iopub.status.busy": "2025-02-08T09:04:27.827841Z",
     "iopub.status.idle": "2025-02-08T09:04:27.839107Z",
     "shell.execute_reply": "2025-02-08T09:04:27.837741Z",
     "shell.execute_reply.started": "2025-02-08T09:04:27.828226Z"
    }
   },
   "outputs": [
    {
     "data": {
      "text/plain": [
       "'block_size_3__embedding_size_10__hidden_layer_size_200__batch_size_32__learning_rates_A_0.1__learning_rates_B_0.02__epochs_10000___A'"
      ]
     },
     "execution_count": 147,
     "metadata": {},
     "output_type": "execute_result"
    }
   ],
   "source": [
    "\n",
    "hyperparams = {\n",
    "'block_size': 3,\n",
    "'embedding_size': 10,\n",
    "'hidden_layer_size': 200,\n",
    "'batch_size': 32,\n",
    "'learning_rates_A': 0.10,\n",
    "'learning_rates_B': 0.02,\n",
    "'epochs': 10000\n",
    "}\n",
    "\n",
    "\n",
    "def hyperparams_to_run_name():\n",
    "    return ''.join([f\"{k}_{v}__\" for k, v in hyperparams.items()]) + \"_A\"\n",
    "\n",
    "hyperparams_to_run_name()"
   ]
  },
  {
   "cell_type": "markdown",
   "id": "132c5cbb-5b51-4123-b87d-6948726b860a",
   "metadata": {},
   "source": [
    "## Training Data"
   ]
  },
  {
   "cell_type": "code",
   "execution_count": 148,
   "id": "4f2a5ee3-913f-4fd7-a3e3-ce2d1da64bee",
   "metadata": {
    "execution": {
     "iopub.execute_input": "2025-02-08T09:04:30.413030Z",
     "iopub.status.busy": "2025-02-08T09:04:30.412697Z",
     "iopub.status.idle": "2025-02-08T09:04:31.154264Z",
     "shell.execute_reply": "2025-02-08T09:04:31.153434Z",
     "shell.execute_reply.started": "2025-02-08T09:04:30.413008Z"
    }
   },
   "outputs": [],
   "source": [
    "import torch\n",
    "\n",
    "block_size = hyperparams['block_size']\n",
    "embedding_size = hyperparams['embedding_size']\n",
    "epochs = hyperparams['epochs']\n",
    "learning_rates = [0, 0]\n",
    "learning_rates[0] = hyperparams['learning_rates_A']\n",
    "learning_rates[1] = hyperparams['learning_rates_B']\n",
    "hidden_layer_size = hyperparams['hidden_layer_size']\n",
    "batch_size = hyperparams['batch_size']\n",
    "\n",
    "def build_dataset(words):\n",
    "    X, Y = [], []\n",
    "    for w in words:\n",
    "        context = [0] * block_size\n",
    "        for ch in w + '.':\n",
    "            ix = stoi[ch]\n",
    "            X.append(context)\n",
    "            Y.append(ix)\n",
    "            #print(context, ix)\n",
    "            #print(''.join(itos[i] for i in context), '->', itos[ix])\n",
    "            context = context[1:] + [ix]\n",
    "\n",
    "    X = torch.tensor(X, device=device)\n",
    "    Y = torch.tensor(Y, device=device)\n",
    "    return X, Y\n",
    "\n",
    "import random\n",
    "random.seed(42)\n",
    "random.shuffle(words)\n",
    "n1 = int(0.8*len(words))\n",
    "n2 = int(0.9*len(words))\n",
    "\n",
    "Xtr, Ytr = build_dataset(words[:n1])\n",
    "Xval, Yval = build_dataset(words[n1:n2])\n",
    "Xte, Yte = build_dataset(words[n2:])\n",
    "\n"
   ]
  },
  {
   "cell_type": "markdown",
   "id": "24f9ee4c-1e2d-4a4a-9fcc-9c4e8c53b297",
   "metadata": {},
   "source": [
    "## Model"
   ]
  },
  {
   "cell_type": "code",
   "execution_count": 149,
   "id": "8a0f1655-f61f-4411-bfde-55891f45083e",
   "metadata": {
    "execution": {
     "iopub.execute_input": "2025-02-08T09:04:34.140421Z",
     "iopub.status.busy": "2025-02-08T09:04:34.140004Z",
     "iopub.status.idle": "2025-02-08T09:04:34.147531Z",
     "shell.execute_reply": "2025-02-08T09:04:34.146658Z",
     "shell.execute_reply.started": "2025-02-08T09:04:34.140397Z"
    }
   },
   "outputs": [
    {
     "name": "stdout",
     "output_type": "stream",
     "text": [
      "11897\n"
     ]
    }
   ],
   "source": [
    "\n",
    "C = torch.randn((27, embedding_size), device=device)\n",
    "W1 = torch.randn((embedding_size * block_size, hidden_layer_size), device=device)\n",
    "b1 = torch.randn(hidden_layer_size, device=device)\n",
    "W2 = torch.randn((hidden_layer_size, 27), device=device)\n",
    "b2 = torch.randn(27, device=device)\n",
    "\n",
    "parameters = [C, W1, b1, W2, b2]\n",
    "\n",
    "for p in parameters:\n",
    "  p.requires_grad = True\n",
    "\n",
    "print(sum(p.nelement() for p in parameters))\n",
    "\n",
    "lri = []\n",
    "lossi = []\n",
    "lossepochs = []\n",
    "\n",
    "#logits = h @ W2 + b2\n",
    "#counts = logits.exp()\n",
    "#prob = counts / counts.sum(1, keepdims=True)\n",
    "\n",
    "#loss = -prob[torch.arange(32), Y].log().mean() \n",
    "# here the mean means we take the mean of all the losses\n",
    "# of all individual training examples\n",
    "\n",
    "#loss == F.cross_entropy(logits, Y)\n",
    "\n",
    "#lre = torch.linspace(-3, 0, 1000)\n",
    "#lrs = 10**lre`b\n",
    "#lrs.shape"
   ]
  },
  {
   "cell_type": "markdown",
   "id": "c16e463a-47ff-4dc0-9f87-afc1a79eb0d3",
   "metadata": {},
   "source": [
    "## Training\n"
   ]
  },
  {
   "cell_type": "code",
   "execution_count": 129,
   "id": "8978a884-9dad-49d1-b313-12ed797bd727",
   "metadata": {
    "execution": {
     "iopub.execute_input": "2025-02-08T09:01:37.239173Z",
     "iopub.status.busy": "2025-02-08T09:01:37.238817Z",
     "iopub.status.idle": "2025-02-08T09:01:37.252709Z",
     "shell.execute_reply": "2025-02-08T09:01:37.251245Z",
     "shell.execute_reply.started": "2025-02-08T09:01:37.239148Z"
    }
   },
   "outputs": [
    {
     "name": "stdout",
     "output_type": "stream",
     "text": [
      "torch.Size([32])\n",
      "torch.Size([182580, 3])\n",
      "torch.Size([32, 3])\n",
      "torch.Size([27, 10])\n",
      "torch.Size([32, 3, 10])\n"
     ]
    },
    {
     "data": {
      "text/plain": [
       "torch.Size([32, 30])"
      ]
     },
     "execution_count": 129,
     "metadata": {},
     "output_type": "execute_result"
    }
   ],
   "source": [
    "ix = torch.randint(0, Xtr.shape[0], (batch_size,), device=device)\n",
    "print(ix.shape)\n",
    "print(Xtr.shape)\n",
    "x = Xtr[ix]\n",
    "print(x.shape)\n",
    "print(C.shape)\n",
    "print(C[x].shape)\n",
    "emb = C[x]\n",
    "emb.view(-1,  block_size * embedding_size).shape"
   ]
  },
  {
   "cell_type": "code",
   "execution_count": 150,
   "id": "59bcf821-f36b-4693-a3ca-2317a820a760",
   "metadata": {
    "execution": {
     "iopub.execute_input": "2025-02-08T09:04:38.746406Z",
     "iopub.status.busy": "2025-02-08T09:04:38.746021Z",
     "iopub.status.idle": "2025-02-08T09:04:50.081819Z",
     "shell.execute_reply": "2025-02-08T09:04:50.080694Z",
     "shell.execute_reply.started": "2025-02-08T09:04:38.746372Z"
    }
   },
   "outputs": [
    {
     "name": "stdout",
     "output_type": "stream",
     "text": [
      "2.449280261993408\n",
      "2.4342870712280273\n"
     ]
    },
    {
     "data": {
      "image/png": "[encoded data removed]",
      "text/plain": [
       "<Figure size 1000x600 with 1 Axes>"
      ]
     },
     "metadata": {},
     "output_type": "display_data"
    }
   ],
   "source": [
    "import torch.nn.functional as F\n",
    "\n",
    "def train(learning_rate, epoch):\n",
    "    #minibatch \n",
    "    ix = torch.randint(0, Xtr.shape[0], (batch_size,), device=device)\n",
    "    \n",
    "    # forward pass|\n",
    "    emb = C[Xtr[ix]]\n",
    "    h = torch.tanh(emb.view(-1, block_size * embedding_size) @ W1 + b1)\n",
    "    logits = h @ W2 + b2\n",
    "    loss = F.cross_entropy(logits, Ytr[ix])\n",
    "    #print(loss.item())\n",
    "\n",
    "    # backward\n",
    "    for p in parameters:\n",
    "        p.grad = None\n",
    "    loss.backward()\n",
    "    for p in parameters:\n",
    "        p.data -= learning_rate * p.grad\n",
    "        \n",
    "    if epoch % 50 == 0:\n",
    "        #lri.append(lre[i].item\n",
    "        lossi.append(loss.item())\n",
    "        lossepochs.append(epoch)\n",
    "\n",
    "import time\n",
    "start_time = time.time()\n",
    "\n",
    "for i in range(int(epochs/2)):\n",
    "    train(learning_rates[0], i)\n",
    "for i in range(int(epochs/2)):\n",
    "    train(learning_rates[1], int(epochs/2)+i)\n",
    "    \n",
    "\n",
    "emb = C[Xval]\n",
    "h = torch.tanh(emb.view(-1, block_size * embedding_size) @ W1 + b1)\n",
    "logits = h @ W2 + b2\n",
    "eval_loss = F.cross_entropy(logits, Yval)\n",
    "print(eval_loss.item())\n",
    "\n",
    "emb = C[Xtr]\n",
    "h = torch.tanh(emb.view(-1, block_size * embedding_size) @ W1 + b1)\n",
    "logits = h @ W2 + b2\n",
    "train_loss = F.cross_entropy(logits, Ytr)\n",
    "print(train_loss.item())\n",
    "\n",
    "end_time = time.time()\n",
    "\n",
    "run_name = hyperparams_to_run_name()\n",
    "runs[run_name] = {'eval_loss': eval_loss, 'train_loss': train_loss, 'lossi': lossi, 'lossepochs': lossepochs, 'time': end_time - start_time }\n",
    "\n",
    "import matplotlib.pyplot as plt\n",
    "\n",
    "# Optionally, set the figure size for better visibility.\n",
    "plt.figure(figsize=(10, 6))\n",
    "\n",
    "# Plot the loss values versus epochs.\n",
    "plt.plot(lossepochs, lossi, linestyle='-', color='blue', label='Training Loss')\n",
    "\n",
    "# Add labels to the axes.\n",
    "plt.xlabel(\"Epochs\")\n",
    "plt.ylabel(\"Loss\")\n",
    "\n",
    "# Add a title to the plot.\n",
    "plt.title(\"Training Loss over Epochs\")\n",
    "\n",
    "# Add a grid for easier visualization of the values.\n",
    "plt.grid(True)\n",
    "\n",
    "# Add a legend to explain the plot elements.\n",
    "plt.legend()\n",
    "\n",
    "# Display the plot.\n",
    "plt.show()\n"
   ]
  },
  {
   "cell_type": "markdown",
   "id": "9c7058d6-8355-4229-92d2-a8e5288e8131",
   "metadata": {},
   "source": [
    "## Inference"
   ]
  },
  {
   "cell_type": "code",
   "execution_count": 151,
   "id": "dd243177-9d76-4284-bac0-5db095351d79",
   "metadata": {
    "execution": {
     "iopub.execute_input": "2025-02-08T09:05:00.062906Z",
     "iopub.status.busy": "2025-02-08T09:05:00.062524Z",
     "iopub.status.idle": "2025-02-08T09:05:00.302313Z",
     "shell.execute_reply": "2025-02-08T09:05:00.301348Z",
     "shell.execute_reply.started": "2025-02-08T09:05:00.062875Z"
    }
   },
   "outputs": [
    {
     "name": "stdout",
     "output_type": "stream",
     "text": [
      "...rrynw.\n",
      "...birou.\n",
      "...kamis.\n",
      "...annasuilo.\n",
      "...cuki.\n",
      "...dap.\n",
      "...ratiy.\n",
      "...sai.\n",
      "...dabila.\n",
      "...davinh.\n",
      "...maria.\n",
      "...harlin.\n",
      "...adistiahaner.\n",
      "...balhin.\n",
      "...caryson.\n",
      "...sarandranaldeners.\n",
      "...sadan.\n",
      "...chendierat.\n",
      "...jolan.\n",
      "...esa.\n",
      "...kamian.\n",
      "...eimariydan.\n",
      "...brase.\n",
      "...siaviklin.\n",
      "...aevoryan.\n",
      "...kasbe.\n",
      "...neralemi.\n",
      "...lal.\n",
      "...ami.\n",
      "...mael.\n",
      "...mute.\n",
      "...ainha.\n",
      "...cori.\n",
      "...jaelay.\n",
      "...zamie.\n",
      "...avannn.\n",
      "...alaysiaisa.\n",
      "...lid.\n",
      "...dvannaellynn.\n",
      "...lavee.\n",
      "...maiarire.\n",
      "...harsitkianariya.\n",
      "...krarlalyn.\n",
      "...mamirasi.\n",
      "...cairy.\n",
      "...diightzy.\n",
      "...kaisl.\n",
      "...saridirlyn.\n",
      "...kor.\n",
      "...ada.\n"
     ]
    }
   ],
   "source": [
    "@torch.no_grad()\n",
    "def inference():\n",
    "    sentence, end_token = [\".\", \".\", \".\"], False\n",
    "    while not end_token:\n",
    "        context_ixs = [stoi[x] for x in sentence[-3:]]\n",
    "        x_inference = torch.tensor(context_ixs, dtype=torch.int)\n",
    "        emb = C[x_inference]\n",
    "        final_layer = torch.tanh(emb.view(1, block_size * embedding_size) @ W1 + b1) @ W2 + b2\n",
    "        probabilities = torch.exp(final_layer) / torch.sum(torch.exp(final_layer), axis=1, keepdim=True)\n",
    "        next_letter = itos[torch.multinomial(probabilities, num_samples=1).item()]\n",
    "        sentence.append(next_letter)\n",
    "        if next_letter == '.':\n",
    "            end_token = True\n",
    "    print(''.join(sentence))\n",
    "\n",
    "for _ in range(50):\n",
    "    inference()"
   ]
  },
  {
   "cell_type": "markdown",
   "id": "f085493e-54c4-4f6f-9b56-76973d2ca027",
   "metadata": {},
   "source": [
    "# Appendix"
   ]
  },
  {
   "cell_type": "code",
   "execution_count": 40,
   "id": "eded3e7e-012a-4365-94c2-e1edc8b8f507",
   "metadata": {
    "execution": {
     "iopub.execute_input": "2025-02-06T07:21:02.507677Z",
     "iopub.status.busy": "2025-02-06T07:21:02.507460Z",
     "iopub.status.idle": "2025-02-06T07:21:02.514793Z",
     "shell.execute_reply": "2025-02-06T07:21:02.513457Z",
     "shell.execute_reply.started": "2025-02-06T07:21:02.507648Z"
    }
   },
   "outputs": [
    {
     "data": {
      "text/plain": [
       "torch.Size([32, 6])"
      ]
     },
     "execution_count": 40,
     "metadata": {},
     "output_type": "execute_result"
    }
   ],
   "source": [
    "torch.cat([emb[:, i, :] for i in range(block_size)], 1).shape"
   ]
  },
  {
   "cell_type": "code",
   "execution_count": 43,
   "id": "4defcd79-42a7-448b-85e4-b9ef5e39439d",
   "metadata": {
    "execution": {
     "iopub.execute_input": "2025-02-06T07:21:55.775863Z",
     "iopub.status.busy": "2025-02-06T07:21:55.775309Z",
     "iopub.status.idle": "2025-02-06T07:21:55.790806Z",
     "shell.execute_reply": "2025-02-06T07:21:55.789668Z",
     "shell.execute_reply.started": "2025-02-06T07:21:55.775863Z"
    }
   },
   "outputs": [
    {
     "data": {
      "text/plain": [
       "tensor([[-0.1152, -1.1897, -0.1152, -1.1897, -0.1152, -1.1897],\n",
       "        [-0.1152, -1.1897, -0.1152, -1.1897,  0.2716,  1.0055],\n",
       "        [-0.1152, -1.1897,  0.2716,  1.0055, -0.7203, -0.5304],\n",
       "        [ 0.2716,  1.0055, -0.7203, -0.5304, -0.7203, -0.5304],\n",
       "        [-0.7203, -0.5304, -0.7203, -0.5304,  0.2930,  0.3207],\n",
       "        [-0.1152, -1.1897, -0.1152, -1.1897, -0.1152, -1.1897],\n",
       "        [-0.1152, -1.1897, -0.1152, -1.1897,  1.3084,  0.0505],\n",
       "        [-0.1152, -1.1897,  1.3084,  0.0505, -0.7158,  0.4897],\n",
       "        [ 1.3084,  0.0505, -0.7158,  0.4897, -1.0853,  2.4026],\n",
       "        [-0.7158,  0.4897, -1.0853,  2.4026,  0.0674, -0.0325],\n",
       "        [-1.0853,  2.4026,  0.0674, -0.0325, -1.0853,  2.4026],\n",
       "        [ 0.0674, -0.0325, -1.0853,  2.4026,  0.2930,  0.3207],\n",
       "        [-0.1152, -1.1897, -0.1152, -1.1897, -0.1152, -1.1897],\n",
       "        [-0.1152, -1.1897, -0.1152, -1.1897,  0.2930,  0.3207],\n",
       "        [-0.1152, -1.1897,  0.2930,  0.3207,  0.0674, -0.0325],\n",
       "        [ 0.2930,  0.3207,  0.0674, -0.0325,  0.2930,  0.3207],\n",
       "        [-0.1152, -1.1897, -0.1152, -1.1897, -0.1152, -1.1897],\n",
       "        [-0.1152, -1.1897, -0.1152, -1.1897, -1.0853,  2.4026],\n",
       "        [-0.1152, -1.1897, -1.0853,  2.4026, -1.2528,  0.7178],\n",
       "        [-1.0853,  2.4026, -1.2528,  0.7178,  0.2930,  0.3207],\n",
       "        [-1.2528,  0.7178,  0.2930,  0.3207,  0.6927,  0.4057],\n",
       "        [ 0.2930,  0.3207,  0.6927,  0.4057,  0.2716,  1.0055],\n",
       "        [ 0.6927,  0.4057,  0.2716,  1.0055, -0.7158,  0.4897],\n",
       "        [ 0.2716,  1.0055, -0.7158,  0.4897, -0.7158,  0.4897],\n",
       "        [-0.7158,  0.4897, -0.7158,  0.4897,  0.2930,  0.3207],\n",
       "        [-0.1152, -1.1897, -0.1152, -1.1897, -0.1152, -1.1897],\n",
       "        [-0.1152, -1.1897, -0.1152, -1.1897, -1.2528,  0.7178],\n",
       "        [-0.1152, -1.1897, -1.2528,  0.7178,  1.3084,  0.0505],\n",
       "        [-1.2528,  0.7178,  1.3084,  0.0505,  2.0937, -0.9837],\n",
       "        [ 1.3084,  0.0505,  2.0937, -0.9837, -0.3415,  0.4138],\n",
       "        [ 2.0937, -0.9837, -0.3415,  0.4138, -1.0853,  2.4026],\n",
       "        [-0.3415,  0.4138, -1.0853,  2.4026,  0.2930,  0.3207]])"
      ]
     },
     "execution_count": 43,
     "metadata": {},
     "output_type": "execute_result"
    }
   ],
   "source": [
    "torch.cat(torch.unbind(emb, 1), 1)"
   ]
  },
  {
   "cell_type": "code",
   "execution_count": 48,
   "id": "75ff4400-1830-4f7b-b83f-14cdff53a1c6",
   "metadata": {
    "execution": {
     "iopub.execute_input": "2025-02-06T07:22:58.282409Z",
     "iopub.status.busy": "2025-02-06T07:22:58.281334Z",
     "iopub.status.idle": "2025-02-06T07:22:58.287060Z",
     "shell.execute_reply": "2025-02-06T07:22:58.286795Z",
     "shell.execute_reply.started": "2025-02-06T07:22:58.282409Z"
    }
   },
   "outputs": [
    {
     "data": {
      "text/plain": [
       "torch.Size([18])"
      ]
     },
     "execution_count": 48,
     "metadata": {},
     "output_type": "execute_result"
    }
   ],
   "source": [
    "a = torch.arange(18)\n",
    "a.shape"
   ]
  },
  {
   "cell_type": "code",
   "execution_count": 49,
   "id": "bf5bc92e-39d0-47c6-99aa-67049750f164",
   "metadata": {
    "execution": {
     "iopub.execute_input": "2025-02-06T07:22:59.694450Z",
     "iopub.status.busy": "2025-02-06T07:22:59.693589Z",
     "iopub.status.idle": "2025-02-06T07:22:59.699531Z",
     "shell.execute_reply": "2025-02-06T07:22:59.698767Z",
     "shell.execute_reply.started": "2025-02-06T07:22:59.694426Z"
    }
   },
   "outputs": [
    {
     "data": {
      "text/plain": [
       "tensor([[ 0,  1,  2,  3,  4,  5,  6,  7,  8],\n",
       "        [ 9, 10, 11, 12, 13, 14, 15, 16, 17]])"
      ]
     },
     "execution_count": 49,
     "metadata": {},
     "output_type": "execute_result"
    }
   ],
   "source": [
    "a.view(2, 9)"
   ]
  },
  {
   "cell_type": "code",
   "execution_count": 52,
   "id": "eaedb89c-46f7-47e7-a50c-c86d21c585dc",
   "metadata": {
    "execution": {
     "iopub.execute_input": "2025-02-06T07:23:38.265202Z",
     "iopub.status.busy": "2025-02-06T07:23:38.264523Z",
     "iopub.status.idle": "2025-02-06T07:23:38.273767Z",
     "shell.execute_reply": "2025-02-06T07:23:38.272267Z",
     "shell.execute_reply.started": "2025-02-06T07:23:38.265160Z"
    }
   },
   "outputs": [
    {
     "data": {
      "text/plain": [
       " 0\n",
       " 1\n",
       " 2\n",
       " 3\n",
       " 4\n",
       " 5\n",
       " 6\n",
       " 7\n",
       " 8\n",
       " 9\n",
       " 10\n",
       " 11\n",
       " 12\n",
       " 13\n",
       " 14\n",
       " 15\n",
       " 16\n",
       " 17\n",
       "[torch.storage.TypedStorage(dtype=torch.int64, device=cpu) of size 18]"
      ]
     },
     "execution_count": 52,
     "metadata": {},
     "output_type": "execute_result"
    }
   ],
   "source": [
    "a.storage()"
   ]
  },
  {
   "cell_type": "code",
   "execution_count": 55,
   "id": "c572d7ee-cf58-4cff-9558-80b9403fd7d7",
   "metadata": {
    "execution": {
     "iopub.execute_input": "2025-02-06T07:25:09.366425Z",
     "iopub.status.busy": "2025-02-06T07:25:09.365529Z",
     "iopub.status.idle": "2025-02-06T07:25:09.373004Z",
     "shell.execute_reply": "2025-02-06T07:25:09.372250Z",
     "shell.execute_reply.started": "2025-02-06T07:25:09.366402Z"
    }
   },
   "outputs": [
    {
     "data": {
      "text/plain": [
       "tensor([[True, True, True, True, True, True],\n",
       "        [True, True, True, True, True, True],\n",
       "        [True, True, True, True, True, True],\n",
       "        [True, True, True, True, True, True],\n",
       "        [True, True, True, True, True, True],\n",
       "        [True, True, True, True, True, True],\n",
       "        [True, True, True, True, True, True],\n",
       "        [True, True, True, True, True, True],\n",
       "        [True, True, True, True, True, True],\n",
       "        [True, True, True, True, True, True],\n",
       "        [True, True, True, True, True, True],\n",
       "        [True, True, True, True, True, True],\n",
       "        [True, True, True, True, True, True],\n",
       "        [True, True, True, True, True, True],\n",
       "        [True, True, True, True, True, True],\n",
       "        [True, True, True, True, True, True],\n",
       "        [True, True, True, True, True, True],\n",
       "        [True, True, True, True, True, True],\n",
       "        [True, True, True, True, True, True],\n",
       "        [True, True, True, True, True, True],\n",
       "        [True, True, True, True, True, True],\n",
       "        [True, True, True, True, True, True],\n",
       "        [True, True, True, True, True, True],\n",
       "        [True, True, True, True, True, True],\n",
       "        [True, True, True, True, True, True],\n",
       "        [True, True, True, True, True, True],\n",
       "        [True, True, True, True, True, True],\n",
       "        [True, True, True, True, True, True],\n",
       "        [True, True, True, True, True, True],\n",
       "        [True, True, True, True, True, True],\n",
       "        [True, True, True, True, True, True],\n",
       "        [True, True, True, True, True, True]])"
      ]
     },
     "execution_count": 55,
     "metadata": {},
     "output_type": "execute_result"
    }
   ],
   "source": [
    "emb.view(32, 6) == torch.cat(torch.unbind(emb, 1), 1)"
   ]
  },
  {
   "cell_type": "code",
   "execution_count": null,
   "id": "919fdd52-9f64-4776-9a47-83fbd7edbea9",
   "metadata": {},
   "outputs": [],
   "source": []
  },
  {
   "cell_type": "code",
   "execution_count": null,
   "id": "09008ee1-c57d-4312-9047-6adb355b9685",
   "metadata": {},
   "outputs": [],
   "source": []
  },
  {
   "cell_type": "code",
   "execution_count": null,
   "id": "14f711d2-f85d-4a6f-b0af-b40f5e230dce",
   "metadata": {},
   "outputs": [],
   "source": []
  },
  {
   "cell_type": "code",
   "execution_count": null,
   "id": "f293e299-238f-45fd-8146-f6602a5a00e8",
   "metadata": {},
   "outputs": [],
   "source": []
  },
  {
   "cell_type": "code",
   "execution_count": null,
   "id": "126e9c77-148d-415e-b96d-4299d165b696",
   "metadata": {},
   "outputs": [],
   "source": []
  },
  {
   "cell_type": "code",
   "execution_count": null,
   "id": "823c44a2-423e-40fa-be5e-8beacbe44924",
   "metadata": {},
   "outputs": [],
   "source": []
  },
  {
   "cell_type": "code",
   "execution_count": null,
   "id": "3b0fc745-5e3f-4cff-8c80-e536026aa495",
   "metadata": {},
   "outputs": [],
   "source": []
  }
 ],
 "metadata": {
  "kernelspec": {
   "display_name": "Python 3 (ipykernel)",
   "language": "python",
   "name": "python3"
  },
  "language_info": {
   "codemirror_mode": {
    "name": "ipython",
    "version": 3
   },
   "file_extension": ".py",
   "mimetype": "text/x-python",
   "name": "python",
   "nbconvert_exporter": "python",
   "pygments_lexer": "ipython3",
   "version": "3.11.7"
  }
 },
 "nbformat": 4,
 "nbformat_minor": 5
}
