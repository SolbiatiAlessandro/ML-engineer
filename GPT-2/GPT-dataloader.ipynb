{
 "cells": [
  {
   "cell_type": "code",
   "execution_count": 1,
   "id": "4c2b28df-0fca-4a77-9458-a25141bc7eb1",
   "metadata": {
    "tags": []
   },
   "outputs": [],
   "source": [
    "import tiktoken\n",
    "enc = tiktoken.get_encoding(\"gpt2\")"
   ]
  },
  {
   "cell_type": "code",
   "execution_count": 2,
   "id": "810923b5-6aec-466b-8856-1f06abaf7ea1",
   "metadata": {
    "tags": []
   },
   "outputs": [
    {
     "name": "stdout",
     "output_type": "stream",
     "text": [
      "Requirement already satisfied: datasets in /usr/local/lib/python3.11/dist-packages (2.14.5)\n",
      "Collecting datasets\n",
      "  Downloading datasets-3.3.2-py3-none-any.whl.metadata (19 kB)\n",
      "Requirement already satisfied: filelock in /usr/local/lib/python3.11/dist-packages (from datasets) (3.13.1)\n",
      "Requirement already satisfied: numpy>=1.17 in /usr/local/lib/python3.11/dist-packages (from datasets) (1.26.3)\n",
      "Requirement already satisfied: pyarrow>=15.0.0 in /usr/local/lib/python3.11/dist-packages (from datasets) (15.0.0)\n",
      "Requirement already satisfied: dill<0.3.9,>=0.3.0 in /usr/local/lib/python3.11/dist-packages (from datasets) (0.3.7)\n",
      "Requirement already satisfied: pandas in /usr/local/lib/python3.11/dist-packages (from datasets) (2.2.0)\n",
      "Collecting requests>=2.32.2 (from datasets)\n",
      "  Downloading requests-2.32.3-py3-none-any.whl.metadata (4.6 kB)\n",
      "Collecting tqdm>=4.66.3 (from datasets)\n",
      "  Downloading tqdm-4.67.1-py3-none-any.whl.metadata (57 kB)\n",
      "\u001b[2K     \u001b[90m━━━━━━━━━━━━━━━━━━━━━━━━━━━━━━━━━━━━━━━━\u001b[0m \u001b[32m57.7/57.7 kB\u001b[0m \u001b[31m3.1 MB/s\u001b[0m eta \u001b[36m0:00:00\u001b[0m\n",
      "\u001b[?25hRequirement already satisfied: xxhash in /usr/local/lib/python3.11/dist-packages (from datasets) (3.4.1)\n",
      "Requirement already satisfied: multiprocess<0.70.17 in /usr/local/lib/python3.11/dist-packages (from datasets) (0.70.15)\n",
      "Requirement already satisfied: fsspec<=2024.12.0,>=2023.1.0 in /usr/local/lib/python3.11/dist-packages (from fsspec[http]<=2024.12.0,>=2023.1.0->datasets) (2023.6.0)\n",
      "Requirement already satisfied: aiohttp in /usr/local/lib/python3.11/dist-packages (from datasets) (3.9.1)\n",
      "Collecting huggingface-hub>=0.24.0 (from datasets)\n",
      "  Downloading huggingface_hub-0.29.2-py3-none-any.whl.metadata (13 kB)\n",
      "Requirement already satisfied: packaging in /usr/local/lib/python3.11/dist-packages (from datasets) (23.2)\n",
      "Requirement already satisfied: pyyaml>=5.1 in /usr/lib/python3/dist-packages (from datasets) (5.4.1)\n",
      "Requirement already satisfied: attrs>=17.3.0 in /usr/local/lib/python3.11/dist-packages (from aiohttp->datasets) (23.1.0)\n",
      "Requirement already satisfied: multidict<7.0,>=4.5 in /usr/local/lib/python3.11/dist-packages (from aiohttp->datasets) (6.0.4)\n",
      "Requirement already satisfied: yarl<2.0,>=1.0 in /usr/local/lib/python3.11/dist-packages (from aiohttp->datasets) (1.9.4)\n",
      "Requirement already satisfied: frozenlist>=1.1.1 in /usr/local/lib/python3.11/dist-packages (from aiohttp->datasets) (1.4.1)\n",
      "Requirement already satisfied: aiosignal>=1.1.2 in /usr/local/lib/python3.11/dist-packages (from aiohttp->datasets) (1.3.1)\n",
      "Requirement already satisfied: typing-extensions>=3.7.4.3 in /usr/local/lib/python3.11/dist-packages (from huggingface-hub>=0.24.0->datasets) (4.9.0)\n",
      "Requirement already satisfied: charset-normalizer<4,>=2 in /usr/local/lib/python3.11/dist-packages (from requests>=2.32.2->datasets) (3.3.2)\n",
      "Requirement already satisfied: idna<4,>=2.5 in /usr/lib/python3/dist-packages (from requests>=2.32.2->datasets) (3.3)\n",
      "Requirement already satisfied: urllib3<3,>=1.21.1 in /usr/local/lib/python3.11/dist-packages (from requests>=2.32.2->datasets) (2.0.7)\n",
      "Requirement already satisfied: certifi>=2017.4.17 in /usr/lib/python3/dist-packages (from requests>=2.32.2->datasets) (2020.6.20)\n",
      "Requirement already satisfied: python-dateutil>=2.8.2 in /usr/local/lib/python3.11/dist-packages (from pandas->datasets) (2.8.2)\n",
      "Requirement already satisfied: pytz>=2020.1 in /usr/lib/python3/dist-packages (from pandas->datasets) (2022.1)\n",
      "Requirement already satisfied: tzdata>=2022.7 in /usr/local/lib/python3.11/dist-packages (from pandas->datasets) (2023.4)\n",
      "Requirement already satisfied: six>=1.5 in /usr/lib/python3/dist-packages (from python-dateutil>=2.8.2->pandas->datasets) (1.16.0)\n",
      "Downloading datasets-3.3.2-py3-none-any.whl (485 kB)\n",
      "\u001b[2K   \u001b[90m━━━━━━━━━━━━━━━━━━━━━━━━━━━━━━━━━━━━━━━━\u001b[0m \u001b[32m485.4/485.4 kB\u001b[0m \u001b[31m32.2 MB/s\u001b[0m eta \u001b[36m0:00:00\u001b[0m\n",
      "\u001b[?25hDownloading huggingface_hub-0.29.2-py3-none-any.whl (468 kB)\n",
      "\u001b[2K   \u001b[90m━━━━━━━━━━━━━━━━━━━━━━━━━━━━━━━━━━━━━━━━\u001b[0m \u001b[32m468.1/468.1 kB\u001b[0m \u001b[31m79.0 MB/s\u001b[0m eta \u001b[36m0:00:00\u001b[0m\n",
      "\u001b[?25hDownloading requests-2.32.3-py3-none-any.whl (64 kB)\n",
      "\u001b[2K   \u001b[90m━━━━━━━━━━━━━━━━━━━━━━━━━━━━━━━━━━━━━━━━\u001b[0m \u001b[32m64.9/64.9 kB\u001b[0m \u001b[31m15.4 MB/s\u001b[0m eta \u001b[36m0:00:00\u001b[0m\n",
      "\u001b[?25hDownloading tqdm-4.67.1-py3-none-any.whl (78 kB)\n",
      "\u001b[2K   \u001b[90m━━━━━━━━━━━━━━━━━━━━━━━━━━━━━━━━━━━━━━━━\u001b[0m \u001b[32m78.5/78.5 kB\u001b[0m \u001b[31m20.7 MB/s\u001b[0m eta \u001b[36m0:00:00\u001b[0m\n",
      "\u001b[?25hInstalling collected packages: tqdm, requests, huggingface-hub, datasets\n",
      "  Attempting uninstall: tqdm\n",
      "    Found existing installation: tqdm 4.66.1\n",
      "    Uninstalling tqdm-4.66.1:\n",
      "      Successfully uninstalled tqdm-4.66.1\n",
      "  Attempting uninstall: requests\n",
      "    Found existing installation: requests 2.31.0\n",
      "    Uninstalling requests-2.31.0:\n",
      "      Successfully uninstalled requests-2.31.0\n",
      "  Attempting uninstall: huggingface-hub\n",
      "    Found existing installation: huggingface-hub 0.20.3\n",
      "    Uninstalling huggingface-hub-0.20.3:\n",
      "      Successfully uninstalled huggingface-hub-0.20.3\n",
      "  Attempting uninstall: datasets\n",
      "    Found existing installation: datasets 2.14.5\n",
      "    Uninstalling datasets-2.14.5:\n",
      "      Successfully uninstalled datasets-2.14.5\n",
      "\u001b[31mERROR: pip's dependency resolver does not currently take into account all the packages that are installed. This behaviour is the source of the following dependency conflicts.\n",
      "gradient 2.0.6 requires attrs<=19, but you have attrs 23.1.0 which is incompatible.\u001b[0m\u001b[31m\n",
      "\u001b[0mSuccessfully installed datasets-3.3.2 huggingface-hub-0.29.2 requests-2.32.3 tqdm-4.67.1\n",
      "\u001b[33mWARNING: Running pip as the 'root' user can result in broken permissions and conflicting behaviour with the system package manager. It is recommended to use a virtual environment instead: https://pip.pypa.io/warnings/venv\u001b[0m\u001b[33m\n",
      "\u001b[0m"
     ]
    }
   ],
   "source": [
    "!pip install --upgrade datasets"
   ]
  },
  {
   "cell_type": "code",
   "execution_count": 3,
   "id": "640f2790-7007-47c0-9a47-61710fbc1618",
   "metadata": {
    "tags": []
   },
   "outputs": [
    {
     "data": {
      "application/vnd.jupyter.widget-view+json": {
       "model_id": "4005916769b94129b8b7d11f9bbd8699",
       "version_major": 2,
       "version_minor": 0
      },
      "text/plain": [
       "README.md:   0%|          | 0.00/25.5k [00:00<?, ?B/s]"
      ]
     },
     "metadata": {},
     "output_type": "display_data"
    },
    {
     "data": {
      "application/vnd.jupyter.widget-view+json": {
       "model_id": "9f601eb9d0034f7d827c1b7378c3271c",
       "version_major": 2,
       "version_minor": 0
      },
      "text/plain": [
       "Resolving data files:   0%|          | 0/2110 [00:00<?, ?it/s]"
      ]
     },
     "metadata": {},
     "output_type": "display_data"
    },
    {
     "data": {
      "application/vnd.jupyter.widget-view+json": {
       "model_id": "fd9f08069d4947ce93e53f021bea7d5c",
       "version_major": 2,
       "version_minor": 0
      },
      "text/plain": [
       "000_00000.parquet:   0%|          | 0.00/2.15G [00:00<?, ?B/s]"
      ]
     },
     "metadata": {},
     "output_type": "display_data"
    },
    {
     "data": {
      "application/vnd.jupyter.widget-view+json": {
       "model_id": "a6704afd9a11442ea3d2dc6fb5ac8623",
       "version_major": 2,
       "version_minor": 0
      },
      "text/plain": [
       "001_00000.parquet:   0%|          | 0.00/2.15G [00:00<?, ?B/s]"
      ]
     },
     "metadata": {},
     "output_type": "display_data"
    },
    {
     "data": {
      "application/vnd.jupyter.widget-view+json": {
       "model_id": "90113635d6634d699d6c52c90323cef4",
       "version_major": 2,
       "version_minor": 0
      },
      "text/plain": [
       "002_00000.parquet:   0%|          | 0.00/2.15G [00:00<?, ?B/s]"
      ]
     },
     "metadata": {},
     "output_type": "display_data"
    },
    {
     "data": {
      "application/vnd.jupyter.widget-view+json": {
       "model_id": "fdff14772bfe4b0bb53cd47f47cfc5f7",
       "version_major": 2,
       "version_minor": 0
      },
      "text/plain": [
       "003_00000.parquet:   0%|          | 0.00/2.15G [00:00<?, ?B/s]"
      ]
     },
     "metadata": {},
     "output_type": "display_data"
    },
    {
     "data": {
      "application/vnd.jupyter.widget-view+json": {
       "model_id": "89f5a5f5d50349a5b84833b1a9cdc2ce",
       "version_major": 2,
       "version_minor": 0
      },
      "text/plain": [
       "004_00000.parquet:   0%|          | 0.00/2.15G [00:00<?, ?B/s]"
      ]
     },
     "metadata": {},
     "output_type": "display_data"
    },
    {
     "data": {
      "application/vnd.jupyter.widget-view+json": {
       "model_id": "b6d2e02854d147f7ad46fe6dfe4a1a78",
       "version_major": 2,
       "version_minor": 0
      },
      "text/plain": [
       "005_00000.parquet:   0%|          | 0.00/2.15G [00:00<?, ?B/s]"
      ]
     },
     "metadata": {},
     "output_type": "display_data"
    },
    {
     "data": {
      "application/vnd.jupyter.widget-view+json": {
       "model_id": "1732bb06bcfb40d5b9d57f03348b6f46",
       "version_major": 2,
       "version_minor": 0
      },
      "text/plain": [
       "006_00000.parquet:   0%|          | 0.00/2.15G [00:00<?, ?B/s]"
      ]
     },
     "metadata": {},
     "output_type": "display_data"
    },
    {
     "data": {
      "application/vnd.jupyter.widget-view+json": {
       "model_id": "ffab050ee3144d929daded7275c7969f",
       "version_major": 2,
       "version_minor": 0
      },
      "text/plain": [
       "007_00000.parquet:   0%|          | 0.00/2.15G [00:00<?, ?B/s]"
      ]
     },
     "metadata": {},
     "output_type": "display_data"
    },
    {
     "data": {
      "application/vnd.jupyter.widget-view+json": {
       "model_id": "a624b941b0f64776b38fe636eb6a3215",
       "version_major": 2,
       "version_minor": 0
      },
      "text/plain": [
       "008_00000.parquet:   0%|          | 0.00/2.15G [00:00<?, ?B/s]"
      ]
     },
     "metadata": {},
     "output_type": "display_data"
    },
    {
     "data": {
      "application/vnd.jupyter.widget-view+json": {
       "model_id": "e3530af9886f49af972126ac58bcb185",
       "version_major": 2,
       "version_minor": 0
      },
      "text/plain": [
       "009_00000.parquet:   0%|          | 0.00/2.15G [00:00<?, ?B/s]"
      ]
     },
     "metadata": {},
     "output_type": "display_data"
    },
    {
     "data": {
      "application/vnd.jupyter.widget-view+json": {
       "model_id": "e1ce3030c202467f9d5c604ffbc3e6dc",
       "version_major": 2,
       "version_minor": 0
      },
      "text/plain": [
       "010_00000.parquet:   0%|          | 0.00/2.15G [00:00<?, ?B/s]"
      ]
     },
     "metadata": {},
     "output_type": "display_data"
    },
    {
     "data": {
      "application/vnd.jupyter.widget-view+json": {
       "model_id": "76cbeabc1c0b498da5298907d3206ff7",
       "version_major": 2,
       "version_minor": 0
      },
      "text/plain": [
       "011_00000.parquet:   0%|          | 0.00/2.15G [00:00<?, ?B/s]"
      ]
     },
     "metadata": {},
     "output_type": "display_data"
    },
    {
     "data": {
      "application/vnd.jupyter.widget-view+json": {
       "model_id": "b41b276eb96d4104b50420a0681df52d",
       "version_major": 2,
       "version_minor": 0
      },
      "text/plain": [
       "012_00000.parquet:   0%|          | 0.00/2.15G [00:00<?, ?B/s]"
      ]
     },
     "metadata": {},
     "output_type": "display_data"
    },
    {
     "data": {
      "application/vnd.jupyter.widget-view+json": {
       "model_id": "be7a3160b677453b8bcd02a057bbaa1f",
       "version_major": 2,
       "version_minor": 0
      },
      "text/plain": [
       "013_00000.parquet:   0%|          | 0.00/541M [00:00<?, ?B/s]"
      ]
     },
     "metadata": {},
     "output_type": "display_data"
    },
    {
     "data": {
      "application/vnd.jupyter.widget-view+json": {
       "model_id": "ac491e8c8c8547d3a4b2b1a2a8d358c1",
       "version_major": 2,
       "version_minor": 0
      },
      "text/plain": [
       "Generating train split:   0%|          | 0/9672101 [00:00<?, ? examples/s]"
      ]
     },
     "metadata": {},
     "output_type": "display_data"
    },
    {
     "data": {
      "application/vnd.jupyter.widget-view+json": {
       "model_id": "ed7d6b9143f547d680d3640a7d798939",
       "version_major": 2,
       "version_minor": 0
      },
      "text/plain": [
       "Loading dataset shards:   0%|          | 0/98 [00:00<?, ?it/s]"
      ]
     },
     "metadata": {},
     "output_type": "display_data"
    }
   ],
   "source": [
    "import tiktoken\n",
    "enc = tiktoken.get_encoding(\"gpt2\")\n",
    "\n",
    "from datasets import load_dataset\n",
    "\n",
    "ds = load_dataset(\"HuggingFaceFW/fineweb-edu\", \"sample-10BT\")"
   ]
  },
  {
   "cell_type": "code",
   "execution_count": 4,
   "id": "dfb91a07-9e0d-43f6-8f8f-6c872eb99c5d",
   "metadata": {
    "tags": []
   },
   "outputs": [],
   "source": [
    "import pickle "
   ]
  },
  {
   "cell_type": "code",
   "execution_count": 6,
   "id": "236b2c49-614d-4b7f-bc0c-5dda08bda7fb",
   "metadata": {
    "tags": []
   },
   "outputs": [],
   "source": [
    "import os\n",
    "import pickle\n",
    "\n",
    "data_shards = []\n",
    "for f in sorted(os.listdir(\"./tokenized_shards\")):\n",
    "    if f.startswith(\"train_shard_\") and f.endswith(\".pkl\"):\n",
    "        with open(f\"./tokenized_shards/{f}\", 'rb') as file:\n",
    "            data_shards.append(pickle.load(file))\n"
   ]
  },
  {
   "cell_type": "code",
   "execution_count": 1,
   "id": "c49db70f-ac1d-4334-be30-c602503399f5",
   "metadata": {
    "tags": []
   },
   "outputs": [],
   "source": [
    "import os\n",
    "import pickle\n",
    "shards = sorted(os.listdir(\"./tokenized_shards\"))\n",
    "shard_ix = 0"
   ]
  },
  {
   "cell_type": "code",
   "execution_count": 2,
   "id": "f934c7e1-6e71-43e5-907e-e2c487355dd2",
   "metadata": {
    "tags": []
   },
   "outputs": [
    {
     "data": {
      "text/plain": [
       "'train_shard_00000.pkl'"
      ]
     },
     "execution_count": 2,
     "metadata": {},
     "output_type": "execute_result"
    }
   ],
   "source": [
    "shard_filename = shards[shard_ix]\n",
    "shard_filename"
   ]
  },
  {
   "cell_type": "code",
   "execution_count": 3,
   "id": "49d31ef3-341f-4efa-ba09-6a264f93205e",
   "metadata": {
    "tags": []
   },
   "outputs": [],
   "source": [
    "with open(\"./tokenized_shards/\" + shard_filename, 'rb') as file:\n",
    "    data = pickle.load(file)"
   ]
  },
  {
   "cell_type": "code",
   "execution_count": 5,
   "id": "b9e36218-0d59-498d-842a-8bdaf5b178e9",
   "metadata": {
    "tags": []
   },
   "outputs": [
    {
     "data": {
      "text/plain": [
       "1028.440888"
      ]
     },
     "execution_count": 5,
     "metadata": {},
     "output_type": "execute_result"
    }
   ],
   "source": [
    "sum(map(len, data)) / len(data)"
   ]
  },
  {
   "cell_type": "code",
   "execution_count": 11,
   "id": "b1bdc862-a40b-4631-aa10-e773bd9465b0",
   "metadata": {
    "tags": []
   },
   "outputs": [
    {
     "name": "stderr",
     "output_type": "stream",
     "text": [
      "Exception ignored in: <bound method IPythonKernel._clean_thread_parent_frames of <ipykernel.ipkernel.IPythonKernel object at 0x7f68a911d090>>\n",
      "Traceback (most recent call last):\n",
      "  File \"/usr/local/lib/python3.11/dist-packages/ipykernel/ipkernel.py\", line 770, in _clean_thread_parent_frames\n",
      "    def _clean_thread_parent_frames(\n",
      "\n",
      "KeyboardInterrupt: \n",
      "Exception ignored in: <bound method IPythonKernel._clean_thread_parent_frames of <ipykernel.ipkernel.IPythonKernel object at 0x7f68a911d090>>\n",
      "Traceback (most recent call last):\n",
      "  File \"/usr/local/lib/python3.11/dist-packages/ipykernel/ipkernel.py\", line 770, in _clean_thread_parent_frames\n",
      "    def _clean_thread_parent_frames(\n",
      "\n",
      "KeyboardInterrupt: \n",
      "Exception ignored in: <bound method IPythonKernel._clean_thread_parent_frames of <ipykernel.ipkernel.IPythonKernel object at 0x7f68a911d090>>\n",
      "Traceback (most recent call last):\n",
      "  File \"/usr/local/lib/python3.11/dist-packages/ipykernel/ipkernel.py\", line 770, in _clean_thread_parent_frames\n",
      "    def _clean_thread_parent_frames(\n",
      "\n",
      "KeyboardInterrupt: \n",
      "Exception ignored in: <bound method IPythonKernel._clean_thread_parent_frames of <ipykernel.ipkernel.IPythonKernel object at 0x7f68a911d090>>\n",
      "Traceback (most recent call last):\n",
      "  File \"/usr/local/lib/python3.11/dist-packages/ipykernel/ipkernel.py\", line 770, in _clean_thread_parent_frames\n",
      "    def _clean_thread_parent_frames(\n",
      "\n",
      "KeyboardInterrupt: \n"
     ]
    }
   ],
   "source": [
    "ddata = list(map(torch.tensor, data))"
   ]
  },
  {
   "cell_type": "code",
   "execution_count": 10,
   "id": "1b196d3b-86bb-46d7-a7a6-6907f982b837",
   "metadata": {
    "tags": []
   },
   "outputs": [
    {
     "ename": "TypeError",
     "evalue": "cat(): argument 'tensors' (position 1) must be tuple of Tensors, not map",
     "output_type": "error",
     "traceback": [
      "\u001b[0;31m---------------------------------------------------------------------------\u001b[0m",
      "\u001b[0;31mTypeError\u001b[0m                                 Traceback (most recent call last)",
      "Cell \u001b[0;32mIn[10], line 1\u001b[0m\n\u001b[0;32m----> 1\u001b[0m \u001b[43mtorch\u001b[49m\u001b[38;5;241;43m.\u001b[39;49m\u001b[43mcat\u001b[49m\u001b[43m(\u001b[49m\u001b[38;5;28;43mmap\u001b[39;49m\u001b[43m(\u001b[49m\u001b[43mtorch\u001b[49m\u001b[38;5;241;43m.\u001b[39;49m\u001b[43mtensor\u001b[49m\u001b[43m,\u001b[49m\u001b[43m \u001b[49m\u001b[43mdata\u001b[49m\u001b[43m)\u001b[49m\u001b[43m)\u001b[49m\n",
      "\u001b[0;31mTypeError\u001b[0m: cat(): argument 'tensors' (position 1) must be tuple of Tensors, not map"
     ]
    }
   ],
   "source": [
    "torch.cat()"
   ]
  },
  {
   "cell_type": "code",
   "execution_count": 6,
   "id": "ae0d443a-013a-400b-af0d-e725b7bdc42b",
   "metadata": {
    "tags": []
   },
   "outputs": [],
   "source": [
    "import torch"
   ]
  },
  {
   "cell_type": "code",
   "execution_count": 8,
   "id": "4e9fba16-620f-47ca-8492-314069268c6d",
   "metadata": {
    "tags": []
   },
   "outputs": [],
   "source": [
    "d1 = torch.tensor(data[0])\n",
    "d2 = torch.tensor(data[1])"
   ]
  },
  {
   "cell_type": "code",
   "execution_count": 90,
   "id": "3c562149-6edd-495c-b3a3-47fe3bb96ec8",
   "metadata": {
    "tags": []
   },
   "outputs": [],
   "source": [
    "from time import time\n",
    "import os\n",
    "import pickle\n",
    "import gc\n",
    "\n",
    "class ShardLoader:\n",
    "    \"\"\"not genereated by LLM -> code can be read\"\"\"\n",
    "    \n",
    "    def __init__(self, shard_filenames):\n",
    "        self.END_OF_TEXT_TOKEN = 50256\n",
    "        \n",
    "        self.shards = shard_filenames\n",
    "        self.shard_ix = 0\n",
    "        \n",
    "        self.data_ix = 0\n",
    "        self.data = self._get_shard_data(self.shard_ix)\n",
    "        \n",
    "    def _get_shard_data(self, shard_ix):\n",
    "        shard_filename = self.shards[shard_ix]\n",
    "        print(f\"[ShardLoader] loading {shard_filename}\")\n",
    "        t0 = time()\n",
    "        with open(shard_filename, 'rb') as file:\n",
    "            data = pickle.load(file) # [[token1, token2], [token1, token3]\n",
    "        t1 = time()\n",
    "        print(f\"[ShardLoader] {t1 - t0:.2f}s to load shard {shard_filename}\")\n",
    "        return data\n",
    "    \n",
    "    def _advance_data_ix(self):\n",
    "        if self.data_ix == (len(self.data) - 1):\n",
    "            self.shard_ix += 1\n",
    "            if self.shard_ix == len(self.shards):\n",
    "                self.shard_ix = 0\n",
    "            self.data = self._get_shard_data(self.shard_ix)\n",
    "            gc.collect()\n",
    "            self.data_ix = 0\n",
    "        else:\n",
    "            self.data_ix += 1\n",
    "        \n",
    "    def get_next_tokens(self, n_tokens):\n",
    "        \"\"\"possible improvements\n",
    "        - each time we start at 0 of next document, we disregard the\n",
    "        last part of the document we haven't read last time\"\"\"\n",
    "        tokens_left = n_tokens\n",
    "        tokens = self.data[self.data_ix][:tokens_left]\n",
    "        tokens_left -= len(tokens)\n",
    "        self._advance_data_ix()\n",
    "        while tokens_left > 0:\n",
    "            tokens += [self.END_OF_TEXT_TOKEN]\n",
    "            tokens_left -= 1\n",
    "            new_tokens = self.data[self.data_ix][:tokens_left]\n",
    "            tokens += new_tokens\n",
    "            self._advance_data_ix()\n",
    "            tokens_left -= len(new_tokens)\n",
    "        return tokens\n",
    "    \n",
    "def test_shard_loader():\n",
    "    shard_dir = \"./tokenized_shards\"\n",
    "    shard_filenames = list(map(lambda x: shard_dir + \"/\" + x, sorted(os.listdir(shard_dir))))\n",
    "    shard_loader = ShardLoader(shard_filenames)\n",
    "    t = shard_loader.get_next_tokens(1000)\n",
    "    assert len(t) == 1000\n",
    "    print(\"[test_shard_loader] TEST 1 PASSED\")\n",
    "    t = shard_loader.get_next_tokens(10000)\n",
    "    assert len(t) == 10000\n",
    "    assert \"<|endoftext|>\" in enc.decode(t)\n",
    "    print(\"[test_shard_loader] TEST 2 PASSED\")\n",
    "    shard_loader.data_ix = len(shard_loader.data) - 1\n",
    "    t = shard_loader.get_next_tokens(10000)\n",
    "    assert len(t) == 10000\n",
    "    assert \"<|endoftext|>\" in enc.decode(t)\n",
    "    print(\"[test_shard_loader] TEST 3 PASSED\")\n",
    "    \n",
    "    shard_loader.shard_ix = len(shard_loader.shards) - 1\n",
    "    shard_loader.data = shard_loader._get_shard_data(shard_loader.shard_ix)\n",
    "    t = shard_loader.get_next_tokens(10000)\n",
    "    assert len(t) == 10000\n",
    "    assert \"<|endoftext|>\" in enc.decode(t)\n",
    "    print(\"[test_shard_loader] TEST 4 PASSED\")\n",
    "    "
   ]
  },
  {
   "cell_type": "code",
   "execution_count": null,
   "id": "a7ca49e8-8033-4153-b543-531200fc8ad1",
   "metadata": {
    "tags": []
   },
   "outputs": [],
   "source": []
  },
  {
   "cell_type": "code",
   "execution_count": 91,
   "id": "ed6b7770-5ed4-40ec-945c-a0a1d9e37259",
   "metadata": {
    "tags": []
   },
   "outputs": [
    {
     "name": "stdout",
     "output_type": "stream",
     "text": [
      "[ShardLoader] loading ./tokenized_shards/train_shard_00000.pkl\n",
      "[ShardLoader] 19.28s to load shard ./tokenized_shards/train_shard_00000.pkl\n",
      "[test_shard_loader] TEST 1 PASSED\n",
      "[test_shard_loader] TEST 2 PASSED\n",
      "[ShardLoader] loading ./tokenized_shards/train_shard_00001.pkl\n",
      "[ShardLoader] 13.00s to load shard ./tokenized_shards/train_shard_00001.pkl\n",
      "[test_shard_loader] TEST 3 PASSED\n",
      "[ShardLoader] loading ./tokenized_shards/train_shard_00038.pkl\n",
      "[ShardLoader] 11.71s to load shard ./tokenized_shards/train_shard_00038.pkl\n",
      "[test_shard_loader] TEST 4 PASSED\n"
     ]
    }
   ],
   "source": [
    "test_shard_loader()"
   ]
  },
  {
   "cell_type": "code",
   "execution_count": 77,
   "id": "5b552699-3b6e-43df-bb3f-60bdadbcf312",
   "metadata": {
    "tags": []
   },
   "outputs": [
    {
     "name": "stdout",
     "output_type": "stream",
     "text": [
      "[ShardLoader] loading ./tokenized_shards/train_shard_00000.pkl\n",
      "[ShardLoader] 13.48s to load shard ./tokenized_shards/train_shard_00000.pkl\n",
      "[test_shard_loader] TEST 1 PASSED\n"
     ]
    }
   ],
   "source": [
    "shard_loader = ShardLoader()\n",
    "t = shard_loader.get_next_tokens(1000)\n",
    "assert len(t) == 1000\n",
    "print(\"[test_shard_loader] TEST 1 PASSED\")\n",
    "t = shard_loader.get_next_tokens(10000)"
   ]
  },
  {
   "cell_type": "code",
   "execution_count": 78,
   "id": "4844a595-8e30-448b-aa1a-5b87dc95a645",
   "metadata": {
    "tags": []
   },
   "outputs": [
    {
     "data": {
      "text/plain": [
       "5602"
      ]
     },
     "execution_count": 78,
     "metadata": {},
     "output_type": "execute_result"
    }
   ],
   "source": [
    "len(t)"
   ]
  },
  {
   "cell_type": "code",
   "execution_count": 68,
   "id": "5bd8900e-fc1c-45fb-99ba-bebd40c3a144",
   "metadata": {
    "tags": []
   },
   "outputs": [
    {
     "data": {
      "text/plain": [
       "249999"
      ]
     },
     "execution_count": 68,
     "metadata": {},
     "output_type": "execute_result"
    }
   ],
   "source": [
    "shard_loader.data_ix"
   ]
  },
  {
   "cell_type": "code",
   "execution_count": 70,
   "id": "feb5bdfd-c4b8-4dc8-8593-801f0c10eadc",
   "metadata": {
    "tags": []
   },
   "outputs": [
    {
     "data": {
      "text/plain": [
       "172101"
      ]
     },
     "execution_count": 70,
     "metadata": {},
     "output_type": "execute_result"
    }
   ],
   "source": [
    "len(shard_loader.data)"
   ]
  },
  {
   "cell_type": "code",
   "execution_count": 71,
   "id": "8bd13fcc-ba6f-4293-a753-b092fc3693a3",
   "metadata": {
    "tags": []
   },
   "outputs": [],
   "source": [
    "shard_loader.data_ix = 172100"
   ]
  },
  {
   "cell_type": "code",
   "execution_count": 52,
   "id": "a2aaaef8-cf78-42ce-90d2-94b37fcea7ee",
   "metadata": {
    "tags": []
   },
   "outputs": [
    {
     "data": {
      "text/plain": [
       "250000"
      ]
     },
     "execution_count": 52,
     "metadata": {},
     "output_type": "execute_result"
    }
   ],
   "source": [
    "len(shard_loader.data)"
   ]
  },
  {
   "cell_type": "code",
   "execution_count": 50,
   "id": "3688f188-eb76-425c-9657-f4ea88d977be",
   "metadata": {
    "tags": []
   },
   "outputs": [
    {
     "data": {
      "text/plain": [
       "1"
      ]
     },
     "execution_count": 50,
     "metadata": {},
     "output_type": "execute_result"
    }
   ],
   "source": [
    "shard_loader.shard_ix"
   ]
  },
  {
   "cell_type": "code",
   "execution_count": 56,
   "id": "6d89f4ae-9777-47af-95d9-24817134f245",
   "metadata": {
    "tags": []
   },
   "outputs": [
    {
     "data": {
      "text/plain": [
       "1000"
      ]
     },
     "execution_count": 56,
     "metadata": {},
     "output_type": "execute_result"
    }
   ],
   "source": [
    "len(t)"
   ]
  },
  {
   "cell_type": "code",
   "execution_count": 12,
   "id": "4c8e1767-3ac4-43e8-988d-e44aa451e110",
   "metadata": {
    "tags": []
   },
   "outputs": [
    {
     "data": {
      "text/plain": [
       "[50256]"
      ]
     },
     "execution_count": 12,
     "metadata": {},
     "output_type": "execute_result"
    }
   ],
   "source": [
    "enc.encode(\"<|endoftext|>\",  allowed_special={\"<|endoftext|>\"})"
   ]
  },
  {
   "cell_type": "code",
   "execution_count": 74,
   "id": "602f80b4-e66d-4cfe-a33d-4311f4d002dd",
   "metadata": {},
   "outputs": [
    {
     "data": {
      "text/plain": [
       "False"
      ]
     },
     "execution_count": 74,
     "metadata": {},
     "output_type": "execute_result"
    }
   ],
   "source": [
    "\"<|endoftext|>\" in enc.decode(t)\n"
   ]
  },
  {
   "cell_type": "code",
   "execution_count": 51,
   "id": "822a634b-e9cd-4bbf-874f-975c5d0f4d78",
   "metadata": {
    "tags": []
   },
   "outputs": [
    {
     "name": "stdout",
     "output_type": "stream",
     "text": [
      "The Class Branchiopoda is further organized into finer groupings including:\n",
      "- Subclass (2): Phyllopoda · Sarsostraca\n",
      "- Order (5): Anostraca · Cladocera · Diplostraca · Notostraca · Odaraiida\n",
      "- Species: ZipcodeZoo has pages for 648 species and subspecies in the Class Branchiopoda.\n",
      "Anostraca is one of the four orders of crustaceans in the class Branchiopoda; its members are also known as fairy shrimp. They are usually 6?25 mm (0.24?0.98 in) long (exceptionally up to 170 mm or 6.7 in). Most species have 20 body segments, bearing 11 pairs of leaf-like phyllopodia (swimming legs), and the body lacks a carapace. They live in vernal pools and hypersaline lakes across the world, including pools in deserts, in ice-covered mountain lakes and in Antarctica. They swim \"upside-down\" and feed by filtering organic particles from the water or by scraping algae from surfaces. They are an important food for many birds and fish, and are cultured and harvested for use as fish food. There are 300 species spread across 8 families. [more]\n",
      "The order Notostraca comprises the single family Triopsidae, containing the tadpole shrimp or shield shrimp. The two genera, Triops and Lepidurus, are considered living fossils, having not changed significantly in outward form since the Triassic. They have a broad, flat carapace, which conceals the head and bears a single pair of compound eyes. The abdomen is long, appears to be segmented and bears numerous pairs of flattened legs. The telson is flanked by a pair of long, thin caudal rami. Phenotypic plasticity within taxa makes species-level identification difficult, and is further compounded by variation in the mode of reproduction. Notostracans are omnivores living on the bottom of temporary pools and shallow lakes. [more]\n",
      "More info about the Order Odaraiida may be found here.\n",
      "- The text on this page is licensed under the GNU Free Documentation License.\n",
      "- Photographs on this page are copyrighted by individual photographers, and individual copyrights apply.\n",
      "- The GMapImageCutter is used under license from the UCL Centre for Advanced Spatial Analysis.\n",
      "- The technology underlying this page, including the Image Browser and controls behind Keep Exploring, is owned by the BayScience Foundation. All rights are reserved.\n"
     ]
    }
   ],
   "source": [
    "print(enc.decode(shard_loader.data[-1]))"
   ]
  },
  {
   "cell_type": "code",
   "execution_count": 58,
   "id": "2a8092d6-3018-4af4-b77d-9d88190dd8d4",
   "metadata": {
    "tags": []
   },
   "outputs": [
    {
     "name": "stdout",
     "output_type": "stream",
     "text": [
      "A recent report from the Worldwatch Institute stated that global meat consumption is up 20% over the past 10 years. The report claims the majority of the increase is from developed nations and the expanding size of factory farms. In fact developed nations consume 80 kg (176 lbs) per person on average a year, while in developing nations the average person only consumes 32 kg (70 lbs) per person. This can cause many sustainability issues since factory farms pollute the environment and use mass amounts of resources. Factory farms use massive amounts of water, feed (grains and corn that could be used to feed the largely growing human population), antibiotics, and land space. They also pollute mass amounts. The waste that is created from factory farms is not able to be used as fertilizer since the animals are fed corn and antibiotics and the waste is basically toxic. If animals are raised in more natural or pastoral ways they may still use massive amounts of resources but their waste is usable and it is healthier for you to eat.\n",
      "A few interesting tidbits from the report are:\n",
      "- “Pork is the world’s most-eaten meat. Followed by poultry, beef, mutton.”\n",
      "- “Poultry production is the fastest growing sector of the meat industry, now accounting for 98 million tons of meat annually.”\n",
      "- “Livestock raising takes up 23% of all water used in agriculture on a global basis.”\n",
      "- “75% of all antibiotics used on livestock (and remember 80% of all antibiotics in the US go towards livestock) are excreted in their waste, “posing a serious risk to public health.”\n",
      "- “11% of all deaths in men and 16% in women could be prevented “if people decreased their red meat consumption to the level of the group that ate the least.”\n",
      "Three hundred trout are needed to support one man for a year. The trout, in turn, must consume 90,000 frogs, that must consume 27 million grasshoppers that live off of 1,000 tons of grass.\n",
      "– G. Tyler Miller, Jr., American Chemist (1971)\n",
      "What can you do to reduce the amount of meat being consumed:\n",
      "- “Eating less meat and supporting pastoralist communities at every level is essential to combat the destructive trend of factory farms.” We need to reduce our meat consumption to be more sustainable.\n",
      "- If you think eating less meat is hard, try starting off with eliminating for just one day. A new trend, Meatless Monday, is becoming very popular.\n",
      "- When you do eat meat, choose more sustainable options: local or organic meats, or join a meat share.\n",
      "- Know where your meat comes from and how it is raised.\n"
     ]
    }
   ],
   "source": [
    "print(enc.decode(shard_loader.data[0]))"
   ]
  },
  {
   "cell_type": "code",
   "execution_count": 15,
   "id": "ef152a90-da1a-4e00-95ea-81cdd3c0648b",
   "metadata": {
    "tags": []
   },
   "outputs": [
    {
     "data": {
      "text/plain": [
       "(845, 1055)"
      ]
     },
     "execution_count": 15,
     "metadata": {},
     "output_type": "execute_result"
    }
   ],
   "source": [
    "len(data[0]), len(data[1])"
   ]
  },
  {
   "cell_type": "code",
   "execution_count": 55,
   "id": "43c1f7b8-c9db-4353-bee8-84193967f9e1",
   "metadata": {
    "tags": []
   },
   "outputs": [],
   "source": [
    "def get_next_tokens(self, n_tokens):\n",
    "    tokens = self.data[self.data_ix][:n_tokens]\n",
    "    self.data_ix += 1\n",
    "    while n_tokens > len(self.data[self.data_ix]):\n",
    "        tokens += self.data[self.data_ix][:n_tokens]\n",
    "        self.data_ix += 1\n",
    "    return tokens"
   ]
  },
  {
   "cell_type": "code",
   "execution_count": 56,
   "id": "0c4b51a4-2873-4f82-afa2-972a971a2bd0",
   "metadata": {
    "tags": []
   },
   "outputs": [],
   "source": [
    "import types\n",
    "# Bind the new function to your existing instance\n",
    "shard_loader.get_next_tokens = types.MethodType(get_next_tokens, shard_loader)\n"
   ]
  },
  {
   "cell_type": "code",
   "execution_count": 43,
   "id": "c1547a6c-0745-47c8-bb46-a7dc042d9939",
   "metadata": {
    "tags": []
   },
   "outputs": [
    {
     "data": {
      "text/plain": [
       "[4177, 5377, 907, 12800, 319, 2811, 362, 1510, 7237, 9651]"
      ]
     },
     "execution_count": 43,
     "metadata": {},
     "output_type": "execute_result"
    }
   ],
   "source": [
    "shard_loader.get_next_tokens(10)"
   ]
  },
  {
   "cell_type": "code",
   "execution_count": null,
   "id": "310ca24d-553c-4935-8f1f-a99a1f028bf3",
   "metadata": {},
   "outputs": [],
   "source": []
  },
  {
   "cell_type": "code",
   "execution_count": 9,
   "id": "cd403c46-8e30-4a16-a4d7-c1226c0ddc52",
   "metadata": {
    "tags": []
   },
   "outputs": [],
   "source": [
    "import tiktoken\n",
    "enc = tiktoken.get_encoding(\"gpt2\")"
   ]
  },
  {
   "cell_type": "code",
   "execution_count": null,
   "id": "fad81dd6-65fb-4404-b0e0-8d4222fb7ec1",
   "metadata": {
    "tags": []
   },
   "outputs": [],
   "source": [
    "len(data)"
   ]
  },
  {
   "cell_type": "code",
   "execution_count": null,
   "id": "ebae8ddd-8438-478a-b3a8-076ab42658d2",
   "metadata": {
    "tags": []
   },
   "outputs": [],
   "source": []
  },
  {
   "cell_type": "code",
   "execution_count": 5,
   "id": "5e5b448c-27d9-42a6-a1ea-f8914a60097e",
   "metadata": {
    "tags": []
   },
   "outputs": [],
   "source": [
    "from dataloader import DataLoader"
   ]
  },
  {
   "cell_type": "code",
   "execution_count": 4,
   "id": "b51d6a56-2410-4e5f-860c-04306ac258eb",
   "metadata": {
    "tags": []
   },
   "outputs": [
    {
     "name": "stdout",
     "output_type": "stream",
     "text": [
      "Collecting tiktoken\n",
      "  Downloading tiktoken-0.9.0-cp311-cp311-manylinux_2_17_x86_64.manylinux2014_x86_64.whl.metadata (6.7 kB)\n",
      "Requirement already satisfied: regex>=2022.1.18 in /usr/local/lib/python3.11/dist-packages (from tiktoken) (2023.12.25)\n",
      "Requirement already satisfied: requests>=2.26.0 in /usr/local/lib/python3.11/dist-packages (from tiktoken) (2.31.0)\n",
      "Requirement already satisfied: charset-normalizer<4,>=2 in /usr/local/lib/python3.11/dist-packages (from requests>=2.26.0->tiktoken) (3.3.2)\n",
      "Requirement already satisfied: idna<4,>=2.5 in /usr/lib/python3/dist-packages (from requests>=2.26.0->tiktoken) (3.3)\n",
      "Requirement already satisfied: urllib3<3,>=1.21.1 in /usr/local/lib/python3.11/dist-packages (from requests>=2.26.0->tiktoken) (2.0.7)\n",
      "Requirement already satisfied: certifi>=2017.4.17 in /usr/lib/python3/dist-packages (from requests>=2.26.0->tiktoken) (2020.6.20)\n",
      "Downloading tiktoken-0.9.0-cp311-cp311-manylinux_2_17_x86_64.manylinux2014_x86_64.whl (1.2 MB)\n",
      "\u001b[2K   \u001b[90m━━━━━━━━━━━━━━━━━━━━━━━━━━━━━━━━━━━━━━━━\u001b[0m \u001b[32m1.2/1.2 MB\u001b[0m \u001b[31m20.8 MB/s\u001b[0m eta \u001b[36m0:00:00\u001b[0m \u001b[36m0:00:01\u001b[0m\n",
      "\u001b[?25hInstalling collected packages: tiktoken\n",
      "Successfully installed tiktoken-0.9.0\n",
      "\u001b[33mWARNING: Running pip as the 'root' user can result in broken permissions and conflicting behaviour with the system package manager. It is recommended to use a virtual environment instead: https://pip.pypa.io/warnings/venv\u001b[0m\u001b[33m\n",
      "\u001b[0m"
     ]
    }
   ],
   "source": [
    "!pip install tiktoken"
   ]
  },
  {
   "cell_type": "code",
   "execution_count": 7,
   "id": "55446ac7-eb6e-4e0e-823a-720651ea82e2",
   "metadata": {
    "tags": []
   },
   "outputs": [],
   "source": [
    "from GPT import GPT, GPTConfig\n",
    "from dataloader import DataLoader\n",
    "from evaluation import evaluate_downstream_cbt_with_probs\n",
    "from generate import sample_generations\n",
    "from utils import device, get_free_gpu_memory, LossLogs, save_checkpoint, load_checkpoint\n",
    "\n",
    "config = GPTConfig()\n",
    "config.mini_batch_size = 32\n",
    "config.total_batch_size = 64*64\n",
    "config.block_size = 1024\n",
    "config.epochs = 1000000\n",
    "config.validation_frequency = 10\n",
    "config.validation_epochs = 5\n",
    "config.tokenizer_name = \"gpt2\"\n",
    "config.dataset_directory = \"./tokenized_shards\"\n",
    "config.downstream_evals_iterations = 300\n",
    "config.downstream_evals_frequency = 100"
   ]
  },
  {
   "cell_type": "code",
   "execution_count": 1,
   "id": "b11e2bc0-9cf5-45a9-b5da-c02ac3fdeabb",
   "metadata": {
    "tags": []
   },
   "outputs": [],
   "source": [
    "from dataclasses import dataclass\n",
    "@dataclass\n",
    "class TestConfig:\n",
    "    block_size: int = 1024\n",
    "    vocab_size: int = 50257\n",
    "    n_embd: int = 768\n",
    "    batch_size: int = 1\n",
    "    n_layer: int = 12\n",
    "    n_head: int = 12"
   ]
  },
  {
   "cell_type": "code",
   "execution_count": 2,
   "id": "9606854d-c4c3-41e0-b48c-53855279b9ff",
   "metadata": {
    "tags": []
   },
   "outputs": [],
   "source": [
    "config = TestConfig\n",
    "config.mini_batch_size = 32\n",
    "config.total_batch_size = 64*64\n",
    "config.block_size = 1024\n",
    "config.epochs = 1000000\n",
    "config.validation_frequency = 10\n",
    "config.validation_epochs = 5\n",
    "config.tokenizer_name = \"gpt2\"\n",
    "config.dataset_directory = \"./tokenized_shards\"\n",
    "config.downstream_evals_iterations = 300\n",
    "config.downstream_evals_frequency = 100"
   ]
  },
  {
   "cell_type": "code",
   "execution_count": 13,
   "id": "3613c5e0-254e-4324-944a-04be4885f978",
   "metadata": {
    "tags": []
   },
   "outputs": [
    {
     "name": "stdout",
     "output_type": "stream",
     "text": [
      "The autoreload extension is already loaded. To reload it, use:\n",
      "  %reload_ext autoreload\n",
      "[DataLoader.__init__] loaded tokenizer=tiktoken.gpt2, vocab_size=50257\n",
      "[ShardLoader._get_shard_data] loading ./tokenized_shards/train_shard_00000.pkl\n",
      "[ShardLoader._get_shard_data] 14.49s to load shard ./tokenized_shards/train_shard_00000.pkl\n",
      "[ShardLoader._get_shard_data] loading ./tokenized_shards/train_shard_00038.pkl\n",
      "[ShardLoader._get_shard_data] 12.87s to load shard ./tokenized_shards/train_shard_00038.pkl\n",
      "1\n",
      "[DataLoader.__init__] loaded tokenizer=tiktoken.gpt2, vocab_size=50257\n",
      "[ShardLoader._get_shard_data] loading ./tokenized_shards/train_shard_00000.pkl\n",
      "[ShardLoader._get_shard_data] 15.30s to load shard ./tokenized_shards/train_shard_00000.pkl\n",
      "42\n"
     ]
    }
   ],
   "source": [
    "%load_ext autoreload\n",
    "%autoreload 2\n",
    "from dataloader import DataLoader\n",
    "dataloader1 = DataLoader(config, process_rank=0, num_processes=2)\n",
    "print(dataloader1.train_shard_loader.data_ix)\n",
    "dataloader2 = DataLoader(config, process_rank=1, num_processes=2)\n",
    "print(dataloader2.train_shard_loader.data_ix)"
   ]
  },
  {
   "cell_type": "code",
   "execution_count": 14,
   "id": "9b721fbe-ed67-4100-98b6-520b17779740",
   "metadata": {
    "tags": []
   },
   "outputs": [
    {
     "name": "stdout",
     "output_type": "stream",
     "text": [
      "[DataLoader.next_batch] process_rank=0 shard_loader.data_ix=1 shard_loader.shard_ix=0\n",
      "[DataLoader.next_batch] process_rank=0 shard_loader.data_ix=42 shard_loader.shard_ix=0\n",
      "[DataLoader.next_batch] batch_step=32768 completed in 0.005865573883056641s\n"
     ]
    }
   ],
   "source": [
    "x1, y2 = dataloader1.next_batch()"
   ]
  },
  {
   "cell_type": "code",
   "execution_count": 15,
   "id": "31252ee8-fb3d-4aee-bc45-e23e9c8242a4",
   "metadata": {
    "tags": []
   },
   "outputs": [
    {
     "data": {
      "text/plain": [
       "86"
      ]
     },
     "execution_count": 15,
     "metadata": {},
     "output_type": "execute_result"
    }
   ],
   "source": [
    "dataloader1.train_shard_loader.data_ix"
   ]
  },
  {
   "cell_type": "code",
   "execution_count": 16,
   "id": "6a2c4227-f218-4e48-8b23-d2625f71e3c5",
   "metadata": {
    "tags": []
   },
   "outputs": [
    {
     "name": "stdout",
     "output_type": "stream",
     "text": [
      "[DataLoader.next_batch] process_rank=1 shard_loader.data_ix=42 shard_loader.shard_ix=0\n",
      "[DataLoader.next_batch] process_rank=1 shard_loader.data_ix=86 shard_loader.shard_ix=0\n",
      "[DataLoader.next_batch] batch_step=32768 completed in 0.006311178207397461s\n"
     ]
    }
   ],
   "source": [
    "x3, y4 = dataloader2.next_batch()"
   ]
  },
  {
   "cell_type": "code",
   "execution_count": 17,
   "id": "5f8a25e3-18bd-44a8-aa51-2951544fd3cf",
   "metadata": {
    "tags": []
   },
   "outputs": [
    {
     "data": {
      "text/plain": [
       "135"
      ]
     },
     "execution_count": 17,
     "metadata": {},
     "output_type": "execute_result"
    }
   ],
   "source": [
    "dataloader2.train_shard_loader.data_ix"
   ]
  },
  {
   "cell_type": "markdown",
   "id": "44436f4c-a1f6-436c-9843-9bf98bc7df6a",
   "metadata": {},
   "source": [
    "This implements \"strided sampling\" where:\n",
    "\n",
    "Each GPU (process) gets assigned non-overlapping sections of data\n",
    "Process 0 might handle indices 0, N, 2N, 3N...\n",
    "Process 1 might handle indices 1, N+1, 2N+1, 3N+1...\n",
    "\n",
    "This approach distributes the workload evenly while ensuring the entire dataset gets processed exactly once across all GPUs."
   ]
  },
  {
   "cell_type": "code",
   "execution_count": 78,
   "id": "4e32f4b7-6daa-4660-b622-bedbbb7ad063",
   "metadata": {
    "tags": []
   },
   "outputs": [
    {
     "data": {
      "text/plain": [
       "torch.Size([100000, 1024])"
      ]
     },
     "execution_count": 78,
     "metadata": {},
     "output_type": "execute_result"
    }
   ],
   "source": [
    "x.shape"
   ]
  },
  {
   "cell_type": "code",
   "execution_count": 86,
   "id": "e5034551-c1bc-47ab-a95d-27819073978e",
   "metadata": {
    "tags": []
   },
   "outputs": [],
   "source": [
    "import torch"
   ]
  },
  {
   "cell_type": "code",
   "execution_count": 90,
   "id": "9115b9c5-0fe8-460c-b547-8c7bfd8af8a3",
   "metadata": {
    "tags": []
   },
   "outputs": [
    {
     "data": {
      "text/plain": [
       "True"
      ]
     },
     "execution_count": 90,
     "metadata": {},
     "output_type": "execute_result"
    }
   ],
   "source": [
    "y.shape == torch.Size([100000, 1024])"
   ]
  },
  {
   "cell_type": "code",
   "execution_count": 88,
   "id": "aadedbaf-f037-45ce-8313-19fa250aed67",
   "metadata": {
    "tags": []
   },
   "outputs": [
    {
     "data": {
      "text/plain": [
       "torch.Size([100000, 1024])"
      ]
     },
     "execution_count": 88,
     "metadata": {},
     "output_type": "execute_result"
    }
   ],
   "source": [
    "y.shape"
   ]
  },
  {
   "cell_type": "code",
   "execution_count": 29,
   "id": "ef53808e-9779-4361-bd98-08b974b1c476",
   "metadata": {
    "tags": []
   },
   "outputs": [
    {
     "data": {
      "text/plain": [
       "1"
      ]
     },
     "execution_count": 29,
     "metadata": {},
     "output_type": "execute_result"
    }
   ],
   "source": [
    "dataloader.batch_size"
   ]
  },
  {
   "cell_type": "code",
   "execution_count": 75,
   "id": "0bfa1771-63b0-40bf-8f1d-af111e3f7f66",
   "metadata": {
    "tags": []
   },
   "outputs": [
    {
     "data": {
      "text/plain": [
       "250000"
      ]
     },
     "execution_count": 75,
     "metadata": {},
     "output_type": "execute_result"
    }
   ],
   "source": [
    "len(dataloader.train_shard_loader.data)"
   ]
  },
  {
   "cell_type": "code",
   "execution_count": null,
   "id": "257dbeb2-7366-4f2a-900c-0f29f63e5138",
   "metadata": {},
   "outputs": [],
   "source": []
  }
 ],
 "metadata": {
  "kernelspec": {
   "display_name": "Python 3 (ipykernel)",
   "language": "python",
   "name": "python3"
  },
  "language_info": {
   "codemirror_mode": {
    "name": "ipython",
    "version": 3
   },
   "file_extension": ".py",
   "mimetype": "text/x-python",
   "name": "python",
   "nbconvert_exporter": "python",
   "pygments_lexer": "ipython3",
   "version": "3.11.7"
  }
 },
 "nbformat": 4,
 "nbformat_minor": 5
}
