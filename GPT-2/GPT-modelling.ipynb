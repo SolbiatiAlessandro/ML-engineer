{
 "cells": [
  {
   "cell_type": "code",
   "execution_count": null,
   "id": "dabba7ef-ce82-4715-ba5a-44e4ee30aed1",
   "metadata": {
    "tags": []
   },
   "outputs": [],
   "source": []
  },
  {
   "cell_type": "code",
   "execution_count": 3,
   "id": "0d206f3d-1d1b-4a5e-9614-1fea31fcb299",
   "metadata": {
    "tags": []
   },
   "outputs": [],
   "source": [
    "sd_hf = model_hf.state_dict()"
   ]
  },
  {
   "cell_type": "code",
   "execution_count": 1,
   "id": "4b73b955-665e-4dde-9573-7d30f20949fd",
   "metadata": {
    "tags": []
   },
   "outputs": [],
   "source": [
    "import torch.nn as nn\n",
    "import torch\n",
    "import torch.nn.functional as F\n",
    "import math"
   ]
  },
  {
   "cell_type": "code",
   "execution_count": 2,
   "id": "da007d29-b5a8-4427-a572-f27e40a59a69",
   "metadata": {
    "tags": []
   },
   "outputs": [],
   "source": [
    "from dataclasses import dataclass\n",
    "\n",
    "@dataclass\n",
    "class GPTConfig:\n",
    "    block_size: int = 1024\n",
    "    vocab_size: int = 50257\n",
    "    n_embd: int = 768\n",
    "    batch_size: int = 1\n",
    "    n_layer: int = 12\n",
    "    n_head: int = 12\n",
    "    \n",
    "config = GPTConfig"
   ]
  },
  {
   "cell_type": "code",
   "execution_count": 3,
   "id": "410e2042-9d6b-4814-b62d-bd6890ac581b",
   "metadata": {
    "tags": []
   },
   "outputs": [],
   "source": [
    "device = torch.device('cuda') if torch.cuda.is_available() else 'cpu'"
   ]
  },
  {
   "cell_type": "code",
   "execution_count": 4,
   "id": "27df990b-e02d-4418-b7e9-b087b95cd539",
   "metadata": {
    "tags": []
   },
   "outputs": [
    {
     "data": {
      "text/plain": [
       "device(type='cuda')"
      ]
     },
     "execution_count": 4,
     "metadata": {},
     "output_type": "execute_result"
    }
   ],
   "source": [
    "device"
   ]
  },
  {
   "cell_type": "code",
   "execution_count": 5,
   "id": "81b78cf3-54b3-4194-81b4-1278189e09a2",
   "metadata": {
    "tags": []
   },
   "outputs": [],
   "source": [
    "class MultiHeadedMaskedSelfAttention(nn.Module):\n",
    "    \"\"\"\n",
    "    transformer.h.0.attn.c_attn.weight torch.Size([768, 2304])\n",
    "    transformer.h.0.attn.c_attn.bias torch.Size([2304])\n",
    "    transformer.h.0.attn.c_proj.weight torch.Size([768, 768])\n",
    "    transformer.h.0.attn.c_proj.bias torch.Size([768])\n",
    "    \"\"\"\n",
    "    def __init__(self, config):\n",
    "        super().__init__()\n",
    "        \n",
    "        self.c_attn = nn.Linear(config.n_embd, config.n_embd * 3)\n",
    "        self.c_proj = nn.Linear(config.n_embd, config.n_embd)\n",
    "        \n",
    "        \n",
    "    def forward(self, x):\n",
    "        B, T, C = x.size()\n",
    "        qkv = self.c_attn(x)\n",
    "        q,k,v = qkv.split(split_size=config.n_embd, dim=2)\n",
    "        q = q.view(\n",
    "            B, \n",
    "            T, \n",
    "            config.n_head,\n",
    "            config.n_embd // config.n_head\n",
    "        ).transpose(1,2)\n",
    "        k = k.view(\n",
    "            B, \n",
    "            T, \n",
    "            config.n_head,\n",
    "            config.n_embd // config.n_head\n",
    "        ).transpose(1,2)\n",
    "        \n",
    "        attention = (q @ k.transpose(2,3)) * (1.0 / math.sqrt(k.size(-1)))\n",
    "        \n",
    "        # this could be slow cause we are creating mask every time\n",
    "        masked_attention = F.softmax(\n",
    "            attention.masked_fill(\n",
    "                ~torch.tril(torch.ones_like(attention, dtype=torch.bool, device=device)), \n",
    "                float('-inf')),\n",
    "            dim=-1)\n",
    "        \n",
    "        v = v.view(\n",
    "            B, \n",
    "            T, \n",
    "            config.n_head,\n",
    "            config.n_embd // config.n_head\n",
    "        ).transpose(1,2)\n",
    "        \n",
    "        out = masked_attention @ v\n",
    "        out = out.transpose(1,2).contiguous().view(B,T,config.n_embd)\n",
    "        out = self.c_proj(out)\n",
    "        return out\n",
    "        \n",
    "class MLP(nn.Module):\n",
    "    \"\"\"\n",
    "    transformer.h.0.mlp.c_fc.weight torch.Size([768, 3072])\n",
    "    transformer.h.0.mlp.c_fc.bias torch.Size([3072])\n",
    "    transformer.h.0.mlp.c_proj.weight torch.Size([3072, 768])\n",
    "    transformer.h.0.mlp.c_proj.bias torch.Size([768])\n",
    "    \"\"\"\n",
    "    def __init__(self, config):\n",
    "        super().__init__()\n",
    "        self.c_fc = nn.Linear(config.n_embd, config.n_embd * 4)\n",
    "        self.c_proj = nn.Linear(config.n_embd * 4, config.n_embd)\n",
    "        self.activation = nn.GELU(approximate='tanh')\n",
    "        \n",
    "    def forward(self, x):\n",
    "        x = self.c_fc(x)\n",
    "        x = self.activation(x)\n",
    "        x = self.c_proj(x)\n",
    "        return x\n",
    "\n",
    "\n",
    "class TransformerBlock(nn.Module):\n",
    "    def __init__(self, config):\n",
    "        super().__init__()\n",
    "        self.config = config\n",
    "        self.ln_1 = nn.LayerNorm(config.n_embd)\n",
    "        self.attn = MultiHeadedMaskedSelfAttention(config)\n",
    "        self.ln_2 = nn.LayerNorm(config.n_embd)\n",
    "        self.mlp = MLP(config)\n",
    "    \n",
    "    def forward(self, x):\n",
    "        attention = self.attn(self.ln_1(x))\n",
    "        x = attention + x\n",
    "        mlp = self.mlp(self.ln_2(x))\n",
    "        x = mlp + x\n",
    "        return x\n",
    "\n",
    "class GPT(nn.Module):\n",
    "    def __init__(self, config, device=device):\n",
    "        super().__init__()\n",
    "        self.config = config\n",
    "        self.transformer = nn.ModuleDict(dict(\n",
    "             wte = nn.Embedding(config.vocab_size, config.n_embd),\n",
    "             wpe = nn.Embedding(config.block_size, config.n_embd),\n",
    "             h = nn.ModuleList(TransformerBlock(config) for _ in range(config.n_layer)),\n",
    "             ln_f = nn.LayerNorm(config.n_embd)\n",
    "        ))\n",
    "        self.lm_head = nn.Linear(config.n_embd, config.vocab_size, bias=False)\n",
    "        self.position_input = torch.tensor(range(config.block_size), device=device)\n",
    "        \n",
    "    def forward(self, x, embedding=False):\n",
    "        B, T = x.size()\n",
    "        assert T <= self.config.block_size, f\"(alex) Sequence too long! (length={T})\"\n",
    "        x = self.transformer.wte(x) + self.transformer.wpe(torch.arange(0, T, dtype=torch.long, device=x.device))\n",
    "        for block in self.transformer.h:\n",
    "            x = block(x)\n",
    "        x = self.transformer.ln_f(x)\n",
    "        if embedding: return x\n",
    "        x = self.lm_head(x)\n",
    "        return x\n",
    "    \n",
    "    @classmethod\n",
    "    def from_pretrained(cls, model_type):\n",
    "        \"\"\"Loads pretrained GPT-2 model weights from huggingface\"\"\"\n",
    "        assert model_type in {'gpt2', 'gpt2-medium', 'gpt2-large', 'gpt2-xl'}\n",
    "        from transformers import GPT2LMHeadModel\n",
    "        print(\"loading weights from pretrained gpt: %s\" % model_type)\n",
    "\n",
    "        # n_layer, n_head and n_embd are determined from model_type\n",
    "        config_args = {\n",
    "            'gpt2':         dict(n_layer=12, n_head=12, n_embd=768),  # 124M params\n",
    "            'gpt2-medium':  dict(n_layer=24, n_head=16, n_embd=1024), # 350M params\n",
    "            'gpt2-large':   dict(n_layer=36, n_head=20, n_embd=1280), # 774M params\n",
    "            'gpt2-xl':      dict(n_layer=48, n_head=25, n_embd=1600), # 1558M params\n",
    "        }[model_type]\n",
    "        print(config_args)\n",
    "        config_args['vocab_size'] = 50257 # always 50257 for GPT model checkpoints\n",
    "        config_args['block_size'] = 1024 # always 1024 for GPT model checkpoints\n",
    "        # create a from-scratch initialized minGPT model\n",
    "        config = GPTConfig(**config_args)\n",
    "        model = GPT(config)\n",
    "        sd = model.state_dict()\n",
    "        sd_keys = sd.keys()\n",
    "        sd_keys = [k for k in sd_keys if not k.endswith('.attn.bias')] # discard this mask / buffer, not a param\n",
    "\n",
    "        # init a huggingface/transformers model\n",
    "        model_hf = GPT2LMHeadModel.from_pretrained(model_type)\n",
    "        sd_hf = model_hf.state_dict()\n",
    "\n",
    "        # copy while ensuring all of the parameters are aligned and match in names and shapes\n",
    "        sd_keys_hf = sd_hf.keys()\n",
    "        sd_keys_hf = [k for k in sd_keys_hf if not k.endswith('.attn.masked_bias')] # ignore these, just a buffer\n",
    "        sd_keys_hf = [k for k in sd_keys_hf if not k.endswith('.attn.bias')] # same, just the mask (buffer)\n",
    "        transposed = ['attn.c_attn.weight', 'attn.c_proj.weight', 'mlp.c_fc.weight', 'mlp.c_proj.weight']\n",
    "        # basically the openai checkpoints use a \"Conv1D\" module, but we only want to use a vanilla Linear\n",
    "        # this means that we have to transpose these weights when we import them\n",
    "        \n",
    "        for k in sd_keys:\n",
    "            if k not in sd_keys_hf:\n",
    "                print(k)\n",
    "        assert len(sd_keys_hf) == len(sd_keys), f\"mismatched keys: {len(sd_keys_hf)} != {len(sd_keys)}\"\n",
    "        for k in sd_keys_hf:\n",
    "            if any(k.endswith(w) for w in transposed):\n",
    "                # special treatment for the Conv1D weights we need to transpose\n",
    "                assert sd_hf[k].shape[::-1] == sd[k].shape\n",
    "                with torch.no_grad():\n",
    "                    sd[k].copy_(sd_hf[k].t())\n",
    "            else:\n",
    "                # vanilla copy over the other parameters\n",
    "                assert sd_hf[k].shape == sd[k].shape\n",
    "                with torch.no_grad():\n",
    "                    sd[k].copy_(sd_hf[k])\n",
    "\n",
    "        return model\n",
    "\n",
    "       "
   ]
  },
  {
   "cell_type": "code",
   "execution_count": 6,
   "id": "fa814d32-207b-4d18-9db6-ec8f6838fcad",
   "metadata": {
    "tags": []
   },
   "outputs": [
    {
     "name": "stdout",
     "output_type": "stream",
     "text": [
      "loading weights from pretrained gpt: gpt2\n",
      "{'n_layer': 12, 'n_head': 12, 'n_embd': 768}\n"
     ]
    },
    {
     "data": {
      "application/vnd.jupyter.widget-view+json": {
       "model_id": "160b077101914cae97b0846141d02965",
       "version_major": 2,
       "version_minor": 0
      },
      "text/plain": [
       "config.json:   0%|          | 0.00/665 [00:00<?, ?B/s]"
      ]
     },
     "metadata": {},
     "output_type": "display_data"
    },
    {
     "data": {
      "application/vnd.jupyter.widget-view+json": {
       "model_id": "b8bf8e64ef8c4f12b7656c39f8608c28",
       "version_major": 2,
       "version_minor": 0
      },
      "text/plain": [
       "model.safetensors:   0%|          | 0.00/548M [00:00<?, ?B/s]"
      ]
     },
     "metadata": {},
     "output_type": "display_data"
    },
    {
     "data": {
      "application/vnd.jupyter.widget-view+json": {
       "model_id": "972be01ef1f4410187d7635e2d563c51",
       "version_major": 2,
       "version_minor": 0
      },
      "text/plain": [
       "generation_config.json:   0%|          | 0.00/124 [00:00<?, ?B/s]"
      ]
     },
     "metadata": {},
     "output_type": "display_data"
    },
    {
     "data": {
      "text/plain": [
       "GPT(\n",
       "  (transformer): ModuleDict(\n",
       "    (wte): Embedding(50257, 768)\n",
       "    (wpe): Embedding(1024, 768)\n",
       "    (h): ModuleList(\n",
       "      (0-11): 12 x TransformerBlock(\n",
       "        (ln_1): LayerNorm((768,), eps=1e-05, elementwise_affine=True)\n",
       "        (attn): MultiHeadedMaskedSelfAttention(\n",
       "          (c_attn): Linear(in_features=768, out_features=2304, bias=True)\n",
       "          (c_proj): Linear(in_features=768, out_features=768, bias=True)\n",
       "        )\n",
       "        (ln_2): LayerNorm((768,), eps=1e-05, elementwise_affine=True)\n",
       "        (mlp): MLP(\n",
       "          (c_fc): Linear(in_features=768, out_features=3072, bias=True)\n",
       "          (c_proj): Linear(in_features=3072, out_features=768, bias=True)\n",
       "          (activation): GELU(approximate='tanh')\n",
       "        )\n",
       "      )\n",
       "    )\n",
       "    (ln_f): LayerNorm((768,), eps=1e-05, elementwise_affine=True)\n",
       "  )\n",
       "  (lm_head): Linear(in_features=768, out_features=50257, bias=False)\n",
       ")"
      ]
     },
     "execution_count": 6,
     "metadata": {},
     "output_type": "execute_result"
    }
   ],
   "source": [
    "gpt = GPT.from_pretrained('gpt2')\n",
    "gpt.to(device)\n"
   ]
  },
  {
   "cell_type": "code",
   "execution_count": 10,
   "id": "b8af90c0-8da0-4aad-92a4-03a6daa01b97",
   "metadata": {
    "tags": []
   },
   "outputs": [
    {
     "data": {
      "text/plain": [
       "torch.Size([50257, 768])"
      ]
     },
     "execution_count": 10,
     "metadata": {},
     "output_type": "execute_result"
    }
   ],
   "source": [
    "gpt.transformer.wte.weight.shape"
   ]
  },
  {
   "cell_type": "code",
   "execution_count": 11,
   "id": "420066bf-5e91-46be-b825-db9f63bbeceb",
   "metadata": {
    "tags": []
   },
   "outputs": [
    {
     "data": {
      "text/plain": [
       "torch.Size([50257, 768])"
      ]
     },
     "execution_count": 11,
     "metadata": {},
     "output_type": "execute_result"
    }
   ],
   "source": [
    "gpt.lm_head.weight.shape"
   ]
  },
  {
   "cell_type": "code",
   "execution_count": 13,
   "id": "7b3df1e1-4f9c-4a99-9274-585a9f3ac58b",
   "metadata": {
    "tags": []
   },
   "outputs": [
    {
     "data": {
      "text/plain": [
       "tensor(True, device='cuda:0')"
      ]
     },
     "execution_count": 13,
     "metadata": {},
     "output_type": "execute_result"
    }
   ],
   "source": [
    "(gpt.transformer.wte.weight == gpt.lm_head.weight).all()"
   ]
  },
  {
   "cell_type": "code",
   "execution_count": 114,
   "id": "66d574ed-7d09-4bc1-a44c-5100cc214c0b",
   "metadata": {
    "tags": []
   },
   "outputs": [
    {
     "data": {
      "text/plain": [
       "torch.Size([1, 1023])"
      ]
     },
     "execution_count": 114,
     "metadata": {},
     "output_type": "execute_result"
    }
   ],
   "source": [
    "x = torch.randint(0, config.vocab_size, (config.batch_size, 1023), device=device)\n",
    "x.shape\n",
    "#x = gpt(x)"
   ]
  },
  {
   "cell_type": "code",
   "execution_count": 199,
   "id": "7a3fc8db-1fc6-42f1-b288-a91aadf062b6",
   "metadata": {
    "tags": []
   },
   "outputs": [
    {
     "data": {
      "text/plain": [
       "[1, 1023]"
      ]
     },
     "execution_count": 199,
     "metadata": {},
     "output_type": "execute_result"
    }
   ],
   "source": [
    "torch.tensor(x.shape).tolist()"
   ]
  },
  {
   "cell_type": "code",
   "execution_count": 116,
   "id": "e7d256ea-f60a-4f1e-8763-55c18068bc6b",
   "metadata": {
    "tags": []
   },
   "outputs": [
    {
     "data": {
      "text/plain": [
       "torch.Size([1, 1023, 50257])"
      ]
     },
     "execution_count": 116,
     "metadata": {},
     "output_type": "execute_result"
    }
   ],
   "source": [
    "x = gpt(x)\n",
    "x.shape"
   ]
  },
  {
   "cell_type": "code",
   "execution_count": 5,
   "id": "cc72ac54-ec37-48f3-a33e-ede16a8a2ccd",
   "metadata": {
    "tags": []
   },
   "outputs": [
    {
     "data": {
      "text/plain": [
       "<matplotlib.image.AxesImage at 0x7fa882d49d10>"
      ]
     },
     "execution_count": 5,
     "metadata": {},
     "output_type": "execute_result"
    },
    {
     "data": {
      "image/png": "[encoded data removed]",
      "text/plain": [
       "<Figure size 640x480 with 1 Axes>"
      ]
     },
     "metadata": {},
     "output_type": "display_data"
    }
   ],
   "source": [
    "import matplotlib.pyplot as plt\n",
    "\n",
    "plt.imshow(sd_hf[\"transformer.wpe.weight\"],cmap=\"gray\")"
   ]
  },
  {
   "cell_type": "code",
   "execution_count": 18,
   "id": "5b2e9293-2178-4cbb-8fd4-cf67f9f5b849",
   "metadata": {
    "tags": []
   },
   "outputs": [
    {
     "data": {
      "text/plain": [
       "[<matplotlib.lines.Line2D at 0x7fa8805cc750>]"
      ]
     },
     "execution_count": 18,
     "metadata": {},
     "output_type": "execute_result"
    },
    {
     "data": {
      "image/png": "[encoded data removed]",
      "text/plain": [
       "<Figure size 640x480 with 1 Axes>"
      ]
     },
     "metadata": {},
     "output_type": "display_data"
    }
   ],
   "source": [
    "plt.plot(sd_hf['transformer.wpe.weight'][:, 250])\n",
    "plt.plot(sd_hf['transformer.wpe.weight'][:, 150])\n"
   ]
  },
  {
   "cell_type": "code",
   "execution_count": 306,
   "id": "3c2f3c2a-2cfc-41d0-a707-2208370b9626",
   "metadata": {
    "tags": []
   },
   "outputs": [
    {
     "name": "stderr",
     "output_type": "stream",
     "text": [
      "Setting `pad_token_id` to `eos_token_id`:50256 for open-end generation.\n"
     ]
    },
    {
     "name": "stdout",
     "output_type": "stream",
     "text": [
      "Yesterday I have heard that some people that were told to change everything for me, as compared to the previous one, the \"Growth for the future\" was said to be the most important thing for this generation, by many. The first thing to do is to get that future over with. And, what people are saying, is to look at each other the same again and again and again and again, this time in a big way. But the only time we did that was to get the\n"
     ]
    }
   ],
   "source": [
    "from transformers import pipeline, set_seed\n",
    "generator = pipeline('text-generation', model='gpt2')\n",
    "set_seed(42)\n",
    "print(generator(\n",
    "    \"Yesterday I\", \n",
    "    max_length=100, num_return_sequences=1)[0]['generated_text'])\n"
   ]
  },
  {
   "cell_type": "code",
   "execution_count": 10,
   "id": "7af4b2dc-9b93-4b79-9303-695b8e703e94",
   "metadata": {
    "tags": []
   },
   "outputs": [
    {
     "data": {
      "text/plain": [
       "GPT(\n",
       "  (transformer): ModuleDict(\n",
       "    (wte): Embedding(50257, 768)\n",
       "    (wpe): Embedding(1024, 768)\n",
       "    (h): ModuleList(\n",
       "      (0-11): 12 x TransformerBlock(\n",
       "        (ln_1): LayerNorm((768,), eps=1e-05, elementwise_affine=True)\n",
       "        (attn): MultiHeadedMaskedSelfAttention(\n",
       "          (c_attn): Linear(in_features=768, out_features=2304, bias=True)\n",
       "          (c_proj): Linear(in_features=768, out_features=768, bias=True)\n",
       "        )\n",
       "        (ln_2): LayerNorm((768,), eps=1e-05, elementwise_affine=True)\n",
       "        (mlp): MLP(\n",
       "          (c_fc): Linear(in_features=768, out_features=3072, bias=True)\n",
       "          (c_proj): Linear(in_features=3072, out_features=768, bias=True)\n",
       "          (activation): GELU(approximate='tanh')\n",
       "        )\n",
       "      )\n",
       "    )\n",
       "    (ln_f): LayerNorm((768,), eps=1e-05, elementwise_affine=True)\n",
       "  )\n",
       "  (lm_head): Linear(in_features=768, out_features=50257, bias=False)\n",
       ")"
      ]
     },
     "execution_count": 10,
     "metadata": {},
     "output_type": "execute_result"
    }
   ],
   "source": [
    "gpt.eval()"
   ]
  },
  {
   "cell_type": "code",
   "execution_count": 23,
   "id": "122c2ac0-ec89-4a1c-af50-c479619604ad",
   "metadata": {
    "tags": []
   },
   "outputs": [
    {
     "data": {
      "text/plain": [
       "GPT(\n",
       "  (transformer): ModuleDict(\n",
       "    (wte): Embedding(50257, 768)\n",
       "    (wpe): Embedding(1024, 768)\n",
       "    (h): ModuleList(\n",
       "      (0-11): 12 x TransformerBlock(\n",
       "        (ln_1): LayerNorm((768,), eps=1e-05, elementwise_affine=True)\n",
       "        (attn): MultiHeadedMaskedSelfAttention(\n",
       "          (c_attn): Linear(in_features=768, out_features=2304, bias=True)\n",
       "          (c_proj): Linear(in_features=768, out_features=768, bias=True)\n",
       "        )\n",
       "        (ln_2): LayerNorm((768,), eps=1e-05, elementwise_affine=True)\n",
       "        (mlp): MLP(\n",
       "          (c_fc): Linear(in_features=768, out_features=3072, bias=True)\n",
       "          (c_proj): Linear(in_features=3072, out_features=768, bias=True)\n",
       "          (activation): GELU(approximate='tanh')\n",
       "        )\n",
       "      )\n",
       "    )\n",
       "    (ln_f): LayerNorm((768,), eps=1e-05, elementwise_affine=True)\n",
       "  )\n",
       "  (lm_head): Linear(in_features=768, out_features=50257, bias=False)\n",
       ")"
      ]
     },
     "execution_count": 23,
     "metadata": {},
     "output_type": "execute_result"
    }
   ],
   "source": [
    "gpt.to('cuda')"
   ]
  },
  {
   "cell_type": "code",
   "execution_count": 9,
   "id": "ff67a701-28e3-4b91-ad22-81bb828f491c",
   "metadata": {
    "tags": []
   },
   "outputs": [
    {
     "name": "stdout",
     "output_type": "stream",
     "text": [
      "Thu Feb 20 00:08:53 2025       \n",
      "+-----------------------------------------------------------------------------+\n",
      "| NVIDIA-SMI 525.116.04   Driver Version: 525.116.04   CUDA Version: 12.0     |\n",
      "|-------------------------------+----------------------+----------------------+\n",
      "| GPU  Name        Persistence-M| Bus-Id        Disp.A | Volatile Uncorr. ECC |\n",
      "| Fan  Temp  Perf  Pwr:Usage/Cap|         Memory-Usage | GPU-Util  Compute M. |\n",
      "|                               |                      |               MIG M. |\n",
      "|===============================+======================+======================|\n",
      "|   0  NVIDIA RTX A4000    Off  | 00000000:00:05.0 Off |                  Off |\n",
      "| 41%   49C    P2    40W / 140W |   1407MiB / 16376MiB |      0%      Default |\n",
      "|                               |                      |                  N/A |\n",
      "+-------------------------------+----------------------+----------------------+\n",
      "                                                                               \n",
      "+-----------------------------------------------------------------------------+\n",
      "| Processes:                                                                  |\n",
      "|  GPU   GI   CI        PID   Type   Process name                  GPU Memory |\n",
      "|        ID   ID                                                   Usage      |\n",
      "|=============================================================================|\n",
      "+-----------------------------------------------------------------------------+\n"
     ]
    }
   ],
   "source": [
    "!nvidia-smi"
   ]
  },
  {
   "cell_type": "code",
   "execution_count": 9,
   "id": "1f63b77c-121d-427f-a96f-3ed7965a7e89",
   "metadata": {
    "tags": []
   },
   "outputs": [
    {
     "name": "stdout",
     "output_type": "stream",
     "text": [
      "Collecting tiktoken\n",
      "  Downloading tiktoken-0.9.0-cp311-cp311-manylinux_2_17_x86_64.manylinux2014_x86_64.whl.metadata (6.7 kB)\n",
      "Requirement already satisfied: regex>=2022.1.18 in /usr/local/lib/python3.11/dist-packages (from tiktoken) (2023.12.25)\n",
      "Requirement already satisfied: requests>=2.26.0 in /usr/local/lib/python3.11/dist-packages (from tiktoken) (2.31.0)\n",
      "Requirement already satisfied: charset-normalizer<4,>=2 in /usr/local/lib/python3.11/dist-packages (from requests>=2.26.0->tiktoken) (3.3.2)\n",
      "Requirement already satisfied: idna<4,>=2.5 in /usr/lib/python3/dist-packages (from requests>=2.26.0->tiktoken) (3.3)\n",
      "Requirement already satisfied: urllib3<3,>=1.21.1 in /usr/local/lib/python3.11/dist-packages (from requests>=2.26.0->tiktoken) (2.0.7)\n",
      "Requirement already satisfied: certifi>=2017.4.17 in /usr/lib/python3/dist-packages (from requests>=2.26.0->tiktoken) (2020.6.20)\n",
      "Downloading tiktoken-0.9.0-cp311-cp311-manylinux_2_17_x86_64.manylinux2014_x86_64.whl (1.2 MB)\n",
      "\u001b[2K   \u001b[90m━━━━━━━━━━━━━━━━━━━━━━━━━━━━━━━━━━━━━━━━\u001b[0m \u001b[32m1.2/1.2 MB\u001b[0m \u001b[31m24.8 MB/s\u001b[0m eta \u001b[36m0:00:00\u001b[0m \u001b[36m0:00:01\u001b[0m\n",
      "\u001b[?25hInstalling collected packages: tiktoken\n",
      "Successfully installed tiktoken-0.9.0\n",
      "\u001b[33mWARNING: Running pip as the 'root' user can result in broken permissions and conflicting behaviour with the system package manager. It is recommended to use a virtual environment instead: https://pip.pypa.io/warnings/venv\u001b[0m\u001b[33m\n",
      "\u001b[0m"
     ]
    }
   ],
   "source": [
    "!pip install tiktoken"
   ]
  },
  {
   "cell_type": "code",
   "execution_count": 8,
   "id": "19e78fc9-4a18-42fd-9036-21a5da2adc56",
   "metadata": {
    "tags": []
   },
   "outputs": [],
   "source": [
    "import tiktoken\n",
    "enc = tiktoken.get_encoding('gpt2')"
   ]
  },
  {
   "cell_type": "code",
   "execution_count": 9,
   "id": "467b2fa7-c720-44e3-8350-5384fe57a977",
   "metadata": {
    "tags": []
   },
   "outputs": [
    {
     "data": {
      "text/plain": [
       "GPT(\n",
       "  (transformer): ModuleDict(\n",
       "    (wte): Embedding(50257, 768)\n",
       "    (wpe): Embedding(1024, 768)\n",
       "    (h): ModuleList(\n",
       "      (0-11): 12 x TransformerBlock(\n",
       "        (ln_1): LayerNorm((768,), eps=1e-05, elementwise_affine=True)\n",
       "        (attn): MultiHeadedMaskedSelfAttention(\n",
       "          (c_attn): Linear(in_features=768, out_features=2304, bias=True)\n",
       "          (c_proj): Linear(in_features=768, out_features=768, bias=True)\n",
       "        )\n",
       "        (ln_2): LayerNorm((768,), eps=1e-05, elementwise_affine=True)\n",
       "        (mlp): MLP(\n",
       "          (c_fc): Linear(in_features=768, out_features=3072, bias=True)\n",
       "          (c_proj): Linear(in_features=3072, out_features=768, bias=True)\n",
       "          (activation): GELU(approximate='tanh')\n",
       "        )\n",
       "      )\n",
       "    )\n",
       "    (ln_f): LayerNorm((768,), eps=1e-05, elementwise_affine=True)\n",
       "  )\n",
       "  (lm_head): Linear(in_features=768, out_features=50257, bias=False)\n",
       ")"
      ]
     },
     "execution_count": 9,
     "metadata": {},
     "output_type": "execute_result"
    }
   ],
   "source": [
    "gpt.eval()"
   ]
  },
  {
   "cell_type": "code",
   "execution_count": 10,
   "id": "8b171521-e92b-4ec0-9c9f-e4feee9f201f",
   "metadata": {
    "tags": []
   },
   "outputs": [
    {
     "name": "stdout",
     "output_type": "stream",
     "text": [
      "Hello, I'm a language model. People call me \"Nerdy\" for this movie, which was based on a story by\n",
      "None\n",
      "Hello, I'm a language modeler. Yes. I do. It's the only way we can make sure that these individuals do\n",
      "None\n",
      "Hello, I'm a language model for the Internet.\" So what's wrong with the GOP? I think it is because I can see\n",
      "None\n"
     ]
    }
   ],
   "source": [
    "\n",
    "def generate(model, prompt=\"Hello, I'm a language model\", length=20):\n",
    "    \n",
    "    \n",
    "    with torch.no_grad():\n",
    "        enc = tiktoken.get_encoding('gpt2')\n",
    "        tokens = enc.encode(prompt)\n",
    "        #tokens = [220] * (target_length - len(tokens)) + tokens\n",
    "        x = torch.tensor(tokens).to('cuda')\n",
    "        x = x.view(1, len(tokens))\n",
    "        \n",
    "\n",
    "        for i in range(length):\n",
    "            \n",
    "            #print(i)\n",
    "               \n",
    "            y = model(x)\n",
    "            #print(y.shape)\n",
    "            probs = F.softmax(y[0, -1, :], dim=0)\n",
    "            topk_probs, topk_ixs = torch.topk(probs, 50, dim=-1)\n",
    "            ix = torch.multinomial(topk_probs.cpu(), 1).to(topk_probs.device)\n",
    "            y= topk_ixs[ix]\n",
    "            prompt += enc.decode([y[0].item()])\n",
    "            x = torch.cat([x, y.view(1, 1)], dim=1)[:, 1:]\n",
    "            #print(prompt)\n",
    "        \n",
    "    print(prompt)\n",
    "    \n",
    "\n",
    "\n",
    "print(generate(gpt))\n",
    "print(generate(gpt))\n",
    "print(generate(gpt))\n",
    "\n",
    "#callmodel = lambda x: model(x).logits\n",
    "#print(generate(callmodel))"
   ]
  },
  {
   "cell_type": "code",
   "execution_count": null,
   "id": "b1d034be-45ec-4b04-b75a-540d97d9ebd1",
   "metadata": {},
   "outputs": [],
   "source": [
    "from transformers import GPT2LMHeadModel\n",
    "hfmodel = GPT2LMHeadModel.from_pretrained('gpt2')\n",
    "hfmodel.to(device)\n",
    "hfmodel.eval()"
   ]
  },
  {
   "cell_type": "code",
   "execution_count": 13,
   "id": "e3ad5a65-c5f6-4be9-a2c1-2393f9897150",
   "metadata": {
    "tags": []
   },
   "outputs": [
    {
     "name": "stdout",
     "output_type": "stream",
     "text": [
      "Requirement already satisfied: datasets in /usr/local/lib/python3.11/dist-packages (2.14.5)\n",
      "Collecting datasets\n",
      "  Downloading datasets-3.3.2-py3-none-any.whl.metadata (19 kB)\n",
      "Requirement already satisfied: huggingface_hub in /usr/local/lib/python3.11/dist-packages (0.20.3)\n",
      "Collecting huggingface_hub\n",
      "  Downloading huggingface_hub-0.29.1-py3-none-any.whl.metadata (13 kB)\n",
      "Requirement already satisfied: filelock in /usr/local/lib/python3.11/dist-packages (from datasets) (3.13.1)\n",
      "Requirement already satisfied: numpy>=1.17 in /usr/local/lib/python3.11/dist-packages (from datasets) (1.26.3)\n",
      "Requirement already satisfied: pyarrow>=15.0.0 in /usr/local/lib/python3.11/dist-packages (from datasets) (15.0.0)\n",
      "Requirement already satisfied: dill<0.3.9,>=0.3.0 in /usr/local/lib/python3.11/dist-packages (from datasets) (0.3.7)\n",
      "Requirement already satisfied: pandas in /usr/local/lib/python3.11/dist-packages (from datasets) (2.2.0)\n",
      "Collecting requests>=2.32.2 (from datasets)\n",
      "  Downloading requests-2.32.3-py3-none-any.whl.metadata (4.6 kB)\n",
      "Collecting tqdm>=4.66.3 (from datasets)\n",
      "  Downloading tqdm-4.67.1-py3-none-any.whl.metadata (57 kB)\n",
      "\u001b[2K     \u001b[90m━━━━━━━━━━━━━━━━━━━━━━━━━━━━━━━━━━━━━━━━\u001b[0m \u001b[32m57.7/57.7 kB\u001b[0m \u001b[31m6.9 MB/s\u001b[0m eta \u001b[36m0:00:00\u001b[0m\n",
      "\u001b[?25hRequirement already satisfied: xxhash in /usr/local/lib/python3.11/dist-packages (from datasets) (3.4.1)\n",
      "Requirement already satisfied: multiprocess<0.70.17 in /usr/local/lib/python3.11/dist-packages (from datasets) (0.70.15)\n",
      "Requirement already satisfied: fsspec<=2024.12.0,>=2023.1.0 in /usr/local/lib/python3.11/dist-packages (from fsspec[http]<=2024.12.0,>=2023.1.0->datasets) (2023.6.0)\n",
      "Requirement already satisfied: aiohttp in /usr/local/lib/python3.11/dist-packages (from datasets) (3.9.1)\n",
      "Requirement already satisfied: packaging in /usr/local/lib/python3.11/dist-packages (from datasets) (23.2)\n",
      "Requirement already satisfied: pyyaml>=5.1 in /usr/lib/python3/dist-packages (from datasets) (5.4.1)\n",
      "Requirement already satisfied: typing-extensions>=3.7.4.3 in /usr/local/lib/python3.11/dist-packages (from huggingface_hub) (4.9.0)\n",
      "Requirement already satisfied: attrs>=17.3.0 in /usr/local/lib/python3.11/dist-packages (from aiohttp->datasets) (23.1.0)\n",
      "Requirement already satisfied: multidict<7.0,>=4.5 in /usr/local/lib/python3.11/dist-packages (from aiohttp->datasets) (6.0.4)\n",
      "Requirement already satisfied: yarl<2.0,>=1.0 in /usr/local/lib/python3.11/dist-packages (from aiohttp->datasets) (1.9.4)\n",
      "Requirement already satisfied: frozenlist>=1.1.1 in /usr/local/lib/python3.11/dist-packages (from aiohttp->datasets) (1.4.1)\n",
      "Requirement already satisfied: aiosignal>=1.1.2 in /usr/local/lib/python3.11/dist-packages (from aiohttp->datasets) (1.3.1)\n",
      "Requirement already satisfied: charset-normalizer<4,>=2 in /usr/local/lib/python3.11/dist-packages (from requests>=2.32.2->datasets) (3.3.2)\n",
      "Requirement already satisfied: idna<4,>=2.5 in /usr/lib/python3/dist-packages (from requests>=2.32.2->datasets) (3.3)\n",
      "Requirement already satisfied: urllib3<3,>=1.21.1 in /usr/local/lib/python3.11/dist-packages (from requests>=2.32.2->datasets) (2.0.7)\n",
      "Requirement already satisfied: certifi>=2017.4.17 in /usr/lib/python3/dist-packages (from requests>=2.32.2->datasets) (2020.6.20)\n",
      "Requirement already satisfied: python-dateutil>=2.8.2 in /usr/local/lib/python3.11/dist-packages (from pandas->datasets) (2.8.2)\n",
      "Requirement already satisfied: pytz>=2020.1 in /usr/lib/python3/dist-packages (from pandas->datasets) (2022.1)\n",
      "Requirement already satisfied: tzdata>=2022.7 in /usr/local/lib/python3.11/dist-packages (from pandas->datasets) (2023.4)\n",
      "Requirement already satisfied: six>=1.5 in /usr/lib/python3/dist-packages (from python-dateutil>=2.8.2->pandas->datasets) (1.16.0)\n",
      "Downloading datasets-3.3.2-py3-none-any.whl (485 kB)\n",
      "\u001b[2K   \u001b[90m━━━━━━━━━━━━━━━━━━━━━━━━━━━━━━━━━━━━━━━━\u001b[0m \u001b[32m485.4/485.4 kB\u001b[0m \u001b[31m33.2 MB/s\u001b[0m eta \u001b[36m0:00:00\u001b[0m\n",
      "\u001b[?25hDownloading huggingface_hub-0.29.1-py3-none-any.whl (468 kB)\n",
      "\u001b[2K   \u001b[90m━━━━━━━━━━━━━━━━━━━━━━━━━━━━━━━━━━━━━━━━\u001b[0m \u001b[32m468.0/468.0 kB\u001b[0m \u001b[31m68.3 MB/s\u001b[0m eta \u001b[36m0:00:00\u001b[0m\n",
      "\u001b[?25hDownloading requests-2.32.3-py3-none-any.whl (64 kB)\n",
      "\u001b[2K   \u001b[90m━━━━━━━━━━━━━━━━━━━━━━━━━━━━━━━━━━━━━━━━\u001b[0m \u001b[32m64.9/64.9 kB\u001b[0m \u001b[31m17.3 MB/s\u001b[0m eta \u001b[36m0:00:00\u001b[0m\n",
      "\u001b[?25hDownloading tqdm-4.67.1-py3-none-any.whl (78 kB)\n",
      "\u001b[2K   \u001b[90m━━━━━━━━━━━━━━━━━━━━━━━━━━━━━━━━━━━━━━━━\u001b[0m \u001b[32m78.5/78.5 kB\u001b[0m \u001b[31m22.0 MB/s\u001b[0m eta \u001b[36m0:00:00\u001b[0m\n",
      "\u001b[?25hInstalling collected packages: tqdm, requests, huggingface_hub, datasets\n",
      "  Attempting uninstall: tqdm\n",
      "    Found existing installation: tqdm 4.66.1\n",
      "    Uninstalling tqdm-4.66.1:\n",
      "      Successfully uninstalled tqdm-4.66.1\n",
      "  Attempting uninstall: requests\n",
      "    Found existing installation: requests 2.31.0\n",
      "    Uninstalling requests-2.31.0:\n",
      "      Successfully uninstalled requests-2.31.0\n",
      "  Attempting uninstall: huggingface_hub\n",
      "    Found existing installation: huggingface-hub 0.20.3\n",
      "    Uninstalling huggingface-hub-0.20.3:\n",
      "      Successfully uninstalled huggingface-hub-0.20.3\n",
      "  Attempting uninstall: datasets\n",
      "    Found existing installation: datasets 2.14.5\n",
      "    Uninstalling datasets-2.14.5:\n",
      "      Successfully uninstalled datasets-2.14.5\n",
      "\u001b[31mERROR: pip's dependency resolver does not currently take into account all the packages that are installed. This behaviour is the source of the following dependency conflicts.\n",
      "gradient 2.0.6 requires attrs<=19, but you have attrs 23.1.0 which is incompatible.\u001b[0m\u001b[31m\n",
      "\u001b[0mSuccessfully installed datasets-3.3.2 huggingface_hub-0.29.1 requests-2.32.3 tqdm-4.67.1\n",
      "\u001b[33mWARNING: Running pip as the 'root' user can result in broken permissions and conflicting behaviour with the system package manager. It is recommended to use a virtual environment instead: https://pip.pypa.io/warnings/venv\u001b[0m\u001b[33m\n",
      "\u001b[0m"
     ]
    }
   ],
   "source": [
    "!pip install --upgrade datasets huggingface_hub"
   ]
  },
  {
   "cell_type": "code",
   "execution_count": 2,
   "id": "210e175d-8886-4087-a604-0c309969893f",
   "metadata": {
    "tags": []
   },
   "outputs": [
    {
     "data": {
      "application/vnd.jupyter.widget-view+json": {
       "model_id": "3760cb6a102c4290949540bdd4ddc2bc",
       "version_major": 2,
       "version_minor": 0
      },
      "text/plain": [
       "train.parquet:   0%|          | 0.00/699k [00:00<?, ?B/s]"
      ]
     },
     "metadata": {},
     "output_type": "display_data"
    },
    {
     "data": {
      "application/vnd.jupyter.widget-view+json": {
       "model_id": "177d07fd4e46481b8afc3f9d038e7d54",
       "version_major": 2,
       "version_minor": 0
      },
      "text/plain": [
       "validation.parquet:   0%|          | 0.00/90.0k [00:00<?, ?B/s]"
      ]
     },
     "metadata": {},
     "output_type": "display_data"
    },
    {
     "data": {
      "application/vnd.jupyter.widget-view+json": {
       "model_id": "0bc0451ec984417ab26b11f432c9dfa0",
       "version_major": 2,
       "version_minor": 0
      },
      "text/plain": [
       "test.parquet:   0%|          | 0.00/92.2k [00:00<?, ?B/s]"
      ]
     },
     "metadata": {},
     "output_type": "display_data"
    },
    {
     "data": {
      "application/vnd.jupyter.widget-view+json": {
       "model_id": "4761791228ff4ea7997a0baa9506ec0b",
       "version_major": 2,
       "version_minor": 0
      },
      "text/plain": [
       "Generating train split:   0%|          | 0/8530 [00:00<?, ? examples/s]"
      ]
     },
     "metadata": {},
     "output_type": "display_data"
    },
    {
     "data": {
      "application/vnd.jupyter.widget-view+json": {
       "model_id": "00ef486512f043c8a9a2819030857790",
       "version_major": 2,
       "version_minor": 0
      },
      "text/plain": [
       "Generating validation split:   0%|          | 0/1066 [00:00<?, ? examples/s]"
      ]
     },
     "metadata": {},
     "output_type": "display_data"
    },
    {
     "data": {
      "application/vnd.jupyter.widget-view+json": {
       "model_id": "d19de8c827b045f9a2e0836984963283",
       "version_major": 2,
       "version_minor": 0
      },
      "text/plain": [
       "Generating test split:   0%|          | 0/1066 [00:00<?, ? examples/s]"
      ]
     },
     "metadata": {},
     "output_type": "display_data"
    },
    {
     "name": "stdout",
     "output_type": "stream",
     "text": [
      "DatasetDict({\n",
      "    train: Dataset({\n",
      "        features: ['text', 'label'],\n",
      "        num_rows: 8530\n",
      "    })\n",
      "    validation: Dataset({\n",
      "        features: ['text', 'label'],\n",
      "        num_rows: 1066\n",
      "    })\n",
      "    test: Dataset({\n",
      "        features: ['text', 'label'],\n",
      "        num_rows: 1066\n",
      "    })\n",
      "})\n"
     ]
    }
   ],
   "source": [
    "from datasets import load_dataset\n",
    "\n",
    "data = load_dataset(\"rotten_tomatoes\")\n",
    "print(data)"
   ]
  },
  {
   "cell_type": "code",
   "execution_count": 13,
   "id": "5e254044-f527-4ca1-a114-487823a75236",
   "metadata": {
    "tags": []
   },
   "outputs": [
    {
     "data": {
      "text/plain": [
       "'the rock is destined to be the 21st century\\'s new \" conan \" and that he\\'s going to make a splash even greater than arnold schwarzenegger , jean-claud van damme or steven segal .'"
      ]
     },
     "execution_count": 13,
     "metadata": {},
     "output_type": "execute_result"
    }
   ],
   "source": [
    "data['train']['text'][0]"
   ]
  },
  {
   "cell_type": "code",
   "execution_count": 29,
   "id": "d2f2e71b-4195-4097-bd3b-6ddc9e91be52",
   "metadata": {
    "tags": []
   },
   "outputs": [
    {
     "name": "stdout",
     "output_type": "stream",
     "text": [
      "'if you sometimes like to go to the movies to have fun , wasabi is a good place to start .'. This move review is especially helpful when learning how to cook and to understand the different types of food styles you can choose to\n",
      "None\n"
     ]
    }
   ],
   "source": [
    "\n",
    "def generate(model, prompt=\"Hello, I'm a language model\", length=20):\n",
    "    \n",
    "    \n",
    "    with torch.no_grad():\n",
    "        enc = tiktoken.get_encoding('gpt2')\n",
    "        tokens = enc.encode(prompt)\n",
    "        #tokens = [220] * (target_length - len(tokens)) + tokens\n",
    "        x = torch.tensor(tokens).to('cuda')\n",
    "        x = x.view(1, len(tokens))\n",
    "        \n",
    "\n",
    "        for i in range(length):\n",
    "            \n",
    "            #print(i)\n",
    "               \n",
    "            y = model(x)\n",
    "            #print(y.shape)\n",
    "            probs = F.softmax(y[0, -1, :], dim=0)\n",
    "            topk_probs, topk_ixs = torch.topk(probs, 50, dim=-1)\n",
    "            ix = torch.multinomial(topk_probs.cpu(), 1).to(topk_probs.device)\n",
    "            y= topk_ixs[ix]\n",
    "            prompt += enc.decode([y[0].item()])\n",
    "            x = torch.cat([x, y.view(1, 1)], dim=1)[:, 1:]\n",
    "            #print(prompt)\n",
    "        \n",
    "    print(prompt)\n",
    "    \n",
    "\n",
    "\n",
    "print(generate(gpt, prompt=f\"'{data['train']['text'][3]}'. This move review is\"))\n",
    "\n",
    "#callmodel = lambda x: model(x).logits\n",
    "#print(generate(callmodel))"
   ]
  },
  {
   "cell_type": "code",
   "execution_count": 30,
   "id": "b54f9b23-b3b9-4d0b-9985-4fefb658e7bd",
   "metadata": {
    "tags": []
   },
   "outputs": [],
   "source": [
    "\n",
    "def embedding(model, prompt=\"Hello, I'm a language model\", length=20):\n",
    "    \n",
    "    \n",
    "    with torch.no_grad():\n",
    "        enc = tiktoken.get_encoding('gpt2')\n",
    "        tokens = enc.encode(prompt)\n",
    "        #tokens = [220] * (target_length - len(tokens)) + tokens\n",
    "        x = torch.tensor(tokens).to('cuda')\n",
    "        x = x.view(1, len(tokens))\n",
    "        y = model(x, embedding=True)\n",
    "        return y\n",
    "\n",
    "text= data['train']['text'][3]\n",
    "i_embedding = embedding(gpt, prompt=f\"'{text}'. This move review is\")\n",
    "\n",
    "#callmodel = lambda x: model(x).logits\n",
    "#print(generate(callmodel))"
   ]
  },
  {
   "cell_type": "code",
   "execution_count": 34,
   "id": "f2427f9c-49ed-4b30-9a3e-6dd9d0c9be5e",
   "metadata": {
    "tags": []
   },
   "outputs": [
    {
     "data": {
      "text/plain": [
       "torch.Size([768])"
      ]
     },
     "execution_count": 34,
     "metadata": {},
     "output_type": "execute_result"
    }
   ],
   "source": [
    "i_embedding[0, -1, :].shape"
   ]
  },
  {
   "cell_type": "code",
   "execution_count": 49,
   "id": "58777607-e845-417d-bfde-2c1c4358e8ed",
   "metadata": {
    "tags": []
   },
   "outputs": [
    {
     "name": "stdout",
     "output_type": "stream",
     "text": [
      "0\n",
      "500\n",
      "1000\n",
      "1500\n",
      "2000\n",
      "2500\n",
      "3000\n",
      "3500\n",
      "4000\n",
      "4500\n",
      "5000\n",
      "5500\n",
      "6000\n",
      "6500\n",
      "7000\n",
      "7500\n",
      "8000\n",
      "8500\n"
     ]
    }
   ],
   "source": [
    "embeddings = []\n",
    "for i, text in enumerate(data['train']['text']):\n",
    "    if i % 500 == 0: print(i)\n",
    "    i_embedding = embedding(gpt, prompt=f\"{text}\")[0, -1, :]\n",
    "    embeddings.append(i_embedding)"
   ]
  },
  {
   "cell_type": "code",
   "execution_count": 50,
   "id": "31e0f5f6-e566-40ff-8f9c-b5b581f84785",
   "metadata": {
    "tags": []
   },
   "outputs": [],
   "source": [
    "train_embeddings = torch.stack(embeddings)"
   ]
  },
  {
   "cell_type": "code",
   "execution_count": 51,
   "id": "c322693f-49bf-442d-b362-a0a5a19d8f65",
   "metadata": {
    "tags": []
   },
   "outputs": [
    {
     "name": "stdout",
     "output_type": "stream",
     "text": [
      "0\n",
      "500\n",
      "1000\n"
     ]
    }
   ],
   "source": [
    "test_embeddings = []\n",
    "for i, text in enumerate(data['test']['text']):\n",
    "    if i % 500 == 0: print(i)\n",
    "    i_embedding = embedding(gpt, prompt=f\"{text}\")[0, -1, :]\n",
    "    test_embeddings.append(i_embedding)"
   ]
  },
  {
   "cell_type": "code",
   "execution_count": 52,
   "id": "cedb6c88-acca-4725-9466-d625be252c2e",
   "metadata": {
    "tags": []
   },
   "outputs": [],
   "source": [
    "test_embeddings = torch.stack(test_embeddings)"
   ]
  },
  {
   "cell_type": "code",
   "execution_count": 54,
   "id": "f7e9755a-a6d3-42d7-a03c-dba96dd77682",
   "metadata": {
    "tags": []
   },
   "outputs": [
    {
     "data": {
      "text/html": [
       "<style>#sk-container-id-5 {color: black;}#sk-container-id-5 pre{padding: 0;}#sk-container-id-5 div.sk-toggleable {background-color: white;}#sk-container-id-5 label.sk-toggleable__label {cursor: pointer;display: block;width: 100%;margin-bottom: 0;padding: 0.3em;box-sizing: border-box;text-align: center;}#sk-container-id-5 label.sk-toggleable__label-arrow:before {content: \"▸\";float: left;margin-right: 0.25em;color: #696969;}#sk-container-id-5 label.sk-toggleable__label-arrow:hover:before {color: black;}#sk-container-id-5 div.sk-estimator:hover label.sk-toggleable__label-arrow:before {color: black;}#sk-container-id-5 div.sk-toggleable__content {max-height: 0;max-width: 0;overflow: hidden;text-align: left;background-color: #f0f8ff;}#sk-container-id-5 div.sk-toggleable__content pre {margin: 0.2em;color: black;border-radius: 0.25em;background-color: #f0f8ff;}#sk-container-id-5 input.sk-toggleable__control:checked~div.sk-toggleable__content {max-height: 200px;max-width: 100%;overflow: auto;}#sk-container-id-5 input.sk-toggleable__control:checked~label.sk-toggleable__label-arrow:before {content: \"▾\";}#sk-container-id-5 div.sk-estimator input.sk-toggleable__control:checked~label.sk-toggleable__label {background-color: #d4ebff;}#sk-container-id-5 div.sk-label input.sk-toggleable__control:checked~label.sk-toggleable__label {background-color: #d4ebff;}#sk-container-id-5 input.sk-hidden--visually {border: 0;clip: rect(1px 1px 1px 1px);clip: rect(1px, 1px, 1px, 1px);height: 1px;margin: -1px;overflow: hidden;padding: 0;position: absolute;width: 1px;}#sk-container-id-5 div.sk-estimator {font-family: monospace;background-color: #f0f8ff;border: 1px dotted black;border-radius: 0.25em;box-sizing: border-box;margin-bottom: 0.5em;}#sk-container-id-5 div.sk-estimator:hover {background-color: #d4ebff;}#sk-container-id-5 div.sk-parallel-item::after {content: \"\";width: 100%;border-bottom: 1px solid gray;flex-grow: 1;}#sk-container-id-5 div.sk-label:hover label.sk-toggleable__label {background-color: #d4ebff;}#sk-container-id-5 div.sk-serial::before {content: \"\";position: absolute;border-left: 1px solid gray;box-sizing: border-box;top: 0;bottom: 0;left: 50%;z-index: 0;}#sk-container-id-5 div.sk-serial {display: flex;flex-direction: column;align-items: center;background-color: white;padding-right: 0.2em;padding-left: 0.2em;position: relative;}#sk-container-id-5 div.sk-item {position: relative;z-index: 1;}#sk-container-id-5 div.sk-parallel {display: flex;align-items: stretch;justify-content: center;background-color: white;position: relative;}#sk-container-id-5 div.sk-item::before, #sk-container-id-5 div.sk-parallel-item::before {content: \"\";position: absolute;border-left: 1px solid gray;box-sizing: border-box;top: 0;bottom: 0;left: 50%;z-index: -1;}#sk-container-id-5 div.sk-parallel-item {display: flex;flex-direction: column;z-index: 1;position: relative;background-color: white;}#sk-container-id-5 div.sk-parallel-item:first-child::after {align-self: flex-end;width: 50%;}#sk-container-id-5 div.sk-parallel-item:last-child::after {align-self: flex-start;width: 50%;}#sk-container-id-5 div.sk-parallel-item:only-child::after {width: 0;}#sk-container-id-5 div.sk-dashed-wrapped {border: 1px dashed gray;margin: 0 0.4em 0.5em 0.4em;box-sizing: border-box;padding-bottom: 0.4em;background-color: white;}#sk-container-id-5 div.sk-label label {font-family: monospace;font-weight: bold;display: inline-block;line-height: 1.2em;}#sk-container-id-5 div.sk-label-container {text-align: center;}#sk-container-id-5 div.sk-container {/* jupyter's `normalize.less` sets `[hidden] { display: none; }` but bootstrap.min.css set `[hidden] { display: none !important; }` so we also need the `!important` here to be able to override the default hidden behavior on the sphinx rendered scikit-learn.org. See: https://github.com/scikit-learn/scikit-learn/issues/21755 */display: inline-block !important;position: relative;}#sk-container-id-5 div.sk-text-repr-fallback {display: none;}</style><div id=\"sk-container-id-5\" class=\"sk-top-container\"><div class=\"sk-text-repr-fallback\"><pre>LogisticRegression(max_iter=5000, random_state=42)</pre><b>In a Jupyter environment, please rerun this cell to show the HTML representation or trust the notebook. <br />On GitHub, the HTML representation is unable to render, please try loading this page with nbviewer.org.</b></div><div class=\"sk-container\" hidden><div class=\"sk-item\"><div class=\"sk-estimator sk-toggleable\"><input class=\"sk-toggleable__control sk-hidden--visually\" id=\"sk-estimator-id-5\" type=\"checkbox\" checked><label for=\"sk-estimator-id-5\" class=\"sk-toggleable__label sk-toggleable__label-arrow\">LogisticRegression</label><div class=\"sk-toggleable__content\"><pre>LogisticRegression(max_iter=5000, random_state=42)</pre></div></div></div></div></div>"
      ],
      "text/plain": [
       "LogisticRegression(max_iter=5000, random_state=42)"
      ]
     },
     "execution_count": 54,
     "metadata": {},
     "output_type": "execute_result"
    }
   ],
   "source": [
    "from sklearn.linear_model import LogisticRegression\n",
    "\n",
    "# Train a Logistic Regression on our train embeddings\n",
    "clf = LogisticRegression(random_state=42, max_iter=5000)\n",
    "clf.fit(train_embeddings.cpu(), data[\"train\"][\"label\"])"
   ]
  },
  {
   "cell_type": "code",
   "execution_count": 45,
   "id": "0b8deffd-22aa-4862-b111-85802b281ba2",
   "metadata": {
    "tags": []
   },
   "outputs": [],
   "source": [
    "from sklearn.metrics import classification_report\n",
    "\n",
    "def evaluate_performance(y_true, y_pred):\n",
    "    \"\"\"Create and print the classification report\"\"\"\n",
    "    performance = classification_report(\n",
    "        y_true, y_pred,\n",
    "        target_names=[\"Negative Review\", \"Positive Review\"]\n",
    "    )\n",
    "    print(performance)"
   ]
  },
  {
   "cell_type": "code",
   "execution_count": 55,
   "id": "ecafd3a7-7adb-4760-8775-1d0930b2fcbe",
   "metadata": {
    "tags": []
   },
   "outputs": [
    {
     "name": "stdout",
     "output_type": "stream",
     "text": [
      "                 precision    recall  f1-score   support\n",
      "\n",
      "Negative Review       0.79      0.82      0.80       533\n",
      "Positive Review       0.81      0.78      0.80       533\n",
      "\n",
      "       accuracy                           0.80      1066\n",
      "      macro avg       0.80      0.80      0.80      1066\n",
      "   weighted avg       0.80      0.80      0.80      1066\n",
      "\n"
     ]
    }
   ],
   "source": [
    "# Predict previously unseen instances\n",
    "y_pred = clf.predict(test_embeddings.cpu())\n",
    "evaluate_performance(data[\"test\"][\"label\"], y_pred)"
   ]
  },
  {
   "cell_type": "code",
   "execution_count": 155,
   "id": "400c53ba-748e-4e46-914a-8f23f2b7e9e4",
   "metadata": {
    "tags": []
   },
   "outputs": [],
   "source": [
    "class TextClassifier(nn.Module):\n",
    "    def __init__(self, base_model):\n",
    "        super().__init__()\n",
    "        self.base_model = base_model\n",
    "        \n",
    "        # Freeze the base model's parameters\n",
    "        #for param in self.base_model.parameters():\n",
    "            #param.requires_grad = False\n",
    "            \n",
    "            \n",
    "        self.l1 = nn.Linear(768, 256)\n",
    "        self.r1 = nn.ReLU()\n",
    "        self.l2 = nn.Linear(256, 1)\n",
    "        \n",
    "        \n",
    "        #self.r2 = nn.ReLU()\n",
    "        #self.l3 = nn.Linear(1024, 1024)\n",
    "        #self.r3 = nn.ReLU()\n",
    "\n",
    "        #self.head = nn.Linear(1024, 1)\n",
    "        \n",
    "    def forward(self, x):\n",
    "        x = self.base_model(x, embedding=True)[0, -1, :]\n",
    "        x = self.l2(self.r1(self.l1(x)))\n",
    "        return x"
   ]
  },
  {
   "cell_type": "code",
   "execution_count": 156,
   "id": "41de1bea-b01a-471d-b8a4-64bfe7477541",
   "metadata": {
    "tags": []
   },
   "outputs": [
    {
     "data": {
      "text/plain": [
       "TextClassifier(\n",
       "  (base_model): GPT(\n",
       "    (transformer): ModuleDict(\n",
       "      (wte): Embedding(50257, 768)\n",
       "      (wpe): Embedding(1024, 768)\n",
       "      (h): ModuleList(\n",
       "        (0-11): 12 x TransformerBlock(\n",
       "          (ln_1): LayerNorm((768,), eps=1e-05, elementwise_affine=True)\n",
       "          (attn): MultiHeadedMaskedSelfAttention(\n",
       "            (c_attn): Linear(in_features=768, out_features=2304, bias=True)\n",
       "            (c_proj): Linear(in_features=768, out_features=768, bias=True)\n",
       "          )\n",
       "          (ln_2): LayerNorm((768,), eps=1e-05, elementwise_affine=True)\n",
       "          (mlp): MLP(\n",
       "            (c_fc): Linear(in_features=768, out_features=3072, bias=True)\n",
       "            (c_proj): Linear(in_features=3072, out_features=768, bias=True)\n",
       "            (activation): GELU(approximate='tanh')\n",
       "          )\n",
       "        )\n",
       "      )\n",
       "      (ln_f): LayerNorm((768,), eps=1e-05, elementwise_affine=True)\n",
       "    )\n",
       "    (lm_head): Linear(in_features=768, out_features=50257, bias=False)\n",
       "  )\n",
       "  (l1): Linear(in_features=768, out_features=256, bias=True)\n",
       "  (r1): ReLU()\n",
       "  (l2): Linear(in_features=256, out_features=1, bias=True)\n",
       ")"
      ]
     },
     "execution_count": 156,
     "metadata": {},
     "output_type": "execute_result"
    }
   ],
   "source": [
    "classifier = TextClassifier(gpt)\n",
    "classifier.to('cuda')"
   ]
  },
  {
   "cell_type": "code",
   "execution_count": 109,
   "id": "ecff6a77-9047-4dd0-93ff-f7bfb0a7c8d1",
   "metadata": {
    "tags": []
   },
   "outputs": [],
   "source": [
    "enc = tiktoken.get_encoding('gpt2')\n",
    "from random import random"
   ]
  },
  {
   "cell_type": "code",
   "execution_count": 133,
   "id": "1d6b9c4d-3a7b-4564-8d1e-1bfeb53554b8",
   "metadata": {
    "tags": []
   },
   "outputs": [],
   "source": [
    "tokens = enc.encode(f\"'{data['train']['text'][3]}'. This move review is\")\n",
    "#tokens = [220] * (target_length - len(tokens)) + tokens\n",
    "x = torch.tensor(tokens).to('cuda')\n",
    "x = x.view(1, len(tokens))\n",
    "y = classifier(x)"
   ]
  },
  {
   "cell_type": "code",
   "execution_count": 157,
   "id": "537cf7a9-6174-4c2d-a625-fc985b8fa3ab",
   "metadata": {
    "tags": []
   },
   "outputs": [
    {
     "name": "stdout",
     "output_type": "stream",
     "text": [
      "0.9153198003768921\n",
      "0.7546498775482178\n",
      "0.6818144917488098\n",
      "0.6531386375427246\n",
      "0.6337795853614807\n",
      "0.6313421130180359\n",
      "0.6218539476394653\n",
      "0.6143110990524292\n",
      "0.6068388223648071\n",
      "0.597701907157898\n",
      "0.5863925814628601\n",
      "0.5833895802497864\n",
      "0.5783461928367615\n",
      "0.5742442011833191\n",
      "0.572810173034668\n",
      "0.568203330039978\n",
      "0.5631765127182007\n",
      "0.5582886934280396\n",
      "0.5552331805229187\n",
      "0.5524441599845886\n",
      "0.5509238839149475\n",
      "0.5482332706451416\n",
      "0.5483466982841492\n",
      "0.5470249652862549\n",
      "0.5478725433349609\n",
      "0.5443509817123413\n",
      "0.5434731245040894\n",
      "0.5407665967941284\n",
      "0.5384153723716736\n",
      "0.5359821915626526\n",
      "0.5344622731208801\n",
      "0.5327802300453186\n",
      "0.5317444205284119\n"
     ]
    }
   ],
   "source": [
    "loss_layer = nn.BCEWithLogitsLoss()\n",
    "\n",
    "optimizer = torch.optim.AdamW(classifier.parameters(), lr=0.001)\n",
    "datalen = len(data['train']['text'])\n",
    "\n",
    "lossi = []\n",
    "\n",
    "for e in range(10000):\n",
    "    i = int(random() * (datalen - 1))\n",
    "    optimizer.zero_grad()\n",
    "    tokens = enc.encode(f\"'{data['train']['text'][i]}'. This move review is\")\n",
    "    x = torch.tensor(tokens).to('cuda')\n",
    "    x = x.view(1, len(tokens))\n",
    "    y = classifier(x)\n",
    "    \n",
    "    loss = loss_layer(y.view(1), torch.tensor(data['train']['label'][i], device='cuda', dtype=torch.float).view(1))\n",
    "    loss.backward()\n",
    "    \n",
    "    if e != 0 and e % 300 == 0:\n",
    "        \n",
    "        print(torch.tensor(lossi).mean().item())\n",
    "    lossi.append(loss.item())\n",
    "    optimizer.step()\n",
    "\n",
    "    "
   ]
  },
  {
   "cell_type": "code",
   "execution_count": 158,
   "id": "3d04f606-f13f-4f82-8e40-5620d95491be",
   "metadata": {
    "tags": []
   },
   "outputs": [
    {
     "name": "stdout",
     "output_type": "stream",
     "text": [
      "10000\n"
     ]
    },
    {
     "data": {
      "text/plain": [
       "0.48740825057029724"
      ]
     },
     "execution_count": 158,
     "metadata": {},
     "output_type": "execute_result"
    }
   ],
   "source": [
    "print(len(lossi))\n",
    "torch.tensor(lossi[:2200]).view(100, -1).mean(1)[-1].item()"
   ]
  },
  {
   "cell_type": "code",
   "execution_count": 159,
   "id": "54ca71e9-1698-439f-90d6-2fe3b8157153",
   "metadata": {
    "tags": []
   },
   "outputs": [
    {
     "data": {
      "text/plain": [
       "[<matplotlib.lines.Line2D at 0x7fda0957cf90>]"
      ]
     },
     "execution_count": 159,
     "metadata": {},
     "output_type": "execute_result"
    },
    {
     "data": {
      "image/png": "[encoded data removed]",
      "text/plain": [
       "<Figure size 640x480 with 1 Axes>"
      ]
     },
     "metadata": {},
     "output_type": "display_data"
    }
   ],
   "source": [
    "from matplotlib import pyplot as plt\n",
    "plt.plot(torch.tensor(lossi).view(50, -1).mean(1).cpu())"
   ]
  },
  {
   "cell_type": "code",
   "execution_count": null,
   "id": "e845cba8-b60d-43e1-8654-54b2795f4939",
   "metadata": {},
   "outputs": [],
   "source": [
    "# Predict previously unseen instances\n",
    "y_pred = clf.predict(test_embeddings.cpu())\n",
    "evaluate_performance(data[\"test\"][\"label\"], y_pred)"
   ]
  },
  {
   "cell_type": "code",
   "execution_count": 160,
   "id": "bd77582b-781d-44d5-8d5a-f623fbeaba16",
   "metadata": {
    "tags": []
   },
   "outputs": [
    {
     "name": "stdout",
     "output_type": "stream",
     "text": [
      "0\n",
      "500\n",
      "1000\n"
     ]
    }
   ],
   "source": [
    "y_pred = []\n",
    "for i, text in enumerate(data['test']['text']):\n",
    "    with torch.no_grad():\n",
    "        if i % 500 == 0: print(i)\n",
    "        tokens = enc.encode(f\"'{text}'. This move review is\")\n",
    "        x = torch.tensor(tokens).to('cuda')\n",
    "        x = x.view(1, len(tokens))\n",
    "        y = classifier(x)\n",
    "        pred = F.sigmoid(y).cpu()\n",
    "        y_pred.append(0 if pred < 0.5 else 1)"
   ]
  },
  {
   "cell_type": "code",
   "execution_count": 161,
   "id": "f2c663e3-a21a-4cea-a888-18efbbc1191b",
   "metadata": {
    "tags": []
   },
   "outputs": [
    {
     "name": "stdout",
     "output_type": "stream",
     "text": [
      "                 precision    recall  f1-score   support\n",
      "\n",
      "Negative Review       0.80      0.77      0.78       533\n",
      "Positive Review       0.78      0.81      0.79       533\n",
      "\n",
      "       accuracy                           0.79      1066\n",
      "      macro avg       0.79      0.79      0.79      1066\n",
      "   weighted avg       0.79      0.79      0.79      1066\n",
      "\n"
     ]
    }
   ],
   "source": [
    "evaluate_performance(data[\"test\"][\"label\"], y_pred)"
   ]
  },
  {
   "cell_type": "code",
   "execution_count": null,
   "id": "07593f4a-2c21-4b04-85b7-839d0e17be79",
   "metadata": {},
   "outputs": [],
   "source": []
  }
 ],
 "metadata": {
  "kernelspec": {
   "display_name": "Python 3 (ipykernel)",
   "language": "python",
   "name": "python3"
  },
  "language_info": {
   "codemirror_mode": {
    "name": "ipython",
    "version": 3
   },
   "file_extension": ".py",
   "mimetype": "text/x-python",
   "name": "python",
   "nbconvert_exporter": "python",
   "pygments_lexer": "ipython3",
   "version": "3.11.7"
  }
 },
 "nbformat": 4,
 "nbformat_minor": 5
}
