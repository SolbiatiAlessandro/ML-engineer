{
 "cells": [
  {
   "cell_type": "markdown",
   "id": "64b8a4d6-d6f6-47d2-912a-5a7652b76d7b",
   "metadata": {
    "tags": []
   },
   "source": [
    "# Pretraining Data Encoding"
   ]
  },
  {
   "cell_type": "code",
   "execution_count": 1,
   "id": "18b63c04-c480-4b7c-9776-2aa43a77fd82",
   "metadata": {
    "tags": []
   },
   "outputs": [
    {
     "name": "stdout",
     "output_type": "stream",
     "text": [
      "--2025-02-21 03:48:03--  https://raw.githubusercontent.com/karpathy/char-rnn/master/data/tinyshakespeare/input.txt\n",
      "Resolving raw.githubusercontent.com (raw.githubusercontent.com)... 185.199.109.133, 185.199.108.133, 185.199.110.133, ...\n",
      "Connecting to raw.githubusercontent.com (raw.githubusercontent.com)|185.199.109.133|:443... connected.\n",
      "HTTP request sent, awaiting response... 200 OK\n",
      "Length: 1115394 (1.1M) [text/plain]\n",
      "Saving to: ‘input.txt’\n",
      "\n",
      "input.txt           100%[===================>]   1.06M  --.-KB/s    in 0.005s  \n",
      "\n",
      "2025-02-21 03:48:03 (229 MB/s) - ‘input.txt’ saved [1115394/1115394]\n",
      "\n"
     ]
    }
   ],
   "source": [
    "!wget https://raw.githubusercontent.com/karpathy/char-rnn/master/data/tinyshakespeare/input.txt"
   ]
  },
  {
   "cell_type": "code",
   "execution_count": 1,
   "id": "2dc2150f-640c-4ae0-8300-9ac65160ee0b",
   "metadata": {
    "tags": []
   },
   "outputs": [
    {
     "data": {
      "text/plain": [
       "1115394"
      ]
     },
     "execution_count": 1,
     "metadata": {},
     "output_type": "execute_result"
    }
   ],
   "source": [
    "with open('input.txt', 'r') as f:\n",
    "    text = f.read()\n",
    "len(text)"
   ]
  },
  {
   "cell_type": "code",
   "execution_count": 2,
   "id": "b01d07ac-d16e-4900-bca1-bfdabd9bc539",
   "metadata": {
    "tags": []
   },
   "outputs": [],
   "source": [
    "%load_ext autoreload\n",
    "%autoreload 2\n",
    "\n",
    "import sys\n",
    "import os\n",
    "\n",
    "# Assuming your notebook's working directory is set such that ../llm-tokenizer is reachable:\n",
    "tokenizer_dir = os.path.abspath(os.path.join(os.getcwd(), '../llm-tokenizer'))\n",
    "if tokenizer_dir not in sys.path:\n",
    "    sys.path.insert(0, tokenizer_dir)\n",
    "\n",
    "import BPETokenizer  # Now you should be able to import it"
   ]
  },
  {
   "cell_type": "code",
   "execution_count": 3,
   "id": "aa1cb2be-b25d-4fe2-9d64-58dfb67a7a1c",
   "metadata": {
    "tags": []
   },
   "outputs": [],
   "source": [
    "tokenizer_vocab_size = 500"
   ]
  },
  {
   "cell_type": "code",
   "execution_count": 4,
   "id": "027e89c5-fa27-4834-b0b1-de8f5e664133",
   "metadata": {
    "tags": []
   },
   "outputs": [],
   "source": [
    "tokenizer = BPETokenizer.Tokenizer(text, encoding_vocab_size=tokenizer_vocab_size, raw_tokens=False)"
   ]
  },
  {
   "cell_type": "code",
   "execution_count": 5,
   "id": "602e70f1-0634-42b4-8647-ad5647273e2b",
   "metadata": {
    "tags": []
   },
   "outputs": [
    {
     "ename": "AssertionError",
     "evalue": "load from tokenizer.tokenizer.pickle instead",
     "output_type": "error",
     "traceback": [
      "\u001b[0;31m---------------------------------------------------------------------------\u001b[0m",
      "\u001b[0;31mAssertionError\u001b[0m                            Traceback (most recent call last)",
      "Cell \u001b[0;32mIn[5], line 1\u001b[0m\n\u001b[0;32m----> 1\u001b[0m \u001b[38;5;28;01massert\u001b[39;00m \u001b[38;5;28;01mFalse\u001b[39;00m, \u001b[38;5;124m\"\u001b[39m\u001b[38;5;124mload from tokenizer.tokenizer.pickle instead\u001b[39m\u001b[38;5;124m\"\u001b[39m\n\u001b[1;32m      2\u001b[0m \u001b[38;5;28;01mfrom\u001b[39;00m \u001b[38;5;21;01mtime\u001b[39;00m \u001b[38;5;28;01mimport\u001b[39;00m time\n\u001b[1;32m      3\u001b[0m start \u001b[38;5;241m=\u001b[39m time()\n",
      "\u001b[0;31mAssertionError\u001b[0m: load from tokenizer.tokenizer.pickle instead"
     ]
    }
   ],
   "source": [
    "assert False, \"load from tokenizer.tokenizer.pickle instead\"\n",
    "from time import time\n",
    "start = time()\n",
    "tokenizer.train(debug=False)\n",
    "end = time()\n",
    "print(end - start)\n",
    "print(tokenizer.mint_token)"
   ]
  },
  {
   "cell_type": "code",
   "execution_count": 6,
   "id": "8cca7ecc-d89b-476c-96ac-76c9559fef33",
   "metadata": {
    "tags": []
   },
   "outputs": [],
   "source": [
    "tokenizer.load_from_file()"
   ]
  },
  {
   "cell_type": "code",
   "execution_count": 7,
   "id": "b9dd31ad-4cd7-426e-a08f-c23d5fed5798",
   "metadata": {
    "tags": []
   },
   "outputs": [],
   "source": [
    "encoded_dataset = tokenizer.encode(text, raw_tokens=False)"
   ]
  },
  {
   "cell_type": "code",
   "execution_count": 8,
   "id": "d06c73ba-be1f-46fc-aef0-85660084f17f",
   "metadata": {
    "tags": []
   },
   "outputs": [
    {
     "data": {
      "text/plain": [
       "0.4458684554516162"
      ]
     },
     "execution_count": 8,
     "metadata": {},
     "output_type": "execute_result"
    }
   ],
   "source": [
    "len(encoded_dataset) / len(text)"
   ]
  },
  {
   "cell_type": "code",
   "execution_count": 9,
   "id": "54f4138d-c55c-4f97-ac59-84e86cf3f8cd",
   "metadata": {
    "tags": []
   },
   "outputs": [
    {
     "data": {
      "text/plain": [
       "[70, 299, 296, 32, 1709, 984, 655, 538, 585, 111]"
      ]
     },
     "execution_count": 9,
     "metadata": {},
     "output_type": "execute_result"
    }
   ],
   "source": [
    "encoded_dataset[:10]"
   ]
  },
  {
   "cell_type": "code",
   "execution_count": 10,
   "id": "0c2b83a5-4978-4848-93ce-5169932749a8",
   "metadata": {
    "tags": []
   },
   "outputs": [
    {
     "data": {
      "text/plain": [
       "'First Citizen:\\nBefore we pro'"
      ]
     },
     "execution_count": 10,
     "metadata": {},
     "output_type": "execute_result"
    }
   ],
   "source": [
    "tokenizer.decode(encoded_dataset[:10], raw_tokens=False)"
   ]
  },
  {
   "cell_type": "code",
   "execution_count": 11,
   "id": "3d1228c8-6bbc-4b8b-9a48-c070d93688e0",
   "metadata": {
    "tags": []
   },
   "outputs": [
    {
     "name": "stdout",
     "output_type": "stream",
     "text": [
      "0 itiz\n",
      "1 urse\n",
      "2 atch\n",
      "3 ren\n",
      "4 ness \n",
      "5 .\n",
      "\n",
      "First \n",
      "6 wick\n",
      "7 Rich\n",
      "8 queen\n",
      "9 na\n",
      "10 ss\n",
      "11 eal\n",
      "12 pe\n",
      "13 ry\n",
      "14 that\n",
      "15 Be\n",
      "16 .\n",
      "\n",
      "KING RICHARD I\n",
      "17 day\n",
      "18 ere is \n",
      "19 sc\n",
      "20 rong\n",
      "21 e?\n",
      "\n",
      "\n",
      "22 ORIOLANUS:\n",
      "\n",
      "23 old\n",
      "24  shall \n",
      "25 cannot \n",
      "26  at \n",
      "27 ORIOLAN\n",
      "28 ORIOL\n",
      "29 friend\n"
     ]
    }
   ],
   "source": [
    "for i in range(30):\n",
    "    print(i, tokenizer.decode([999-i], raw_tokens=False))\n"
   ]
  },
  {
   "cell_type": "markdown",
   "id": "b7c0566d-8020-435d-a951-d6a2c8561f94",
   "metadata": {},
   "source": [
    "# Pretraining Data Preparation"
   ]
  },
  {
   "cell_type": "code",
   "execution_count": 15,
   "id": "07966659-2c16-4623-b6a4-16051678fec7",
   "metadata": {
    "tags": []
   },
   "outputs": [],
   "source": [
    "import torch\n",
    "import torch.nn.functional as F\n",
    "\n",
    "device = 'cuda' if torch.cuda.is_available else 'cpu'"
   ]
  },
  {
   "cell_type": "code",
   "execution_count": 80,
   "id": "6e6a6efc-a821-4f05-a70c-60ce1ae2f68f",
   "metadata": {
    "tags": []
   },
   "outputs": [],
   "source": [
    "from GPT import GPT, GPTConfig\n",
    "\n",
    "config = GPTConfig\n",
    "config.batch_size = 32\n",
    "config.block_size = 64\n",
    "config.epochs = 10000\n",
    "config.validation_frequency = 20\n",
    "config.validation_epochs = 4"
   ]
  },
  {
   "cell_type": "code",
   "execution_count": 17,
   "id": "52301a88-d9b3-42ed-b0a3-5948d5e2db74",
   "metadata": {
    "tags": []
   },
   "outputs": [
    {
     "data": {
      "text/plain": [
       "64"
      ]
     },
     "execution_count": 17,
     "metadata": {},
     "output_type": "execute_result"
    }
   ],
   "source": [
    "config.block_size"
   ]
  },
  {
   "cell_type": "code",
   "execution_count": 18,
   "id": "ff54fd3a-681d-4d13-a0ba-b25ee3c83339",
   "metadata": {
    "tags": []
   },
   "outputs": [
    {
     "data": {
      "text/plain": [
       "472453"
      ]
     },
     "execution_count": 18,
     "metadata": {},
     "output_type": "execute_result"
    }
   ],
   "source": [
    "split = int(len(encoded_dataset) * 0.95)\n",
    "split"
   ]
  },
  {
   "cell_type": "code",
   "execution_count": 19,
   "id": "d3db0447-4e7b-4e6a-8673-2e2b9d0763a8",
   "metadata": {
    "tags": []
   },
   "outputs": [],
   "source": [
    "train_data =  torch.tensor(encoded_dataset[:split])\n",
    "val_data = torch.tensor(encoded_dataset[split+config.block_size:])"
   ]
  },
  {
   "cell_type": "code",
   "execution_count": 24,
   "id": "fac2ad9f-700f-47fb-9886-6473a1b2baf5",
   "metadata": {
    "tags": []
   },
   "outputs": [],
   "source": [
    "def get_training_data(data, device=device):\n",
    "    X, y, i = [], [], 0\n",
    "    while i+1+config.block_size < len(data):\n",
    "        if i % 50000 == 0 : print(i)\n",
    "        X.append(data[i:i+config.block_size])\n",
    "        y.append(data[i+1:i+1+config.block_size])\n",
    "        i += 1\n",
    "    X, y = torch.stack(X), torch.stack(y)\n",
    "    X, y  = X.to(device), y.to(device)\n",
    "    print(X.shape, y.shape)\n",
    "    return X, y\n",
    "    "
   ]
  },
  {
   "cell_type": "code",
   "execution_count": 25,
   "id": "2d64e85b-c0fa-4af4-88e9-db0904ceaad4",
   "metadata": {
    "tags": []
   },
   "outputs": [
    {
     "name": "stdout",
     "output_type": "stream",
     "text": [
      "0\n",
      "50000\n",
      "100000\n",
      "150000\n",
      "200000\n",
      "250000\n",
      "300000\n",
      "350000\n",
      "400000\n",
      "450000\n",
      "torch.Size([472388, 64]) torch.Size([472388, 64])\n"
     ]
    }
   ],
   "source": [
    "X_tr, y_tr = get_training_data(train_data)"
   ]
  },
  {
   "cell_type": "code",
   "execution_count": 26,
   "id": "8f26770b-b5f6-4cb1-8a87-2d16bb3b9edd",
   "metadata": {
    "tags": []
   },
   "outputs": [
    {
     "data": {
      "text/plain": [
       "(tensor([[  70,  299,  296,  ...,  275,  267,   82],\n",
       "         [ 299,  296,   32,  ...,  267,   82,  280],\n",
       "         [ 296,   32, 1709,  ...,   82,  280,  403],\n",
       "         ...,\n",
       "         [ 594,  989,   32,  ...,  261,   66, 1014],\n",
       "         [ 989,   32,  320,  ...,   66, 1014,  110],\n",
       "         [  32,  320,   32,  ..., 1014,  110,  543]], device='cuda:0'),\n",
       " tensor([[ 299,  296,   32,  ...,  267,   82,  280],\n",
       "         [ 296,   32, 1709,  ...,   82,  280,  403],\n",
       "         [  32, 1709,  984,  ...,  280,  403, 1410],\n",
       "         ...,\n",
       "         [ 989,   32,  320,  ...,   66, 1014,  110],\n",
       "         [  32,  320,   32,  ..., 1014,  110,  543],\n",
       "         [ 320,   32, 1438,  ...,  110,  543,  275]], device='cuda:0'))"
      ]
     },
     "execution_count": 26,
     "metadata": {},
     "output_type": "execute_result"
    }
   ],
   "source": [
    "X_tr, y_tr"
   ]
  },
  {
   "cell_type": "code",
   "execution_count": 28,
   "id": "10c6fb8c-a8d8-49eb-9db5-62ad6acfe8f2",
   "metadata": {
    "tags": []
   },
   "outputs": [
    {
     "name": "stdout",
     "output_type": "stream",
     "text": [
      "0\n",
      "torch.Size([24737, 64]) torch.Size([24737, 64])\n"
     ]
    }
   ],
   "source": [
    "X_val, y_val = get_training_data(val_data)"
   ]
  },
  {
   "cell_type": "markdown",
   "id": "674d28f3-fd93-45f0-9106-daa6f927226b",
   "metadata": {},
   "source": [
    "# Training"
   ]
  },
  {
   "cell_type": "code",
   "execution_count": 29,
   "id": "9e09390f-c7ec-42d5-a094-b1eb5e18f910",
   "metadata": {
    "tags": []
   },
   "outputs": [],
   "source": [
    "def get_batch(X, y, batch_size):\n",
    "    # assert X.shape[0] == y.shape[0]\n",
    "    ix = torch.randint(0, X.shape[0], (batch_size,))\n",
    "    return X[ix], y[ix]"
   ]
  },
  {
   "cell_type": "code",
   "execution_count": 30,
   "id": "70ccb767-1f79-4386-b768-194088edfb5d",
   "metadata": {
    "tags": []
   },
   "outputs": [
    {
     "data": {
      "text/plain": [
       "(torch.Size([32, 64]), torch.Size([32, 64]))"
      ]
     },
     "execution_count": 30,
     "metadata": {},
     "output_type": "execute_result"
    }
   ],
   "source": [
    "_X, y = get_batch(X_tr, y_tr, config.batch_size)\n",
    "X, y = get_batch(X_tr, y_tr, config.batch_size)\n",
    "assert X[0][0] != _X[0][0]\n",
    "X.shape, y.shape"
   ]
  },
  {
   "cell_type": "code",
   "execution_count": 213,
   "id": "de32b49c-1bc7-4151-b6b4-1ec5e02398e4",
   "metadata": {
    "tags": []
   },
   "outputs": [
    {
     "name": "stdout",
     "output_type": "stream",
     "text": [
      "__: shape=torch.Size([]), device=cuda:0\n",
      "X_val: shape=torch.Size([24737, 64]), device=cuda:0\n",
      "y_val: shape=torch.Size([24737, 64]), device=cuda:0\n",
      "_X: shape=torch.Size([32, 64]), device=cuda:0\n",
      "y: shape=torch.Size([32, 64]), device=cuda:0\n",
      "X: shape=torch.Size([32, 64]), device=cuda:0\n",
      "logits: shape=torch.Size([1, 64, 50257]), device=cuda:0\n",
      "_37: shape=torch.Size([32, 64, 50257]), device=cuda:0\n",
      "_41: shape=torch.Size([32, 64]), device=cuda:0\n",
      "_42: shape=torch.Size([2048, 50257]), device=cuda:0\n",
      "_45: shape=torch.Size([]), device=cuda:0\n",
      "_46: shape=torch.Size([]), device=cuda:0\n",
      "train_loss: shape=torch.Size([]), device=cuda:0\n",
      "_48: shape=torch.Size([]), device=cuda:0\n",
      "val_loss: shape=torch.Size([]), device=cuda:0\n",
      "x: shape=torch.Size([65]), device=cuda:0\n",
      "_108: shape=torch.Size([14]), device=cuda:0\n",
      "_110: shape=torch.Size([1, 14]), device=cuda:0\n",
      "_111: shape=torch.Size([1, 14, 50257]), device=cuda:0\n",
      "_119: shape=torch.Size([50257]), device=cuda:0\n",
      "_121: shape=torch.Size([50257]), device=cuda:0\n",
      "_122: shape=torch.Size([50257]), device=cuda:0\n",
      "_123: shape=torch.Size([50257]), device=cuda:0\n",
      "_124: shape=torch.Size([1]), device=cuda:0\n",
      "_125: shape=torch.Size([1]), device=cuda:0\n",
      "_126: shape=torch.Size([1]), device=cuda:0\n",
      "_127: shape=torch.Size([1, 14]), device=cuda:0\n",
      "new_token: shape=torch.Size([1]), device=cuda:0\n",
      "_129: shape=torch.Size([1, 14]), device=cuda:0\n",
      "_132: shape=torch.Size([1, 1]), device=cuda:0\n",
      "_134: shape=torch.Size([14]), device=cuda:0\n",
      "_135: shape=torch.Size([15]), device=cuda:0\n",
      "_139: shape=torch.Size([1, 6]), device=cuda:0\n",
      "_140: shape=torch.Size([7]), device=cuda:0\n",
      "_143: shape=torch.Size([1, 6]), device=cuda:0\n",
      "_145: shape=torch.Size([11]), device=cuda:0\n",
      "_147: shape=torch.Size([1, 6]), device=cuda:0\n",
      "_150: shape=torch.Size([1, 6]), device=cuda:0\n",
      "_153: shape=torch.Size([1, 6]), device=cuda:0\n",
      "_159: shape=torch.Size([1, 15, 50257]), device=cuda:0\n",
      "_161: shape=torch.Size([50257]), device=cuda:0\n",
      "v: shape=torch.Size([50]), device=cuda:0\n",
      "ix: shape=torch.Size([1]), device=cuda:0\n",
      "_166: shape=torch.Size([1]), device=cuda:0\n",
      "_167: shape=torch.Size([1]), device=cuda:0\n",
      "ixs: shape=torch.Size([50]), device=cuda:0\n",
      "_168: shape=torch.Size([1]), device=cuda:0\n",
      "_169: shape=torch.Size([1]), device=cuda:0\n",
      "_171: shape=torch.Size([1, 6]), device=cuda:0\n",
      "_173: shape=torch.Size([1, 6]), device=cuda:0\n",
      "_175: shape=torch.Size([1, 6]), device=cuda:0\n",
      "_181: shape=torch.Size([1, 6]), device=cuda:0\n",
      "_184: shape=torch.Size([1, 6]), device=cuda:0\n",
      "_186: shape=torch.Size([1, 1]), device=cuda:0\n",
      "_188: shape=torch.Size([1, 1]), device=cuda:0\n"
     ]
    }
   ],
   "source": [
    "import torch\n",
    "\n",
    "import gc\n",
    "gc.collect()\n",
    "\n",
    "#del X_tr\n",
    "#del y_tr\n",
    "\n",
    "l = locals().items()\n",
    "for name, obj in l:\n",
    "    try:\n",
    "        if isinstance(obj, torch.Tensor) and obj.is_cuda:\n",
    "            print(f\"{name}: shape={obj.shape}, device={obj.device}\")\n",
    "    except Exception as e:\n",
    "        pass\n",
    "    \n"
   ]
  },
  {
   "cell_type": "code",
   "execution_count": 214,
   "id": "7d03247c-3825-4f42-8584-030401090cca",
   "metadata": {
    "tags": []
   },
   "outputs": [
    {
     "name": "stdout",
     "output_type": "stream",
     "text": [
      "Fri Feb 21 06:51:10 2025       \n",
      "+-----------------------------------------------------------------------------+\n",
      "| NVIDIA-SMI 525.116.04   Driver Version: 525.116.04   CUDA Version: 12.0     |\n",
      "|-------------------------------+----------------------+----------------------+\n",
      "| GPU  Name        Persistence-M| Bus-Id        Disp.A | Volatile Uncorr. ECC |\n",
      "| Fan  Temp  Perf  Pwr:Usage/Cap|         Memory-Usage | GPU-Util  Compute M. |\n",
      "|                               |                      |               MIG M. |\n",
      "|===============================+======================+======================|\n",
      "|   0  NVIDIA RTX A4000    Off  | 00000000:00:05.0 Off |                  Off |\n",
      "| 41%   43C    P8    15W / 140W |  15231MiB / 16376MiB |      0%      Default |\n",
      "|                               |                      |                  N/A |\n",
      "+-------------------------------+----------------------+----------------------+\n",
      "                                                                               \n",
      "+-----------------------------------------------------------------------------+\n",
      "| Processes:                                                                  |\n",
      "|  GPU   GI   CI        PID   Type   Process name                  GPU Memory |\n",
      "|        ID   ID                                                   Usage      |\n",
      "|=============================================================================|\n",
      "+-----------------------------------------------------------------------------+\n"
     ]
    }
   ],
   "source": [
    "torch.cuda.empty_cache()\n",
    "!nvidia-smi"
   ]
  },
  {
   "cell_type": "code",
   "execution_count": 89,
   "id": "bee70179-e678-4172-bc4f-1535dfa15fcb",
   "metadata": {
    "tags": []
   },
   "outputs": [
    {
     "name": "stdout",
     "output_type": "stream",
     "text": [
      "162299904\n"
     ]
    }
   ],
   "source": [
    "model = GPT(config)\n",
    "model.to(device)\n",
    "print(sum(p.numel() for p in model.parameters()))"
   ]
  },
  {
   "cell_type": "code",
   "execution_count": 100,
   "id": "bd0a029b-2b85-444d-82b7-9e527fa203dc",
   "metadata": {
    "tags": []
   },
   "outputs": [
    {
     "name": "stdout",
     "output_type": "stream",
     "text": [
      "[0/10000] train_loss=3.57, val_loss=3.97\n",
      "[20/10000] train_loss=3.68, val_loss=4.04\n"
     ]
    },
    {
     "ename": "KeyboardInterrupt",
     "evalue": "",
     "output_type": "error",
     "traceback": [
      "\u001b[0;31m---------------------------------------------------------------------------\u001b[0m",
      "\u001b[0;31mKeyboardInterrupt\u001b[0m                         Traceback (most recent call last)",
      "Cell \u001b[0;32mIn[100], line 8\u001b[0m\n\u001b[1;32m      6\u001b[0m optimizer\u001b[38;5;241m.\u001b[39mzero_grad()\n\u001b[1;32m      7\u001b[0m X, y \u001b[38;5;241m=\u001b[39m get_batch(X_tr, y_tr, config\u001b[38;5;241m.\u001b[39mbatch_size)\n\u001b[0;32m----> 8\u001b[0m logits \u001b[38;5;241m=\u001b[39m \u001b[43mmodel\u001b[49m\u001b[43m(\u001b[49m\u001b[43mX\u001b[49m\u001b[43m)\u001b[49m\n\u001b[1;32m      9\u001b[0m train_loss \u001b[38;5;241m=\u001b[39m F\u001b[38;5;241m.\u001b[39mcross_entropy(logits\u001b[38;5;241m.\u001b[39mview(bb, \u001b[38;5;241m-\u001b[39m\u001b[38;5;241m1\u001b[39m), y\u001b[38;5;241m.\u001b[39mview(bb))\n\u001b[1;32m     10\u001b[0m train_losses\u001b[38;5;241m.\u001b[39mappend(train_loss\u001b[38;5;241m.\u001b[39mitem())\n",
      "File \u001b[0;32m/usr/local/lib/python3.11/dist-packages/torch/nn/modules/module.py:1514\u001b[0m, in \u001b[0;36mModule._wrapped_call_impl\u001b[0;34m(self, *args, **kwargs)\u001b[0m\n\u001b[1;32m   1511\u001b[0m             tracing_state\u001b[38;5;241m.\u001b[39mpop_scope()\n\u001b[1;32m   1512\u001b[0m     \u001b[38;5;28;01mreturn\u001b[39;00m result\n\u001b[0;32m-> 1514\u001b[0m \u001b[38;5;28;01mdef\u001b[39;00m \u001b[38;5;21m_wrapped_call_impl\u001b[39m(\u001b[38;5;28mself\u001b[39m, \u001b[38;5;241m*\u001b[39margs, \u001b[38;5;241m*\u001b[39m\u001b[38;5;241m*\u001b[39mkwargs):\n\u001b[1;32m   1515\u001b[0m     \u001b[38;5;28;01mif\u001b[39;00m \u001b[38;5;28mself\u001b[39m\u001b[38;5;241m.\u001b[39m_compiled_call_impl \u001b[38;5;129;01mis\u001b[39;00m \u001b[38;5;129;01mnot\u001b[39;00m \u001b[38;5;28;01mNone\u001b[39;00m:\n\u001b[1;32m   1516\u001b[0m         \u001b[38;5;28;01mreturn\u001b[39;00m \u001b[38;5;28mself\u001b[39m\u001b[38;5;241m.\u001b[39m_compiled_call_impl(\u001b[38;5;241m*\u001b[39margs, \u001b[38;5;241m*\u001b[39m\u001b[38;5;241m*\u001b[39mkwargs)  \u001b[38;5;66;03m# type: ignore[misc]\u001b[39;00m\n",
      "\u001b[0;31mKeyboardInterrupt\u001b[0m: "
     ]
    }
   ],
   "source": [
    "optimizer = torch.optim.AdamW(model.parameters(), lr=0.00005)\n",
    "train_losses, val_losses = [], []\n",
    "bb = config.batch_size * config.block_size\n",
    "\n",
    "for epoch in range(config.epochs):\n",
    "    optimizer.zero_grad()\n",
    "    X, y = get_batch(X_tr, y_tr, config.batch_size)\n",
    "    logits = model(X)\n",
    "    train_loss = F.cross_entropy(logits.view(bb, -1), y.view(bb))\n",
    "    train_losses.append(train_loss.item())\n",
    "    train_loss.backward()\n",
    "    optimizer.step()\n",
    "    \n",
    "    \n",
    "    if epoch % config.validation_frequency == 0:\n",
    "        model.eval()\n",
    "        with torch.no_grad():\n",
    "            epoch_val_losses = []\n",
    "            for _ in range(config.validation_epochs):\n",
    "                X, y = get_batch(X_val, y_val, config.batch_size)\n",
    "                logits = model(X)\n",
    "                val_loss = F.cross_entropy(logits.view(bb, -1), y.view(bb))\n",
    "                epoch_val_losses.append(val_loss)\n",
    "            val_loss = sum(epoch_val_losses) / len(epoch_val_losses)\n",
    "            model.train()\n",
    "    \n",
    "    \n",
    "  \n",
    "            val_losses.append(val_loss)\n",
    "            print(f\"[{epoch}/{config.epochs}] train_loss={train_loss.item():.2f}, val_loss={val_loss:.2f}\")\n",
    "\n",
    "# [880/10000] train_loss=3.59, val_loss=4.00"
   ]
  },
  {
   "cell_type": "code",
   "execution_count": 101,
   "id": "056f6d8c-64b2-4b0e-9957-27008e1760ec",
   "metadata": {
    "tags": []
   },
   "outputs": [
    {
     "data": {
      "image/png": "[encoded data removed]",
      "text/plain": [
       "<Figure size 640x480 with 1 Axes>"
      ]
     },
     "metadata": {},
     "output_type": "display_data"
    }
   ],
   "source": [
    "from matplotlib import pyplot as plt\n",
    "gap = 4\n",
    "plot_size = gap * len(val_losses)\n",
    "val_losses = [t.cpu() for t in val_losses]\n",
    "clip = (len(train_losses) // plot_size) * plot_size\n",
    "\n",
    "plt.plot(torch.tensor(train_losses[:clip]).view(plot_size, - 1).mean(1))\n",
    "plt.plot([i * gap for i, _ in enumerate(val_losses)], val_losses)\n",
    "plt.show()"
   ]
  },
  {
   "cell_type": "markdown",
   "id": "181c371c-75bf-480f-acf1-4e3b38f2152e",
   "metadata": {},
   "source": [
    "# Generation"
   ]
  },
  {
   "cell_type": "code",
   "execution_count": 188,
   "id": "a2af6a63-18fd-41fd-8bf2-e62b44dbe522",
   "metadata": {
    "tags": []
   },
   "outputs": [
    {
     "data": {
      "text/plain": [
       "tensor([[32]], device='cuda:0')"
      ]
     },
     "execution_count": 188,
     "metadata": {},
     "output_type": "execute_result"
    }
   ],
   "source": [
    "prompt = \" \"\n",
    "tokens = tokenizer.encode(prompt, raw_tokens=False)\n",
    "tokens\n",
    "model.eval()\n",
    "x = torch.tensor(tokens[:config.block_size], device=device).view(1, -1)\n",
    "x\n",
    "    "
   ]
  },
  {
   "cell_type": "code",
   "execution_count": 189,
   "id": "16a90187-2b9e-4294-b80d-0bcd030dd663",
   "metadata": {
    "tags": []
   },
   "outputs": [
    {
     "name": "stdout",
     "output_type": "stream",
     "text": [
      " unes of bratry arms they guk'd, in.\n",
      "\n",
      "KING HENRY VI:\n",
      "Can, how lorims good!\n",
      "\n",
      "Second now, man:\n",
      "First nothing, my lord by thy seve thore.\n",
      "'Tis true that hason'd is be to dide is kinlnelk tharideed?\n",
      "\n",
      "LEONTES:\n",
      "Lest are your pas it: but I excesterntak to hese should all orself them!\n",
      "I murp, by SON:\n",
      "A more before his\n",
      "country nor say'd flame, I will heard to vain!\n",
      "You former grace, deempes widow his down when never shere,\n",
      "If ithere is chan with is it fiel me,\n",
      "Make bellaining the coward.\n",
      "\n",
      "Pethle sindom you hontal king touch\n",
      "And memust and a tion the is over buthow\n",
      "Hereforry restrist him. I kneet\n",
      "By hear's life,\n",
      "As the princence it fling-would liberse that you and and stubirst thee?\n",
      "\n",
      "LORY:\n",
      "O, now Clow excus, in blead?\n",
      "\n",
      "Were my hese birst now a which have thou not for here?\n",
      "\n",
      "Pold now it Call missue,\n",
      "Alauding.\n",
      "\n",
      "LORICHARD III:\n",
      "That a gentlemarsless plus, what why, that I welse Gontain the mayer the worl are dir should te thee bider.\n",
      "\n",
      "A four generall, my so Feather:\n",
      "But thou shalt not so.\n",
      "What non, I'll this fame on here: da.\n",
      "\n"
     ]
    }
   ],
   "source": [
    "to_decode = x.tolist()[0]\n",
    "for _ in range(500):\n",
    "    \n",
    "    x = x[-config.block_size:]\n",
    "\n",
    "    logits = model(x.view(1, -1))\n",
    "    \n",
    "    new_token = torch.multinomial(F.softmax(logits[0, -1, :], dim=0),  1)\n",
    "    v, ixs = logits[0, -1, :].topk(50)\n",
    "    ix = torch.multinomial(F.softmax(v, dim=0), 1)\n",
    "    new_token = ixs[ix]\n",
    "    to_decode.append(new_token.view(-1).item())\n",
    "    x = torch.cat([x.view(-1), new_token])\n",
    "\n",
    "print(tokenizer.decode(to_decode, raw_tokens=False))"
   ]
  },
  {
   "cell_type": "code",
   "execution_count": 180,
   "id": "9f8893b1-1fc8-4096-a12d-cafe6f23046b",
   "metadata": {
    "tags": []
   },
   "outputs": [
    {
     "data": {
      "text/plain": [
       "'First Citizen:'"
      ]
     },
     "execution_count": 180,
     "metadata": {},
     "output_type": "execute_result"
    }
   ],
   "source": [
    "prompt = \"First Citizen:\"\n",
    "tokens = tokenizer.encode(prompt, raw_tokens=False)\n",
    "tokenizer.decode(tokens, raw_tokens=False)"
   ]
  },
  {
   "cell_type": "markdown",
   "id": "52a8258e-794d-4582-aaaf-4cef56888278",
   "metadata": {
    "tags": []
   },
   "source": [
    "# Evaluation"
   ]
  },
  {
   "cell_type": "code",
   "execution_count": 245,
   "id": "955faa6b-d842-4457-a04c-1bbd50b73f13",
   "metadata": {
    "tags": []
   },
   "outputs": [],
   "source": []
  },
  {
   "cell_type": "code",
   "execution_count": 201,
   "id": "79b5b0f7-5e55-4a65-ac36-dc1ac0ffe9ce",
   "metadata": {
    "tags": []
   },
   "outputs": [
    {
     "data": {
      "text/plain": [
       "(torch.Size([24737, 64]), torch.Size([24737, 64]))"
      ]
     },
     "execution_count": 201,
     "metadata": {},
     "output_type": "execute_result"
    }
   ],
   "source": [
    "X_val.shape, y_val.shape"
   ]
  },
  {
   "cell_type": "code",
   "execution_count": 215,
   "id": "18601586-9b54-403f-80a1-dc2b64e9e686",
   "metadata": {
    "tags": []
   },
   "outputs": [],
   "source": [
    "samples = 20\n",
    "y_pred = model(X_val[:samples])\n",
    "y_pred = torch.argmax(F.softmax(y_pred, dim=2), dim=2)\n",
    "y_val = y_val[:samples]\n",
    "val, counts = torch.unique((y_pred == y_val).view(-1), return_counts=True)\n",
    "assert val[1] == True\n",
    "print(f\"({samples * config.batch_size} samples) precision={counts[1] / (counts[0] + counts[1]).item():.3f}%\")"
   ]
  },
  {
   "cell_type": "code",
   "execution_count": 226,
   "id": "ca80803e-36ae-448d-a742-231512242f4c",
   "metadata": {
    "tags": []
   },
   "outputs": [],
   "source": []
  },
  {
   "cell_type": "code",
   "execution_count": 227,
   "id": "aa384de8-b029-48b3-8331-71f72180c43e",
   "metadata": {
    "tags": []
   },
   "outputs": [],
   "source": []
  },
  {
   "cell_type": "code",
   "execution_count": 234,
   "id": "64429312-ec31-4b78-9692-0bdc0a5687d7",
   "metadata": {
    "tags": []
   },
   "outputs": [],
   "source": []
  },
  {
   "cell_type": "code",
   "execution_count": 248,
   "id": "099d2e8e-3eab-4e58-aeeb-2ad653196781",
   "metadata": {
    "tags": []
   },
   "outputs": [
    {
     "name": "stdout",
     "output_type": "stream",
     "text": [
      "(640 samples) precision=0.226%\n"
     ]
    }
   ],
   "source": []
  },
  {
   "cell_type": "code",
   "execution_count": null,
   "id": "01c4bb2d-7d63-41df-8c32-19ab35ec8ad4",
   "metadata": {},
   "outputs": [],
   "source": [
    "# (640 samples) precision=0.226%"
   ]
  }
 ],
 "metadata": {
  "kernelspec": {
   "display_name": "Python 3 (ipykernel)",
   "language": "python",
   "name": "python3"
  },
  "language_info": {
   "codemirror_mode": {
    "name": "ipython",
    "version": 3
   },
   "file_extension": ".py",
   "mimetype": "text/x-python",
   "name": "python",
   "nbconvert_exporter": "python",
   "pygments_lexer": "ipython3",
   "version": "3.11.7"
  }
 },
 "nbformat": 4,
 "nbformat_minor": 5
}
