{
 "cells": [
  {
   "cell_type": "code",
   "execution_count": 253,
   "id": "0f9177a1-c0d5-4fc4-8118-57f78480f368",
   "metadata": {
    "tags": []
   },
   "outputs": [
    {
     "name": "stdout",
     "output_type": "stream",
     "text": [
      "Requirement already satisfied: wandb in /usr/local/lib/python3.11/dist-packages (0.15.10)\n",
      "Requirement already satisfied: Click!=8.0.0,>=7.1 in /usr/local/lib/python3.11/dist-packages (from wandb) (8.1.7)\n",
      "Requirement already satisfied: GitPython!=3.1.29,>=1.0.0 in /usr/local/lib/python3.11/dist-packages (from wandb) (3.1.41)\n",
      "Requirement already satisfied: requests<3,>=2.0.0 in /usr/local/lib/python3.11/dist-packages (from wandb) (2.31.0)\n",
      "Requirement already satisfied: psutil>=5.0.0 in /usr/local/lib/python3.11/dist-packages (from wandb) (5.9.8)\n",
      "Requirement already satisfied: sentry-sdk>=1.0.0 in /usr/local/lib/python3.11/dist-packages (from wandb) (1.39.2)\n",
      "Requirement already satisfied: docker-pycreds>=0.4.0 in /usr/local/lib/python3.11/dist-packages (from wandb) (0.4.0)\n",
      "Requirement already satisfied: PyYAML in /usr/lib/python3/dist-packages (from wandb) (5.4.1)\n",
      "Requirement already satisfied: pathtools in /usr/local/lib/python3.11/dist-packages (from wandb) (0.1.2)\n",
      "Requirement already satisfied: setproctitle in /usr/local/lib/python3.11/dist-packages (from wandb) (1.3.3)\n",
      "Requirement already satisfied: setuptools in /usr/local/lib/python3.11/dist-packages (from wandb) (69.0.3)\n",
      "Requirement already satisfied: appdirs>=1.4.3 in /usr/local/lib/python3.11/dist-packages (from wandb) (1.4.4)\n",
      "Requirement already satisfied: protobuf!=4.21.0,<5,>=3.19.0 in /usr/local/lib/python3.11/dist-packages (from wandb) (4.23.4)\n",
      "Requirement already satisfied: six>=1.4.0 in /usr/lib/python3/dist-packages (from docker-pycreds>=0.4.0->wandb) (1.16.0)\n",
      "Requirement already satisfied: gitdb<5,>=4.0.1 in /usr/local/lib/python3.11/dist-packages (from GitPython!=3.1.29,>=1.0.0->wandb) (4.0.11)\n",
      "Requirement already satisfied: charset-normalizer<4,>=2 in /usr/local/lib/python3.11/dist-packages (from requests<3,>=2.0.0->wandb) (3.3.2)\n",
      "Requirement already satisfied: idna<4,>=2.5 in /usr/lib/python3/dist-packages (from requests<3,>=2.0.0->wandb) (3.3)\n",
      "Requirement already satisfied: urllib3<3,>=1.21.1 in /usr/local/lib/python3.11/dist-packages (from requests<3,>=2.0.0->wandb) (2.0.7)\n",
      "Requirement already satisfied: certifi>=2017.4.17 in /usr/lib/python3/dist-packages (from requests<3,>=2.0.0->wandb) (2020.6.20)\n",
      "Requirement already satisfied: smmap<6,>=3.0.1 in /usr/local/lib/python3.11/dist-packages (from gitdb<5,>=4.0.1->GitPython!=3.1.29,>=1.0.0->wandb) (5.0.1)\n",
      "\u001b[33mWARNING: Running pip as the 'root' user can result in broken permissions and conflicting behaviour with the system package manager. It is recommended to use a virtual environment instead: https://pip.pypa.io/warnings/venv\u001b[0m\u001b[33m\n",
      "\u001b[0m"
     ]
    }
   ],
   "source": [
    "!pip install wandb\n"
   ]
  },
  {
   "cell_type": "code",
   "execution_count": 255,
   "id": "31bf3d39-97b2-4ae3-814b-295a7082c463",
   "metadata": {
    "tags": []
   },
   "outputs": [
    {
     "name": "stdout",
     "output_type": "stream",
     "text": [
      "\u001b[34m\u001b[1mwandb\u001b[0m: Logging into wandb.ai. (Learn how to deploy a W&B server locally: https://wandb.me/wandb-server)\n",
      "\u001b[34m\u001b[1mwandb\u001b[0m: You can find your API key in your browser here: https://wandb.ai/authorize\n",
      "\u001b[34m\u001b[1mwandb\u001b[0m: Paste an API key from your profile and hit enter, or press ctrl+c to quit: \n",
      "Aborted!\n"
     ]
    }
   ],
   "source": [
    "!wandb login\n"
   ]
  },
  {
   "cell_type": "code",
   "execution_count": null,
   "id": "6e9269e6-113b-4ec2-91bc-a024144c899e",
   "metadata": {},
   "outputs": [],
   "source": []
  },
  {
   "cell_type": "markdown",
   "id": "4938fbc9-ddfb-4e9e-b2cb-de22d1be1bc1",
   "metadata": {
    "execution": {
     "iopub.execute_input": "2025-02-05T23:51:18.445698Z",
     "iopub.status.busy": "2025-02-05T23:51:18.445405Z",
     "iopub.status.idle": "2025-02-05T23:51:18.450135Z",
     "shell.execute_reply": "2025-02-05T23:51:18.449021Z",
     "shell.execute_reply.started": "2025-02-05T23:51:18.445675Z"
    }
   },
   "source": [
    "# Training Data without Cold Start "
   ]
  },
  {
   "cell_type": "code",
   "execution_count": 1,
   "id": "9301f98c-6c95-4481-9db3-a4be50e7bbb7",
   "metadata": {
    "tags": []
   },
   "outputs": [
    {
     "data": {
      "text/plain": [
       "<module 'data_processing' from '/notebooks/ML-system-design/personalized-fashion-recommendations/data_processing.py'>"
      ]
     },
     "execution_count": 1,
     "metadata": {},
     "output_type": "execute_result"
    }
   ],
   "source": [
    "import sys\n",
    "import os\n",
    "\n",
    "sys.path.append(os.path.abspath(\"../\"))\n",
    "import importlib\n",
    "import data_processing  # Now you can import the module\n",
    "importlib.reload(data_processing)\n"
   ]
  },
  {
   "cell_type": "code",
   "execution_count": 2,
   "id": "065581fe-1de3-47d5-914c-a2d56a24df6c",
   "metadata": {
    "tags": []
   },
   "outputs": [],
   "source": [
    "customers, articles, transactions = data_processing.read_data(path=\"../data/\")"
   ]
  },
  {
   "cell_type": "code",
   "execution_count": 308,
   "id": "4d9d4082-165c-4443-a8cb-19a0463bb9e2",
   "metadata": {
    "tags": []
   },
   "outputs": [],
   "source": [
    "train, test = data_processing.train_test_no_coldstart(transactions, factor=10000)"
   ]
  },
  {
   "cell_type": "code",
   "execution_count": 309,
   "id": "8d3cd11e-a4d1-438d-a486-a555e6b03708",
   "metadata": {
    "tags": []
   },
   "outputs": [
    {
     "data": {
      "text/plain": [
       "((50000, 5), (10000, 5))"
      ]
     },
     "execution_count": 309,
     "metadata": {},
     "output_type": "execute_result"
    }
   ],
   "source": [
    "train.shape, test.shape"
   ]
  },
  {
   "cell_type": "code",
   "execution_count": 310,
   "id": "19e0adc5-f027-44e7-b3cd-46811b41d8c0",
   "metadata": {
    "tags": []
   },
   "outputs": [],
   "source": [
    "train_xs_ys, test_xs_ys = data_processing.get_labels_no_coldstart(train), data_processing.get_labels_no_coldstart(test)"
   ]
  },
  {
   "cell_type": "code",
   "execution_count": 367,
   "id": "16d07c69-5ee4-409e-b6d8-54901c78dbc6",
   "metadata": {
    "tags": []
   },
   "outputs": [],
   "source": [
    "#big_train_xs_ys, big_test_xs_ys = train_xs_ys, test_xs_ys\n",
    "#big_train_xs_ys, big_test_xs_ys = \n",
    "train_xs_ys, test_xs_ys = big_train_xs_ys, big_test_xs_ys"
   ]
  },
  {
   "cell_type": "code",
   "execution_count": 368,
   "id": "7c63fc39-0522-4590-89e7-eb10f0732108",
   "metadata": {
    "tags": []
   },
   "outputs": [
    {
     "name": "stdout",
     "output_type": "stream",
     "text": [
      "130246 28348 True\n",
      "23195 12307 True\n"
     ]
    }
   ],
   "source": [
    "# Ensure that test set only contains users and articles seen in training:\n",
    "train_users = set(train_xs_ys[\"customer_id\"].unique())\n",
    "test_users  = set(test_xs_ys[\"customer_id\"].unique())\n",
    "print (len(train_users), len(test_users), test_users.issubset(train_users))\n",
    "\n",
    "train_articles = set(train_xs_ys[\"article_id\"].unique())\n",
    "test_articles  = set(test_xs_ys[\"article_id\"].unique())\n",
    "print (len(train_articles), len(test_articles), test_articles.issubset(train_articles))\n"
   ]
  },
  {
   "cell_type": "code",
   "execution_count": 369,
   "id": "cf64d25a-3098-481f-b89b-48b3fc346e40",
   "metadata": {
    "tags": []
   },
   "outputs": [
    {
     "data": {
      "text/plain": [
       "(200000, 1000000)"
      ]
     },
     "execution_count": 369,
     "metadata": {},
     "output_type": "execute_result"
    }
   ],
   "source": [
    "len(test_xs_ys), len(train_xs_ys)"
   ]
  },
  {
   "cell_type": "code",
   "execution_count": 370,
   "id": "9793b1a0-a86e-45c3-8fb1-7901871d2c7e",
   "metadata": {
    "tags": []
   },
   "outputs": [
    {
     "data": {
      "text/html": [
       "<div>\n",
       "<style scoped>\n",
       "    .dataframe tbody tr th:only-of-type {\n",
       "        vertical-align: middle;\n",
       "    }\n",
       "\n",
       "    .dataframe tbody tr th {\n",
       "        vertical-align: top;\n",
       "    }\n",
       "\n",
       "    .dataframe thead th {\n",
       "        text-align: right;\n",
       "    }\n",
       "</style>\n",
       "<table border=\"1\" class=\"dataframe\">\n",
       "  <thead>\n",
       "    <tr style=\"text-align: right;\">\n",
       "      <th></th>\n",
       "      <th>customer_id</th>\n",
       "      <th>article_id</th>\n",
       "      <th>label</th>\n",
       "    </tr>\n",
       "  </thead>\n",
       "  <tbody>\n",
       "    <tr>\n",
       "      <th>987231</th>\n",
       "      <td>091b4a9fe736160cdf0715801750456cbaea2b51128a17...</td>\n",
       "      <td>910601001</td>\n",
       "      <td>1</td>\n",
       "    </tr>\n",
       "    <tr>\n",
       "      <th>79954</th>\n",
       "      <td>984c6b6d779cf0b5c2ca356f26384b94965594f25704e5...</td>\n",
       "      <td>903951002</td>\n",
       "      <td>1</td>\n",
       "    </tr>\n",
       "    <tr>\n",
       "      <th>567130</th>\n",
       "      <td>b4483da30e5a80d86bc81f6597b5774f1366b005948ac7...</td>\n",
       "      <td>767422003</td>\n",
       "      <td>1</td>\n",
       "    </tr>\n",
       "    <tr>\n",
       "      <th>500891</th>\n",
       "      <td>828adbc1332cb5524ff15c68a551ad953103966354df81...</td>\n",
       "      <td>894788003</td>\n",
       "      <td>0</td>\n",
       "    </tr>\n",
       "    <tr>\n",
       "      <th>55399</th>\n",
       "      <td>28b32fcffe3722321b86b41fd8c9cb24a229a05eabe1f3...</td>\n",
       "      <td>861803014</td>\n",
       "      <td>1</td>\n",
       "    </tr>\n",
       "    <tr>\n",
       "      <th>...</th>\n",
       "      <td>...</td>\n",
       "      <td>...</td>\n",
       "      <td>...</td>\n",
       "    </tr>\n",
       "    <tr>\n",
       "      <th>259178</th>\n",
       "      <td>51f9f90ad86894edef5dceb68c9a7a7af1978bbdccb022...</td>\n",
       "      <td>589017002</td>\n",
       "      <td>0</td>\n",
       "    </tr>\n",
       "    <tr>\n",
       "      <th>365838</th>\n",
       "      <td>834d477f33f0d73f9eb0abefd6e2f7f07744e87da9d096...</td>\n",
       "      <td>905803001</td>\n",
       "      <td>0</td>\n",
       "    </tr>\n",
       "    <tr>\n",
       "      <th>131932</th>\n",
       "      <td>ee325bdc12b00acc8e61cf0fe83e2d78dee009d145af07...</td>\n",
       "      <td>824752001</td>\n",
       "      <td>1</td>\n",
       "    </tr>\n",
       "    <tr>\n",
       "      <th>671155</th>\n",
       "      <td>ba3a76718be3bafc75a1fd3fa226238c317d8b73c97bf8...</td>\n",
       "      <td>751471001</td>\n",
       "      <td>1</td>\n",
       "    </tr>\n",
       "    <tr>\n",
       "      <th>121958</th>\n",
       "      <td>be47ef0a0800cd14dd64001409471f40fbcb957f0fb038...</td>\n",
       "      <td>762846029</td>\n",
       "      <td>1</td>\n",
       "    </tr>\n",
       "  </tbody>\n",
       "</table>\n",
       "<p>1000000 rows × 3 columns</p>\n",
       "</div>"
      ],
      "text/plain": [
       "                                              customer_id  article_id  label\n",
       "987231  091b4a9fe736160cdf0715801750456cbaea2b51128a17...   910601001      1\n",
       "79954   984c6b6d779cf0b5c2ca356f26384b94965594f25704e5...   903951002      1\n",
       "567130  b4483da30e5a80d86bc81f6597b5774f1366b005948ac7...   767422003      1\n",
       "500891  828adbc1332cb5524ff15c68a551ad953103966354df81...   894788003      0\n",
       "55399   28b32fcffe3722321b86b41fd8c9cb24a229a05eabe1f3...   861803014      1\n",
       "...                                                   ...         ...    ...\n",
       "259178  51f9f90ad86894edef5dceb68c9a7a7af1978bbdccb022...   589017002      0\n",
       "365838  834d477f33f0d73f9eb0abefd6e2f7f07744e87da9d096...   905803001      0\n",
       "131932  ee325bdc12b00acc8e61cf0fe83e2d78dee009d145af07...   824752001      1\n",
       "671155  ba3a76718be3bafc75a1fd3fa226238c317d8b73c97bf8...   751471001      1\n",
       "121958  be47ef0a0800cd14dd64001409471f40fbcb957f0fb038...   762846029      1\n",
       "\n",
       "[1000000 rows x 3 columns]"
      ]
     },
     "execution_count": 370,
     "metadata": {},
     "output_type": "execute_result"
    }
   ],
   "source": [
    "train_xs_ys"
   ]
  },
  {
   "cell_type": "markdown",
   "id": "5dd376ea-5843-494b-b220-8ad9dabdb9e1",
   "metadata": {
    "execution": {
     "iopub.execute_input": "2025-02-05T23:51:34.119491Z",
     "iopub.status.busy": "2025-02-05T23:51:34.119153Z",
     "iopub.status.idle": "2025-02-05T23:51:34.123275Z",
     "shell.execute_reply": "2025-02-05T23:51:34.122324Z",
     "shell.execute_reply.started": "2025-02-05T23:51:34.119445Z"
    }
   },
   "source": [
    "# ID Hashing"
   ]
  },
  {
   "cell_type": "code",
   "execution_count": 371,
   "id": "334ced1a-ae10-4d98-8b03-b4a8d574618c",
   "metadata": {
    "tags": []
   },
   "outputs": [
    {
     "data": {
      "text/plain": [
       "(array([ 13.,  71., 206., 299., 351., 228., 122.,  50.,   9.,   1.]),\n",
       " array([ 446.,  515.,  584.,  653.,  722.,  791.,  860.,  929.,  998.,\n",
       "        1067., 1136.]),\n",
       " <BarContainer object of 10 artists>)"
      ]
     },
     "execution_count": 371,
     "metadata": {},
     "output_type": "execute_result"
    },
    {
     "data": {
      "image/png": "[encoded data removed]",
      "text/plain": [
       "<Figure size 640x480 with 1 Axes>"
      ]
     },
     "metadata": {},
     "output_type": "display_data"
    }
   ],
   "source": [
    "import matplotlib.pyplot as plt \n",
    "\n",
    "plt.hist(train_xs_ys.customer_id.apply(lambda x: hash(x) % 1350).value_counts())"
   ]
  },
  {
   "cell_type": "code",
   "execution_count": 372,
   "id": "23392e75-a13c-4016-840e-78d3525c37ab",
   "metadata": {
    "tags": []
   },
   "outputs": [
    {
     "data": {
      "text/plain": [
       "customer_id\n",
       "1226    1136\n",
       "614     1058\n",
       "348     1054\n",
       "1290    1054\n",
       "252     1028\n",
       "877     1012\n",
       "218     1012\n",
       "722     1008\n",
       "1045    1002\n",
       "299     1002\n",
       "4        996\n",
       "1146     996\n",
       "732      994\n",
       "393      990\n",
       "1005     990\n",
       "2        990\n",
       "602      988\n",
       "675      988\n",
       "1348     988\n",
       "49       986\n",
       "Name: count, dtype: int64"
      ]
     },
     "execution_count": 372,
     "metadata": {},
     "output_type": "execute_result"
    }
   ],
   "source": [
    "train_xs_ys.customer_id.apply(lambda x: hash(x) % 1350).value_counts()[:20] "
   ]
  },
  {
   "cell_type": "code",
   "execution_count": 373,
   "id": "89d341d3-2a36-42cf-852f-4feffd7cf83c",
   "metadata": {
    "tags": []
   },
   "outputs": [],
   "source": [
    "utoix, ixtou = {}, {}\n",
    "for i, u in enumerate(train_xs_ys[\"customer_id\"].unique()):\n",
    "    utoix[u] = i\n",
    "    ixtou[i] = u\n",
    "    \n",
    "atoix, ixtoa = {}, {}\n",
    "for i, a in enumerate(train_xs_ys['article_id'].unique()):\n",
    "    atoix[a] = i\n",
    "    ixtoa[i] = a"
   ]
  },
  {
   "cell_type": "markdown",
   "id": "82bd0995-4102-428f-9000-c84464018053",
   "metadata": {
    "execution": {
     "iopub.execute_input": "2025-02-06T01:18:55.478555Z",
     "iopub.status.busy": "2025-02-06T01:18:55.478233Z",
     "iopub.status.idle": "2025-02-06T01:18:55.483008Z",
     "shell.execute_reply": "2025-02-06T01:18:55.481874Z",
     "shell.execute_reply.started": "2025-02-06T01:18:55.478518Z"
    }
   },
   "source": [
    "# Training "
   ]
  },
  {
   "cell_type": "code",
   "execution_count": 374,
   "id": "c58de5c8-4106-46b6-a72a-12ae50cf7850",
   "metadata": {
    "tags": []
   },
   "outputs": [],
   "source": [
    "import torch\n",
    "device = torch.device('cuda') if torch.cuda.is_available() else torch.device('cpu')\n",
    "import numpy as np\n",
    "import torch.nn as nn\n",
    "import torch.nn.functional as F"
   ]
  },
  {
   "cell_type": "code",
   "execution_count": 375,
   "id": "1cb65cad-9cf8-4d8a-9ee3-bf7ae0060d9a",
   "metadata": {
    "tags": []
   },
   "outputs": [],
   "source": [
    "from dataclasses import dataclass\n",
    "\n",
    "@dataclass\n",
    "class H:\n",
    "    architecture: str = \"SparseNN\"\n",
    "    batch_size: int = 64*2\n",
    "    embedding_size: int = 64\n",
    "    epochs: int = 50000\n",
    "    test_epochs: int = 1000\n",
    "    test_loss_interval: int = 2000\n",
    "    hidden_layer: int = 256\n",
    "    \n",
    "h = H()"
   ]
  },
  {
   "cell_type": "code",
   "execution_count": 376,
   "id": "d0e248d2-d5ab-410c-9dcc-192c5d0dc90c",
   "metadata": {
    "tags": []
   },
   "outputs": [],
   "source": [
    "# training data\n",
    "def get_x_y(xs_ys):\n",
    "    xs, ys = xs_ys[['customer_id', 'article_id']], xs_ys[['label']]\n",
    "    xs.loc[:, 'article_id'] = xs['article_id'].astype(int)\n",
    "    xs, ys = xs.to_numpy(), torch.tensor(ys.to_numpy(), dtype=torch.float, device=device)\n",
    "    xs = np.array([(utoix[row[0]], atoix[row[1]]) for row in xs], dtype=np.int64)\n",
    "    xs = torch.tensor(xs, device=device)\n",
    "    return xs, ys\n",
    "    \n",
    "train_xs_ys = train_xs_ys.sample(frac=1, random_state=42)\n",
    "xs, ys = get_x_y(train_xs_ys)\n",
    "xs_test, ys_test = get_x_y(test_xs_ys)"
   ]
  },
  {
   "cell_type": "code",
   "execution_count": 377,
   "id": "f29d30e9-766c-4d13-9496-ca8900bdec73",
   "metadata": {
    "tags": []
   },
   "outputs": [
    {
     "data": {
      "text/plain": [
       "(torch.Size([1000000, 2]),\n",
       " torch.Size([1000000, 1]),\n",
       " torch.Size([200000, 2]),\n",
       " torch.Size([200000, 1]))"
      ]
     },
     "execution_count": 377,
     "metadata": {},
     "output_type": "execute_result"
    }
   ],
   "source": [
    "xs.shape, ys.shape, xs_test.shape, ys_test.shape"
   ]
  },
  {
   "cell_type": "code",
   "execution_count": 378,
   "id": "8015d927-12db-4109-846a-a2ed184eb516",
   "metadata": {
    "tags": []
   },
   "outputs": [],
   "source": [
    "class MLP(nn.Module):\n",
    "    def __init__(self, fan_in, h):\n",
    "        super().__init__()\n",
    "        self.linear = nn.ModuleList([\n",
    "            nn.LayerNorm(fan_in),\n",
    "            nn.Linear(fan_in, h.hidden_layer),\n",
    "            nn.ReLU(),\n",
    "            nn.Linear(h.hidden_layer, fan_in),\n",
    "            nn.Dropout(0.2)\n",
    "        ])\n",
    "        \n",
    "    def forward(self, x):\n",
    "        for layer in self.linear:\n",
    "            x = layer(x)\n",
    "        return x\n",
    "        \n",
    "\n",
    "\n",
    "class SparseNN(nn.Module):\n",
    "    def __init__(self, h, num_users, num_articles):\n",
    "        super().__init__()\n",
    "        self.model_dimension = h.embedding_size * 2 \n",
    "        self.user_embeddings = nn.Embedding(num_users, h.embedding_size)\n",
    "        self.article_embeddings = nn.Embedding(num_articles, h.embedding_size)\n",
    "        self.mlps = nn.ModuleList([MLP(self.model_dimension, h)] * 8)\n",
    "        self.head = nn.Linear(self.model_dimension, 1)\n",
    "        self.drop = nn.Dropout(0.5)\n",
    "        \n",
    "        \n",
    "    def forward(self, x):\n",
    "        # x: B, C\n",
    "        user_embeddings = self.user_embeddings(x[:, 0])\n",
    "        article_embeddings = self.article_embeddings(x[:, 1])\n",
    "        #dot_product = torch.sum(user_embeddings * article_embeddings, dim=1, keepdim=True)\n",
    "        #user_self = torch.sum(user_embeddings * article_embeddings, dim=1, keepdim=True)\n",
    "        #article_self = torch.sum(user_embeddings * article_embeddings, dim=1, keepdim=True)\n",
    "        x = torch.cat([user_embeddings, article_embeddings], dim=1)\n",
    "        x = self.drop(x)\n",
    "        for mlp in self.mlps:\n",
    "            x = mlp(x) + x\n",
    "        logit = self.head(x)\n",
    "        probs = F.sigmoid(logit)\n",
    "        return probs\n",
    "        \n",
    "        "
   ]
  },
  {
   "cell_type": "code",
   "execution_count": 379,
   "id": "b0ed495b-2603-4a6b-9582-561ec08e2619",
   "metadata": {
    "tags": []
   },
   "outputs": [],
   "source": [
    "ix = torch.randint(0, xs.shape[0], (h.batch_size, ))\n",
    "x, y = xs[ix], ys[ix]\n",
    "user_embeddings = model.user_embeddings(x[:, 0])\n",
    "article_embeddings = model.article_embeddings(x[:, 1])"
   ]
  },
  {
   "cell_type": "code",
   "execution_count": 383,
   "id": "9c6e1542-2f57-4464-8dc0-e94191dc24f0",
   "metadata": {
    "tags": []
   },
   "outputs": [
    {
     "ename": "RuntimeError",
     "evalue": "CUDA error: device-side assert triggered\nCUDA kernel errors might be asynchronously reported at some other API call, so the stacktrace below might be incorrect.\nFor debugging consider passing CUDA_LAUNCH_BLOCKING=1.\nCompile with `TORCH_USE_CUDA_DSA` to enable device-side assertions.\n",
     "output_type": "error",
     "traceback": [
      "\u001b[0;31m---------------------------------------------------------------------------\u001b[0m",
      "\u001b[0;31mRuntimeError\u001b[0m                              Traceback (most recent call last)",
      "Cell \u001b[0;32mIn[383], line 1\u001b[0m\n\u001b[0;32m----> 1\u001b[0m num_users \u001b[38;5;241m=\u001b[39m \u001b[38;5;28;43mmax\u001b[39;49m\u001b[43m(\u001b[49m\u001b[43mxs\u001b[49m\u001b[43m[\u001b[49m\u001b[43m:\u001b[49m\u001b[43m,\u001b[49m\u001b[43m \u001b[49m\u001b[38;5;241;43m0\u001b[39;49m\u001b[43m]\u001b[49m\u001b[43m)\u001b[49m\u001b[38;5;241m.\u001b[39mitem() \u001b[38;5;241m+\u001b[39m \u001b[38;5;241m1\u001b[39m\n\u001b[1;32m      2\u001b[0m num_articles \u001b[38;5;241m=\u001b[39m \u001b[38;5;28mmax\u001b[39m(xs[:, \u001b[38;5;241m1\u001b[39m])\u001b[38;5;241m.\u001b[39mitem() \u001b[38;5;241m+\u001b[39m \u001b[38;5;241m1\u001b[39m\n\u001b[1;32m      3\u001b[0m \u001b[38;5;28mprint\u001b[39m(num_users, num_articles)\n",
      "\u001b[0;31mRuntimeError\u001b[0m: CUDA error: device-side assert triggered\nCUDA kernel errors might be asynchronously reported at some other API call, so the stacktrace below might be incorrect.\nFor debugging consider passing CUDA_LAUNCH_BLOCKING=1.\nCompile with `TORCH_USE_CUDA_DSA` to enable device-side assertions.\n"
     ]
    }
   ],
   "source": [
    "num_users = max(xs[:, 0]).item() + 1\n",
    "num_articles = max(xs[:, 1]).item() + 1\n",
    "print(num_users, num_articles)\n",
    "\n",
    "model = SparseNN(h, num_users, num_articles)\n",
    "model.to(device)\n",
    "sum(p.numel() for p in model.parameters())"
   ]
  },
  {
   "cell_type": "code",
   "execution_count": 382,
   "id": "62ee29c9-aace-4644-9d2f-7010f37db768",
   "metadata": {
    "tags": []
   },
   "outputs": [
    {
     "name": "stdout",
     "output_type": "stream",
     "text": [
      "Fri Feb 21 02:30:26 2025       \n",
      "+-----------------------------------------------------------------------------+\n",
      "| NVIDIA-SMI 525.116.04   Driver Version: 525.116.04   CUDA Version: 12.0     |\n",
      "|-------------------------------+----------------------+----------------------+\n",
      "| GPU  Name        Persistence-M| Bus-Id        Disp.A | Volatile Uncorr. ECC |\n",
      "| Fan  Temp  Perf  Pwr:Usage/Cap|         Memory-Usage | GPU-Util  Compute M. |\n",
      "|                               |                      |               MIG M. |\n",
      "|===============================+======================+======================|\n",
      "|   0  NVIDIA RTX A4000    Off  | 00000000:00:05.0 Off |                  Off |\n",
      "| 41%   46C    P2    36W / 140W |   1499MiB / 16376MiB |      0%      Default |\n",
      "|                               |                      |                  N/A |\n",
      "+-------------------------------+----------------------+----------------------+\n",
      "                                                                               \n",
      "+-----------------------------------------------------------------------------+\n",
      "| Processes:                                                                  |\n",
      "|  GPU   GI   CI        PID   Type   Process name                  GPU Memory |\n",
      "|        ID   ID                                                   Usage      |\n",
      "|=============================================================================|\n",
      "+-----------------------------------------------------------------------------+\n"
     ]
    }
   ],
   "source": [
    "!nvidia-smi"
   ]
  },
  {
   "cell_type": "code",
   "execution_count": 365,
   "id": "759fc8d8-0f05-480b-bd8e-3522b2e15507",
   "metadata": {
    "tags": []
   },
   "outputs": [],
   "source": [
    "optimizer = torch.optim.AdamW(model.parameters(), lr=0.00006)"
   ]
  },
  {
   "cell_type": "code",
   "execution_count": 366,
   "id": "cac74fa2-e11a-4289-82d3-c4c2446c6860",
   "metadata": {
    "tags": []
   },
   "outputs": [
    {
     "name": "stdout",
     "output_type": "stream",
     "text": [
      "[0/50000] train_loss=0.9517, test_loss=0.7879\n",
      "[2000/50000] train_loss=0.7098, test_loss=0.6966\n",
      "[4000/50000] train_loss=0.6944, test_loss=0.6939\n",
      "[6000/50000] train_loss=0.6951, test_loss=0.6904\n",
      "[8000/50000] train_loss=0.6911, test_loss=0.6893\n",
      "[10000/50000] train_loss=0.6587, test_loss=0.6913\n",
      "[12000/50000] train_loss=0.6812, test_loss=0.6917\n"
     ]
    },
    {
     "ename": "KeyboardInterrupt",
     "evalue": "",
     "output_type": "error",
     "traceback": [
      "\u001b[0;31m---------------------------------------------------------------------------\u001b[0m",
      "\u001b[0;31mKeyboardInterrupt\u001b[0m                         Traceback (most recent call last)",
      "Cell \u001b[0;32mIn[366], line 13\u001b[0m\n\u001b[1;32m     10\u001b[0m probs \u001b[38;5;241m=\u001b[39m model(x)\n\u001b[1;32m     12\u001b[0m train_loss \u001b[38;5;241m=\u001b[39m F\u001b[38;5;241m.\u001b[39mbinary_cross_entropy(probs, y)\n\u001b[0;32m---> 13\u001b[0m \u001b[43mtrain_loss\u001b[49m\u001b[38;5;241;43m.\u001b[39;49m\u001b[43mbackward\u001b[49m\u001b[43m(\u001b[49m\u001b[43m)\u001b[49m\n\u001b[1;32m     14\u001b[0m train_losses\u001b[38;5;241m.\u001b[39mappend(train_loss)\n\u001b[1;32m     16\u001b[0m optimizer\u001b[38;5;241m.\u001b[39mstep()\n",
      "File \u001b[0;32m/usr/local/lib/python3.11/dist-packages/torch/_tensor.py:492\u001b[0m, in \u001b[0;36mTensor.backward\u001b[0;34m(self, gradient, retain_graph, create_graph, inputs)\u001b[0m\n\u001b[1;32m    482\u001b[0m \u001b[38;5;28;01mif\u001b[39;00m has_torch_function_unary(\u001b[38;5;28mself\u001b[39m):\n\u001b[1;32m    483\u001b[0m     \u001b[38;5;28;01mreturn\u001b[39;00m handle_torch_function(\n\u001b[1;32m    484\u001b[0m         Tensor\u001b[38;5;241m.\u001b[39mbackward,\n\u001b[1;32m    485\u001b[0m         (\u001b[38;5;28mself\u001b[39m,),\n\u001b[0;32m   (...)\u001b[0m\n\u001b[1;32m    490\u001b[0m         inputs\u001b[38;5;241m=\u001b[39minputs,\n\u001b[1;32m    491\u001b[0m     )\n\u001b[0;32m--> 492\u001b[0m \u001b[43mtorch\u001b[49m\u001b[38;5;241;43m.\u001b[39;49m\u001b[43mautograd\u001b[49m\u001b[38;5;241;43m.\u001b[39;49m\u001b[43mbackward\u001b[49m\u001b[43m(\u001b[49m\n\u001b[1;32m    493\u001b[0m \u001b[43m    \u001b[49m\u001b[38;5;28;43mself\u001b[39;49m\u001b[43m,\u001b[49m\u001b[43m \u001b[49m\u001b[43mgradient\u001b[49m\u001b[43m,\u001b[49m\u001b[43m \u001b[49m\u001b[43mretain_graph\u001b[49m\u001b[43m,\u001b[49m\u001b[43m \u001b[49m\u001b[43mcreate_graph\u001b[49m\u001b[43m,\u001b[49m\u001b[43m \u001b[49m\u001b[43minputs\u001b[49m\u001b[38;5;241;43m=\u001b[39;49m\u001b[43minputs\u001b[49m\n\u001b[1;32m    494\u001b[0m \u001b[43m\u001b[49m\u001b[43m)\u001b[49m\n",
      "File \u001b[0;32m/usr/local/lib/python3.11/dist-packages/torch/autograd/__init__.py:251\u001b[0m, in \u001b[0;36mbackward\u001b[0;34m(tensors, grad_tensors, retain_graph, create_graph, grad_variables, inputs)\u001b[0m\n\u001b[1;32m    246\u001b[0m     retain_graph \u001b[38;5;241m=\u001b[39m create_graph\n\u001b[1;32m    248\u001b[0m \u001b[38;5;66;03m# The reason we repeat the same comment below is that\u001b[39;00m\n\u001b[1;32m    249\u001b[0m \u001b[38;5;66;03m# some Python versions print out the first line of a multi-line function\u001b[39;00m\n\u001b[1;32m    250\u001b[0m \u001b[38;5;66;03m# calls in the traceback and some print out the last line\u001b[39;00m\n\u001b[0;32m--> 251\u001b[0m \u001b[43mVariable\u001b[49m\u001b[38;5;241;43m.\u001b[39;49m\u001b[43m_execution_engine\u001b[49m\u001b[38;5;241;43m.\u001b[39;49m\u001b[43mrun_backward\u001b[49m\u001b[43m(\u001b[49m\u001b[43m  \u001b[49m\u001b[38;5;66;43;03m# Calls into the C++ engine to run the backward pass\u001b[39;49;00m\n\u001b[1;32m    252\u001b[0m \u001b[43m    \u001b[49m\u001b[43mtensors\u001b[49m\u001b[43m,\u001b[49m\n\u001b[1;32m    253\u001b[0m \u001b[43m    \u001b[49m\u001b[43mgrad_tensors_\u001b[49m\u001b[43m,\u001b[49m\n\u001b[1;32m    254\u001b[0m \u001b[43m    \u001b[49m\u001b[43mretain_graph\u001b[49m\u001b[43m,\u001b[49m\n\u001b[1;32m    255\u001b[0m \u001b[43m    \u001b[49m\u001b[43mcreate_graph\u001b[49m\u001b[43m,\u001b[49m\n\u001b[1;32m    256\u001b[0m \u001b[43m    \u001b[49m\u001b[43minputs\u001b[49m\u001b[43m,\u001b[49m\n\u001b[1;32m    257\u001b[0m \u001b[43m    \u001b[49m\u001b[43mallow_unreachable\u001b[49m\u001b[38;5;241;43m=\u001b[39;49m\u001b[38;5;28;43;01mTrue\u001b[39;49;00m\u001b[43m,\u001b[49m\n\u001b[1;32m    258\u001b[0m \u001b[43m    \u001b[49m\u001b[43maccumulate_grad\u001b[49m\u001b[38;5;241;43m=\u001b[39;49m\u001b[38;5;28;43;01mTrue\u001b[39;49;00m\u001b[43m,\u001b[49m\n\u001b[1;32m    259\u001b[0m \u001b[43m\u001b[49m\u001b[43m)\u001b[49m\n",
      "\u001b[0;31mKeyboardInterrupt\u001b[0m: "
     ]
    }
   ],
   "source": [
    "train_losses, test_losses = [], []\n",
    "\n",
    "\n",
    "for epoch in range(h.epochs):\n",
    "    \n",
    "    optimizer.zero_grad()\n",
    "    ix = torch.randint(0, xs.shape[0], (h.batch_size, ))\n",
    "    x, y = xs[ix], ys[ix]\n",
    "\n",
    "    probs = model(x)\n",
    "\n",
    "    train_loss = F.binary_cross_entropy(probs, y)\n",
    "    train_loss.backward()\n",
    "    train_losses.append(train_loss)\n",
    "    \n",
    "    optimizer.step()\n",
    "    \n",
    "    if epoch % h.test_loss_interval == 0:\n",
    "        \n",
    "        model.eval()\n",
    "        _test_losses = []\n",
    "        with torch.no_grad():\n",
    "            for test_epoch in range(h.test_epochs):\n",
    "                ix = torch.randint(0, xs_test.shape[0], (h.batch_size, ))\n",
    "                x, y = xs_test[ix], ys_test[ix]\n",
    "                probs = model(x)\n",
    "                test_loss = F.binary_cross_entropy(probs, y)\n",
    "                _test_losses.append(test_loss.item())\n",
    "            \n",
    "        test_loss = sum(_test_losses)/len(_test_losses)\n",
    "        test_losses.append(test_loss)\n",
    "        model.train()\n",
    "        print(f\"[{epoch}/{h.epochs}] train_loss={train_loss.item():.4f}, test_loss={test_loss:.4f}\")\n",
    "        \n",
    "        \n",
    "    \n",
    "    \n",
    "# 2 layers embed = 50 [12400/20000] train_loss=0.6472, test_loss=0.6767\n",
    "# 3 layers embed = 50 [17600/20000] train_loss=0.6121, test_loss=0.6698\n",
    "# 6 layers [2000/20000] train_loss=0.6641, test_loss=0.6667\n",
    "# 5x training data [24000/50000] train_loss=0.5238, test_loss=0.6137\n",
    "# 10x train data [30000/50000] train_loss=0.5534, test_loss=0.5972\n",
    "\n",
    "\n",
    "# adding dot product\n",
    "# before [12000/50000] train_loss=0.7011, test_loss=0.6773"
   ]
  },
  {
   "cell_type": "code",
   "execution_count": null,
   "id": "58b60191-8775-406c-a3d5-9dc06639f57e",
   "metadata": {
    "tags": []
   },
   "outputs": [],
   "source": [
    "train_test_plot_delta = 10\n",
    "\n",
    "from matplotlib import pyplot as plt\n",
    "plt.plot(torch.tensor(train_losses[:10000]).view((h.epochs // h.test_loss_interval) * train_test_plot_delta, -1).mean(1))\n",
    "plt.plot([i*train_test_plot_delta for i, _ in enumerate(test_losses)], test_losses)\n",
    "plt.axhline(y=0.693, color='red', linestyle='--', label='Random Baseline (0.693)')\n"
   ]
  },
  {
   "cell_type": "code",
   "execution_count": 278,
   "id": "69917cb8-2016-4e73-96a0-e4d6f7ba4457",
   "metadata": {
    "tags": []
   },
   "outputs": [
    {
     "name": "stdout",
     "output_type": "stream",
     "text": [
      "Fri Feb 21 01:37:49 2025       \n",
      "+-----------------------------------------------------------------------------+\n",
      "| NVIDIA-SMI 525.116.04   Driver Version: 525.116.04   CUDA Version: 12.0     |\n",
      "|-------------------------------+----------------------+----------------------+\n",
      "| GPU  Name        Persistence-M| Bus-Id        Disp.A | Volatile Uncorr. ECC |\n",
      "| Fan  Temp  Perf  Pwr:Usage/Cap|         Memory-Usage | GPU-Util  Compute M. |\n",
      "|                               |                      |               MIG M. |\n",
      "|===============================+======================+======================|\n",
      "|   0  NVIDIA RTX A4000    Off  | 00000000:00:05.0 Off |                  Off |\n",
      "| 41%   39C    P8    14W / 140W |   1339MiB / 16376MiB |      0%      Default |\n",
      "|                               |                      |                  N/A |\n",
      "+-------------------------------+----------------------+----------------------+\n",
      "                                                                               \n",
      "+-----------------------------------------------------------------------------+\n",
      "| Processes:                                                                  |\n",
      "|  GPU   GI   CI        PID   Type   Process name                  GPU Memory |\n",
      "|        ID   ID                                                   Usage      |\n",
      "|=============================================================================|\n",
      "+-----------------------------------------------------------------------------+\n"
     ]
    }
   ],
   "source": [
    "!nvidia-smi"
   ]
  },
  {
   "cell_type": "code",
   "execution_count": 40,
   "id": "550da7fe-901b-4a82-baf9-4d931f49b597",
   "metadata": {
    "tags": []
   },
   "outputs": [
    {
     "data": {
      "text/plain": [
       "(tensor(0.5361, grad_fn=<BinaryCrossEntropyBackward0>),\n",
       " tensor(0.5361, grad_fn=<BinaryCrossEntropyBackward0>))"
      ]
     },
     "execution_count": 40,
     "metadata": {},
     "output_type": "execute_result"
    }
   ],
   "source": [
    "probs = model(xs)\n",
    "train_loss = F.binary_cross_entropy(probs, ys)\n",
    "probs = model(xs_test)\n",
    "test_loss = F.binary_cross_entropy(probs, ys_test)\n",
    "train_loss, test_loss"
   ]
  },
  {
   "cell_type": "code",
   "execution_count": 36,
   "id": "5fef6e1d-9e96-4fbd-9489-6739c63e8e9c",
   "metadata": {
    "tags": []
   },
   "outputs": [
    {
     "name": "stdout",
     "output_type": "stream",
     "text": [
      "[9999/10000] train_loss=0.4537050127983093, test_loss=0.5304995775222778\n"
     ]
    }
   ],
   "source": [
    "with open(\"results.txt\", \"a\"):\n",
    "    #f.write(f\"{train_losses[01]\n",
    "    pass\n",
    "print(f\"[{epoch}/{h.epochs}] train_loss={train_loss.item()}, test_loss={test_loss}\")"
   ]
  },
  {
   "cell_type": "code",
   "execution_count": 234,
   "id": "f8238cb4-14ee-4781-90d0-99aa228accbc",
   "metadata": {
    "tags": []
   },
   "outputs": [
    {
     "data": {
      "text/plain": [
       "torch.Size([1659, 100])"
      ]
     },
     "execution_count": 234,
     "metadata": {},
     "output_type": "execute_result"
    }
   ],
   "source": [
    "model.user_embeddings.weight.shape"
   ]
  },
  {
   "cell_type": "code",
   "execution_count": 235,
   "id": "6e28c270-2089-453b-98f8-c08a820368ce",
   "metadata": {
    "tags": []
   },
   "outputs": [
    {
     "data": {
      "image/png": "[encoded data removed]",
      "text/plain": [
       "<Figure size 800x600 with 1 Axes>"
      ]
     },
     "metadata": {},
     "output_type": "display_data"
    }
   ],
   "source": [
    "emb_matrix = model.user_embeddings.weight.detach().cpu().numpy()  # shape: (1659, 100)\n",
    "\n",
    "from sklearn.manifold import TSNE  # or PCA, UMAP, etc.\n",
    "tsne = TSNE(n_components=2, random_state=42)\n",
    "emb_2d = tsne.fit_transform(emb_matrix)  # shape: (1659, 2)\n",
    "plt.figure(figsize=(8, 6))\n",
    "plt.scatter(emb_2d[:, 0], emb_2d[:, 1], s=5, alpha=0.7)\n",
    "plt.show()"
   ]
  },
  {
   "cell_type": "code",
   "execution_count": null,
   "id": "039ec0c8-afba-4372-ab8a-ba1e4ecf1144",
   "metadata": {},
   "outputs": [],
   "source": []
  },
  {
   "cell_type": "code",
   "execution_count": null,
   "id": "44dd94b5-133f-4d1b-950d-35bb3c1119c5",
   "metadata": {},
   "outputs": [],
   "source": []
  },
  {
   "cell_type": "code",
   "execution_count": null,
   "id": "5cd37f96-08ed-44c0-95d5-65336ed01084",
   "metadata": {},
   "outputs": [],
   "source": []
  },
  {
   "cell_type": "markdown",
   "id": "a5b02236-bdaa-4738-8d33-3ec382f0be5f",
   "metadata": {},
   "source": [
    "# Non Pytorch implementation"
   ]
  },
  {
   "cell_type": "code",
   "execution_count": 17,
   "id": "9092cb93-d127-4ef9-8561-fdc1e79993be",
   "metadata": {
    "tags": []
   },
   "outputs": [],
   "source": [
    "W = torch.randn([64, 1], requires_grad=True)\n",
    "\n",
    "num_users = len(utoix)\n",
    "user_embeddings = torch.randn([num_users, embedding_size], requires_grad=True)\n",
    "\n",
    "\n",
    "num_articles = len(atoix)\n",
    "article_embeddings = torch.randn([num_articles, embedding_size], requires_grad=True)\n"
   ]
  },
  {
   "cell_type": "code",
   "execution_count": 18,
   "id": "b7341e3b-708e-4f69-be8c-3739294b55e4",
   "metadata": {
    "tags": []
   },
   "outputs": [
    {
     "data": {
      "text/plain": [
       "(9.0, 1.0)"
      ]
     },
     "execution_count": 18,
     "metadata": {},
     "output_type": "execute_result"
    }
   ],
   "source": [
    "\n",
    "batch_size = 1000\n",
    "num_batches = len(xs) / batch_size - 1\n",
    "num_batches_test = len(xs_test) / batch_size - 1\n",
    "num_batches, num_batches_test"
   ]
  },
  {
   "cell_type": "code",
   "execution_count": 20,
   "id": "6bbd2439-52eb-4ed0-99f1-cec1bce63493",
   "metadata": {
    "tags": []
   },
   "outputs": [
    {
     "name": "stdout",
     "output_type": "stream",
     "text": [
      "batch 0, train_loss: 2.8324921214894676, test_loss: 2.960949934165475\n",
      "batch 1, train_loss: 2.484979474299094, test_loss: 2.6322942986153506\n",
      "batch 2, train_loss: 2.229906397697467, test_loss: 2.3294509764159463\n",
      "batch 3, train_loss: 1.935817634804779, test_loss: 2.036828002558591\n",
      "batch 4, train_loss: 1.7222544007973573, test_loss: 1.8029102535655042\n",
      "batch 5, train_loss: 1.5610655448449327, test_loss: 1.6280184596375868\n",
      "batch 6, train_loss: 1.4444598974338003, test_loss: 1.5002130622295822\n",
      "batch 7, train_loss: 1.3557180478489257, test_loss: 1.4066249955070254\n",
      "batch 8, train_loss: 1.2866044587620598, test_loss: 1.3333507172177732\n",
      "batch 9, train_loss: 1.232234108644699, test_loss: 1.2716564535579646\n",
      "batch 10, train_loss: 1.1874078540746422, test_loss: 1.2213822480362932\n",
      "batch 11, train_loss: 1.1506145972127886, test_loss: 1.1825734129087173\n",
      "batch 12, train_loss: 1.1185770427099346, test_loss: 1.1497364213508752\n",
      "batch 13, train_loss: 1.0917830627874, test_loss: 1.1215397636006452\n",
      "batch 14, train_loss: 1.06770454122874, test_loss: 1.0949339060096852\n",
      "batch 15, train_loss: 1.0466808396341318, test_loss: 1.0725113657019683\n",
      "batch 16, train_loss: 1.029380167609471, test_loss: 1.054316548460819\n",
      "batch 17, train_loss: 1.0128672154487646, test_loss: 1.037186758080243\n",
      "batch 18, train_loss: 0.9977730037376861, test_loss: 1.020561213808398\n",
      "epoch 0, train_loss: 0.9977730037376861, test_loss: 1.020561213808398\n",
      "batch 0, train_loss: 0.7434302907139063, test_loss: 0.7446225415766239\n",
      "batch 1, train_loss: 0.7374775996655226, test_loss: 0.7410942796245217\n",
      "batch 2, train_loss: 0.7356467162172, test_loss: 0.7395561118870974\n",
      "batch 3, train_loss: 0.7338066642656922, test_loss: 0.7370213126689196\n",
      "batch 4, train_loss: 0.7386161698162556, test_loss: 0.7399049310207367\n",
      "batch 5, train_loss: 0.7382080948452154, test_loss: 0.7405222497781118\n",
      "batch 6, train_loss: 0.7383892414953027, test_loss: 0.739308507631932\n",
      "batch 7, train_loss: 0.7376854274664074, test_loss: 0.7412320440802723\n",
      "batch 8, train_loss: 0.7372818751285474, test_loss: 0.742212170721756\n",
      "batch 9, train_loss: 0.7378149071797728, test_loss: 0.7397491950169206\n",
      "batch 10, train_loss: 0.7378995493067937, test_loss: 0.737935916593129\n",
      "batch 11, train_loss: 0.7385387680865825, test_loss: 0.7395140238987903\n",
      "batch 12, train_loss: 0.7381743037574566, test_loss: 0.7408447857923233\n",
      "batch 13, train_loss: 0.73852434326389, test_loss: 0.7419318936584252\n",
      "batch 14, train_loss: 0.7379601477394502, test_loss: 0.7406972018132607\n",
      "batch 15, train_loss: 0.737522637585178, test_loss: 0.7404749412918463\n",
      "batch 16, train_loss: 0.7383934795593514, test_loss: 0.7418621459436767\n",
      "batch 17, train_loss: 0.7380170252339707, test_loss: 0.742143619077901\n",
      "batch 18, train_loss: 0.737351646305699, test_loss: 0.7410892541000718\n",
      "epoch 1, train_loss: 0.737351646305699, test_loss: 0.7410892541000718\n",
      "batch 0, train_loss: 0.7431348248571158, test_loss: 0.7453130918443203\n",
      "batch 1, train_loss: 0.73699691478163, test_loss: 0.7416480485051871\n",
      "batch 2, train_loss: 0.7350141355146964, test_loss: 0.7401306012968222\n",
      "batch 3, train_loss: 0.73317956244573, test_loss: 0.7376525127738714\n",
      "batch 4, train_loss: 0.7380774596363306, test_loss: 0.7405475122988224\n",
      "batch 5, train_loss: 0.7376944343671202, test_loss: 0.7411471160898606\n",
      "batch 6, train_loss: 0.7378926229540791, test_loss: 0.7399216815041644\n",
      "batch 7, train_loss: 0.7371789827980101, test_loss: 0.7418377190660685\n",
      "batch 8, train_loss: 0.7367916637261709, test_loss: 0.7428221185323265\n",
      "batch 9, train_loss: 0.7373211176902056, test_loss: 0.7403301873266697\n",
      "batch 10, train_loss: 0.7374107951088386, test_loss: 0.7384976865459573\n",
      "batch 11, train_loss: 0.7380481803168853, test_loss: 0.740074432425201\n",
      "batch 12, train_loss: 0.7376881232766005, test_loss: 0.7414067145173366\n",
      "batch 13, train_loss: 0.7380367419719696, test_loss: 0.7424981720170805\n",
      "batch 14, train_loss: 0.7374617675582568, test_loss: 0.7412616906483969\n",
      "batch 15, train_loss: 0.737026772459969, test_loss: 0.7410430002100765\n",
      "batch 16, train_loss: 0.7379081963581198, test_loss: 0.742430826766526\n",
      "batch 17, train_loss: 0.7375250349955427, test_loss: 0.7427188007922636\n",
      "batch 18, train_loss: 0.7368447987107855, test_loss: 0.7416633681129469\n",
      "epoch 2, train_loss: 0.7368447987107855, test_loss: 0.7416633681129469\n",
      "batch 0, train_loss: 0.742833110705018, test_loss: 0.7460176861286163\n",
      "batch 1, train_loss: 0.7365080507025122, test_loss: 0.7422136549577117\n",
      "batch 2, train_loss: 0.7343695531239112, test_loss: 0.740717180604736\n",
      "batch 3, train_loss: 0.7325402268432081, test_loss: 0.7382978390678764\n",
      "batch 4, train_loss: 0.7375280426591635, test_loss: 0.7412044039070607\n",
      "batch 5, train_loss: 0.7371713023309906, test_loss: 0.7417858134359121\n",
      "batch 6, train_loss: 0.7373867833848511, test_loss: 0.740547972493938\n",
      "batch 7, train_loss: 0.736663380196318, test_loss: 0.7424560459274798\n",
      "batch 8, train_loss: 0.7362928289787637, test_loss: 0.7434446209718784\n",
      "batch 9, train_loss: 0.7368188584297896, test_loss: 0.7409232129424811\n",
      "batch 10, train_loss: 0.7369137618379159, test_loss: 0.7390710346996784\n",
      "batch 11, train_loss: 0.7375492861246069, test_loss: 0.7406461894065142\n",
      "batch 12, train_loss: 0.7371938426655072, test_loss: 0.7419798765365894\n",
      "batch 13, train_loss: 0.7375410466407026, test_loss: 0.7430755636543036\n",
      "batch 14, train_loss: 0.7369551134447256, test_loss: 0.7418372433503468\n",
      "batch 15, train_loss: 0.7365226541301235, test_loss: 0.7416222840249539\n",
      "batch 16, train_loss: 0.7374148276229116, test_loss: 0.7430107743836502\n",
      "batch 17, train_loss: 0.7370248506590724, test_loss: 0.7433053072732356\n",
      "batch 18, train_loss: 0.7363295732838543, test_loss: 0.74224884939429\n",
      "epoch 3, train_loss: 0.7363295732838543, test_loss: 0.74224884939429\n",
      "batch 0, train_loss: 0.7425250340104103, test_loss: 0.7467366888821125\n",
      "batch 1, train_loss: 0.7360108666867018, test_loss: 0.742791408598423\n",
      "batch 2, train_loss: 0.7337127657433351, test_loss: 0.7413161323567231\n",
      "batch 3, train_loss: 0.7318884270042181, test_loss: 0.7389576029591263\n",
      "batch 4, train_loss: 0.7369677034020424, test_loss: 0.7418759342819452\n",
      "batch 5, train_loss: 0.7366385183384021, test_loss: 0.7424386592879891\n",
      "batch 6, train_loss: 0.7368715409593922, test_loss: 0.7411876793248313\n",
      "batch 7, train_loss: 0.7361384436190128, test_loss: 0.7430873149782419\n",
      "batch 8, train_loss: 0.7357852114107873, test_loss: 0.7440799684822559\n",
      "batch 9, train_loss: 0.7363079736098647, test_loss: 0.741528563630581\n",
      "batch 10, train_loss: 0.7364083069793202, test_loss: 0.7396562363722108\n",
      "batch 11, train_loss: 0.7370419435588023, test_loss: 0.741229564199845\n",
      "batch 12, train_loss: 0.7366913216652778, test_loss: 0.7425645404068323\n",
      "batch 13, train_loss: 0.7370371187127063, test_loss: 0.7436643331923655\n"
     ]
    },
    {
     "ename": "KeyboardInterrupt",
     "evalue": "",
     "output_type": "error",
     "traceback": [
      "\u001b[0;31m---------------------------------------------------------------------------\u001b[0m",
      "\u001b[0;31mKeyboardInterrupt\u001b[0m                         Traceback (most recent call last)",
      "Cell \u001b[0;32mIn[20], line 40\u001b[0m\n\u001b[1;32m     37\u001b[0m \u001b[38;5;28;01mif\u001b[39;00m loss \u001b[38;5;241m<\u001b[39m \u001b[38;5;241m100\u001b[39m:\n\u001b[1;32m     38\u001b[0m     train_loss\u001b[38;5;241m.\u001b[39mappend(loss\u001b[38;5;241m.\u001b[39mitem())\n\u001b[0;32m---> 40\u001b[0m     \u001b[43mloss\u001b[49m\u001b[38;5;241;43m.\u001b[39;49m\u001b[43mbackward\u001b[49m\u001b[43m(\u001b[49m\u001b[43m)\u001b[49m\n\u001b[1;32m     42\u001b[0m     learning_rate \u001b[38;5;241m=\u001b[39m \u001b[38;5;241m0.01\u001b[39m\n\u001b[1;32m     43\u001b[0m     W\u001b[38;5;241m.\u001b[39mdata \u001b[38;5;241m-\u001b[39m\u001b[38;5;241m=\u001b[39m learning_rate \u001b[38;5;241m*\u001b[39m W\u001b[38;5;241m.\u001b[39mgrad\n",
      "File \u001b[0;32m/usr/local/lib/python3.11/dist-packages/torch/_tensor.py:492\u001b[0m, in \u001b[0;36mTensor.backward\u001b[0;34m(self, gradient, retain_graph, create_graph, inputs)\u001b[0m\n\u001b[1;32m    482\u001b[0m \u001b[38;5;28;01mif\u001b[39;00m has_torch_function_unary(\u001b[38;5;28mself\u001b[39m):\n\u001b[1;32m    483\u001b[0m     \u001b[38;5;28;01mreturn\u001b[39;00m handle_torch_function(\n\u001b[1;32m    484\u001b[0m         Tensor\u001b[38;5;241m.\u001b[39mbackward,\n\u001b[1;32m    485\u001b[0m         (\u001b[38;5;28mself\u001b[39m,),\n\u001b[0;32m   (...)\u001b[0m\n\u001b[1;32m    490\u001b[0m         inputs\u001b[38;5;241m=\u001b[39minputs,\n\u001b[1;32m    491\u001b[0m     )\n\u001b[0;32m--> 492\u001b[0m \u001b[43mtorch\u001b[49m\u001b[38;5;241;43m.\u001b[39;49m\u001b[43mautograd\u001b[49m\u001b[38;5;241;43m.\u001b[39;49m\u001b[43mbackward\u001b[49m\u001b[43m(\u001b[49m\n\u001b[1;32m    493\u001b[0m \u001b[43m    \u001b[49m\u001b[38;5;28;43mself\u001b[39;49m\u001b[43m,\u001b[49m\u001b[43m \u001b[49m\u001b[43mgradient\u001b[49m\u001b[43m,\u001b[49m\u001b[43m \u001b[49m\u001b[43mretain_graph\u001b[49m\u001b[43m,\u001b[49m\u001b[43m \u001b[49m\u001b[43mcreate_graph\u001b[49m\u001b[43m,\u001b[49m\u001b[43m \u001b[49m\u001b[43minputs\u001b[49m\u001b[38;5;241;43m=\u001b[39;49m\u001b[43minputs\u001b[49m\n\u001b[1;32m    494\u001b[0m \u001b[43m\u001b[49m\u001b[43m)\u001b[49m\n",
      "File \u001b[0;32m/usr/local/lib/python3.11/dist-packages/torch/autograd/__init__.py:251\u001b[0m, in \u001b[0;36mbackward\u001b[0;34m(tensors, grad_tensors, retain_graph, create_graph, grad_variables, inputs)\u001b[0m\n\u001b[1;32m    246\u001b[0m     retain_graph \u001b[38;5;241m=\u001b[39m create_graph\n\u001b[1;32m    248\u001b[0m \u001b[38;5;66;03m# The reason we repeat the same comment below is that\u001b[39;00m\n\u001b[1;32m    249\u001b[0m \u001b[38;5;66;03m# some Python versions print out the first line of a multi-line function\u001b[39;00m\n\u001b[1;32m    250\u001b[0m \u001b[38;5;66;03m# calls in the traceback and some print out the last line\u001b[39;00m\n\u001b[0;32m--> 251\u001b[0m \u001b[43mVariable\u001b[49m\u001b[38;5;241;43m.\u001b[39;49m\u001b[43m_execution_engine\u001b[49m\u001b[38;5;241;43m.\u001b[39;49m\u001b[43mrun_backward\u001b[49m\u001b[43m(\u001b[49m\u001b[43m  \u001b[49m\u001b[38;5;66;43;03m# Calls into the C++ engine to run the backward pass\u001b[39;49;00m\n\u001b[1;32m    252\u001b[0m \u001b[43m    \u001b[49m\u001b[43mtensors\u001b[49m\u001b[43m,\u001b[49m\n\u001b[1;32m    253\u001b[0m \u001b[43m    \u001b[49m\u001b[43mgrad_tensors_\u001b[49m\u001b[43m,\u001b[49m\n\u001b[1;32m    254\u001b[0m \u001b[43m    \u001b[49m\u001b[43mretain_graph\u001b[49m\u001b[43m,\u001b[49m\n\u001b[1;32m    255\u001b[0m \u001b[43m    \u001b[49m\u001b[43mcreate_graph\u001b[49m\u001b[43m,\u001b[49m\n\u001b[1;32m    256\u001b[0m \u001b[43m    \u001b[49m\u001b[43minputs\u001b[49m\u001b[43m,\u001b[49m\n\u001b[1;32m    257\u001b[0m \u001b[43m    \u001b[49m\u001b[43mallow_unreachable\u001b[49m\u001b[38;5;241;43m=\u001b[39;49m\u001b[38;5;28;43;01mTrue\u001b[39;49;00m\u001b[43m,\u001b[49m\n\u001b[1;32m    258\u001b[0m \u001b[43m    \u001b[49m\u001b[43maccumulate_grad\u001b[49m\u001b[38;5;241;43m=\u001b[39;49m\u001b[38;5;28;43;01mTrue\u001b[39;49;00m\u001b[43m,\u001b[49m\n\u001b[1;32m    259\u001b[0m \u001b[43m\u001b[49m\u001b[43m)\u001b[49m\n",
      "\u001b[0;31mKeyboardInterrupt\u001b[0m: "
     ]
    }
   ],
   "source": [
    "\n",
    "batch_size = 500\n",
    "num_batches = len(xs) / batch_size - 1\n",
    "\n",
    "train_losses, test_losses = [], []\n",
    "\n",
    "def forward(x, y):\n",
    "    user_index = utoix[x[0]]\n",
    "    article_index = atoix[x[1]]\n",
    "    user_embedding = user_embeddings[user_index]\n",
    "    article_embedding = article_embeddings[article_index]\n",
    "    X = torch.concat([user_embedding, article_embedding])\n",
    "\n",
    "    Y = X @ W \n",
    "    p = 1 / (1 + torch.exp(-Y)) # sigmoid \n",
    "\n",
    "    loss = -1 * (torch.log(1 - p)*(1 - y) + y*torch.log(p))\n",
    "    return loss\n",
    "    \n",
    "\n",
    "for epoch in range(10):\n",
    "    \n",
    "    training_rows = len(xs)\n",
    "    train_loss, test_loss = [], []\n",
    "    for batch in range(int(num_batches)):\n",
    "        \n",
    "        test_batch = batch % int(num_batches_test)\n",
    "        for i, x in enumerate(xs_test[test_batch * batch_size :  (test_batch+1) * batch_size]):\n",
    "\n",
    "            loss = forward(x, ys_test[i])\n",
    "            if not loss.isnan() and loss < 100:\n",
    "                test_loss.append(loss.item())\n",
    "                \n",
    "        for i, x in enumerate(xs[batch * batch_size :  (batch+1) * batch_size]):\n",
    "\n",
    "            loss = forward(x, ys[i])\n",
    "\n",
    "            if loss < 100:\n",
    "                train_loss.append(loss.item())\n",
    "\n",
    "                loss.backward()\n",
    "\n",
    "                learning_rate = 0.01\n",
    "                W.data -= learning_rate * W.grad\n",
    "                user_embeddings.data -= learning_rate * user_embeddings.grad\n",
    "                article_embeddings.data -= learning_rate * article_embeddings.grad\n",
    "\n",
    "                W.grad.zero_()\n",
    "                user_embeddings.grad.zero_()\n",
    "                article_embeddings.grad.zero_()\n",
    "\n",
    "        \n",
    "                \n",
    "        print(f\"batch {batch}, train_loss: {sum(train_loss) / len(train_loss)}, test_loss: {sum(test_loss) / len(test_loss)}\")\n",
    "                \n",
    "    train_loss = sum(train_loss) / len(train_loss)\n",
    "    test_loss = sum(test_loss) / len(test_loss)\n",
    "        \n",
    "    train_losses.append(train_loss)\n",
    "    test_losses.append(test_loss)\n",
    "    print(f\"epoch {epoch}, train_loss: {train_loss}, test_loss: {test_loss}\")"
   ]
  },
  {
   "cell_type": "code",
   "execution_count": 93,
   "id": "2a4085bb-6ab3-4635-8510-0cf4b6943f58",
   "metadata": {
    "execution": {
     "iopub.execute_input": "2025-02-06T06:35:55.562212Z",
     "iopub.status.busy": "2025-02-06T06:35:55.561829Z",
     "iopub.status.idle": "2025-02-06T06:35:55.774412Z",
     "shell.execute_reply": "2025-02-06T06:35:55.773592Z",
     "shell.execute_reply.started": "2025-02-06T06:35:55.562156Z"
    }
   },
   "outputs": [
    {
     "data": {
      "image/png": "[encoded data removed]",
      "text/plain": [
       "<Figure size 800x500 with 1 Axes>"
      ]
     },
     "metadata": {},
     "output_type": "display_data"
    }
   ],
   "source": [
    "import matplotlib.pyplot as plt\n",
    "\n",
    "# Assume train_losses and test_losses have been populated per epoch\n",
    "epochs = range(1, len(train_losses) + 1)\n",
    "\n",
    "plt.figure(figsize=(8, 5))\n",
    "plt.plot(epochs, train_losses, marker='o', label='Training Loss')\n",
    "plt.plot(epochs, test_losses, marker='s', label='Test Loss')\n",
    "plt.xlabel('Epoch')\n",
    "plt.ylabel('Loss')\n",
    "plt.title('Training and Test Loss per Epoch')\n",
    "plt.legend()\n",
    "plt.grid(True)\n",
    "plt.show()\n"
   ]
  },
  {
   "cell_type": "code",
   "execution_count": 95,
   "id": "2b104f87-8a24-4daa-81e4-48ab6acf19b1",
   "metadata": {
    "execution": {
     "iopub.execute_input": "2025-02-06T06:39:08.466696Z",
     "iopub.status.busy": "2025-02-06T06:39:08.466173Z",
     "iopub.status.idle": "2025-02-06T06:39:08.481025Z",
     "shell.execute_reply": "2025-02-06T06:39:08.480393Z",
     "shell.execute_reply.started": "2025-02-06T06:39:08.466671Z"
    }
   },
   "outputs": [
    {
     "data": {
      "text/plain": [
       "tensor([[ 0.0850],\n",
       "        [-0.0780],\n",
       "        [-0.0036],\n",
       "        [ 0.0180],\n",
       "        [-0.0170],\n",
       "        [-0.0469],\n",
       "        [ 0.1032],\n",
       "        [ 0.0181],\n",
       "        [-0.0220],\n",
       "        [-0.1256],\n",
       "        [-0.1142],\n",
       "        [-0.0169],\n",
       "        [ 0.0376],\n",
       "        [ 0.0834],\n",
       "        [ 0.0225],\n",
       "        [ 0.0947],\n",
       "        [ 0.0347],\n",
       "        [ 0.0807],\n",
       "        [-0.0793],\n",
       "        [ 0.0713],\n",
       "        [-0.0753],\n",
       "        [ 0.0671],\n",
       "        [ 0.0004],\n",
       "        [ 0.0912],\n",
       "        [ 0.0329],\n",
       "        [-0.0408],\n",
       "        [ 0.0747],\n",
       "        [-0.0271],\n",
       "        [-0.0454],\n",
       "        [ 0.1208],\n",
       "        [ 0.1674],\n",
       "        [-0.0462],\n",
       "        [ 0.0144],\n",
       "        [-0.0326],\n",
       "        [-0.0413],\n",
       "        [ 0.0248],\n",
       "        [ 0.0786],\n",
       "        [-0.0005],\n",
       "        [-0.0245],\n",
       "        [ 0.1237],\n",
       "        [ 0.0214],\n",
       "        [-0.0404],\n",
       "        [-0.1036],\n",
       "        [-0.0712],\n",
       "        [ 0.0112],\n",
       "        [-0.0376],\n",
       "        [ 0.0400],\n",
       "        [ 0.0054],\n",
       "        [-0.0180],\n",
       "        [-0.0644],\n",
       "        [ 0.0113],\n",
       "        [ 0.0213],\n",
       "        [ 0.1518],\n",
       "        [ 0.0722],\n",
       "        [ 0.0859],\n",
       "        [ 0.0903],\n",
       "        [ 0.0477],\n",
       "        [-0.0714],\n",
       "        [-0.0334],\n",
       "        [-0.0253],\n",
       "        [ 0.0496],\n",
       "        [-0.0049],\n",
       "        [ 0.0968],\n",
       "        [ 0.0804]], requires_grad=True)"
      ]
     },
     "execution_count": 95,
     "metadata": {},
     "output_type": "execute_result"
    }
   ],
   "source": [
    "W"
   ]
  },
  {
   "cell_type": "code",
   "execution_count": 215,
   "id": "69397368-6c48-4cfa-9c27-849e303d2c95",
   "metadata": {
    "execution": {
     "iopub.execute_input": "2025-02-06T01:37:52.657626Z",
     "iopub.status.busy": "2025-02-06T01:37:52.657242Z",
     "iopub.status.idle": "2025-02-06T01:37:52.665774Z",
     "shell.execute_reply": "2025-02-06T01:37:52.664758Z",
     "shell.execute_reply.started": "2025-02-06T01:37:52.657597Z"
    }
   },
   "outputs": [
    {
     "data": {
      "text/plain": [
       "tensor([[ 0.3526,  0.5454, -1.3400,  ...,  1.1192,  0.5828, -0.4764],\n",
       "        [-0.1501,  0.9552,  0.1456,  ..., -1.1566,  0.6688, -3.1323],\n",
       "        [ 0.7509,  1.0891, -0.1447,  ..., -0.4954, -0.3704, -1.5541],\n",
       "        ...,\n",
       "        [-0.4991, -1.5514,  1.5965,  ...,  0.1483, -1.4015, -1.7373],\n",
       "        [-1.5834,  1.3376,  0.2626,  ...,  0.1934,  0.6721,  0.5652],\n",
       "        [ 2.0587,  0.6371,  1.2530,  ...,  1.2719, -0.5641,  1.1394]])"
      ]
     },
     "execution_count": 215,
     "metadata": {},
     "output_type": "execute_result"
    }
   ],
   "source": [
    "user_embeddings"
   ]
  },
  {
   "cell_type": "code",
   "execution_count": 185,
   "id": "0e3e52d2-424d-40dc-aa3f-116b95239b60",
   "metadata": {
    "execution": {
     "iopub.execute_input": "2025-02-06T01:22:08.128718Z",
     "iopub.status.busy": "2025-02-06T01:22:08.128326Z",
     "iopub.status.idle": "2025-02-06T01:22:08.139811Z",
     "shell.execute_reply": "2025-02-06T01:22:08.138845Z",
     "shell.execute_reply.started": "2025-02-06T01:22:08.128683Z"
    }
   },
   "outputs": [
    {
     "data": {
      "text/plain": [
       "torch.Size([64])"
      ]
     },
     "execution_count": 185,
     "metadata": {},
     "output_type": "execute_result"
    }
   ],
   "source": [
    "X = torch.concat([user_embedding, article_embedding])\n",
    "X.shape"
   ]
  },
  {
   "cell_type": "code",
   "execution_count": 193,
   "id": "1e5a2a9b-c547-411a-9329-f713d98b5546",
   "metadata": {
    "execution": {
     "iopub.execute_input": "2025-02-06T01:26:17.170098Z",
     "iopub.status.busy": "2025-02-06T01:26:17.169510Z",
     "iopub.status.idle": "2025-02-06T01:26:17.175746Z",
     "shell.execute_reply": "2025-02-06T01:26:17.174760Z",
     "shell.execute_reply.started": "2025-02-06T01:26:17.170073Z"
    }
   },
   "outputs": [
    {
     "data": {
      "text/plain": [
       "torch.Size([64, 1])"
      ]
     },
     "execution_count": 193,
     "metadata": {},
     "output_type": "execute_result"
    }
   ],
   "source": [
    "W = torch.randn([64, 1])\n",
    "W.shape"
   ]
  },
  {
   "cell_type": "code",
   "execution_count": 194,
   "id": "50da5bd6-aa0b-491e-aeed-b3d1254b6a07",
   "metadata": {
    "execution": {
     "iopub.execute_input": "2025-02-06T01:26:18.759978Z",
     "iopub.status.busy": "2025-02-06T01:26:18.759392Z",
     "iopub.status.idle": "2025-02-06T01:26:18.768129Z",
     "shell.execute_reply": "2025-02-06T01:26:18.766058Z",
     "shell.execute_reply.started": "2025-02-06T01:26:18.759953Z"
    }
   },
   "outputs": [
    {
     "data": {
      "text/plain": [
       "torch.Size([1])"
      ]
     },
     "execution_count": 194,
     "metadata": {},
     "output_type": "execute_result"
    }
   ],
   "source": [
    "\n",
    "Y.shape"
   ]
  },
  {
   "cell_type": "code",
   "execution_count": 205,
   "id": "cdf9185e-d47d-4244-b4c4-870a818948cb",
   "metadata": {
    "execution": {
     "iopub.execute_input": "2025-02-06T01:30:42.380433Z",
     "iopub.status.busy": "2025-02-06T01:30:42.379525Z",
     "iopub.status.idle": "2025-02-06T01:30:42.388768Z",
     "shell.execute_reply": "2025-02-06T01:30:42.387549Z",
     "shell.execute_reply.started": "2025-02-06T01:30:42.380394Z"
    }
   },
   "outputs": [
    {
     "data": {
      "text/plain": [
       "tensor([1.0177])"
      ]
     },
     "execution_count": 205,
     "metadata": {},
     "output_type": "execute_result"
    }
   ],
   "source": [
    "-torch.log(probability)"
   ]
  },
  {
   "cell_type": "code",
   "execution_count": 241,
   "id": "89c95736-5342-4089-b2a5-ef97949b8fdc",
   "metadata": {
    "execution": {
     "iopub.execute_input": "2025-02-06T02:12:03.109623Z",
     "iopub.status.busy": "2025-02-06T02:12:03.108294Z",
     "iopub.status.idle": "2025-02-06T02:12:03.115873Z",
     "shell.execute_reply": "2025-02-06T02:12:03.114936Z",
     "shell.execute_reply.started": "2025-02-06T02:12:03.109582Z"
    }
   },
   "outputs": [
    {
     "data": {
      "text/plain": [
       "4"
      ]
     },
     "execution_count": 241,
     "metadata": {},
     "output_type": "execute_result"
    }
   ],
   "source": [
    "2+2"
   ]
  },
  {
   "cell_type": "code",
   "execution_count": null,
   "id": "4bec7aef-da41-4d74-99da-af4fb365998b",
   "metadata": {},
   "outputs": [],
   "source": []
  }
 ],
 "metadata": {
  "kernelspec": {
   "display_name": "Python 3 (ipykernel)",
   "language": "python",
   "name": "python3"
  },
  "language_info": {
   "codemirror_mode": {
    "name": "ipython",
    "version": 3
   },
   "file_extension": ".py",
   "mimetype": "text/x-python",
   "name": "python",
   "nbconvert_exporter": "python",
   "pygments_lexer": "ipython3",
   "version": "3.11.7"
  }
 },
 "nbformat": 4,
 "nbformat_minor": 5
}
