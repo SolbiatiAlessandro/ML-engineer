{
 "cells": [
  {
   "cell_type": "markdown",
   "id": "4938fbc9-ddfb-4e9e-b2cb-de22d1be1bc1",
   "metadata": {
    "execution": {
     "iopub.execute_input": "2025-02-05T23:51:18.445698Z",
     "iopub.status.busy": "2025-02-05T23:51:18.445405Z",
     "iopub.status.idle": "2025-02-05T23:51:18.450135Z",
     "shell.execute_reply": "2025-02-05T23:51:18.449021Z",
     "shell.execute_reply.started": "2025-02-05T23:51:18.445675Z"
    }
   },
   "source": [
    "# Training Data without Cold Start "
   ]
  },
  {
   "cell_type": "code",
   "execution_count": 1,
   "id": "9301f98c-6c95-4481-9db3-a4be50e7bbb7",
   "metadata": {
    "execution": {
     "iopub.execute_input": "2025-02-20T22:23:52.291418Z",
     "iopub.status.busy": "2025-02-20T22:23:52.290909Z",
     "iopub.status.idle": "2025-02-20T22:23:52.624086Z",
     "shell.execute_reply": "2025-02-20T22:23:52.623591Z",
     "shell.execute_reply.started": "2025-02-20T22:23:52.291398Z"
    }
   },
   "outputs": [
    {
     "data": {
      "text/plain": [
       "<module 'data_processing' from '/notebooks/ML-system-design/personalized-fashion-recommendations/data_processing.py'>"
      ]
     },
     "execution_count": 1,
     "metadata": {},
     "output_type": "execute_result"
    }
   ],
   "source": [
    "import sys\n",
    "import os\n",
    "\n",
    "sys.path.append(os.path.abspath(\"../\"))\n",
    "import importlib\n",
    "import data_processing  # Now you can import the module\n",
    "importlib.reload(data_processing)\n"
   ]
  },
  {
   "cell_type": "code",
   "execution_count": null,
   "id": "065581fe-1de3-47d5-914c-a2d56a24df6c",
   "metadata": {
    "execution": {
     "iopub.execute_input": "2025-02-20T22:23:53.769164Z",
     "iopub.status.busy": "2025-02-20T22:23:53.768817Z"
    }
   },
   "outputs": [],
   "source": [
    "customers, articles, transactions = data_processing.read_data(path=\"../data/\")"
   ]
  },
  {
   "cell_type": "code",
   "execution_count": null,
   "id": "4d9d4082-165c-4443-a8cb-19a0463bb9e2",
   "metadata": {},
   "outputs": [],
   "source": [
    "train, test = data_processing.train_test_no_coldstart(transactions, factor=1000)"
   ]
  },
  {
   "cell_type": "code",
   "execution_count": null,
   "id": "8d3cd11e-a4d1-438d-a486-a555e6b03708",
   "metadata": {},
   "outputs": [],
   "source": [
    "train.shape, test.shape"
   ]
  },
  {
   "cell_type": "code",
   "execution_count": 8,
   "id": "19e0adc5-f027-44e7-b3cd-46811b41d8c0",
   "metadata": {
    "execution": {
     "iopub.execute_input": "2025-02-06T05:34:34.483942Z",
     "iopub.status.busy": "2025-02-06T05:34:34.483634Z",
     "iopub.status.idle": "2025-02-06T05:34:36.364134Z",
     "shell.execute_reply": "2025-02-06T05:34:36.363250Z",
     "shell.execute_reply.started": "2025-02-06T05:34:34.483920Z"
    }
   },
   "outputs": [],
   "source": [
    "train_xs_ys, test_xs_ys = data_processing.get_labels_no_coldstart(train), data_processing.get_labels_no_coldstart(test)"
   ]
  },
  {
   "cell_type": "code",
   "execution_count": 9,
   "id": "7c63fc39-0522-4590-89e7-eb10f0732108",
   "metadata": {
    "execution": {
     "iopub.execute_input": "2025-02-06T05:34:38.322164Z",
     "iopub.status.busy": "2025-02-06T05:34:38.321639Z",
     "iopub.status.idle": "2025-02-06T05:34:38.332714Z",
     "shell.execute_reply": "2025-02-06T05:34:38.331648Z",
     "shell.execute_reply.started": "2025-02-06T05:34:38.322141Z"
    }
   },
   "outputs": [
    {
     "name": "stdout",
     "output_type": "stream",
     "text": [
      "1659 371 True\n",
      "2696 621 True\n"
     ]
    }
   ],
   "source": [
    "# Ensure that test set only contains users and articles seen in training:\n",
    "train_users = set(train_xs_ys[\"customer_id\"].unique())\n",
    "test_users  = set(test_xs_ys[\"customer_id\"].unique())\n",
    "print (len(train_users), len(test_users), test_users.issubset(train_users))\n",
    "\n",
    "train_articles = set(train_xs_ys[\"article_id\"].unique())\n",
    "test_articles  = set(test_xs_ys[\"article_id\"].unique())\n",
    "print (len(train_articles), len(test_articles), test_articles.issubset(train_articles))\n"
   ]
  },
  {
   "cell_type": "code",
   "execution_count": 10,
   "id": "fb69e30f-11e2-4c7f-b18f-372ea53c3781",
   "metadata": {
    "execution": {
     "iopub.execute_input": "2025-02-06T05:34:45.038493Z",
     "iopub.status.busy": "2025-02-06T05:34:45.038176Z",
     "iopub.status.idle": "2025-02-06T05:34:45.051664Z",
     "shell.execute_reply": "2025-02-06T05:34:45.050811Z",
     "shell.execute_reply.started": "2025-02-06T05:34:45.038460Z"
    }
   },
   "outputs": [
    {
     "data": {
      "text/html": [
       "<div>\n",
       "<style scoped>\n",
       "    .dataframe tbody tr th:only-of-type {\n",
       "        vertical-align: middle;\n",
       "    }\n",
       "\n",
       "    .dataframe tbody tr th {\n",
       "        vertical-align: top;\n",
       "    }\n",
       "\n",
       "    .dataframe thead th {\n",
       "        text-align: right;\n",
       "    }\n",
       "</style>\n",
       "<table border=\"1\" class=\"dataframe\">\n",
       "  <thead>\n",
       "    <tr style=\"text-align: right;\">\n",
       "      <th></th>\n",
       "      <th>customer_id</th>\n",
       "      <th>article_id</th>\n",
       "      <th>label</th>\n",
       "    </tr>\n",
       "  </thead>\n",
       "  <tbody>\n",
       "    <tr>\n",
       "      <th>0</th>\n",
       "      <td>dc55f973d1c1b930921ba2716e340340dc8c5ca13d7b1e...</td>\n",
       "      <td>798904008</td>\n",
       "      <td>1</td>\n",
       "    </tr>\n",
       "    <tr>\n",
       "      <th>1</th>\n",
       "      <td>cdc0dabef97175e7376a7060616f37f732d5b9a09a706d...</td>\n",
       "      <td>892455003</td>\n",
       "      <td>1</td>\n",
       "    </tr>\n",
       "    <tr>\n",
       "      <th>2</th>\n",
       "      <td>d113dd9fec0b11c2aa919e79bb0c3dbd4a777d9d92fa1e...</td>\n",
       "      <td>562245046</td>\n",
       "      <td>1</td>\n",
       "    </tr>\n",
       "    <tr>\n",
       "      <th>3</th>\n",
       "      <td>c6e14fffa49db6ba1f4f95a985d4b5a1ca5e6b3611fed5...</td>\n",
       "      <td>479167002</td>\n",
       "      <td>0</td>\n",
       "    </tr>\n",
       "    <tr>\n",
       "      <th>4</th>\n",
       "      <td>cd666fd567cc13c85e0a24716e1ce1ac7ad25f92095bca...</td>\n",
       "      <td>875329004</td>\n",
       "      <td>1</td>\n",
       "    </tr>\n",
       "    <tr>\n",
       "      <th>...</th>\n",
       "      <td>...</td>\n",
       "      <td>...</td>\n",
       "      <td>...</td>\n",
       "    </tr>\n",
       "    <tr>\n",
       "      <th>9995</th>\n",
       "      <td>c5726b58072446994afad8bece8ad83406eb9720f6fba4...</td>\n",
       "      <td>849591004</td>\n",
       "      <td>0</td>\n",
       "    </tr>\n",
       "    <tr>\n",
       "      <th>9996</th>\n",
       "      <td>d1b3f138037faa3eafe97a4757d46e455b06b8726610c3...</td>\n",
       "      <td>803070001</td>\n",
       "      <td>1</td>\n",
       "    </tr>\n",
       "    <tr>\n",
       "      <th>9997</th>\n",
       "      <td>d14eb5e77d147d26340e39633ccfa86f52ff3655e15982...</td>\n",
       "      <td>881916003</td>\n",
       "      <td>1</td>\n",
       "    </tr>\n",
       "    <tr>\n",
       "      <th>9998</th>\n",
       "      <td>e4912ba58db2cf5551299f45e869037513d6ae00651cc0...</td>\n",
       "      <td>871517008</td>\n",
       "      <td>1</td>\n",
       "    </tr>\n",
       "    <tr>\n",
       "      <th>9999</th>\n",
       "      <td>df3ce29d5857384bc72a7a0880b194b3e385a4112a8388...</td>\n",
       "      <td>902388001</td>\n",
       "      <td>1</td>\n",
       "    </tr>\n",
       "  </tbody>\n",
       "</table>\n",
       "<p>10000 rows × 3 columns</p>\n",
       "</div>"
      ],
      "text/plain": [
       "                                            customer_id  article_id  label\n",
       "0     dc55f973d1c1b930921ba2716e340340dc8c5ca13d7b1e...   798904008      1\n",
       "1     cdc0dabef97175e7376a7060616f37f732d5b9a09a706d...   892455003      1\n",
       "2     d113dd9fec0b11c2aa919e79bb0c3dbd4a777d9d92fa1e...   562245046      1\n",
       "3     c6e14fffa49db6ba1f4f95a985d4b5a1ca5e6b3611fed5...   479167002      0\n",
       "4     cd666fd567cc13c85e0a24716e1ce1ac7ad25f92095bca...   875329004      1\n",
       "...                                                 ...         ...    ...\n",
       "9995  c5726b58072446994afad8bece8ad83406eb9720f6fba4...   849591004      0\n",
       "9996  d1b3f138037faa3eafe97a4757d46e455b06b8726610c3...   803070001      1\n",
       "9997  d14eb5e77d147d26340e39633ccfa86f52ff3655e15982...   881916003      1\n",
       "9998  e4912ba58db2cf5551299f45e869037513d6ae00651cc0...   871517008      1\n",
       "9999  df3ce29d5857384bc72a7a0880b194b3e385a4112a8388...   902388001      1\n",
       "\n",
       "[10000 rows x 3 columns]"
      ]
     },
     "execution_count": 10,
     "metadata": {},
     "output_type": "execute_result"
    }
   ],
   "source": [
    "train_xs_ys"
   ]
  },
  {
   "cell_type": "markdown",
   "id": "5dd376ea-5843-494b-b220-8ad9dabdb9e1",
   "metadata": {
    "execution": {
     "iopub.execute_input": "2025-02-05T23:51:34.119491Z",
     "iopub.status.busy": "2025-02-05T23:51:34.119153Z",
     "iopub.status.idle": "2025-02-05T23:51:34.123275Z",
     "shell.execute_reply": "2025-02-05T23:51:34.122324Z",
     "shell.execute_reply.started": "2025-02-05T23:51:34.119445Z"
    }
   },
   "source": [
    "# ID Hashing"
   ]
  },
  {
   "cell_type": "code",
   "execution_count": 95,
   "id": "334ced1a-ae10-4d98-8b03-b4a8d574618c",
   "metadata": {
    "execution": {
     "iopub.execute_input": "2025-02-05T23:49:47.458832Z",
     "iopub.status.busy": "2025-02-05T23:49:47.458227Z",
     "iopub.status.idle": "2025-02-05T23:49:47.642293Z",
     "shell.execute_reply": "2025-02-05T23:49:47.641379Z",
     "shell.execute_reply.started": "2025-02-05T23:49:47.458799Z"
    }
   },
   "outputs": [
    {
     "data": {
      "text/plain": [
       "(array([531., 157.,  84.,  46.,  14.,   5.,   5.,   2.,   1.,   2.]),\n",
       " array([ 2. , 10.6, 19.2, 27.8, 36.4, 45. , 53.6, 62.2, 70.8, 79.4, 88. ]),\n",
       " <BarContainer object of 10 artists>)"
      ]
     },
     "execution_count": 95,
     "metadata": {},
     "output_type": "execute_result"
    },
    {
     "data": {
      "image/png": "[encoded data removed]",
      "text/plain": [
       "<Figure size 640x480 with 1 Axes>"
      ]
     },
     "metadata": {},
     "output_type": "display_data"
    }
   ],
   "source": [
    "import matplotlib.pyplot as plt \n",
    "\n",
    "plt.hist(train_xs_ys.customer_id.apply(lambda x: hash(x) % 1350).value_counts())"
   ]
  },
  {
   "cell_type": "code",
   "execution_count": 99,
   "id": "23392e75-a13c-4016-840e-78d3525c37ab",
   "metadata": {
    "execution": {
     "iopub.execute_input": "2025-02-05T23:50:54.164052Z",
     "iopub.status.busy": "2025-02-05T23:50:54.163185Z",
     "iopub.status.idle": "2025-02-05T23:50:54.177466Z",
     "shell.execute_reply": "2025-02-05T23:50:54.176377Z",
     "shell.execute_reply.started": "2025-02-05T23:50:54.164016Z"
    }
   },
   "outputs": [
    {
     "data": {
      "text/plain": [
       "customer_id\n",
       "725     88\n",
       "275     88\n",
       "1230    76\n",
       "1123    70\n",
       "1046    68\n",
       "1184    62\n",
       "201     58\n",
       "940     58\n",
       "107     54\n",
       "1209    54\n",
       "941     50\n",
       "1070    50\n",
       "696     50\n",
       "536     50\n",
       "255     48\n",
       "419     44\n",
       "430     44\n",
       "726     42\n",
       "14      42\n",
       "178     42\n",
       "Name: count, dtype: int64"
      ]
     },
     "execution_count": 99,
     "metadata": {},
     "output_type": "execute_result"
    }
   ],
   "source": [
    "train_xs_ys.customer_id.apply(lambda x: hash(x) % 1350).value_counts()[:20] "
   ]
  },
  {
   "cell_type": "code",
   "execution_count": 11,
   "id": "89d341d3-2a36-42cf-852f-4feffd7cf83c",
   "metadata": {
    "execution": {
     "iopub.execute_input": "2025-02-06T05:34:58.554224Z",
     "iopub.status.busy": "2025-02-06T05:34:58.553929Z",
     "iopub.status.idle": "2025-02-06T05:34:58.562554Z",
     "shell.execute_reply": "2025-02-06T05:34:58.561815Z",
     "shell.execute_reply.started": "2025-02-06T05:34:58.554202Z"
    }
   },
   "outputs": [],
   "source": [
    "utoix, ixtou = {}, {}\n",
    "for i, u in enumerate(train_xs_ys[\"customer_id\"].unique()):\n",
    "    utoix[u] = i\n",
    "    ixtou[i] = u\n",
    "    \n",
    "atoix, ixtoa = {}, {}\n",
    "for i, a in enumerate(train_xs_ys['article_id'].unique()):\n",
    "    atoix[a] = i\n",
    "    ixtoa[i] = a"
   ]
  },
  {
   "cell_type": "markdown",
   "id": "82bd0995-4102-428f-9000-c84464018053",
   "metadata": {
    "execution": {
     "iopub.execute_input": "2025-02-06T01:18:55.478555Z",
     "iopub.status.busy": "2025-02-06T01:18:55.478233Z",
     "iopub.status.idle": "2025-02-06T01:18:55.483008Z",
     "shell.execute_reply": "2025-02-06T01:18:55.481874Z",
     "shell.execute_reply.started": "2025-02-06T01:18:55.478518Z"
    }
   },
   "source": [
    "# Training "
   ]
  },
  {
   "cell_type": "code",
   "execution_count": 12,
   "id": "9d011d75-5351-4ab2-8675-316a36dbe0da",
   "metadata": {
    "execution": {
     "iopub.execute_input": "2025-02-06T05:35:00.675652Z",
     "iopub.status.busy": "2025-02-06T05:35:00.675310Z",
     "iopub.status.idle": "2025-02-06T05:35:00.681183Z",
     "shell.execute_reply": "2025-02-06T05:35:00.680313Z",
     "shell.execute_reply.started": "2025-02-06T05:35:00.675629Z"
    }
   },
   "outputs": [
    {
     "data": {
      "text/plain": [
       "(1659, 2696)"
      ]
     },
     "execution_count": 12,
     "metadata": {},
     "output_type": "execute_result"
    }
   ],
   "source": [
    "len(ixtou), len(atoix)"
   ]
  },
  {
   "cell_type": "code",
   "execution_count": 13,
   "id": "0041f87a-3cc6-473c-9d43-c082ddb4c3dd",
   "metadata": {
    "execution": {
     "iopub.execute_input": "2025-02-06T05:35:01.793168Z",
     "iopub.status.busy": "2025-02-06T05:35:01.792844Z",
     "iopub.status.idle": "2025-02-06T05:35:01.796762Z",
     "shell.execute_reply": "2025-02-06T05:35:01.796006Z",
     "shell.execute_reply.started": "2025-02-06T05:35:01.793145Z"
    }
   },
   "outputs": [],
   "source": [
    "embedding_size = 32"
   ]
  },
  {
   "cell_type": "code",
   "execution_count": 14,
   "id": "97ac9ac5-ccdc-4b8a-a9e9-d7e01489ceb7",
   "metadata": {
    "execution": {
     "iopub.execute_input": "2025-02-06T05:35:02.347812Z",
     "iopub.status.busy": "2025-02-06T05:35:02.347526Z",
     "iopub.status.idle": "2025-02-06T05:35:04.144597Z",
     "shell.execute_reply": "2025-02-06T05:35:04.143758Z",
     "shell.execute_reply.started": "2025-02-06T05:35:02.347790Z"
    }
   },
   "outputs": [],
   "source": [
    "import torch"
   ]
  },
  {
   "cell_type": "code",
   "execution_count": 163,
   "id": "3ad35ebb-e354-4c66-a594-fe6537966310",
   "metadata": {
    "execution": {
     "iopub.execute_input": "2025-02-06T01:16:20.330900Z",
     "iopub.status.busy": "2025-02-06T01:16:20.329665Z",
     "iopub.status.idle": "2025-02-06T01:16:20.338754Z",
     "shell.execute_reply": "2025-02-06T01:16:20.337104Z",
     "shell.execute_reply.started": "2025-02-06T01:16:20.330867Z"
    }
   },
   "outputs": [
    {
     "name": "stdout",
     "output_type": "stream",
     "text": [
      "torch.Size([1350, 32])\n",
      "torch.Size([3073, 32])\n"
     ]
    }
   ],
   "source": [
    "\n",
    "\n"
   ]
  },
  {
   "cell_type": "code",
   "execution_count": 171,
   "id": "e2cae96c-1012-4ce6-9647-54d1b14a8b92",
   "metadata": {
    "execution": {
     "iopub.execute_input": "2025-02-06T01:18:00.742229Z",
     "iopub.status.busy": "2025-02-06T01:18:00.741906Z",
     "iopub.status.idle": "2025-02-06T01:18:00.749670Z",
     "shell.execute_reply": "2025-02-06T01:18:00.748559Z",
     "shell.execute_reply.started": "2025-02-06T01:18:00.742207Z"
    }
   },
   "outputs": [],
   "source": [
    "train_xs_ys = train_xs_ys.sample(frac=1, random_state=42)"
   ]
  },
  {
   "cell_type": "code",
   "execution_count": 15,
   "id": "f29d30e9-766c-4d13-9496-ca8900bdec73",
   "metadata": {
    "execution": {
     "iopub.execute_input": "2025-02-06T05:35:06.126924Z",
     "iopub.status.busy": "2025-02-06T05:35:06.126482Z",
     "iopub.status.idle": "2025-02-06T05:35:06.142509Z",
     "shell.execute_reply": "2025-02-06T05:35:06.141826Z",
     "shell.execute_reply.started": "2025-02-06T05:35:06.126900Z"
    }
   },
   "outputs": [
    {
     "name": "stderr",
     "output_type": "stream",
     "text": [
      "/tmp/ipykernel_40/3353662721.py:2: SettingWithCopyWarning: \n",
      "A value is trying to be set on a copy of a slice from a DataFrame.\n",
      "Try using .loc[row_indexer,col_indexer] = value instead\n",
      "\n",
      "See the caveats in the documentation: https://pandas.pydata.org/pandas-docs/stable/user_guide/indexing.html#returning-a-view-versus-a-copy\n",
      "  xs['article_id'] = xs['article_id'].astype(int)\n"
     ]
    }
   ],
   "source": [
    "xs, ys = train_xs_ys[['customer_id', 'article_id']], train_xs_ys[['label']]\n",
    "xs['article_id'] = xs['article_id'].astype(int)\n",
    "xs, ys = xs.to_numpy(), torch.tensor(ys.to_numpy())"
   ]
  },
  {
   "cell_type": "code",
   "execution_count": 43,
   "id": "55a0a415-5393-424a-b051-8998461cc92a",
   "metadata": {
    "execution": {
     "iopub.execute_input": "2025-02-06T05:56:09.123262Z",
     "iopub.status.busy": "2025-02-06T05:56:09.122961Z",
     "iopub.status.idle": "2025-02-06T05:56:09.130398Z",
     "shell.execute_reply": "2025-02-06T05:56:09.129670Z",
     "shell.execute_reply.started": "2025-02-06T05:56:09.123240Z"
    }
   },
   "outputs": [
    {
     "name": "stderr",
     "output_type": "stream",
     "text": [
      "/tmp/ipykernel_40/1822066797.py:2: SettingWithCopyWarning: \n",
      "A value is trying to be set on a copy of a slice from a DataFrame.\n",
      "Try using .loc[row_indexer,col_indexer] = value instead\n",
      "\n",
      "See the caveats in the documentation: https://pandas.pydata.org/pandas-docs/stable/user_guide/indexing.html#returning-a-view-versus-a-copy\n",
      "  xs_test['article_id'] = xs_test['article_id'].astype(int)\n"
     ]
    }
   ],
   "source": [
    "xs_test, ys_test = test_xs_ys[['customer_id', 'article_id']], test_xs_ys[['label']]\n",
    "xs_test['article_id'] = xs_test['article_id'].astype(int)\n",
    "xs_test, ys_test = xs_test.to_numpy(), torch.tensor(ys_test.to_numpy())"
   ]
  },
  {
   "cell_type": "code",
   "execution_count": 90,
   "id": "9092cb93-d127-4ef9-8561-fdc1e79993be",
   "metadata": {
    "execution": {
     "iopub.execute_input": "2025-02-06T06:31:00.733170Z",
     "iopub.status.busy": "2025-02-06T06:31:00.732821Z",
     "iopub.status.idle": "2025-02-06T06:31:00.739496Z",
     "shell.execute_reply": "2025-02-06T06:31:00.738489Z",
     "shell.execute_reply.started": "2025-02-06T06:31:00.733147Z"
    }
   },
   "outputs": [],
   "source": [
    "W = torch.randn([64, 1], requires_grad=True)\n",
    "\n",
    "num_users = len(utoix)\n",
    "user_embeddings = torch.randn([num_users, embedding_size], requires_grad=True)\n",
    "\n",
    "\n",
    "num_articles = len(atoix)\n",
    "article_embeddings = torch.randn([num_articles, embedding_size], requires_grad=True)\n"
   ]
  },
  {
   "cell_type": "code",
   "execution_count": 80,
   "id": "b7341e3b-708e-4f69-be8c-3739294b55e4",
   "metadata": {
    "execution": {
     "iopub.execute_input": "2025-02-06T06:20:44.176027Z",
     "iopub.status.busy": "2025-02-06T06:20:44.175276Z",
     "iopub.status.idle": "2025-02-06T06:20:44.182309Z",
     "shell.execute_reply": "2025-02-06T06:20:44.181317Z",
     "shell.execute_reply.started": "2025-02-06T06:20:44.175995Z"
    }
   },
   "outputs": [
    {
     "data": {
      "text/plain": [
       "(9.0, 1.0)"
      ]
     },
     "execution_count": 80,
     "metadata": {},
     "output_type": "execute_result"
    }
   ],
   "source": [
    "\n",
    "batch_size = 1000\n",
    "num_batches = len(xs) / batch_size - 1\n",
    "num_batches_test = len(xs_test) / batch_size - 1\n",
    "num_batches, num_batches_test"
   ]
  },
  {
   "cell_type": "code",
   "execution_count": null,
   "id": "c3aecb6f-4dae-490e-b2d4-609c582d4a29",
   "metadata": {},
   "outputs": [],
   "source": []
  },
  {
   "cell_type": "code",
   "execution_count": 94,
   "id": "6bbd2439-52eb-4ed0-99f1-cec1bce63493",
   "metadata": {
    "execution": {
     "iopub.execute_input": "2025-02-06T06:37:14.101792Z",
     "iopub.status.busy": "2025-02-06T06:37:14.101420Z",
     "iopub.status.idle": "2025-02-06T06:38:38.731941Z",
     "shell.execute_reply": "2025-02-06T06:38:38.731068Z",
     "shell.execute_reply.started": "2025-02-06T06:37:14.101751Z"
    }
   },
   "outputs": [
    {
     "name": "stdout",
     "output_type": "stream",
     "text": [
      "batch 0, train_loss: 0.7271561782062054, test_loss: 0.701307953774929\n",
      "batch 1, train_loss: 0.7198209977671504, test_loss: 0.7297457435429097\n",
      "batch 2, train_loss: 0.7138449220061303, test_loss: 0.7393641218096018\n",
      "batch 3, train_loss: 0.7227411798611283, test_loss: 0.7448301489204169\n",
      "batch 4, train_loss: 0.7265319814383984, test_loss: 0.7427540335953235\n",
      "batch 5, train_loss: 0.7276069010595481, test_loss: 0.7421081892549991\n",
      "batch 6, train_loss: 0.7265535507287298, test_loss: 0.7384855418886457\n",
      "batch 7, train_loss: 0.7292616142909973, test_loss: 0.7389046436753124\n",
      "batch 8, train_loss: 0.7319982317735751, test_loss: 0.7401963096939855\n",
      "batch 9, train_loss: 0.7333144252702594, test_loss: 0.7382560744181276\n",
      "batch 10, train_loss: 0.7333630560162393, test_loss: 0.7354161636707458\n",
      "batch 11, train_loss: 0.734949713991334, test_loss: 0.7348127148685356\n",
      "batch 12, train_loss: 0.7347663489660391, test_loss: 0.7333366251393006\n",
      "batch 13, train_loss: 0.734556849421135, test_loss: 0.7325017400671329\n",
      "batch 14, train_loss: 0.7362741253743569, test_loss: 0.734419105793039\n",
      "batch 15, train_loss: 0.7358676952971146, test_loss: 0.7342816708879545\n",
      "batch 16, train_loss: 0.735052874180324, test_loss: 0.735627422508948\n",
      "batch 17, train_loss: 0.7349975558196505, test_loss: 0.736020291003916\n",
      "batch 18, train_loss: 0.7352226849166971, test_loss: 0.7357856426646835\n",
      "epoch 0, train_loss: 0.7352226849166971, test_loss: 0.7357856426646835\n",
      "batch 0, train_loss: 0.7533774367868901, test_loss: 0.7308880130946637\n",
      "batch 1, train_loss: 0.73388439039886, test_loss: 0.7431178880333901\n",
      "batch 2, train_loss: 0.7220969950556755, test_loss: 0.7476449297269185\n",
      "batch 3, train_loss: 0.7289820848703384, test_loss: 0.7512359784133732\n",
      "batch 4, train_loss: 0.7314421714603901, test_loss: 0.7479213254511357\n",
      "batch 5, train_loss: 0.7315912173638741, test_loss: 0.7464666516135137\n",
      "batch 6, train_loss: 0.7298649476127965, test_loss: 0.7422766287880285\n",
      "batch 7, train_loss: 0.7320798419993371, test_loss: 0.7422917209342123\n",
      "batch 8, train_loss: 0.734462376082937, test_loss: 0.743274892674552\n",
      "batch 9, train_loss: 0.7355133329823613, test_loss: 0.7410730448573828\n",
      "batch 10, train_loss: 0.7353282969526269, test_loss: 0.7380075114369392\n",
      "batch 11, train_loss: 0.7367177844730516, test_loss: 0.737214296358327\n",
      "batch 12, train_loss: 0.7363563136722033, test_loss: 0.7355802257771675\n",
      "batch 13, train_loss: 0.7359932207007494, test_loss: 0.7346158400326968\n",
      "batch 14, train_loss: 0.7376024338056644, test_loss: 0.7364329632739226\n",
      "batch 15, train_loss: 0.7370710874749348, test_loss: 0.7362128029689192\n",
      "batch 16, train_loss: 0.7361494989842177, test_loss: 0.7374983880923075\n",
      "batch 17, train_loss: 0.7359986676168111, test_loss: 0.7378318419290913\n",
      "batch 18, train_loss: 0.7361522963290151, test_loss: 0.7375308599299506\n",
      "epoch 1, train_loss: 0.7361522963290151, test_loss: 0.7375308599299506\n",
      "batch 0, train_loss: 0.7531312887370586, test_loss: 0.7312515868544579\n",
      "batch 1, train_loss: 0.7333651628941298, test_loss: 0.7434973446428775\n",
      "batch 2, train_loss: 0.7213768718764186, test_loss: 0.7481620008846124\n",
      "batch 3, train_loss: 0.7283852603491395, test_loss: 0.7518996413126587\n",
      "batch 4, train_loss: 0.7308654881641269, test_loss: 0.7485845232844353\n",
      "batch 5, train_loss: 0.7309974317985276, test_loss: 0.7470990849584341\n",
      "batch 6, train_loss: 0.7292509497308305, test_loss: 0.742887730538845\n",
      "batch 7, train_loss: 0.7314633213346824, test_loss: 0.742905205141753\n",
      "batch 8, train_loss: 0.733871679695944, test_loss: 0.743890488402711\n",
      "batch 9, train_loss: 0.7349630316637457, test_loss: 0.741675046223402\n",
      "batch 10, train_loss: 0.7347941165884787, test_loss: 0.738586053869941\n",
      "batch 11, train_loss: 0.7361940455529838, test_loss: 0.7377711917782823\n",
      "batch 12, train_loss: 0.7358301570868263, test_loss: 0.7361216537723174\n",
      "batch 13, train_loss: 0.735463956496013, test_loss: 0.7351499927384513\n",
      "batch 14, train_loss: 0.7370956416820487, test_loss: 0.7369728754182656\n"
     ]
    },
    {
     "ename": "KeyboardInterrupt",
     "evalue": "",
     "output_type": "error",
     "traceback": [
      "\u001b[0;31m---------------------------------------------------------------------------\u001b[0m",
      "\u001b[0;31mKeyboardInterrupt\u001b[0m                         Traceback (most recent call last)",
      "Cell \u001b[0;32mIn[94], line 47\u001b[0m\n\u001b[1;32m     44\u001b[0m user_embeddings\u001b[38;5;241m.\u001b[39mdata \u001b[38;5;241m-\u001b[39m\u001b[38;5;241m=\u001b[39m learning_rate \u001b[38;5;241m*\u001b[39m user_embeddings\u001b[38;5;241m.\u001b[39mgrad\n\u001b[1;32m     45\u001b[0m article_embeddings\u001b[38;5;241m.\u001b[39mdata \u001b[38;5;241m-\u001b[39m\u001b[38;5;241m=\u001b[39m learning_rate \u001b[38;5;241m*\u001b[39m article_embeddings\u001b[38;5;241m.\u001b[39mgrad\n\u001b[0;32m---> 47\u001b[0m \u001b[43mW\u001b[49m\u001b[38;5;241;43m.\u001b[39;49m\u001b[43mgrad\u001b[49m\u001b[38;5;241;43m.\u001b[39;49m\u001b[43mzero_\u001b[49m\u001b[43m(\u001b[49m\u001b[43m)\u001b[49m\n\u001b[1;32m     48\u001b[0m user_embeddings\u001b[38;5;241m.\u001b[39mgrad\u001b[38;5;241m.\u001b[39mzero_()\n\u001b[1;32m     49\u001b[0m article_embeddings\u001b[38;5;241m.\u001b[39mgrad\u001b[38;5;241m.\u001b[39mzero_()\n",
      "\u001b[0;31mKeyboardInterrupt\u001b[0m: "
     ]
    }
   ],
   "source": [
    "\n",
    "batch_size = 500\n",
    "num_batches = len(xs) / batch_size - 1\n",
    "\n",
    "train_losses, test_losses = [], []\n",
    "\n",
    "def forward(x, y):\n",
    "    user_index = utoix[x[0]]\n",
    "    article_index = atoix[x[1]]\n",
    "    user_embedding = user_embeddings[user_index]\n",
    "    article_embedding = article_embeddings[article_index]\n",
    "    X = torch.concat([user_embedding, article_embedding])\n",
    "\n",
    "    Y = X @ W \n",
    "    p = 1 / (1 + torch.exp(-Y)) # sigmoid \n",
    "\n",
    "    loss = -1 * (torch.log(1 - p)*(1 - y) + y*torch.log(p))\n",
    "    return loss\n",
    "    \n",
    "\n",
    "for epoch in range(10):\n",
    "    \n",
    "    training_rows = len(xs)\n",
    "    train_loss, test_loss = [], []13\n",
    "    for batch in range(int(num_batches)):\n",
    "        \n",
    "        test_batch = batch % int(num_batches_test)\n",
    "        for i, x in enumerate(xs_test[test_batch * batch_size :  (test_batch+1) * batch_size]):\n",
    "\n",
    "            loss = forward(x, ys_test[i])\n",
    "            if not loss.isnan() and loss < 100:\n",
    "                test_loss.append(loss.item())\n",
    "                \n",
    "        for i, x in enumerate(xs[batch * batch_size :  (batch+1) * batch_size]):\n",
    "\n",
    "            loss = forward(x, ys[i])\n",
    "\n",
    "            if loss < 100:\n",
    "                train_loss.append(loss.item())\n",
    "\n",
    "                loss.backward()\n",
    "\n",
    "                learning_rate = 0.01\n",
    "                W.data -= learning_rate * W.grad\n",
    "                user_embeddings.data -= learning_rate * user_embeddings.grad\n",
    "                article_embeddings.data -= learning_rate * article_embeddings.grad\n",
    "\n",
    "                W.grad.zero_()\n",
    "                user_embeddings.grad.zero_()\n",
    "                article_embeddings.grad.zero_()\n",
    "\n",
    "        \n",
    "                \n",
    "        print(f\"batch {batch}, train_loss: {sum(train_loss) / len(train_loss)}, test_loss: {sum(test_loss) / len(test_loss)}\")\n",
    "                \n",
    "    train_loss = sum(train_loss) / len(train_loss)\n",
    "    test_loss = sum(test_loss) / len(test_loss)\n",
    "        \n",
    "    train_losses.append(train_loss)\n",
    "    test_losses.append(test_loss)\n",
    "    print(f\"epoch {epoch}, train_loss: {train_loss}, test_loss: {test_loss}\")"
   ]
  },
  {
   "cell_type": "code",
   "execution_count": 93,
   "id": "2a4085bb-6ab3-4635-8510-0cf4b6943f58",
   "metadata": {
    "execution": {
     "iopub.execute_input": "2025-02-06T06:35:55.562212Z",
     "iopub.status.busy": "2025-02-06T06:35:55.561829Z",
     "iopub.status.idle": "2025-02-06T06:35:55.774412Z",
     "shell.execute_reply": "2025-02-06T06:35:55.773592Z",
     "shell.execute_reply.started": "2025-02-06T06:35:55.562156Z"
    }
   },
   "outputs": [
    {
     "data": {
      "image/png": "[encoded data removed]",
      "text/plain": [
       "<Figure size 800x500 with 1 Axes>"
      ]
     },
     "metadata": {},
     "output_type": "display_data"
    }
   ],
   "source": [
    "import matplotlib.pyplot as plt\n",
    "\n",
    "# Assume train_losses and test_losses have been populated per epoch\n",
    "epochs = range(1, len(train_losses) + 1)\n",
    "\n",
    "plt.figure(figsize=(8, 5))\n",
    "plt.plot(epochs, train_losses, marker='o', label='Training Loss')\n",
    "plt.plot(epochs, test_losses, marker='s', label='Test Loss')\n",
    "plt.xlabel('Epoch')\n",
    "plt.ylabel('Loss')\n",
    "plt.title('Training and Test Loss per Epoch')\n",
    "plt.legend()\n",
    "plt.grid(True)\n",
    "plt.show()\n"
   ]
  },
  {
   "cell_type": "code",
   "execution_count": 95,
   "id": "2b104f87-8a24-4daa-81e4-48ab6acf19b1",
   "metadata": {
    "execution": {
     "iopub.execute_input": "2025-02-06T06:39:08.466696Z",
     "iopub.status.busy": "2025-02-06T06:39:08.466173Z",
     "iopub.status.idle": "2025-02-06T06:39:08.481025Z",
     "shell.execute_reply": "2025-02-06T06:39:08.480393Z",
     "shell.execute_reply.started": "2025-02-06T06:39:08.466671Z"
    }
   },
   "outputs": [
    {
     "data": {
      "text/plain": [
       "tensor([[ 0.0850],\n",
       "        [-0.0780],\n",
       "        [-0.0036],\n",
       "        [ 0.0180],\n",
       "        [-0.0170],\n",
       "        [-0.0469],\n",
       "        [ 0.1032],\n",
       "        [ 0.0181],\n",
       "        [-0.0220],\n",
       "        [-0.1256],\n",
       "        [-0.1142],\n",
       "        [-0.0169],\n",
       "        [ 0.0376],\n",
       "        [ 0.0834],\n",
       "        [ 0.0225],\n",
       "        [ 0.0947],\n",
       "        [ 0.0347],\n",
       "        [ 0.0807],\n",
       "        [-0.0793],\n",
       "        [ 0.0713],\n",
       "        [-0.0753],\n",
       "        [ 0.0671],\n",
       "        [ 0.0004],\n",
       "        [ 0.0912],\n",
       "        [ 0.0329],\n",
       "        [-0.0408],\n",
       "        [ 0.0747],\n",
       "        [-0.0271],\n",
       "        [-0.0454],\n",
       "        [ 0.1208],\n",
       "        [ 0.1674],\n",
       "        [-0.0462],\n",
       "        [ 0.0144],\n",
       "        [-0.0326],\n",
       "        [-0.0413],\n",
       "        [ 0.0248],\n",
       "        [ 0.0786],\n",
       "        [-0.0005],\n",
       "        [-0.0245],\n",
       "        [ 0.1237],\n",
       "        [ 0.0214],\n",
       "        [-0.0404],\n",
       "        [-0.1036],\n",
       "        [-0.0712],\n",
       "        [ 0.0112],\n",
       "        [-0.0376],\n",
       "        [ 0.0400],\n",
       "        [ 0.0054],\n",
       "        [-0.0180],\n",
       "        [-0.0644],\n",
       "        [ 0.0113],\n",
       "        [ 0.0213],\n",
       "        [ 0.1518],\n",
       "        [ 0.0722],\n",
       "        [ 0.0859],\n",
       "        [ 0.0903],\n",
       "        [ 0.0477],\n",
       "        [-0.0714],\n",
       "        [-0.0334],\n",
       "        [-0.0253],\n",
       "        [ 0.0496],\n",
       "        [-0.0049],\n",
       "        [ 0.0968],\n",
       "        [ 0.0804]], requires_grad=True)"
      ]
     },
     "execution_count": 95,
     "metadata": {},
     "output_type": "execute_result"
    }
   ],
   "source": [
    "W"
   ]
  },
  {
   "cell_type": "code",
   "execution_count": 215,
   "id": "69397368-6c48-4cfa-9c27-849e303d2c95",
   "metadata": {
    "execution": {
     "iopub.execute_input": "2025-02-06T01:37:52.657626Z",
     "iopub.status.busy": "2025-02-06T01:37:52.657242Z",
     "iopub.status.idle": "2025-02-06T01:37:52.665774Z",
     "shell.execute_reply": "2025-02-06T01:37:52.664758Z",
     "shell.execute_reply.started": "2025-02-06T01:37:52.657597Z"
    }
   },
   "outputs": [
    {
     "data": {
      "text/plain": [
       "tensor([[ 0.3526,  0.5454, -1.3400,  ...,  1.1192,  0.5828, -0.4764],\n",
       "        [-0.1501,  0.9552,  0.1456,  ..., -1.1566,  0.6688, -3.1323],\n",
       "        [ 0.7509,  1.0891, -0.1447,  ..., -0.4954, -0.3704, -1.5541],\n",
       "        ...,\n",
       "        [-0.4991, -1.5514,  1.5965,  ...,  0.1483, -1.4015, -1.7373],\n",
       "        [-1.5834,  1.3376,  0.2626,  ...,  0.1934,  0.6721,  0.5652],\n",
       "        [ 2.0587,  0.6371,  1.2530,  ...,  1.2719, -0.5641,  1.1394]])"
      ]
     },
     "execution_count": 215,
     "metadata": {},
     "output_type": "execute_result"
    }
   ],
   "source": [
    "user_embeddings"
   ]
  },
  {
   "cell_type": "code",
   "execution_count": 185,
   "id": "0e3e52d2-424d-40dc-aa3f-116b95239b60",
   "metadata": {
    "execution": {
     "iopub.execute_input": "2025-02-06T01:22:08.128718Z",
     "iopub.status.busy": "2025-02-06T01:22:08.128326Z",
     "iopub.status.idle": "2025-02-06T01:22:08.139811Z",
     "shell.execute_reply": "2025-02-06T01:22:08.138845Z",
     "shell.execute_reply.started": "2025-02-06T01:22:08.128683Z"
    }
   },
   "outputs": [
    {
     "data": {
      "text/plain": [
       "torch.Size([64])"
      ]
     },
     "execution_count": 185,
     "metadata": {},
     "output_type": "execute_result"
    }
   ],
   "source": [
    "X = torch.concat([user_embedding, article_embedding])\n",
    "X.shape"
   ]
  },
  {
   "cell_type": "code",
   "execution_count": 193,
   "id": "1e5a2a9b-c547-411a-9329-f713d98b5546",
   "metadata": {
    "execution": {
     "iopub.execute_input": "2025-02-06T01:26:17.170098Z",
     "iopub.status.busy": "2025-02-06T01:26:17.169510Z",
     "iopub.status.idle": "2025-02-06T01:26:17.175746Z",
     "shell.execute_reply": "2025-02-06T01:26:17.174760Z",
     "shell.execute_reply.started": "2025-02-06T01:26:17.170073Z"
    }
   },
   "outputs": [
    {
     "data": {
      "text/plain": [
       "torch.Size([64, 1])"
      ]
     },
     "execution_count": 193,
     "metadata": {},
     "output_type": "execute_result"
    }
   ],
   "source": [
    "W = torch.randn([64, 1])\n",
    "W.shape"
   ]
  },
  {
   "cell_type": "code",
   "execution_count": 194,
   "id": "50da5bd6-aa0b-491e-aeed-b3d1254b6a07",
   "metadata": {
    "execution": {
     "iopub.execute_input": "2025-02-06T01:26:18.759978Z",
     "iopub.status.busy": "2025-02-06T01:26:18.759392Z",
     "iopub.status.idle": "2025-02-06T01:26:18.768129Z",
     "shell.execute_reply": "2025-02-06T01:26:18.766058Z",
     "shell.execute_reply.started": "2025-02-06T01:26:18.759953Z"
    }
   },
   "outputs": [
    {
     "data": {
      "text/plain": [
       "torch.Size([1])"
      ]
     },
     "execution_count": 194,
     "metadata": {},
     "output_type": "execute_result"
    }
   ],
   "source": [
    "\n",
    "Y.shape"
   ]
  },
  {
   "cell_type": "code",
   "execution_count": 205,
   "id": "cdf9185e-d47d-4244-b4c4-870a818948cb",
   "metadata": {
    "execution": {
     "iopub.execute_input": "2025-02-06T01:30:42.380433Z",
     "iopub.status.busy": "2025-02-06T01:30:42.379525Z",
     "iopub.status.idle": "2025-02-06T01:30:42.388768Z",
     "shell.execute_reply": "2025-02-06T01:30:42.387549Z",
     "shell.execute_reply.started": "2025-02-06T01:30:42.380394Z"
    }
   },
   "outputs": [
    {
     "data": {
      "text/plain": [
       "tensor([1.0177])"
      ]
     },
     "execution_count": 205,
     "metadata": {},
     "output_type": "execute_result"
    }
   ],
   "source": [
    "-torch.log(probability)"
   ]
  },
  {
   "cell_type": "code",
   "execution_count": 241,
   "id": "89c95736-5342-4089-b2a5-ef97949b8fdc",
   "metadata": {
    "execution": {
     "iopub.execute_input": "2025-02-06T02:12:03.109623Z",
     "iopub.status.busy": "2025-02-06T02:12:03.108294Z",
     "iopub.status.idle": "2025-02-06T02:12:03.115873Z",
     "shell.execute_reply": "2025-02-06T02:12:03.114936Z",
     "shell.execute_reply.started": "2025-02-06T02:12:03.109582Z"
    }
   },
   "outputs": [
    {
     "data": {
      "text/plain": [
       "4"
      ]
     },
     "execution_count": 241,
     "metadata": {},
     "output_type": "execute_result"
    }
   ],
   "source": [
    "2+2"
   ]
  },
  {
   "cell_type": "code",
   "execution_count": null,
   "id": "4bec7aef-da41-4d74-99da-af4fb365998b",
   "metadata": {},
   "outputs": [],
   "source": []
  }
 ],
 "metadata": {
  "kernelspec": {
   "display_name": "Python 3 (ipykernel)",
   "language": "python",
   "name": "python3"
  },
  "language_info": {
   "codemirror_mode": {
    "name": "ipython",
    "version": 3
   },
   "file_extension": ".py",
   "mimetype": "text/x-python",
   "name": "python",
   "nbconvert_exporter": "python",
   "pygments_lexer": "ipython3",
   "version": "3.11.7"
  }
 },
 "nbformat": 4,
 "nbformat_minor": 5
}
