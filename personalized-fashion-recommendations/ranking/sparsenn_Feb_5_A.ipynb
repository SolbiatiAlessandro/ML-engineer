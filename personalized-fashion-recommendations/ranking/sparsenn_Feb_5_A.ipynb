{
 "cells": [
  {
   "cell_type": "markdown",
   "id": "4938fbc9-ddfb-4e9e-b2cb-de22d1be1bc1",
   "metadata": {
    "execution": {
     "iopub.execute_input": "2025-02-05T23:51:18.445698Z",
     "iopub.status.busy": "2025-02-05T23:51:18.445405Z",
     "iopub.status.idle": "2025-02-05T23:51:18.450135Z",
     "shell.execute_reply": "2025-02-05T23:51:18.449021Z",
     "shell.execute_reply.started": "2025-02-05T23:51:18.445675Z"
    }
   },
   "source": [
    "# Training Data without Cold Start "
   ]
  },
  {
   "cell_type": "code",
   "execution_count": 74,
   "id": "9301f98c-6c95-4481-9db3-a4be50e7bbb7",
   "metadata": {
    "execution": {
     "iopub.execute_input": "2025-02-05T23:39:39.570253Z",
     "iopub.status.busy": "2025-02-05T23:39:39.569496Z",
     "iopub.status.idle": "2025-02-05T23:39:39.582850Z",
     "shell.execute_reply": "2025-02-05T23:39:39.582026Z",
     "shell.execute_reply.started": "2025-02-05T23:39:39.570219Z"
    }
   },
   "outputs": [
    {
     "data": {
      "text/plain": [
       "<module 'data_processing' from '/notebooks/ML-system-design/personalized-fashion-recommendations/data_processing.py'>"
      ]
     },
     "execution_count": 74,
     "metadata": {},
     "output_type": "execute_result"
    }
   ],
   "source": [
    "import sys\n",
    "import os\n",
    "\n",
    "sys.path.append(os.path.abspath(\"../\"))\n",
    "import importlib\n",
    "import data_processing  # Now you can import the module\n",
    "importlib.reload(data_processing)\n"
   ]
  },
  {
   "cell_type": "code",
   "execution_count": null,
   "id": "065581fe-1de3-47d5-914c-a2d56a24df6c",
   "metadata": {},
   "outputs": [],
   "source": [
    "customers, articles, transactions = data_processing.read_data(path=\"../data/\")"
   ]
  },
  {
   "cell_type": "code",
   "execution_count": 125,
   "id": "4d9d4082-165c-4443-a8cb-19a0463bb9e2",
   "metadata": {
    "execution": {
     "iopub.execute_input": "2025-02-06T00:59:42.535106Z",
     "iopub.status.busy": "2025-02-06T00:59:42.534059Z",
     "iopub.status.idle": "2025-02-06T01:00:00.561587Z",
     "shell.execute_reply": "2025-02-06T01:00:00.560469Z",
     "shell.execute_reply.started": "2025-02-06T00:59:42.535052Z"
    }
   },
   "outputs": [],
   "source": [
    "train, test = data_processing.train_test_no_coldstart(transactions, factor=1000)"
   ]
  },
  {
   "cell_type": "code",
   "execution_count": 126,
   "id": "8d3cd11e-a4d1-438d-a486-a555e6b03708",
   "metadata": {
    "execution": {
     "iopub.execute_input": "2025-02-06T01:00:03.286370Z",
     "iopub.status.busy": "2025-02-06T01:00:03.285580Z",
     "iopub.status.idle": "2025-02-06T01:00:03.292102Z",
     "shell.execute_reply": "2025-02-06T01:00:03.291032Z",
     "shell.execute_reply.started": "2025-02-06T01:00:03.286329Z"
    }
   },
   "outputs": [
    {
     "data": {
      "text/plain": [
       "((5000, 5), (1000, 5))"
      ]
     },
     "execution_count": 126,
     "metadata": {},
     "output_type": "execute_result"
    }
   ],
   "source": [
    "train.shape, test.shape"
   ]
  },
  {
   "cell_type": "code",
   "execution_count": 128,
   "id": "19e0adc5-f027-44e7-b3cd-46811b41d8c0",
   "metadata": {
    "execution": {
     "iopub.execute_input": "2025-02-06T01:00:08.688666Z",
     "iopub.status.busy": "2025-02-06T01:00:08.688002Z",
     "iopub.status.idle": "2025-02-06T01:00:11.024887Z",
     "shell.execute_reply": "2025-02-06T01:00:11.023921Z",
     "shell.execute_reply.started": "2025-02-06T01:00:08.688640Z"
    }
   },
   "outputs": [],
   "source": [
    "train_xs_ys, test_xs_ys = data_processing.get_labels_no_coldstart(train), data_processing.get_labels_no_coldstart(test)"
   ]
  },
  {
   "cell_type": "code",
   "execution_count": 129,
   "id": "7c63fc39-0522-4590-89e7-eb10f0732108",
   "metadata": {
    "execution": {
     "iopub.execute_input": "2025-02-06T01:00:11.748588Z",
     "iopub.status.busy": "2025-02-06T01:00:11.748164Z",
     "iopub.status.idle": "2025-02-06T01:00:11.758829Z",
     "shell.execute_reply": "2025-02-06T01:00:11.757799Z",
     "shell.execute_reply.started": "2025-02-06T01:00:11.748554Z"
    }
   },
   "outputs": [
    {
     "name": "stdout",
     "output_type": "stream",
     "text": [
      "1350 330 True\n",
      "3073 646 True\n"
     ]
    }
   ],
   "source": [
    "# Ensure that test set only contains users and articles seen in training:\n",
    "train_users = set(train_xs_ys[\"customer_id\"].unique())\n",
    "test_users  = set(test_xs_ys[\"customer_id\"].unique())\n",
    "print (len(train_users), len(test_users), test_users.issubset(train_users))\n",
    "\n",
    "train_articles = set(train_xs_ys[\"article_id\"].unique())\n",
    "test_articles  = set(test_xs_ys[\"article_id\"].unique())\n",
    "print (len(train_articles), len(test_articles), test_articles.issubset(train_articles))\n"
   ]
  },
  {
   "cell_type": "code",
   "execution_count": 78,
   "id": "fb69e30f-11e2-4c7f-b18f-372ea53c3781",
   "metadata": {
    "execution": {
     "iopub.execute_input": "2025-02-05T23:43:27.668728Z",
     "iopub.status.busy": "2025-02-05T23:43:27.668426Z",
     "iopub.status.idle": "2025-02-05T23:43:27.680319Z",
     "shell.execute_reply": "2025-02-05T23:43:27.679179Z",
     "shell.execute_reply.started": "2025-02-05T23:43:27.668706Z"
    }
   },
   "outputs": [
    {
     "data": {
      "text/html": [
       "<div>\n",
       "<style scoped>\n",
       "    .dataframe tbody tr th:only-of-type {\n",
       "        vertical-align: middle;\n",
       "    }\n",
       "\n",
       "    .dataframe tbody tr th {\n",
       "        vertical-align: top;\n",
       "    }\n",
       "\n",
       "    .dataframe thead th {\n",
       "        text-align: right;\n",
       "    }\n",
       "</style>\n",
       "<table border=\"1\" class=\"dataframe\">\n",
       "  <thead>\n",
       "    <tr style=\"text-align: right;\">\n",
       "      <th></th>\n",
       "      <th>customer_id</th>\n",
       "      <th>article_id</th>\n",
       "      <th>label</th>\n",
       "    </tr>\n",
       "  </thead>\n",
       "  <tbody>\n",
       "    <tr>\n",
       "      <th>0</th>\n",
       "      <td>fb5b040903fcf65532359894728a89c705404b4d720b0b...</td>\n",
       "      <td>696842001</td>\n",
       "      <td>1</td>\n",
       "    </tr>\n",
       "    <tr>\n",
       "      <th>1</th>\n",
       "      <td>06663dca9683cde0af30cb3237bf14820ed718d995f08d...</td>\n",
       "      <td>740943002</td>\n",
       "      <td>1</td>\n",
       "    </tr>\n",
       "    <tr>\n",
       "      <th>2</th>\n",
       "      <td>00831db1b63bf55122b12370414cd7c7c9f71ffd726152...</td>\n",
       "      <td>699075005</td>\n",
       "      <td>1</td>\n",
       "    </tr>\n",
       "    <tr>\n",
       "      <th>3</th>\n",
       "      <td>090bfae997e6a3157b9f6692275b670d57264ef91f14cb...</td>\n",
       "      <td>554477005</td>\n",
       "      <td>1</td>\n",
       "    </tr>\n",
       "    <tr>\n",
       "      <th>4</th>\n",
       "      <td>fbf378d7173f766f9eec57767a29db132fc8150d5720d2...</td>\n",
       "      <td>664319016</td>\n",
       "      <td>0</td>\n",
       "    </tr>\n",
       "    <tr>\n",
       "      <th>...</th>\n",
       "      <td>...</td>\n",
       "      <td>...</td>\n",
       "      <td>...</td>\n",
       "    </tr>\n",
       "    <tr>\n",
       "      <th>9995</th>\n",
       "      <td>09837315f5e960a0c3b55af52d08bbab48c7107027fdb2...</td>\n",
       "      <td>684212002</td>\n",
       "      <td>0</td>\n",
       "    </tr>\n",
       "    <tr>\n",
       "      <th>9996</th>\n",
       "      <td>0d0b3b98e8a8bab54a74b59a2aa4c2d4c6951d113c3704...</td>\n",
       "      <td>764998001</td>\n",
       "      <td>1</td>\n",
       "    </tr>\n",
       "    <tr>\n",
       "      <th>9997</th>\n",
       "      <td>0988ce127ab1e65a9f4f028385b349b86e782381e485ec...</td>\n",
       "      <td>734215003</td>\n",
       "      <td>1</td>\n",
       "    </tr>\n",
       "    <tr>\n",
       "      <th>9998</th>\n",
       "      <td>f7a68626df67e5ee8b4797cc8818e10b84a09918bbdc77...</td>\n",
       "      <td>386859007</td>\n",
       "      <td>1</td>\n",
       "    </tr>\n",
       "    <tr>\n",
       "      <th>9999</th>\n",
       "      <td>fd28a583d05b3944b3e36e44fe9e9700276246b24f1e7a...</td>\n",
       "      <td>685448004</td>\n",
       "      <td>1</td>\n",
       "    </tr>\n",
       "  </tbody>\n",
       "</table>\n",
       "<p>10000 rows × 3 columns</p>\n",
       "</div>"
      ],
      "text/plain": [
       "                                            customer_id  article_id  label\n",
       "0     fb5b040903fcf65532359894728a89c705404b4d720b0b...   696842001      1\n",
       "1     06663dca9683cde0af30cb3237bf14820ed718d995f08d...   740943002      1\n",
       "2     00831db1b63bf55122b12370414cd7c7c9f71ffd726152...   699075005      1\n",
       "3     090bfae997e6a3157b9f6692275b670d57264ef91f14cb...   554477005      1\n",
       "4     fbf378d7173f766f9eec57767a29db132fc8150d5720d2...   664319016      0\n",
       "...                                                 ...         ...    ...\n",
       "9995  09837315f5e960a0c3b55af52d08bbab48c7107027fdb2...   684212002      0\n",
       "9996  0d0b3b98e8a8bab54a74b59a2aa4c2d4c6951d113c3704...   764998001      1\n",
       "9997  0988ce127ab1e65a9f4f028385b349b86e782381e485ec...   734215003      1\n",
       "9998  f7a68626df67e5ee8b4797cc8818e10b84a09918bbdc77...   386859007      1\n",
       "9999  fd28a583d05b3944b3e36e44fe9e9700276246b24f1e7a...   685448004      1\n",
       "\n",
       "[10000 rows x 3 columns]"
      ]
     },
     "execution_count": 78,
     "metadata": {},
     "output_type": "execute_result"
    }
   ],
   "source": [
    "train_xs_ys"
   ]
  },
  {
   "cell_type": "markdown",
   "id": "5dd376ea-5843-494b-b220-8ad9dabdb9e1",
   "metadata": {
    "execution": {
     "iopub.execute_input": "2025-02-05T23:51:34.119491Z",
     "iopub.status.busy": "2025-02-05T23:51:34.119153Z",
     "iopub.status.idle": "2025-02-05T23:51:34.123275Z",
     "shell.execute_reply": "2025-02-05T23:51:34.122324Z",
     "shell.execute_reply.started": "2025-02-05T23:51:34.119445Z"
    }
   },
   "source": [
    "# ID Hashing"
   ]
  },
  {
   "cell_type": "code",
   "execution_count": 95,
   "id": "334ced1a-ae10-4d98-8b03-b4a8d574618c",
   "metadata": {
    "execution": {
     "iopub.execute_input": "2025-02-05T23:49:47.458832Z",
     "iopub.status.busy": "2025-02-05T23:49:47.458227Z",
     "iopub.status.idle": "2025-02-05T23:49:47.642293Z",
     "shell.execute_reply": "2025-02-05T23:49:47.641379Z",
     "shell.execute_reply.started": "2025-02-05T23:49:47.458799Z"
    }
   },
   "outputs": [
    {
     "data": {
      "text/plain": [
       "(array([531., 157.,  84.,  46.,  14.,   5.,   5.,   2.,   1.,   2.]),\n",
       " array([ 2. , 10.6, 19.2, 27.8, 36.4, 45. , 53.6, 62.2, 70.8, 79.4, 88. ]),\n",
       " <BarContainer object of 10 artists>)"
      ]
     },
     "execution_count": 95,
     "metadata": {},
     "output_type": "execute_result"
    },
    {
     "data": {
      "image/png": "[encoded data removed]",
      "text/plain": [
       "<Figure size 640x480 with 1 Axes>"
      ]
     },
     "metadata": {},
     "output_type": "display_data"
    }
   ],
   "source": [
    "import matplotlib.pyplot as plt \n",
    "\n",
    "plt.hist(train_xs_ys.customer_id.apply(lambda x: hash(x) % 1350).value_counts())"
   ]
  },
  {
   "cell_type": "code",
   "execution_count": 99,
   "id": "23392e75-a13c-4016-840e-78d3525c37ab",
   "metadata": {
    "execution": {
     "iopub.execute_input": "2025-02-05T23:50:54.164052Z",
     "iopub.status.busy": "2025-02-05T23:50:54.163185Z",
     "iopub.status.idle": "2025-02-05T23:50:54.177466Z",
     "shell.execute_reply": "2025-02-05T23:50:54.176377Z",
     "shell.execute_reply.started": "2025-02-05T23:50:54.164016Z"
    }
   },
   "outputs": [
    {
     "data": {
      "text/plain": [
       "customer_id\n",
       "725     88\n",
       "275     88\n",
       "1230    76\n",
       "1123    70\n",
       "1046    68\n",
       "1184    62\n",
       "201     58\n",
       "940     58\n",
       "107     54\n",
       "1209    54\n",
       "941     50\n",
       "1070    50\n",
       "696     50\n",
       "536     50\n",
       "255     48\n",
       "419     44\n",
       "430     44\n",
       "726     42\n",
       "14      42\n",
       "178     42\n",
       "Name: count, dtype: int64"
      ]
     },
     "execution_count": 99,
     "metadata": {},
     "output_type": "execute_result"
    }
   ],
   "source": [
    "train_xs_ys.customer_id.apply(lambda x: hash(x) % 1350).value_counts()[:20] "
   ]
  },
  {
   "cell_type": "code",
   "execution_count": 162,
   "id": "89d341d3-2a36-42cf-852f-4feffd7cf83c",
   "metadata": {
    "execution": {
     "iopub.execute_input": "2025-02-06T01:16:16.240601Z",
     "iopub.status.busy": "2025-02-06T01:16:16.239731Z",
     "iopub.status.idle": "2025-02-06T01:16:16.251091Z",
     "shell.execute_reply": "2025-02-06T01:16:16.250347Z",
     "shell.execute_reply.started": "2025-02-06T01:16:16.240560Z"
    }
   },
   "outputs": [],
   "source": [
    "utoix, ixtou = {}, {}\n",
    "for i, u in enumerate(train_xs_ys[\"customer_id\"].unique()):\n",
    "    utoix[u] = i\n",
    "    ixtou[i] = u\n",
    "    \n",
    "atoix, ixtoa = {}, {}\n",
    "for i, a in enumerate(train_xs_ys['article_id'].unique()):\n",
    "    atoix[a] = i\n",
    "    ixtoa[i] = a"
   ]
  },
  {
   "cell_type": "markdown",
   "id": "82bd0995-4102-428f-9000-c84464018053",
   "metadata": {
    "execution": {
     "iopub.execute_input": "2025-02-06T01:18:55.478555Z",
     "iopub.status.busy": "2025-02-06T01:18:55.478233Z",
     "iopub.status.idle": "2025-02-06T01:18:55.483008Z",
     "shell.execute_reply": "2025-02-06T01:18:55.481874Z",
     "shell.execute_reply.started": "2025-02-06T01:18:55.478518Z"
    }
   },
   "source": [
    "# Training "
   ]
  },
  {
   "cell_type": "code",
   "execution_count": 110,
   "id": "9d011d75-5351-4ab2-8675-316a36dbe0da",
   "metadata": {
    "execution": {
     "iopub.execute_input": "2025-02-06T00:56:26.513438Z",
     "iopub.status.busy": "2025-02-06T00:56:26.513141Z",
     "iopub.status.idle": "2025-02-06T00:56:26.523865Z",
     "shell.execute_reply": "2025-02-06T00:56:26.522979Z",
     "shell.execute_reply.started": "2025-02-06T00:56:26.513412Z"
    }
   },
   "outputs": [
    {
     "data": {
      "text/plain": [
       "(1350, 3073)"
      ]
     },
     "execution_count": 110,
     "metadata": {},
     "output_type": "execute_result"
    }
   ],
   "source": [
    "len(ixtou), len(atoix)"
   ]
  },
  {
   "cell_type": "code",
   "execution_count": 111,
   "id": "0041f87a-3cc6-473c-9d43-c082ddb4c3dd",
   "metadata": {
    "execution": {
     "iopub.execute_input": "2025-02-06T00:57:19.166786Z",
     "iopub.status.busy": "2025-02-06T00:57:19.166467Z",
     "iopub.status.idle": "2025-02-06T00:57:19.171273Z",
     "shell.execute_reply": "2025-02-06T00:57:19.170331Z",
     "shell.execute_reply.started": "2025-02-06T00:57:19.166761Z"
    }
   },
   "outputs": [],
   "source": [
    "embedding_size = 32"
   ]
  },
  {
   "cell_type": "code",
   "execution_count": 112,
   "id": "97ac9ac5-ccdc-4b8a-a9e9-d7e01489ceb7",
   "metadata": {
    "execution": {
     "iopub.execute_input": "2025-02-06T00:57:23.885012Z",
     "iopub.status.busy": "2025-02-06T00:57:23.883877Z",
     "iopub.status.idle": "2025-02-06T00:57:27.058835Z",
     "shell.execute_reply": "2025-02-06T00:57:27.058178Z",
     "shell.execute_reply.started": "2025-02-06T00:57:23.884974Z"
    }
   },
   "outputs": [],
   "source": [
    "import torch"
   ]
  },
  {
   "cell_type": "code",
   "execution_count": 163,
   "id": "3ad35ebb-e354-4c66-a594-fe6537966310",
   "metadata": {
    "execution": {
     "iopub.execute_input": "2025-02-06T01:16:20.330900Z",
     "iopub.status.busy": "2025-02-06T01:16:20.329665Z",
     "iopub.status.idle": "2025-02-06T01:16:20.338754Z",
     "shell.execute_reply": "2025-02-06T01:16:20.337104Z",
     "shell.execute_reply.started": "2025-02-06T01:16:20.330867Z"
    }
   },
   "outputs": [
    {
     "name": "stdout",
     "output_type": "stream",
     "text": [
      "torch.Size([1350, 32])\n",
      "torch.Size([3073, 32])\n"
     ]
    }
   ],
   "source": [
    "\n",
    "\n"
   ]
  },
  {
   "cell_type": "code",
   "execution_count": 171,
   "id": "e2cae96c-1012-4ce6-9647-54d1b14a8b92",
   "metadata": {
    "execution": {
     "iopub.execute_input": "2025-02-06T01:18:00.742229Z",
     "iopub.status.busy": "2025-02-06T01:18:00.741906Z",
     "iopub.status.idle": "2025-02-06T01:18:00.749670Z",
     "shell.execute_reply": "2025-02-06T01:18:00.748559Z",
     "shell.execute_reply.started": "2025-02-06T01:18:00.742207Z"
    }
   },
   "outputs": [],
   "source": [
    "train_xs_ys = train_xs_ys.sample(frac=1, random_state=42)"
   ]
  },
  {
   "cell_type": "code",
   "execution_count": 209,
   "id": "f29d30e9-766c-4d13-9496-ca8900bdec73",
   "metadata": {
    "execution": {
     "iopub.execute_input": "2025-02-06T01:33:12.758259Z",
     "iopub.status.busy": "2025-02-06T01:33:12.757378Z",
     "iopub.status.idle": "2025-02-06T01:33:12.767142Z",
     "shell.execute_reply": "2025-02-06T01:33:12.766275Z",
     "shell.execute_reply.started": "2025-02-06T01:33:12.758193Z"
    }
   },
   "outputs": [
    {
     "name": "stderr",
     "output_type": "stream",
     "text": [
      "/tmp/ipykernel_1069/3353662721.py:2: SettingWithCopyWarning: \n",
      "A value is trying to be set on a copy of a slice from a DataFrame.\n",
      "Try using .loc[row_indexer,col_indexer] = value instead\n",
      "\n",
      "See the caveats in the documentation: https://pandas.pydata.org/pandas-docs/stable/user_guide/indexing.html#returning-a-view-versus-a-copy\n",
      "  xs['article_id'] = xs['article_id'].astype(int)\n"
     ]
    }
   ],
   "source": [
    "xs, ys = train_xs_ys[['customer_id', 'article_id']], train_xs_ys[['label']]\n",
    "xs['article_id'] = xs['article_id'].astype(int)\n",
    "xs, ys = xs.to_numpy(), torch.tensor(ys.to_numpy())"
   ]
  },
  {
   "cell_type": "code",
   "execution_count": 237,
   "id": "9092cb93-d127-4ef9-8561-fdc1e79993be",
   "metadata": {
    "execution": {
     "iopub.execute_input": "2025-02-06T01:51:51.799818Z",
     "iopub.status.busy": "2025-02-06T01:51:51.799255Z",
     "iopub.status.idle": "2025-02-06T01:51:51.806731Z",
     "shell.execute_reply": "2025-02-06T01:51:51.805316Z",
     "shell.execute_reply.started": "2025-02-06T01:51:51.799779Z"
    }
   },
   "outputs": [],
   "source": [
    "W = torch.randn([64, 1], requires_grad=True)\n",
    "\n",
    "num_users = len(utoix)\n",
    "user_embeddings = torch.randn([num_users, embedding_size], requires_grad=True)\n",
    "\n",
    "\n",
    "num_articles = len(atoix)\n",
    "article_embeddings = torch.randn([num_articles, embedding_size], requires_grad=True)\n"
   ]
  },
  {
   "cell_type": "code",
   "execution_count": 240,
   "id": "6bbd2439-52eb-4ed0-99f1-cec1bce63493",
   "metadata": {
    "execution": {
     "iopub.execute_input": "2025-02-06T01:53:25.315196Z",
     "iopub.status.busy": "2025-02-06T01:53:25.314890Z",
     "iopub.status.idle": "2025-02-06T01:53:25.432925Z",
     "shell.execute_reply": "2025-02-06T01:53:25.432018Z",
     "shell.execute_reply.started": "2025-02-06T01:53:25.315172Z"
    }
   },
   "outputs": [
    {
     "name": "stdout",
     "output_type": "stream",
     "text": [
      "5.960464477539063e-08\n",
      "0.001936163054779172\n",
      "0.023325001820921898\n",
      "0.0014801841462031007\n",
      "0.021618874743580818\n",
      "0.0011344427475705743\n",
      "0.000880927313119173\n",
      "2.5391900635440834e-05\n",
      "0.030578946694731712\n",
      "0.06034068763256073\n",
      "6.19672155380249\n",
      "-0.0\n",
      "0.0005117771797813475\n",
      "6.2736382484436035\n",
      "0.47665536403656006\n",
      "0.5101532936096191\n",
      "3.6592679023742676\n",
      "2.256049156188965\n",
      "11.086353302001953\n",
      "4.0616936683654785\n",
      "0.0038637560792267323\n",
      "0.5620712637901306\n",
      "8.231508255004883\n",
      "7.092977739375783e-06\n",
      "nan\n",
      "nan\n",
      "nan\n",
      "nan\n",
      "nan\n",
      "nan\n",
      "nan\n",
      "nan\n",
      "nan\n",
      "nan\n",
      "nan\n",
      "nan\n",
      "nan\n",
      "nan\n",
      "nan\n",
      "nan\n",
      "nan\n",
      "nan\n",
      "nan\n",
      "nan\n",
      "nan\n",
      "nan\n",
      "nan\n",
      "nan\n",
      "nan\n",
      "nan\n",
      "nan\n",
      "nan\n",
      "nan\n",
      "nan\n",
      "nan\n",
      "nan\n",
      "nan\n",
      "nan\n",
      "nan\n",
      "nan\n",
      "nan\n",
      "nan\n",
      "nan\n",
      "nan\n",
      "nan\n",
      "nan\n",
      "nan\n",
      "nan\n",
      "nan\n",
      "nan\n",
      "nan\n",
      "nan\n",
      "nan\n",
      "nan\n",
      "nan\n",
      "nan\n",
      "nan\n",
      "nan\n",
      "nan\n",
      "nan\n",
      "nan\n",
      "nan\n",
      "nan\n",
      "nan\n",
      "nan\n",
      "nan\n",
      "nan\n",
      "nan\n",
      "nan\n",
      "nan\n",
      "nan\n",
      "nan\n",
      "nan\n",
      "nan\n",
      "nan\n",
      "nan\n",
      "nan\n",
      "nan\n",
      "nan\n",
      "nan\n"
     ]
    }
   ],
   "source": [
    "\n",
    "\n",
    "for i, x in enumerate(xs[:100]):\n",
    "    \n",
    "    user_index = utoix[x[0]]\n",
    "    article_index = atoix[x[1]]\n",
    "    user_embedding = user_embeddings[user_index]\n",
    "    article_embedding = article_embeddings[article_index]\n",
    "    X = torch.concat([user_embedding, article_embedding])\n",
    "    \n",
    "    Y = X @ W \n",
    "    p = 1 / (1 + torch.exp(-Y)) # sigmoid \n",
    "    y = ys[i]\n",
    "    \n",
    "    \n",
    "    loss = -1 * (torch.log(p)*(1 - y) + y*torch.log(1 - p))\n",
    "    \n",
    "\n",
    "    loss.backward()\n",
    "    \n",
    "    W.data += -0.01 * W.grad\n",
    "    user_embeddings.data += -0.01 * user_embeddings.grad\n",
    "    article_embeddings.data += -0.01 * article_embeddings.grad\n",
    "    \n",
    "    print(loss.item())"
   ]
  },
  {
   "cell_type": "code",
   "execution_count": 215,
   "id": "69397368-6c48-4cfa-9c27-849e303d2c95",
   "metadata": {
    "execution": {
     "iopub.execute_input": "2025-02-06T01:37:52.657626Z",
     "iopub.status.busy": "2025-02-06T01:37:52.657242Z",
     "iopub.status.idle": "2025-02-06T01:37:52.665774Z",
     "shell.execute_reply": "2025-02-06T01:37:52.664758Z",
     "shell.execute_reply.started": "2025-02-06T01:37:52.657597Z"
    }
   },
   "outputs": [
    {
     "data": {
      "text/plain": [
       "tensor([[ 0.3526,  0.5454, -1.3400,  ...,  1.1192,  0.5828, -0.4764],\n",
       "        [-0.1501,  0.9552,  0.1456,  ..., -1.1566,  0.6688, -3.1323],\n",
       "        [ 0.7509,  1.0891, -0.1447,  ..., -0.4954, -0.3704, -1.5541],\n",
       "        ...,\n",
       "        [-0.4991, -1.5514,  1.5965,  ...,  0.1483, -1.4015, -1.7373],\n",
       "        [-1.5834,  1.3376,  0.2626,  ...,  0.1934,  0.6721,  0.5652],\n",
       "        [ 2.0587,  0.6371,  1.2530,  ...,  1.2719, -0.5641,  1.1394]])"
      ]
     },
     "execution_count": 215,
     "metadata": {},
     "output_type": "execute_result"
    }
   ],
   "source": [
    "user_embeddings"
   ]
  },
  {
   "cell_type": "code",
   "execution_count": 185,
   "id": "0e3e52d2-424d-40dc-aa3f-116b95239b60",
   "metadata": {
    "execution": {
     "iopub.execute_input": "2025-02-06T01:22:08.128718Z",
     "iopub.status.busy": "2025-02-06T01:22:08.128326Z",
     "iopub.status.idle": "2025-02-06T01:22:08.139811Z",
     "shell.execute_reply": "2025-02-06T01:22:08.138845Z",
     "shell.execute_reply.started": "2025-02-06T01:22:08.128683Z"
    }
   },
   "outputs": [
    {
     "data": {
      "text/plain": [
       "torch.Size([64])"
      ]
     },
     "execution_count": 185,
     "metadata": {},
     "output_type": "execute_result"
    }
   ],
   "source": [
    "X = torch.concat([user_embedding, article_embedding])\n",
    "X.shape"
   ]
  },
  {
   "cell_type": "code",
   "execution_count": 193,
   "id": "1e5a2a9b-c547-411a-9329-f713d98b5546",
   "metadata": {
    "execution": {
     "iopub.execute_input": "2025-02-06T01:26:17.170098Z",
     "iopub.status.busy": "2025-02-06T01:26:17.169510Z",
     "iopub.status.idle": "2025-02-06T01:26:17.175746Z",
     "shell.execute_reply": "2025-02-06T01:26:17.174760Z",
     "shell.execute_reply.started": "2025-02-06T01:26:17.170073Z"
    }
   },
   "outputs": [
    {
     "data": {
      "text/plain": [
       "torch.Size([64, 1])"
      ]
     },
     "execution_count": 193,
     "metadata": {},
     "output_type": "execute_result"
    }
   ],
   "source": [
    "W = torch.randn([64, 1])\n",
    "W.shape"
   ]
  },
  {
   "cell_type": "code",
   "execution_count": 194,
   "id": "50da5bd6-aa0b-491e-aeed-b3d1254b6a07",
   "metadata": {
    "execution": {
     "iopub.execute_input": "2025-02-06T01:26:18.759978Z",
     "iopub.status.busy": "2025-02-06T01:26:18.759392Z",
     "iopub.status.idle": "2025-02-06T01:26:18.768129Z",
     "shell.execute_reply": "2025-02-06T01:26:18.766058Z",
     "shell.execute_reply.started": "2025-02-06T01:26:18.759953Z"
    }
   },
   "outputs": [
    {
     "data": {
      "text/plain": [
       "torch.Size([1])"
      ]
     },
     "execution_count": 194,
     "metadata": {},
     "output_type": "execute_result"
    }
   ],
   "source": [
    "\n",
    "Y.shape"
   ]
  },
  {
   "cell_type": "code",
   "execution_count": 205,
   "id": "cdf9185e-d47d-4244-b4c4-870a818948cb",
   "metadata": {
    "execution": {
     "iopub.execute_input": "2025-02-06T01:30:42.380433Z",
     "iopub.status.busy": "2025-02-06T01:30:42.379525Z",
     "iopub.status.idle": "2025-02-06T01:30:42.388768Z",
     "shell.execute_reply": "2025-02-06T01:30:42.387549Z",
     "shell.execute_reply.started": "2025-02-06T01:30:42.380394Z"
    }
   },
   "outputs": [
    {
     "data": {
      "text/plain": [
       "tensor([1.0177])"
      ]
     },
     "execution_count": 205,
     "metadata": {},
     "output_type": "execute_result"
    }
   ],
   "source": [
    "-torch.log(probability)"
   ]
  },
  {
   "cell_type": "code",
   "execution_count": null,
   "id": "89c95736-5342-4089-b2a5-ef97949b8fdc",
   "metadata": {},
   "outputs": [],
   "source": []
  }
 ],
 "metadata": {
  "kernelspec": {
   "display_name": "Python 3 (ipykernel)",
   "language": "python",
   "name": "python3"
  },
  "language_info": {
   "codemirror_mode": {
    "name": "ipython",
    "version": 3
   },
   "file_extension": ".py",
   "mimetype": "text/x-python",
   "name": "python",
   "nbconvert_exporter": "python",
   "pygments_lexer": "ipython3",
   "version": "3.11.7"
  }
 },
 "nbformat": 4,
 "nbformat_minor": 5
}
