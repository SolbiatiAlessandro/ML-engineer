{
 "cells": [
  {
   "cell_type": "code",
   "execution_count": 74,
   "id": "9301f98c-6c95-4481-9db3-a4be50e7bbb7",
   "metadata": {
    "execution": {
     "iopub.execute_input": "2025-02-05T23:39:39.570253Z",
     "iopub.status.busy": "2025-02-05T23:39:39.569496Z",
     "iopub.status.idle": "2025-02-05T23:39:39.582850Z",
     "shell.execute_reply": "2025-02-05T23:39:39.582026Z",
     "shell.execute_reply.started": "2025-02-05T23:39:39.570219Z"
    }
   },
   "outputs": [
    {
     "data": {
      "text/plain": [
       "<module 'data_processing' from '/notebooks/ML-system-design/personalized-fashion-recommendations/data_processing.py'>"
      ]
     },
     "execution_count": 74,
     "metadata": {},
     "output_type": "execute_result"
    }
   ],
   "source": [
    "import sys\n",
    "import os\n",
    "\n",
    "sys.path.append(os.path.abspath(\"../\"))\n",
    "import importlib\n",
    "import data_processing  # Now you can import the module\n",
    "importlib.reload(data_processing)\n"
   ]
  },
  {
   "cell_type": "code",
   "execution_count": null,
   "id": "065581fe-1de3-47d5-914c-a2d56a24df6c",
   "metadata": {},
   "outputs": [],
   "source": [
    "customers, articles, transactions = data_processing.read_data(path=\"../data/\")"
   ]
  },
  {
   "cell_type": "code",
   "execution_count": 64,
   "id": "4d9d4082-165c-4443-a8cb-19a0463bb9e2",
   "metadata": {
    "execution": {
     "iopub.execute_input": "2025-02-05T23:35:22.482487Z",
     "iopub.status.busy": "2025-02-05T23:35:22.482158Z",
     "iopub.status.idle": "2025-02-05T23:35:37.383879Z",
     "shell.execute_reply": "2025-02-05T23:35:37.383020Z",
     "shell.execute_reply.started": "2025-02-05T23:35:22.482462Z"
    }
   },
   "outputs": [],
   "source": [
    "train, test = data_processing.train_test_no_coldstart(transactions, factor=1000)"
   ]
  },
  {
   "cell_type": "code",
   "execution_count": 65,
   "id": "8d3cd11e-a4d1-438d-a486-a555e6b03708",
   "metadata": {
    "execution": {
     "iopub.execute_input": "2025-02-05T23:35:50.676248Z",
     "iopub.status.busy": "2025-02-05T23:35:50.675958Z",
     "iopub.status.idle": "2025-02-05T23:35:50.682246Z",
     "shell.execute_reply": "2025-02-05T23:35:50.681269Z",
     "shell.execute_reply.started": "2025-02-05T23:35:50.676225Z"
    }
   },
   "outputs": [
    {
     "data": {
      "text/plain": [
       "((5000, 5), (1000, 5))"
      ]
     },
     "execution_count": 65,
     "metadata": {},
     "output_type": "execute_result"
    }
   ],
   "source": [
    "train.shape, test.shape"
   ]
  },
  {
   "cell_type": "code",
   "execution_count": 75,
   "id": "19e0adc5-f027-44e7-b3cd-46811b41d8c0",
   "metadata": {
    "execution": {
     "iopub.execute_input": "2025-02-05T23:39:42.383283Z",
     "iopub.status.busy": "2025-02-05T23:39:42.382979Z",
     "iopub.status.idle": "2025-02-05T23:39:44.697380Z",
     "shell.execute_reply": "2025-02-05T23:39:44.696482Z",
     "shell.execute_reply.started": "2025-02-05T23:39:42.383259Z"
    }
   },
   "outputs": [],
   "source": [
    "train_xs_ys, test_xs_ys = data_processing.get_labels_no_coldstart(train), data_processing.get_labels_no_coldstart(test)"
   ]
  },
  {
   "cell_type": "code",
   "execution_count": 76,
   "id": "7c63fc39-0522-4590-89e7-eb10f0732108",
   "metadata": {
    "execution": {
     "iopub.execute_input": "2025-02-05T23:39:46.642724Z",
     "iopub.status.busy": "2025-02-05T23:39:46.642416Z",
     "iopub.status.idle": "2025-02-05T23:39:46.652403Z",
     "shell.execute_reply": "2025-02-05T23:39:46.651520Z",
     "shell.execute_reply.started": "2025-02-05T23:39:46.642702Z"
    }
   },
   "outputs": [
    {
     "name": "stdout",
     "output_type": "stream",
     "text": [
      "1350 330 True\n",
      "3073 646 True\n"
     ]
    }
   ],
   "source": [
    "# Ensure that test set only contains users and articles seen in training:\n",
    "train_users = set(train_xs_ys[\"customer_id\"].unique())\n",
    "test_users  = set(test_xs_ys[\"customer_id\"].unique())\n",
    "print (len(train_users), len(test_users), test_users.issubset(train_users))\n",
    "\n",
    "train_articles = set(train_xs_ys[\"article_id\"].unique())\n",
    "test_articles  = set(test_xs_ys[\"article_id\"].unique())\n",
    "print (len(train_articles), len(test_articles), test_articles.issubset(train_articles))\n"
   ]
  },
  {
   "cell_type": "code",
   "execution_count": null,
   "id": "fb69e30f-11e2-4c7f-b18f-372ea53c3781",
   "metadata": {},
   "outputs": [],
   "source": []
  }
 ],
 "metadata": {
  "kernelspec": {
   "display_name": "Python 3 (ipykernel)",
   "language": "python",
   "name": "python3"
  },
  "language_info": {
   "codemirror_mode": {
    "name": "ipython",
    "version": 3
   },
   "file_extension": ".py",
   "mimetype": "text/x-python",
   "name": "python",
   "nbconvert_exporter": "python",
   "pygments_lexer": "ipython3",
   "version": "3.11.7"
  }
 },
 "nbformat": 4,
 "nbformat_minor": 5
}
