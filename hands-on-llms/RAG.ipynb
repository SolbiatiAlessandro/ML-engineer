{
  "cells": [
    {
      "cell_type": "code",
      "execution_count": null,
      "id": "ee8bc36b-bb0d-4abc-9122-6eaaa6e7f77e",
      "metadata": {
        "id": "ee8bc36b-bb0d-4abc-9122-6eaaa6e7f77e"
      },
      "outputs": [],
      "source": [
        "# https://colab.research.google.com/github/HandsOnLLM/Hands-On-Large-Language-Models/blob/main/chapter08/Chapter%208%20-%20Semantic%20Search.ipynb#scrollTo=uOFFg7YWFoaf"
      ]
    },
    {
      "cell_type": "code",
      "execution_count": null,
      "id": "ffb9f168-6d46-472c-8513-de0bb965876e",
      "metadata": {
        "id": "ffb9f168-6d46-472c-8513-de0bb965876e"
      },
      "outputs": [],
      "source": [
        "!pip install langchain==0.2.5 faiss-gpu==1.7.2 cohere==5.5.8 langchain-community==0.2.5 rank_bm25==0.2.2 sentence-transformers==3.0.1\n",
        "!CMAKE_ARGS=\"-DLLAMA_CUDA=on\" pip install llama-cpp-python==0.2.78"
      ]
    }
  ],
  "metadata": {
    "kernelspec": {
      "display_name": "Python 3 (ipykernel)",
      "language": "python",
      "name": "python3"
    },
    "language_info": {
      "codemirror_mode": {
        "name": "ipython",
        "version": 3
      },
      "file_extension": ".py",
      "mimetype": "text/x-python",
      "name": "python",
      "nbconvert_exporter": "python",
      "pygments_lexer": "ipython3",
      "version": "3.10.9"
    },
    "colab": {
      "provenance": []
    }
  },
  "nbformat": 4,
  "nbformat_minor": 5
}