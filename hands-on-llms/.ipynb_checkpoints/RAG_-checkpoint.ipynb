{
 "cells": [
  {
   "cell_type": "code",
   "execution_count": 1,
   "id": "ee8bc36b-bb0d-4abc-9122-6eaaa6e7f77e",
   "metadata": {},
   "outputs": [],
   "source": [
    "# https://colab.research.google.com/github/HandsOnLLM/Hands-On-Large-Language-Models/blob/main/chapter08/Chapter%208%20-%20Semantic%20Search.ipynb#scrollTo=uOFFg7YWFoaf"
   ]
  },
  {
   "cell_type": "code",
   "execution_count": null,
   "id": "ffb9f168-6d46-472c-8513-de0bb965876e",
   "metadata": {},
   "outputs": [],
   "source": []
  }
 ],
 "metadata": {
  "kernelspec": {
   "display_name": "Python 3 (ipykernel)",
   "language": "python",
   "name": "python3"
  },
  "language_info": {
   "codemirror_mode": {
    "name": "ipython",
    "version": 3
   },
   "file_extension": ".py",
   "mimetype": "text/x-python",
   "name": "python",
   "nbconvert_exporter": "python",
   "pygments_lexer": "ipython3",
   "version": "3.10.9"
  }
 },
 "nbformat": 4,
 "nbformat_minor": 5
}
