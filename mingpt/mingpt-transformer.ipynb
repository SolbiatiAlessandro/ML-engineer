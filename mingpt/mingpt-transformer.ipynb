{
 "cells": [
  {
   "cell_type": "markdown",
   "id": "e1a9bb71-418c-4573-bcb9-f562c629f6a1",
   "metadata": {},
   "source": [
    "runs log\n",
    "- MLP baseline, train loss = 1.45, validation loss = 1.71 (https://github.com/SolbiatiAlessandro/ML-system-design/commit/c9685b1e5835a05f84c0592773dc9386268b762c)"
   ]
  },
  {
   "cell_type": "markdown",
   "id": "94804a2b-326a-44e3-9dbf-5276a4fcf016",
   "metadata": {
    "tags": []
   },
   "source": [
    "# Environment"
   ]
  },
  {
   "cell_type": "code",
   "execution_count": 1,
   "id": "864d7435-8ecf-4511-8d7e-f5236d0d12fa",
   "metadata": {
    "colab": {
     "base_uri": "https://localhost:8080/"
    },
    "id": "864d7435-8ecf-4511-8d7e-f5236d0d12fa",
    "outputId": "b9b16e5f-49c3-4b31-aab0-d00e5ae5b8e1",
    "tags": []
   },
   "outputs": [
    {
     "name": "stdout",
     "output_type": "stream",
     "text": [
      "--2025-02-17 05:57:19--  https://raw.githubusercontent.com/karpathy/char-rnn/master/data/tinyshakespeare/input.txt\n",
      "Resolving raw.githubusercontent.com (raw.githubusercontent.com)... 185.199.108.133, 185.199.110.133, 185.199.111.133, ...\n",
      "Connecting to raw.githubusercontent.com (raw.githubusercontent.com)|185.199.108.133|:443... connected.\n",
      "HTTP request sent, awaiting response... 200 OK\n",
      "Length: 1115394 (1.1M) [text/plain]\n",
      "Saving to: ‘input.txt’\n",
      "\n",
      "input.txt           100%[===================>]   1.06M  --.-KB/s    in 0.02s   \n",
      "\n",
      "2025-02-17 05:57:19 (57.1 MB/s) - ‘input.txt’ saved [1115394/1115394]\n",
      "\n"
     ]
    }
   ],
   "source": [
    "!wget https://raw.githubusercontent.com/karpathy/char-rnn/master/data/tinyshakespeare/input.txt"
   ]
  },
  {
   "cell_type": "code",
   "execution_count": 191,
   "id": "f09b7735-38a8-4bed-a129-d68d9c4474b7",
   "metadata": {
    "tags": []
   },
   "outputs": [
    {
     "name": "stdout",
     "output_type": "stream",
     "text": [
      "Using device: cuda\n",
      "Number of CUDA devices: 1\n",
      "Current device ID: 0\n",
      "Device name: Quadro RTX 5000\n",
      "Device properties: _CudaDeviceProperties(name='Quadro RTX 5000', major=7, minor=5, total_memory=16117MB, multi_processor_count=48)\n",
      "Memory allocated: 18377728\n",
      "Memory reserved: 532676608\n"
     ]
    }
   ],
   "source": [
    "import torch\n",
    "\n",
    "# 1. Define a device variable. If a GPU is available, use it.\n",
    "device = torch.device(\"cuda\" if torch.cuda.is_available() else \"cpu\")\n",
    "print(f\"Using device: {device}\")\n",
    "\n",
    "import torch\n",
    "\n",
    "# Check if CUDA is available\n",
    "if torch.cuda.is_available():\n",
    "    # Get the number of available CUDA devices\n",
    "    num_devices = torch.cuda.device_count()\n",
    "    print(\"Number of CUDA devices:\", num_devices)\n",
    "\n",
    "    # Get information about the current device\n",
    "    current_device_id = torch.cuda.current_device()\n",
    "    print(\"Current device ID:\", current_device_id)\n",
    "\n",
    "    # Get the name of the current device\n",
    "    device_name = torch.cuda.get_device_name(current_device_id)\n",
    "    print(\"Device name:\", device_name)\n",
    "\n",
    "    # Get detailed device properties\n",
    "    device_props = torch.cuda.get_device_properties(current_device_id)\n",
    "    print(\"Device properties:\", device_props)\n",
    "\n",
    "    # Get memory information\n",
    "    memory_allocated = torch.cuda.memory_allocated(current_device_id)\n",
    "    memory_reserved = torch.cuda.memory_reserved(current_device_id)\n",
    "    print(\"Memory allocated:\", memory_allocated)\n",
    "    print(\"Memory reserved:\", memory_reserved)\n",
    "else:\n",
    "    print(\"CUDA is not available.\")"
   ]
  },
  {
   "cell_type": "code",
   "execution_count": 200,
   "id": "8614dc81-ee0c-4ed2-819b-403c7bda335c",
   "metadata": {
    "tags": []
   },
   "outputs": [
    {
     "name": "stdout",
     "output_type": "stream",
     "text": [
      "Mon Feb 17 07:24:30 2025       \n",
      "+-----------------------------------------------------------------------------+\n",
      "| NVIDIA-SMI 525.116.04   Driver Version: 525.116.04   CUDA Version: 12.0     |\n",
      "|-------------------------------+----------------------+----------------------+\n",
      "| GPU  Name        Persistence-M| Bus-Id        Disp.A | Volatile Uncorr. ECC |\n",
      "| Fan  Temp  Perf  Pwr:Usage/Cap|         Memory-Usage | GPU-Util  Compute M. |\n",
      "|                               |                      |               MIG M. |\n",
      "|===============================+======================+======================|\n",
      "|   0  Quadro RTX 5000     Off  | 00000000:00:05.0 Off |                  Off |\n",
      "| 34%   37C    P2    42W / 230W |   1555MiB / 16384MiB |      0%      Default |\n",
      "|                               |                      |                  N/A |\n",
      "+-------------------------------+----------------------+----------------------+\n",
      "                                                                               \n",
      "+-----------------------------------------------------------------------------+\n",
      "| Processes:                                                                  |\n",
      "|  GPU   GI   CI        PID   Type   Process name                  GPU Memory |\n",
      "|        ID   ID                                                   Usage      |\n",
      "|=============================================================================|\n",
      "+-----------------------------------------------------------------------------+\n"
     ]
    }
   ],
   "source": [
    "!nvidia-smi"
   ]
  },
  {
   "cell_type": "code",
   "execution_count": 201,
   "id": "2a39b7c0-2eca-4721-8996-34dc227d3059",
   "metadata": {
    "tags": []
   },
   "outputs": [],
   "source": [
    "hyperparams = {\n",
    "    'block_size': 10,\n",
    "    'embedding_dim': 10,\n",
    "    'hidden_layer': 10*10*5,\n",
    "    'batch_size': 256*4,\n",
    "    'epochs': 100000\n",
    "}"
   ]
  },
  {
   "cell_type": "markdown",
   "id": "a7be8940-c155-49a3-930c-32733ec1add6",
   "metadata": {
    "id": "a7be8940-c155-49a3-930c-32733ec1add6"
   },
   "source": [
    "# Shakespeare dataset"
   ]
  },
  {
   "cell_type": "code",
   "execution_count": 2,
   "id": "45f09b2a-8b73-4355-b10b-7e0b776ebeb0",
   "metadata": {
    "id": "45f09b2a-8b73-4355-b10b-7e0b776ebeb0",
    "tags": []
   },
   "outputs": [],
   "source": [
    "# read it in to inspect it\n",
    "with open('input.txt', 'r', encoding='utf-8') as f:\n",
    "    text = f.read()"
   ]
  },
  {
   "cell_type": "code",
   "execution_count": 163,
   "id": "839ec9a0-ce0d-4d95-aefe-73a244b8c359",
   "metadata": {
    "tags": []
   },
   "outputs": [
    {
     "data": {
      "text/plain": [
       "1115394"
      ]
     },
     "execution_count": 163,
     "metadata": {},
     "output_type": "execute_result"
    }
   ],
   "source": [
    "len(text)"
   ]
  },
  {
   "cell_type": "code",
   "execution_count": 166,
   "id": "e6cc8b97-5aed-4eb1-8145-27d4fe178d0d",
   "metadata": {
    "id": "e6cc8b97-5aed-4eb1-8145-27d4fe178d0d",
    "tags": []
   },
   "outputs": [],
   "source": [
    "characters = set()\n",
    "for c in text:\n",
    "    characters.add(c)\n",
    "vocab_size = len(characters)\n",
    "int_to_characters = {i: c for i, c in enumerate(characters)}\n",
    "characters_to_int = {c: i for i, c in enumerate(characters)}\n",
    "\n",
    "CONTEXT_WINDOW = hyperparams['block_size']\n",
    "\n",
    "X, y = [], []\n",
    "k = 0\n",
    "X_train, X_test, y_train, y_test = [], [], [], []\n",
    "for k in range(int(len(text) * 0.90)):\n",
    "    xx = text[k:k+CONTEXT_WINDOW]\n",
    "    yy = text[k+CONTEXT_WINDOW]\n",
    "\n",
    "    X_train.append([characters_to_int[c] for c in xx])\n",
    "    y_train.append(characters_to_int[yy])\n",
    "\n",
    "for k in range(int(len(text) * 0.92), len(text) - 2*CONTEXT_WINDOW):\n",
    "    xx = text[k:k+CONTEXT_WINDOW]\n",
    "    yy = text[k+CONTEXT_WINDOW]\n",
    "\n",
    "    X_test.append([characters_to_int[c] for c in xx])\n",
    "    y_test.append(characters_to_int[yy])\n"
   ]
  },
  {
   "cell_type": "code",
   "execution_count": 193,
   "id": "2cce19d8-91e9-4bab-bedb-fda4f0e3565e",
   "metadata": {
    "tags": []
   },
   "outputs": [
    {
     "name": "stderr",
     "output_type": "stream",
     "text": [
      "/tmp/ipykernel_104/3705377515.py:2: UserWarning: To copy construct from a tensor, it is recommended to use sourceTensor.clone().detach() or sourceTensor.clone().detach().requires_grad_(True), rather than torch.tensor(sourceTensor).\n",
      "  X_train, y_train = torch.tensor(X_train, device=device), torch.tensor(y_train, device=device)\n"
     ]
    },
    {
     "data": {
      "text/plain": [
       "(torch.Size([1003854, 10]), torch.Size([1003854]))"
      ]
     },
     "execution_count": 193,
     "metadata": {},
     "output_type": "execute_result"
    }
   ],
   "source": [
    "import torch\n",
    "X_train, y_train = torch.tensor(X_train, device=device), torch.tensor(y_train, device=device)\n",
    "X_train.shape, y_train.shape"
   ]
  },
  {
   "cell_type": "code",
   "execution_count": 194,
   "id": "5aa20a8f-e288-42c2-a84f-db3d34068d4c",
   "metadata": {
    "tags": []
   },
   "outputs": [
    {
     "data": {
      "text/plain": [
       "(torch.Size([89212, 10]), torch.Size([89212]))"
      ]
     },
     "execution_count": 194,
     "metadata": {},
     "output_type": "execute_result"
    }
   ],
   "source": [
    "X_val, y_val = torch.tensor(X_test, device=device), torch.tensor(y_test, device=device)\n",
    "X_val.shape, y_val.shape"
   ]
  },
  {
   "cell_type": "code",
   "execution_count": 116,
   "id": "7a09f48b-7ee8-4da5-8bb3-42483d36087d",
   "metadata": {
    "tags": []
   },
   "outputs": [
    {
     "data": {
      "text/plain": [
       "(tensor([[56, 20, 10, 40,  6, 21, 39, 35, 61, 20],\n",
       "         [20,  8, 26, 40,  6, 19, 32, 19, 58, 56],\n",
       "         [20, 11, 21, 20, 11, 25, 20, 28, 32, 11],\n",
       "         [61, 33, 28, 21, 39, 32, 12, 39, 21, 35]]),\n",
       " tensor([ 8, 45, 21, 20]))"
      ]
     },
     "execution_count": 116,
     "metadata": {},
     "output_type": "execute_result"
    }
   ],
   "source": [
    "ix = torch.randint(0, X_train.shape[0], (4,))\n",
    "X_train[ix], y_train[ix]"
   ]
  },
  {
   "cell_type": "code",
   "execution_count": 233,
   "id": "4789c30c-d41c-4ee5-93a6-8615b3175dbe",
   "metadata": {
    "tags": []
   },
   "outputs": [
    {
     "name": "stdout",
     "output_type": "stream",
     "text": [
      "65\n"
     ]
    }
   ],
   "source": [
    "print(vocab_size)"
   ]
  },
  {
   "cell_type": "markdown",
   "id": "be3374c1-dbd6-4630-8bba-ff35943dab52",
   "metadata": {
    "tags": []
   },
   "source": [
    "# Model"
   ]
  },
  {
   "cell_type": "code",
   "execution_count": 20,
   "id": "b2b66699-b3b5-4100-b11c-1c7053080458",
   "metadata": {
    "tags": []
   },
   "outputs": [],
   "source": [
    "from torch import nn"
   ]
  },
  {
   "cell_type": "code",
   "execution_count": 19,
   "id": "8536c56e-2096-4f75-8286-04a6d5665c4b",
   "metadata": {
    "tags": []
   },
   "outputs": [],
   "source": [
    "# input\n",
    "# embedding layer\n",
    "# masked multi hjead attention \n",
    "# add and norm\n",
    "# feed forward\n",
    "# add norm\n",
    "# linear\n",
    "# softmax\n",
    "# probabilities"
   ]
  },
  {
   "cell_type": "code",
   "execution_count": 202,
   "id": "81186d70-b98d-4929-bb8d-5dd07b4dce0d",
   "metadata": {
    "tags": []
   },
   "outputs": [],
   "source": [
    "embedding_dim = hyperparams['embedding_dim']\n",
    "block_size = hyperparams['block_size']\n",
    "batch_size = hyperparams['batch_size']\n",
    "hidden_layer_size = hyperparams['hidden_layer']\n",
    "epochs = hyperparams['epochs']"
   ]
  },
  {
   "cell_type": "code",
   "execution_count": 227,
   "id": "a01cf671-0fb8-4b64-91d0-b61d54a90a7d",
   "metadata": {
    "tags": []
   },
   "outputs": [
    {
     "data": {
      "text/plain": [
       "2195"
      ]
     },
     "execution_count": 227,
     "metadata": {},
     "output_type": "execute_result"
    }
   ],
   "source": [
    "model = nn.Sequential(\n",
    "    nn.Embedding(vocab_size, embedding_dim, device=device),\n",
    "    nn.Flatten(),\n",
    "    nn.Linear(embedding_dim * block_size, hidden_layer_size, device=device),\n",
    "    nn.ReLU(),\n",
    "    nn.Linear(hidden_layer_size, hidden_layer_size, device=device),\n",
    "    nn.ReLU(),\n",
    "    nn.Linear(hidden_layer_size, vocab_size, device=device)\n",
    ")\n",
    "\n",
    "for p in model.parameters():\n",
    "    p.require_grad = True\n",
    "sum(len(p) for layer in model for p in layer.parameters())"
   ]
  },
  {
   "cell_type": "code",
   "execution_count": 257,
   "id": "f59443b0-48ed-42fb-a3bc-e1c5715fa8f6",
   "metadata": {
    "tags": []
   },
   "outputs": [
    {
     "data": {
      "text/plain": [
       "torch.Size([1, 10])"
      ]
     },
     "execution_count": 257,
     "metadata": {},
     "output_type": "execute_result"
    }
   ],
   "source": [
    "ix = torch.randint(0, X_train.shape[0], (1,))\n",
    "x, y = X_train[ix], y_train[ix]\n",
    "x.shape"
   ]
  },
  {
   "cell_type": "code",
   "execution_count": 255,
   "id": "31f6edfd-837a-4739-8fe5-a9821c17ccb8",
   "metadata": {
    "tags": []
   },
   "outputs": [
    {
     "data": {
      "text/plain": [
       "tensor([[56, 32, 20,  8, 40, 11, 14, 35, 33, 30]], device='cuda:0')"
      ]
     },
     "execution_count": 255,
     "metadata": {},
     "output_type": "execute_result"
    }
   ],
   "source": [
    "x"
   ]
  },
  {
   "cell_type": "code",
   "execution_count": 258,
   "id": "54d83800-73d1-4b12-a999-7fb3152798b3",
   "metadata": {
    "tags": []
   },
   "outputs": [
    {
     "data": {
      "text/plain": [
       "torch.Size([1, 10, 10])"
      ]
     },
     "execution_count": 258,
     "metadata": {},
     "output_type": "execute_result"
    }
   ],
   "source": [
    "x = model[0](x)\n",
    "x.shape"
   ]
  },
  {
   "cell_type": "code",
   "execution_count": 262,
   "id": "86a56f99-a1f8-4e14-ad2e-e82d3b4678a8",
   "metadata": {
    "tags": []
   },
   "outputs": [],
   "source": [
    "W1 = torch.randn(10, 64, device=device)"
   ]
  },
  {
   "cell_type": "code",
   "execution_count": 263,
   "id": "8ab3b9df-cd3c-48ad-a70e-26554d207a32",
   "metadata": {
    "tags": []
   },
   "outputs": [
    {
     "ename": "RuntimeError",
     "evalue": "mat1 and mat2 shapes cannot be multiplied (1x100 and 10x64)",
     "output_type": "error",
     "traceback": [
      "\u001b[0;31m---------------------------------------------------------------------------\u001b[0m",
      "\u001b[0;31mRuntimeError\u001b[0m                              Traceback (most recent call last)",
      "Cell \u001b[0;32mIn[263], line 1\u001b[0m\n\u001b[0;32m----> 1\u001b[0m \u001b[43mx\u001b[49m\u001b[43m \u001b[49m\u001b[38;5;241;43m@\u001b[39;49m\u001b[43m \u001b[49m\u001b[43mW1\u001b[49m\n",
      "\u001b[0;31mRuntimeError\u001b[0m: mat1 and mat2 shapes cannot be multiplied (1x100 and 10x64)"
     ]
    }
   ],
   "source": [
    "x @ W1"
   ]
  },
  {
   "cell_type": "code",
   "execution_count": 246,
   "id": "41326469-f3be-461e-9a0e-042e2baf7706",
   "metadata": {
    "tags": []
   },
   "outputs": [],
   "source": [
    "query = nn.Linear(embedding_dim*block_size, attention_size, device=device)\n",
    "keys = nn.Linear(embedding_dim*block_size, attention_size, device=device)\n",
    "values = nn.Linear(embedding_dim*block_size, attention_size, device=device)"
   ]
  },
  {
   "cell_type": "code",
   "execution_count": 247,
   "id": "dfe3a467-ba0c-45a0-a26d-6870484af554",
   "metadata": {
    "tags": []
   },
   "outputs": [],
   "source": [
    "q = query(x)\n",
    "k = keys(x)"
   ]
  },
  {
   "cell_type": "code",
   "execution_count": 252,
   "id": "b5af0176-ee07-4cab-879c-3b28b1a3c160",
   "metadata": {
    "tags": []
   },
   "outputs": [
    {
     "data": {
      "text/plain": [
       "torch.Size([1024, 1024])"
      ]
     },
     "execution_count": 252,
     "metadata": {},
     "output_type": "execute_result"
    }
   ],
   "source": [
    "(q @ k.T).shape"
   ]
  },
  {
   "cell_type": "code",
   "execution_count": 228,
   "id": "2041ce37-021e-4750-beea-ced0f7965ef3",
   "metadata": {
    "tags": []
   },
   "outputs": [
    {
     "name": "stdout",
     "output_type": "stream",
     "text": [
      "0: train loss = 4.185055732727051, validation loss = 4.141956329345703\n",
      "1000: train loss = 2.377685070037842, validation loss = 2.4429502487182617\n",
      "2000: train loss = 2.231973171234131, validation loss = 2.2896788120269775\n",
      "3000: train loss = 2.082155704498291, validation loss = 2.1420059204101562\n",
      "4000: train loss = 1.9366093873977661, validation loss = 2.022430181503296\n",
      "5000: train loss = 1.8920868635177612, validation loss = 1.9656044244766235\n",
      "6000: train loss = 1.784192442893982, validation loss = 1.9314466714859009\n",
      "7000: train loss = 1.760754108428955, validation loss = 1.8996379375457764\n",
      "8000: train loss = 1.674952507019043, validation loss = 1.8834093809127808\n",
      "9000: train loss = 1.6659841537475586, validation loss = 1.8579070568084717\n",
      "10000: train loss = 1.6491072177886963, validation loss = 1.8419277667999268\n",
      "11000: train loss = 1.611682415008545, validation loss = 1.8020172119140625\n",
      "12000: train loss = 1.560142159461975, validation loss = 1.7966078519821167\n",
      "13000: train loss = 1.625946044921875, validation loss = 1.7819454669952393\n",
      "14000: train loss = 1.5862655639648438, validation loss = 1.7668688297271729\n",
      "15000: train loss = 1.469470739364624, validation loss = 1.7550290822982788\n",
      "16000: train loss = 1.4641603231430054, validation loss = 1.727082371711731\n",
      "17000: train loss = 1.544050693511963, validation loss = 1.72421133518219\n",
      "18000: train loss = 1.4514580965042114, validation loss = 1.7239896059036255\n",
      "19000: train loss = 1.5439257621765137, validation loss = 1.722666621208191\n",
      "20000: train loss = 1.5229125022888184, validation loss = 1.7209378480911255\n",
      "21000: train loss = 1.45572829246521, validation loss = 1.7196073532104492\n",
      "22000: train loss = 1.4742423295974731, validation loss = 1.717646598815918\n",
      "23000: train loss = 1.4882457256317139, validation loss = 1.7196040153503418\n",
      "24000: train loss = 1.460096836090088, validation loss = 1.716087818145752\n",
      "25000: train loss = 1.3641501665115356, validation loss = 1.7151120901107788\n",
      "26000: train loss = 1.478058099746704, validation loss = 1.7132906913757324\n",
      "27000: train loss = 1.5873571634292603, validation loss = 1.7130950689315796\n",
      "28000: train loss = 1.4275885820388794, validation loss = 1.7114659547805786\n",
      "29000: train loss = 1.4469373226165771, validation loss = 1.711621642112732\n"
     ]
    }
   ],
   "source": [
    "lossi, vlossi = [], []\n",
    "\n",
    "for i in range(30000):\n",
    "    # forward pass\n",
    "    ix = torch.randint(0, X_train.shape[0], (batch_size,))\n",
    "    x, y = X_train[ix], y_train[ix]\n",
    "    x = model(x)\n",
    "    loss = nn.functional.cross_entropy(x, y)\n",
    "    \n",
    "\n",
    "    for p in model.parameters():\n",
    "        p.grad = None\n",
    "\n",
    "    # backward pass\n",
    "    loss.backward()\n",
    "    \n",
    "    lr = 0.1 if i < 15000 else 0.01\n",
    "    for p in model.parameters():\n",
    "        p.data -= lr * p.grad\n",
    "        \n",
    "    lossi.append(loss.item())\n",
    "    if i % 250 == 0:\n",
    "        with torch.no_grad():\n",
    "            # validation loss\n",
    "            logits_val = model(X_val)\n",
    "            loss_val = nn.functional.cross_entropy(logits_val, y_val)\n",
    "            vlossi.append(loss_val.item())\n",
    "            \n",
    "            if i % 1000 == 0:\n",
    "                print(f\"{i}: train loss = {loss.item():.2f}, validation loss = {loss_val.item():2f}\")"
   ]
  },
  {
   "cell_type": "code",
   "execution_count": 229,
   "id": "604508ce-1d52-43ea-bb51-48fff4ecc38c",
   "metadata": {
    "tags": []
   },
   "outputs": [
    {
     "data": {
      "text/plain": [
       "[<matplotlib.lines.Line2D at 0x7f232977cd50>]"
      ]
     },
     "execution_count": 229,
     "metadata": {},
     "output_type": "execute_result"
    },
    {
     "data": {
      "image/png": "[encoded data removed]",
      "text/plain": [
       "<Figure size 640x480 with 1 Axes>"
      ]
     },
     "metadata": {},
     "output_type": "display_data"
    }
   ],
   "source": [
    "from matplotlib import pyplot as plt\n",
    "plt.plot(torch.tensor(lossi).view(-1, 10).mean(1)[1:])\n",
    "plt.plot([25*x for x in range(len(vlossi[1:]))], vlossi[1:])"
   ]
  },
  {
   "cell_type": "code",
   "execution_count": null,
   "id": "8bf0f92c-addc-4f83-a996-9cceea314262",
   "metadata": {},
   "outputs": [],
   "source": []
  }
 ],
 "metadata": {
  "accelerator": "GPU",
  "colab": {
   "gpuType": "T4",
   "provenance": []
  },
  "kernelspec": {
   "display_name": "Python 3 (ipykernel)",
   "language": "python",
   "name": "python3"
  },
  "language_info": {
   "codemirror_mode": {
    "name": "ipython",
    "version": 3
   },
   "file_extension": ".py",
   "mimetype": "text/x-python",
   "name": "python",
   "nbconvert_exporter": "python",
   "pygments_lexer": "ipython3",
   "version": "3.11.7"
  }
 },
 "nbformat": 4,
 "nbformat_minor": 5
}
