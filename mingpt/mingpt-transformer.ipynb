{
 "cells": [
  {
   "cell_type": "code",
   "execution_count": 2,
   "id": "4fb3c9e6-1081-43c2-8d9c-469ef59cb4e1",
   "metadata": {
    "execution": {
     "iopub.execute_input": "2025-02-17T21:52:46.288830Z",
     "iopub.status.busy": "2025-02-17T21:52:46.287616Z",
     "iopub.status.idle": "2025-02-17T21:52:51.171883Z",
     "shell.execute_reply": "2025-02-17T21:52:51.170487Z",
     "shell.execute_reply.started": "2025-02-17T21:52:46.288788Z"
    }
   },
   "outputs": [
    {
     "name": "stdout",
     "output_type": "stream",
     "text": [
      "Number of CUDA devices: 1\n",
      "Current device ID: 0\n",
      "Device name: Quadro RTX 5000\n",
      "Device properties: _CudaDeviceProperties(name='Quadro RTX 5000', major=7, minor=5, total_memory=16117MB, multi_processor_count=48)\n",
      "Memory allocated: 0\n",
      "Memory reserved: 0\n",
      "Using device: cuda\n",
      "^C\n",
      "Traceback (most recent call last):\n",
      "  File \"/notebooks/ML-system-design/mingpt/minigpt-bigram.py\", line 75, in <module>\n",
      "    xval, yval = get_batch('val', batch_size=len(val_data))\n",
      "                 ^^^^^^^^^^^^^^^^^^^^^^^^^^^^^^^^^^^^^^^^^^\n",
      "  File \"/notebooks/ML-system-design/mingpt/minigpt-bigram.py\", line 71, in get_batch\n",
      "    x = torch.stack([data[i:i+block_size] for i in ix])\n",
      "                    ^^^^^^^^^^^^^^^^^^^^^^^^^^^^^^^^^^\n",
      "  File \"/notebooks/ML-system-design/mingpt/minigpt-bigram.py\", line 71, in <listcomp>\n",
      "    x = torch.stack([data[i:i+block_size] for i in ix])\n",
      "                    ^^^^^^^^^^^^^^^^^^^^^^^^^^^^^^^^^^\n",
      "KeyboardInterrupt\n"
     ]
    }
   ],
   "source": [
    "!python minigpt-bigram.py"
   ]
  },
  {
   "cell_type": "markdown",
   "id": "e1a9bb71-418c-4573-bcb9-f562c629f6a1",
   "metadata": {},
   "source": [
    "runs log\n",
    "- [MLP baseline @ 2195 parameters](https://github.com/SolbiatiAlessandro/ML-system-design/commit/c9685b1e5835a05f84c0592773dc9386268b762c), train loss = 1.45, validation loss = 1.71 \n",
    "- [Bigram + Adam @ 65 parameters](https://github.com/SolbiatiAlessandro/ML-system-design/commit/2362e2d0ac59be8afdd78ab9db119b33f8ce6f8d),  training loss = 2.49, validation loss = 2.52\n",
    "- Bigram @ 65 parameters,  training loss = 2.73, validation loss = 2.72\n",
    "- Random Choice, theoretical loss = 4.17\n"
   ]
  },
  {
   "cell_type": "markdown",
   "id": "94804a2b-326a-44e3-9dbf-5276a4fcf016",
   "metadata": {
    "tags": []
   },
   "source": [
    "# Environment"
   ]
  },
  {
   "cell_type": "code",
   "execution_count": 1,
   "id": "864d7435-8ecf-4511-8d7e-f5236d0d12fa",
   "metadata": {
    "colab": {
     "base_uri": "https://localhost:8080/"
    },
    "id": "864d7435-8ecf-4511-8d7e-f5236d0d12fa",
    "outputId": "b9b16e5f-49c3-4b31-aab0-d00e5ae5b8e1",
    "tags": []
   },
   "outputs": [
    {
     "name": "stdout",
     "output_type": "stream",
     "text": [
      "--2025-02-17 05:57:19--  https://raw.githubusercontent.com/karpathy/char-rnn/master/data/tinyshakespeare/input.txt\n",
      "Resolving raw.githubusercontent.com (raw.githubusercontent.com)... 185.199.108.133, 185.199.110.133, 185.199.111.133, ...\n",
      "Connecting to raw.githubusercontent.com (raw.githubusercontent.com)|185.199.108.133|:443... connected.\n",
      "HTTP request sent, awaiting response... 200 OK\n",
      "Length: 1115394 (1.1M) [text/plain]\n",
      "Saving to: ‘input.txt’\n",
      "\n",
      "input.txt           100%[===================>]   1.06M  --.-KB/s    in 0.02s   \n",
      "\n",
      "2025-02-17 05:57:19 (57.1 MB/s) - ‘input.txt’ saved [1115394/1115394]\n",
      "\n"
     ]
    }
   ],
   "source": [
    "!wget https://raw.githubusercontent.com/karpathy/char-rnn/master/data/tinyshakespeare/input.txt"
   ]
  },
  {
   "cell_type": "code",
   "execution_count": 1,
   "id": "f09b7735-38a8-4bed-a129-d68d9c4474b7",
   "metadata": {
    "execution": {
     "iopub.execute_input": "2025-02-17T21:52:29.834400Z",
     "iopub.status.busy": "2025-02-17T21:52:29.833883Z",
     "iopub.status.idle": "2025-02-17T21:52:38.858999Z",
     "shell.execute_reply": "2025-02-17T21:52:38.857886Z",
     "shell.execute_reply.started": "2025-02-17T21:52:29.834359Z"
    },
    "tags": []
   },
   "outputs": [
    {
     "name": "stdout",
     "output_type": "stream",
     "text": [
      "Using device: cuda\n",
      "Number of CUDA devices: 1\n",
      "Current device ID: 0\n",
      "Device name: Quadro RTX 5000\n",
      "Device properties: _CudaDeviceProperties(name='Quadro RTX 5000', major=7, minor=5, total_memory=16117MB, multi_processor_count=48)\n",
      "Memory allocated: 0\n",
      "Memory reserved: 0\n"
     ]
    }
   ],
   "source": [
    "import torch\n",
    "\n",
    "# 1. Define a device variable. If a GPU is available, use it.\n",
    "device = torch.device(\"cuda\" if torch.cuda.is_available() else \"cpu\")\n",
    "print(f\"Using device: {device}\")\n",
    "\n",
    "import torch\n",
    "\n",
    "# Check if CUDA is available\n",
    "if torch.cuda.is_available():\n",
    "    # Get the number of available CUDA devices\n",
    "    num_devices = torch.cuda.device_count()\n",
    "    print(\"Number of CUDA devices:\", num_devices)\n",
    "\n",
    "    # Get information about the current device\n",
    "    current_device_id = torch.cuda.current_device()\n",
    "    print(\"Current device ID:\", current_device_id)\n",
    "\n",
    "    # Get the name of the current device\n",
    "    device_name = torch.cuda.get_device_name(current_device_id)\n",
    "    print(\"Device name:\", device_name)\n",
    "\n",
    "    # Get detailed device properties\n",
    "    device_props = torch.cuda.get_device_properties(current_device_id)\n",
    "    print(\"Device properties:\", device_props)\n",
    "\n",
    "    # Get memory information\n",
    "    memory_allocated = torch.cuda.memory_allocated(current_device_id)\n",
    "    memory_reserved = torch.cuda.memory_reserved(current_device_id)\n",
    "    print(\"Memory allocated:\", memory_allocated)\n",
    "    print(\"Memory reserved:\", memory_reserved)\n",
    "else:\n",
    "    print(\"CUDA is not available.\")"
   ]
  },
  {
   "cell_type": "code",
   "execution_count": 192,
   "id": "8614dc81-ee0c-4ed2-819b-403c7bda335c",
   "metadata": {
    "tags": []
   },
   "outputs": [
    {
     "name": "stdout",
     "output_type": "stream",
     "text": [
      "Mon Feb 17 19:28:52 2025       \n",
      "+-----------------------------------------------------------------------------+\n",
      "| NVIDIA-SMI 525.116.04   Driver Version: 525.116.04   CUDA Version: 12.0     |\n",
      "|-------------------------------+----------------------+----------------------+\n",
      "| GPU  Name        Persistence-M| Bus-Id        Disp.A | Volatile Uncorr. ECC |\n",
      "| Fan  Temp  Perf  Pwr:Usage/Cap|         Memory-Usage | GPU-Util  Compute M. |\n",
      "|                               |                      |               MIG M. |\n",
      "|===============================+======================+======================|\n",
      "|   0  Quadro RTX 5000     Off  | 00000000:00:05.0 Off |                  Off |\n",
      "| 33%   25C    P8    13W / 230W |   1597MiB / 16384MiB |      0%      Default |\n",
      "|                               |                      |                  N/A |\n",
      "+-------------------------------+----------------------+----------------------+\n",
      "                                                                               \n",
      "+-----------------------------------------------------------------------------+\n",
      "| Processes:                                                                  |\n",
      "|  GPU   GI   CI        PID   Type   Process name                  GPU Memory |\n",
      "|        ID   ID                                                   Usage      |\n",
      "|=============================================================================|\n",
      "+-----------------------------------------------------------------------------+\n"
     ]
    }
   ],
   "source": [
    "!nvidia-smi"
   ]
  },
  {
   "cell_type": "code",
   "execution_count": 366,
   "id": "2a39b7c0-2eca-4721-8996-34dc227d3059",
   "metadata": {
    "tags": []
   },
   "outputs": [],
   "source": [
    "hyperparams = {\n",
    "    'block_size': 8,\n",
    "    'embedding_dim': 10,\n",
    "    'hidden_layer': 10*10*5,\n",
    "    'batch_size': 128,\n",
    "    'epochs': 100000\n",
    "}"
   ]
  },
  {
   "cell_type": "markdown",
   "id": "a7be8940-c155-49a3-930c-32733ec1add6",
   "metadata": {
    "id": "a7be8940-c155-49a3-930c-32733ec1add6"
   },
   "source": [
    "# Shakespeare dataset"
   ]
  },
  {
   "cell_type": "code",
   "execution_count": 1,
   "id": "45f09b2a-8b73-4355-b10b-7e0b776ebeb0",
   "metadata": {
    "id": "45f09b2a-8b73-4355-b10b-7e0b776ebeb0",
    "tags": []
   },
   "outputs": [],
   "source": [
    "# read it in to inspect it\n",
    "with open('input.txt', 'r', encoding='utf-8') as f:\n",
    "    text = f.read()"
   ]
  },
  {
   "cell_type": "code",
   "execution_count": 2,
   "id": "839ec9a0-ce0d-4d95-aefe-73a244b8c359",
   "metadata": {
    "tags": []
   },
   "outputs": [
    {
     "data": {
      "text/plain": [
       "1115394"
      ]
     },
     "execution_count": 2,
     "metadata": {},
     "output_type": "execute_result"
    }
   ],
   "source": [
    "len(text)"
   ]
  },
  {
   "cell_type": "code",
   "execution_count": 38,
   "id": "e6cc8b97-5aed-4eb1-8145-27d4fe178d0d",
   "metadata": {
    "id": "e6cc8b97-5aed-4eb1-8145-27d4fe178d0d",
    "tags": []
   },
   "outputs": [],
   "source": [
    "# other tokenizer can use \n",
    "# https://github.com/openai/tiktoken\n",
    "# https://github.com/google/sentencepiece \n",
    "\n",
    "characters = set()\n",
    "for c in text:\n",
    "    characters.add(c)\n",
    "vocab_size = len(characters)\n",
    "int_to_characters = {i: c for i, c in enumerate(characters)}\n",
    "characters_to_int = {c: i for i, c in enumerate(characters)}\n"
   ]
  },
  {
   "cell_type": "code",
   "execution_count": 173,
   "id": "cc4fd58e-d20c-44da-8ffe-dec2335df588",
   "metadata": {
    "tags": []
   },
   "outputs": [],
   "source": [
    "# could also be done w torch.stack\n",
    "data = [characters_to_int[c] for c in text]\n",
    "n = int(0.9 * len(data))\n",
    "train_data = torch.tensor(data[:n], device=device)\n",
    "val_data = torch.tensor(data[n:], device=device)"
   ]
  },
  {
   "cell_type": "code",
   "execution_count": 174,
   "id": "4e93505a-ef1b-41ec-b3d7-9091472429f6",
   "metadata": {
    "tags": []
   },
   "outputs": [
    {
     "data": {
      "text/plain": [
       "(torch.Size([1003854]), torch.Size([111540]))"
      ]
     },
     "execution_count": 174,
     "metadata": {},
     "output_type": "execute_result"
    }
   ],
   "source": [
    "train_data.shape, val_data.shape"
   ]
  },
  {
   "cell_type": "code",
   "execution_count": 367,
   "id": "cff5f201-ca09-4f27-b5a3-831fc8822b2c",
   "metadata": {
    "tags": []
   },
   "outputs": [],
   "source": [
    "torch.manual_seed(1337)\n",
    "batch_size = hyperparams['batch_size']\n",
    "block_size = hyperparams['block_size']\n",
    "\n",
    "def get_batch(split , batch_size=batch_size):\n",
    "    data = train_data if split == 'train' else val_data\n",
    "    ix = torch.randint(0, len(data) - block_size, (batch_size,), device=device)\n",
    "    x = torch.stack([data[i:i+block_size] for i in ix])\n",
    "    y = torch.stack([data[i+1:i+block_size+1] for i in ix])\n",
    "    return x, y"
   ]
  },
  {
   "cell_type": "code",
   "execution_count": 176,
   "id": "7988cdd4-9216-4e56-9216-92702e7d0bbe",
   "metadata": {
    "tags": []
   },
   "outputs": [
    {
     "data": {
      "text/plain": [
       "(torch.Size([128, 8]), torch.Size([128, 8]))"
      ]
     },
     "execution_count": 176,
     "metadata": {},
     "output_type": "execute_result"
    }
   ],
   "source": [
    "xb, yb = get_batch('train')\n",
    "xb.shape, yb.shape"
   ]
  },
  {
   "cell_type": "code",
   "execution_count": 177,
   "id": "f38e9c39-305a-4ec2-ab12-e1fd795d14de",
   "metadata": {
    "tags": []
   },
   "outputs": [
    {
     "data": {
      "text/plain": [
       "(tensor([[49, 58, 60,  ..., 53, 58, 21],\n",
       "         [42,  6, 29,  ..., 61,  1, 35],\n",
       "         [51, 38,  1,  ..., 60, 35,  7],\n",
       "         ...,\n",
       "         [58, 21, 32,  ..., 61, 35,  1],\n",
       "         [10, 36, 39,  ..., 47, 38, 15],\n",
       "         [35,  7, 58,  ...,  6, 53, 58]], device='cuda:0'),\n",
       " tensor([[58, 60, 12,  ..., 58, 21, 28],\n",
       "         [ 6, 29, 59,  ...,  1, 35, 51],\n",
       "         [38,  1, 51,  ..., 35,  7, 38],\n",
       "         ...,\n",
       "         [21, 32,  6,  ..., 35,  1,  6],\n",
       "         [36, 39, 60,  ..., 38, 15, 35],\n",
       "         [ 7, 58, 59,  ..., 53, 58, 35]], device='cuda:0'))"
      ]
     },
     "execution_count": 177,
     "metadata": {},
     "output_type": "execute_result"
    }
   ],
   "source": [
    "xb, yb"
   ]
  },
  {
   "cell_type": "code",
   "execution_count": 178,
   "id": "ca5dc230-3904-4055-8e2e-3c1e4183832c",
   "metadata": {
    "tags": []
   },
   "outputs": [],
   "source": [
    "xval, yval = get_batch('val', batch_size=len(val_data))"
   ]
  },
  {
   "cell_type": "markdown",
   "id": "e56019c9-7abd-4e5a-9a52-52f46c81911d",
   "metadata": {
    "tags": []
   },
   "source": [
    "# Bigram Baseline"
   ]
  },
  {
   "cell_type": "code",
   "execution_count": 179,
   "id": "a78ed373-0950-4633-9d79-7e0f4bc9eafb",
   "metadata": {
    "tags": []
   },
   "outputs": [],
   "source": [
    "import torch.nn as nn\n",
    "import torch.nn.functional as F"
   ]
  },
  {
   "cell_type": "code",
   "execution_count": 380,
   "id": "191c122e-bff6-4f3b-af6a-40bc94286f3a",
   "metadata": {
    "tags": []
   },
   "outputs": [],
   "source": [
    "class BigramLanguageModel(nn.Module):\n",
    "    def __init__(self, vocab_size):\n",
    "        super().__init__()\n",
    "        self.token_embedding_table = nn.Embedding(vocab_size, vocab_size, device=device)\n",
    "        \n",
    "    def forward(self, idx, targets=None):\n",
    "        logits = self.token_embedding_table(idx) # B, T, C  \n",
    "        if targets is None: return logits\n",
    "        B, T, C = logits.shape\n",
    "        logits = logits.view(B*T, C)\n",
    "        target = targets.view(B*T)\n",
    "        loss = F.cross_entropy(logits, target)\n",
    "        return logits, loss\n",
    "    \n",
    "    def generate(self, idx, max_token_generated):\n",
    "        #        idx = torch.zeros((1, 1), dtype=torch.long, device=device)\n",
    "        for _ in range(max_token_generated):\n",
    "            logits = model.forward(idx)\n",
    "            logits = logits[:, -1, :]\n",
    "            probs = F.softmax(logits, dim=1)\n",
    "            pred = torch.multinomial(probs, num_samples=1)\n",
    "            idx = torch.cat((idx, pred), dim=1)\n",
    "        return idx\n",
    "        \n",
    "        \n",
    "    "
   ]
  },
  {
   "cell_type": "code",
   "execution_count": 381,
   "id": "2ef7e99c-1ead-4c75-ada6-fd2be6bf403b",
   "metadata": {
    "tags": []
   },
   "outputs": [
    {
     "name": "stdout",
     "output_type": "stream",
     "text": [
      "65\n"
     ]
    }
   ],
   "source": [
    "model = BigramLanguageModel(vocab_size)\n",
    "for p in model.parameters():\n",
    "    p.require_grad = True\n",
    "    print(len(p))"
   ]
  },
  {
   "cell_type": "code",
   "execution_count": 387,
   "id": "bac61ae0-40e9-4024-a20c-ac409c3a2858",
   "metadata": {
    "tags": []
   },
   "outputs": [
    {
     "data": {
      "text/plain": [
       "'DYOFand OLe wn -for prdown F maulie o wig? ands\\nYPere n noupec;Zbuemun:\\nBquBul tsthothog; y-\\nNAUS:\\nBr'"
      ]
     },
     "execution_count": 387,
     "metadata": {},
     "output_type": "execute_result"
    }
   ],
   "source": [
    "\"\".join(int_to_characters[x.item()] for x in model.generate(\n",
    "    torch.zeros((1, 1), dtype=torch.long, device=device), \n",
    "    100\n",
    ")[0])"
   ]
  },
  {
   "cell_type": "code",
   "execution_count": 383,
   "id": "74355d66-1996-4fc5-bca2-e4ebd82c180f",
   "metadata": {
    "tags": []
   },
   "outputs": [],
   "source": [
    "optimizer = torch.optim.Adam(model.parameters(), lr=0.001)"
   ]
  },
  {
   "cell_type": "code",
   "execution_count": 384,
   "id": "92f195fb-f8af-4c09-8c92-4d33ea61e4ca",
   "metadata": {
    "tags": []
   },
   "outputs": [
    {
     "name": "stdout",
     "output_type": "stream",
     "text": [
      "0: training loss = 4.59, validation loss = 4.58\n",
      "200: training loss = 4.29, validation loss = 4.33\n",
      "400: training loss = 4.11, validation loss = 4.09\n",
      "600: training loss = 3.91, validation loss = 3.88\n",
      "800: training loss = 3.71, validation loss = 3.70\n",
      "1000: training loss = 3.53, validation loss = 3.53\n",
      "1200: training loss = 3.40, validation loss = 3.38\n",
      "1400: training loss = 3.30, validation loss = 3.25\n",
      "1600: training loss = 3.16, validation loss = 3.13\n",
      "1800: training loss = 3.02, validation loss = 3.03\n",
      "2000: training loss = 2.94, validation loss = 2.95\n",
      "2200: training loss = 2.84, validation loss = 2.87\n",
      "2400: training loss = 2.82, validation loss = 2.81\n",
      "2600: training loss = 2.79, validation loss = 2.76\n",
      "2800: training loss = 2.71, validation loss = 2.72\n",
      "3000: training loss = 2.68, validation loss = 2.68\n",
      "3200: training loss = 2.65, validation loss = 2.65\n",
      "3400: training loss = 2.65, validation loss = 2.62\n",
      "3600: training loss = 2.57, validation loss = 2.60\n",
      "3800: training loss = 2.49, validation loss = 2.58\n",
      "4000: training loss = 2.58, validation loss = 2.57\n",
      "4200: training loss = 2.54, validation loss = 2.56\n",
      "4400: training loss = 2.52, validation loss = 2.55\n",
      "4600: training loss = 2.50, validation loss = 2.54\n",
      "4800: training loss = 2.54, validation loss = 2.53\n",
      "5000: training loss = 2.48, validation loss = 2.53\n",
      "5200: training loss = 2.49, validation loss = 2.52\n"
     ]
    },
    {
     "ename": "KeyboardInterrupt",
     "evalue": "",
     "output_type": "error",
     "traceback": [
      "\u001b[0;31m---------------------------------------------------------------------------\u001b[0m",
      "\u001b[0;31mKeyboardInterrupt\u001b[0m                         Traceback (most recent call last)",
      "Cell \u001b[0;32mIn[384], line 8\u001b[0m\n\u001b[1;32m      4\u001b[0m \u001b[38;5;66;03m#xval, yval = get_batch('val', batch_size=len(val_data))\u001b[39;00m\n\u001b[1;32m      6\u001b[0m \u001b[38;5;28;01mfor\u001b[39;00m epoch \u001b[38;5;129;01min\u001b[39;00m \u001b[38;5;28mrange\u001b[39m(epochs):\n\u001b[1;32m      7\u001b[0m     \u001b[38;5;66;03m# forward\u001b[39;00m\n\u001b[0;32m----> 8\u001b[0m     xb, yb \u001b[38;5;241m=\u001b[39m \u001b[43mget_batch\u001b[49m\u001b[43m(\u001b[49m\u001b[38;5;124;43m'\u001b[39;49m\u001b[38;5;124;43mtrain\u001b[39;49m\u001b[38;5;124;43m'\u001b[39;49m\u001b[43m)\u001b[49m\n\u001b[1;32m      9\u001b[0m     logits, loss \u001b[38;5;241m=\u001b[39m model(xb, yb)\n\u001b[1;32m     10\u001b[0m     lossi\u001b[38;5;241m.\u001b[39mappend(loss\u001b[38;5;241m.\u001b[39mitem())\n",
      "Cell \u001b[0;32mIn[367], line 9\u001b[0m, in \u001b[0;36mget_batch\u001b[0;34m(split, batch_size)\u001b[0m\n\u001b[1;32m      7\u001b[0m ix \u001b[38;5;241m=\u001b[39m torch\u001b[38;5;241m.\u001b[39mrandint(\u001b[38;5;241m0\u001b[39m, \u001b[38;5;28mlen\u001b[39m(data) \u001b[38;5;241m-\u001b[39m block_size, (batch_size,), device\u001b[38;5;241m=\u001b[39mdevice)\n\u001b[1;32m      8\u001b[0m x \u001b[38;5;241m=\u001b[39m torch\u001b[38;5;241m.\u001b[39mstack([data[i:i\u001b[38;5;241m+\u001b[39mblock_size] \u001b[38;5;28;01mfor\u001b[39;00m i \u001b[38;5;129;01min\u001b[39;00m ix])\n\u001b[0;32m----> 9\u001b[0m y \u001b[38;5;241m=\u001b[39m torch\u001b[38;5;241m.\u001b[39mstack(\u001b[43m[\u001b[49m\u001b[43mdata\u001b[49m\u001b[43m[\u001b[49m\u001b[43mi\u001b[49m\u001b[38;5;241;43m+\u001b[39;49m\u001b[38;5;241;43m1\u001b[39;49m\u001b[43m:\u001b[49m\u001b[43mi\u001b[49m\u001b[38;5;241;43m+\u001b[39;49m\u001b[43mblock_size\u001b[49m\u001b[38;5;241;43m+\u001b[39;49m\u001b[38;5;241;43m1\u001b[39;49m\u001b[43m]\u001b[49m\u001b[43m \u001b[49m\u001b[38;5;28;43;01mfor\u001b[39;49;00m\u001b[43m \u001b[49m\u001b[43mi\u001b[49m\u001b[43m \u001b[49m\u001b[38;5;129;43;01min\u001b[39;49;00m\u001b[43m \u001b[49m\u001b[43mix\u001b[49m\u001b[43m]\u001b[49m)\n\u001b[1;32m     10\u001b[0m \u001b[38;5;28;01mreturn\u001b[39;00m x, y\n",
      "Cell \u001b[0;32mIn[367], line 9\u001b[0m, in \u001b[0;36m<listcomp>\u001b[0;34m(.0)\u001b[0m\n\u001b[1;32m      7\u001b[0m ix \u001b[38;5;241m=\u001b[39m torch\u001b[38;5;241m.\u001b[39mrandint(\u001b[38;5;241m0\u001b[39m, \u001b[38;5;28mlen\u001b[39m(data) \u001b[38;5;241m-\u001b[39m block_size, (batch_size,), device\u001b[38;5;241m=\u001b[39mdevice)\n\u001b[1;32m      8\u001b[0m x \u001b[38;5;241m=\u001b[39m torch\u001b[38;5;241m.\u001b[39mstack([data[i:i\u001b[38;5;241m+\u001b[39mblock_size] \u001b[38;5;28;01mfor\u001b[39;00m i \u001b[38;5;129;01min\u001b[39;00m ix])\n\u001b[0;32m----> 9\u001b[0m y \u001b[38;5;241m=\u001b[39m torch\u001b[38;5;241m.\u001b[39mstack([data[i\u001b[38;5;241m+\u001b[39m\u001b[38;5;241m1\u001b[39m:i\u001b[38;5;241m+\u001b[39mblock_size\u001b[38;5;241m+\u001b[39m\u001b[38;5;241m1\u001b[39m] \u001b[38;5;28;01mfor\u001b[39;00m i \u001b[38;5;129;01min\u001b[39;00m ix])\n\u001b[1;32m     10\u001b[0m \u001b[38;5;28;01mreturn\u001b[39;00m x, y\n",
      "\u001b[0;31mKeyboardInterrupt\u001b[0m: "
     ]
    }
   ],
   "source": [
    "epochs = 10000\n",
    "lossi, vlossi = [], []\n",
    "\n",
    "#xval, yval = get_batch('val', batch_size=len(val_data))\n",
    "\n",
    "for epoch in range(epochs):\n",
    "    # forward\n",
    "    xb, yb = get_batch('train')\n",
    "    logits, loss = model(xb, yb)\n",
    "    lossi.append(loss.item())\n",
    "    \n",
    "    # backward\n",
    "    optimizer.zero_grad()\n",
    "    loss.backward()\n",
    "    \n",
    "    # update\n",
    "    optimizer.step()\n",
    "    \n",
    "    if epoch % 200 == 0:\n",
    "        \n",
    "        with torch.no_grad():\n",
    "            _, vloss = model(xval, yval)\n",
    "            vlossi.append(vloss.item())\n",
    "            print(f\"{epoch}: training loss = {loss.item():.2f}, validation loss = {vloss.item():.2f}\")\n"
   ]
  },
  {
   "cell_type": "code",
   "execution_count": 385,
   "id": "27c35819-6644-416a-9520-291425178d01",
   "metadata": {
    "tags": []
   },
   "outputs": [],
   "source": [
    "lossi = torch.tensor(lossi)"
   ]
  },
  {
   "cell_type": "code",
   "execution_count": 386,
   "id": "8d02a487-35bc-4068-bb1b-23cb3c18c0d3",
   "metadata": {
    "tags": []
   },
   "outputs": [
    {
     "data": {
      "text/plain": [
       "[<matplotlib.lines.Line2D at 0x7f01eb1394d0>]"
      ]
     },
     "execution_count": 386,
     "metadata": {},
     "output_type": "execute_result"
    },
    {
     "data": {
      "image/png": "[encoded data removed]",
      "text/plain": [
       "<Figure size 640x480 with 1 Axes>"
      ]
     },
     "metadata": {},
     "output_type": "display_data"
    }
   ],
   "source": [
    "plot_dim = len(vlossi) * 10\n",
    "from matplotlib import pyplot as plt\n",
    "plt.plot(lossi[:plot_dim * (lossi.numel() // plot_dim)].view((plot_dim, -1)).mean(1))\n",
    "plt.plot([i * 10 for i in range(len(vlossi))], vlossi)"
   ]
  },
  {
   "cell_type": "code",
   "execution_count": 164,
   "id": "c83585a7-8152-4f9b-855e-912549838ada",
   "metadata": {
    "tags": []
   },
   "outputs": [
    {
     "data": {
      "text/plain": [
       "<zip at 0x7f02081c7c00>"
      ]
     },
     "execution_count": 164,
     "metadata": {},
     "output_type": "execute_result"
    }
   ],
   "source": []
  },
  {
   "cell_type": "markdown",
   "id": "be3374c1-dbd6-4630-8bba-ff35943dab52",
   "metadata": {
    "tags": []
   },
   "source": [
    "# MLP Baseline"
   ]
  },
  {
   "cell_type": "code",
   "execution_count": 20,
   "id": "b2b66699-b3b5-4100-b11c-1c7053080458",
   "metadata": {
    "tags": []
   },
   "outputs": [],
   "source": [
    "from torch import nn"
   ]
  },
  {
   "cell_type": "code",
   "execution_count": 19,
   "id": "8536c56e-2096-4f75-8286-04a6d5665c4b",
   "metadata": {
    "tags": []
   },
   "outputs": [],
   "source": [
    "# input\n",
    "# embedding layer\n",
    "# masked multi hjead attention \n",
    "# add and norm\n",
    "# feed forward\n",
    "# add norm\n",
    "# linear\n",
    "# softmax\n",
    "# probabilities"
   ]
  },
  {
   "cell_type": "code",
   "execution_count": 388,
   "id": "81186d70-b98d-4929-bb8d-5dd07b4dce0d",
   "metadata": {
    "tags": []
   },
   "outputs": [],
   "source": [
    "embedding_dim = hyperparams['embedding_dim']\n",
    "block_size = hyperparams['block_size']\n",
    "batch_size = hyperparams['batch_size']\n",
    "hidden_layer_size = hyperparams['hidden_layer']\n",
    "epochs = hyperparams['epochs']"
   ]
  },
  {
   "cell_type": "code",
   "execution_count": 389,
   "id": "a01cf671-0fb8-4b64-91d0-b61d54a90a7d",
   "metadata": {
    "tags": []
   },
   "outputs": [
    {
     "data": {
      "text/plain": [
       "2195"
      ]
     },
     "execution_count": 389,
     "metadata": {},
     "output_type": "execute_result"
    }
   ],
   "source": [
    "model = nn.Sequential(\n",
    "    nn.Embedding(vocab_size, embedding_dim, device=device),\n",
    "    nn.Flatten(),\n",
    "    nn.Linear(embedding_dim * block_size, hidden_layer_size, device=device),\n",
    "    nn.ReLU(),\n",
    "    nn.Linear(hidden_layer_size, hidden_layer_size, device=device),\n",
    "    nn.ReLU(),\n",
    "    nn.Linear(hidden_layer_size, vocab_size, device=device)\n",
    ")\n",
    "\n",
    "for p in model.parameters():\n",
    "    p.require_grad = True\n",
    "sum(len(p) for layer in model for p in layer.parameters())"
   ]
  },
  {
   "cell_type": "code",
   "execution_count": 390,
   "id": "f59443b0-48ed-42fb-a3bc-e1c5715fa8f6",
   "metadata": {
    "tags": []
   },
   "outputs": [
    {
     "ename": "AttributeError",
     "evalue": "'list' object has no attribute 'shape'",
     "output_type": "error",
     "traceback": [
      "\u001b[0;31m---------------------------------------------------------------------------\u001b[0m",
      "\u001b[0;31mAttributeError\u001b[0m                            Traceback (most recent call last)",
      "Cell \u001b[0;32mIn[390], line 1\u001b[0m\n\u001b[0;32m----> 1\u001b[0m ix \u001b[38;5;241m=\u001b[39m torch\u001b[38;5;241m.\u001b[39mrandint(\u001b[38;5;241m0\u001b[39m, \u001b[43mX_train\u001b[49m\u001b[38;5;241;43m.\u001b[39;49m\u001b[43mshape\u001b[49m[\u001b[38;5;241m0\u001b[39m], (\u001b[38;5;241m1\u001b[39m,))\n\u001b[1;32m      2\u001b[0m x, y \u001b[38;5;241m=\u001b[39m X_train[ix], y_train[ix]\n\u001b[1;32m      3\u001b[0m x\u001b[38;5;241m.\u001b[39mshape\n",
      "\u001b[0;31mAttributeError\u001b[0m: 'list' object has no attribute 'shape'"
     ]
    }
   ],
   "source": [
    "ix = torch.randint(0, X_train.shape[0], (1,))\n",
    "x, y = X_train[ix], y_train[ix]\n",
    "x.shape"
   ]
  },
  {
   "cell_type": "code",
   "execution_count": 391,
   "id": "31f6edfd-837a-4739-8fe5-a9821c17ccb8",
   "metadata": {
    "tags": []
   },
   "outputs": [
    {
     "data": {
      "text/plain": [
       "[[6, 29, 60, 36, 63, 21, 47, 38],\n",
       " [12, 6, 29, 35, 21, 59, 59, 3],\n",
       " [36, 44, 40, 39, 56, 11, 40, 19],\n",
       " [35, 21, 28, 15, 35, 29, 28, 60]]"
      ]
     },
     "execution_count": 391,
     "metadata": {},
     "output_type": "execute_result"
    }
   ],
   "source": [
    "x"
   ]
  },
  {
   "cell_type": "code",
   "execution_count": 258,
   "id": "54d83800-73d1-4b12-a999-7fb3152798b3",
   "metadata": {
    "tags": []
   },
   "outputs": [
    {
     "data": {
      "text/plain": [
       "torch.Size([1, 10, 10])"
      ]
     },
     "execution_count": 258,
     "metadata": {},
     "output_type": "execute_result"
    }
   ],
   "source": [
    "x = model[0](x)\n",
    "x.shape"
   ]
  },
  {
   "cell_type": "code",
   "execution_count": 262,
   "id": "86a56f99-a1f8-4e14-ad2e-e82d3b4678a8",
   "metadata": {
    "tags": []
   },
   "outputs": [],
   "source": [
    "W1 = torch.randn(10, 64, device=device)"
   ]
  },
  {
   "cell_type": "code",
   "execution_count": 263,
   "id": "8ab3b9df-cd3c-48ad-a70e-26554d207a32",
   "metadata": {
    "tags": []
   },
   "outputs": [
    {
     "ename": "RuntimeError",
     "evalue": "mat1 and mat2 shapes cannot be multiplied (1x100 and 10x64)",
     "output_type": "error",
     "traceback": [
      "\u001b[0;31m---------------------------------------------------------------------------\u001b[0m",
      "\u001b[0;31mRuntimeError\u001b[0m                              Traceback (most recent call last)",
      "Cell \u001b[0;32mIn[263], line 1\u001b[0m\n\u001b[0;32m----> 1\u001b[0m \u001b[43mx\u001b[49m\u001b[43m \u001b[49m\u001b[38;5;241;43m@\u001b[39;49m\u001b[43m \u001b[49m\u001b[43mW1\u001b[49m\n",
      "\u001b[0;31mRuntimeError\u001b[0m: mat1 and mat2 shapes cannot be multiplied (1x100 and 10x64)"
     ]
    }
   ],
   "source": [
    "x @ W1"
   ]
  },
  {
   "cell_type": "code",
   "execution_count": 246,
   "id": "41326469-f3be-461e-9a0e-042e2baf7706",
   "metadata": {
    "tags": []
   },
   "outputs": [],
   "source": [
    "query = nn.Linear(embedding_dim*block_size, attention_size, device=device)\n",
    "keys = nn.Linear(embedding_dim*block_size, attention_size, device=device)\n",
    "values = nn.Linear(embedding_dim*block_size, attention_size, device=device)"
   ]
  },
  {
   "cell_type": "code",
   "execution_count": 247,
   "id": "dfe3a467-ba0c-45a0-a26d-6870484af554",
   "metadata": {
    "tags": []
   },
   "outputs": [],
   "source": [
    "q = query(x)\n",
    "k = keys(x)"
   ]
  },
  {
   "cell_type": "code",
   "execution_count": 252,
   "id": "b5af0176-ee07-4cab-879c-3b28b1a3c160",
   "metadata": {
    "tags": []
   },
   "outputs": [
    {
     "data": {
      "text/plain": [
       "torch.Size([1024, 1024])"
      ]
     },
     "execution_count": 252,
     "metadata": {},
     "output_type": "execute_result"
    }
   ],
   "source": [
    "(q @ k.T).shape"
   ]
  },
  {
   "cell_type": "code",
   "execution_count": 228,
   "id": "2041ce37-021e-4750-beea-ced0f7965ef3",
   "metadata": {
    "tags": []
   },
   "outputs": [
    {
     "name": "stdout",
     "output_type": "stream",
     "text": [
      "0: train loss = 4.185055732727051, validation loss = 4.141956329345703\n",
      "1000: train loss = 2.377685070037842, validation loss = 2.4429502487182617\n",
      "2000: train loss = 2.231973171234131, validation loss = 2.2896788120269775\n",
      "3000: train loss = 2.082155704498291, validation loss = 2.1420059204101562\n",
      "4000: train loss = 1.9366093873977661, validation loss = 2.022430181503296\n",
      "5000: train loss = 1.8920868635177612, validation loss = 1.9656044244766235\n",
      "6000: train loss = 1.784192442893982, validation loss = 1.9314466714859009\n",
      "7000: train loss = 1.760754108428955, validation loss = 1.8996379375457764\n",
      "8000: train loss = 1.674952507019043, validation loss = 1.8834093809127808\n",
      "9000: train loss = 1.6659841537475586, validation loss = 1.8579070568084717\n",
      "10000: train loss = 1.6491072177886963, validation loss = 1.8419277667999268\n",
      "11000: train loss = 1.611682415008545, validation loss = 1.8020172119140625\n",
      "12000: train loss = 1.560142159461975, validation loss = 1.7966078519821167\n",
      "13000: train loss = 1.625946044921875, validation loss = 1.7819454669952393\n",
      "14000: train loss = 1.5862655639648438, validation loss = 1.7668688297271729\n",
      "15000: train loss = 1.469470739364624, validation loss = 1.7550290822982788\n",
      "16000: train loss = 1.4641603231430054, validation loss = 1.727082371711731\n",
      "17000: train loss = 1.544050693511963, validation loss = 1.72421133518219\n",
      "18000: train loss = 1.4514580965042114, validation loss = 1.7239896059036255\n",
      "19000: train loss = 1.5439257621765137, validation loss = 1.722666621208191\n",
      "20000: train loss = 1.5229125022888184, validation loss = 1.7209378480911255\n",
      "21000: train loss = 1.45572829246521, validation loss = 1.7196073532104492\n",
      "22000: train loss = 1.4742423295974731, validation loss = 1.717646598815918\n",
      "23000: train loss = 1.4882457256317139, validation loss = 1.7196040153503418\n",
      "24000: train loss = 1.460096836090088, validation loss = 1.716087818145752\n",
      "25000: train loss = 1.3641501665115356, validation loss = 1.7151120901107788\n",
      "26000: train loss = 1.478058099746704, validation loss = 1.7132906913757324\n",
      "27000: train loss = 1.5873571634292603, validation loss = 1.7130950689315796\n",
      "28000: train loss = 1.4275885820388794, validation loss = 1.7114659547805786\n",
      "29000: train loss = 1.4469373226165771, validation loss = 1.711621642112732\n"
     ]
    }
   ],
   "source": [
    "lossi, vlossi = [], []\n",
    "\n",
    "for i in range(30000):\n",
    "    # forward pass\n",
    "    ix = torch.randint(0, X_train.shape[0], (batch_size,))\n",
    "    x, y = X_train[ix], y_train[ix]\n",
    "    x = model(x)\n",
    "    loss = nn.functional.cross_entropy(x, y)\n",
    "    \n",
    "\n",
    "    for p in model.parameters():\n",
    "        p.grad = None\n",
    "\n",
    "    # backward pass\n",
    "    loss.backward()\n",
    "    \n",
    "    lr = 0.1 if i < 15000 else 0.01\n",
    "    for p in model.parameters():\n",
    "        p.data -= lr * p.grad\n",
    "        \n",
    "    lossi.append(loss.item())\n",
    "    if i % 250 == 0:\n",
    "        with torch.no_grad():\n",
    "            # validation loss\n",
    "            logits_val = model(X_val)\n",
    "            loss_val = nn.functional.cross_entropy(logits_val, y_val)\n",
    "            vlossi.append(loss_val.item())\n",
    "            \n",
    "            if i % 1000 == 0:\n",
    "                print(f\"{i}: train loss = {loss.item():.2f}, validation loss = {loss_val.item():2f}\")"
   ]
  },
  {
   "cell_type": "code",
   "execution_count": 229,
   "id": "604508ce-1d52-43ea-bb51-48fff4ecc38c",
   "metadata": {
    "tags": []
   },
   "outputs": [
    {
     "data": {
      "text/plain": [
       "[<matplotlib.lines.Line2D at 0x7f232977cd50>]"
      ]
     },
     "execution_count": 229,
     "metadata": {},
     "output_type": "execute_result"
    },
    {
     "data": {
      "image/png": "[encoded data removed]",
      "text/plain": [
       "<Figure size 640x480 with 1 Axes>"
      ]
     },
     "metadata": {},
     "output_type": "display_data"
    }
   ],
   "source": [
    "from matplotlib import pyplot as plt\n",
    "plt.plot(torch.tensor(lossi).view(-1, 10).mean(1)[1:])\n",
    "plt.plot([25*x for x in range(len(vlossi[1:]))], vlossi[1:])"
   ]
  },
  {
   "cell_type": "code",
   "execution_count": null,
   "id": "8bf0f92c-addc-4f83-a996-9cceea314262",
   "metadata": {},
   "outputs": [],
   "source": []
  }
 ],
 "metadata": {
  "accelerator": "GPU",
  "colab": {
   "gpuType": "T4",
   "provenance": []
  },
  "kernelspec": {
   "display_name": "Python 3 (ipykernel)",
   "language": "python",
   "name": "python3"
  },
  "language_info": {
   "codemirror_mode": {
    "name": "ipython",
    "version": 3
   },
   "file_extension": ".py",
   "mimetype": "text/x-python",
   "name": "python",
   "nbconvert_exporter": "python",
   "pygments_lexer": "ipython3",
   "version": "3.11.7"
  }
 },
 "nbformat": 4,
 "nbformat_minor": 5
}
