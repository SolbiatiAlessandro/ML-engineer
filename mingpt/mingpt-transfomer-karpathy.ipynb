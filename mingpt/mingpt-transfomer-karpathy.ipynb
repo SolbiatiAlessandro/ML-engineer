{
 "cells": [
  {
   "cell_type": "markdown",
   "id": "e1a9bb71-418c-4573-bcb9-f562c629f6a1",
   "metadata": {},
   "source": [
    "runs log\n",
    "\n",
    "- Transformer (6 blocks, 8 heads), trained for 15 minutes, training loss = 1.4386, **validation loss = 1.6684**\n",
    "- Transformer (2 blocks, 4 heads) @ 11971 params, trained for 6 hours, training loss = 1.6084, **validation loss = 1.7826**\n",
    "- Transformer (1 blocks, 2 headd) @ 3275 params, trained for 1 hours, training loss = 1.6864, **validation loss = 1.8935**\n",
    "- Transformer (1 blocks, 2 heads) @ 3275 params, training loss = 2.0824, **validation loss = 2.1663**\n",
    "- Two Residual MLPs @ 4563 params, training loss = 2.4655, **validation loss = 2.4908**\n",
    "- [Bigram + Adam @ 65 parameters](https://github.com/SolbiatiAlessandro/ML-system-design/commit/2362e2d0ac59be8afdd78ab9db119b33f8ce6f8d),  training loss = 2.49, **validation loss = 2.52**\n",
    "- Bigram @ 65 parameters,  training loss = 2.73, **validation loss = 2.72**\n",
    "- Random Choice, **theoretical loss = 4.17**\n",
    "\n",
    "\n",
    "these were done on simlar but different task (minigpt-transformer-alessandro) not sure they can be compared\n",
    "- MLP 3 layer with residual, @ 3795 paarmeters = 15500: train loss = 1.29, validation loss = 1.642946\n",
    "- [MLP baseline @ 2195 parameters](https://github.com/SolbiatiAlessandro/ML-system-design/commit/c9685b1e5835a05f84c0592773dc9386268b762c), train loss = 1.45, validation loss = 1.71 \n",
    "\n"
   ]
  },
  {
   "cell_type": "markdown",
   "id": "94804a2b-326a-44e3-9dbf-5276a4fcf016",
   "metadata": {
    "tags": []
   },
   "source": [
    "# Environment"
   ]
  },
  {
   "cell_type": "code",
   "execution_count": 2,
   "id": "864d7435-8ecf-4511-8d7e-f5236d0d12fa",
   "metadata": {
    "colab": {
     "base_uri": "https://localhost:8080/"
    },
    "id": "864d7435-8ecf-4511-8d7e-f5236d0d12fa",
    "outputId": "b9b16e5f-49c3-4b31-aab0-d00e5ae5b8e1",
    "tags": []
   },
   "outputs": [
    {
     "name": "stdout",
     "output_type": "stream",
     "text": [
      "--2025-02-18 03:56:17--  https://raw.githubusercontent.com/karpathy/char-rnn/master/data/tinyshakespeare/input.txt\n",
      "Resolving raw.githubusercontent.com (raw.githubusercontent.com)... 185.199.108.133, 185.199.109.133, 185.199.111.133, ...\n",
      "Connecting to raw.githubusercontent.com (raw.githubusercontent.com)|185.199.108.133|:443... connected.\n",
      "HTTP request sent, awaiting response... 200 OK\n",
      "Length: 1115394 (1.1M) [text/plain]\n",
      "Saving to: ‘input.txt.1’\n",
      "\n",
      "input.txt.1         100%[===================>]   1.06M  --.-KB/s    in 0.007s  \n",
      "\n",
      "2025-02-18 03:56:17 (155 MB/s) - ‘input.txt.1’ saved [1115394/1115394]\n",
      "\n"
     ]
    }
   ],
   "source": [
    "!wget https://raw.githubusercontent.com/karpathy/char-rnn/master/data/tinyshakespeare/input.txt"
   ]
  },
  {
   "cell_type": "code",
   "execution_count": 1,
   "id": "f09b7735-38a8-4bed-a129-d68d9c4474b7",
   "metadata": {
    "tags": []
   },
   "outputs": [
    {
     "name": "stdout",
     "output_type": "stream",
     "text": [
      "Using device: cuda\n",
      "Number of CUDA devices: 1\n",
      "Current device ID: 0\n",
      "Device name: NVIDIA RTX A4000\n",
      "Device properties: _CudaDeviceProperties(name='NVIDIA RTX A4000', major=8, minor=6, total_memory=16108MB, multi_processor_count=48)\n",
      "Memory allocated: 0\n",
      "Memory reserved: 0\n"
     ]
    }
   ],
   "source": [
    "import torch\n",
    "\n",
    "# 1. Define a device variable. If a GPU is available, use it.\n",
    "device = torch.device(\"cuda\" if torch.cuda.is_available() else \"cpu\")\n",
    "print(f\"Using device: {device}\")\n",
    "\n",
    "import torch\n",
    "\n",
    "# Check if CUDA is available\n",
    "if torch.cuda.is_available():\n",
    "    # Get the number of available CUDA devices\n",
    "    num_devices = torch.cuda.device_count()\n",
    "    print(\"Number of CUDA devices:\", num_devices)\n",
    "\n",
    "    # Get information about the current device\n",
    "    current_device_id = torch.cuda.current_device()\n",
    "    print(\"Current device ID:\", current_device_id)\n",
    "\n",
    "    # Get the name of the current device\n",
    "    device_name = torch.cuda.get_device_name(current_device_id)\n",
    "    print(\"Device name:\", device_name)\n",
    "\n",
    "    # Get detailed device properties\n",
    "    device_props = torch.cuda.get_device_properties(current_device_id)\n",
    "    print(\"Device properties:\", device_props)\n",
    "\n",
    "    # Get memory information\n",
    "    memory_allocated = torch.cuda.memory_allocated(current_device_id)\n",
    "    memory_reserved = torch.cuda.memory_reserved(current_device_id)\n",
    "    print(\"Memory allocated:\", memory_allocated)\n",
    "    print(\"Memory reserved:\", memory_reserved)\n",
    "else:\n",
    "    print(\"CUDA is not available.\")"
   ]
  },
  {
   "cell_type": "code",
   "execution_count": 2,
   "id": "8614dc81-ee0c-4ed2-819b-403c7bda335c",
   "metadata": {
    "tags": []
   },
   "outputs": [
    {
     "name": "stdout",
     "output_type": "stream",
     "text": [
      "Fri Feb 21 07:00:57 2025       \n",
      "+-----------------------------------------------------------------------------+\n",
      "| NVIDIA-SMI 525.116.04   Driver Version: 525.116.04   CUDA Version: 12.0     |\n",
      "|-------------------------------+----------------------+----------------------+\n",
      "| GPU  Name        Persistence-M| Bus-Id        Disp.A | Volatile Uncorr. ECC |\n",
      "| Fan  Temp  Perf  Pwr:Usage/Cap|         Memory-Usage | GPU-Util  Compute M. |\n",
      "|                               |                      |               MIG M. |\n",
      "|===============================+======================+======================|\n",
      "|   0  NVIDIA RTX A4000    Off  | 00000000:00:05.0 Off |                  Off |\n",
      "| 41%   39C    P8    15W / 140W |      3MiB / 16376MiB |      0%      Default |\n",
      "|                               |                      |                  N/A |\n",
      "+-------------------------------+----------------------+----------------------+\n",
      "                                                                               \n",
      "+-----------------------------------------------------------------------------+\n",
      "| Processes:                                                                  |\n",
      "|  GPU   GI   CI        PID   Type   Process name                  GPU Memory |\n",
      "|        ID   ID                                                   Usage      |\n",
      "|=============================================================================|\n",
      "|  No running processes found                                                 |\n",
      "+-----------------------------------------------------------------------------+\n"
     ]
    }
   ],
   "source": [
    "!nvidia-smi"
   ]
  },
  {
   "cell_type": "code",
   "execution_count": 13,
   "id": "2a39b7c0-2eca-4721-8996-34dc227d3059",
   "metadata": {
    "tags": []
   },
   "outputs": [],
   "source": [
    "hyperparams = {\n",
    "    'block_size': 256,\n",
    "    'dmodel': 384,\n",
    "    'hidden_layer': 384*4,\n",
    "    'batch_size': 64,\n",
    "    'epochs': 100000\n",
    "}"
   ]
  },
  {
   "cell_type": "markdown",
   "id": "a7be8940-c155-49a3-930c-32733ec1add6",
   "metadata": {
    "id": "a7be8940-c155-49a3-930c-32733ec1add6"
   },
   "source": [
    "# Shakespeare dataset"
   ]
  },
  {
   "cell_type": "code",
   "execution_count": 4,
   "id": "45f09b2a-8b73-4355-b10b-7e0b776ebeb0",
   "metadata": {
    "id": "45f09b2a-8b73-4355-b10b-7e0b776ebeb0",
    "tags": []
   },
   "outputs": [],
   "source": [
    "# read it in to inspect it\n",
    "with open('input.txt', 'r', encoding='utf-8') as f:\n",
    "    text = f.read()"
   ]
  },
  {
   "cell_type": "code",
   "execution_count": 5,
   "id": "839ec9a0-ce0d-4d95-aefe-73a244b8c359",
   "metadata": {
    "tags": []
   },
   "outputs": [
    {
     "data": {
      "text/plain": [
       "1115394"
      ]
     },
     "execution_count": 5,
     "metadata": {},
     "output_type": "execute_result"
    }
   ],
   "source": [
    "len(text)"
   ]
  },
  {
   "cell_type": "code",
   "execution_count": 7,
   "id": "e6cc8b97-5aed-4eb1-8145-27d4fe178d0d",
   "metadata": {
    "id": "e6cc8b97-5aed-4eb1-8145-27d4fe178d0d",
    "tags": []
   },
   "outputs": [],
   "source": [
    "# other tokenizer can use \n",
    "# https://github.com/openai/tiktoken\n",
    "# https://github.com/google/sentencepiece \n",
    "\n",
    "characters = set()\n",
    "for c in text:\n",
    "    characters.add(c)\n",
    "vocab_size = len(characters)\n",
    "int_to_characters = {i: c for i, c in enumerate(characters)}\n",
    "characters_to_int = {c: i for i, c in enumerate(characters)}\n"
   ]
  },
  {
   "cell_type": "code",
   "execution_count": 7,
   "id": "cc4fd58e-d20c-44da-8ffe-dec2335df588",
   "metadata": {
    "execution": {
     "iopub.execute_input": "2025-02-19T03:43:03.704315Z",
     "iopub.status.busy": "2025-02-19T03:43:03.703684Z",
     "iopub.status.idle": "2025-02-19T03:43:05.122004Z",
     "shell.execute_reply": "2025-02-19T03:43:05.121428Z",
     "shell.execute_reply.started": "2025-02-19T03:43:03.704292Z"
    },
    "tags": []
   },
   "outputs": [],
   "source": [
    "# could also be done w torch.stack\n",
    "data = [characters_to_int[c] for c in text]\n",
    "n = int(0.9 * len(data))\n",
    "train_data = torch.tensor(data[:n], device=device)\n",
    "val_data = torch.tensor(data[n:], device=device)"
   ]
  },
  {
   "cell_type": "code",
   "execution_count": 8,
   "id": "4e93505a-ef1b-41ec-b3d7-9091472429f6",
   "metadata": {
    "execution": {
     "iopub.execute_input": "2025-02-19T03:43:06.158814Z",
     "iopub.status.busy": "2025-02-19T03:43:06.158190Z",
     "iopub.status.idle": "2025-02-19T03:43:06.162911Z",
     "shell.execute_reply": "2025-02-19T03:43:06.162410Z",
     "shell.execute_reply.started": "2025-02-19T03:43:06.158785Z"
    },
    "tags": []
   },
   "outputs": [
    {
     "data": {
      "text/plain": [
       "(torch.Size([1003854]), torch.Size([111540]))"
      ]
     },
     "execution_count": 8,
     "metadata": {},
     "output_type": "execute_result"
    }
   ],
   "source": [
    "train_data.shape, val_data.shape"
   ]
  },
  {
   "cell_type": "code",
   "execution_count": 9,
   "id": "cff5f201-ca09-4f27-b5a3-831fc8822b2c",
   "metadata": {
    "execution": {
     "iopub.execute_input": "2025-02-19T03:43:07.178112Z",
     "iopub.status.busy": "2025-02-19T03:43:07.177213Z",
     "iopub.status.idle": "2025-02-19T03:43:07.182865Z",
     "shell.execute_reply": "2025-02-19T03:43:07.182340Z",
     "shell.execute_reply.started": "2025-02-19T03:43:07.178081Z"
    },
    "tags": []
   },
   "outputs": [],
   "source": [
    "torch.manual_seed(1337)\n",
    "batch_size = hyperparams['batch_size']\n",
    "block_size = hyperparams['block_size']\n",
    "\n",
    "def get_batch(split , batch_size=batch_size):\n",
    "    data = train_data if split == 'train' else val_data\n",
    "    ix = torch.randint(0, len(data) - block_size, (batch_size,), device=device)\n",
    "    x = torch.stack([data[i:i+block_size] for i in ix])\n",
    "    y = torch.stack([data[i+1:i+block_size+1] for i in ix])\n",
    "    return x, y"
   ]
  },
  {
   "cell_type": "code",
   "execution_count": 10,
   "id": "7988cdd4-9216-4e56-9216-92702e7d0bbe",
   "metadata": {
    "execution": {
     "iopub.execute_input": "2025-02-19T03:43:09.623569Z",
     "iopub.status.busy": "2025-02-19T03:43:09.622735Z",
     "iopub.status.idle": "2025-02-19T03:43:09.664881Z",
     "shell.execute_reply": "2025-02-19T03:43:09.664334Z",
     "shell.execute_reply.started": "2025-02-19T03:43:09.623535Z"
    },
    "tags": []
   },
   "outputs": [
    {
     "data": {
      "text/plain": [
       "(torch.Size([64, 256]), torch.Size([64, 256]))"
      ]
     },
     "execution_count": 10,
     "metadata": {},
     "output_type": "execute_result"
    }
   ],
   "source": [
    "xb, yb = get_batch('train')\n",
    "xb.shape, yb.shape"
   ]
  },
  {
   "cell_type": "code",
   "execution_count": 11,
   "id": "f38e9c39-305a-4ec2-ab12-e1fd795d14de",
   "metadata": {
    "execution": {
     "iopub.execute_input": "2025-02-19T03:43:11.444607Z",
     "iopub.status.busy": "2025-02-19T03:43:11.443814Z",
     "iopub.status.idle": "2025-02-19T03:43:11.454922Z",
     "shell.execute_reply": "2025-02-19T03:43:11.454325Z",
     "shell.execute_reply.started": "2025-02-19T03:43:11.444573Z"
    },
    "tags": []
   },
   "outputs": [
    {
     "data": {
      "text/plain": [
       "(tensor([[56, 54, 12,  ..., 29, 28,  1],\n",
       "         [28, 45, 15,  ..., 39, 28, 46],\n",
       "         [39, 28, 44,  ..., 17, 31, 46],\n",
       "         ...,\n",
       "         [39,  9, 14,  ..., 17, 15, 45],\n",
       "         [28,  6, 39,  ..., 23, 45, 15],\n",
       "         [19, 53, 22,  ...,  6, 56, 45]], device='cuda:0'),\n",
       " tensor([[54, 12, 23,  ..., 28,  1,  6],\n",
       "         [45, 15, 14,  ..., 28, 46, 18],\n",
       "         [28, 44, 56,  ..., 31, 46, 23],\n",
       "         ...,\n",
       "         [ 9, 14, 56,  ..., 15, 45, 21],\n",
       "         [ 6, 39, 28,  ..., 45, 15, 64],\n",
       "         [53, 22,  8,  ..., 56, 45, 28]], device='cuda:0'))"
      ]
     },
     "execution_count": 11,
     "metadata": {},
     "output_type": "execute_result"
    }
   ],
   "source": [
    "xb, yb"
   ]
  },
  {
   "cell_type": "code",
   "execution_count": 12,
   "id": "56075dfd-892f-416a-9f79-ba0ad114a384",
   "metadata": {
    "execution": {
     "iopub.execute_input": "2025-02-19T03:43:11.967092Z",
     "iopub.status.busy": "2025-02-19T03:43:11.966408Z",
     "iopub.status.idle": "2025-02-19T03:43:11.970476Z",
     "shell.execute_reply": "2025-02-19T03:43:11.969921Z",
     "shell.execute_reply.started": "2025-02-19T03:43:11.967084Z"
    },
    "tags": []
   },
   "outputs": [
    {
     "name": "stdout",
     "output_type": "stream",
     "text": [
      "111540\n"
     ]
    }
   ],
   "source": [
    "print(len(val_data))"
   ]
  },
  {
   "cell_type": "markdown",
   "id": "e56019c9-7abd-4e5a-9a52-52f46c81911d",
   "metadata": {
    "tags": []
   },
   "source": [
    "# Transformer Architecture"
   ]
  },
  {
   "cell_type": "code",
   "execution_count": 8,
   "id": "e7e32a1f-aabc-4711-b349-de2d07df1c48",
   "metadata": {
    "tags": []
   },
   "outputs": [],
   "source": [
    "block_size = hyperparams['block_size']\n",
    "dmodel = hyperparams['dmodel']"
   ]
  },
  {
   "cell_type": "code",
   "execution_count": 9,
   "id": "2d8613e9-4956-4b38-97b8-8d175c1349f8",
   "metadata": {
    "tags": []
   },
   "outputs": [],
   "source": [
    "import torch.nn as nn\n",
    "import torch.nn.functional as F\n",
    "import math"
   ]
  },
  {
   "cell_type": "code",
   "execution_count": 10,
   "id": "d6266508-6aa5-4394-981a-f6c73734cd0d",
   "metadata": {
    "tags": []
   },
   "outputs": [
    {
     "ename": "NameError",
     "evalue": "name 'get_batch' is not defined",
     "output_type": "error",
     "traceback": [
      "\u001b[0;31m---------------------------------------------------------------------------\u001b[0m",
      "\u001b[0;31mNameError\u001b[0m                                 Traceback (most recent call last)",
      "Cell \u001b[0;32mIn[10], line 1\u001b[0m\n\u001b[0;32m----> 1\u001b[0m xb, yb \u001b[38;5;241m=\u001b[39m \u001b[43mget_batch\u001b[49m(\u001b[38;5;124m'\u001b[39m\u001b[38;5;124mtrain\u001b[39m\u001b[38;5;124m'\u001b[39m)\n\u001b[1;32m      2\u001b[0m xb\u001b[38;5;241m.\u001b[39mshape, yb\u001b[38;5;241m.\u001b[39mshape\n",
      "\u001b[0;31mNameError\u001b[0m: name 'get_batch' is not defined"
     ]
    }
   ],
   "source": [
    "xb, yb = get_batch('train')\n",
    "xb.shape, yb.shape"
   ]
  },
  {
   "cell_type": "code",
   "execution_count": 14,
   "id": "ca03f2af-eb30-4ddf-91d2-130e7d01ef9b",
   "metadata": {
    "tags": []
   },
   "outputs": [],
   "source": [
    "dmodel = hyperparams['dmodel']\n",
    "hidden_layer = hyperparams['hidden_layer']"
   ]
  },
  {
   "cell_type": "code",
   "execution_count": 15,
   "id": "e75f70ba-0ce6-4bfd-9605-60f7d518c57f",
   "metadata": {
    "tags": []
   },
   "outputs": [],
   "source": [
    "class PositionalEmbeddings(nn.Module):\n",
    "    def __init__(self, block_size, dmodel, vocab_size, device=device):\n",
    "        super().__init__()\n",
    "        positional_embeddings = torch.zeros(block_size, dmodel, device=device)\n",
    "        for pos in range(block_size):\n",
    "            for i in range(dmodel // 2):\n",
    "                denominator = 10000 ** (2 * i / dmodel)\n",
    "                positional_embeddings[pos, 2*i]   = math.sin(pos / denominator)\n",
    "                positional_embeddings[pos, 2*i+1] = math.cos(pos / denominator)\n",
    "        self.register_buffer(\"positional_embeddings\", positional_embeddings)\n",
    "        self.dmodel = dmodel\n",
    "        \n",
    "        self.embeddings = nn.Embedding(vocab_size, dmodel, device=device)\n",
    "        self.dropout = nn.Dropout(0.10)\n",
    "        \n",
    "    def forward(self, x):\n",
    "        self.out = (self.embeddings(x) + self.positional_embeddings) * math.sqrt(self.dmodel)\n",
    "        self.out = self.dropout(self.out)\n",
    "        return self.out\n",
    "\n",
    "class ResidualMLPLayer(nn.Module):\n",
    "    def __init__(self, fan_in, hidden_layer_size,device=device):\n",
    "        # output is going to be fan_in * 2\n",
    "        super().__init__()\n",
    "        self.l1 = nn.Linear(fan_in, hidden_layer_size, device=device)\n",
    "        self.relu = nn.ReLU()\n",
    "        self.l2 = nn.Linear(hidden_layer_size, fan_in, device=device)\n",
    "        self.layer_norm = nn.LayerNorm(fan_in, device=device)\n",
    "        self.dropout = nn.Dropout(p=0.10)\n",
    "    \n",
    "    def forward(self, x):\n",
    "        mlp = self.l1(x)\n",
    "        mlp = self.relu(mlp)\n",
    "        mlp = self.l2(mlp)\n",
    "        mlp = self.dropout(mlp)\n",
    "        x = x + self.layer_norm(mlp) \n",
    "        self.out = x\n",
    "        return self.out\n",
    "\n",
    "    \n",
    "class ScaledDotProductAttention(nn.Module):\n",
    "    \n",
    "    def __init__(self, fan_in, query_size = 64, value_size = 64, device=device):\n",
    "        # fan_in = embedding_dim\n",
    "        super().__init__()\n",
    "        self.query_layer = nn.Linear(fan_in, query_size, device=device)\n",
    "        self.key_layer = nn.Linear(fan_in, query_size, device=device)\n",
    "        self.value_layer = nn.Linear(fan_in, value_size, device=device)\n",
    "        self.query_size = query_size\n",
    "        self.flatten = nn.Flatten()\n",
    "        \n",
    "    def forward(self, x):\n",
    "        query = self.query_layer(x)\n",
    "        key = self.key_layer(x)\n",
    "        attention = (query @ key.transpose(2, 1)) / math.sqrt(self.query_size)\n",
    "        mask = torch.tril(torch.ones_like(attention, dtype=torch.bool))\n",
    "        masked_attention = attention.masked_fill(~mask, float('-inf'))\n",
    "        masked_attention = F.softmax(masked_attention, dim=2)\n",
    "        \n",
    "        value = self.value_layer(x)\n",
    "        x = (masked_attention @ value)\n",
    "        self.out = x\n",
    "        return self.out\n",
    "    \n",
    "class MultiHeadAttention(nn.Module):\n",
    "    \n",
    "    def __init__(self, fan_in, heads=6, query_size = 64, value_size = 64, device=device):\n",
    "        super().__init__()\n",
    "        self.value_size = value_size\n",
    "        self.heads = heads\n",
    "        self.attention_heads = nn.ModuleList([\n",
    "            ScaledDotProductAttention(fan_in, query_size, value_size, device) for _ in range(heads)])\n",
    "        self.linear = nn.Linear(value_size * heads, fan_in, device=device)\n",
    "        self.norm = nn.LayerNorm(fan_in, device=device)\n",
    "        self.dropout = nn.Dropout(p=0.20)\n",
    "        \n",
    "    def forward(self, x):\n",
    "        out = [attention_head(x) for attention_head in self.attention_heads]\n",
    "        out = torch.cat(out, dim=2)\n",
    "        out = self.linear(out)\n",
    "        out = self.dropout(out)\n",
    "        out = out + self.norm(x) \n",
    "        self.out = out\n",
    "        return self.out    \n",
    "\n",
    "class Transformer(nn.Module):\n",
    "    def __init__(self, vocab_size, dmodel, device=device):\n",
    "        super().__init__()\n",
    "        self.sequential = nn.Sequential(\n",
    "            PositionalEmbeddings(block_size, dmodel, vocab_size, device=device),\n",
    "            \n",
    "            MultiHeadAttention(dmodel),\n",
    "            ResidualMLPLayer(dmodel, hidden_layer, device=device),\n",
    "            \n",
    "            MultiHeadAttention(dmodel),\n",
    "            ResidualMLPLayer(dmodel, hidden_layer, device=device),\n",
    "            \n",
    "            MultiHeadAttention(dmodel),\n",
    "            ResidualMLPLayer(dmodel, hidden_layer, device=device),\n",
    "            \n",
    "            MultiHeadAttention(dmodel),\n",
    "            ResidualMLPLayer(dmodel, hidden_layer, device=device),\n",
    "            \n",
    "            MultiHeadAttention(dmodel),\n",
    "            ResidualMLPLayer(dmodel, hidden_layer, device=device),\n",
    "            \n",
    "            MultiHeadAttention(dmodel),\n",
    "            ResidualMLPLayer(dmodel, hidden_layer, device=device),\n",
    "            \n",
    "            nn.Linear(dmodel, vocab_size, device=device)\n",
    "        )\n",
    "        \n",
    "    def forward(self, x, targets=None):\n",
    "        logits = self.sequential(x) # B, T, C  \n",
    "        if targets is None: return logits\n",
    "        B, T, C = logits.shape\n",
    "        logits = logits.view(B*T, C)\n",
    "        target = targets.view(B*T)\n",
    "        loss = F.cross_entropy(logits, target)\n",
    "        return logits, loss\n",
    "    \n",
    "    def generate(self, idx, max_token_generated):\n",
    "        #        idx = torch.zeros((1, 1), dtype=torch.long, device=device)\n",
    "        for _ in range(max_token_generated):\n",
    "            logits = model.forward(idx[:, -block_size:])\n",
    "            logits = logits[:, -1, :]\n",
    "            probs = F.softmax(logits, dim=1)\n",
    "            pred = torch.multinomial(probs, num_samples=1)\n",
    "            idx = torch.cat((idx, pred), dim=1)\n",
    "        return idx\n",
    "        "
   ]
  },
  {
   "cell_type": "code",
   "execution_count": 16,
   "id": "321909c5-30d7-4cba-b2e3-7421f7dab324",
   "metadata": {
    "tags": []
   },
   "outputs": [
    {
     "name": "stdout",
     "output_type": "stream",
     "text": [
      "parameters = 10696769\n"
     ]
    },
    {
     "data": {
      "text/plain": [
       "Transformer(\n",
       "  (sequential): Sequential(\n",
       "    (0): PositionalEmbeddings(\n",
       "      (embeddings): Embedding(65, 384)\n",
       "      (dropout): Dropout(p=0.1, inplace=False)\n",
       "    )\n",
       "    (1): MultiHeadAttention(\n",
       "      (attention_heads): ModuleList(\n",
       "        (0-5): 6 x ScaledDotProductAttention(\n",
       "          (query_layer): Linear(in_features=384, out_features=64, bias=True)\n",
       "          (key_layer): Linear(in_features=384, out_features=64, bias=True)\n",
       "          (value_layer): Linear(in_features=384, out_features=64, bias=True)\n",
       "          (flatten): Flatten(start_dim=1, end_dim=-1)\n",
       "        )\n",
       "      )\n",
       "      (linear): Linear(in_features=384, out_features=384, bias=True)\n",
       "      (norm): LayerNorm((384,), eps=1e-05, elementwise_affine=True)\n",
       "      (dropout): Dropout(p=0.2, inplace=False)\n",
       "    )\n",
       "    (2): ResidualMLPLayer(\n",
       "      (l1): Linear(in_features=384, out_features=1536, bias=True)\n",
       "      (relu): ReLU()\n",
       "      (l2): Linear(in_features=1536, out_features=384, bias=True)\n",
       "      (layer_norm): LayerNorm((384,), eps=1e-05, elementwise_affine=True)\n",
       "      (dropout): Dropout(p=0.1, inplace=False)\n",
       "    )\n",
       "    (3): MultiHeadAttention(\n",
       "      (attention_heads): ModuleList(\n",
       "        (0-5): 6 x ScaledDotProductAttention(\n",
       "          (query_layer): Linear(in_features=384, out_features=64, bias=True)\n",
       "          (key_layer): Linear(in_features=384, out_features=64, bias=True)\n",
       "          (value_layer): Linear(in_features=384, out_features=64, bias=True)\n",
       "          (flatten): Flatten(start_dim=1, end_dim=-1)\n",
       "        )\n",
       "      )\n",
       "      (linear): Linear(in_features=384, out_features=384, bias=True)\n",
       "      (norm): LayerNorm((384,), eps=1e-05, elementwise_affine=True)\n",
       "      (dropout): Dropout(p=0.2, inplace=False)\n",
       "    )\n",
       "    (4): ResidualMLPLayer(\n",
       "      (l1): Linear(in_features=384, out_features=1536, bias=True)\n",
       "      (relu): ReLU()\n",
       "      (l2): Linear(in_features=1536, out_features=384, bias=True)\n",
       "      (layer_norm): LayerNorm((384,), eps=1e-05, elementwise_affine=True)\n",
       "      (dropout): Dropout(p=0.1, inplace=False)\n",
       "    )\n",
       "    (5): MultiHeadAttention(\n",
       "      (attention_heads): ModuleList(\n",
       "        (0-5): 6 x ScaledDotProductAttention(\n",
       "          (query_layer): Linear(in_features=384, out_features=64, bias=True)\n",
       "          (key_layer): Linear(in_features=384, out_features=64, bias=True)\n",
       "          (value_layer): Linear(in_features=384, out_features=64, bias=True)\n",
       "          (flatten): Flatten(start_dim=1, end_dim=-1)\n",
       "        )\n",
       "      )\n",
       "      (linear): Linear(in_features=384, out_features=384, bias=True)\n",
       "      (norm): LayerNorm((384,), eps=1e-05, elementwise_affine=True)\n",
       "      (dropout): Dropout(p=0.2, inplace=False)\n",
       "    )\n",
       "    (6): ResidualMLPLayer(\n",
       "      (l1): Linear(in_features=384, out_features=1536, bias=True)\n",
       "      (relu): ReLU()\n",
       "      (l2): Linear(in_features=1536, out_features=384, bias=True)\n",
       "      (layer_norm): LayerNorm((384,), eps=1e-05, elementwise_affine=True)\n",
       "      (dropout): Dropout(p=0.1, inplace=False)\n",
       "    )\n",
       "    (7): MultiHeadAttention(\n",
       "      (attention_heads): ModuleList(\n",
       "        (0-5): 6 x ScaledDotProductAttention(\n",
       "          (query_layer): Linear(in_features=384, out_features=64, bias=True)\n",
       "          (key_layer): Linear(in_features=384, out_features=64, bias=True)\n",
       "          (value_layer): Linear(in_features=384, out_features=64, bias=True)\n",
       "          (flatten): Flatten(start_dim=1, end_dim=-1)\n",
       "        )\n",
       "      )\n",
       "      (linear): Linear(in_features=384, out_features=384, bias=True)\n",
       "      (norm): LayerNorm((384,), eps=1e-05, elementwise_affine=True)\n",
       "      (dropout): Dropout(p=0.2, inplace=False)\n",
       "    )\n",
       "    (8): ResidualMLPLayer(\n",
       "      (l1): Linear(in_features=384, out_features=1536, bias=True)\n",
       "      (relu): ReLU()\n",
       "      (l2): Linear(in_features=1536, out_features=384, bias=True)\n",
       "      (layer_norm): LayerNorm((384,), eps=1e-05, elementwise_affine=True)\n",
       "      (dropout): Dropout(p=0.1, inplace=False)\n",
       "    )\n",
       "    (9): MultiHeadAttention(\n",
       "      (attention_heads): ModuleList(\n",
       "        (0-5): 6 x ScaledDotProductAttention(\n",
       "          (query_layer): Linear(in_features=384, out_features=64, bias=True)\n",
       "          (key_layer): Linear(in_features=384, out_features=64, bias=True)\n",
       "          (value_layer): Linear(in_features=384, out_features=64, bias=True)\n",
       "          (flatten): Flatten(start_dim=1, end_dim=-1)\n",
       "        )\n",
       "      )\n",
       "      (linear): Linear(in_features=384, out_features=384, bias=True)\n",
       "      (norm): LayerNorm((384,), eps=1e-05, elementwise_affine=True)\n",
       "      (dropout): Dropout(p=0.2, inplace=False)\n",
       "    )\n",
       "    (10): ResidualMLPLayer(\n",
       "      (l1): Linear(in_features=384, out_features=1536, bias=True)\n",
       "      (relu): ReLU()\n",
       "      (l2): Linear(in_features=1536, out_features=384, bias=True)\n",
       "      (layer_norm): LayerNorm((384,), eps=1e-05, elementwise_affine=True)\n",
       "      (dropout): Dropout(p=0.1, inplace=False)\n",
       "    )\n",
       "    (11): MultiHeadAttention(\n",
       "      (attention_heads): ModuleList(\n",
       "        (0-5): 6 x ScaledDotProductAttention(\n",
       "          (query_layer): Linear(in_features=384, out_features=64, bias=True)\n",
       "          (key_layer): Linear(in_features=384, out_features=64, bias=True)\n",
       "          (value_layer): Linear(in_features=384, out_features=64, bias=True)\n",
       "          (flatten): Flatten(start_dim=1, end_dim=-1)\n",
       "        )\n",
       "      )\n",
       "      (linear): Linear(in_features=384, out_features=384, bias=True)\n",
       "      (norm): LayerNorm((384,), eps=1e-05, elementwise_affine=True)\n",
       "      (dropout): Dropout(p=0.2, inplace=False)\n",
       "    )\n",
       "    (12): ResidualMLPLayer(\n",
       "      (l1): Linear(in_features=384, out_features=1536, bias=True)\n",
       "      (relu): ReLU()\n",
       "      (l2): Linear(in_features=1536, out_features=384, bias=True)\n",
       "      (layer_norm): LayerNorm((384,), eps=1e-05, elementwise_affine=True)\n",
       "      (dropout): Dropout(p=0.1, inplace=False)\n",
       "    )\n",
       "    (13): Linear(in_features=384, out_features=65, bias=True)\n",
       "  )\n",
       ")"
      ]
     },
     "execution_count": 16,
     "metadata": {},
     "output_type": "execute_result"
    }
   ],
   "source": [
    "model = Transformer(vocab_size, dmodel, device=device)\n",
    "print(f\"parameters = {sum(p.numel() for p in model.parameters())}\")\n",
    "model"
   ]
  },
  {
   "cell_type": "code",
   "execution_count": null,
   "id": "d49ae906-3d7b-4a9f-9787-2538dd1d113d",
   "metadata": {
    "execution": {
     "iopub.status.busy": "2025-02-19T04:12:08.085265Z",
     "iopub.status.idle": "2025-02-19T04:12:08.085694Z",
     "shell.execute_reply": "2025-02-19T04:12:08.085585Z",
     "shell.execute_reply.started": "2025-02-19T04:12:08.085572Z"
    }
   },
   "outputs": [],
   "source": [
    "optimizer = torch.optim.AdamW(model.parameters(), lr=0.0001)"
   ]
  },
  {
   "cell_type": "code",
   "execution_count": 20,
   "id": "92f195fb-f8af-4c09-8c92-4d33ea61e4ca",
   "metadata": {
    "execution": {
     "iopub.execute_input": "2025-02-19T03:48:12.412884Z",
     "iopub.status.busy": "2025-02-19T03:48:12.411935Z",
     "iopub.status.idle": "2025-02-19T04:12:08.082463Z",
     "shell.execute_reply": "2025-02-19T04:12:08.080477Z",
     "shell.execute_reply.started": "2025-02-19T03:48:12.412852Z"
    },
    "tags": []
   },
   "outputs": [
    {
     "name": "stdout",
     "output_type": "stream",
     "text": [
      "0: training loss = 4.4460, validation loss = 4.3093\n",
      "10: training loss = 3.4250, validation loss = 3.4812\n",
      "20: training loss = 3.3882, validation loss = 3.4097\n",
      "30: training loss = 3.3834, validation loss = 3.4038\n",
      "40: training loss = 3.3707, validation loss = 3.3780\n",
      "50: training loss = 3.3387, validation loss = 3.3556\n",
      "60: training loss = 3.3396, validation loss = 3.3752\n",
      "70: training loss = 3.3174, validation loss = 3.3846\n",
      "80: training loss = 3.3290, validation loss = 3.3988\n",
      "90: training loss = 3.3601, validation loss = 3.3678\n",
      "100: training loss = 3.3053, validation loss = 3.3367\n",
      "110: training loss = 3.2956, validation loss = 3.3513\n",
      "120: training loss = 3.2899, validation loss = 3.3242\n",
      "130: training loss = 3.2491, validation loss = 3.2617\n",
      "140: training loss = 3.1820, validation loss = 3.2368\n",
      "150: training loss = 3.1679, validation loss = 3.1936\n",
      "160: training loss = 3.1251, validation loss = 3.1454\n",
      "170: training loss = 3.0786, validation loss = 3.1106\n",
      "180: training loss = 3.0546, validation loss = 3.0641\n",
      "190: training loss = 2.9849, validation loss = 3.0409\n",
      "200: training loss = 2.9652, validation loss = 2.9711\n",
      "210: training loss = 2.9420, validation loss = 2.9436\n",
      "220: training loss = 2.8855, validation loss = 2.9352\n",
      "230: training loss = 2.8800, validation loss = 2.9071\n",
      "240: training loss = 2.8584, validation loss = 2.8708\n",
      "250: training loss = 2.8127, validation loss = 2.8669\n",
      "260: training loss = 2.8187, validation loss = 2.8263\n",
      "270: training loss = 2.8068, validation loss = 2.8641\n",
      "280: training loss = 2.7582, validation loss = 2.8066\n",
      "290: training loss = 2.7442, validation loss = 2.7657\n",
      "300: training loss = 2.7650, validation loss = 2.7565\n",
      "310: training loss = 2.7316, validation loss = 2.7486\n",
      "320: training loss = 2.7318, validation loss = 2.7561\n",
      "330: training loss = 2.7171, validation loss = 2.7252\n",
      "340: training loss = 2.7060, validation loss = 2.6976\n",
      "350: training loss = 2.6802, validation loss = 2.6936\n",
      "360: training loss = 2.6963, validation loss = 2.6920\n",
      "370: training loss = 2.6416, validation loss = 2.6902\n",
      "380: training loss = 2.6678, validation loss = 2.6857\n",
      "390: training loss = 2.6585, validation loss = 2.6487\n",
      "400: training loss = 2.6523, validation loss = 2.6574\n",
      "410: training loss = 2.6214, validation loss = 2.6331\n",
      "420: training loss = 2.6340, validation loss = 2.6319\n",
      "430: training loss = 2.6357, validation loss = 2.6558\n",
      "440: training loss = 2.6049, validation loss = 2.6151\n",
      "450: training loss = 2.6059, validation loss = 2.6146\n",
      "460: training loss = 2.5873, validation loss = 2.6195\n",
      "470: training loss = 2.5881, validation loss = 2.5963\n",
      "480: training loss = 2.5923, validation loss = 2.6067\n",
      "490: training loss = 2.5840, validation loss = 2.5986\n",
      "500: training loss = 2.5617, validation loss = 2.5819\n",
      "510: training loss = 2.5832, validation loss = 2.5871\n",
      "520: training loss = 2.5677, validation loss = 2.5868\n",
      "530: training loss = 2.5719, validation loss = 2.5600\n",
      "540: training loss = 2.5481, validation loss = 2.5726\n",
      "550: training loss = 2.5509, validation loss = 2.5660\n",
      "560: training loss = 2.5365, validation loss = 2.5351\n",
      "570: training loss = 2.5301, validation loss = 2.5409\n",
      "580: training loss = 2.4958, validation loss = 2.5375\n",
      "590: training loss = 2.5176, validation loss = 2.5124\n",
      "600: training loss = 2.4869, validation loss = 2.4814\n",
      "610: training loss = 2.5008, validation loss = 2.4991\n",
      "620: training loss = 2.4770, validation loss = 2.4753\n",
      "630: training loss = 2.4529, validation loss = 2.4562\n",
      "640: training loss = 2.4724, validation loss = 2.4740\n",
      "650: training loss = 2.4588, validation loss = 2.4456\n",
      "660: training loss = 2.4479, validation loss = 2.4694\n",
      "670: training loss = 2.4527, validation loss = 2.4558\n",
      "680: training loss = 2.4331, validation loss = 2.4418\n",
      "690: training loss = 2.4249, validation loss = 2.4424\n",
      "700: training loss = 2.4276, validation loss = 2.4249\n",
      "710: training loss = 2.4307, validation loss = 2.3973\n",
      "720: training loss = 2.3997, validation loss = 2.3786\n",
      "730: training loss = 2.4063, validation loss = 2.4215\n",
      "740: training loss = 2.3955, validation loss = 2.3926\n",
      "750: training loss = 2.3841, validation loss = 2.4169\n",
      "760: training loss = 2.3694, validation loss = 2.3901\n",
      "770: training loss = 2.3724, validation loss = 2.4089\n",
      "780: training loss = 2.3680, validation loss = 2.3780\n",
      "790: training loss = 2.3118, validation loss = 2.3555\n",
      "800: training loss = 2.3593, validation loss = 2.3397\n",
      "810: training loss = 2.3188, validation loss = 2.3373\n",
      "820: training loss = 2.3382, validation loss = 2.3481\n",
      "830: training loss = 2.3320, validation loss = 2.3209\n",
      "840: training loss = 2.2971, validation loss = 2.3308\n",
      "850: training loss = 2.3163, validation loss = 2.3181\n",
      "860: training loss = 2.3340, validation loss = 2.3093\n",
      "870: training loss = 2.2783, validation loss = 2.3231\n",
      "880: training loss = 2.3101, validation loss = 2.2931\n",
      "890: training loss = 2.2887, validation loss = 2.3269\n",
      "900: training loss = 2.2694, validation loss = 2.2848\n",
      "910: training loss = 2.2739, validation loss = 2.3172\n",
      "920: training loss = 2.2659, validation loss = 2.2771\n",
      "930: training loss = 2.2509, validation loss = 2.2736\n",
      "940: training loss = 2.2323, validation loss = 2.2696\n",
      "950: training loss = 2.2439, validation loss = 2.2604\n",
      "960: training loss = 2.2198, validation loss = 2.2585\n",
      "970: training loss = 2.2369, validation loss = 2.2151\n",
      "980: training loss = 2.2082, validation loss = 2.2386\n",
      "990: training loss = 2.1963, validation loss = 2.2284\n",
      "1000: training loss = 2.1881, validation loss = 2.2476\n",
      "1010: training loss = 2.2000, validation loss = 2.2409\n",
      "1020: training loss = 2.2086, validation loss = 2.2446\n",
      "1030: training loss = 2.1941, validation loss = 2.2305\n",
      "1040: training loss = 2.1899, validation loss = 2.2088\n",
      "1050: training loss = 2.1626, validation loss = 2.2275\n",
      "1060: training loss = 2.1556, validation loss = 2.2300\n",
      "1070: training loss = 2.1700, validation loss = 2.1651\n",
      "1080: training loss = 2.1490, validation loss = 2.1841\n",
      "1090: training loss = 2.1274, validation loss = 2.1822\n",
      "1100: training loss = 2.1426, validation loss = 2.1623\n",
      "1110: training loss = 2.1450, validation loss = 2.1717\n",
      "1120: training loss = 2.1515, validation loss = 2.1636\n",
      "1130: training loss = 2.1391, validation loss = 2.1823\n",
      "1140: training loss = 2.1145, validation loss = 2.1876\n",
      "1150: training loss = 2.1125, validation loss = 2.1874\n",
      "1160: training loss = 2.1032, validation loss = 2.1551\n",
      "1170: training loss = 2.0721, validation loss = 2.1378\n",
      "1180: training loss = 2.1057, validation loss = 2.1449\n",
      "1190: training loss = 2.1034, validation loss = 2.1280\n",
      "1200: training loss = 2.0927, validation loss = 2.1320\n",
      "1210: training loss = 2.0909, validation loss = 2.1476\n",
      "1220: training loss = 2.0709, validation loss = 2.1320\n",
      "1230: training loss = 2.0566, validation loss = 2.1196\n",
      "1240: training loss = 2.0736, validation loss = 2.1264\n",
      "1250: training loss = 2.0570, validation loss = 2.1305\n",
      "1260: training loss = 2.0583, validation loss = 2.1130\n",
      "1270: training loss = 2.0638, validation loss = 2.0932\n",
      "1280: training loss = 2.0675, validation loss = 2.0986\n",
      "1290: training loss = 2.0465, validation loss = 2.1107\n",
      "1300: training loss = 2.0274, validation loss = 2.0954\n",
      "1310: training loss = 2.0231, validation loss = 2.0801\n",
      "1320: training loss = 2.0337, validation loss = 2.0798\n",
      "1330: training loss = 2.0401, validation loss = 2.0964\n",
      "1340: training loss = 2.0352, validation loss = 2.0638\n",
      "1350: training loss = 2.0397, validation loss = 2.0861\n",
      "1360: training loss = 1.9823, validation loss = 2.0617\n",
      "1370: training loss = 2.0133, validation loss = 2.0871\n",
      "1380: training loss = 2.0169, validation loss = 2.0967\n",
      "1390: training loss = 2.0356, validation loss = 2.0510\n",
      "1400: training loss = 1.9777, validation loss = 2.0675\n",
      "1410: training loss = 2.0054, validation loss = 2.0546\n",
      "1420: training loss = 1.9664, validation loss = 2.0490\n",
      "1430: training loss = 1.9596, validation loss = 2.0488\n",
      "1440: training loss = 1.9983, validation loss = 2.0779\n",
      "1450: training loss = 1.9781, validation loss = 2.0618\n",
      "1460: training loss = 1.9649, validation loss = 2.0878\n",
      "1470: training loss = 1.9672, validation loss = 2.0383\n",
      "1480: training loss = 1.9783, validation loss = 2.0474\n",
      "1490: training loss = 1.9673, validation loss = 2.0104\n",
      "1500: training loss = 1.9483, validation loss = 2.0533\n",
      "1510: training loss = 1.9433, validation loss = 2.0357\n",
      "1520: training loss = 1.9449, validation loss = 2.0377\n",
      "1530: training loss = 1.9442, validation loss = 1.9916\n",
      "1540: training loss = 1.9214, validation loss = 1.9886\n",
      "1550: training loss = 1.9250, validation loss = 2.0278\n",
      "1560: training loss = 1.9297, validation loss = 2.0297\n",
      "1570: training loss = 1.9288, validation loss = 1.9982\n",
      "1580: training loss = 1.9179, validation loss = 2.0010\n",
      "1590: training loss = 1.9122, validation loss = 2.0181\n",
      "1600: training loss = 1.9219, validation loss = 2.0038\n",
      "1610: training loss = 1.8960, validation loss = 1.9974\n",
      "1620: training loss = 1.9002, validation loss = 2.0040\n",
      "1630: training loss = 1.9296, validation loss = 1.9912\n",
      "1640: training loss = 1.9015, validation loss = 2.0155\n",
      "1650: training loss = 1.9091, validation loss = 1.9876\n",
      "1660: training loss = 1.9104, validation loss = 2.0178\n",
      "1670: training loss = 1.9036, validation loss = 2.0267\n",
      "1680: training loss = 1.9102, validation loss = 1.9611\n",
      "1690: training loss = 1.8696, validation loss = 1.9828\n",
      "1700: training loss = 1.8812, validation loss = 1.9699\n",
      "1710: training loss = 1.8767, validation loss = 1.9716\n",
      "1720: training loss = 1.8647, validation loss = 2.0092\n",
      "1730: training loss = 1.8425, validation loss = 1.9763\n",
      "1740: training loss = 1.8724, validation loss = 1.9544\n",
      "1750: training loss = 1.8645, validation loss = 1.9836\n",
      "1760: training loss = 1.8351, validation loss = 1.9664\n",
      "1770: training loss = 1.8235, validation loss = 1.9768\n",
      "1780: training loss = 1.8495, validation loss = 2.0102\n",
      "1790: training loss = 1.8362, validation loss = 1.9719\n",
      "1800: training loss = 1.8507, validation loss = 1.9484\n",
      "1810: training loss = 1.8419, validation loss = 1.9661\n",
      "1820: training loss = 1.8446, validation loss = 1.9705\n",
      "1830: training loss = 1.8392, validation loss = 1.9768\n",
      "1840: training loss = 1.8007, validation loss = 1.9457\n",
      "1850: training loss = 1.7866, validation loss = 1.9782\n",
      "1860: training loss = 1.8452, validation loss = 1.9345\n",
      "1870: training loss = 1.8057, validation loss = 1.9662\n",
      "1880: training loss = 1.8117, validation loss = 1.9212\n",
      "1890: training loss = 1.7929, validation loss = 1.9554\n",
      "1900: training loss = 1.8390, validation loss = 1.9466\n",
      "1910: training loss = 1.8239, validation loss = 1.9427\n",
      "1920: training loss = 1.7963, validation loss = 1.9344\n",
      "1930: training loss = 1.7904, validation loss = 1.9206\n",
      "1940: training loss = 1.8008, validation loss = 1.9062\n",
      "1950: training loss = 1.8278, validation loss = 1.9028\n",
      "1960: training loss = 1.7982, validation loss = 1.8933\n",
      "1970: training loss = 1.7985, validation loss = 1.9135\n",
      "1980: training loss = 1.7872, validation loss = 1.9316\n",
      "1990: training loss = 1.8001, validation loss = 1.9078\n",
      "2000: training loss = 1.7968, validation loss = 1.9238\n",
      "2010: training loss = 1.7837, validation loss = 1.9257\n",
      "2020: training loss = 1.7770, validation loss = 1.9059\n",
      "2030: training loss = 1.7641, validation loss = 1.9095\n",
      "2040: training loss = 1.7576, validation loss = 1.9252\n",
      "2050: training loss = 1.7791, validation loss = 1.9076\n",
      "2060: training loss = 1.7965, validation loss = 1.9214\n",
      "2070: training loss = 1.7757, validation loss = 1.8967\n",
      "2080: training loss = 1.7683, validation loss = 1.9061\n",
      "2090: training loss = 1.7790, validation loss = 1.8992\n",
      "2100: training loss = 1.7549, validation loss = 1.8823\n",
      "2110: training loss = 1.7226, validation loss = 1.9218\n",
      "2120: training loss = 1.7308, validation loss = 1.8752\n",
      "2130: training loss = 1.7531, validation loss = 1.8730\n",
      "2140: training loss = 1.7320, validation loss = 1.9014\n",
      "2150: training loss = 1.7290, validation loss = 1.8804\n",
      "2160: training loss = 1.7661, validation loss = 1.9042\n",
      "2170: training loss = 1.7383, validation loss = 1.9120\n",
      "2180: training loss = 1.7246, validation loss = 1.9053\n",
      "2190: training loss = 1.7325, validation loss = 1.8740\n",
      "2200: training loss = 1.7022, validation loss = 1.8988\n",
      "2210: training loss = 1.7524, validation loss = 1.9001\n",
      "2220: training loss = 1.7256, validation loss = 1.8652\n",
      "2230: training loss = 1.7731, validation loss = 1.9032\n",
      "2240: training loss = 1.6970, validation loss = 1.9029\n",
      "2250: training loss = 1.7366, validation loss = 1.9057\n",
      "2260: training loss = 1.6939, validation loss = 1.8746\n",
      "2270: training loss = 1.6910, validation loss = 1.8768\n",
      "2280: training loss = 1.6933, validation loss = 1.9088\n",
      "2290: training loss = 1.7301, validation loss = 1.8853\n",
      "2300: training loss = 1.7069, validation loss = 1.8697\n",
      "2310: training loss = 1.6913, validation loss = 1.8600\n",
      "2320: training loss = 1.7211, validation loss = 1.8457\n",
      "2330: training loss = 1.7431, validation loss = 1.8763\n",
      "2340: training loss = 1.6986, validation loss = 1.8702\n",
      "2350: training loss = 1.7066, validation loss = 1.8436\n",
      "2360: training loss = 1.7205, validation loss = 1.8611\n",
      "2370: training loss = 1.7003, validation loss = 1.8465\n",
      "2380: training loss = 1.7160, validation loss = 1.8180\n",
      "2390: training loss = 1.6965, validation loss = 1.8505\n",
      "2400: training loss = 1.7194, validation loss = 1.8656\n",
      "2410: training loss = 1.6943, validation loss = 1.8422\n",
      "2420: training loss = 1.6831, validation loss = 1.8617\n",
      "2430: training loss = 1.6633, validation loss = 1.8503\n",
      "2440: training loss = 1.6768, validation loss = 1.8484\n",
      "2450: training loss = 1.6734, validation loss = 1.8420\n",
      "2460: training loss = 1.6759, validation loss = 1.8290\n",
      "2470: training loss = 1.7100, validation loss = 1.8628\n",
      "2480: training loss = 1.7138, validation loss = 1.8544\n",
      "2490: training loss = 1.6768, validation loss = 1.8312\n",
      "2500: training loss = 1.7031, validation loss = 1.8451\n",
      "2510: training loss = 1.6685, validation loss = 1.8195\n",
      "2520: training loss = 1.6890, validation loss = 1.8084\n",
      "2530: training loss = 1.6769, validation loss = 1.8372\n",
      "2540: training loss = 1.6753, validation loss = 1.8375\n",
      "2550: training loss = 1.6811, validation loss = 1.8367\n",
      "2560: training loss = 1.6820, validation loss = 1.8026\n",
      "2570: training loss = 1.6693, validation loss = 1.8408\n",
      "2580: training loss = 1.6675, validation loss = 1.8082\n",
      "2590: training loss = 1.6869, validation loss = 1.8158\n",
      "2600: training loss = 1.6824, validation loss = 1.8776\n",
      "2610: training loss = 1.6721, validation loss = 1.8368\n",
      "2620: training loss = 1.6570, validation loss = 1.8017\n",
      "2630: training loss = 1.6686, validation loss = 1.8232\n",
      "2640: training loss = 1.6713, validation loss = 1.8102\n",
      "2650: training loss = 1.6836, validation loss = 1.8011\n",
      "2660: training loss = 1.6554, validation loss = 1.8221\n",
      "2670: training loss = 1.6846, validation loss = 1.7799\n",
      "2680: training loss = 1.6665, validation loss = 1.8285\n",
      "2690: training loss = 1.6900, validation loss = 1.8406\n",
      "2700: training loss = 1.6817, validation loss = 1.8154\n",
      "2710: training loss = 1.6168, validation loss = 1.8248\n",
      "2720: training loss = 1.6535, validation loss = 1.7935\n",
      "2730: training loss = 1.6385, validation loss = 1.7921\n",
      "2740: training loss = 1.6254, validation loss = 1.7942\n",
      "2750: training loss = 1.6237, validation loss = 1.7833\n",
      "2760: training loss = 1.6459, validation loss = 1.8398\n",
      "2770: training loss = 1.6554, validation loss = 1.7704\n",
      "2780: training loss = 1.6303, validation loss = 1.7906\n",
      "2790: training loss = 1.6135, validation loss = 1.8267\n",
      "2800: training loss = 1.6202, validation loss = 1.7682\n",
      "2810: training loss = 1.6181, validation loss = 1.8304\n",
      "2820: training loss = 1.6167, validation loss = 1.7686\n",
      "2830: training loss = 1.6232, validation loss = 1.8095\n",
      "2840: training loss = 1.5983, validation loss = 1.7880\n",
      "2850: training loss = 1.6054, validation loss = 1.8044\n",
      "2860: training loss = 1.6465, validation loss = 1.7885\n",
      "2870: training loss = 1.6518, validation loss = 1.7990\n",
      "2880: training loss = 1.6289, validation loss = 1.8128\n",
      "2890: training loss = 1.6073, validation loss = 1.8374\n",
      "2900: training loss = 1.5833, validation loss = 1.7946\n",
      "2910: training loss = 1.6409, validation loss = 1.7681\n",
      "2920: training loss = 1.5799, validation loss = 1.7682\n",
      "2930: training loss = 1.6097, validation loss = 1.7693\n",
      "2940: training loss = 1.5920, validation loss = 1.7191\n",
      "2950: training loss = 1.6082, validation loss = 1.7681\n",
      "2960: training loss = 1.6122, validation loss = 1.7889\n",
      "2970: training loss = 1.6216, validation loss = 1.7981\n",
      "2980: training loss = 1.6003, validation loss = 1.7288\n",
      "2990: training loss = 1.5909, validation loss = 1.7536\n",
      "3000: training loss = 1.6439, validation loss = 1.7678\n",
      "3010: training loss = 1.5819, validation loss = 1.7936\n",
      "3020: training loss = 1.6065, validation loss = 1.7625\n",
      "3030: training loss = 1.6011, validation loss = 1.7921\n",
      "3040: training loss = 1.6267, validation loss = 1.7860\n",
      "3050: training loss = 1.6281, validation loss = 1.7637\n",
      "3060: training loss = 1.5875, validation loss = 1.8137\n",
      "3070: training loss = 1.5961, validation loss = 1.8198\n",
      "3080: training loss = 1.5922, validation loss = 1.7528\n",
      "3090: training loss = 1.5837, validation loss = 1.7573\n",
      "3100: training loss = 1.5707, validation loss = 1.7483\n",
      "3110: training loss = 1.5491, validation loss = 1.7704\n",
      "3120: training loss = 1.6011, validation loss = 1.7419\n",
      "3130: training loss = 1.6059, validation loss = 1.7636\n",
      "3140: training loss = 1.6042, validation loss = 1.7342\n",
      "3150: training loss = 1.5934, validation loss = 1.7564\n",
      "3160: training loss = 1.5934, validation loss = 1.7675\n",
      "3170: training loss = 1.5989, validation loss = 1.7778\n",
      "3180: training loss = 1.6056, validation loss = 1.7379\n",
      "3190: training loss = 1.5855, validation loss = 1.7197\n",
      "3200: training loss = 1.5638, validation loss = 1.7896\n",
      "3210: training loss = 1.5949, validation loss = 1.7461\n",
      "3220: training loss = 1.6146, validation loss = 1.8037\n",
      "3230: training loss = 1.5644, validation loss = 1.7377\n",
      "3240: training loss = 1.5714, validation loss = 1.7546\n",
      "3250: training loss = 1.5796, validation loss = 1.7590\n",
      "3260: training loss = 1.5944, validation loss = 1.7422\n",
      "3270: training loss = 1.5746, validation loss = 1.7682\n",
      "3280: training loss = 1.5671, validation loss = 1.7051\n",
      "3290: training loss = 1.5657, validation loss = 1.7618\n",
      "3300: training loss = 1.5764, validation loss = 1.7506\n",
      "3310: training loss = 1.5642, validation loss = 1.7174\n",
      "3320: training loss = 1.5475, validation loss = 1.7122\n",
      "3330: training loss = 1.6066, validation loss = 1.7503\n",
      "3340: training loss = 1.5601, validation loss = 1.7510\n",
      "3350: training loss = 1.5804, validation loss = 1.7244\n",
      "3360: training loss = 1.5854, validation loss = 1.7209\n",
      "3370: training loss = 1.5805, validation loss = 1.7365\n",
      "3380: training loss = 1.5497, validation loss = 1.7574\n",
      "3390: training loss = 1.5803, validation loss = 1.7526\n",
      "3400: training loss = 1.5485, validation loss = 1.7322\n",
      "3410: training loss = 1.5690, validation loss = 1.7532\n",
      "3420: training loss = 1.5904, validation loss = 1.7212\n",
      "3430: training loss = 1.5637, validation loss = 1.7292\n",
      "3440: training loss = 1.5564, validation loss = 1.7357\n",
      "3450: training loss = 1.5395, validation loss = 1.7082\n",
      "3460: training loss = 1.5732, validation loss = 1.7835\n",
      "3470: training loss = 1.5677, validation loss = 1.7758\n",
      "3480: training loss = 1.5527, validation loss = 1.7134\n",
      "3490: training loss = 1.5723, validation loss = 1.7171\n",
      "3500: training loss = 1.5579, validation loss = 1.7287\n",
      "3510: training loss = 1.5454, validation loss = 1.7505\n",
      "3520: training loss = 1.5310, validation loss = 1.7570\n",
      "3530: training loss = 1.5402, validation loss = 1.7478\n",
      "3540: training loss = 1.5444, validation loss = 1.7459\n",
      "3550: training loss = 1.5366, validation loss = 1.6974\n",
      "3560: training loss = 1.5540, validation loss = 1.7369\n",
      "3570: training loss = 1.5528, validation loss = 1.7508\n",
      "3580: training loss = 1.5342, validation loss = 1.7367\n",
      "3590: training loss = 1.5051, validation loss = 1.7558\n",
      "3600: training loss = 1.5182, validation loss = 1.7241\n",
      "3610: training loss = 1.5563, validation loss = 1.7416\n",
      "3620: training loss = 1.5633, validation loss = 1.7368\n",
      "3630: training loss = 1.5492, validation loss = 1.7030\n",
      "3640: training loss = 1.5441, validation loss = 1.7228\n",
      "3650: training loss = 1.5526, validation loss = 1.7167\n",
      "3660: training loss = 1.5061, validation loss = 1.7425\n",
      "3670: training loss = 1.5571, validation loss = 1.7318\n",
      "3680: training loss = 1.5195, validation loss = 1.7629\n",
      "3690: training loss = 1.5264, validation loss = 1.7301\n",
      "3700: training loss = 1.5539, validation loss = 1.7126\n",
      "3710: training loss = 1.5174, validation loss = 1.7334\n",
      "3720: training loss = 1.5312, validation loss = 1.7109\n",
      "3730: training loss = 1.5328, validation loss = 1.6926\n",
      "3740: training loss = 1.5363, validation loss = 1.7035\n",
      "3750: training loss = 1.5107, validation loss = 1.7289\n",
      "3760: training loss = 1.5391, validation loss = 1.6859\n",
      "3770: training loss = 1.5124, validation loss = 1.7068\n",
      "3780: training loss = 1.5198, validation loss = 1.7123\n",
      "3790: training loss = 1.5586, validation loss = 1.6988\n",
      "3800: training loss = 1.5096, validation loss = 1.7136\n",
      "3810: training loss = 1.5138, validation loss = 1.6798\n",
      "3820: training loss = 1.5083, validation loss = 1.7433\n",
      "3830: training loss = 1.5474, validation loss = 1.7250\n",
      "3840: training loss = 1.5366, validation loss = 1.7242\n",
      "3850: training loss = 1.5191, validation loss = 1.7212\n",
      "3860: training loss = 1.5072, validation loss = 1.7251\n",
      "3870: training loss = 1.5298, validation loss = 1.6923\n",
      "3880: training loss = 1.5519, validation loss = 1.7061\n",
      "3890: training loss = 1.5595, validation loss = 1.6892\n",
      "3900: training loss = 1.5266, validation loss = 1.7522\n",
      "3910: training loss = 1.5204, validation loss = 1.7025\n",
      "3920: training loss = 1.5541, validation loss = 1.7014\n",
      "3930: training loss = 1.5273, validation loss = 1.7069\n",
      "3940: training loss = 1.5295, validation loss = 1.7287\n",
      "3950: training loss = 1.5344, validation loss = 1.7175\n",
      "3960: training loss = 1.4954, validation loss = 1.6916\n",
      "3970: training loss = 1.5185, validation loss = 1.7186\n",
      "3980: training loss = 1.5359, validation loss = 1.7122\n",
      "3990: training loss = 1.4793, validation loss = 1.6692\n",
      "4000: training loss = 1.5374, validation loss = 1.7363\n",
      "4010: training loss = 1.4981, validation loss = 1.6869\n",
      "4020: training loss = 1.5056, validation loss = 1.7067\n",
      "4030: training loss = 1.4938, validation loss = 1.7131\n",
      "4040: training loss = 1.5028, validation loss = 1.6963\n",
      "4050: training loss = 1.5228, validation loss = 1.6852\n",
      "4060: training loss = 1.4990, validation loss = 1.6606\n",
      "4070: training loss = 1.5244, validation loss = 1.7402\n",
      "4080: training loss = 1.4642, validation loss = 1.6802\n",
      "4090: training loss = 1.4879, validation loss = 1.7262\n",
      "4100: training loss = 1.4873, validation loss = 1.7055\n",
      "4110: training loss = 1.5174, validation loss = 1.7358\n",
      "4120: training loss = 1.4907, validation loss = 1.6765\n",
      "4130: training loss = 1.4801, validation loss = 1.6797\n",
      "4140: training loss = 1.5191, validation loss = 1.7084\n",
      "4150: training loss = 1.4738, validation loss = 1.7037\n",
      "4160: training loss = 1.5144, validation loss = 1.6644\n",
      "4170: training loss = 1.4915, validation loss = 1.6760\n",
      "4180: training loss = 1.5104, validation loss = 1.6988\n",
      "4190: training loss = 1.5031, validation loss = 1.7167\n",
      "4200: training loss = 1.5010, validation loss = 1.7192\n",
      "4210: training loss = 1.4858, validation loss = 1.6760\n",
      "4220: training loss = 1.4907, validation loss = 1.6547\n",
      "4230: training loss = 1.5043, validation loss = 1.6618\n",
      "4240: training loss = 1.4845, validation loss = 1.6514\n",
      "4250: training loss = 1.4883, validation loss = 1.6702\n",
      "4260: training loss = 1.4877, validation loss = 1.6586\n",
      "4270: training loss = 1.5212, validation loss = 1.6941\n",
      "4280: training loss = 1.4486, validation loss = 1.7364\n",
      "4290: training loss = 1.5249, validation loss = 1.7025\n",
      "4300: training loss = 1.4721, validation loss = 1.6760\n",
      "4310: training loss = 1.4836, validation loss = 1.6978\n",
      "4320: training loss = 1.4772, validation loss = 1.7042\n",
      "4330: training loss = 1.4918, validation loss = 1.6844\n",
      "4340: training loss = 1.4761, validation loss = 1.6751\n",
      "4350: training loss = 1.4961, validation loss = 1.7134\n",
      "4360: training loss = 1.4641, validation loss = 1.6858\n",
      "4370: training loss = 1.4369, validation loss = 1.6769\n",
      "4380: training loss = 1.4698, validation loss = 1.6924\n",
      "4390: training loss = 1.4702, validation loss = 1.6631\n",
      "4400: training loss = 1.4925, validation loss = 1.6873\n",
      "4410: training loss = 1.4624, validation loss = 1.6775\n",
      "4420: training loss = 1.4717, validation loss = 1.6846\n",
      "4430: training loss = 1.4922, validation loss = 1.6766\n",
      "4440: training loss = 1.4648, validation loss = 1.7201\n",
      "4450: training loss = 1.4976, validation loss = 1.6947\n",
      "4460: training loss = 1.4940, validation loss = 1.6886\n",
      "4470: training loss = 1.5189, validation loss = 1.6385\n",
      "4480: training loss = 1.4805, validation loss = 1.6367\n",
      "4490: training loss = 1.5225, validation loss = 1.6701\n",
      "4500: training loss = 1.4813, validation loss = 1.6857\n",
      "4510: training loss = 1.4739, validation loss = 1.6730\n",
      "4520: training loss = 1.4602, validation loss = 1.6727\n",
      "4530: training loss = 1.4477, validation loss = 1.6208\n",
      "4540: training loss = 1.5157, validation loss = 1.6618\n",
      "4550: training loss = 1.4758, validation loss = 1.7062\n",
      "4560: training loss = 1.4816, validation loss = 1.6214\n",
      "4570: training loss = 1.4852, validation loss = 1.6349\n",
      "4580: training loss = 1.4825, validation loss = 1.6189\n",
      "4590: training loss = 1.4676, validation loss = 1.6972\n",
      "4600: training loss = 1.4865, validation loss = 1.7157\n",
      "4610: training loss = 1.4995, validation loss = 1.6389\n",
      "4620: training loss = 1.4518, validation loss = 1.6836\n",
      "4630: training loss = 1.4804, validation loss = 1.6205\n",
      "4640: training loss = 1.5058, validation loss = 1.6936\n",
      "4650: training loss = 1.4774, validation loss = 1.6379\n",
      "4660: training loss = 1.4899, validation loss = 1.6640\n",
      "4670: training loss = 1.4790, validation loss = 1.6731\n",
      "4680: training loss = 1.4250, validation loss = 1.6790\n",
      "4690: training loss = 1.4727, validation loss = 1.7095\n",
      "4700: training loss = 1.4887, validation loss = 1.6388\n",
      "4710: training loss = 1.4629, validation loss = 1.6589\n",
      "4720: training loss = 1.4802, validation loss = 1.6216\n",
      "4730: training loss = 1.4804, validation loss = 1.6574\n",
      "4740: training loss = 1.4813, validation loss = 1.6535\n",
      "4750: training loss = 1.4731, validation loss = 1.6467\n",
      "4760: training loss = 1.4931, validation loss = 1.6652\n",
      "4770: training loss = 1.4745, validation loss = 1.6738\n",
      "4780: training loss = 1.4903, validation loss = 1.6759\n",
      "4790: training loss = 1.4518, validation loss = 1.7224\n",
      "4800: training loss = 1.4619, validation loss = 1.7150\n",
      "4810: training loss = 1.4587, validation loss = 1.6724\n",
      "4820: training loss = 1.5053, validation loss = 1.6424\n",
      "4830: training loss = 1.4693, validation loss = 1.6466\n",
      "4840: training loss = 1.4424, validation loss = 1.6847\n",
      "4850: training loss = 1.4471, validation loss = 1.6464\n",
      "4860: training loss = 1.4822, validation loss = 1.6852\n",
      "4870: training loss = 1.4648, validation loss = 1.6530\n",
      "4880: training loss = 1.4609, validation loss = 1.6731\n",
      "4890: training loss = 1.4405, validation loss = 1.6081\n",
      "4900: training loss = 1.4455, validation loss = 1.7372\n",
      "4910: training loss = 1.4681, validation loss = 1.7064\n",
      "4920: training loss = 1.4508, validation loss = 1.6768\n",
      "4930: training loss = 1.4267, validation loss = 1.6451\n",
      "4940: training loss = 1.4347, validation loss = 1.6544\n",
      "4950: training loss = 1.4380, validation loss = 1.6409\n",
      "4960: training loss = 1.4618, validation loss = 1.6655\n",
      "4970: training loss = 1.4280, validation loss = 1.6987\n",
      "4980: training loss = 1.4461, validation loss = 1.6307\n",
      "4990: training loss = 1.4105, validation loss = 1.6506\n",
      "5000: training loss = 1.4940, validation loss = 1.6465\n",
      "5010: training loss = 1.4568, validation loss = 1.6686\n",
      "5020: training loss = 1.4557, validation loss = 1.6612\n",
      "5030: training loss = 1.4469, validation loss = 1.6908\n",
      "5040: training loss = 1.4586, validation loss = 1.6462\n",
      "5050: training loss = 1.4552, validation loss = 1.6734\n",
      "5060: training loss = 1.4557, validation loss = 1.6804\n",
      "5070: training loss = 1.4764, validation loss = 1.6275\n",
      "5080: training loss = 1.4383, validation loss = 1.6793\n",
      "5090: training loss = 1.4209, validation loss = 1.6418\n",
      "5100: training loss = 1.4643, validation loss = 1.6317\n",
      "5110: training loss = 1.4267, validation loss = 1.7008\n",
      "5120: training loss = 1.4750, validation loss = 1.6655\n",
      "5130: training loss = 1.4267, validation loss = 1.6727\n",
      "5140: training loss = 1.4306, validation loss = 1.6439\n",
      "5150: training loss = 1.4454, validation loss = 1.6383\n",
      "5160: training loss = 1.4494, validation loss = 1.6499\n",
      "5170: training loss = 1.4332, validation loss = 1.6338\n",
      "5180: training loss = 1.4307, validation loss = 1.6754\n",
      "5190: training loss = 1.4678, validation loss = 1.6261\n",
      "5200: training loss = 1.4656, validation loss = 1.6210\n",
      "5210: training loss = 1.4555, validation loss = 1.6956\n",
      "5220: training loss = 1.4562, validation loss = 1.6974\n",
      "5230: training loss = 1.4486, validation loss = 1.6713\n",
      "5240: training loss = 1.4537, validation loss = 1.6149\n",
      "5250: training loss = 1.4685, validation loss = 1.6449\n",
      "5260: training loss = 1.4322, validation loss = 1.6691\n",
      "5270: training loss = 1.4348, validation loss = 1.6394\n",
      "5280: training loss = 1.4437, validation loss = 1.6395\n",
      "5290: training loss = 1.4391, validation loss = 1.6437\n",
      "5300: training loss = 1.4393, validation loss = 1.6470\n",
      "5310: training loss = 1.4294, validation loss = 1.5977\n",
      "5320: training loss = 1.4277, validation loss = 1.6680\n",
      "5330: training loss = 1.4440, validation loss = 1.6384\n",
      "5340: training loss = 1.4178, validation loss = 1.6424\n",
      "5350: training loss = 1.4358, validation loss = 1.6640\n",
      "5360: training loss = 1.4175, validation loss = 1.6498\n",
      "5370: training loss = 1.4370, validation loss = 1.6260\n",
      "5380: training loss = 1.4372, validation loss = 1.6945\n",
      "5390: training loss = 1.4307, validation loss = 1.6374\n",
      "5400: training loss = 1.4292, validation loss = 1.6746\n",
      "5410: training loss = 1.4172, validation loss = 1.6355\n",
      "5420: training loss = 1.4463, validation loss = 1.6538\n",
      "5430: training loss = 1.4097, validation loss = 1.6035\n",
      "5440: training loss = 1.4012, validation loss = 1.6007\n",
      "5450: training loss = 1.4423, validation loss = 1.6272\n",
      "5460: training loss = 1.4312, validation loss = 1.6281\n",
      "5470: training loss = 1.4520, validation loss = 1.6332\n",
      "5480: training loss = 1.4340, validation loss = 1.6054\n",
      "5490: training loss = 1.3863, validation loss = 1.6520\n",
      "5500: training loss = 1.4072, validation loss = 1.6504\n",
      "5510: training loss = 1.3774, validation loss = 1.6291\n",
      "5520: training loss = 1.4378, validation loss = 1.6109\n",
      "5530: training loss = 1.4403, validation loss = 1.6597\n",
      "5540: training loss = 1.4017, validation loss = 1.6439\n",
      "5550: training loss = 1.4620, validation loss = 1.6427\n",
      "5560: training loss = 1.4449, validation loss = 1.6408\n",
      "5570: training loss = 1.3991, validation loss = 1.6257\n",
      "5580: training loss = 1.4252, validation loss = 1.5893\n",
      "5590: training loss = 1.4268, validation loss = 1.6216\n",
      "5600: training loss = 1.4348, validation loss = 1.6463\n",
      "5610: training loss = 1.4386, validation loss = 1.6684\n"
     ]
    },
    {
     "ename": "KeyboardInterrupt",
     "evalue": "",
     "output_type": "error",
     "traceback": [
      "\u001b[0;31m---------------------------------------------------------------------------\u001b[0m",
      "\u001b[0;31mKeyboardInterrupt\u001b[0m                         Traceback (most recent call last)",
      "Cell \u001b[0;32mIn[20], line 17\u001b[0m\n\u001b[1;32m     15\u001b[0m \u001b[38;5;66;03m# backward\u001b[39;00m\n\u001b[1;32m     16\u001b[0m optimizer\u001b[38;5;241m.\u001b[39mzero_grad()\n\u001b[0;32m---> 17\u001b[0m \u001b[43mloss\u001b[49m\u001b[38;5;241;43m.\u001b[39;49m\u001b[43mbackward\u001b[49m\u001b[43m(\u001b[49m\u001b[43m)\u001b[49m\n\u001b[1;32m     19\u001b[0m \u001b[38;5;66;03m# update\u001b[39;00m\n\u001b[1;32m     20\u001b[0m optimizer\u001b[38;5;241m.\u001b[39mstep()\n",
      "File \u001b[0;32m/usr/local/lib/python3.11/dist-packages/torch/_tensor.py:492\u001b[0m, in \u001b[0;36mTensor.backward\u001b[0;34m(self, gradient, retain_graph, create_graph, inputs)\u001b[0m\n\u001b[1;32m    482\u001b[0m \u001b[38;5;28;01mif\u001b[39;00m has_torch_function_unary(\u001b[38;5;28mself\u001b[39m):\n\u001b[1;32m    483\u001b[0m     \u001b[38;5;28;01mreturn\u001b[39;00m handle_torch_function(\n\u001b[1;32m    484\u001b[0m         Tensor\u001b[38;5;241m.\u001b[39mbackward,\n\u001b[1;32m    485\u001b[0m         (\u001b[38;5;28mself\u001b[39m,),\n\u001b[0;32m   (...)\u001b[0m\n\u001b[1;32m    490\u001b[0m         inputs\u001b[38;5;241m=\u001b[39minputs,\n\u001b[1;32m    491\u001b[0m     )\n\u001b[0;32m--> 492\u001b[0m \u001b[43mtorch\u001b[49m\u001b[38;5;241;43m.\u001b[39;49m\u001b[43mautograd\u001b[49m\u001b[38;5;241;43m.\u001b[39;49m\u001b[43mbackward\u001b[49m\u001b[43m(\u001b[49m\n\u001b[1;32m    493\u001b[0m \u001b[43m    \u001b[49m\u001b[38;5;28;43mself\u001b[39;49m\u001b[43m,\u001b[49m\u001b[43m \u001b[49m\u001b[43mgradient\u001b[49m\u001b[43m,\u001b[49m\u001b[43m \u001b[49m\u001b[43mretain_graph\u001b[49m\u001b[43m,\u001b[49m\u001b[43m \u001b[49m\u001b[43mcreate_graph\u001b[49m\u001b[43m,\u001b[49m\u001b[43m \u001b[49m\u001b[43minputs\u001b[49m\u001b[38;5;241;43m=\u001b[39;49m\u001b[43minputs\u001b[49m\n\u001b[1;32m    494\u001b[0m \u001b[43m\u001b[49m\u001b[43m)\u001b[49m\n",
      "File \u001b[0;32m/usr/local/lib/python3.11/dist-packages/torch/autograd/__init__.py:251\u001b[0m, in \u001b[0;36mbackward\u001b[0;34m(tensors, grad_tensors, retain_graph, create_graph, grad_variables, inputs)\u001b[0m\n\u001b[1;32m    246\u001b[0m     retain_graph \u001b[38;5;241m=\u001b[39m create_graph\n\u001b[1;32m    248\u001b[0m \u001b[38;5;66;03m# The reason we repeat the same comment below is that\u001b[39;00m\n\u001b[1;32m    249\u001b[0m \u001b[38;5;66;03m# some Python versions print out the first line of a multi-line function\u001b[39;00m\n\u001b[1;32m    250\u001b[0m \u001b[38;5;66;03m# calls in the traceback and some print out the last line\u001b[39;00m\n\u001b[0;32m--> 251\u001b[0m \u001b[43mVariable\u001b[49m\u001b[38;5;241;43m.\u001b[39;49m\u001b[43m_execution_engine\u001b[49m\u001b[38;5;241;43m.\u001b[39;49m\u001b[43mrun_backward\u001b[49m\u001b[43m(\u001b[49m\u001b[43m  \u001b[49m\u001b[38;5;66;43;03m# Calls into the C++ engine to run the backward pass\u001b[39;49;00m\n\u001b[1;32m    252\u001b[0m \u001b[43m    \u001b[49m\u001b[43mtensors\u001b[49m\u001b[43m,\u001b[49m\n\u001b[1;32m    253\u001b[0m \u001b[43m    \u001b[49m\u001b[43mgrad_tensors_\u001b[49m\u001b[43m,\u001b[49m\n\u001b[1;32m    254\u001b[0m \u001b[43m    \u001b[49m\u001b[43mretain_graph\u001b[49m\u001b[43m,\u001b[49m\n\u001b[1;32m    255\u001b[0m \u001b[43m    \u001b[49m\u001b[43mcreate_graph\u001b[49m\u001b[43m,\u001b[49m\n\u001b[1;32m    256\u001b[0m \u001b[43m    \u001b[49m\u001b[43minputs\u001b[49m\u001b[43m,\u001b[49m\n\u001b[1;32m    257\u001b[0m \u001b[43m    \u001b[49m\u001b[43mallow_unreachable\u001b[49m\u001b[38;5;241;43m=\u001b[39;49m\u001b[38;5;28;43;01mTrue\u001b[39;49;00m\u001b[43m,\u001b[49m\n\u001b[1;32m    258\u001b[0m \u001b[43m    \u001b[49m\u001b[43maccumulate_grad\u001b[49m\u001b[38;5;241;43m=\u001b[39;49m\u001b[38;5;28;43;01mTrue\u001b[39;49;00m\u001b[43m,\u001b[49m\n\u001b[1;32m    259\u001b[0m \u001b[43m\u001b[49m\u001b[43m)\u001b[49m\n",
      "\u001b[0;31mKeyboardInterrupt\u001b[0m: "
     ]
    }
   ],
   "source": [
    "epochs = 300000\n",
    "lossi, vlossi = [], []\n",
    "#lossi = []\n",
    "\n",
    "optimizer = torch.optim.AdamW(model.parameters(), lr=0.0001)\n",
    "\n",
    "#xval, yval = get_batch('val', batch_size=len(val_data))\n",
    "\n",
    "for epoch in range(epochs):\n",
    "    # forward\n",
    "    xb, yb = get_batch('train')\n",
    "    logits, loss = model(xb, targets=yb)\n",
    "    lossi.append(loss.item())\n",
    "    \n",
    "    # backward\n",
    "    optimizer.zero_grad()\n",
    "    loss.backward()\n",
    "    \n",
    "    # update\n",
    "    optimizer.step()\n",
    "    \n",
    "    if epoch % 10 == 0:\n",
    "        \n",
    "        with torch.no_grad():\n",
    "            _vloss = []\n",
    "            for _ in range(1):\n",
    "                xval, yval = get_batch('val')\n",
    "                _, vloss = model(xval, yval)\n",
    "                _vloss.append(vloss.item())\n",
    "            vloss = sum(_vloss)/len(_vloss)\n",
    "            vlossi.append(vloss)\n",
    "            print(f\"{epoch}: training loss = {loss.item():.4f}, validation loss = {vloss:.4f}\")\n",
    "    \n",
    "    if epoch % 3000 == 0:\n",
    "                # Create a checkpoint dictionary\n",
    "        checkpoint = {\n",
    "            'epoch': epoch,\n",
    "            'model_state_dict': model.state_dict(),\n",
    "            'optimizer_state_dict': optimizer.state_dict(),\n",
    "            'loss': lossi,\n",
    "            'vloss': vlossi,\n",
    "        }\n",
    "\n",
    "        # Save the checkpoint to a file\n",
    "        torch.save(checkpoint, f'model_checkpoint_18_Feb_A__{epoch}.pth')\n",
    "            \n",
    "# 400: training loss = 2.1767, validation loss = 2.2318, 1 block @ 3000\n",
    "# 400: training loss = 2.0470, validation loss = 2.1139, 2 blocks @ 6355\n",
    "# 400: training loss = 2.0035, validation loss = 2.0857, 3 blocks @ 9435\n",
    "\n",
    "#50: training loss = 2.7914, validation loss = 2.7903\n",
    "#100: training loss = 2.4451, validation loss = 2.4911\n",
    "\n",
    "# 50: training loss = 2.7557, validation loss = 2.7672\n",
    "# 100: training loss = 2.5206, validation loss = 2.5144\n"
   ]
  },
  {
   "cell_type": "code",
   "execution_count": 21,
   "id": "6117c883-526b-44d3-891a-e96fccb2b16c",
   "metadata": {
    "tags": []
   },
   "outputs": [
    {
     "name": "stdout",
     "output_type": "stream",
     "text": [
      "validation loss estimation:\n",
      "0 tensor(2.9898, device='cuda:0')\n",
      "3 tensor(2.9936, device='cuda:0')\n",
      "6 tensor(2.9856, device='cuda:0')\n",
      "9 tensor(2.9844, device='cuda:0')\n",
      "12 tensor(2.9940, device='cuda:0')\n",
      "15 tensor(2.9878, device='cuda:0')\n",
      "18 tensor(2.9857, device='cuda:0')\n",
      "21 tensor(2.9897, device='cuda:0')\n",
      "24 tensor(2.9900, device='cuda:0')\n",
      "27 tensor(2.9904, device='cuda:0')\n",
      "30 tensor(2.9842, device='cuda:0')\n",
      "33 tensor(2.9861, device='cuda:0')\n",
      "36 tensor(2.9997, device='cuda:0')\n",
      "39 tensor(2.9931, device='cuda:0')\n",
      "final validation loss = 2.9896\n"
     ]
    }
   ],
   "source": [
    "with torch.no_grad():\n",
    "    print(\"validation loss estimation:\")\n",
    "    _vloss = []\n",
    "    for i in range(40):\n",
    "        xval, yval = get_batch('val')\n",
    "        _, vloss = model(xval, yval)\n",
    "        if i % 3 == 0:\n",
    "            print(i, vloss)\n",
    "        _vloss.append(vloss.item())\n",
    "    vloss = sum(_vloss)/len(_vloss)\n",
    "    vlossi.append(vloss)\n",
    "    print(f\"final validation loss = {vloss:.4f}\")\n"
   ]
  },
  {
   "cell_type": "code",
   "execution_count": 75,
   "id": "27c35819-6644-416a-9520-291425178d01",
   "metadata": {
    "tags": []
   },
   "outputs": [],
   "source": [
    "lossi = torch.tensor(lossi)"
   ]
  },
  {
   "cell_type": "code",
   "execution_count": 55,
   "id": "0d5e62c3-215d-47e8-a300-8ebb8dfee6bc",
   "metadata": {
    "tags": []
   },
   "outputs": [
    {
     "data": {
      "text/plain": [
       "tensor([4.3813, 3.9307, 3.7873, 3.7180, 3.6793, 3.6515, 3.6358, 3.6093, 3.5846,\n",
       "        3.5605, 3.5343, 3.5132, 3.4819, 3.4558, 3.4302, 3.4002, 3.3750, 3.3514,\n",
       "        3.3232, 3.3098, 3.2920, 3.2759, 3.2607, 3.2409, 3.2119, 3.2049, 3.1797,\n",
       "        3.1678, 3.1580, 3.1413, 3.1152, 3.1033, 3.0876, 3.0758, 3.0551, 3.0437,\n",
       "        3.0330, 3.0152, 3.0094, 2.9874, 2.9855, 2.9751, 2.9640, 2.9399, 2.9302,\n",
       "        2.9260, 2.9165, 2.9054, 2.8906, 2.8835, 2.8693, 2.8682, 2.8541, 2.8477,\n",
       "        2.8370, 2.8273, 2.8247, 2.8145, 2.8002, 2.7967, 2.7884, 2.7848, 2.7748,\n",
       "        2.7709, 2.7527, 2.7497, 2.7496, 2.7378, 2.7248, 2.7175, 2.7140, 2.7122,\n",
       "        2.7077, 2.6968, 2.6910, 2.6789, 2.6776, 2.6722, 2.6638, 2.6570, 2.6593,\n",
       "        2.6494, 2.6392, 2.6394, 2.6299, 2.6280, 2.6256, 2.6203, 2.6176, 2.6027,\n",
       "        2.6055, 2.5973, 2.6016, 2.5926, 2.5831, 2.5836, 2.5808, 2.5673, 2.5659,\n",
       "        2.5624, 2.5662, 2.5531, 2.5490, 2.5429])"
      ]
     },
     "execution_count": 55,
     "metadata": {},
     "output_type": "execute_result"
    }
   ],
   "source": [
    "lossi"
   ]
  },
  {
   "cell_type": "code",
   "execution_count": 24,
   "id": "4e1f0a68-50a4-4632-85c2-7fd93e2902c6",
   "metadata": {
    "execution": {
     "iopub.execute_input": "2025-02-19T04:12:46.870202Z",
     "iopub.status.busy": "2025-02-19T04:12:46.869182Z",
     "iopub.status.idle": "2025-02-19T04:12:46.875243Z",
     "shell.execute_reply": "2025-02-19T04:12:46.874560Z",
     "shell.execute_reply.started": "2025-02-19T04:12:46.870169Z"
    }
   },
   "outputs": [],
   "source": [
    "lossi = torch.tensor(lossi)"
   ]
  },
  {
   "cell_type": "code",
   "execution_count": 25,
   "id": "8d02a487-35bc-4068-bb1b-23cb3c18c0d3",
   "metadata": {
    "execution": {
     "iopub.execute_input": "2025-02-19T04:12:47.497679Z",
     "iopub.status.busy": "2025-02-19T04:12:47.496934Z",
     "iopub.status.idle": "2025-02-19T04:12:47.716470Z",
     "shell.execute_reply": "2025-02-19T04:12:47.715670Z",
     "shell.execute_reply.started": "2025-02-19T04:12:47.497647Z"
    },
    "tags": []
   },
   "outputs": [
    {
     "data": {
      "image/png": "[encoded data removed]",
      "text/plain": [
       "<Figure size 1000x600 with 1 Axes>"
      ]
     },
     "metadata": {},
     "output_type": "display_data"
    }
   ],
   "source": [
    "import torch\n",
    "from matplotlib import pyplot as plt\n",
    "\n",
    "# Assuming lossi and vlossi are PyTorch tensors.\n",
    "# Calculate block size based on the length of vlossi:\n",
    "plot_dim = len(vlossi) * 1\n",
    "\n",
    "# Compute the averaged training loss:\n",
    "#   1. Compute how many complete blocks of length plot_dim fit in lossi.\n",
    "#   2. Slice lossi to that many elements.\n",
    "#   3. Reshape into (plot_dim, -1) so that each column is one block.\n",
    "#   4. Take the mean across each row.\n",
    "avg_loss = lossi[:plot_dim * (lossi.numel() // plot_dim)].view(plot_dim, -1).mean(1)\n",
    "\n",
    "# Convert tensors to numpy arrays for plotting.\n",
    "avg_loss_np = avg_loss.cpu().numpy() if avg_loss.is_cuda else avg_loss.numpy()\n",
    "vlossi_np = vlossi.cpu().numpy() if torch.is_tensor(vlossi) and vlossi.is_cuda else (vlossi.numpy() if torch.is_tensor(vlossi) else vlossi)\n",
    "\n",
    "# Create x-axis for validation loss: assuming each validation loss corresponds to every 2 steps.\n",
    "x_val = [i * 1 for i in range(len(vlossi_np))]\n",
    "\n",
    "plt.figure(figsize=(10, 6))\n",
    "plt.plot(avg_loss_np, label='Training Loss (Block Averaged)')\n",
    "plt.plot(x_val, vlossi_np, label='Validation Loss')\n",
    "plt.xlabel('Iteration (scaled)')\n",
    "plt.ylabel('Loss')\n",
    "plt.title('Training and Validation Loss')\n",
    "plt.legend()\n",
    "plt.show()\n"
   ]
  },
  {
   "cell_type": "code",
   "execution_count": 283,
   "id": "d679ae3f-6274-4202-bbfb-f7022eed9967",
   "metadata": {
    "tags": []
   },
   "outputs": [
    {
     "data": {
      "image/png": "[encoded data removed]",
      "text/plain": [
       "<Figure size 1000x600 with 1 Axes>"
      ]
     },
     "metadata": {},
     "output_type": "display_data"
    }
   ],
   "source": [
    "plot_dim = len(vlossi2) * 19\n",
    "\n",
    "# Compute mean loss values for plotting\n",
    "lossi_mean = lossi[:plot_dim * (lossi.numel() // plot_dim)].view((plot_dim, -1)).mean(1)\n",
    "lossi2_mean = lossi2[:plot_dim * (lossi.numel() // plot_dim)].view((plot_dim, -1)).mean(1)\n",
    "\n",
    "from matplotlib import pyplot as plt\n",
    "\n",
    "plt.figure(figsize=(10, 6))\n",
    "plt.plot(lossi_mean, label=\"Multihead Attention Loss\")\n",
    "plt.plot(lossi2_mean, label=\"MLP Only Loss\")\n",
    "plt.title(\"Loss Comparison: Multihead Attention vs MLP Only\")\n",
    "plt.xlabel(\"Epoch (scaled)\")\n",
    "plt.ylabel(\"Loss\")\n",
    "plt.legend()\n",
    "plt.show()"
   ]
  },
  {
   "cell_type": "code",
   "execution_count": 184,
   "id": "3d28dc5c-a6b9-4aca-9f45-66c39dd6fee2",
   "metadata": {
    "tags": []
   },
   "outputs": [
    {
     "name": "stderr",
     "output_type": "stream",
     "text": [
      "2025-02-18 05:14:50.468878: E external/local_xla/xla/stream_executor/cuda/cuda_dnn.cc:9261] Unable to register cuDNN factory: Attempting to register factory for plugin cuDNN when one has already been registered\n",
      "2025-02-18 05:14:50.469054: E external/local_xla/xla/stream_executor/cuda/cuda_fft.cc:607] Unable to register cuFFT factory: Attempting to register factory for plugin cuFFT when one has already been registered\n",
      "2025-02-18 05:14:50.532058: E external/local_xla/xla/stream_executor/cuda/cuda_blas.cc:1515] Unable to register cuBLAS factory: Attempting to register factory for plugin cuBLAS when one has already been registered\n",
      "2025-02-18 05:14:50.672882: I tensorflow/core/platform/cpu_feature_guard.cc:182] This TensorFlow binary is optimized to use available CPU instructions in performance-critical operations.\n",
      "To enable the following instructions: AVX2 FMA, in other operations, rebuild TensorFlow with the appropriate compiler flags.\n",
      "2025-02-18 05:14:52.873732: W tensorflow/compiler/tf2tensorrt/utils/py_utils.cc:38] TF-TRT Warning: Could not find TensorRT\n"
     ]
    }
   ],
   "source": [
    "from torch.utils.tensorboard import SummaryWriter\n",
    "import torch\n",
    "\n",
    "xb, yb = get_batch('train')\n",
    "\n",
    "# Assume you have your model defined, e.g.:\n",
    "# model = MyModel(...)\n",
    "\n",
    "# Create a SummaryWriter instance\n",
    "writer = SummaryWriter(log_dir=\"logs\")\n",
    "\n",
    "# Add the model graph to TensorBoard\n",
    "writer.add_graph(model, xb)"
   ]
  },
  {
   "cell_type": "code",
   "execution_count": 186,
   "id": "06f4e6e4-e278-4b55-9384-c10c69bdff8e",
   "metadata": {
    "tags": []
   },
   "outputs": [
    {
     "name": "stdout",
     "output_type": "stream",
     "text": [
      "2025-02-18 05:18:17.459218: E external/local_xla/xla/stream_executor/cuda/cuda_dnn.cc:9261] Unable to register cuDNN factory: Attempting to register factory for plugin cuDNN when one has already been registered\n",
      "2025-02-18 05:18:17.459298: E external/local_xla/xla/stream_executor/cuda/cuda_fft.cc:607] Unable to register cuFFT factory: Attempting to register factory for plugin cuFFT when one has already been registered\n",
      "2025-02-18 05:18:17.460814: E external/local_xla/xla/stream_executor/cuda/cuda_blas.cc:1515] Unable to register cuBLAS factory: Attempting to register factory for plugin cuBLAS when one has already been registered\n",
      "2025-02-18 05:18:17.469011: I tensorflow/core/platform/cpu_feature_guard.cc:182] This TensorFlow binary is optimized to use available CPU instructions in performance-critical operations.\n",
      "To enable the following instructions: AVX2 FMA, in other operations, rebuild TensorFlow with the appropriate compiler flags.\n",
      "2025-02-18 05:18:18.613705: W tensorflow/compiler/tf2tensorrt/utils/py_utils.cc:38] TF-TRT Warning: Could not find TensorRT\n",
      "2025-02-18 05:18:19.747049: I external/local_xla/xla/stream_executor/cuda/cuda_executor.cc:901] successful NUMA node read from SysFS had negative value (-1), but there must be at least one NUMA node, so returning NUMA node zero. See more at https://github.com/torvalds/linux/blob/v6.0/Documentation/ABI/testing/sysfs-bus-pci#L344-L355\n",
      "2025-02-18 05:18:19.792686: I external/local_xla/xla/stream_executor/cuda/cuda_executor.cc:901] successful NUMA node read from SysFS had negative value (-1), but there must be at least one NUMA node, so returning NUMA node zero. See more at https://github.com/torvalds/linux/blob/v6.0/Documentation/ABI/testing/sysfs-bus-pci#L344-L355\n",
      "2025-02-18 05:18:19.792965: I external/local_xla/xla/stream_executor/cuda/cuda_executor.cc:901] successful NUMA node read from SysFS had negative value (-1), but there must be at least one NUMA node, so returning NUMA node zero. See more at https://github.com/torvalds/linux/blob/v6.0/Documentation/ABI/testing/sysfs-bus-pci#L344-L355\n",
      "\n",
      "NOTE: Using experimental fast data loading logic. To disable, pass\n",
      "    \"--load_fast=false\" and report issues on GitHub. More details:\n",
      "    https://github.com/tensorflow/tensorboard/issues/4784\n",
      "\n",
      "TensorBoard 2.15.1 at http://nnpp2ltlre:6006/ (Press CTRL+C to quit)\n",
      "^C\n"
     ]
    }
   ],
   "source": [
    "!tensorboard --logdir . --bind_all"
   ]
  },
  {
   "cell_type": "code",
   "execution_count": 304,
   "id": "b2e8fbe4-007c-4ca3-a9ed-7ba360598162",
   "metadata": {
    "tags": []
   },
   "outputs": [
    {
     "data": {
      "text/plain": [
       "torch.Size([1, 8])"
      ]
     },
     "execution_count": 304,
     "metadata": {},
     "output_type": "execute_result"
    }
   ],
   "source": [
    "idx = torch.ones((1, block_size), dtype=torch.long, device=device)\n",
    "idx.shape"
   ]
  },
  {
   "cell_type": "code",
   "execution_count": 305,
   "id": "8bf0f92c-addc-4f83-a996-9cceea314262",
   "metadata": {
    "tags": []
   },
   "outputs": [
    {
     "name": "stdout",
     "output_type": "stream",
     "text": [
      "ssssssss.\n",
      "Fail.\n",
      "\n",
      "KING LEY:\n",
      "What\n",
      "And upon that it with that eighnesday, and I dids\n",
      "Which thou for Ladly blows John fair and the's prince; in day in this before the wisdow!\n",
      "And instrument,\n",
      "God say; but of misses!\n",
      "\n",
      "MERCUT:\n",
      "I hope armter, by you that you princess'd us London the me that wors! do not we and did! Angelove his us the lakes unto rest with thou are must all is with toraclan:\n",
      "Hath of our\n",
      "ther their for ward's am only shall back in trarth.\n",
      "CLEOMENENIUS:\n",
      "Come Sold's deace\n",
      "As we mark lord, merrince.\n",
      "\n",
      "BUCGOMINIUS:\n",
      "It is prime peoplishmence,\n",
      "For son, mother a wret shal:\n",
      "I am us crown; say with your seem, tirrah worth hief;\n",
      "Coverned give I shappery to then formiardower that so\n",
      "thrun, ne't, we with tneath your compation.\n",
      "\n",
      "DUCHESS OF YORK:\n",
      "I have in their vower gooes that your croud, I seein middle makes?\n",
      "Hark, and so.\n",
      "\n",
      "KING RICHARD IV:\n",
      "Yetiful, the grison at her-biion\n",
      "pit wars their jumph,\n",
      "Reder from did I.\n",
      "\n",
      "Saland's all find, the emblant inrow,\n",
      "Or edid, leizen: need, though a but,\n",
      "Tile!\n",
      "UnSCL\n"
     ]
    }
   ],
   "source": [
    "idx = torch.ones((1, block_size), dtype=torch.long, device=device)\n",
    "print(\"\".join(int_to_characters[x.item()] for x in model.generate(\n",
    "    idx, \n",
    "    1000\n",
    ")[0]))"
   ]
  },
  {
   "cell_type": "code",
   "execution_count": 306,
   "id": "8ecbe701-1b35-407f-b7bd-d1b04b08a162",
   "metadata": {
    "tags": []
   },
   "outputs": [
    {
     "data": {
      "text/plain": [
       "Transformer(\n",
       "  (sequential): Sequential(\n",
       "    (0): PositionalEmbeddings(\n",
       "      (embeddings): Embedding(65, 32)\n",
       "    )\n",
       "    (1): MultiHeadAttention(\n",
       "      (attention_heads): ModuleList(\n",
       "        (0-1): 2 x ScaledDotProductAttention(\n",
       "          (query_layer): Linear(in_features=32, out_features=64, bias=True)\n",
       "          (key_layer): Linear(in_features=32, out_features=64, bias=True)\n",
       "          (value_layer): Linear(in_features=32, out_features=64, bias=True)\n",
       "          (flatten): Flatten(start_dim=1, end_dim=-1)\n",
       "        )\n",
       "      )\n",
       "      (linear): Linear(in_features=128, out_features=32, bias=True)\n",
       "      (norm): LayerNorm((32,), eps=1e-05, elementwise_affine=True)\n",
       "    )\n",
       "    (2): ResidualMLPLayer(\n",
       "      (l1): Linear(in_features=32, out_features=1028, bias=True)\n",
       "      (relu): ReLU()\n",
       "      (l2): Linear(in_features=1028, out_features=32, bias=True)\n",
       "      (layer_norm): LayerNorm((32,), eps=1e-05, elementwise_affine=True)\n",
       "    )\n",
       "    (3): Linear(in_features=32, out_features=65, bias=True)\n",
       "  )\n",
       ")"
      ]
     },
     "execution_count": 306,
     "metadata": {},
     "output_type": "execute_result"
    }
   ],
   "source": [
    "model"
   ]
  },
  {
   "cell_type": "code",
   "execution_count": 307,
   "id": "8bffa907-8c7a-4094-94ee-f8f745b3e50f",
   "metadata": {
    "tags": []
   },
   "outputs": [],
   "source": [
    "import torch\n",
    "\n",
    "# Create a checkpoint dictionary\n",
    "checkpoint = {\n",
    "    'epoch': epoch,\n",
    "    'model_state_dict': model.state_dict(),\n",
    "    'optimizer_state_dict': optimizer.state_dict(),\n",
    "    'loss': lossi,\n",
    "}\n",
    "\n",
    "# Save the checkpoint to a file\n",
    "torch.save(checkpoint, 'model_checkpoint_17_Feb_A.pth')"
   ]
  },
  {
   "cell_type": "markdown",
   "id": "9efbb758-25ec-4723-99d0-0f98fe90b3f3",
   "metadata": {},
   "source": [
    "# checkpoint loading"
   ]
  },
  {
   "cell_type": "code",
   "execution_count": 57,
   "id": "18c615a9-a49e-4b2a-933a-3b22626df322",
   "metadata": {
    "execution": {
     "iopub.execute_input": "2025-02-18T19:28:13.779717Z",
     "iopub.status.busy": "2025-02-18T19:28:13.779396Z",
     "iopub.status.idle": "2025-02-18T19:28:13.829059Z",
     "shell.execute_reply": "2025-02-18T19:28:13.828342Z",
     "shell.execute_reply.started": "2025-02-18T19:28:13.779693Z"
    }
   },
   "outputs": [
    {
     "name": "stdout",
     "output_type": "stream",
     "text": [
      "dict_keys(['epoch', 'model_state_dict', 'optimizer_state_dict', 'loss', 'vloss'])\n"
     ]
    }
   ],
   "source": [
    "# Load the checkpoint\n",
    "checkpoint = torch.load('model_checkpoint_18_Feb_A__12000.pth')\n",
    "\n",
    "# Restore the state dictionaries\n",
    "model.load_state_dict(checkpoint['model_state_dict'])\n",
    "optimizer.load_state_dict(checkpoint['optimizer_state_dict'])\n",
    "\n",
    "print(checkpoint.keys())\n"
   ]
  },
  {
   "cell_type": "code",
   "execution_count": 50,
   "id": "bd9c24ef-d9bb-4adc-9b6d-5afa4f846b22",
   "metadata": {
    "execution": {
     "iopub.execute_input": "2025-02-18T19:24:14.936916Z",
     "iopub.status.busy": "2025-02-18T19:24:14.936577Z",
     "iopub.status.idle": "2025-02-18T19:24:14.943829Z",
     "shell.execute_reply": "2025-02-18T19:24:14.942682Z",
     "shell.execute_reply.started": "2025-02-18T19:24:14.936882Z"
    }
   },
   "outputs": [
    {
     "data": {
      "text/plain": [
       "(1.6084802150726318, 1.7826149463653564)"
      ]
     },
     "execution_count": 50,
     "metadata": {},
     "output_type": "execute_result"
    }
   ],
   "source": [
    "checkpoint['loss'][-1], checkpoint['vloss'][-1]"
   ]
  },
  {
   "cell_type": "code",
   "execution_count": 48,
   "id": "3a4e9a95-b4cb-4f41-acb9-f1bb5bf17f35",
   "metadata": {
    "execution": {
     "iopub.execute_input": "2025-02-18T19:23:47.178638Z",
     "iopub.status.busy": "2025-02-18T19:23:47.177720Z",
     "iopub.status.idle": "2025-02-18T19:23:47.183888Z",
     "shell.execute_reply": "2025-02-18T19:23:47.183188Z",
     "shell.execute_reply.started": "2025-02-18T19:23:47.178606Z"
    }
   },
   "outputs": [
    {
     "data": {
      "text/plain": [
       "tensor([2.0784, 1.7745, 1.7098, 1.6780, 1.6578, 1.6442, 1.6335, 1.6250, 1.6180,\n",
       "        1.6119])"
      ]
     },
     "execution_count": 48,
     "metadata": {},
     "output_type": "execute_result"
    }
   ],
   "source": [
    "lossi[:12000].view(10,-1).mean(1)"
   ]
  },
  {
   "cell_type": "code",
   "execution_count": 76,
   "id": "5bacd24f-9685-4418-b12e-1dd9cebddd9e",
   "metadata": {
    "execution": {
     "iopub.execute_input": "2025-02-18T19:40:52.494562Z",
     "iopub.status.busy": "2025-02-18T19:40:52.493934Z",
     "iopub.status.idle": "2025-02-18T19:40:53.068200Z",
     "shell.execute_reply": "2025-02-18T19:40:53.067140Z",
     "shell.execute_reply.started": "2025-02-18T19:40:52.494524Z"
    }
   },
   "outputs": [
    {
     "data": {
      "image/png": "[encoded data removed]",
      "text/plain": [
       "<Figure size 640x480 with 1 Axes>"
      ]
     },
     "metadata": {},
     "output_type": "display_data"
    }
   ],
   "source": [
    "import torch\n",
    "from matplotlib import pyplot as plt\n",
    "\n",
    "lossi = torch.tensor(checkpoint['loss'])\n",
    "vlossi = checkpoint['vloss']\n",
    "# Assuming lossi and vlossi are PyTorch tensors.\n",
    "# Calculate block size based on the length of vlossi:\n",
    "plot_dim = len(vlossi) * 1\n",
    "\n",
    "# Compute the averaged training loss:\n",
    "#   1. Compute how many complete blocks of length plot_dim fit in lossi.\n",
    "#   2. Slice lossi to that many elements.\n",
    "#   3. Reshape into (plot_dim, -1) so that each column is one block.\n",
    "#   4. Take the mean across each row.\n",
    "avg_loss = lossi[:plot_dim * (lossi.numel() // plot_dim)].view(plot_dim, -1).mean(1)\n",
    "\n",
    "# Convert tensors to numpy arrays for plotting.\n",
    "avg_loss_np = avg_loss.cpu().numpy() if avg_loss.is_cuda else avg_loss.numpy()\n",
    "vlossi_np = vlossi.cpu().numpy() if torch.is_tensor(vlossi) and vlossi.is_cuda else (vlossi.numpy() if torch.is_tensor(vlossi) else vlossi)\n",
    "\n",
    "# Create x-axis for validation loss: assuming each validation loss corresponds to every 2 steps.\n",
    "x_val = [i * 1 for i in range(len(vlossi_np))]\n",
    "\n",
    "# List of previous models with their validation loss values.\n",
    "models = [\n",
    "    {\"name\": \"Transformer@11kparams (2 blocks, 4 heads, training 6 hours)\", \"val_loss\": 1.7826},\n",
    "    {\"name\": \"Transformer@3kparams (1 block, 2 heads, training 1 hour)\", \"val_loss\": 1.8935},\n",
    "    {\"name\": \"Transformer@3kparams (1 block, 2 heads, training 1 minute)\", \"val_loss\": 2.1663},\n",
    "    {\"name\": \"Two Residual MLPs@4kparams\",             \"val_loss\": 2.4908},\n",
    "    {\"name\": \"Bigram + Adam@65params\",                 \"val_loss\": 2.56},\n",
    "    {\"name\": \"Bigram@65params\",                        \"val_loss\": 2.72},\n",
    "    {\"name\": \"Random Choice\",                 \"val_loss\": 4.17},\n",
    "]\n",
    "\n",
    "\n",
    "ax = plt.gca()\n",
    "x_min, x_max = ax.get_xlim()\n",
    "\n",
    "# For each model, draw a horizontal dashed line and place the text to the right of the line.\n",
    "for model in models:\n",
    "    plt.axhline(y=model[\"val_loss\"], color='gray', linestyle='--', linewidth=1)\n",
    "    plt.text(x_max * 1250.05, model[\"val_loss\"], f\"={model['val_loss']:.2f}, {model['name']}\",\n",
    "             verticalalignment='center', horizontalalignment='left',\n",
    "             fontsize=8, color='gray')\n",
    "\n",
    "plt.plot(avg_loss_np, label='Transformer@11kParams Training Loss')\n",
    "plt.plot(x_val, vlossi_np, label='Transformer@11kParams Validation Loss')\n",
    "plt.xlabel('Iteration (scaled)')\n",
    "plt.ylabel('Cross-Entropy Loss')\n",
    "plt.title('Transformer Architecture on Shakespeare Dataset')\n",
    "plt.legend()\n",
    "plt.show()\n"
   ]
  },
  {
   "cell_type": "code",
   "execution_count": 58,
   "id": "7ce069b5-ce06-48c2-8cd5-bc5dcf838cc5",
   "metadata": {
    "execution": {
     "iopub.execute_input": "2025-02-18T19:28:16.109197Z",
     "iopub.status.busy": "2025-02-18T19:28:16.108886Z",
     "iopub.status.idle": "2025-02-18T19:28:24.163677Z",
     "shell.execute_reply": "2025-02-18T19:28:24.162734Z",
     "shell.execute_reply.started": "2025-02-18T19:28:16.109174Z"
    }
   },
   "outputs": [
    {
     "name": "stdout",
     "output_type": "stream",
     "text": [
      "IIIIIIIIIIIIIIIIzi,3hGjwAvGQBhE;vGEshX,KvTXmGAvTwNGkhuXJm,,:ogHIi,fNAGAvhEGJhG?TTW,fXJGvhN?TGuGbwN?AT.AGhXT?GEXUhCT,fGXhQBTG;hhJGC!GCu??T'l,LwAvG?AuN TBB!GQNTu'G!hENGhjXGvw?GsBuU'm,,ZoScGIrGfoqct:ci,3u.hNwX;GJTuNl,$hEGvuJGAvTNTlGwbG!hEX;T?,fXJGC!GjNw T?GAvTG;uBB,KvuAGuAGthCTlG'wBBGAhGUE?wJTN?GAvTwNGusTDsuEBBhj?GwXGC!G?h TNwA!W,HGuCGvT\n",
      "?GAu'!\n",
      "?G;w TGhBJGJhhXl,djTTTAGAhGuUBTGuXGcX;BuXJGjhNJGbTAUv&,,aI:oqzHfi,dAEb\n",
      "?lG?vuBBGCuXhAGsNTJhXlGsTuUT&,,:ftZi,fju!lGwXGCTmGuGAvuA&,Zw?AwB!Gw?lGC!GBhNJ&,,dAuU'W,fXJG?'XhjGwXGguswAhBl,-EAG'Xhj?GEshXGhbGAvTNTGbwTBJGbu?Al,gh?AuXA?GwXGvw?GUuNUTGwXGuGAvThsl,KvTGjwAvGvTGNuC?lGVhjTuN?lGuXJGvTGjwAvhEAG?TBBGwXGjwAvGH?u!lGXTTJbEBBGhbGhhAG!hENGvTNGAvw?&,-wU'lGw?GwAGXhAGAhGAvTG?EssTUATJ,ING?hE;vAGXTj?l,dAuXJhj?,KhGvu TGQEA&,KvuX'GhNWlGAvhEGBujbGhEAN,dsTu'GCTGbhNGATXJTNhE?GJwTGvTGANw Tl,gusEu'TlGjvwBs&,,ZoScGIrG3fozKi,$TumGCu!GvwClGvhB?lGuXJGhXGvTuNJTXlGuJu TGC!GbhNQwJlGuXJGAvTwNGUNwTXUTi,,SHz3GRczt$GaHi,q!GBhNJi,IlGQEAG:hXGfX;eETJGCTGquXAu;ETlGBT??wB!GBTuXUTlGCwXTGC!GQNhj?GE\n",
      "BBG\n"
     ]
    }
   ],
   "source": [
    "idx = torch.ones((1, block_size), dtype=torch.long, device=device)\n",
    "print(\"\".join(int_to_characters[x.item()] for x in model.generate(\n",
    "    idx, \n",
    "    1000\n",
    ")[0]))"
   ]
  },
  {
   "cell_type": "code",
   "execution_count": 17,
   "id": "58e2f7c4-7121-4b3e-a46b-40a69be8be00",
   "metadata": {
    "tags": []
   },
   "outputs": [
    {
     "data": {
      "text/plain": [
       "Transformer(\n",
       "  (sequential): Sequential(\n",
       "    (0): PositionalEmbeddings(\n",
       "      (embeddings): Embedding(65, 384)\n",
       "      (dropout): Dropout(p=0.1, inplace=False)\n",
       "    )\n",
       "    (1): MultiHeadAttention(\n",
       "      (attention_heads): ModuleList(\n",
       "        (0-5): 6 x ScaledDotProductAttention(\n",
       "          (query_layer): Linear(in_features=384, out_features=64, bias=True)\n",
       "          (key_layer): Linear(in_features=384, out_features=64, bias=True)\n",
       "          (value_layer): Linear(in_features=384, out_features=64, bias=True)\n",
       "          (flatten): Flatten(start_dim=1, end_dim=-1)\n",
       "        )\n",
       "      )\n",
       "      (linear): Linear(in_features=384, out_features=384, bias=True)\n",
       "      (norm): LayerNorm((384,), eps=1e-05, elementwise_affine=True)\n",
       "      (dropout): Dropout(p=0.2, inplace=False)\n",
       "    )\n",
       "    (2): ResidualMLPLayer(\n",
       "      (l1): Linear(in_features=384, out_features=1536, bias=True)\n",
       "      (relu): ReLU()\n",
       "      (l2): Linear(in_features=1536, out_features=384, bias=True)\n",
       "      (layer_norm): LayerNorm((384,), eps=1e-05, elementwise_affine=True)\n",
       "      (dropout): Dropout(p=0.1, inplace=False)\n",
       "    )\n",
       "    (3): MultiHeadAttention(\n",
       "      (attention_heads): ModuleList(\n",
       "        (0-5): 6 x ScaledDotProductAttention(\n",
       "          (query_layer): Linear(in_features=384, out_features=64, bias=True)\n",
       "          (key_layer): Linear(in_features=384, out_features=64, bias=True)\n",
       "          (value_layer): Linear(in_features=384, out_features=64, bias=True)\n",
       "          (flatten): Flatten(start_dim=1, end_dim=-1)\n",
       "        )\n",
       "      )\n",
       "      (linear): Linear(in_features=384, out_features=384, bias=True)\n",
       "      (norm): LayerNorm((384,), eps=1e-05, elementwise_affine=True)\n",
       "      (dropout): Dropout(p=0.2, inplace=False)\n",
       "    )\n",
       "    (4): ResidualMLPLayer(\n",
       "      (l1): Linear(in_features=384, out_features=1536, bias=True)\n",
       "      (relu): ReLU()\n",
       "      (l2): Linear(in_features=1536, out_features=384, bias=True)\n",
       "      (layer_norm): LayerNorm((384,), eps=1e-05, elementwise_affine=True)\n",
       "      (dropout): Dropout(p=0.1, inplace=False)\n",
       "    )\n",
       "    (5): MultiHeadAttention(\n",
       "      (attention_heads): ModuleList(\n",
       "        (0-5): 6 x ScaledDotProductAttention(\n",
       "          (query_layer): Linear(in_features=384, out_features=64, bias=True)\n",
       "          (key_layer): Linear(in_features=384, out_features=64, bias=True)\n",
       "          (value_layer): Linear(in_features=384, out_features=64, bias=True)\n",
       "          (flatten): Flatten(start_dim=1, end_dim=-1)\n",
       "        )\n",
       "      )\n",
       "      (linear): Linear(in_features=384, out_features=384, bias=True)\n",
       "      (norm): LayerNorm((384,), eps=1e-05, elementwise_affine=True)\n",
       "      (dropout): Dropout(p=0.2, inplace=False)\n",
       "    )\n",
       "    (6): ResidualMLPLayer(\n",
       "      (l1): Linear(in_features=384, out_features=1536, bias=True)\n",
       "      (relu): ReLU()\n",
       "      (l2): Linear(in_features=1536, out_features=384, bias=True)\n",
       "      (layer_norm): LayerNorm((384,), eps=1e-05, elementwise_affine=True)\n",
       "      (dropout): Dropout(p=0.1, inplace=False)\n",
       "    )\n",
       "    (7): MultiHeadAttention(\n",
       "      (attention_heads): ModuleList(\n",
       "        (0-5): 6 x ScaledDotProductAttention(\n",
       "          (query_layer): Linear(in_features=384, out_features=64, bias=True)\n",
       "          (key_layer): Linear(in_features=384, out_features=64, bias=True)\n",
       "          (value_layer): Linear(in_features=384, out_features=64, bias=True)\n",
       "          (flatten): Flatten(start_dim=1, end_dim=-1)\n",
       "        )\n",
       "      )\n",
       "      (linear): Linear(in_features=384, out_features=384, bias=True)\n",
       "      (norm): LayerNorm((384,), eps=1e-05, elementwise_affine=True)\n",
       "      (dropout): Dropout(p=0.2, inplace=False)\n",
       "    )\n",
       "    (8): ResidualMLPLayer(\n",
       "      (l1): Linear(in_features=384, out_features=1536, bias=True)\n",
       "      (relu): ReLU()\n",
       "      (l2): Linear(in_features=1536, out_features=384, bias=True)\n",
       "      (layer_norm): LayerNorm((384,), eps=1e-05, elementwise_affine=True)\n",
       "      (dropout): Dropout(p=0.1, inplace=False)\n",
       "    )\n",
       "    (9): MultiHeadAttention(\n",
       "      (attention_heads): ModuleList(\n",
       "        (0-5): 6 x ScaledDotProductAttention(\n",
       "          (query_layer): Linear(in_features=384, out_features=64, bias=True)\n",
       "          (key_layer): Linear(in_features=384, out_features=64, bias=True)\n",
       "          (value_layer): Linear(in_features=384, out_features=64, bias=True)\n",
       "          (flatten): Flatten(start_dim=1, end_dim=-1)\n",
       "        )\n",
       "      )\n",
       "      (linear): Linear(in_features=384, out_features=384, bias=True)\n",
       "      (norm): LayerNorm((384,), eps=1e-05, elementwise_affine=True)\n",
       "      (dropout): Dropout(p=0.2, inplace=False)\n",
       "    )\n",
       "    (10): ResidualMLPLayer(\n",
       "      (l1): Linear(in_features=384, out_features=1536, bias=True)\n",
       "      (relu): ReLU()\n",
       "      (l2): Linear(in_features=1536, out_features=384, bias=True)\n",
       "      (layer_norm): LayerNorm((384,), eps=1e-05, elementwise_affine=True)\n",
       "      (dropout): Dropout(p=0.1, inplace=False)\n",
       "    )\n",
       "    (11): MultiHeadAttention(\n",
       "      (attention_heads): ModuleList(\n",
       "        (0-5): 6 x ScaledDotProductAttention(\n",
       "          (query_layer): Linear(in_features=384, out_features=64, bias=True)\n",
       "          (key_layer): Linear(in_features=384, out_features=64, bias=True)\n",
       "          (value_layer): Linear(in_features=384, out_features=64, bias=True)\n",
       "          (flatten): Flatten(start_dim=1, end_dim=-1)\n",
       "        )\n",
       "      )\n",
       "      (linear): Linear(in_features=384, out_features=384, bias=True)\n",
       "      (norm): LayerNorm((384,), eps=1e-05, elementwise_affine=True)\n",
       "      (dropout): Dropout(p=0.2, inplace=False)\n",
       "    )\n",
       "    (12): ResidualMLPLayer(\n",
       "      (l1): Linear(in_features=384, out_features=1536, bias=True)\n",
       "      (relu): ReLU()\n",
       "      (l2): Linear(in_features=1536, out_features=384, bias=True)\n",
       "      (layer_norm): LayerNorm((384,), eps=1e-05, elementwise_affine=True)\n",
       "      (dropout): Dropout(p=0.1, inplace=False)\n",
       "    )\n",
       "    (13): Linear(in_features=384, out_features=65, bias=True)\n",
       "  )\n",
       ")"
      ]
     },
     "execution_count": 17,
     "metadata": {},
     "output_type": "execute_result"
    }
   ],
   "source": [
    "model"
   ]
  },
  {
   "cell_type": "code",
   "execution_count": 19,
   "id": "6f1b4523-ecb4-4bb2-8a58-dd95c8670629",
   "metadata": {
    "tags": []
   },
   "outputs": [
    {
     "ename": "RuntimeError",
     "evalue": "Error(s) in loading state_dict for Transformer:\n\tMissing key(s) in state_dict: \"sequential.1.attention_heads.4.query_layer.weight\", \"sequential.1.attention_heads.4.query_layer.bias\", \"sequential.1.attention_heads.4.key_layer.weight\", \"sequential.1.attention_heads.4.key_layer.bias\", \"sequential.1.attention_heads.4.value_layer.weight\", \"sequential.1.attention_heads.4.value_layer.bias\", \"sequential.1.attention_heads.5.query_layer.weight\", \"sequential.1.attention_heads.5.query_layer.bias\", \"sequential.1.attention_heads.5.key_layer.weight\", \"sequential.1.attention_heads.5.key_layer.bias\", \"sequential.1.attention_heads.5.value_layer.weight\", \"sequential.1.attention_heads.5.value_layer.bias\", \"sequential.3.attention_heads.4.query_layer.weight\", \"sequential.3.attention_heads.4.query_layer.bias\", \"sequential.3.attention_heads.4.key_layer.weight\", \"sequential.3.attention_heads.4.key_layer.bias\", \"sequential.3.attention_heads.4.value_layer.weight\", \"sequential.3.attention_heads.4.value_layer.bias\", \"sequential.3.attention_heads.5.query_layer.weight\", \"sequential.3.attention_heads.5.query_layer.bias\", \"sequential.3.attention_heads.5.key_layer.weight\", \"sequential.3.attention_heads.5.key_layer.bias\", \"sequential.3.attention_heads.5.value_layer.weight\", \"sequential.3.attention_heads.5.value_layer.bias\", \"sequential.5.attention_heads.0.query_layer.weight\", \"sequential.5.attention_heads.0.query_layer.bias\", \"sequential.5.attention_heads.0.key_layer.weight\", \"sequential.5.attention_heads.0.key_layer.bias\", \"sequential.5.attention_heads.0.value_layer.weight\", \"sequential.5.attention_heads.0.value_layer.bias\", \"sequential.5.attention_heads.1.query_layer.weight\", \"sequential.5.attention_heads.1.query_layer.bias\", \"sequential.5.attention_heads.1.key_layer.weight\", \"sequential.5.attention_heads.1.key_layer.bias\", \"sequential.5.attention_heads.1.value_layer.weight\", \"sequential.5.attention_heads.1.value_layer.bias\", \"sequential.5.attention_heads.2.query_layer.weight\", \"sequential.5.attention_heads.2.query_layer.bias\", \"sequential.5.attention_heads.2.key_layer.weight\", \"sequential.5.attention_heads.2.key_layer.bias\", \"sequential.5.attention_heads.2.value_layer.weight\", \"sequential.5.attention_heads.2.value_layer.bias\", \"sequential.5.attention_heads.3.query_layer.weight\", \"sequential.5.attention_heads.3.query_layer.bias\", \"sequential.5.attention_heads.3.key_layer.weight\", \"sequential.5.attention_heads.3.key_layer.bias\", \"sequential.5.attention_heads.3.value_layer.weight\", \"sequential.5.attention_heads.3.value_layer.bias\", \"sequential.5.attention_heads.4.query_layer.weight\", \"sequential.5.attention_heads.4.query_layer.bias\", \"sequential.5.attention_heads.4.key_layer.weight\", \"sequential.5.attention_heads.4.key_layer.bias\", \"sequential.5.attention_heads.4.value_layer.weight\", \"sequential.5.attention_heads.4.value_layer.bias\", \"sequential.5.attention_heads.5.query_layer.weight\", \"sequential.5.attention_heads.5.query_layer.bias\", \"sequential.5.attention_heads.5.key_layer.weight\", \"sequential.5.attention_heads.5.key_layer.bias\", \"sequential.5.attention_heads.5.value_layer.weight\", \"sequential.5.attention_heads.5.value_layer.bias\", \"sequential.5.linear.weight\", \"sequential.5.linear.bias\", \"sequential.5.norm.weight\", \"sequential.5.norm.bias\", \"sequential.6.l1.weight\", \"sequential.6.l1.bias\", \"sequential.6.l2.weight\", \"sequential.6.l2.bias\", \"sequential.6.layer_norm.weight\", \"sequential.6.layer_norm.bias\", \"sequential.7.attention_heads.0.query_layer.weight\", \"sequential.7.attention_heads.0.query_layer.bias\", \"sequential.7.attention_heads.0.key_layer.weight\", \"sequential.7.attention_heads.0.key_layer.bias\", \"sequential.7.attention_heads.0.value_layer.weight\", \"sequential.7.attention_heads.0.value_layer.bias\", \"sequential.7.attention_heads.1.query_layer.weight\", \"sequential.7.attention_heads.1.query_layer.bias\", \"sequential.7.attention_heads.1.key_layer.weight\", \"sequential.7.attention_heads.1.key_layer.bias\", \"sequential.7.attention_heads.1.value_layer.weight\", \"sequential.7.attention_heads.1.value_layer.bias\", \"sequential.7.attention_heads.2.query_layer.weight\", \"sequential.7.attention_heads.2.query_layer.bias\", \"sequential.7.attention_heads.2.key_layer.weight\", \"sequential.7.attention_heads.2.key_layer.bias\", \"sequential.7.attention_heads.2.value_layer.weight\", \"sequential.7.attention_heads.2.value_layer.bias\", \"sequential.7.attention_heads.3.query_layer.weight\", \"sequential.7.attention_heads.3.query_layer.bias\", \"sequential.7.attention_heads.3.key_layer.weight\", \"sequential.7.attention_heads.3.key_layer.bias\", \"sequential.7.attention_heads.3.value_layer.weight\", \"sequential.7.attention_heads.3.value_layer.bias\", \"sequential.7.attention_heads.4.query_layer.weight\", \"sequential.7.attention_heads.4.query_layer.bias\", \"sequential.7.attention_heads.4.key_layer.weight\", \"sequential.7.attention_heads.4.key_layer.bias\", \"sequential.7.attention_heads.4.value_layer.weight\", \"sequential.7.attention_heads.4.value_layer.bias\", \"sequential.7.attention_heads.5.query_layer.weight\", \"sequential.7.attention_heads.5.query_layer.bias\", \"sequential.7.attention_heads.5.key_layer.weight\", \"sequential.7.attention_heads.5.key_layer.bias\", \"sequential.7.attention_heads.5.value_layer.weight\", \"sequential.7.attention_heads.5.value_layer.bias\", \"sequential.7.linear.weight\", \"sequential.7.linear.bias\", \"sequential.7.norm.weight\", \"sequential.7.norm.bias\", \"sequential.8.l1.weight\", \"sequential.8.l1.bias\", \"sequential.8.l2.weight\", \"sequential.8.l2.bias\", \"sequential.8.layer_norm.weight\", \"sequential.8.layer_norm.bias\", \"sequential.9.attention_heads.0.query_layer.weight\", \"sequential.9.attention_heads.0.query_layer.bias\", \"sequential.9.attention_heads.0.key_layer.weight\", \"sequential.9.attention_heads.0.key_layer.bias\", \"sequential.9.attention_heads.0.value_layer.weight\", \"sequential.9.attention_heads.0.value_layer.bias\", \"sequential.9.attention_heads.1.query_layer.weight\", \"sequential.9.attention_heads.1.query_layer.bias\", \"sequential.9.attention_heads.1.key_layer.weight\", \"sequential.9.attention_heads.1.key_layer.bias\", \"sequential.9.attention_heads.1.value_layer.weight\", \"sequential.9.attention_heads.1.value_layer.bias\", \"sequential.9.attention_heads.2.query_layer.weight\", \"sequential.9.attention_heads.2.query_layer.bias\", \"sequential.9.attention_heads.2.key_layer.weight\", \"sequential.9.attention_heads.2.key_layer.bias\", \"sequential.9.attention_heads.2.value_layer.weight\", \"sequential.9.attention_heads.2.value_layer.bias\", \"sequential.9.attention_heads.3.query_layer.weight\", \"sequential.9.attention_heads.3.query_layer.bias\", \"sequential.9.attention_heads.3.key_layer.weight\", \"sequential.9.attention_heads.3.key_layer.bias\", \"sequential.9.attention_heads.3.value_layer.weight\", \"sequential.9.attention_heads.3.value_layer.bias\", \"sequential.9.attention_heads.4.query_layer.weight\", \"sequential.9.attention_heads.4.query_layer.bias\", \"sequential.9.attention_heads.4.key_layer.weight\", \"sequential.9.attention_heads.4.key_layer.bias\", \"sequential.9.attention_heads.4.value_layer.weight\", \"sequential.9.attention_heads.4.value_layer.bias\", \"sequential.9.attention_heads.5.query_layer.weight\", \"sequential.9.attention_heads.5.query_layer.bias\", \"sequential.9.attention_heads.5.key_layer.weight\", \"sequential.9.attention_heads.5.key_layer.bias\", \"sequential.9.attention_heads.5.value_layer.weight\", \"sequential.9.attention_heads.5.value_layer.bias\", \"sequential.9.linear.weight\", \"sequential.9.linear.bias\", \"sequential.9.norm.weight\", \"sequential.9.norm.bias\", \"sequential.10.l1.weight\", \"sequential.10.l1.bias\", \"sequential.10.l2.weight\", \"sequential.10.l2.bias\", \"sequential.10.layer_norm.weight\", \"sequential.10.layer_norm.bias\", \"sequential.11.attention_heads.0.query_layer.weight\", \"sequential.11.attention_heads.0.query_layer.bias\", \"sequential.11.attention_heads.0.key_layer.weight\", \"sequential.11.attention_heads.0.key_layer.bias\", \"sequential.11.attention_heads.0.value_layer.weight\", \"sequential.11.attention_heads.0.value_layer.bias\", \"sequential.11.attention_heads.1.query_layer.weight\", \"sequential.11.attention_heads.1.query_layer.bias\", \"sequential.11.attention_heads.1.key_layer.weight\", \"sequential.11.attention_heads.1.key_layer.bias\", \"sequential.11.attention_heads.1.value_layer.weight\", \"sequential.11.attention_heads.1.value_layer.bias\", \"sequential.11.attention_heads.2.query_layer.weight\", \"sequential.11.attention_heads.2.query_layer.bias\", \"sequential.11.attention_heads.2.key_layer.weight\", \"sequential.11.attention_heads.2.key_layer.bias\", \"sequential.11.attention_heads.2.value_layer.weight\", \"sequential.11.attention_heads.2.value_layer.bias\", \"sequential.11.attention_heads.3.query_layer.weight\", \"sequential.11.attention_heads.3.query_layer.bias\", \"sequential.11.attention_heads.3.key_layer.weight\", \"sequential.11.attention_heads.3.key_layer.bias\", \"sequential.11.attention_heads.3.value_layer.weight\", \"sequential.11.attention_heads.3.value_layer.bias\", \"sequential.11.attention_heads.4.query_layer.weight\", \"sequential.11.attention_heads.4.query_layer.bias\", \"sequential.11.attention_heads.4.key_layer.weight\", \"sequential.11.attention_heads.4.key_layer.bias\", \"sequential.11.attention_heads.4.value_layer.weight\", \"sequential.11.attention_heads.4.value_layer.bias\", \"sequential.11.attention_heads.5.query_layer.weight\", \"sequential.11.attention_heads.5.query_layer.bias\", \"sequential.11.attention_heads.5.key_layer.weight\", \"sequential.11.attention_heads.5.key_layer.bias\", \"sequential.11.attention_heads.5.value_layer.weight\", \"sequential.11.attention_heads.5.value_layer.bias\", \"sequential.11.linear.weight\", \"sequential.11.linear.bias\", \"sequential.11.norm.weight\", \"sequential.11.norm.bias\", \"sequential.12.l1.weight\", \"sequential.12.l1.bias\", \"sequential.12.l2.weight\", \"sequential.12.l2.bias\", \"sequential.12.layer_norm.weight\", \"sequential.12.layer_norm.bias\", \"sequential.13.weight\", \"sequential.13.bias\". \n\tUnexpected key(s) in state_dict: \"sequential.5.weight\", \"sequential.5.bias\". \n\tsize mismatch for sequential.0.positional_embeddings: copying a param with shape torch.Size([16, 32]) from checkpoint, the shape in current model is torch.Size([256, 384]).\n\tsize mismatch for sequential.0.embeddings.weight: copying a param with shape torch.Size([65, 32]) from checkpoint, the shape in current model is torch.Size([65, 384]).\n\tsize mismatch for sequential.1.attention_heads.0.query_layer.weight: copying a param with shape torch.Size([64, 32]) from checkpoint, the shape in current model is torch.Size([64, 384]).\n\tsize mismatch for sequential.1.attention_heads.0.key_layer.weight: copying a param with shape torch.Size([64, 32]) from checkpoint, the shape in current model is torch.Size([64, 384]).\n\tsize mismatch for sequential.1.attention_heads.0.value_layer.weight: copying a param with shape torch.Size([64, 32]) from checkpoint, the shape in current model is torch.Size([64, 384]).\n\tsize mismatch for sequential.1.attention_heads.1.query_layer.weight: copying a param with shape torch.Size([64, 32]) from checkpoint, the shape in current model is torch.Size([64, 384]).\n\tsize mismatch for sequential.1.attention_heads.1.key_layer.weight: copying a param with shape torch.Size([64, 32]) from checkpoint, the shape in current model is torch.Size([64, 384]).\n\tsize mismatch for sequential.1.attention_heads.1.value_layer.weight: copying a param with shape torch.Size([64, 32]) from checkpoint, the shape in current model is torch.Size([64, 384]).\n\tsize mismatch for sequential.1.attention_heads.2.query_layer.weight: copying a param with shape torch.Size([64, 32]) from checkpoint, the shape in current model is torch.Size([64, 384]).\n\tsize mismatch for sequential.1.attention_heads.2.key_layer.weight: copying a param with shape torch.Size([64, 32]) from checkpoint, the shape in current model is torch.Size([64, 384]).\n\tsize mismatch for sequential.1.attention_heads.2.value_layer.weight: copying a param with shape torch.Size([64, 32]) from checkpoint, the shape in current model is torch.Size([64, 384]).\n\tsize mismatch for sequential.1.attention_heads.3.query_layer.weight: copying a param with shape torch.Size([64, 32]) from checkpoint, the shape in current model is torch.Size([64, 384]).\n\tsize mismatch for sequential.1.attention_heads.3.key_layer.weight: copying a param with shape torch.Size([64, 32]) from checkpoint, the shape in current model is torch.Size([64, 384]).\n\tsize mismatch for sequential.1.attention_heads.3.value_layer.weight: copying a param with shape torch.Size([64, 32]) from checkpoint, the shape in current model is torch.Size([64, 384]).\n\tsize mismatch for sequential.1.linear.weight: copying a param with shape torch.Size([32, 256]) from checkpoint, the shape in current model is torch.Size([384, 384]).\n\tsize mismatch for sequential.1.linear.bias: copying a param with shape torch.Size([32]) from checkpoint, the shape in current model is torch.Size([384]).\n\tsize mismatch for sequential.1.norm.weight: copying a param with shape torch.Size([32]) from checkpoint, the shape in current model is torch.Size([384]).\n\tsize mismatch for sequential.1.norm.bias: copying a param with shape torch.Size([32]) from checkpoint, the shape in current model is torch.Size([384]).\n\tsize mismatch for sequential.2.l1.weight: copying a param with shape torch.Size([2048, 32]) from checkpoint, the shape in current model is torch.Size([1536, 384]).\n\tsize mismatch for sequential.2.l1.bias: copying a param with shape torch.Size([2048]) from checkpoint, the shape in current model is torch.Size([1536]).\n\tsize mismatch for sequential.2.l2.weight: copying a param with shape torch.Size([32, 2048]) from checkpoint, the shape in current model is torch.Size([384, 1536]).\n\tsize mismatch for sequential.2.l2.bias: copying a param with shape torch.Size([32]) from checkpoint, the shape in current model is torch.Size([384]).\n\tsize mismatch for sequential.2.layer_norm.weight: copying a param with shape torch.Size([32]) from checkpoint, the shape in current model is torch.Size([384]).\n\tsize mismatch for sequential.2.layer_norm.bias: copying a param with shape torch.Size([32]) from checkpoint, the shape in current model is torch.Size([384]).\n\tsize mismatch for sequential.3.attention_heads.0.query_layer.weight: copying a param with shape torch.Size([64, 32]) from checkpoint, the shape in current model is torch.Size([64, 384]).\n\tsize mismatch for sequential.3.attention_heads.0.key_layer.weight: copying a param with shape torch.Size([64, 32]) from checkpoint, the shape in current model is torch.Size([64, 384]).\n\tsize mismatch for sequential.3.attention_heads.0.value_layer.weight: copying a param with shape torch.Size([64, 32]) from checkpoint, the shape in current model is torch.Size([64, 384]).\n\tsize mismatch for sequential.3.attention_heads.1.query_layer.weight: copying a param with shape torch.Size([64, 32]) from checkpoint, the shape in current model is torch.Size([64, 384]).\n\tsize mismatch for sequential.3.attention_heads.1.key_layer.weight: copying a param with shape torch.Size([64, 32]) from checkpoint, the shape in current model is torch.Size([64, 384]).\n\tsize mismatch for sequential.3.attention_heads.1.value_layer.weight: copying a param with shape torch.Size([64, 32]) from checkpoint, the shape in current model is torch.Size([64, 384]).\n\tsize mismatch for sequential.3.attention_heads.2.query_layer.weight: copying a param with shape torch.Size([64, 32]) from checkpoint, the shape in current model is torch.Size([64, 384]).\n\tsize mismatch for sequential.3.attention_heads.2.key_layer.weight: copying a param with shape torch.Size([64, 32]) from checkpoint, the shape in current model is torch.Size([64, 384]).\n\tsize mismatch for sequential.3.attention_heads.2.value_layer.weight: copying a param with shape torch.Size([64, 32]) from checkpoint, the shape in current model is torch.Size([64, 384]).\n\tsize mismatch for sequential.3.attention_heads.3.query_layer.weight: copying a param with shape torch.Size([64, 32]) from checkpoint, the shape in current model is torch.Size([64, 384]).\n\tsize mismatch for sequential.3.attention_heads.3.key_layer.weight: copying a param with shape torch.Size([64, 32]) from checkpoint, the shape in current model is torch.Size([64, 384]).\n\tsize mismatch for sequential.3.attention_heads.3.value_layer.weight: copying a param with shape torch.Size([64, 32]) from checkpoint, the shape in current model is torch.Size([64, 384]).\n\tsize mismatch for sequential.3.linear.weight: copying a param with shape torch.Size([32, 256]) from checkpoint, the shape in current model is torch.Size([384, 384]).\n\tsize mismatch for sequential.3.linear.bias: copying a param with shape torch.Size([32]) from checkpoint, the shape in current model is torch.Size([384]).\n\tsize mismatch for sequential.3.norm.weight: copying a param with shape torch.Size([32]) from checkpoint, the shape in current model is torch.Size([384]).\n\tsize mismatch for sequential.3.norm.bias: copying a param with shape torch.Size([32]) from checkpoint, the shape in current model is torch.Size([384]).\n\tsize mismatch for sequential.4.l1.weight: copying a param with shape torch.Size([2048, 32]) from checkpoint, the shape in current model is torch.Size([1536, 384]).\n\tsize mismatch for sequential.4.l1.bias: copying a param with shape torch.Size([2048]) from checkpoint, the shape in current model is torch.Size([1536]).\n\tsize mismatch for sequential.4.l2.weight: copying a param with shape torch.Size([32, 2048]) from checkpoint, the shape in current model is torch.Size([384, 1536]).\n\tsize mismatch for sequential.4.l2.bias: copying a param with shape torch.Size([32]) from checkpoint, the shape in current model is torch.Size([384]).\n\tsize mismatch for sequential.4.layer_norm.weight: copying a param with shape torch.Size([32]) from checkpoint, the shape in current model is torch.Size([384]).\n\tsize mismatch for sequential.4.layer_norm.bias: copying a param with shape torch.Size([32]) from checkpoint, the shape in current model is torch.Size([384]).",
     "output_type": "error",
     "traceback": [
      "\u001b[0;31m---------------------------------------------------------------------------\u001b[0m",
      "\u001b[0;31mRuntimeError\u001b[0m                              Traceback (most recent call last)",
      "Cell \u001b[0;32mIn[19], line 6\u001b[0m\n\u001b[1;32m      4\u001b[0m \u001b[38;5;66;03m# To load the checkpoint:\u001b[39;00m\n\u001b[1;32m      5\u001b[0m checkpoint \u001b[38;5;241m=\u001b[39m torch\u001b[38;5;241m.\u001b[39mload(\u001b[38;5;124m\"\u001b[39m\u001b[38;5;124m./model_checkpoint_18_Feb_A__12000.pth\u001b[39m\u001b[38;5;124m\"\u001b[39m)  \u001b[38;5;66;03m# Use map_location if needed\u001b[39;00m\n\u001b[0;32m----> 6\u001b[0m \u001b[43mmodel\u001b[49m\u001b[38;5;241;43m.\u001b[39;49m\u001b[43mload_state_dict\u001b[49m\u001b[43m(\u001b[49m\u001b[43mcheckpoint\u001b[49m\u001b[43m[\u001b[49m\u001b[38;5;124;43m\"\u001b[39;49m\u001b[38;5;124;43mmodel_state_dict\u001b[39;49m\u001b[38;5;124;43m\"\u001b[39;49m\u001b[43m]\u001b[49m\u001b[43m)\u001b[49m\n",
      "File \u001b[0;32m/usr/local/lib/python3.11/dist-packages/torch/nn/modules/module.py:2152\u001b[0m, in \u001b[0;36mModule.load_state_dict\u001b[0;34m(self, state_dict, strict, assign)\u001b[0m\n\u001b[1;32m   2147\u001b[0m         error_msgs\u001b[38;5;241m.\u001b[39minsert(\n\u001b[1;32m   2148\u001b[0m             \u001b[38;5;241m0\u001b[39m, \u001b[38;5;124m'\u001b[39m\u001b[38;5;124mMissing key(s) in state_dict: \u001b[39m\u001b[38;5;132;01m{}\u001b[39;00m\u001b[38;5;124m. \u001b[39m\u001b[38;5;124m'\u001b[39m\u001b[38;5;241m.\u001b[39mformat(\n\u001b[1;32m   2149\u001b[0m                 \u001b[38;5;124m'\u001b[39m\u001b[38;5;124m, \u001b[39m\u001b[38;5;124m'\u001b[39m\u001b[38;5;241m.\u001b[39mjoin(\u001b[38;5;124mf\u001b[39m\u001b[38;5;124m'\u001b[39m\u001b[38;5;124m\"\u001b[39m\u001b[38;5;132;01m{\u001b[39;00mk\u001b[38;5;132;01m}\u001b[39;00m\u001b[38;5;124m\"\u001b[39m\u001b[38;5;124m'\u001b[39m \u001b[38;5;28;01mfor\u001b[39;00m k \u001b[38;5;129;01min\u001b[39;00m missing_keys)))\n\u001b[1;32m   2151\u001b[0m \u001b[38;5;28;01mif\u001b[39;00m \u001b[38;5;28mlen\u001b[39m(error_msgs) \u001b[38;5;241m>\u001b[39m \u001b[38;5;241m0\u001b[39m:\n\u001b[0;32m-> 2152\u001b[0m     \u001b[38;5;28;01mraise\u001b[39;00m \u001b[38;5;167;01mRuntimeError\u001b[39;00m(\u001b[38;5;124m'\u001b[39m\u001b[38;5;124mError(s) in loading state_dict for \u001b[39m\u001b[38;5;132;01m{}\u001b[39;00m\u001b[38;5;124m:\u001b[39m\u001b[38;5;130;01m\\n\u001b[39;00m\u001b[38;5;130;01m\\t\u001b[39;00m\u001b[38;5;132;01m{}\u001b[39;00m\u001b[38;5;124m'\u001b[39m\u001b[38;5;241m.\u001b[39mformat(\n\u001b[1;32m   2153\u001b[0m                        \u001b[38;5;28mself\u001b[39m\u001b[38;5;241m.\u001b[39m\u001b[38;5;18m__class__\u001b[39m\u001b[38;5;241m.\u001b[39m\u001b[38;5;18m__name__\u001b[39m, \u001b[38;5;124m\"\u001b[39m\u001b[38;5;130;01m\\n\u001b[39;00m\u001b[38;5;130;01m\\t\u001b[39;00m\u001b[38;5;124m\"\u001b[39m\u001b[38;5;241m.\u001b[39mjoin(error_msgs)))\n\u001b[1;32m   2154\u001b[0m \u001b[38;5;28;01mreturn\u001b[39;00m _IncompatibleKeys(missing_keys, unexpected_keys)\n",
      "\u001b[0;31mRuntimeError\u001b[0m: Error(s) in loading state_dict for Transformer:\n\tMissing key(s) in state_dict: \"sequential.1.attention_heads.4.query_layer.weight\", \"sequential.1.attention_heads.4.query_layer.bias\", \"sequential.1.attention_heads.4.key_layer.weight\", \"sequential.1.attention_heads.4.key_layer.bias\", \"sequential.1.attention_heads.4.value_layer.weight\", \"sequential.1.attention_heads.4.value_layer.bias\", \"sequential.1.attention_heads.5.query_layer.weight\", \"sequential.1.attention_heads.5.query_layer.bias\", \"sequential.1.attention_heads.5.key_layer.weight\", \"sequential.1.attention_heads.5.key_layer.bias\", \"sequential.1.attention_heads.5.value_layer.weight\", \"sequential.1.attention_heads.5.value_layer.bias\", \"sequential.3.attention_heads.4.query_layer.weight\", \"sequential.3.attention_heads.4.query_layer.bias\", \"sequential.3.attention_heads.4.key_layer.weight\", \"sequential.3.attention_heads.4.key_layer.bias\", \"sequential.3.attention_heads.4.value_layer.weight\", \"sequential.3.attention_heads.4.value_layer.bias\", \"sequential.3.attention_heads.5.query_layer.weight\", \"sequential.3.attention_heads.5.query_layer.bias\", \"sequential.3.attention_heads.5.key_layer.weight\", \"sequential.3.attention_heads.5.key_layer.bias\", \"sequential.3.attention_heads.5.value_layer.weight\", \"sequential.3.attention_heads.5.value_layer.bias\", \"sequential.5.attention_heads.0.query_layer.weight\", \"sequential.5.attention_heads.0.query_layer.bias\", \"sequential.5.attention_heads.0.key_layer.weight\", \"sequential.5.attention_heads.0.key_layer.bias\", \"sequential.5.attention_heads.0.value_layer.weight\", \"sequential.5.attention_heads.0.value_layer.bias\", \"sequential.5.attention_heads.1.query_layer.weight\", \"sequential.5.attention_heads.1.query_layer.bias\", \"sequential.5.attention_heads.1.key_layer.weight\", \"sequential.5.attention_heads.1.key_layer.bias\", \"sequential.5.attention_heads.1.value_layer.weight\", \"sequential.5.attention_heads.1.value_layer.bias\", \"sequential.5.attention_heads.2.query_layer.weight\", \"sequential.5.attention_heads.2.query_layer.bias\", \"sequential.5.attention_heads.2.key_layer.weight\", \"sequential.5.attention_heads.2.key_layer.bias\", \"sequential.5.attention_heads.2.value_layer.weight\", \"sequential.5.attention_heads.2.value_layer.bias\", \"sequential.5.attention_heads.3.query_layer.weight\", \"sequential.5.attention_heads.3.query_layer.bias\", \"sequential.5.attention_heads.3.key_layer.weight\", \"sequential.5.attention_heads.3.key_layer.bias\", \"sequential.5.attention_heads.3.value_layer.weight\", \"sequential.5.attention_heads.3.value_layer.bias\", \"sequential.5.attention_heads.4.query_layer.weight\", \"sequential.5.attention_heads.4.query_layer.bias\", \"sequential.5.attention_heads.4.key_layer.weight\", \"sequential.5.attention_heads.4.key_layer.bias\", \"sequential.5.attention_heads.4.value_layer.weight\", \"sequential.5.attention_heads.4.value_layer.bias\", \"sequential.5.attention_heads.5.query_layer.weight\", \"sequential.5.attention_heads.5.query_layer.bias\", \"sequential.5.attention_heads.5.key_layer.weight\", \"sequential.5.attention_heads.5.key_layer.bias\", \"sequential.5.attention_heads.5.value_layer.weight\", \"sequential.5.attention_heads.5.value_layer.bias\", \"sequential.5.linear.weight\", \"sequential.5.linear.bias\", \"sequential.5.norm.weight\", \"sequential.5.norm.bias\", \"sequential.6.l1.weight\", \"sequential.6.l1.bias\", \"sequential.6.l2.weight\", \"sequential.6.l2.bias\", \"sequential.6.layer_norm.weight\", \"sequential.6.layer_norm.bias\", \"sequential.7.attention_heads.0.query_layer.weight\", \"sequential.7.attention_heads.0.query_layer.bias\", \"sequential.7.attention_heads.0.key_layer.weight\", \"sequential.7.attention_heads.0.key_layer.bias\", \"sequential.7.attention_heads.0.value_layer.weight\", \"sequential.7.attention_heads.0.value_layer.bias\", \"sequential.7.attention_heads.1.query_layer.weight\", \"sequential.7.attention_heads.1.query_layer.bias\", \"sequential.7.attention_heads.1.key_layer.weight\", \"sequential.7.attention_heads.1.key_layer.bias\", \"sequential.7.attention_heads.1.value_layer.weight\", \"sequential.7.attention_heads.1.value_layer.bias\", \"sequential.7.attention_heads.2.query_layer.weight\", \"sequential.7.attention_heads.2.query_layer.bias\", \"sequential.7.attention_heads.2.key_layer.weight\", \"sequential.7.attention_heads.2.key_layer.bias\", \"sequential.7.attention_heads.2.value_layer.weight\", \"sequential.7.attention_heads.2.value_layer.bias\", \"sequential.7.attention_heads.3.query_layer.weight\", \"sequential.7.attention_heads.3.query_layer.bias\", \"sequential.7.attention_heads.3.key_layer.weight\", \"sequential.7.attention_heads.3.key_layer.bias\", \"sequential.7.attention_heads.3.value_layer.weight\", \"sequential.7.attention_heads.3.value_layer.bias\", \"sequential.7.attention_heads.4.query_layer.weight\", \"sequential.7.attention_heads.4.query_layer.bias\", \"sequential.7.attention_heads.4.key_layer.weight\", \"sequential.7.attention_heads.4.key_layer.bias\", \"sequential.7.attention_heads.4.value_layer.weight\", \"sequential.7.attention_heads.4.value_layer.bias\", \"sequential.7.attention_heads.5.query_layer.weight\", \"sequential.7.attention_heads.5.query_layer.bias\", \"sequential.7.attention_heads.5.key_layer.weight\", \"sequential.7.attention_heads.5.key_layer.bias\", \"sequential.7.attention_heads.5.value_layer.weight\", \"sequential.7.attention_heads.5.value_layer.bias\", \"sequential.7.linear.weight\", \"sequential.7.linear.bias\", \"sequential.7.norm.weight\", \"sequential.7.norm.bias\", \"sequential.8.l1.weight\", \"sequential.8.l1.bias\", \"sequential.8.l2.weight\", \"sequential.8.l2.bias\", \"sequential.8.layer_norm.weight\", \"sequential.8.layer_norm.bias\", \"sequential.9.attention_heads.0.query_layer.weight\", \"sequential.9.attention_heads.0.query_layer.bias\", \"sequential.9.attention_heads.0.key_layer.weight\", \"sequential.9.attention_heads.0.key_layer.bias\", \"sequential.9.attention_heads.0.value_layer.weight\", \"sequential.9.attention_heads.0.value_layer.bias\", \"sequential.9.attention_heads.1.query_layer.weight\", \"sequential.9.attention_heads.1.query_layer.bias\", \"sequential.9.attention_heads.1.key_layer.weight\", \"sequential.9.attention_heads.1.key_layer.bias\", \"sequential.9.attention_heads.1.value_layer.weight\", \"sequential.9.attention_heads.1.value_layer.bias\", \"sequential.9.attention_heads.2.query_layer.weight\", \"sequential.9.attention_heads.2.query_layer.bias\", \"sequential.9.attention_heads.2.key_layer.weight\", \"sequential.9.attention_heads.2.key_layer.bias\", \"sequential.9.attention_heads.2.value_layer.weight\", \"sequential.9.attention_heads.2.value_layer.bias\", \"sequential.9.attention_heads.3.query_layer.weight\", \"sequential.9.attention_heads.3.query_layer.bias\", \"sequential.9.attention_heads.3.key_layer.weight\", \"sequential.9.attention_heads.3.key_layer.bias\", \"sequential.9.attention_heads.3.value_layer.weight\", \"sequential.9.attention_heads.3.value_layer.bias\", \"sequential.9.attention_heads.4.query_layer.weight\", \"sequential.9.attention_heads.4.query_layer.bias\", \"sequential.9.attention_heads.4.key_layer.weight\", \"sequential.9.attention_heads.4.key_layer.bias\", \"sequential.9.attention_heads.4.value_layer.weight\", \"sequential.9.attention_heads.4.value_layer.bias\", \"sequential.9.attention_heads.5.query_layer.weight\", \"sequential.9.attention_heads.5.query_layer.bias\", \"sequential.9.attention_heads.5.key_layer.weight\", \"sequential.9.attention_heads.5.key_layer.bias\", \"sequential.9.attention_heads.5.value_layer.weight\", \"sequential.9.attention_heads.5.value_layer.bias\", \"sequential.9.linear.weight\", \"sequential.9.linear.bias\", \"sequential.9.norm.weight\", \"sequential.9.norm.bias\", \"sequential.10.l1.weight\", \"sequential.10.l1.bias\", \"sequential.10.l2.weight\", \"sequential.10.l2.bias\", \"sequential.10.layer_norm.weight\", \"sequential.10.layer_norm.bias\", \"sequential.11.attention_heads.0.query_layer.weight\", \"sequential.11.attention_heads.0.query_layer.bias\", \"sequential.11.attention_heads.0.key_layer.weight\", \"sequential.11.attention_heads.0.key_layer.bias\", \"sequential.11.attention_heads.0.value_layer.weight\", \"sequential.11.attention_heads.0.value_layer.bias\", \"sequential.11.attention_heads.1.query_layer.weight\", \"sequential.11.attention_heads.1.query_layer.bias\", \"sequential.11.attention_heads.1.key_layer.weight\", \"sequential.11.attention_heads.1.key_layer.bias\", \"sequential.11.attention_heads.1.value_layer.weight\", \"sequential.11.attention_heads.1.value_layer.bias\", \"sequential.11.attention_heads.2.query_layer.weight\", \"sequential.11.attention_heads.2.query_layer.bias\", \"sequential.11.attention_heads.2.key_layer.weight\", \"sequential.11.attention_heads.2.key_layer.bias\", \"sequential.11.attention_heads.2.value_layer.weight\", \"sequential.11.attention_heads.2.value_layer.bias\", \"sequential.11.attention_heads.3.query_layer.weight\", \"sequential.11.attention_heads.3.query_layer.bias\", \"sequential.11.attention_heads.3.key_layer.weight\", \"sequential.11.attention_heads.3.key_layer.bias\", \"sequential.11.attention_heads.3.value_layer.weight\", \"sequential.11.attention_heads.3.value_layer.bias\", \"sequential.11.attention_heads.4.query_layer.weight\", \"sequential.11.attention_heads.4.query_layer.bias\", \"sequential.11.attention_heads.4.key_layer.weight\", \"sequential.11.attention_heads.4.key_layer.bias\", \"sequential.11.attention_heads.4.value_layer.weight\", \"sequential.11.attention_heads.4.value_layer.bias\", \"sequential.11.attention_heads.5.query_layer.weight\", \"sequential.11.attention_heads.5.query_layer.bias\", \"sequential.11.attention_heads.5.key_layer.weight\", \"sequential.11.attention_heads.5.key_layer.bias\", \"sequential.11.attention_heads.5.value_layer.weight\", \"sequential.11.attention_heads.5.value_layer.bias\", \"sequential.11.linear.weight\", \"sequential.11.linear.bias\", \"sequential.11.norm.weight\", \"sequential.11.norm.bias\", \"sequential.12.l1.weight\", \"sequential.12.l1.bias\", \"sequential.12.l2.weight\", \"sequential.12.l2.bias\", \"sequential.12.layer_norm.weight\", \"sequential.12.layer_norm.bias\", \"sequential.13.weight\", \"sequential.13.bias\". \n\tUnexpected key(s) in state_dict: \"sequential.5.weight\", \"sequential.5.bias\". \n\tsize mismatch for sequential.0.positional_embeddings: copying a param with shape torch.Size([16, 32]) from checkpoint, the shape in current model is torch.Size([256, 384]).\n\tsize mismatch for sequential.0.embeddings.weight: copying a param with shape torch.Size([65, 32]) from checkpoint, the shape in current model is torch.Size([65, 384]).\n\tsize mismatch for sequential.1.attention_heads.0.query_layer.weight: copying a param with shape torch.Size([64, 32]) from checkpoint, the shape in current model is torch.Size([64, 384]).\n\tsize mismatch for sequential.1.attention_heads.0.key_layer.weight: copying a param with shape torch.Size([64, 32]) from checkpoint, the shape in current model is torch.Size([64, 384]).\n\tsize mismatch for sequential.1.attention_heads.0.value_layer.weight: copying a param with shape torch.Size([64, 32]) from checkpoint, the shape in current model is torch.Size([64, 384]).\n\tsize mismatch for sequential.1.attention_heads.1.query_layer.weight: copying a param with shape torch.Size([64, 32]) from checkpoint, the shape in current model is torch.Size([64, 384]).\n\tsize mismatch for sequential.1.attention_heads.1.key_layer.weight: copying a param with shape torch.Size([64, 32]) from checkpoint, the shape in current model is torch.Size([64, 384]).\n\tsize mismatch for sequential.1.attention_heads.1.value_layer.weight: copying a param with shape torch.Size([64, 32]) from checkpoint, the shape in current model is torch.Size([64, 384]).\n\tsize mismatch for sequential.1.attention_heads.2.query_layer.weight: copying a param with shape torch.Size([64, 32]) from checkpoint, the shape in current model is torch.Size([64, 384]).\n\tsize mismatch for sequential.1.attention_heads.2.key_layer.weight: copying a param with shape torch.Size([64, 32]) from checkpoint, the shape in current model is torch.Size([64, 384]).\n\tsize mismatch for sequential.1.attention_heads.2.value_layer.weight: copying a param with shape torch.Size([64, 32]) from checkpoint, the shape in current model is torch.Size([64, 384]).\n\tsize mismatch for sequential.1.attention_heads.3.query_layer.weight: copying a param with shape torch.Size([64, 32]) from checkpoint, the shape in current model is torch.Size([64, 384]).\n\tsize mismatch for sequential.1.attention_heads.3.key_layer.weight: copying a param with shape torch.Size([64, 32]) from checkpoint, the shape in current model is torch.Size([64, 384]).\n\tsize mismatch for sequential.1.attention_heads.3.value_layer.weight: copying a param with shape torch.Size([64, 32]) from checkpoint, the shape in current model is torch.Size([64, 384]).\n\tsize mismatch for sequential.1.linear.weight: copying a param with shape torch.Size([32, 256]) from checkpoint, the shape in current model is torch.Size([384, 384]).\n\tsize mismatch for sequential.1.linear.bias: copying a param with shape torch.Size([32]) from checkpoint, the shape in current model is torch.Size([384]).\n\tsize mismatch for sequential.1.norm.weight: copying a param with shape torch.Size([32]) from checkpoint, the shape in current model is torch.Size([384]).\n\tsize mismatch for sequential.1.norm.bias: copying a param with shape torch.Size([32]) from checkpoint, the shape in current model is torch.Size([384]).\n\tsize mismatch for sequential.2.l1.weight: copying a param with shape torch.Size([2048, 32]) from checkpoint, the shape in current model is torch.Size([1536, 384]).\n\tsize mismatch for sequential.2.l1.bias: copying a param with shape torch.Size([2048]) from checkpoint, the shape in current model is torch.Size([1536]).\n\tsize mismatch for sequential.2.l2.weight: copying a param with shape torch.Size([32, 2048]) from checkpoint, the shape in current model is torch.Size([384, 1536]).\n\tsize mismatch for sequential.2.l2.bias: copying a param with shape torch.Size([32]) from checkpoint, the shape in current model is torch.Size([384]).\n\tsize mismatch for sequential.2.layer_norm.weight: copying a param with shape torch.Size([32]) from checkpoint, the shape in current model is torch.Size([384]).\n\tsize mismatch for sequential.2.layer_norm.bias: copying a param with shape torch.Size([32]) from checkpoint, the shape in current model is torch.Size([384]).\n\tsize mismatch for sequential.3.attention_heads.0.query_layer.weight: copying a param with shape torch.Size([64, 32]) from checkpoint, the shape in current model is torch.Size([64, 384]).\n\tsize mismatch for sequential.3.attention_heads.0.key_layer.weight: copying a param with shape torch.Size([64, 32]) from checkpoint, the shape in current model is torch.Size([64, 384]).\n\tsize mismatch for sequential.3.attention_heads.0.value_layer.weight: copying a param with shape torch.Size([64, 32]) from checkpoint, the shape in current model is torch.Size([64, 384]).\n\tsize mismatch for sequential.3.attention_heads.1.query_layer.weight: copying a param with shape torch.Size([64, 32]) from checkpoint, the shape in current model is torch.Size([64, 384]).\n\tsize mismatch for sequential.3.attention_heads.1.key_layer.weight: copying a param with shape torch.Size([64, 32]) from checkpoint, the shape in current model is torch.Size([64, 384]).\n\tsize mismatch for sequential.3.attention_heads.1.value_layer.weight: copying a param with shape torch.Size([64, 32]) from checkpoint, the shape in current model is torch.Size([64, 384]).\n\tsize mismatch for sequential.3.attention_heads.2.query_layer.weight: copying a param with shape torch.Size([64, 32]) from checkpoint, the shape in current model is torch.Size([64, 384]).\n\tsize mismatch for sequential.3.attention_heads.2.key_layer.weight: copying a param with shape torch.Size([64, 32]) from checkpoint, the shape in current model is torch.Size([64, 384]).\n\tsize mismatch for sequential.3.attention_heads.2.value_layer.weight: copying a param with shape torch.Size([64, 32]) from checkpoint, the shape in current model is torch.Size([64, 384]).\n\tsize mismatch for sequential.3.attention_heads.3.query_layer.weight: copying a param with shape torch.Size([64, 32]) from checkpoint, the shape in current model is torch.Size([64, 384]).\n\tsize mismatch for sequential.3.attention_heads.3.key_layer.weight: copying a param with shape torch.Size([64, 32]) from checkpoint, the shape in current model is torch.Size([64, 384]).\n\tsize mismatch for sequential.3.attention_heads.3.value_layer.weight: copying a param with shape torch.Size([64, 32]) from checkpoint, the shape in current model is torch.Size([64, 384]).\n\tsize mismatch for sequential.3.linear.weight: copying a param with shape torch.Size([32, 256]) from checkpoint, the shape in current model is torch.Size([384, 384]).\n\tsize mismatch for sequential.3.linear.bias: copying a param with shape torch.Size([32]) from checkpoint, the shape in current model is torch.Size([384]).\n\tsize mismatch for sequential.3.norm.weight: copying a param with shape torch.Size([32]) from checkpoint, the shape in current model is torch.Size([384]).\n\tsize mismatch for sequential.3.norm.bias: copying a param with shape torch.Size([32]) from checkpoint, the shape in current model is torch.Size([384]).\n\tsize mismatch for sequential.4.l1.weight: copying a param with shape torch.Size([2048, 32]) from checkpoint, the shape in current model is torch.Size([1536, 384]).\n\tsize mismatch for sequential.4.l1.bias: copying a param with shape torch.Size([2048]) from checkpoint, the shape in current model is torch.Size([1536]).\n\tsize mismatch for sequential.4.l2.weight: copying a param with shape torch.Size([32, 2048]) from checkpoint, the shape in current model is torch.Size([384, 1536]).\n\tsize mismatch for sequential.4.l2.bias: copying a param with shape torch.Size([32]) from checkpoint, the shape in current model is torch.Size([384]).\n\tsize mismatch for sequential.4.layer_norm.weight: copying a param with shape torch.Size([32]) from checkpoint, the shape in current model is torch.Size([384]).\n\tsize mismatch for sequential.4.layer_norm.bias: copying a param with shape torch.Size([32]) from checkpoint, the shape in current model is torch.Size([384])."
     ]
    }
   ],
   "source": [
    "import torch\n",
    "\n",
    "\n",
    "# To load the checkpoint:\n",
    "checkpoint = torch.load(\"./model_checkpoint_18_Feb_A__12000.pth\")  # Use map_location if needed\n",
    "model.load_state_dict(checkpoint[\"model_state_dict\"])\n"
   ]
  },
  {
   "cell_type": "code",
   "execution_count": null,
   "id": "79ca387d-92de-4871-a2cf-f86ecc5a2dae",
   "metadata": {},
   "outputs": [],
   "source": []
  }
 ],
 "metadata": {
  "accelerator": "GPU",
  "colab": {
   "gpuType": "T4",
   "provenance": []
  },
  "kernelspec": {
   "display_name": "Python 3 (ipykernel)",
   "language": "python",
   "name": "python3"
  },
  "language_info": {
   "codemirror_mode": {
    "name": "ipython",
    "version": 3
   },
   "file_extension": ".py",
   "mimetype": "text/x-python",
   "name": "python",
   "nbconvert_exporter": "python",
   "pygments_lexer": "ipython3",
   "version": "3.11.7"
  }
 },
 "nbformat": 4,
 "nbformat_minor": 5
}
