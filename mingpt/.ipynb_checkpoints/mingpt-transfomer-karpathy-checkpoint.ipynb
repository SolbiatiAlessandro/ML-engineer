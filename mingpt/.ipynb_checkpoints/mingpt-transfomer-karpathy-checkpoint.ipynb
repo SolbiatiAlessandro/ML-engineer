{
 "cells": [
  {
   "cell_type": "markdown",
   "id": "e1a9bb71-418c-4573-bcb9-f562c629f6a1",
   "metadata": {},
   "source": [
    "runs log\n",
    "\n",
    "- Transformer (1 blocks, 2 head) @ 3275 params, trained for 1 hours, training loss = 1.6864, validation loss = 1.8935\n",
    "- Transformer (1 blocks, 2 heads) @ 3275 params, training loss = 2.0824, validation loss = 2.1663\n",
    "- Two Residual MLPs @ 4563 params, training loss = 2.4655, validation loss = 2.4908\n",
    "- [Bigram + Adam @ 65 parameters](https://github.com/SolbiatiAlessandro/ML-system-design/commit/2362e2d0ac59be8afdd78ab9db119b33f8ce6f8d),  training loss = 2.49, validation loss = 2.52\n",
    "- Bigram @ 65 parameters,  training loss = 2.73, validation loss = 2.72\n",
    "- Random Choice, theoretical loss = 4.17\n",
    "\n",
    "\n",
    "these were done on simlar but different task (minigpt-transformer-alessandro) not sure they can be compared\n",
    "- MLP 3 layer with residual, @ 3795 paarmeters = 15500: train loss = 1.29, validation loss = 1.642946\n",
    "- [MLP baseline @ 2195 parameters](https://github.com/SolbiatiAlessandro/ML-system-design/commit/c9685b1e5835a05f84c0592773dc9386268b762c), train loss = 1.45, validation loss = 1.71 \n",
    "\n"
   ]
  },
  {
   "cell_type": "markdown",
   "id": "94804a2b-326a-44e3-9dbf-5276a4fcf016",
   "metadata": {
    "tags": []
   },
   "source": [
    "# Environment"
   ]
  },
  {
   "cell_type": "code",
   "execution_count": 2,
   "id": "864d7435-8ecf-4511-8d7e-f5236d0d12fa",
   "metadata": {
    "colab": {
     "base_uri": "https://localhost:8080/"
    },
    "id": "864d7435-8ecf-4511-8d7e-f5236d0d12fa",
    "outputId": "b9b16e5f-49c3-4b31-aab0-d00e5ae5b8e1",
    "tags": []
   },
   "outputs": [
    {
     "name": "stdout",
     "output_type": "stream",
     "text": [
      "--2025-02-18 03:56:17--  https://raw.githubusercontent.com/karpathy/char-rnn/master/data/tinyshakespeare/input.txt\n",
      "Resolving raw.githubusercontent.com (raw.githubusercontent.com)... 185.199.108.133, 185.199.109.133, 185.199.111.133, ...\n",
      "Connecting to raw.githubusercontent.com (raw.githubusercontent.com)|185.199.108.133|:443... connected.\n",
      "HTTP request sent, awaiting response... 200 OK\n",
      "Length: 1115394 (1.1M) [text/plain]\n",
      "Saving to: ‘input.txt.1’\n",
      "\n",
      "input.txt.1         100%[===================>]   1.06M  --.-KB/s    in 0.007s  \n",
      "\n",
      "2025-02-18 03:56:17 (155 MB/s) - ‘input.txt.1’ saved [1115394/1115394]\n",
      "\n"
     ]
    }
   ],
   "source": [
    "!wget https://raw.githubusercontent.com/karpathy/char-rnn/master/data/tinyshakespeare/input.txt"
   ]
  },
  {
   "cell_type": "code",
   "execution_count": 1,
   "id": "f09b7735-38a8-4bed-a129-d68d9c4474b7",
   "metadata": {
    "tags": []
   },
   "outputs": [
    {
     "name": "stdout",
     "output_type": "stream",
     "text": [
      "Using device: cuda\n",
      "Number of CUDA devices: 1\n",
      "Current device ID: 0\n",
      "Device name: Quadro RTX 5000\n",
      "Device properties: _CudaDeviceProperties(name='Quadro RTX 5000', major=7, minor=5, total_memory=16117MB, multi_processor_count=48)\n",
      "Memory allocated: 0\n",
      "Memory reserved: 0\n"
     ]
    }
   ],
   "source": [
    "import torch\n",
    "\n",
    "# 1. Define a device variable. If a GPU is available, use it.\n",
    "device = torch.device(\"cuda\" if torch.cuda.is_available() else \"cpu\")\n",
    "print(f\"Using device: {device}\")\n",
    "\n",
    "import torch\n",
    "\n",
    "# Check if CUDA is available\n",
    "if torch.cuda.is_available():\n",
    "    # Get the number of available CUDA devices\n",
    "    num_devices = torch.cuda.device_count()\n",
    "    print(\"Number of CUDA devices:\", num_devices)\n",
    "\n",
    "    # Get information about the current device\n",
    "    current_device_id = torch.cuda.current_device()\n",
    "    print(\"Current device ID:\", current_device_id)\n",
    "\n",
    "    # Get the name of the current device\n",
    "    device_name = torch.cuda.get_device_name(current_device_id)\n",
    "    print(\"Device name:\", device_name)\n",
    "\n",
    "    # Get detailed device properties\n",
    "    device_props = torch.cuda.get_device_properties(current_device_id)\n",
    "    print(\"Device properties:\", device_props)\n",
    "\n",
    "    # Get memory information\n",
    "    memory_allocated = torch.cuda.memory_allocated(current_device_id)\n",
    "    memory_reserved = torch.cuda.memory_reserved(current_device_id)\n",
    "    print(\"Memory allocated:\", memory_allocated)\n",
    "    print(\"Memory reserved:\", memory_reserved)\n",
    "else:\n",
    "    print(\"CUDA is not available.\")"
   ]
  },
  {
   "cell_type": "code",
   "execution_count": 2,
   "id": "8614dc81-ee0c-4ed2-819b-403c7bda335c",
   "metadata": {
    "tags": []
   },
   "outputs": [
    {
     "name": "stdout",
     "output_type": "stream",
     "text": [
      "Tue Feb 18 07:29:29 2025       \n",
      "+-----------------------------------------------------------------------------+\n",
      "| NVIDIA-SMI 525.116.04   Driver Version: 525.116.04   CUDA Version: 12.0     |\n",
      "|-------------------------------+----------------------+----------------------+\n",
      "| GPU  Name        Persistence-M| Bus-Id        Disp.A | Volatile Uncorr. ECC |\n",
      "| Fan  Temp  Perf  Pwr:Usage/Cap|         Memory-Usage | GPU-Util  Compute M. |\n",
      "|                               |                      |               MIG M. |\n",
      "|===============================+======================+======================|\n",
      "|   0  Quadro RTX 5000     Off  | 00000000:00:05.0 Off |                  Off |\n",
      "| 33%   31C    P8     7W / 230W |      3MiB / 16384MiB |      0%      Default |\n",
      "|                               |                      |                  N/A |\n",
      "+-------------------------------+----------------------+----------------------+\n",
      "                                                                               \n",
      "+-----------------------------------------------------------------------------+\n",
      "| Processes:                                                                  |\n",
      "|  GPU   GI   CI        PID   Type   Process name                  GPU Memory |\n",
      "|        ID   ID                                                   Usage      |\n",
      "|=============================================================================|\n",
      "|  No running processes found                                                 |\n",
      "+-----------------------------------------------------------------------------+\n"
     ]
    }
   ],
   "source": [
    "!nvidia-smi"
   ]
  },
  {
   "cell_type": "code",
   "execution_count": 3,
   "id": "2a39b7c0-2eca-4721-8996-34dc227d3059",
   "metadata": {
    "tags": []
   },
   "outputs": [],
   "source": [
    "hyperparams = {\n",
    "    'block_size': 16,\n",
    "    'dmodel': 32,\n",
    "    'hidden_layer': 2048,\n",
    "    'batch_size': 1024*8,\n",
    "    'epochs': 100000\n",
    "}"
   ]
  },
  {
   "cell_type": "markdown",
   "id": "a7be8940-c155-49a3-930c-32733ec1add6",
   "metadata": {
    "id": "a7be8940-c155-49a3-930c-32733ec1add6"
   },
   "source": [
    "# Shakespeare dataset"
   ]
  },
  {
   "cell_type": "code",
   "execution_count": 4,
   "id": "45f09b2a-8b73-4355-b10b-7e0b776ebeb0",
   "metadata": {
    "id": "45f09b2a-8b73-4355-b10b-7e0b776ebeb0",
    "tags": []
   },
   "outputs": [],
   "source": [
    "# read it in to inspect it\n",
    "with open('input.txt', 'r', encoding='utf-8') as f:\n",
    "    text = f.read()"
   ]
  },
  {
   "cell_type": "code",
   "execution_count": 5,
   "id": "839ec9a0-ce0d-4d95-aefe-73a244b8c359",
   "metadata": {
    "tags": []
   },
   "outputs": [
    {
     "data": {
      "text/plain": [
       "1115394"
      ]
     },
     "execution_count": 5,
     "metadata": {},
     "output_type": "execute_result"
    }
   ],
   "source": [
    "len(text)"
   ]
  },
  {
   "cell_type": "code",
   "execution_count": 6,
   "id": "e6cc8b97-5aed-4eb1-8145-27d4fe178d0d",
   "metadata": {
    "id": "e6cc8b97-5aed-4eb1-8145-27d4fe178d0d",
    "tags": []
   },
   "outputs": [],
   "source": [
    "# other tokenizer can use \n",
    "# https://github.com/openai/tiktoken\n",
    "# https://github.com/google/sentencepiece \n",
    "\n",
    "characters = set()\n",
    "for c in text:\n",
    "    characters.add(c)\n",
    "vocab_size = len(characters)\n",
    "int_to_characters = {i: c for i, c in enumerate(characters)}\n",
    "characters_to_int = {c: i for i, c in enumerate(characters)}\n"
   ]
  },
  {
   "cell_type": "code",
   "execution_count": 7,
   "id": "cc4fd58e-d20c-44da-8ffe-dec2335df588",
   "metadata": {
    "tags": []
   },
   "outputs": [],
   "source": [
    "# could also be done w torch.stack\n",
    "data = [characters_to_int[c] for c in text]\n",
    "n = int(0.9 * len(data))\n",
    "train_data = torch.tensor(data[:n], device=device)\n",
    "val_data = torch.tensor(data[n:], device=device)"
   ]
  },
  {
   "cell_type": "code",
   "execution_count": 8,
   "id": "4e93505a-ef1b-41ec-b3d7-9091472429f6",
   "metadata": {
    "tags": []
   },
   "outputs": [
    {
     "data": {
      "text/plain": [
       "(torch.Size([1003854]), torch.Size([111540]))"
      ]
     },
     "execution_count": 8,
     "metadata": {},
     "output_type": "execute_result"
    }
   ],
   "source": [
    "train_data.shape, val_data.shape"
   ]
  },
  {
   "cell_type": "code",
   "execution_count": 9,
   "id": "cff5f201-ca09-4f27-b5a3-831fc8822b2c",
   "metadata": {
    "tags": []
   },
   "outputs": [],
   "source": [
    "torch.manual_seed(1337)\n",
    "batch_size = hyperparams['batch_size']\n",
    "block_size = hyperparams['block_size']\n",
    "\n",
    "def get_batch(split , batch_size=batch_size):\n",
    "    data = train_data if split == 'train' else val_data\n",
    "    ix = torch.randint(0, len(data) - block_size, (batch_size,), device=device)\n",
    "    x = torch.stack([data[i:i+block_size] for i in ix])\n",
    "    y = torch.stack([data[i+1:i+block_size+1] for i in ix])\n",
    "    return x, y"
   ]
  },
  {
   "cell_type": "code",
   "execution_count": 10,
   "id": "7988cdd4-9216-4e56-9216-92702e7d0bbe",
   "metadata": {
    "tags": []
   },
   "outputs": [
    {
     "data": {
      "text/plain": [
       "(torch.Size([8192, 16]), torch.Size([8192, 16]))"
      ]
     },
     "execution_count": 10,
     "metadata": {},
     "output_type": "execute_result"
    }
   ],
   "source": [
    "xb, yb = get_batch('train')\n",
    "xb.shape, yb.shape"
   ]
  },
  {
   "cell_type": "code",
   "execution_count": 11,
   "id": "f38e9c39-305a-4ec2-ab12-e1fd795d14de",
   "metadata": {
    "tags": []
   },
   "outputs": [
    {
     "data": {
      "text/plain": [
       "(tensor([[32, 16, 18,  ..., 49,  4, 25],\n",
       "         [24, 25, 41,  ..., 17, 39, 28],\n",
       "         [25, 41, 32,  ..., 32, 57, 32],\n",
       "         ...,\n",
       "         [16, 39, 41,  ..., 59,  1, 18],\n",
       "         [14, 61, 25,  ..., 25,  1, 59],\n",
       "         [25, 41, 32,  ..., 24, 40, 14]], device='cuda:0'),\n",
       " tensor([[16, 18, 25,  ...,  4, 25, 41],\n",
       "         [25, 41, 18,  ..., 39, 28, 18],\n",
       "         [41, 32, 53,  ..., 57, 32, 18],\n",
       "         ...,\n",
       "         [39, 41, 18,  ...,  1, 18, 25],\n",
       "         [61, 25, 17,  ...,  1, 59, 14],\n",
       "         [41, 32, 17,  ..., 40, 14, 18]], device='cuda:0'))"
      ]
     },
     "execution_count": 11,
     "metadata": {},
     "output_type": "execute_result"
    }
   ],
   "source": [
    "xb, yb"
   ]
  },
  {
   "cell_type": "code",
   "execution_count": 12,
   "id": "56075dfd-892f-416a-9f79-ba0ad114a384",
   "metadata": {
    "tags": []
   },
   "outputs": [
    {
     "name": "stdout",
     "output_type": "stream",
     "text": [
      "111540\n"
     ]
    }
   ],
   "source": [
    "print(len(val_data))"
   ]
  },
  {
   "cell_type": "markdown",
   "id": "e56019c9-7abd-4e5a-9a52-52f46c81911d",
   "metadata": {
    "tags": []
   },
   "source": [
    "# Transformer Architecture"
   ]
  },
  {
   "cell_type": "code",
   "execution_count": 13,
   "id": "e7e32a1f-aabc-4711-b349-de2d07df1c48",
   "metadata": {
    "tags": []
   },
   "outputs": [],
   "source": [
    "block_size = hyperparams['block_size']\n",
    "dmodel = hyperparams['dmodel']"
   ]
  },
  {
   "cell_type": "code",
   "execution_count": 14,
   "id": "2d8613e9-4956-4b38-97b8-8d175c1349f8",
   "metadata": {
    "tags": []
   },
   "outputs": [],
   "source": [
    "import torch.nn as nn\n",
    "import torch.nn.functional as F\n",
    "import math"
   ]
  },
  {
   "cell_type": "code",
   "execution_count": 15,
   "id": "d6266508-6aa5-4394-981a-f6c73734cd0d",
   "metadata": {
    "tags": []
   },
   "outputs": [
    {
     "data": {
      "text/plain": [
       "(torch.Size([8192, 16]), torch.Size([8192, 16]))"
      ]
     },
     "execution_count": 15,
     "metadata": {},
     "output_type": "execute_result"
    }
   ],
   "source": [
    "xb, yb = get_batch('train')\n",
    "xb.shape, yb.shape"
   ]
  },
  {
   "cell_type": "code",
   "execution_count": 16,
   "id": "ca03f2af-eb30-4ddf-91d2-130e7d01ef9b",
   "metadata": {
    "tags": []
   },
   "outputs": [],
   "source": [
    "dmodel = hyperparams['dmodel']\n",
    "hidden_layer = hyperparams['hidden_layer']"
   ]
  },
  {
   "cell_type": "code",
   "execution_count": 72,
   "id": "e75f70ba-0ce6-4bfd-9605-60f7d518c57f",
   "metadata": {
    "tags": []
   },
   "outputs": [],
   "source": [
    "class PositionalEmbeddings(nn.Module):\n",
    "    def __init__(self, block_size, dmodel, vocab_size, device=device):\n",
    "        super().__init__()\n",
    "        positional_embeddings = torch.zeros(block_size, dmodel, device=device)\n",
    "        for pos in range(block_size):\n",
    "            for i in range(dmodel // 2):\n",
    "                denominator = 10000 ** (2 * i / dmodel)\n",
    "                positional_embeddings[pos, 2*i]   = math.sin(pos / denominator)\n",
    "                positional_embeddings[pos, 2*i+1] = math.cos(pos / denominator)\n",
    "        self.register_buffer(\"positional_embeddings\", positional_embeddings)\n",
    "        self.dmodel = dmodel\n",
    "        \n",
    "        self.embeddings = nn.Embedding(vocab_size, dmodel, device=device)\n",
    "        self.dropout = nn.Dropout(0.10)\n",
    "        \n",
    "    def forward(self, x):\n",
    "        self.out = (self.embeddings(x) + self.positional_embeddings) * math.sqrt(self.dmodel)\n",
    "        self.out = self.dropout(self.out)\n",
    "        return self.out\n",
    "\n",
    "class ResidualMLPLayer(nn.Module):\n",
    "    def __init__(self, fan_in, hidden_layer_size,device=device):\n",
    "        # output is going to be fan_in * 2\n",
    "        super().__init__()\n",
    "        self.l1 = nn.Linear(fan_in, hidden_layer_size, device=device)\n",
    "        self.relu = nn.ReLU()\n",
    "        self.l2 = nn.Linear(hidden_layer_size, fan_in, device=device)\n",
    "        self.layer_norm = nn.LayerNorm(fan_in, device=device)\n",
    "        self.dropout = nn.Dropout(p=0.10)\n",
    "    \n",
    "    def forward(self, x):\n",
    "        mlp = self.l1(x)\n",
    "        mlp = self.relu(mlp)\n",
    "        mlp = self.l2(mlp)\n",
    "        mlp = self.dropout(mlp)\n",
    "        x = x + mlp\n",
    "        x = self.layer_norm(x)\n",
    "        self.out = x\n",
    "        return self.out\n",
    "\n",
    "    \n",
    "class ScaledDotProductAttention(nn.Module):\n",
    "    \n",
    "    def __init__(self, fan_in, query_size = 64, value_size = 64, device=device):\n",
    "        # fan_in = embedding_dim\n",
    "        super().__init__()\n",
    "        self.query_layer = nn.Linear(fan_in, query_size, device=device)\n",
    "        self.key_layer = nn.Linear(fan_in, query_size, device=device)\n",
    "        self.value_layer = nn.Linear(fan_in, value_size, device=device)\n",
    "        self.query_size = query_size\n",
    "        self.flatten = nn.Flatten()\n",
    "        \n",
    "    def forward(self, x):\n",
    "        query = self.query_layer(x)\n",
    "        key = self.key_layer(x)\n",
    "        attention = (query @ key.transpose(2, 1)) / math.sqrt(self.query_size)\n",
    "        mask = torch.tril(torch.ones_like(attention, dtype=torch.bool))\n",
    "        masked_attention = attention.masked_fill(~mask, float('-inf'))\n",
    "        masked_attention = F.softmax(masked_attention, dim=2)\n",
    "        \n",
    "        value = self.value_layer(x)\n",
    "        x = (masked_attention @ value)\n",
    "        self.out = x\n",
    "        return self.out\n",
    "    \n",
    "class MultiHeadAttention(nn.Module):\n",
    "    \n",
    "    def __init__(self, fan_in, heads=4, query_size = 64, value_size = 64, device=device):\n",
    "        super().__init__()\n",
    "        self.value_size = value_size\n",
    "        self.heads = heads\n",
    "        self.attention_heads = nn.ModuleList([\n",
    "            ScaledDotProductAttention(fan_in, query_size, value_size, device) for _ in range(heads)])\n",
    "        self.linear = nn.Linear(value_size * heads, fan_in, device=device)\n",
    "        self.norm = nn.LayerNorm(fan_in, device=device)\n",
    "        self.dropout = nn.Dropout(p=0.10)\n",
    "        \n",
    "    def forward(self, x):\n",
    "        out = [attention_head(x) for attention_head in self.attention_heads]\n",
    "        out = torch.cat(out, dim=2)\n",
    "        out = self.linear(out)\n",
    "        out = self.dropout(out)\n",
    "        out = out + x # add\n",
    "        out = self.norm(out) # norm\n",
    "        self.out = out\n",
    "        return self.out    \n",
    "\n",
    "class Transformer(nn.Module):\n",
    "    def __init__(self, vocab_size, dmodel, device=device):\n",
    "        super().__init__()\n",
    "        self.sequential = nn.Sequential(\n",
    "            PositionalEmbeddings(block_size, dmodel, vocab_size, device=device),\n",
    "            MultiHeadAttention(dmodel),\n",
    "            ResidualMLPLayer(dmodel, hidden_layer, device=device),\n",
    "            MultiHeadAttention(dmodel),\n",
    "            ResidualMLPLayer(dmodel, hidden_layer, device=device),\n",
    "            nn.Linear(dmodel, vocab_size, device=device)\n",
    "        )\n",
    "        \n",
    "    def forward(self, x, targets=None):\n",
    "        logits = self.sequential(x) # B, T, C  \n",
    "        if targets is None: return logits\n",
    "        B, T, C = logits.shape\n",
    "        logits = logits.view(B*T, C)\n",
    "        target = targets.view(B*T)\n",
    "        loss = F.cross_entropy(logits, target)\n",
    "        return logits, loss\n",
    "    \n",
    "    def generate(self, idx, max_token_generated):\n",
    "        #        idx = torch.zeros((1, 1), dtype=torch.long, device=device)\n",
    "        for _ in range(max_token_generated):\n",
    "            logits = model.forward(idx[:, -8:])\n",
    "            logits = logits[:, -1, :]\n",
    "            probs = F.softmax(logits, dim=1)\n",
    "            pred = torch.multinomial(probs, num_samples=1)\n",
    "            idx = torch.cat((idx, pred), dim=1)\n",
    "        return idx\n",
    "        "
   ]
  },
  {
   "cell_type": "code",
   "execution_count": 73,
   "id": "321909c5-30d7-4cba-b2e3-7421f7dab324",
   "metadata": {
    "tags": []
   },
   "outputs": [
    {
     "name": "stdout",
     "output_type": "stream",
     "text": [
      "parameters = 11971\n"
     ]
    },
    {
     "data": {
      "text/plain": [
       "Transformer(\n",
       "  (sequential): Sequential(\n",
       "    (0): PositionalEmbeddings(\n",
       "      (embeddings): Embedding(65, 32)\n",
       "      (dropout): Dropout(p=0.1, inplace=False)\n",
       "    )\n",
       "    (1): MultiHeadAttention(\n",
       "      (attention_heads): ModuleList(\n",
       "        (0-3): 4 x ScaledDotProductAttention(\n",
       "          (query_layer): Linear(in_features=32, out_features=64, bias=True)\n",
       "          (key_layer): Linear(in_features=32, out_features=64, bias=True)\n",
       "          (value_layer): Linear(in_features=32, out_features=64, bias=True)\n",
       "          (flatten): Flatten(start_dim=1, end_dim=-1)\n",
       "        )\n",
       "      )\n",
       "      (linear): Linear(in_features=256, out_features=32, bias=True)\n",
       "      (norm): LayerNorm((32,), eps=1e-05, elementwise_affine=True)\n",
       "      (dropout): Dropout(p=0.1, inplace=False)\n",
       "    )\n",
       "    (2): ResidualMLPLayer(\n",
       "      (l1): Linear(in_features=32, out_features=2048, bias=True)\n",
       "      (relu): ReLU()\n",
       "      (l2): Linear(in_features=2048, out_features=32, bias=True)\n",
       "      (layer_norm): LayerNorm((32,), eps=1e-05, elementwise_affine=True)\n",
       "      (dropout): Dropout(p=0.1, inplace=False)\n",
       "    )\n",
       "    (3): MultiHeadAttention(\n",
       "      (attention_heads): ModuleList(\n",
       "        (0-3): 4 x ScaledDotProductAttention(\n",
       "          (query_layer): Linear(in_features=32, out_features=64, bias=True)\n",
       "          (key_layer): Linear(in_features=32, out_features=64, bias=True)\n",
       "          (value_layer): Linear(in_features=32, out_features=64, bias=True)\n",
       "          (flatten): Flatten(start_dim=1, end_dim=-1)\n",
       "        )\n",
       "      )\n",
       "      (linear): Linear(in_features=256, out_features=32, bias=True)\n",
       "      (norm): LayerNorm((32,), eps=1e-05, elementwise_affine=True)\n",
       "      (dropout): Dropout(p=0.1, inplace=False)\n",
       "    )\n",
       "    (4): ResidualMLPLayer(\n",
       "      (l1): Linear(in_features=32, out_features=2048, bias=True)\n",
       "      (relu): ReLU()\n",
       "      (l2): Linear(in_features=2048, out_features=32, bias=True)\n",
       "      (layer_norm): LayerNorm((32,), eps=1e-05, elementwise_affine=True)\n",
       "      (dropout): Dropout(p=0.1, inplace=False)\n",
       "    )\n",
       "    (5): Linear(in_features=32, out_features=65, bias=True)\n",
       "  )\n",
       ")"
      ]
     },
     "execution_count": 73,
     "metadata": {},
     "output_type": "execute_result"
    }
   ],
   "source": [
    "model = Transformer(vocab_size, dmodel, device=device)\n",
    "print(f\"parameters = {sum(len(p) for p in model.parameters())}\")\n",
    "model"
   ]
  },
  {
   "cell_type": "code",
   "execution_count": 74,
   "id": "92f195fb-f8af-4c09-8c92-4d33ea61e4ca",
   "metadata": {
    "tags": []
   },
   "outputs": [
    {
     "name": "stdout",
     "output_type": "stream",
     "text": [
      "0: training loss = 4.2573, validation loss = 3.8462\n",
      "10: training loss = 3.4924, validation loss = 3.4753\n",
      "20: training loss = 3.2513, validation loss = 3.2603\n",
      "30: training loss = 3.0907, validation loss = 3.0938\n",
      "40: training loss = 2.9489, validation loss = 2.9637\n",
      "50: training loss = 2.8448, validation loss = 2.8502\n",
      "60: training loss = 2.7571, validation loss = 2.7573\n",
      "70: training loss = 2.6870, validation loss = 2.6917\n",
      "80: training loss = 2.6300, validation loss = 2.6257\n",
      "90: training loss = 2.5743, validation loss = 2.5850\n",
      "100: training loss = 2.5338, validation loss = 2.5470\n",
      "110: training loss = 2.4973, validation loss = 2.5047\n",
      "120: training loss = 2.4645, validation loss = 2.4685\n",
      "130: training loss = 2.4326, validation loss = 2.4429\n",
      "140: training loss = 2.4013, validation loss = 2.4157\n",
      "150: training loss = 2.3770, validation loss = 2.3855\n",
      "160: training loss = 2.3704, validation loss = 2.4006\n",
      "170: training loss = 2.3322, validation loss = 2.3598\n",
      "180: training loss = 2.3202, validation loss = 2.3403\n",
      "190: training loss = 2.2965, validation loss = 2.3195\n",
      "200: training loss = 2.2896, validation loss = 2.3082\n",
      "210: training loss = 2.2777, validation loss = 2.2898\n",
      "220: training loss = 2.2546, validation loss = 2.2820\n",
      "230: training loss = 2.2448, validation loss = 2.2709\n",
      "240: training loss = 2.2269, validation loss = 2.2530\n",
      "250: training loss = 2.2153, validation loss = 2.2435\n",
      "260: training loss = 2.2037, validation loss = 2.2345\n"
     ]
    },
    {
     "ename": "KeyboardInterrupt",
     "evalue": "",
     "output_type": "error",
     "traceback": [
      "\u001b[0;31m---------------------------------------------------------------------------\u001b[0m",
      "\u001b[0;31mKeyboardInterrupt\u001b[0m                         Traceback (most recent call last)",
      "Cell \u001b[0;32mIn[74], line 11\u001b[0m\n\u001b[1;32m      7\u001b[0m \u001b[38;5;66;03m#xval, yval = get_batch('val', batch_size=len(val_data))\u001b[39;00m\n\u001b[1;32m      9\u001b[0m \u001b[38;5;28;01mfor\u001b[39;00m epoch \u001b[38;5;129;01min\u001b[39;00m \u001b[38;5;28mrange\u001b[39m(epochs):\n\u001b[1;32m     10\u001b[0m     \u001b[38;5;66;03m# forward\u001b[39;00m\n\u001b[0;32m---> 11\u001b[0m     xb, yb \u001b[38;5;241m=\u001b[39m \u001b[43mget_batch\u001b[49m\u001b[43m(\u001b[49m\u001b[38;5;124;43m'\u001b[39;49m\u001b[38;5;124;43mtrain\u001b[39;49m\u001b[38;5;124;43m'\u001b[39;49m\u001b[43m)\u001b[49m\n\u001b[1;32m     12\u001b[0m     logits, loss \u001b[38;5;241m=\u001b[39m model(xb, targets\u001b[38;5;241m=\u001b[39myb)\n\u001b[1;32m     13\u001b[0m     lossi\u001b[38;5;241m.\u001b[39mappend(loss\u001b[38;5;241m.\u001b[39mitem())\n",
      "Cell \u001b[0;32mIn[9], line 9\u001b[0m, in \u001b[0;36mget_batch\u001b[0;34m(split, batch_size)\u001b[0m\n\u001b[1;32m      7\u001b[0m ix \u001b[38;5;241m=\u001b[39m torch\u001b[38;5;241m.\u001b[39mrandint(\u001b[38;5;241m0\u001b[39m, \u001b[38;5;28mlen\u001b[39m(data) \u001b[38;5;241m-\u001b[39m block_size, (batch_size,), device\u001b[38;5;241m=\u001b[39mdevice)\n\u001b[1;32m      8\u001b[0m x \u001b[38;5;241m=\u001b[39m torch\u001b[38;5;241m.\u001b[39mstack([data[i:i\u001b[38;5;241m+\u001b[39mblock_size] \u001b[38;5;28;01mfor\u001b[39;00m i \u001b[38;5;129;01min\u001b[39;00m ix])\n\u001b[0;32m----> 9\u001b[0m y \u001b[38;5;241m=\u001b[39m torch\u001b[38;5;241m.\u001b[39mstack(\u001b[43m[\u001b[49m\u001b[43mdata\u001b[49m\u001b[43m[\u001b[49m\u001b[43mi\u001b[49m\u001b[38;5;241;43m+\u001b[39;49m\u001b[38;5;241;43m1\u001b[39;49m\u001b[43m:\u001b[49m\u001b[43mi\u001b[49m\u001b[38;5;241;43m+\u001b[39;49m\u001b[43mblock_size\u001b[49m\u001b[38;5;241;43m+\u001b[39;49m\u001b[38;5;241;43m1\u001b[39;49m\u001b[43m]\u001b[49m\u001b[43m \u001b[49m\u001b[38;5;28;43;01mfor\u001b[39;49;00m\u001b[43m \u001b[49m\u001b[43mi\u001b[49m\u001b[43m \u001b[49m\u001b[38;5;129;43;01min\u001b[39;49;00m\u001b[43m \u001b[49m\u001b[43mix\u001b[49m\u001b[43m]\u001b[49m)\n\u001b[1;32m     10\u001b[0m \u001b[38;5;28;01mreturn\u001b[39;00m x, y\n",
      "Cell \u001b[0;32mIn[9], line 9\u001b[0m, in \u001b[0;36m<listcomp>\u001b[0;34m(.0)\u001b[0m\n\u001b[1;32m      7\u001b[0m ix \u001b[38;5;241m=\u001b[39m torch\u001b[38;5;241m.\u001b[39mrandint(\u001b[38;5;241m0\u001b[39m, \u001b[38;5;28mlen\u001b[39m(data) \u001b[38;5;241m-\u001b[39m block_size, (batch_size,), device\u001b[38;5;241m=\u001b[39mdevice)\n\u001b[1;32m      8\u001b[0m x \u001b[38;5;241m=\u001b[39m torch\u001b[38;5;241m.\u001b[39mstack([data[i:i\u001b[38;5;241m+\u001b[39mblock_size] \u001b[38;5;28;01mfor\u001b[39;00m i \u001b[38;5;129;01min\u001b[39;00m ix])\n\u001b[0;32m----> 9\u001b[0m y \u001b[38;5;241m=\u001b[39m torch\u001b[38;5;241m.\u001b[39mstack([data[i\u001b[38;5;241m+\u001b[39m\u001b[38;5;241m1\u001b[39m:i\u001b[38;5;241m+\u001b[39mblock_size\u001b[38;5;241m+\u001b[39m\u001b[38;5;241m1\u001b[39m] \u001b[38;5;28;01mfor\u001b[39;00m i \u001b[38;5;129;01min\u001b[39;00m ix])\n\u001b[1;32m     10\u001b[0m \u001b[38;5;28;01mreturn\u001b[39;00m x, y\n",
      "\u001b[0;31mKeyboardInterrupt\u001b[0m: "
     ]
    }
   ],
   "source": [
    "epochs = 300000\n",
    "# lossi, vlossi = [], []\n",
    "lossi = []\n",
    "\n",
    "optimizer = torch.optim.AdamW(model.parameters(), lr=0.001)\n",
    "\n",
    "#xval, yval = get_batch('val', batch_size=len(val_data))\n",
    "\n",
    "for epoch in range(epochs):\n",
    "    # forward\n",
    "    xb, yb = get_batch('train')\n",
    "    logits, loss = model(xb, targets=yb)\n",
    "    lossi.append(loss.item())\n",
    "    \n",
    "    # backward\n",
    "    optimizer.zero_grad()\n",
    "    loss.backward()\n",
    "    \n",
    "    # update\n",
    "    optimizer.step()\n",
    "    \n",
    "    if epoch % 10 == 0:\n",
    "        \n",
    "        with torch.no_grad():\n",
    "            _vloss = []\n",
    "            for _ in range(1):\n",
    "                xval, yval = get_batch('val')\n",
    "                _, vloss = model(xval, yval)\n",
    "                _vloss.append(vloss.item())\n",
    "            vloss = sum(_vloss)/len(_vloss)\n",
    "            vlossi.append(vloss)\n",
    "            print(f\"{epoch}: training loss = {loss.item():.4f}, validation loss = {vloss:.4f}\")\n",
    "    \n",
    "    if epoch % 3000 == 0:\n",
    "                # Create a checkpoint dictionary\n",
    "        checkpoint = {\n",
    "            'epoch': epoch,\n",
    "            'model_state_dict': model.state_dict(),\n",
    "            'optimizer_state_dict': optimizer.state_dict(),\n",
    "            'loss': lossi,\n",
    "            'vloss': vlossi,\n",
    "        }\n",
    "\n",
    "        # Save the checkpoint to a file\n",
    "        torch.save(checkpoint, f'model_checkpoint_18_Feb_A__{epoch}.pth')\n",
    "            \n",
    "# 400: training loss = 2.1767, validation loss = 2.2318, 1 block @ 3000\n",
    "# 400: training loss = 2.0470, validation loss = 2.1139, 2 blocks @ 6355\n",
    "# 400: training loss = 2.0035, validation loss = 2.0857, 3 blocks @ 9435\n",
    "\n",
    "#50: training loss = 2.7914, validation loss = 2.7903\n",
    "#100: training loss = 2.4451, validation loss = 2.4911\n",
    "\n",
    "# 50: training loss = 2.7557, validation loss = 2.7672\n",
    "# 100: training loss = 2.5206, validation loss = 2.5144\n"
   ]
  },
  {
   "cell_type": "code",
   "execution_count": 21,
   "id": "6117c883-526b-44d3-891a-e96fccb2b16c",
   "metadata": {
    "tags": []
   },
   "outputs": [
    {
     "name": "stdout",
     "output_type": "stream",
     "text": [
      "validation loss estimation:\n",
      "0 tensor(2.9898, device='cuda:0')\n",
      "3 tensor(2.9936, device='cuda:0')\n",
      "6 tensor(2.9856, device='cuda:0')\n",
      "9 tensor(2.9844, device='cuda:0')\n",
      "12 tensor(2.9940, device='cuda:0')\n",
      "15 tensor(2.9878, device='cuda:0')\n",
      "18 tensor(2.9857, device='cuda:0')\n",
      "21 tensor(2.9897, device='cuda:0')\n",
      "24 tensor(2.9900, device='cuda:0')\n",
      "27 tensor(2.9904, device='cuda:0')\n",
      "30 tensor(2.9842, device='cuda:0')\n",
      "33 tensor(2.9861, device='cuda:0')\n",
      "36 tensor(2.9997, device='cuda:0')\n",
      "39 tensor(2.9931, device='cuda:0')\n",
      "final validation loss = 2.9896\n"
     ]
    }
   ],
   "source": [
    "with torch.no_grad():\n",
    "    print(\"validation loss estimation:\")\n",
    "    _vloss = []\n",
    "    for i in range(40):\n",
    "        xval, yval = get_batch('val')\n",
    "        _, vloss = model(xval, yval)\n",
    "        if i % 3 == 0:\n",
    "            print(i, vloss)\n",
    "        _vloss.append(vloss.item())\n",
    "    vloss = sum(_vloss)/len(_vloss)\n",
    "    vlossi.append(vloss)\n",
    "    print(f\"final validation loss = {vloss:.4f}\")\n"
   ]
  },
  {
   "cell_type": "code",
   "execution_count": 75,
   "id": "27c35819-6644-416a-9520-291425178d01",
   "metadata": {
    "tags": []
   },
   "outputs": [],
   "source": [
    "lossi = torch.tensor(lossi)"
   ]
  },
  {
   "cell_type": "code",
   "execution_count": 55,
   "id": "0d5e62c3-215d-47e8-a300-8ebb8dfee6bc",
   "metadata": {
    "tags": []
   },
   "outputs": [
    {
     "data": {
      "text/plain": [
       "tensor([4.3813, 3.9307, 3.7873, 3.7180, 3.6793, 3.6515, 3.6358, 3.6093, 3.5846,\n",
       "        3.5605, 3.5343, 3.5132, 3.4819, 3.4558, 3.4302, 3.4002, 3.3750, 3.3514,\n",
       "        3.3232, 3.3098, 3.2920, 3.2759, 3.2607, 3.2409, 3.2119, 3.2049, 3.1797,\n",
       "        3.1678, 3.1580, 3.1413, 3.1152, 3.1033, 3.0876, 3.0758, 3.0551, 3.0437,\n",
       "        3.0330, 3.0152, 3.0094, 2.9874, 2.9855, 2.9751, 2.9640, 2.9399, 2.9302,\n",
       "        2.9260, 2.9165, 2.9054, 2.8906, 2.8835, 2.8693, 2.8682, 2.8541, 2.8477,\n",
       "        2.8370, 2.8273, 2.8247, 2.8145, 2.8002, 2.7967, 2.7884, 2.7848, 2.7748,\n",
       "        2.7709, 2.7527, 2.7497, 2.7496, 2.7378, 2.7248, 2.7175, 2.7140, 2.7122,\n",
       "        2.7077, 2.6968, 2.6910, 2.6789, 2.6776, 2.6722, 2.6638, 2.6570, 2.6593,\n",
       "        2.6494, 2.6392, 2.6394, 2.6299, 2.6280, 2.6256, 2.6203, 2.6176, 2.6027,\n",
       "        2.6055, 2.5973, 2.6016, 2.5926, 2.5831, 2.5836, 2.5808, 2.5673, 2.5659,\n",
       "        2.5624, 2.5662, 2.5531, 2.5490, 2.5429])"
      ]
     },
     "execution_count": 55,
     "metadata": {},
     "output_type": "execute_result"
    }
   ],
   "source": [
    "lossi"
   ]
  },
  {
   "cell_type": "code",
   "execution_count": 76,
   "id": "8d02a487-35bc-4068-bb1b-23cb3c18c0d3",
   "metadata": {
    "tags": []
   },
   "outputs": [
    {
     "data": {
      "image/png": "[encoded data removed]",
      "text/plain": [
       "<Figure size 1000x600 with 1 Axes>"
      ]
     },
     "metadata": {},
     "output_type": "display_data"
    }
   ],
   "source": [
    "import torch\n",
    "from matplotlib import pyplot as plt\n",
    "\n",
    "# Assuming lossi and vlossi are PyTorch tensors.\n",
    "# Calculate block size based on the length of vlossi:\n",
    "plot_dim = len(vlossi) * 1\n",
    "\n",
    "# Compute the averaged training loss:\n",
    "#   1. Compute how many complete blocks of length plot_dim fit in lossi.\n",
    "#   2. Slice lossi to that many elements.\n",
    "#   3. Reshape into (plot_dim, -1) so that each column is one block.\n",
    "#   4. Take the mean across each row.\n",
    "avg_loss = lossi[:plot_dim * (lossi.numel() // plot_dim)].view(plot_dim, -1).mean(1)\n",
    "\n",
    "# Convert tensors to numpy arrays for plotting.\n",
    "avg_loss_np = avg_loss.cpu().numpy() if avg_loss.is_cuda else avg_loss.numpy()\n",
    "vlossi_np = vlossi.cpu().numpy() if torch.is_tensor(vlossi) and vlossi.is_cuda else (vlossi.numpy() if torch.is_tensor(vlossi) else vlossi)\n",
    "\n",
    "# Create x-axis for validation loss: assuming each validation loss corresponds to every 2 steps.\n",
    "x_val = [i * 1 for i in range(len(vlossi_np))]\n",
    "\n",
    "plt.figure(figsize=(10, 6))\n",
    "plt.plot(avg_loss_np, label='Training Loss (Block Averaged)')\n",
    "plt.plot(x_val, vlossi_np, label='Validation Loss')\n",
    "plt.xlabel('Iteration (scaled)')\n",
    "plt.ylabel('Loss')\n",
    "plt.title('Training and Validation Loss')\n",
    "plt.legend()\n",
    "plt.show()\n"
   ]
  },
  {
   "cell_type": "code",
   "execution_count": 283,
   "id": "d679ae3f-6274-4202-bbfb-f7022eed9967",
   "metadata": {
    "tags": []
   },
   "outputs": [
    {
     "data": {
      "image/png": "[encoded data removed]",
      "text/plain": [
       "<Figure size 1000x600 with 1 Axes>"
      ]
     },
     "metadata": {},
     "output_type": "display_data"
    }
   ],
   "source": [
    "plot_dim = len(vlossi2) * 19\n",
    "\n",
    "# Compute mean loss values for plotting\n",
    "lossi_mean = lossi[:plot_dim * (lossi.numel() // plot_dim)].view((plot_dim, -1)).mean(1)\n",
    "lossi2_mean = lossi2[:plot_dim * (lossi.numel() // plot_dim)].view((plot_dim, -1)).mean(1)\n",
    "\n",
    "from matplotlib import pyplot as plt\n",
    "\n",
    "plt.figure(figsize=(10, 6))\n",
    "plt.plot(lossi_mean, label=\"Multihead Attention Loss\")\n",
    "plt.plot(lossi2_mean, label=\"MLP Only Loss\")\n",
    "plt.title(\"Loss Comparison: Multihead Attention vs MLP Only\")\n",
    "plt.xlabel(\"Epoch (scaled)\")\n",
    "plt.ylabel(\"Loss\")\n",
    "plt.legend()\n",
    "plt.show()"
   ]
  },
  {
   "cell_type": "code",
   "execution_count": 184,
   "id": "3d28dc5c-a6b9-4aca-9f45-66c39dd6fee2",
   "metadata": {
    "tags": []
   },
   "outputs": [
    {
     "name": "stderr",
     "output_type": "stream",
     "text": [
      "2025-02-18 05:14:50.468878: E external/local_xla/xla/stream_executor/cuda/cuda_dnn.cc:9261] Unable to register cuDNN factory: Attempting to register factory for plugin cuDNN when one has already been registered\n",
      "2025-02-18 05:14:50.469054: E external/local_xla/xla/stream_executor/cuda/cuda_fft.cc:607] Unable to register cuFFT factory: Attempting to register factory for plugin cuFFT when one has already been registered\n",
      "2025-02-18 05:14:50.532058: E external/local_xla/xla/stream_executor/cuda/cuda_blas.cc:1515] Unable to register cuBLAS factory: Attempting to register factory for plugin cuBLAS when one has already been registered\n",
      "2025-02-18 05:14:50.672882: I tensorflow/core/platform/cpu_feature_guard.cc:182] This TensorFlow binary is optimized to use available CPU instructions in performance-critical operations.\n",
      "To enable the following instructions: AVX2 FMA, in other operations, rebuild TensorFlow with the appropriate compiler flags.\n",
      "2025-02-18 05:14:52.873732: W tensorflow/compiler/tf2tensorrt/utils/py_utils.cc:38] TF-TRT Warning: Could not find TensorRT\n"
     ]
    }
   ],
   "source": [
    "from torch.utils.tensorboard import SummaryWriter\n",
    "import torch\n",
    "\n",
    "xb, yb = get_batch('train')\n",
    "\n",
    "# Assume you have your model defined, e.g.:\n",
    "# model = MyModel(...)\n",
    "\n",
    "# Create a SummaryWriter instance\n",
    "writer = SummaryWriter(log_dir=\"logs\")\n",
    "\n",
    "# Add the model graph to TensorBoard\n",
    "writer.add_graph(model, xb)"
   ]
  },
  {
   "cell_type": "code",
   "execution_count": 186,
   "id": "06f4e6e4-e278-4b55-9384-c10c69bdff8e",
   "metadata": {
    "tags": []
   },
   "outputs": [
    {
     "name": "stdout",
     "output_type": "stream",
     "text": [
      "2025-02-18 05:18:17.459218: E external/local_xla/xla/stream_executor/cuda/cuda_dnn.cc:9261] Unable to register cuDNN factory: Attempting to register factory for plugin cuDNN when one has already been registered\n",
      "2025-02-18 05:18:17.459298: E external/local_xla/xla/stream_executor/cuda/cuda_fft.cc:607] Unable to register cuFFT factory: Attempting to register factory for plugin cuFFT when one has already been registered\n",
      "2025-02-18 05:18:17.460814: E external/local_xla/xla/stream_executor/cuda/cuda_blas.cc:1515] Unable to register cuBLAS factory: Attempting to register factory for plugin cuBLAS when one has already been registered\n",
      "2025-02-18 05:18:17.469011: I tensorflow/core/platform/cpu_feature_guard.cc:182] This TensorFlow binary is optimized to use available CPU instructions in performance-critical operations.\n",
      "To enable the following instructions: AVX2 FMA, in other operations, rebuild TensorFlow with the appropriate compiler flags.\n",
      "2025-02-18 05:18:18.613705: W tensorflow/compiler/tf2tensorrt/utils/py_utils.cc:38] TF-TRT Warning: Could not find TensorRT\n",
      "2025-02-18 05:18:19.747049: I external/local_xla/xla/stream_executor/cuda/cuda_executor.cc:901] successful NUMA node read from SysFS had negative value (-1), but there must be at least one NUMA node, so returning NUMA node zero. See more at https://github.com/torvalds/linux/blob/v6.0/Documentation/ABI/testing/sysfs-bus-pci#L344-L355\n",
      "2025-02-18 05:18:19.792686: I external/local_xla/xla/stream_executor/cuda/cuda_executor.cc:901] successful NUMA node read from SysFS had negative value (-1), but there must be at least one NUMA node, so returning NUMA node zero. See more at https://github.com/torvalds/linux/blob/v6.0/Documentation/ABI/testing/sysfs-bus-pci#L344-L355\n",
      "2025-02-18 05:18:19.792965: I external/local_xla/xla/stream_executor/cuda/cuda_executor.cc:901] successful NUMA node read from SysFS had negative value (-1), but there must be at least one NUMA node, so returning NUMA node zero. See more at https://github.com/torvalds/linux/blob/v6.0/Documentation/ABI/testing/sysfs-bus-pci#L344-L355\n",
      "\n",
      "NOTE: Using experimental fast data loading logic. To disable, pass\n",
      "    \"--load_fast=false\" and report issues on GitHub. More details:\n",
      "    https://github.com/tensorflow/tensorboard/issues/4784\n",
      "\n",
      "TensorBoard 2.15.1 at http://nnpp2ltlre:6006/ (Press CTRL+C to quit)\n",
      "^C\n"
     ]
    }
   ],
   "source": [
    "!tensorboard --logdir . --bind_all"
   ]
  },
  {
   "cell_type": "code",
   "execution_count": 304,
   "id": "b2e8fbe4-007c-4ca3-a9ed-7ba360598162",
   "metadata": {
    "tags": []
   },
   "outputs": [
    {
     "data": {
      "text/plain": [
       "torch.Size([1, 8])"
      ]
     },
     "execution_count": 304,
     "metadata": {},
     "output_type": "execute_result"
    }
   ],
   "source": [
    "idx = torch.ones((1, block_size), dtype=torch.long, device=device)\n",
    "idx.shape"
   ]
  },
  {
   "cell_type": "code",
   "execution_count": 305,
   "id": "8bf0f92c-addc-4f83-a996-9cceea314262",
   "metadata": {
    "tags": []
   },
   "outputs": [
    {
     "name": "stdout",
     "output_type": "stream",
     "text": [
      "ssssssss.\n",
      "Fail.\n",
      "\n",
      "KING LEY:\n",
      "What\n",
      "And upon that it with that eighnesday, and I dids\n",
      "Which thou for Ladly blows John fair and the's prince; in day in this before the wisdow!\n",
      "And instrument,\n",
      "God say; but of misses!\n",
      "\n",
      "MERCUT:\n",
      "I hope armter, by you that you princess'd us London the me that wors! do not we and did! Angelove his us the lakes unto rest with thou are must all is with toraclan:\n",
      "Hath of our\n",
      "ther their for ward's am only shall back in trarth.\n",
      "CLEOMENENIUS:\n",
      "Come Sold's deace\n",
      "As we mark lord, merrince.\n",
      "\n",
      "BUCGOMINIUS:\n",
      "It is prime peoplishmence,\n",
      "For son, mother a wret shal:\n",
      "I am us crown; say with your seem, tirrah worth hief;\n",
      "Coverned give I shappery to then formiardower that so\n",
      "thrun, ne't, we with tneath your compation.\n",
      "\n",
      "DUCHESS OF YORK:\n",
      "I have in their vower gooes that your croud, I seein middle makes?\n",
      "Hark, and so.\n",
      "\n",
      "KING RICHARD IV:\n",
      "Yetiful, the grison at her-biion\n",
      "pit wars their jumph,\n",
      "Reder from did I.\n",
      "\n",
      "Saland's all find, the emblant inrow,\n",
      "Or edid, leizen: need, though a but,\n",
      "Tile!\n",
      "UnSCL\n"
     ]
    }
   ],
   "source": [
    "idx = torch.ones((1, block_size), dtype=torch.long, device=device)\n",
    "print(\"\".join(int_to_characters[x.item()] for x in model.generate(\n",
    "    idx, \n",
    "    1000\n",
    ")[0]))"
   ]
  },
  {
   "cell_type": "code",
   "execution_count": 306,
   "id": "8ecbe701-1b35-407f-b7bd-d1b04b08a162",
   "metadata": {
    "tags": []
   },
   "outputs": [
    {
     "data": {
      "text/plain": [
       "Transformer(\n",
       "  (sequential): Sequential(\n",
       "    (0): PositionalEmbeddings(\n",
       "      (embeddings): Embedding(65, 32)\n",
       "    )\n",
       "    (1): MultiHeadAttention(\n",
       "      (attention_heads): ModuleList(\n",
       "        (0-1): 2 x ScaledDotProductAttention(\n",
       "          (query_layer): Linear(in_features=32, out_features=64, bias=True)\n",
       "          (key_layer): Linear(in_features=32, out_features=64, bias=True)\n",
       "          (value_layer): Linear(in_features=32, out_features=64, bias=True)\n",
       "          (flatten): Flatten(start_dim=1, end_dim=-1)\n",
       "        )\n",
       "      )\n",
       "      (linear): Linear(in_features=128, out_features=32, bias=True)\n",
       "      (norm): LayerNorm((32,), eps=1e-05, elementwise_affine=True)\n",
       "    )\n",
       "    (2): ResidualMLPLayer(\n",
       "      (l1): Linear(in_features=32, out_features=1028, bias=True)\n",
       "      (relu): ReLU()\n",
       "      (l2): Linear(in_features=1028, out_features=32, bias=True)\n",
       "      (layer_norm): LayerNorm((32,), eps=1e-05, elementwise_affine=True)\n",
       "    )\n",
       "    (3): Linear(in_features=32, out_features=65, bias=True)\n",
       "  )\n",
       ")"
      ]
     },
     "execution_count": 306,
     "metadata": {},
     "output_type": "execute_result"
    }
   ],
   "source": [
    "model"
   ]
  },
  {
   "cell_type": "code",
   "execution_count": 307,
   "id": "8bffa907-8c7a-4094-94ee-f8f745b3e50f",
   "metadata": {
    "tags": []
   },
   "outputs": [],
   "source": [
    "import torch\n",
    "\n",
    "# Create a checkpoint dictionary\n",
    "checkpoint = {\n",
    "    'epoch': epoch,\n",
    "    'model_state_dict': model.state_dict(),\n",
    "    'optimizer_state_dict': optimizer.state_dict(),\n",
    "    'loss': lossi,\n",
    "}\n",
    "\n",
    "# Save the checkpoint to a file\n",
    "torch.save(checkpoint, 'model_checkpoint_17_Feb_A.pth')"
   ]
  },
  {
   "cell_type": "code",
   "execution_count": null,
   "id": "a78d951c-62ff-4f07-9c5b-e8b91f3afdd3",
   "metadata": {},
   "outputs": [],
   "source": []
  }
 ],
 "metadata": {
  "accelerator": "GPU",
  "colab": {
   "gpuType": "T4",
   "provenance": []
  },
  "kernelspec": {
   "display_name": "Python 3 (ipykernel)",
   "language": "python",
   "name": "python3"
  },
  "language_info": {
   "codemirror_mode": {
    "name": "ipython",
    "version": 3
   },
   "file_extension": ".py",
   "mimetype": "text/x-python",
   "name": "python",
   "nbconvert_exporter": "python",
   "pygments_lexer": "ipython3",
   "version": "3.11.7"
  }
 },
 "nbformat": 4,
 "nbformat_minor": 5
}
