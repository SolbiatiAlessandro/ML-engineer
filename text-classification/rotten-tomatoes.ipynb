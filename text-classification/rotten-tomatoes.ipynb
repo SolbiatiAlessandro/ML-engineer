{
 "cells": [
  {
   "cell_type": "code",
   "execution_count": 1,
   "id": "63cc9673-e327-438e-ad60-3b3da641450e",
   "metadata": {
    "tags": []
   },
   "outputs": [],
   "source": [
    "#https://colab.research.google.com/github/HandsOnLLM/Hands-On-Large-Language-Models/blob/main/chapter04/Chapter%204%20-%20Text%20Classification.ipynb"
   ]
  },
  {
   "cell_type": "code",
   "execution_count": 1,
   "id": "5685e88f-2d10-4ebc-a944-598bd144c5d2",
   "metadata": {
    "tags": []
   },
   "outputs": [
    {
     "name": "stdout",
     "output_type": "stream",
     "text": [
      "True\n"
     ]
    }
   ],
   "source": [
    "import torch\n",
    "print(torch.cuda.is_available())\n",
    "device = 'cuda'"
   ]
  },
  {
   "cell_type": "code",
   "execution_count": 2,
   "id": "af32c87d-f5cc-45a2-b05b-0badb7703dd3",
   "metadata": {
    "tags": []
   },
   "outputs": [],
   "source": [
    "#!pip install --upgrade datasets huggingface_hub"
   ]
  },
  {
   "cell_type": "code",
   "execution_count": 3,
   "id": "d77e8c12-9b28-4acd-91f0-aa1438e4bb68",
   "metadata": {
    "tags": []
   },
   "outputs": [],
   "source": [
    "from datasets import load_dataset"
   ]
  },
  {
   "cell_type": "code",
   "execution_count": 4,
   "id": "eda817ea-610e-41b4-ad2f-5e6571db5eb7",
   "metadata": {
    "tags": []
   },
   "outputs": [
    {
     "name": "stdout",
     "output_type": "stream",
     "text": [
      "DatasetDict({\n",
      "    train: Dataset({\n",
      "        features: ['text', 'label'],\n",
      "        num_rows: 8530\n",
      "    })\n",
      "    validation: Dataset({\n",
      "        features: ['text', 'label'],\n",
      "        num_rows: 1066\n",
      "    })\n",
      "    test: Dataset({\n",
      "        features: ['text', 'label'],\n",
      "        num_rows: 1066\n",
      "    })\n",
      "})\n"
     ]
    }
   ],
   "source": [
    "data = load_dataset(\"rotten_tomatoes\")\n",
    "print(data)"
   ]
  },
  {
   "cell_type": "code",
   "execution_count": 7,
   "id": "7c5a5b3d-a11c-400f-b4a1-83e18db7cbc2",
   "metadata": {
    "tags": []
   },
   "outputs": [],
   "source": [
    "# I need to implement my own BERT first"
   ]
  },
  {
   "cell_type": "code",
   "execution_count": 8,
   "id": "d80d1304-8270-4ea5-b252-46333f371518",
   "metadata": {
    "tags": []
   },
   "outputs": [
    {
     "name": "stdout",
     "output_type": "stream",
     "text": [
      "Current device index: 0\n",
      "Running on GPU: NVIDIA RTX A6000\n",
      "GPU properties:\n",
      "  - Compute Capability: 8.6\n",
      "  - Total Memory: 47.54 GB\n",
      "  - Multiprocessor Count: 84\n",
      "  - Max Threads per Multiprocessor: 1536\n"
     ]
    }
   ],
   "source": [
    "%load_ext autoreload\n",
    "%autoreload 2\n",
    "\n",
    "import sys\n",
    "import os\n",
    "\n",
    "# Assuming your notebook's working directory is set such that ../llm-tokenizer is reachable:\n",
    "tokenizer_dir = os.path.abspath(os.path.join(os.getcwd(), '../'))\n",
    "if tokenizer_dir not in sys.path:\n",
    "    sys.path.insert(0, tokenizer_dir)\n",
    "\n",
    "from BERT.model import BERT\n",
    "from BERT.utils import load_checkpoint, LossLogs\n",
    "import llm_tokenizer.BPETokenizer as BPETokenizer"
   ]
  },
  {
   "cell_type": "code",
   "execution_count": null,
   "id": "cad998de-47cb-46ba-bdeb-618c2c759c2a",
   "metadata": {},
   "outputs": [],
   "source": []
  },
  {
   "cell_type": "code",
   "execution_count": 9,
   "id": "2d5ec35f-315b-40db-b6e2-1da4e806fb28",
   "metadata": {
    "tags": []
   },
   "outputs": [],
   "source": [
    "from dataclasses import dataclass, field\n",
    "import uuid\n",
    "@dataclass\n",
    "class BERTConfig:\n",
    "    # model is going to be (BERT_batch_size, input_size, embedding_size or hidden_layer_size)\n",
    "    BERT_batch_size = 64\n",
    "    batch_size = BERT_batch_size * 2\n",
    "    block_size = 40\n",
    "    embedding_size = 256*2\n",
    "    vocab_size = 2220 # new tokens: 2215, 2216, 2217, 2218 from dataloader\n",
    "    input_size = 2 * block_size + 3\n",
    "    hidden_layer_size = 1024\n",
    "    attention_heads = 8\n",
    "    attention_size = embedding_size // attention_heads\n",
    "    train_epochs = 1000000\n",
    "    val_epochs = 30\n",
    "    val_interval = 100\n",
    "    transformer_blocks = 10\n",
    "    model_name: str = field(default_factory=lambda: f\"BERT_{uuid.uuid4()}\")\n",
    "    checkpoint_interval = 1000\n",
    "\n",
    "                            \n",
    "config = BERTConfig() "
   ]
  },
  {
   "cell_type": "code",
   "execution_count": 10,
   "id": "98c68099-bc08-4a07-9882-b091fc06fdd1",
   "metadata": {
    "tags": []
   },
   "outputs": [],
   "source": [
    "MLMloss = LossLogs(\"MLM\", scale=0.1)\n",
    "NSPloss = LossLogs(\"NSP\")"
   ]
  },
  {
   "cell_type": "code",
   "execution_count": 60,
   "id": "fc9a33b4-1f91-45c1-bbaa-bbc26692f6c2",
   "metadata": {
    "tags": []
   },
   "outputs": [
    {
     "data": {
      "text/plain": [
       "BERT(\n",
       "  (input_representation): InputRepresentation(\n",
       "    (token_embeddings): Embedding(2220, 512)\n",
       "    (segment_embeddings): Embedding(2, 512)\n",
       "    (position_embeddings): Embedding(84, 512)\n",
       "  )\n",
       "  (transformer_blocks): ModuleList(\n",
       "    (0-9): 10 x TransformerBlock(\n",
       "      (attention): MultiHeadAttention(\n",
       "        (heads): ModuleList(\n",
       "          (0-7): 8 x SelfAttention(\n",
       "            (key): Linear(in_features=512, out_features=64, bias=True)\n",
       "            (query): Linear(in_features=512, out_features=64, bias=True)\n",
       "            (value): Linear(in_features=512, out_features=64, bias=True)\n",
       "          )\n",
       "        )\n",
       "        (linear): Linear(in_features=512, out_features=512, bias=True)\n",
       "      )\n",
       "      (mlp): ModuleList(\n",
       "        (0): LayerNorm((512,), eps=1e-05, elementwise_affine=True)\n",
       "        (1): Linear(in_features=512, out_features=1024, bias=True)\n",
       "        (2): ReLU()\n",
       "        (3): Linear(in_features=1024, out_features=512, bias=True)\n",
       "      )\n",
       "      (attention_norm): LayerNorm((512,), eps=1e-05, elementwise_affine=True)\n",
       "    )\n",
       "  )\n",
       "  (MLM_output): Linear(in_features=512, out_features=2220, bias=True)\n",
       "  (NSP_output): Linear(in_features=512, out_features=1, bias=True)\n",
       ")"
      ]
     },
     "execution_count": 60,
     "metadata": {},
     "output_type": "execute_result"
    }
   ],
   "source": [
    "model = BERT(config)\n",
    "model.to(device)\n",
    "model.eval()"
   ]
  },
  {
   "cell_type": "code",
   "execution_count": 12,
   "id": "e0254566-1947-4955-81d9-9b3a8c219572",
   "metadata": {
    "tags": []
   },
   "outputs": [],
   "source": [
    "small_checkpoint = \"../BERT/BERT_checkpoints/checkpoint_BERT_tinyshakespeare_10kepochs.pth\"\n",
    "big_checkpoint = \"../BERT/BERT_checkpoints/checkpoint_BERT_wikitext2_6hours.pth\"\n",
    "\n",
    "# small checkpoint val losses\n",
    "# 0.4528544922669729 2.3962665438652038\n",
    "# epoch 90000\n",
    "\n",
    "# big checkpoint val losses\n",
    "# 0.17656663432717323 1.1264266490936279\n",
    "# epoch 165000"
   ]
  },
  {
   "cell_type": "code",
   "execution_count": 44,
   "id": "af953e0f-bb92-4685-90da-5939362f427b",
   "metadata": {
    "tags": []
   },
   "outputs": [
    {
     "name": "stdout",
     "output_type": "stream",
     "text": [
      "Checkpoint loaded from ../BERT/BERT_checkpoints/checkpoint_BERT_wikitext2_6hours.pth, resuming at epoch 165000\n"
     ]
    },
    {
     "data": {
      "text/plain": [
       "(165000, 'BERT_8123c751-bd44-43a9-820f-3abc980959e1')"
      ]
     },
     "execution_count": 44,
     "metadata": {},
     "output_type": "execute_result"
    }
   ],
   "source": [
    "load_checkpoint(\n",
    "    model, \n",
    "    None, \n",
    "    big_checkpoint, \n",
    "    MLMloss, \n",
    "    NSPloss)"
   ]
  },
  {
   "cell_type": "code",
   "execution_count": 45,
   "id": "f46c71d5-3b31-4f56-8d63-23b44bc0788e",
   "metadata": {
    "tags": []
   },
   "outputs": [
    {
     "data": {
      "image/png": "[encoded data removed]",
      "text/plain": [
       "<Figure size 1000x600 with 1 Axes>"
      ]
     },
     "metadata": {},
     "output_type": "display_data"
    },
    {
     "name": "stdout",
     "output_type": "stream",
     "text": [
      "0.17656663432717323 1.1264266490936279\n"
     ]
    }
   ],
   "source": [
    "from matplotlib import pyplot as plt\n",
    "\n",
    "plt.figure(figsize=(10, 6))\n",
    "plt.plot(*MLMloss.train_loss_series(aggr=200), label=\"MLM train\")\n",
    "plt.plot(*MLMloss.val_loss_series(), label=\"MLM val\")\n",
    "plt.plot(*NSPloss.train_loss_series(aggr=200), label=\"NSP train\")\n",
    "plt.plot(*NSPloss.val_loss_series(), label=\"NSP val\")\n",
    "plt.legend()\n",
    "plt.title(\"BERT Pre-training - NSP binary loss and (scaled) MLM loss\")\n",
    "plt.axhline(NSPloss.val_loss[-1], linestyle=\"--\", color='r')\n",
    "plt.show()\n",
    "print(NSPloss.val_loss[-1], MLMloss.val_loss[-1])"
   ]
  },
  {
   "cell_type": "code",
   "execution_count": 15,
   "id": "215c493f-ac57-4eb4-9903-7a407ffd8191",
   "metadata": {
    "tags": []
   },
   "outputs": [],
   "source": [
    "import sys\n",
    "sys.modules['BPETokenizer'] = BPETokenizer"
   ]
  },
  {
   "cell_type": "code",
   "execution_count": 47,
   "id": "d65c42c9-1e5f-4709-9ab4-2ca09187517b",
   "metadata": {
    "tags": []
   },
   "outputs": [],
   "source": [
    "tokenizer = BPETokenizer.Tokenizer(\n",
    "    \"\", \n",
    "    encoding_vocab_size=2000, \n",
    "    name=\"wikitext2\",\n",
    "    path_prefix=\"../BERT/\")\n",
    "tokenizer.load_from_file()"
   ]
  },
  {
   "cell_type": "code",
   "execution_count": 48,
   "id": "a9c6eb1c-d80b-4b32-9eb6-4f38a1a5df81",
   "metadata": {
    "tags": []
   },
   "outputs": [
    {
     "data": {
      "text/plain": [
       "659"
      ]
     },
     "execution_count": 48,
     "metadata": {},
     "output_type": "execute_result"
    }
   ],
   "source": [
    "max(tokenizer.encoding_map.values())"
   ]
  },
  {
   "cell_type": "code",
   "execution_count": 49,
   "id": "8e410bed-9dbf-4b5f-bcb1-e4cd48bd1779",
   "metadata": {
    "tags": []
   },
   "outputs": [],
   "source": [
    "class ClassifierDataLoader():\n",
    "    \n",
    "    def __init__(self, embedding_model, device='cpu', text=None):\n",
    "        self.embedding_model = embedding_model\n",
    "        self.device = device\n",
    "        self.tokenizer = BPETokenizer.Tokenizer(\n",
    "            \"\", \n",
    "            encoding_vocab_size=2000, \n",
    "            name=\"wikitext2\",\n",
    "            path_prefix=\"../BERT/\")\n",
    "        self.tokenizer.load_from_file()\n",
    "        self.max_vocab_size = max(self.tokenizer.encoding_map.values())\n",
    "        self.CLS =self.max_vocab_size + 1\n",
    "        self.SEP = self.CLS + 1\n",
    "        self.MASK = self.SEP + 1\n",
    "\n",
    "        self.text = text\n",
    "        if text: \n",
    "            data = \"\".join(text)\n",
    "            tokens = self.tokenizer.encode(data, raw_tokens=False)\n",
    "            print(f\"[ClassifierDataLoader] loaded tokenizer '{self.tokenizer._filename()}' with compression rate = {len(tokens)/len(list(data.encode('utf-8')))}\")\n",
    "            \n",
    "            self.construct_embeddings(text)\n",
    "        \n",
    "    def construct_embeddings(self, xs):\n",
    "        self.embeddings = []\n",
    "        for ix, x in enumerate(xs):\n",
    "            if ix % 1000 == 0: print(f\"[ClassifierDataLoader] embedding inference {ix}/{len(xs)}\")\n",
    "            self.embeddings.append(self.embedding(x))\n",
    "        self.embeddings = torch.stack(self.embeddings)\n",
    "        return self.embeddings\n",
    "        \n",
    "        \n",
    "    def embedding(self, x):\n",
    "        tokens = self.tokenizer.encode(x, raw_tokens=False)\n",
    "        tokens = [self.CLS] + tokens[:80] + [self.SEP]\n",
    "        x = torch.tensor(tokens, device=self.device).view(1, -1)\n",
    "        with torch.no_grad():\n",
    "            CLS_embeddings = self.embedding_model(x)[0, 0, :]\n",
    "        # try last sep token also?\n",
    "        # try average pooling over all tokens\n",
    "        return CLS_embeddings"
   ]
  },
  {
   "cell_type": "code",
   "execution_count": 61,
   "id": "4fc18ba9-d0c1-4bbf-b20c-77b0e01f5091",
   "metadata": {
    "tags": []
   },
   "outputs": [
    {
     "name": "stdout",
     "output_type": "stream",
     "text": [
      "[ClassifierDataLoader] loaded tokenizer '../BERT/tokenizer_wikitext2.pickle' with compression rate = 0.5086554934669895\n",
      "[ClassifierDataLoader] embedding inference 0/8530\n",
      "[ClassifierDataLoader] embedding inference 1000/8530\n",
      "[ClassifierDataLoader] embedding inference 2000/8530\n",
      "[ClassifierDataLoader] embedding inference 3000/8530\n",
      "[ClassifierDataLoader] embedding inference 4000/8530\n",
      "[ClassifierDataLoader] embedding inference 5000/8530\n",
      "[ClassifierDataLoader] embedding inference 6000/8530\n",
      "[ClassifierDataLoader] embedding inference 7000/8530\n",
      "[ClassifierDataLoader] embedding inference 8000/8530\n"
     ]
    }
   ],
   "source": [
    "train_data_loader = ClassifierDataLoader(model, device, data[\"train\"][\"text\"])"
   ]
  },
  {
   "cell_type": "code",
   "execution_count": 62,
   "id": "e72c4466-9674-456e-9053-98f6af62e51e",
   "metadata": {
    "tags": []
   },
   "outputs": [
    {
     "name": "stdout",
     "output_type": "stream",
     "text": [
      "[ClassifierDataLoader] loaded tokenizer '../BERT/tokenizer_wikitext2.pickle' with compression rate = 0.5082970708579594\n",
      "[ClassifierDataLoader] embedding inference 0/1066\n",
      "[ClassifierDataLoader] embedding inference 1000/1066\n"
     ]
    }
   ],
   "source": [
    "test_data_loader = ClassifierDataLoader(model, device, data[\"test\"][\"text\"])"
   ]
  },
  {
   "cell_type": "code",
   "execution_count": 63,
   "id": "6d132a31-05d9-4b09-be63-1425abadc8e3",
   "metadata": {
    "tags": []
   },
   "outputs": [
    {
     "data": {
      "text/html": [
       "<style>#sk-container-id-8 {color: black;}#sk-container-id-8 pre{padding: 0;}#sk-container-id-8 div.sk-toggleable {background-color: white;}#sk-container-id-8 label.sk-toggleable__label {cursor: pointer;display: block;width: 100%;margin-bottom: 0;padding: 0.3em;box-sizing: border-box;text-align: center;}#sk-container-id-8 label.sk-toggleable__label-arrow:before {content: \"▸\";float: left;margin-right: 0.25em;color: #696969;}#sk-container-id-8 label.sk-toggleable__label-arrow:hover:before {color: black;}#sk-container-id-8 div.sk-estimator:hover label.sk-toggleable__label-arrow:before {color: black;}#sk-container-id-8 div.sk-toggleable__content {max-height: 0;max-width: 0;overflow: hidden;text-align: left;background-color: #f0f8ff;}#sk-container-id-8 div.sk-toggleable__content pre {margin: 0.2em;color: black;border-radius: 0.25em;background-color: #f0f8ff;}#sk-container-id-8 input.sk-toggleable__control:checked~div.sk-toggleable__content {max-height: 200px;max-width: 100%;overflow: auto;}#sk-container-id-8 input.sk-toggleable__control:checked~label.sk-toggleable__label-arrow:before {content: \"▾\";}#sk-container-id-8 div.sk-estimator input.sk-toggleable__control:checked~label.sk-toggleable__label {background-color: #d4ebff;}#sk-container-id-8 div.sk-label input.sk-toggleable__control:checked~label.sk-toggleable__label {background-color: #d4ebff;}#sk-container-id-8 input.sk-hidden--visually {border: 0;clip: rect(1px 1px 1px 1px);clip: rect(1px, 1px, 1px, 1px);height: 1px;margin: -1px;overflow: hidden;padding: 0;position: absolute;width: 1px;}#sk-container-id-8 div.sk-estimator {font-family: monospace;background-color: #f0f8ff;border: 1px dotted black;border-radius: 0.25em;box-sizing: border-box;margin-bottom: 0.5em;}#sk-container-id-8 div.sk-estimator:hover {background-color: #d4ebff;}#sk-container-id-8 div.sk-parallel-item::after {content: \"\";width: 100%;border-bottom: 1px solid gray;flex-grow: 1;}#sk-container-id-8 div.sk-label:hover label.sk-toggleable__label {background-color: #d4ebff;}#sk-container-id-8 div.sk-serial::before {content: \"\";position: absolute;border-left: 1px solid gray;box-sizing: border-box;top: 0;bottom: 0;left: 50%;z-index: 0;}#sk-container-id-8 div.sk-serial {display: flex;flex-direction: column;align-items: center;background-color: white;padding-right: 0.2em;padding-left: 0.2em;position: relative;}#sk-container-id-8 div.sk-item {position: relative;z-index: 1;}#sk-container-id-8 div.sk-parallel {display: flex;align-items: stretch;justify-content: center;background-color: white;position: relative;}#sk-container-id-8 div.sk-item::before, #sk-container-id-8 div.sk-parallel-item::before {content: \"\";position: absolute;border-left: 1px solid gray;box-sizing: border-box;top: 0;bottom: 0;left: 50%;z-index: -1;}#sk-container-id-8 div.sk-parallel-item {display: flex;flex-direction: column;z-index: 1;position: relative;background-color: white;}#sk-container-id-8 div.sk-parallel-item:first-child::after {align-self: flex-end;width: 50%;}#sk-container-id-8 div.sk-parallel-item:last-child::after {align-self: flex-start;width: 50%;}#sk-container-id-8 div.sk-parallel-item:only-child::after {width: 0;}#sk-container-id-8 div.sk-dashed-wrapped {border: 1px dashed gray;margin: 0 0.4em 0.5em 0.4em;box-sizing: border-box;padding-bottom: 0.4em;background-color: white;}#sk-container-id-8 div.sk-label label {font-family: monospace;font-weight: bold;display: inline-block;line-height: 1.2em;}#sk-container-id-8 div.sk-label-container {text-align: center;}#sk-container-id-8 div.sk-container {/* jupyter's `normalize.less` sets `[hidden] { display: none; }` but bootstrap.min.css set `[hidden] { display: none !important; }` so we also need the `!important` here to be able to override the default hidden behavior on the sphinx rendered scikit-learn.org. See: https://github.com/scikit-learn/scikit-learn/issues/21755 */display: inline-block !important;position: relative;}#sk-container-id-8 div.sk-text-repr-fallback {display: none;}</style><div id=\"sk-container-id-8\" class=\"sk-top-container\"><div class=\"sk-text-repr-fallback\"><pre>LogisticRegression(random_state=42)</pre><b>In a Jupyter environment, please rerun this cell to show the HTML representation or trust the notebook. <br />On GitHub, the HTML representation is unable to render, please try loading this page with nbviewer.org.</b></div><div class=\"sk-container\" hidden><div class=\"sk-item\"><div class=\"sk-estimator sk-toggleable\"><input class=\"sk-toggleable__control sk-hidden--visually\" id=\"sk-estimator-id-8\" type=\"checkbox\" checked><label for=\"sk-estimator-id-8\" class=\"sk-toggleable__label sk-toggleable__label-arrow\">LogisticRegression</label><div class=\"sk-toggleable__content\"><pre>LogisticRegression(random_state=42)</pre></div></div></div></div></div>"
      ],
      "text/plain": [
       "LogisticRegression(random_state=42)"
      ]
     },
     "execution_count": 63,
     "metadata": {},
     "output_type": "execute_result"
    }
   ],
   "source": [
    "from sklearn.linear_model import LogisticRegression\n",
    "\n",
    "# Train a Logistic Regression on our train embeddings\n",
    "clf = LogisticRegression(random_state=42)\n",
    "clf.fit(train_data_loader.embeddings.cpu(), data[\"train\"][\"label\"])"
   ]
  },
  {
   "cell_type": "code",
   "execution_count": 54,
   "id": "da8433f9-6b99-41bb-91d5-de873d9ccbb6",
   "metadata": {
    "tags": []
   },
   "outputs": [],
   "source": [
    "from sklearn.metrics import classification_report\n",
    "\n",
    "def evaluate_performance(y_true, y_pred):\n",
    "    \"\"\"Create and print the classification report\"\"\"\n",
    "    performance = classification_report(\n",
    "        y_true, y_pred,\n",
    "        target_names=[\"Negative Review\", \"Positive Review\"]\n",
    "    )\n",
    "    print(performance)"
   ]
  },
  {
   "cell_type": "code",
   "execution_count": 64,
   "id": "86269c96-8b1e-4fdb-87d3-cce7df20fd80",
   "metadata": {
    "tags": []
   },
   "outputs": [
    {
     "name": "stdout",
     "output_type": "stream",
     "text": [
      "                 precision    recall  f1-score   support\n",
      "\n",
      "Negative Review       0.58      0.58      0.58       533\n",
      "Positive Review       0.58      0.58      0.58       533\n",
      "\n",
      "       accuracy                           0.58      1066\n",
      "      macro avg       0.58      0.58      0.58      1066\n",
      "   weighted avg       0.58      0.58      0.58      1066\n",
      "\n"
     ]
    }
   ],
   "source": [
    "# Predict previously unseen instances\n",
    "y_pred = clf.predict(test_data_loader.embeddings.cpu())\n",
    "evaluate_performance(data[\"test\"][\"label\"], y_pred)"
   ]
  },
  {
   "cell_type": "code",
   "execution_count": null,
   "id": "00fdec1a-820b-4e81-b6db-a1090f650478",
   "metadata": {},
   "outputs": [],
   "source": []
  }
 ],
 "metadata": {
  "kernelspec": {
   "display_name": "Python 3 (ipykernel)",
   "language": "python",
   "name": "python3"
  },
  "language_info": {
   "codemirror_mode": {
    "name": "ipython",
    "version": 3
   },
   "file_extension": ".py",
   "mimetype": "text/x-python",
   "name": "python",
   "nbconvert_exporter": "python",
   "pygments_lexer": "ipython3",
   "version": "3.11.7"
  }
 },
 "nbformat": 4,
 "nbformat_minor": 5
}
