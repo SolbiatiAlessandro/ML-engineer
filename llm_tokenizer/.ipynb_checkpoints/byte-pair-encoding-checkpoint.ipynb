{
 "cells": [
  {
   "cell_type": "markdown",
   "id": "097a6892-cee9-4351-8fe1-e78142a7c166",
   "metadata": {
    "tags": []
   },
   "source": [
    "# Tokenizer Class"
   ]
  },
  {
   "cell_type": "code",
   "execution_count": 22,
   "id": "0062eecf-6e6c-4ff5-966e-f87c2ae7b4e3",
   "metadata": {
    "tags": []
   },
   "outputs": [],
   "source": [
    "%load_ext autoreload\n",
    "%autoreload 2\n",
    "from BPETokenizer import Tokenizer, TokenPair\n"
   ]
  },
  {
   "cell_type": "code",
   "execution_count": 3,
   "id": "a2a20c39-0488-4800-8b8e-21dd9498ea6d",
   "metadata": {
    "tags": []
   },
   "outputs": [
    {
     "name": "stdout",
     "output_type": "stream",
     "text": [
      "Collecting pytest\n",
      "  Downloading pytest-8.3.4-py3-none-any.whl (343 kB)\n",
      "\u001b[2K     \u001b[90m━━━━━━━━━━━━━━━━━━━━━━━━━━━━━━━━━━━━━━━\u001b[0m \u001b[32m343.1/343.1 kB\u001b[0m \u001b[31m5.8 MB/s\u001b[0m eta \u001b[36m0:00:00\u001b[0ma \u001b[36m0:00:01\u001b[0m\n",
      "Requirement already satisfied: packaging in /Users/lessandro/Interview/virtualenv/lib/python3.10/site-packages (from pytest) (24.2)\n",
      "Requirement already satisfied: tomli>=1 in /Users/lessandro/Interview/virtualenv/lib/python3.10/site-packages (from pytest) (2.2.1)\n",
      "Collecting iniconfig\n",
      "  Downloading iniconfig-2.0.0-py3-none-any.whl (5.9 kB)\n",
      "Collecting pluggy<2,>=1.5\n",
      "  Downloading pluggy-1.5.0-py3-none-any.whl (20 kB)\n",
      "Requirement already satisfied: exceptiongroup>=1.0.0rc8 in /Users/lessandro/Interview/virtualenv/lib/python3.10/site-packages (from pytest) (1.2.2)\n",
      "Installing collected packages: pluggy, iniconfig, pytest\n",
      "Successfully installed iniconfig-2.0.0 pluggy-1.5.0 pytest-8.3.4\n",
      "\n",
      "\u001b[1m[\u001b[0m\u001b[34;49mnotice\u001b[0m\u001b[1;39;49m]\u001b[0m\u001b[39;49m A new release of pip available: \u001b[0m\u001b[31;49m22.3.1\u001b[0m\u001b[39;49m -> \u001b[0m\u001b[32;49m25.0.1\u001b[0m\n",
      "\u001b[1m[\u001b[0m\u001b[34;49mnotice\u001b[0m\u001b[1;39;49m]\u001b[0m\u001b[39;49m To update, run: \u001b[0m\u001b[32;49mpip install --upgrade pip\u001b[0m\n",
      "\u001b[1m============================= test session starts ==============================\u001b[0m\n",
      "platform darwin -- Python 3.10.9, pytest-8.3.4, pluggy-1.5.0 -- /Users/lessandro/Interview/virtualenv/bin/python3.10\n",
      "cachedir: .pytest_cache\n",
      "rootdir: /Users/lessandro/Interview/ML-system-design/llm-tokenizer\n",
      "plugins: anyio-4.8.0\n",
      "collected 3 items                                                              \u001b[0m\n",
      "\n",
      "test_BPETokenizer.py::test_token_pair \u001b[32mPASSED\u001b[0m\u001b[32m                             [ 33%]\u001b[0m\n",
      "test_BPETokenizer.py::test_tokenizer_class \u001b[32mPASSED\u001b[0m\u001b[32m                        [ 66%]\u001b[0m\n",
      "\u001b[32mPASSED\u001b[0m\u001b[32m                     [100%]\u001b[0m\n",
      "\n",
      "\u001b[32m============================== \u001b[32m\u001b[1m3 passed\u001b[0m\u001b[32m in 0.43s\u001b[0m\u001b[32m ===============================\u001b[0m\n"
     ]
    }
   ],
   "source": [
    "!pip install pytest\n",
    "!pytest -v"
   ]
  },
  {
   "cell_type": "markdown",
   "id": "4039a964-7942-482d-8eb4-a1f96d7e5797",
   "metadata": {
    "tags": []
   },
   "source": [
    "# Regex"
   ]
  },
  {
   "cell_type": "code",
   "execution_count": 5,
   "id": "e97caef6-a7be-4338-b030-0d1d5d45adf1",
   "metadata": {
    "tags": []
   },
   "outputs": [],
   "source": [
    "import regex as re"
   ]
  },
  {
   "cell_type": "code",
   "execution_count": 6,
   "id": "b3e66812-68f1-44ef-b5c8-daaba7154cea",
   "metadata": {
    "tags": []
   },
   "outputs": [],
   "source": [
    "gpt2pat = re.compile(r\"\"\"'s|'t|'re|'ve|'m|'ll|'d| ?\\p{L}+| ?\\p{N}+| ?[^\\s\\p{L}\\p{N}]+|\\s+(?!\\S)|\\s+\"\"\")"
   ]
  },
  {
   "cell_type": "code",
   "execution_count": 7,
   "id": "b3c8092a-b78b-4b40-86bb-b046808ff4c3",
   "metadata": {
    "tags": []
   },
   "outputs": [
    {
     "name": "stdout",
     "output_type": "stream",
     "text": [
      "['Hello', \"'ve\", ' world', ' are', ' you', ' ', ' 22', ' asd', '2', ' qwe', '.', '      ', ' asd', '!!', '   ']\n"
     ]
    }
   ],
   "source": [
    "print(re.findall(gpt2pat, \"Hello've world are you  22 asd2 qwe.       asd!!   \"))"
   ]
  },
  {
   "cell_type": "code",
   "execution_count": 5,
   "id": "f16dcaf8-eb79-44d7-ae48-18df8ad1eb3d",
   "metadata": {
    "tags": []
   },
   "outputs": [
    {
     "name": "stdout",
     "output_type": "stream",
     "text": [
      "['\\n', 'for', ' i', ' in', ' range', '(', '1', ',', ' 101', '):', '\\n   ', ' x', ' =', ' x', ' +', ' 2', '\\n']\n"
     ]
    }
   ],
   "source": [
    "e=\"\"\"\n",
    "for i in range(1, 101):\n",
    "    x = x + 2\n",
    "\"\"\"\n",
    "print(re.findall(gpt2pat, e))"
   ]
  },
  {
   "cell_type": "code",
   "execution_count": null,
   "id": "445ad556-12ca-43da-8688-d56cc0632878",
   "metadata": {},
   "outputs": [],
   "source": []
  },
  {
   "cell_type": "code",
   "execution_count": null,
   "id": "df73ad92-d60e-4910-b378-32ab52d3ced4",
   "metadata": {},
   "outputs": [],
   "source": []
  },
  {
   "cell_type": "markdown",
   "id": "f04c846d-e4db-4e2d-b5cc-7af5263352a8",
   "metadata": {
    "tags": []
   },
   "source": [
    "# Example Usage for BPETokenizer"
   ]
  },
  {
   "cell_type": "code",
   "execution_count": 24,
   "id": "14557f93-7c38-4d5c-a207-a4b39c25ec0e",
   "metadata": {
    "tags": []
   },
   "outputs": [
    {
     "name": "stdout",
     "output_type": "stream",
     "text": [
      "533\n",
      "b'\\xef\\xbc\\xb5\\xef\\xbd' 616\n",
      "[239, 188, 181, 239, 189] 616\n"
     ]
    }
   ],
   "source": [
    "text = \"Ｕｎｉｃｏｄｅ! 🅤🅝🅘🅒🅞🅓🅔‽ 🇺‌🇳‌🇮‌🇨‌🇴‌🇩‌🇪! 😄 The very name strikes fear and awe into the hearts of programmers worldwide. We all know we ought to “support Unicode” in our software (whatever that means—like using wchar_t for all the strings, right?). But Unicode can be abstruse, and diving into the thousand-page Unicode Standard plus its dozens of supplementary annexes, reports, and notes can be more than a little intimidating. I don’t blame programmers for still finding the whole thing mysterious, even 30 years after Unicode’s inception.\"\n",
    "print(len(text))\n",
    "tokens = text.encode('utf-8')\n",
    "print(tokens[:5], len(tokens))\n",
    "tokens = list(map(int, tokens))\n",
    "print(tokens[:5], len(tokens))"
   ]
  },
  {
   "cell_type": "code",
   "execution_count": 61,
   "id": "4a9dda1c-6b84-472a-97e0-63444e6adaba",
   "metadata": {
    "tags": []
   },
   "outputs": [
    {
     "data": {
      "text/plain": [
       "'e '"
      ]
     },
     "execution_count": 61,
     "metadata": {},
     "output_type": "execute_result"
    }
   ],
   "source": [
    "tokenizer = Tokenizer(tokens)\n",
    "mc = tokenizer.get_most_common()\n",
    "mc.to_string()"
   ]
  },
  {
   "cell_type": "code",
   "execution_count": 17,
   "id": "eab8e5d3-776a-4f0c-8319-643e3c49519f",
   "metadata": {
    "tags": []
   },
   "outputs": [
    {
     "data": {
      "text/plain": [
       "(23328, 24597, 240)"
      ]
     },
     "execution_count": 17,
     "metadata": {},
     "output_type": "execute_result"
    }
   ],
   "source": [
    "text = \"\"\"A Programmer’s Introduction to Unicode March 3, 2017 · Coding · 22 Comments  Ｕｎｉｃｏｄｅ! 🅤🅝🅘🅒🅞🅓🅔‽ 🇺\\u200c🇳\\u200c🇮\\u200c🇨\\u200c🇴\\u200c🇩\\u200c🇪! 😄 The very name strikes fear and awe into the hearts of programmers worldwide. We all know we ought to “support Unicode” in our software (whatever that means—like using wchar_t for all the strings, right?). But Unicode can be abstruse, and diving into the thousand-page Unicode Standard plus its dozens of supplementary annexes, reports, and notes can be more than a little intimidating. I don’t blame programmers for still finding the whole thing mysterious, even 30 years after Unicode’s inception.  A few months ago, I got interested in Unicode and decided to spend some time learning more about it in detail. In this article, I’ll give an introduction to it from a programmer’s point of view.  I’m going to focus on the character set and what’s involved in working with strings and files of Unicode text. However, in this article I’m not going to talk about fonts, text layout/shaping/rendering, or localization in detail—those are separate issues, beyond my scope (and knowledge) here.  Diversity and Inherent Complexity The Unicode Codespace Codespace Allocation Scripts Usage Frequency Encodings UTF-8 UTF-16 Combining Marks Canonical Equivalence Normalization Forms Grapheme Clusters And More… Diversity and Inherent Complexity As soon as you start to study Unicode, it becomes clear that it represents a large jump in complexity over character sets like ASCII that you may be more familiar with. It’s not just that Unicode contains a much larger number of characters, although that’s part of it. Unicode also has a great deal of internal structure, features, and special cases, making it much more than what one might expect a mere “character set” to be. We’ll see some of that later in this article.  When confronting all this complexity, especially as an engineer, it’s hard not to find oneself asking, “Why do we need all this? Is this really necessary? Couldn’t it be simplified?”  However, Unicode aims to faithfully represent the entire world’s writing systems. The Unicode Consortium’s stated goal is “enabling people around the world to use computers in any language”. And as you might imagine, the diversity of written languages is immense! To date, Unicode supports 135 different scripts, covering some 1100 languages, and there’s still a long tail of over 100 unsupported scripts, both modern and historical, which people are still working to add.  Given this enormous diversity, it’s inevitable that representing it is a complicated project. Unicode embraces that diversity, and accepts the complexity inherent in its mission to include all human writing systems. It doesn’t make a lot of trade-offs in the name of simplification, and it makes exceptions to its own rules where necessary to further its mission.  Moreover, Unicode is committed not just to supporting texts in any single language, but also to letting multiple languages coexist within one text—which introduces even more complexity.  Most programming languages have libraries available to handle the gory low-level details of text manipulation, but as a programmer, you’ll still need to know about certain Unicode features in order to know when and how to apply them. It may take some time to wrap your head around it all, but don’t be discouraged—think about the billions of people for whom your software will be more accessible through supporting text in their language. Embrace the complexity!  The Unicode Codespace Let’s start with some general orientation. The basic elements of Unicode—its “characters”, although that term isn’t quite right—are called code points. Code points are identified by number, customarily written in hexadecimal with the prefix “U+”, such as U+0041 “A” latin capital letter a or U+03B8 “θ” greek small letter theta. Each code point also has a short name, and quite a few other properties, specified in the Unicode Character Database.  The set of all possible code points is called the codespace. The Unicode codespace consists of 1,114,112 code points. However, only 128,237 of them—about 12% of the codespace—are actually assigned, to date. There’s plenty of room for growth! Unicode also reserves an additional 137,468 code points as “private use” areas, which have no standardized meaning and are available for individual applications to define for their own purposes.  Codespace Allocation To get a feel for how the codespace is laid out, it’s helpful to visualize it. Below is a map of the entire codespace, with one pixel per code point. It’s arranged in tiles for visual coherence; each small square is 16×16 = 256 code points, and each large square is a “plane” of 65,536 code points. There are 17 planes altogether.  Map of the Unicode codespace (click to zoom)  White represents unassigned space. Blue is assigned code points, green is private-use areas, and the small red area is surrogates (more about those later). As you can see, the assigned code points are distributed somewhat sparsely, but concentrated in the first three planes.  Plane 0 is also known as the “Basic Multilingual Plane”, or BMP. The BMP contains essentially all the characters needed for modern text in any script, including Latin, Cyrillic, Greek, Han (Chinese), Japanese, Korean, Arabic, Hebrew, Devanagari (Indian), and many more.  (In the past, the codespace was just the BMP and no more—Unicode was originally conceived as a straightforward 16-bit encoding, with only 65,536 code points. It was expanded to its current size in 1996. However, the vast majority of code points in modern text belong to the BMP.)  Plane 1 contains historical scripts, such as Sumerian cuneiform and Egyptian hieroglyphs, as well as emoji and various other symbols. Plane 2 contains a large block of less-common and historical Han characters. The remaining planes are empty, except for a small number of rarely-used formatting characters in Plane 14; planes 15–16 are reserved entirely for private use.  Scripts Let’s zoom in on the first three planes, since that’s where the action is:  Map of scripts in Unicode planes 0–2 (click to zoom)  This map color-codes the 135 different scripts in Unicode. You can see how Han () and Korean () take up most of the range of the BMP (the left large square). By contrast, all of the European, Middle Eastern, and South Asian scripts fit into the first row of the BMP in this diagram.  Many areas of the codespace are adapted or copied from earlier encodings. For example, the first 128 code points of Unicode are just a copy of ASCII. This has clear benefits for compatibility—it’s easy to losslessly convert texts from smaller encodings into Unicode (and the other direction too, as long as no characters outside the smaller encoding are used).  Usage Frequency One more interesting way to visualize the codespace is to look at the distribution of usage—in other words, how often each code point is actually used in real-world texts. Below is a heat map of planes 0–2 based on a large sample of text from Wikipedia and Twitter (all languages). Frequency increases from black (never seen) through red and yellow to white.  Heat map of code point usage frequency in Unicode planes 0–2 (click to zoom)  You can see that the vast majority of this text sample lies in the BMP, with only scattered usage of code points from planes 1–2. The biggest exception is emoji, which show up here as the several bright squares in the bottom row of plane 1.  Encodings We’ve seen that Unicode code points are abstractly identified by their index in the codespace, ranging from U+0000 to U+10FFFF. But how do code points get represented as bytes, in memory or in a file?  The most convenient, computer-friendliest (and programmer-friendliest) thing to do would be to just store the code point index as a 32-bit integer. This works, but it consumes 4 bytes per code point, which is sort of a lot. Using 32-bit ints for Unicode will cost you a bunch of extra storage, memory, and performance in bandwidth-bound scenarios, if you work with a lot of text.  Consequently, there are several more-compact encodings for Unicode. The 32-bit integer encoding is officially called UTF-32 (UTF = “Unicode Transformation Format”), but it’s rarely used for storage. At most, it comes up sometimes as a temporary internal representation, for examining or operating on the code points in a string.  Much more commonly, you’ll see Unicode text encoded as either UTF-8 or UTF-16. These are both variable-length encodings, made up of 8-bit or 16-bit units, respectively. In these schemes, code points with smaller index values take up fewer bytes, which saves a lot of memory for typical texts. The trade-off is that processing UTF-8/16 texts is more programmatically involved, and likely slower.  UTF-8 In UTF-8, each code point is stored using 1 to 4 bytes, based on its index value.  UTF-8 uses a system of binary prefixes, in which the high bits of each byte mark whether it’s a single byte, the beginning of a multi-byte sequence, or a continuation byte; the remaining bits, concatenated, give the code point index. This table shows how it works:  UTF-8 (binary)\\tCode point (binary)\\tRange 0xxxxxxx\\txxxxxxx\\tU+0000–U+007F 110xxxxx 10yyyyyy\\txxxxxyyyyyy\\tU+0080–U+07FF 1110xxxx 10yyyyyy 10zzzzzz\\txxxxyyyyyyzzzzzz\\tU+0800–U+FFFF 11110xxx 10yyyyyy 10zzzzzz 10wwwwww\\txxxyyyyyyzzzzzzwwwwww\\tU+10000–U+10FFFF A handy property of UTF-8 is that code points below 128 (ASCII characters) are encoded as single bytes, and all non-ASCII code points are encoded using sequences of bytes 128–255. This has a couple of nice consequences. First, any strings or files out there that are already in ASCII can also be interpreted as UTF-8 without any conversion. Second, lots of widely-used string programming idioms—such as null termination, or delimiters (newlines, tabs, commas, slashes, etc.)—will just work on UTF-8 strings. ASCII bytes never occur inside the encoding of non-ASCII code points, so searching byte-wise for a null terminator or a delimiter will do the right thing.  Thanks to this convenience, it’s relatively simple to extend legacy ASCII programs and APIs to handle UTF-8 strings. UTF-8 is very widely used in the Unix/Linux and Web worlds, and many programmers argue UTF-8 should be the default encoding everywhere.  However, UTF-8 isn’t a drop-in replacement for ASCII strings in all respects. For instance, code that iterates over the “characters” in a string will need to decode UTF-8 and iterate over code points (or maybe grapheme clusters—more about those later), not bytes. When you measure the “length” of a string, you’ll need to think about whether you want the length in bytes, the length in code points, the width of the text when rendered, or something else.  UTF-16 The other encoding that you’re likely to encounter is UTF-16. It uses 16-bit words, with each code point stored as either 1 or 2 words.  Like UTF-8, we can express the UTF-16 encoding rules in the form of binary prefixes:  UTF-16 (binary)\\tCode point (binary)\\tRange xxxxxxxxxxxxxxxx\\txxxxxxxxxxxxxxxx\\tU+0000–U+FFFF 110110xxxxxxxxxx 110111yyyyyyyyyy\\txxxxxxxxxxyyyyyyyyyy + 0x10000\\tU+10000–U+10FFFF A more common way that people talk about UTF-16 encoding, though, is in terms of code points called “surrogates”. All the code points in the range U+D800–U+DFFF—or in other words, the code points that match the binary prefixes 110110 and 110111 in the table above—are reserved specifically for UTF-16 encoding, and don’t represent any valid characters on their own. They’re only meant to occur in the 2-word encoding pattern above, which is called a “surrogate pair”. Surrogate code points are illegal in any other context! They’re not allowed in UTF-8 or UTF-32 at all.  Historically, UTF-16 is a descendant of the original, pre-1996 versions of Unicode, in which there were only 65,536 code points. The original intention was that there would be no different “encodings”; Unicode was supposed to be a straightforward 16-bit character set. Later, the codespace was expanded to make room for a long tail of less-common (but still important) Han characters, which the Unicode designers didn’t originally plan for. Surrogates were then introduced, as—to put it bluntly—a kludge, allowing 16-bit encodings to access the new code points.  Today, Javascript uses UTF-16 as its standard string representation: if you ask for the length of a string, or iterate over it, etc., the result will be in UTF-16 words, with any code points outside the BMP expressed as surrogate pairs. UTF-16 is also used by the Microsoft Win32 APIs; though Win32 supports either 8-bit or 16-bit strings, the 8-bit version unaccountably still doesn’t support UTF-8—only legacy code-page encodings, like ANSI. This leaves UTF-16 as the only way to get proper Unicode support in Windows. (Update: in Win10 version 1903, they finally added UTF-8 support to the 8-bit APIs! 😊)  By the way, UTF-16’s words can be stored either little-endian or big-endian. Unicode has no opinion on that issue, though it does encourage the convention of putting U+FEFF zero width no-break space at the top of a UTF-16 file as a byte-order mark, to disambiguate the endianness. (If the file doesn’t match the system’s endianness, the BOM will be decoded as U+FFFE, which isn’t a valid code point.)  Combining Marks In the story so far, we’ve been focusing on code points. But in Unicode, a “character” can be more complicated than just an individual code point!  Unicode includes a system for dynamically composing characters, by combining multiple code points together. This is used in various ways to gain flexibility without causing a huge combinatorial explosion in the number of code points.  In European languages, for example, this shows up in the application of diacritics to letters. Unicode supports a wide range of diacritics, including acute and grave accents, umlauts, cedillas, and many more. All these diacritics can be applied to any letter of any alphabet—and in fact, multiple diacritics can be used on a single letter.  If Unicode tried to assign a distinct code point to every possible combination of letter and diacritics, things would rapidly get out of hand. Instead, the dynamic composition system enables you to construct the character you want, by starting with a base code point (the letter) and appending additional code points, called “combining marks”, to specify the diacritics. When a text renderer sees a sequence like this in a string, it automatically stacks the diacritics over or under the base letter to create a composed character.  For example, the accented character “Á” can be expressed as a string of two code points: U+0041 “A” latin capital letter a plus U+0301 “◌́” combining acute accent. This string automatically gets rendered as a single character: “Á”.  Now, Unicode does also include many “precomposed” code points, each representing a letter with some combination of diacritics already applied, such as U+00C1 “Á” latin capital letter a with acute or U+1EC7 “ệ” latin small letter e with circumflex and dot below. I suspect these are mostly inherited from older encodings that were assimilated into Unicode, and kept around for compatibility. In practice, there are precomposed code points for most of the common letter-with-diacritic combinations in European-script languages, so they don’t use dynamic composition that much in typical text.  Still, the system of combining marks does allow for an arbitrary number of diacritics to be stacked on any base character. The reductio-ad-absurdum of this is Zalgo text, which works by ͖͟ͅr͞aṋ̫̠̖͈̗d͖̻̹óm̪͙͕̗̝ļ͇̰͓̳̫ý͓̥̟͍ ̕s̫t̫̱͕̗̰̼̘͜a̼̩͖͇̠͈̣͝c̙͍k̖̱̹͍͘i̢n̨̺̝͇͇̟͙ģ̫̮͎̻̟ͅ ̕n̼̺͈͞u̮͙m̺̭̟̗͞e̞͓̰̤͓̫r̵o̖ṷs҉̪͍̭̬̝̤ ̮͉̝̞̗̟͠d̴̟̜̱͕͚i͇̫̼̯̭̜͡ḁ͙̻̼c̲̲̹r̨̠̹̣̰̦i̱t̤̻̤͍͙̘̕i̵̜̭̤̱͎c̵s ͘o̱̲͈̙͖͇̲͢n͘ ̜͈e̬̲̠̩ac͕̺̠͉h̷̪ ̺̣͖̱ḻ̫̬̝̹ḙ̙̺͙̭͓̲t̞̞͇̲͉͍t̷͔̪͉̲̻̠͙e̦̻͈͉͇r͇̭̭̬͖,̖́ ̜͙͓̣̭s̘̘͈o̱̰̤̲ͅ ̛̬̜̙t̼̦͕̱̹͕̥h̳̲͈͝ͅa̦t̻̲ ̻̟̭̦̖t̛̰̩h̠͕̳̝̫͕e͈̤̘͖̞͘y҉̝͙ ̷͉͔̰̠o̞̰v͈͈̳̘͜er̶f̰͈͔ḻ͕̘̫̺̲o̲̭͙͠ͅw̱̳̺ ͜t̸h͇̭͕̳͍e̖̯̟̠ ͍̞̜͔̩̪͜ļ͎̪̲͚i̝̲̹̙̩̹n̨̦̩̖ḙ̼̲̼͢ͅ ̬͝s̼͚̘̞͝p͙̘̻a̙c҉͉̜̤͈̯̖i̥͡n̦̠̱͟g̸̗̻̦̭̮̟ͅ ̳̪̠͖̳̯̕a̫͜n͝d͡ ̣̦̙ͅc̪̗r̴͙̮̦̹̳e͇͚̞͔̹̫͟a̙̺̙ț͔͎̘̹ͅe̥̩͍ a͖̪̜̮͙̹n̢͉̝ ͇͉͓̦̼́a̳͖̪̤̱p̖͔͔̟͇͎͠p̱͍̺ę̲͎͈̰̲̤̫a̯͜r̨̮̫̣̘a̩̯͖n̹̦̰͎̣̞̞c̨̦̱͔͎͍͖e̬͓͘ ̤̰̩͙̤̬͙o̵̼̻̬̻͇̮̪f̴ ̡̙̭͓͖̪̤“̸͙̠̼c̳̗͜o͏̼͙͔̮r̞̫̺̞̥̬ru̺̻̯͉̭̻̯p̰̥͓̣̫̙̤͢t̳͍̳̖ͅi̶͈̝͙̼̙̹o̡͔n̙̺̹̖̩͝ͅ”̨̗͖͚̩.̯͓  A few other places where dynamic character composition shows up in Unicode:  Vowel-pointing notation in Arabic and Hebrew. In these languages, words are normally spelled with some of their vowels left out. They then have diacritic notation to indicate the vowels (used in dictionaries, language-teaching materials, children’s books, and such). These diacritics are expressed with combining marks.  A Hebrew example, with niqqud:\\tאֶת דַלְתִּי הֵזִיז הֵנִיעַ, קֶטֶב לִשְׁכַּתִּי יָשׁוֹד Normal writing (no niqqud):\\tאת דלתי הזיז הניע, קטב לשכתי ישוד Devanagari, the script used to write Hindi, Sanskrit, and many other South Asian languages, expresses certain vowels as combining marks attached to consonant letters. For example, “ह” + “\\u200bि” = “हि” (“h” + “i” = “hi”). Korean characters stand for syllables, but they are composed of letters called jamo that stand for the vowels and consonants in the syllable. While there are code points for precomposed Korean syllables, it’s also possible to dynamically compose them by concatenating their jamo. For example, “ᄒ” + “ᅡ” + “ᆫ” = “한” (“h” + “a” + “n” = “han”). Canonical Equivalence In Unicode, precomposed characters exist alongside the dynamic composition system. A consequence of this is that there are multiple ways to express “the same” string—different sequences of code points that result in the same user-perceived characters. For example, as we saw earlier, we can express the character “Á” either as the single code point U+00C1, or as the string of two code points U+0041 U+0301.  Another source of ambiguity is the ordering of multiple diacritics in a single character. Diacritic order matters visually when two diacritics apply to the same side of the base character, e.g. both above: “ǡ” (dot, then macron) is different from “ā̇” (macron, then dot). However, when diacritics apply to different sides of the character, e.g. one above and one below, then the order doesn’t affect rendering. Moreover, a character with multiple diacritics might have one of the diacritics precomposed and others expressed as combining marks.  For example, the Vietnamese letter “ệ” can be expressed in five different ways:  Fully precomposed: U+1EC7 “ệ” Partially precomposed: U+1EB9 “ẹ” + U+0302 “◌̂” Partially precomposed: U+00EA “ê” + U+0323 “◌̣” Fully decomposed: U+0065 “e” + U+0323 “◌̣” + U+0302 “◌̂” Fully decomposed: U+0065 “e” + U+0302 “◌̂” + U+0323 “◌̣” Unicode refers to set of strings like this as “canonically equivalent”. Canonically equivalent strings are supposed to be treated as identical for purposes of searching, sorting, rendering, text selection, and so on. This has implications for how you implement operations on text. For example, if an app has a “find in file” operation and the user searches for “ệ”, it should, by default, find occurrences of any of the five versions of “ệ” above!  Normalization Forms To address the problem of “how to handle canonically equivalent strings”, Unicode defines several normalization forms: ways of converting strings into a canonical form so that they can be compared code-point-by-code-point (or byte-by-byte).  The “NFD” normalization form fully decomposes every character down to its component base and combining marks, taking apart any precomposed code points in the string. It also sorts the combining marks in each character according to their rendered position, so e.g. diacritics that go below the character come before the ones that go above the character. (It doesn’t reorder diacritics in the same rendered position, since their order matters visually, as previously mentioned.)  The “NFC” form, conversely, puts things back together into precomposed code points as much as possible. If an unusual combination of diacritics is called for, there may not be any precomposed code point for it, in which case NFC still precomposes what it can and leaves any remaining combining marks in place (again ordered by rendered position, as in NFD).  There are also forms called NFKD and NFKC. The “K” here refers to compatibility decompositions, which cover characters that are “similar” in some sense but not visually identical. However, I’m not going to cover that here.  Grapheme Clusters As we’ve seen, Unicode contains various cases where a thing that a user thinks of as a single “character” might actually be made up of multiple code points under the hood. Unicode formalizes this using the notion of a grapheme cluster: a string of one or more code points that constitute a single “user-perceived character”.  UAX #29 defines the rules for what, precisely, qualifies as a grapheme cluster. It’s approximately “a base code point followed by any number of combining marks”, but the actual definition is a bit more complicated; it accounts for things like Korean jamo, and emoji ZWJ sequences.  The main thing grapheme clusters are used for is text editing: they’re often the most sensible unit for cursor placement and text selection boundaries. Using grapheme clusters for these purposes ensures that you can’t accidentally chop off some diacritics when you copy-and-paste text, that left/right arrow keys always move the cursor by one visible character, and so on.  Another place where grapheme clusters are useful is in enforcing a string length limit—say, on a database field. While the true, underlying limit might be something like the byte length of the string in UTF-8, you wouldn’t want to enforce that by just truncating bytes. At a minimum, you’d want to “round down” to the nearest code point boundary; but even better, round down to the nearest grapheme cluster boundary. Otherwise, you might be corrupting the last character by cutting off a diacritic, or interrupting a jamo sequence or ZWJ sequence.  And More… There’s much more that could be said about Unicode from a programmer’s perspective! I haven’t gotten into such fun topics as case mapping, collation, compatibility decompositions and confusables, Unicode-aware regexes, or bidirectional text. Nor have I said anything yet about implementation issues—how to efficiently store and look-up data about the sparsely-assigned code points, or how to optimize UTF-8 decoding, string comparison, or NFC normalization. Perhaps I’ll return to some of those things in future posts.  Unicode is a fascinating and complex system. It has a many-to-one mapping between bytes and code points, and on top of that a many-to-one (or, under some circumstances, many-to-many) mapping between code points and “characters”. It has oddball special cases in every corner. But no one ever claimed that representing all written languages was going to be easy, and it’s clear that we’re never going back to the bad old days of a patchwork of incompatible encodings.  Further reading:  The Unicode Standard UTF-8 Everywhere Manifesto Dark corners of Unicode by Eevee ICU (International Components for Unicode)—C/C++/Java libraries implementing many Unicode algorithms and related things Python 3 Unicode Howto Google Noto Fonts—set of fonts intended to cover all assigned code points\"\"\"\n",
    "tokens = text.encode('utf-8')\n",
    "len(text), len(tokens), max(tokens)"
   ]
  },
  {
   "cell_type": "code",
   "execution_count": 127,
   "id": "a1745303-1d53-4c75-a070-363bb2246ae4",
   "metadata": {
    "tags": []
   },
   "outputs": [
    {
     "data": {
      "text/plain": [
       "(81, 81, 116)"
      ]
     },
     "execution_count": 127,
     "metadata": {},
     "output_type": "execute_result"
    }
   ],
   "source": [
    "text = (\n",
    "    \"dog. dog, dog! dog? \"\n",
    "    \"dog. dog! dog, dog?\"\n",
    "    \"Wait.. Wait.... Wait. \"\n",
    "    \"Wait. Wait.. Wait.. \"\n",
    "    \n",
    ")\n",
    "\n",
    "tokens = text.encode('utf-8')\n",
    "len(text), len(tokens), max(tokens)"
   ]
  },
  {
   "cell_type": "code",
   "execution_count": 25,
   "id": "e907d1f2-b844-462d-b737-026c0bb53b6e",
   "metadata": {
    "tags": []
   },
   "outputs": [
    {
     "name": "stdout",
     "output_type": "stream",
     "text": [
      "Encoding Map Visualization:\n",
      "'d' 'o' -> 'do' (Token 256)\n",
      "'do' 'g' -> 'dog' (Token 257)\n",
      "'.' ' ' -> '. ' (Token 258)\n",
      "'W' 'a' -> 'Wa' (Token 259)\n",
      "'Wa' 'i' -> 'Wai' (Token 260)\n",
      "'Wai' 't' -> 'Wait' (Token 261)\n",
      "' ' 'dog' -> ' dog' (Token 262)\n",
      "'. ' 'Wait' -> '. Wait' (Token 263)\n",
      "'.' '. Wait' -> '.. Wait' (Token 264)\n",
      "'. ' 'dog' -> '. dog' (Token 265)\n",
      "',' ' dog' -> ', dog' (Token 266)\n",
      "'!' ' dog' -> '! dog' (Token 267)\n",
      "'.. Wait' '.' -> '.. Wait.' (Token 268)\n"
     ]
    }
   ],
   "source": [
    "tokenizer = Tokenizer(tokens, encoding_vocab_size=600)\n",
    "encoded = tokenizer.train(debug=True)\n",
    "tokenizer.visualize_encoding_map()"
   ]
  },
  {
   "cell_type": "code",
   "execution_count": 140,
   "id": "4a58f587-90fe-4c05-928f-d40c6abe370c",
   "metadata": {
    "tags": []
   },
   "outputs": [
    {
     "name": "stdout",
     "output_type": "stream",
     "text": [
      "The autoreload extension is already loaded. To reload it, use:\n",
      "  %reload_ext autoreload\n"
     ]
    }
   ],
   "source": [
    "%load_ext autoreload\n",
    "%autoreload 2\n",
    "from RegexTokenizer import Tokenizer, FastTokenizer, TokenPair\n"
   ]
  },
  {
   "cell_type": "code",
   "execution_count": 128,
   "id": "0c16f132-eb55-4bc1-b044-f5222a19d448",
   "metadata": {
    "tags": []
   },
   "outputs": [
    {
     "name": "stdout",
     "output_type": "stream",
     "text": [
      "[Tokenizer.__init__] 29 regex tokens (order preserved)\n"
     ]
    }
   ],
   "source": [
    "tokenizer = FastTokenizer(text, encoding_vocab_size=600)\n",
    "#encoded = tokenizer.train(debug=True)\n",
    "#tokenizer.visualize_encoding_map()"
   ]
  },
  {
   "cell_type": "code",
   "execution_count": 129,
   "id": "88500b7a-2f33-4837-a3ad-f5c6bd750db2",
   "metadata": {
    "tags": []
   },
   "outputs": [
    {
     "ename": "AttributeError",
     "evalue": "'FastTokenizer' object has no attribute 'tcounts'",
     "output_type": "error",
     "traceback": [
      "\u001b[0;31m---------------------------------------------------------------------------\u001b[0m",
      "\u001b[0;31mAttributeError\u001b[0m                            Traceback (most recent call last)",
      "Cell \u001b[0;32mIn[129], line 1\u001b[0m\n\u001b[0;32m----> 1\u001b[0m \u001b[38;5;28;01mfor\u001b[39;00m k, v \u001b[38;5;129;01min\u001b[39;00m \u001b[43mtokenizer\u001b[49m\u001b[38;5;241;43m.\u001b[39;49m\u001b[43mtcounts\u001b[49m\u001b[38;5;241m.\u001b[39mitems():\n\u001b[1;32m      2\u001b[0m     \u001b[38;5;28mprint\u001b[39m(\u001b[38;5;28mchr\u001b[39m(v\u001b[38;5;241m.\u001b[39mfirst_token), \u001b[38;5;28mchr\u001b[39m(v\u001b[38;5;241m.\u001b[39msecond_token), v\u001b[38;5;241m.\u001b[39mfrequency)\n",
      "\u001b[0;31mAttributeError\u001b[0m: 'FastTokenizer' object has no attribute 'tcounts'"
     ]
    }
   ],
   "source": [
    "for k, v in tokenizer.tcounts.items():\n",
    "    print(chr(v.first_token), chr(v.second_token), v.frequency)"
   ]
  },
  {
   "cell_type": "code",
   "execution_count": 110,
   "id": "5c67d57a-b844-420a-8ab8-11250219a906",
   "metadata": {
    "tags": []
   },
   "outputs": [
    {
     "data": {
      "text/plain": [
       "{(46, 46): TokenPair(first_token=46, second_token=46, frequency=4),\n",
       " (32, 100): TokenPair(first_token=32, second_token=100, frequency=1),\n",
       " (100, 111): TokenPair(first_token=100, second_token=111, frequency=2),\n",
       " (111, 103): TokenPair(first_token=111, second_token=103, frequency=2),\n",
       " (87, 97): TokenPair(first_token=87, second_token=97, frequency=2),\n",
       " (97, 105): TokenPair(first_token=97, second_token=105, frequency=2),\n",
       " (105, 116): TokenPair(first_token=105, second_token=116, frequency=2),\n",
       " (32, 87): TokenPair(first_token=32, second_token=87, frequency=1)}"
      ]
     },
     "execution_count": 110,
     "metadata": {},
     "output_type": "execute_result"
    }
   ],
   "source": [
    "tokenizer.tcounts"
   ]
  },
  {
   "cell_type": "code",
   "execution_count": 130,
   "id": "5ecc63d9-f512-4bab-b9ea-caff86013816",
   "metadata": {
    "tags": []
   },
   "outputs": [
    {
     "data": {
      "text/plain": [
       "[[257],\n",
       " [46],\n",
       " [258],\n",
       " [44],\n",
       " [258],\n",
       " [33],\n",
       " [258],\n",
       " [63],\n",
       " [258],\n",
       " [46],\n",
       " [258],\n",
       " [33],\n",
       " [258],\n",
       " [44],\n",
       " [258],\n",
       " [63],\n",
       " [262],\n",
       " [259],\n",
       " [263],\n",
       " [259, 259],\n",
       " [263],\n",
       " [46],\n",
       " [263],\n",
       " [46],\n",
       " [263],\n",
       " [259],\n",
       " [263],\n",
       " [259],\n",
       " [32]]"
      ]
     },
     "execution_count": 130,
     "metadata": {},
     "output_type": "execute_result"
    }
   ],
   "source": [
    "tokenizer.train(debug=False)"
   ]
  },
  {
   "cell_type": "code",
   "execution_count": 131,
   "id": "5f58cb10-eb35-4e71-9f22-0f1a18c5fd31",
   "metadata": {
    "tags": []
   },
   "outputs": [
    {
     "name": "stdout",
     "output_type": "stream",
     "text": [
      "Encoding Map Visualization:\n",
      "'d' 'o' -> 'do' (Token 256)\n",
      "'do' 'g' -> 'dog' (Token 257)\n",
      "' ' 'dog' -> ' dog' (Token 258)\n",
      "'.' '.' -> '..' (Token 259)\n",
      "'W' 'a' -> 'Wa' (Token 260)\n",
      "'i' 't' -> 'it' (Token 261)\n",
      "'Wa' 'it' -> 'Wait' (Token 262)\n",
      "' ' 'Wait' -> ' Wait' (Token 263)\n"
     ]
    }
   ],
   "source": [
    "tokenizer.visualize_encoding_map()"
   ]
  },
  {
   "cell_type": "code",
   "execution_count": 132,
   "id": "079f0723-d45a-4683-addc-f07072cd9b54",
   "metadata": {
    "tags": []
   },
   "outputs": [
    {
     "data": {
      "text/plain": [
       "True"
      ]
     },
     "execution_count": 132,
     "metadata": {},
     "output_type": "execute_result"
    }
   ],
   "source": [
    "text == tokenizer.decode(tokenizer.encode(text), raw_tokens=False)"
   ]
  },
  {
   "cell_type": "code",
   "execution_count": 28,
   "id": "a4801c43-f664-479a-9ac2-438bc424cdf5",
   "metadata": {
    "tags": []
   },
   "outputs": [
    {
     "name": "stdout",
     "output_type": "stream",
     "text": [
      "{'!', '..', ' dog', ',', '?', '....', 'Wait', '.', 'dog', ' ', ' Wait'}\n"
     ]
    }
   ],
   "source": [
    "gpt2pat = re.compile()\n",
    "print()"
   ]
  },
  {
   "cell_type": "code",
   "execution_count": 26,
   "id": "6de04fe4-8ec6-4a53-a3b1-73377732543d",
   "metadata": {
    "tags": []
   },
   "outputs": [],
   "source": [
    "regex_tokesn = \"\".join(list(set(re.findall(gpt2pat, text))))"
   ]
  },
  {
   "cell_type": "code",
   "execution_count": 27,
   "id": "5d300fef-e45c-4469-bda6-b5fc50766013",
   "metadata": {
    "tags": []
   },
   "outputs": [
    {
     "data": {
      "text/plain": [
       "'!.. dog,?....Wait.dog  Wait'"
      ]
     },
     "execution_count": 27,
     "metadata": {},
     "output_type": "execute_result"
    }
   ],
   "source": [
    "regex_tokesn"
   ]
  },
  {
   "cell_type": "code",
   "execution_count": 8,
   "id": "dd3311e5-7e74-4fcc-a419-6a6ab2a8171b",
   "metadata": {
    "tags": []
   },
   "outputs": [
    {
     "data": {
      "text/plain": [
       "(268, 18)"
      ]
     },
     "execution_count": 8,
     "metadata": {},
     "output_type": "execute_result"
    }
   ],
   "source": [
    "max(encoded), len(encoded)"
   ]
  },
  {
   "cell_type": "code",
   "execution_count": 9,
   "id": "74ec7070-452a-4d6f-b7d4-59a264f028e0",
   "metadata": {
    "tags": []
   },
   "outputs": [
    {
     "name": "stdout",
     "output_type": "stream",
     "text": [
      "compression ration = 4.50X\n"
     ]
    }
   ],
   "source": [
    "print(f\"compression ration = {len(tokens) / len(encoded):.2f}X\")"
   ]
  },
  {
   "cell_type": "code",
   "execution_count": 11,
   "id": "f8fc52da-0880-4c50-aecd-9688994cd671",
   "metadata": {
    "tags": []
   },
   "outputs": [
    {
     "data": {
      "text/plain": [
       "True"
      ]
     },
     "execution_count": 11,
     "metadata": {},
     "output_type": "execute_result"
    }
   ],
   "source": [
    "prompt = text\n",
    "prompt == \"\".join(map(chr, list(map(ord, prompt))))"
   ]
  },
  {
   "cell_type": "code",
   "execution_count": 12,
   "id": "34735852-f4f0-470e-8950-d5d133695339",
   "metadata": {
    "tags": []
   },
   "outputs": [
    {
     "name": "stdout",
     "output_type": "stream",
     "text": [
      "Encoding Map Visualization:\n",
      "'d' 'o' -> 'do' (Token 256)\n",
      "'do' 'g' -> 'dog' (Token 257)\n",
      "'.' ' ' -> '. ' (Token 258)\n",
      "'W' 'a' -> 'Wa' (Token 259)\n",
      "'Wa' 'i' -> 'Wai' (Token 260)\n",
      "'Wai' 't' -> 'Wait' (Token 261)\n",
      "' ' 'dog' -> ' dog' (Token 262)\n",
      "'. ' 'Wait' -> '. Wait' (Token 263)\n",
      "'.' '. Wait' -> '.. Wait' (Token 264)\n",
      "'. ' 'dog' -> '. dog' (Token 265)\n",
      "',' ' dog' -> ', dog' (Token 266)\n",
      "'!' ' dog' -> '! dog' (Token 267)\n",
      "'.. Wait' '.' -> '.. Wait.' (Token 268)\n"
     ]
    }
   ],
   "source": []
  },
  {
   "cell_type": "code",
   "execution_count": 20,
   "id": "2c3fa58f-ad0f-4f3b-b81f-4bc5e8cdca04",
   "metadata": {
    "tags": []
   },
   "outputs": [
    {
     "data": {
      "text/plain": [
       "9261"
      ]
     },
     "execution_count": 20,
     "metadata": {},
     "output_type": "execute_result"
    }
   ],
   "source": [
    "sum(map(len, set(re.findall(gpt2pat, text))))"
   ]
  },
  {
   "cell_type": "code",
   "execution_count": 9,
   "id": "6d29ae2a-4096-418d-a497-9d54d25ea5da",
   "metadata": {
    "tags": []
   },
   "outputs": [
    {
     "data": {
      "text/plain": [
       "1138080"
      ]
     },
     "execution_count": 9,
     "metadata": {},
     "output_type": "execute_result"
    }
   ],
   "source": [
    "len(text)"
   ]
  },
  {
   "cell_type": "code",
   "execution_count": 145,
   "id": "641ca10e-9b03-4bbf-99ba-71f83aac22fb",
   "metadata": {
    "tags": []
   },
   "outputs": [],
   "source": [
    "with open(\"./datasets/wikitext_train.txt\", \"r\") as f:\n",
    "    text = f.read()"
   ]
  },
  {
   "cell_type": "code",
   "execution_count": 146,
   "id": "c848ebc2-9d67-47b7-bb77-21da3adaae22",
   "metadata": {
    "tags": []
   },
   "outputs": [
    {
     "data": {
      "text/plain": [
       "'537,088,084'"
      ]
     },
     "execution_count": 146,
     "metadata": {},
     "output_type": "execute_result"
    }
   ],
   "source": [
    "f\"{len(text):,}\""
   ]
  },
  {
   "cell_type": "code",
   "execution_count": null,
   "id": "f2e80a00-840d-499e-9c74-59a2211aa525",
   "metadata": {
    "tags": []
   },
   "outputs": [],
   "source": [
    "tokenizer = FastTokenizer(text, encoding_vocab_size=50256)"
   ]
  },
  {
   "cell_type": "code",
   "execution_count": null,
   "id": "e86b57d9-11b8-428a-9a5a-480a960bb08d",
   "metadata": {
    "tags": []
   },
   "outputs": [],
   "source": [
    "_ = tokenizer.train()"
   ]
  },
  {
   "cell_type": "markdown",
   "id": "2dd06118-8303-47a5-8802-e79dab3dbf31",
   "metadata": {},
   "source": [
    "# Tokenizer Dataset"
   ]
  },
  {
   "cell_type": "code",
   "execution_count": 5,
   "id": "5f7c0552-115f-4ce5-b8a5-78d051b1c236",
   "metadata": {},
   "outputs": [
    {
     "name": "stdout",
     "output_type": "stream",
     "text": [
      "Collecting datasets\n",
      "  Downloading datasets-3.3.2-py3-none-any.whl (485 kB)\n",
      "\u001b[2K     \u001b[90m━━━━━━━━━━━━━━━━━━━━━━━━━━━━━━━━━━━━━━━\u001b[0m \u001b[32m485.4/485.4 kB\u001b[0m \u001b[31m7.8 MB/s\u001b[0m eta \u001b[36m0:00:00\u001b[0ma \u001b[36m0:00:01\u001b[0m\n",
      "Collecting xxhash\n",
      "  Downloading xxhash-3.5.0-cp310-cp310-macosx_11_0_arm64.whl (30 kB)\n",
      "Collecting tqdm>=4.66.3\n",
      "  Downloading tqdm-4.67.1-py3-none-any.whl (78 kB)\n",
      "\u001b[2K     \u001b[90m━━━━━━━━━━━━━━━━━━━━━━━━━━━━━━━━━━━━━━━━\u001b[0m \u001b[32m78.5/78.5 kB\u001b[0m \u001b[31m11.4 MB/s\u001b[0m eta \u001b[36m0:00:00\u001b[0m\n",
      "\u001b[?25hRequirement already satisfied: filelock in /Users/lessandro/Interview/virtualenv/lib/python3.10/site-packages (from datasets) (3.17.0)\n",
      "Requirement already satisfied: fsspec[http]<=2024.12.0,>=2023.1.0 in /Users/lessandro/Interview/virtualenv/lib/python3.10/site-packages (from datasets) (2024.12.0)\n",
      "Requirement already satisfied: pandas in /Users/lessandro/Interview/virtualenv/lib/python3.10/site-packages (from datasets) (2.2.3)\n",
      "Collecting pyarrow>=15.0.0\n",
      "  Downloading pyarrow-19.0.1-cp310-cp310-macosx_12_0_arm64.whl (30.7 MB)\n",
      "\u001b[2K     \u001b[90m━━━━━━━━━━━━━━━━━━━━━━━━━━━━━━━━━━━━━━━━\u001b[0m \u001b[32m30.7/30.7 MB\u001b[0m \u001b[31m30.0 MB/s\u001b[0m eta \u001b[36m0:00:00\u001b[0ma \u001b[36m0:00:01\u001b[0m\n",
      "\u001b[?25hRequirement already satisfied: pyyaml>=5.1 in /Users/lessandro/Interview/virtualenv/lib/python3.10/site-packages (from datasets) (6.0.2)\n",
      "Requirement already satisfied: packaging in /Users/lessandro/Interview/virtualenv/lib/python3.10/site-packages (from datasets) (24.2)\n",
      "Collecting aiohttp\n",
      "  Downloading aiohttp-3.11.12-cp310-cp310-macosx_11_0_arm64.whl (455 kB)\n",
      "\u001b[2K     \u001b[90m━━━━━━━━━━━━━━━━━━━━━━━━━━━━━━━━━━━━━━\u001b[0m \u001b[32m455.8/455.8 kB\u001b[0m \u001b[31m24.1 MB/s\u001b[0m eta \u001b[36m0:00:00\u001b[0m\n",
      "\u001b[?25hRequirement already satisfied: numpy>=1.17 in /Users/lessandro/Interview/virtualenv/lib/python3.10/site-packages (from datasets) (2.2.2)\n",
      "Requirement already satisfied: requests>=2.32.2 in /Users/lessandro/Interview/virtualenv/lib/python3.10/site-packages (from datasets) (2.32.3)\n",
      "Collecting multiprocess<0.70.17\n",
      "  Downloading multiprocess-0.70.16-py310-none-any.whl (134 kB)\n",
      "\u001b[2K     \u001b[90m━━━━━━━━━━━━━━━━━━━━━━━━━━━━━━━━━━━━━━\u001b[0m \u001b[32m134.8/134.8 kB\u001b[0m \u001b[31m19.5 MB/s\u001b[0m eta \u001b[36m0:00:00\u001b[0m\n",
      "\u001b[?25hCollecting dill<0.3.9,>=0.3.0\n",
      "  Downloading dill-0.3.8-py3-none-any.whl (116 kB)\n",
      "\u001b[2K     \u001b[90m━━━━━━━━━━━━━━━━━━━━━━━━━━━━━━━━━━━━━━\u001b[0m \u001b[32m116.3/116.3 kB\u001b[0m \u001b[31m11.6 MB/s\u001b[0m eta \u001b[36m0:00:00\u001b[0m\n",
      "Collecting huggingface-hub>=0.24.0\n",
      "  Downloading huggingface_hub-0.29.1-py3-none-any.whl (468 kB)\n",
      "\u001b[2K     \u001b[90m━━━━━━━━━━━━━━━━━━━━━━━━━━━━━━━━━━━━━━\u001b[0m \u001b[32m468.0/468.0 kB\u001b[0m \u001b[31m31.1 MB/s\u001b[0m eta \u001b[36m0:00:00\u001b[0m\n",
      "Collecting aiohappyeyeballs>=2.3.0\n",
      "  Downloading aiohappyeyeballs-2.4.6-py3-none-any.whl (14 kB)\n",
      "Collecting aiosignal>=1.1.2\n",
      "  Downloading aiosignal-1.3.2-py2.py3-none-any.whl (7.6 kB)\n",
      "Collecting yarl<2.0,>=1.17.0\n",
      "  Downloading yarl-1.18.3-cp310-cp310-macosx_11_0_arm64.whl (92 kB)\n",
      "\u001b[2K     \u001b[90m━━━━━━━━━━━━━━━━━━━━━━━━━━━━━━━━━━━━━━━━\u001b[0m \u001b[32m92.2/92.2 kB\u001b[0m \u001b[31m12.5 MB/s\u001b[0m eta \u001b[36m0:00:00\u001b[0m\n",
      "Collecting multidict<7.0,>=4.5\n",
      "  Downloading multidict-6.1.0-cp310-cp310-macosx_11_0_arm64.whl (29 kB)\n",
      "Collecting async-timeout<6.0,>=4.0\n",
      "  Downloading async_timeout-5.0.1-py3-none-any.whl (6.2 kB)\n",
      "Requirement already satisfied: attrs>=17.3.0 in /Users/lessandro/Interview/virtualenv/lib/python3.10/site-packages (from aiohttp->datasets) (25.1.0)\n",
      "Collecting frozenlist>=1.1.1\n",
      "  Downloading frozenlist-1.5.0-cp310-cp310-macosx_11_0_arm64.whl (52 kB)\n",
      "\u001b[2K     \u001b[90m━━━━━━━━━━━━━━━━━━━━━━━━━━━━━━━━━━━━━━━━\u001b[0m \u001b[32m52.2/52.2 kB\u001b[0m \u001b[31m7.5 MB/s\u001b[0m eta \u001b[36m0:00:00\u001b[0m\n",
      "Collecting propcache>=0.2.0\n",
      "  Downloading propcache-0.3.0-cp310-cp310-macosx_11_0_arm64.whl (45 kB)\n",
      "\u001b[2K     \u001b[90m━━━━━━━━━━━━━━━━━━━━━━━━━━━━━━━━━━━━━━━━\u001b[0m \u001b[32m45.4/45.4 kB\u001b[0m \u001b[31m3.9 MB/s\u001b[0m eta \u001b[36m0:00:00\u001b[0m\n",
      "Requirement already satisfied: typing-extensions>=3.7.4.3 in /Users/lessandro/Interview/virtualenv/lib/python3.10/site-packages (from huggingface-hub>=0.24.0->datasets) (4.12.2)\n",
      "Requirement already satisfied: certifi>=2017.4.17 in /Users/lessandro/Interview/virtualenv/lib/python3.10/site-packages (from requests>=2.32.2->datasets) (2024.12.14)\n",
      "Requirement already satisfied: urllib3<3,>=1.21.1 in /Users/lessandro/Interview/virtualenv/lib/python3.10/site-packages (from requests>=2.32.2->datasets) (2.3.0)\n",
      "Requirement already satisfied: idna<4,>=2.5 in /Users/lessandro/Interview/virtualenv/lib/python3.10/site-packages (from requests>=2.32.2->datasets) (3.10)\n",
      "Requirement already satisfied: charset-normalizer<4,>=2 in /Users/lessandro/Interview/virtualenv/lib/python3.10/site-packages (from requests>=2.32.2->datasets) (3.4.1)\n",
      "Requirement already satisfied: python-dateutil>=2.8.2 in /Users/lessandro/Interview/virtualenv/lib/python3.10/site-packages (from pandas->datasets) (2.9.0.post0)\n",
      "Requirement already satisfied: tzdata>=2022.7 in /Users/lessandro/Interview/virtualenv/lib/python3.10/site-packages (from pandas->datasets) (2025.1)\n",
      "Requirement already satisfied: pytz>=2020.1 in /Users/lessandro/Interview/virtualenv/lib/python3.10/site-packages (from pandas->datasets) (2025.1)\n",
      "Requirement already satisfied: six>=1.5 in /Users/lessandro/Interview/virtualenv/lib/python3.10/site-packages (from python-dateutil>=2.8.2->pandas->datasets) (1.17.0)\n",
      "Installing collected packages: xxhash, tqdm, pyarrow, propcache, multidict, frozenlist, dill, async-timeout, aiohappyeyeballs, yarl, multiprocess, huggingface-hub, aiosignal, aiohttp, datasets\n",
      "Successfully installed aiohappyeyeballs-2.4.6 aiohttp-3.11.12 aiosignal-1.3.2 async-timeout-5.0.1 datasets-3.3.2 dill-0.3.8 frozenlist-1.5.0 huggingface-hub-0.29.1 multidict-6.1.0 multiprocess-0.70.16 propcache-0.3.0 pyarrow-19.0.1 tqdm-4.67.1 xxhash-3.5.0 yarl-1.18.3\n",
      "\n",
      "\u001b[1m[\u001b[0m\u001b[34;49mnotice\u001b[0m\u001b[1;39;49m]\u001b[0m\u001b[39;49m A new release of pip available: \u001b[0m\u001b[31;49m22.3.1\u001b[0m\u001b[39;49m -> \u001b[0m\u001b[32;49m25.0.1\u001b[0m\n",
      "\u001b[1m[\u001b[0m\u001b[34;49mnotice\u001b[0m\u001b[1;39;49m]\u001b[0m\u001b[39;49m To update, run: \u001b[0m\u001b[32;49mpip install --upgrade pip\u001b[0m\n"
     ]
    }
   ],
   "source": [
    "!pip install datasets"
   ]
  },
  {
   "cell_type": "code",
   "execution_count": 4,
   "id": "f6d1091c-eef3-4d6f-9e6e-195f19051d19",
   "metadata": {},
   "outputs": [],
   "source": [
    "from datasets import load_dataset\n",
    "dataset = load_dataset(\"wikitext\", \"wikitext-2-raw-v1\")"
   ]
  },
  {
   "cell_type": "code",
   "execution_count": 5,
   "id": "9e83b222-c071-4506-aad9-25586052a0ef",
   "metadata": {},
   "outputs": [
    {
     "data": {
      "text/plain": [
       "DatasetDict({\n",
       "    test: Dataset({\n",
       "        features: ['text'],\n",
       "        num_rows: 4358\n",
       "    })\n",
       "    train: Dataset({\n",
       "        features: ['text'],\n",
       "        num_rows: 36718\n",
       "    })\n",
       "    validation: Dataset({\n",
       "        features: ['text'],\n",
       "        num_rows: 3760\n",
       "    })\n",
       "})"
      ]
     },
     "execution_count": 5,
     "metadata": {},
     "output_type": "execute_result"
    }
   ],
   "source": [
    "dataset"
   ]
  },
  {
   "cell_type": "code",
   "execution_count": 6,
   "id": "14859366-eba1-473e-9898-ad51b9c3f967",
   "metadata": {},
   "outputs": [],
   "source": [
    "text = ''.join(dataset['train']['text']) + ''.join(dataset['test']['text']) + ''.join(dataset['validation']['text']) "
   ]
  },
  {
   "cell_type": "code",
   "execution_count": 7,
   "id": "a8a572b5-adb7-4e77-a283-0e4791a35622",
   "metadata": {},
   "outputs": [
    {
     "data": {
      "text/plain": [
       "13320762"
      ]
     },
     "execution_count": 7,
     "metadata": {},
     "output_type": "execute_result"
    }
   ],
   "source": [
    "len(text)"
   ]
  },
  {
   "cell_type": "code",
   "execution_count": 8,
   "id": "66d8f62a-ddda-4d41-aaa9-0f8a5c085156",
   "metadata": {},
   "outputs": [],
   "source": [
    "tokenizer = Tokenizer(text[:50])"
   ]
  },
  {
   "cell_type": "code",
   "execution_count": 34,
   "id": "3587d866-e607-41bb-a882-be801535f52f",
   "metadata": {},
   "outputs": [],
   "source": [
    "tokenizer = Tokenizer(text, encoding_vocab_size=2200, raw_tokens=False, name=\"wikitext2\")"
   ]
  },
  {
   "cell_type": "code",
   "execution_count": null,
   "id": "2dbc5018-0113-44be-8ed9-c17a357050ff",
   "metadata": {},
   "outputs": [],
   "source": [
    "res = tokenizer.train()\n",
    "# 12:38"
   ]
  },
  {
   "cell_type": "code",
   "execution_count": 24,
   "id": "848b4ad0-fbaf-4e27-bb27-97351222d9e0",
   "metadata": {},
   "outputs": [],
   "source": [
    "tokenizer.save_to_file()"
   ]
  },
  {
   "cell_type": "code",
   "execution_count": 25,
   "id": "2895ba80-b233-4092-976d-39273b5eddf9",
   "metadata": {},
   "outputs": [
    {
     "name": "stdout",
     "output_type": "stream",
     "text": [
      "True\n",
      "[295, 346, 110, 105, 99, 271, 115]\n"
     ]
    }
   ],
   "source": [
    "print(\"Chronicles\"  == tokenizer.decode(tokenizer.encode(\"Chronicles\", raw_tokens=False), raw_tokens=False))\n",
    "print(tokenizer.encode(\"Chronicles\", raw_tokens=False))"
   ]
  },
  {
   "cell_type": "code",
   "execution_count": 26,
   "id": "3e93feb4-45d0-4833-a502-af75d06f6fcf",
   "metadata": {},
   "outputs": [],
   "source": [
    "tokenizer1 = Tokenizer(text[:1000], encoding_vocab_size=2000, raw_tokens=False)"
   ]
  },
  {
   "cell_type": "code",
   "execution_count": 28,
   "id": "eb32373a-8308-410c-8977-ce3acdcc055b",
   "metadata": {},
   "outputs": [
    {
     "name": "stdout",
     "output_type": "stream",
     "text": [
      "True\n",
      "[67, 104, 114, 111, 110, 105, 99, 108, 101, 115]\n"
     ]
    }
   ],
   "source": [
    "print(\"Chronicles\"  == tokenizer1.decode(tokenizer1.encode(\"Chronicles\", raw_tokens=False), raw_tokens=False))\n",
    "print(tokenizer1.encode(\"Chronicles\", raw_tokens=False))"
   ]
  },
  {
   "cell_type": "code",
   "execution_count": 29,
   "id": "cb27df72-0527-471b-ac5b-06bc633349c5",
   "metadata": {},
   "outputs": [],
   "source": [
    "tokenizer1.load_from_file()"
   ]
  },
  {
   "cell_type": "code",
   "execution_count": 30,
   "id": "b86a2d49-ff9c-4cd7-b1db-12c025c44d1b",
   "metadata": {},
   "outputs": [
    {
     "name": "stdout",
     "output_type": "stream",
     "text": [
      "True\n",
      "[295, 346, 110, 105, 99, 271, 115]\n"
     ]
    }
   ],
   "source": [
    "print(\"Chronicles\"  == tokenizer1.decode(tokenizer1.encode(\"Chronicles\", raw_tokens=False), raw_tokens=False))\n",
    "print(tokenizer1.encode(\"Chronicles\", raw_tokens=False))"
   ]
  },
  {
   "cell_type": "code",
   "execution_count": null,
   "id": "4dbfcdd5-e89c-4e4b-93a7-9aae41029d8c",
   "metadata": {},
   "outputs": [],
   "source": []
  }
 ],
 "metadata": {
  "kernelspec": {
   "display_name": "Python 3 (ipykernel)",
   "language": "python",
   "name": "python3"
  },
  "language_info": {
   "codemirror_mode": {
    "name": "ipython",
    "version": 3
   },
   "file_extension": ".py",
   "mimetype": "text/x-python",
   "name": "python",
   "nbconvert_exporter": "python",
   "pygments_lexer": "ipython3",
   "version": "3.11.7"
  }
 },
 "nbformat": 4,
 "nbformat_minor": 5
}
